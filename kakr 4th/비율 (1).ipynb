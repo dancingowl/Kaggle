{
 "cells": [
  {
   "cell_type": "code",
   "execution_count": 8,
   "metadata": {
    "ExecuteTime": {
     "end_time": "2020-11-02T09:52:33.117830Z",
     "start_time": "2020-11-02T09:52:33.098246Z"
    },
    "scrolled": true
   },
   "outputs": [],
   "source": [
    "# 데이터 분석 라이브러리\n",
    "import numpy as np\n",
    "import pandas as pd\n",
    "\n",
    "# 시각화 라이브러리\n",
    "import matplotlib as mpl\n",
    "import matplotlib.pyplot as plt\n",
    "import seaborn as sns\n",
    "from plotnine import *\n",
    "\n",
    "# 모델링 라이브러리\n",
    "from category_encoders.ordinal import OrdinalEncoder\n",
    "from sklearn.model_selection import KFold\n",
    "from lightgbm import LGBMClassifier\n",
    "\n",
    "# 기타 라이브러리\n",
    "import random\n",
    "import gc\n",
    "import os\n",
    "\n",
    "from tqdm import trange\n",
    "from tqdm import tqdm\n",
    "from tqdm import tqdm_notebook, tnrange\n",
    "import time"
   ]
  },
  {
   "cell_type": "code",
   "execution_count": 9,
   "metadata": {
    "ExecuteTime": {
     "end_time": "2020-11-02T09:52:34.307410Z",
     "start_time": "2020-11-02T09:52:34.230742Z"
    }
   },
   "outputs": [],
   "source": [
    "test = pd.read_csv(\"test.csv\")\n",
    "\n",
    "train = pd.read_csv(\"train.csv\")\n",
    "\n",
    "sample_submission = pd.read_csv(\"sample_submission.csv\")"
   ]
  },
  {
   "cell_type": "code",
   "execution_count": 4,
   "metadata": {
    "ExecuteTime": {
     "end_time": "2020-11-02T09:47:36.391964Z",
     "start_time": "2020-11-02T09:47:36.360938Z"
    }
   },
   "outputs": [],
   "source": [
    "import itertools\n",
    "\n",
    "train['num'] = 1\n",
    "\n",
    "train.drop('id', axis=1, inplace=True)\n",
    "\n",
    "train.drop('fnlwgt', axis=1, inplace=True)\n",
    "\n",
    "train.drop('education_num', axis=1, inplace=True)\n",
    "\n",
    "col_lst = ['age', 'workclass', 'education', 'marital_status', 'occupation','relationship', 'race', 'sex', \n",
    " 'capital_gain', 'capital_loss','hours_per_week', 'native_country']\n",
    "\n",
    "total_total = []"
   ]
  },
  {
   "cell_type": "code",
   "execution_count": 5,
   "metadata": {
    "ExecuteTime": {
     "end_time": "2020-11-02T09:48:21.561208Z",
     "start_time": "2020-11-02T09:47:36.392975Z"
    }
   },
   "outputs": [],
   "source": [
    "for i in range(len(list(itertools.combinations(col_lst,2)))):    \n",
    "    #train[list(list(itertools.combinations(col_lst,2))[i]) +['income','num']]\n",
    "\n",
    "    df_groupby =train.groupby(list(list(itertools.combinations(col_lst,2))[i]) +['income'],as_index=False)[['num']].sum()\n",
    "\n",
    "    #print(df_groupby)\n",
    "    \n",
    "    lst = []\n",
    "    for idx, data in df_groupby.iterrows():\n",
    "        lst.append(data)\n",
    "        \n",
    "    df_groupby_col = df_groupby.columns.tolist()\n",
    "    \n",
    "    df_groupby_up_list = []\n",
    "    for i in range(len(lst)):\n",
    "        #print(lst[i])\n",
    "        df_groupby_dn = df_groupby[(df_groupby[df_groupby_col[0]] == lst[i][0]) & (df_groupby[df_groupby_col[1]] == lst[i][1])\\\n",
    "                  &(df_groupby.income== '<=50K')]\n",
    "        df_groupby_up = df_groupby[(df_groupby[df_groupby_col[0]] == lst[i][0]) & (df_groupby[df_groupby_col[1]] == lst[i][1])\\\n",
    "                  &(df_groupby.income== '>50K')]\n",
    "        try:\n",
    "            df_groupby_up_portion = df_groupby_up.num.values[0]/(df_groupby_up.num.values[0]+df_groupby_dn.num.values[0])\n",
    "            #print(df_groupby_up_portion)\n",
    "        except:\n",
    "            df_groupby_up_portion = 0\n",
    "            #print(df_groupby_up_portion)\n",
    "            \n",
    "                    \n",
    "        df_groupby_up_list.append(df_groupby_up_portion)\n",
    "        \n",
    "    df_groupby.drop(['income','num'], axis=1, inplace=True)\n",
    "    abc = df_groupby.columns.tolist()\n",
    "    df_groupby[abc[0]+'_'+abc[1]+'_up_protion'] = df_groupby_up_list\n",
    "    total = df_groupby \n",
    "    total_total.append(total)"
   ]
  },
  {
   "cell_type": "code",
   "execution_count": 6,
   "metadata": {
    "ExecuteTime": {
     "end_time": "2020-11-02T09:48:21.592793Z",
     "start_time": "2020-11-02T09:48:21.563206Z"
    }
   },
   "outputs": [
    {
     "ename": "SyntaxError",
     "evalue": "'break' outside loop (<ipython-input-6-6aaf1f276005>, line 1)",
     "output_type": "error",
     "traceback": [
      "\u001b[1;36m  File \u001b[1;32m\"<ipython-input-6-6aaf1f276005>\"\u001b[1;36m, line \u001b[1;32m1\u001b[0m\n\u001b[1;33m    break\u001b[0m\n\u001b[1;37m    ^\u001b[0m\n\u001b[1;31mSyntaxError\u001b[0m\u001b[1;31m:\u001b[0m 'break' outside loop\n"
     ]
    }
   ],
   "source": [
    "break"
   ]
  },
  {
   "cell_type": "code",
   "execution_count": null,
   "metadata": {
    "ExecuteTime": {
     "end_time": "2020-11-02T09:48:21.599794Z",
     "start_time": "2020-11-02T09:47:29.788Z"
    }
   },
   "outputs": [],
   "source": [
    "for i in range(0, len(total_total)):    \n",
    "    train = pd.merge(train, total_total[i], on=total_total[i].columns.tolist()[:-1], how='right')    \n",
    "paseng_df = train    \n",
    "    "
   ]
  },
  {
   "cell_type": "code",
   "execution_count": null,
   "metadata": {
    "ExecuteTime": {
     "end_time": "2020-11-02T09:48:21.601795Z",
     "start_time": "2020-11-02T09:47:29.791Z"
    }
   },
   "outputs": [],
   "source": [
    "for i in range(len(total_total)):\n",
    "    print(i)"
   ]
  },
  {
   "cell_type": "code",
   "execution_count": 10,
   "metadata": {
    "ExecuteTime": {
     "end_time": "2020-11-02T09:52:38.716619Z",
     "start_time": "2020-11-02T09:52:37.234837Z"
    }
   },
   "outputs": [],
   "source": [
    "#라이브러리 호출\n",
    "import numpy as np\n",
    "import pandas as pd\n",
    "from tqdm import trange\n",
    "from tqdm import tqdm\n",
    "from tqdm import tqdm_notebook, tnrange\n",
    "import time\n",
    "\n",
    "\n",
    "###############train에서 필요없는 컬럼제거\n",
    "train['num'] = 1\n",
    "\n",
    "train.drop('id', axis=1, inplace=True)\n",
    "\n",
    "train.drop('fnlwgt', axis=1, inplace=True)\n",
    "\n",
    "train.drop('education_num', axis=1, inplace=True)\n",
    "\n",
    "##########################컬럼선택\n",
    "\n",
    "\n",
    "case = train.groupby(train.columns.tolist()[:-1],as_index=False)[['num']].sum()\n",
    "\n",
    "lst = []\n",
    "for idx, data in case.iterrows():\n",
    "    lst.append(data)\n",
    "\n",
    "def case_col_num_12():\n",
    "    case_up_income_portion_list = []\n",
    "    for i in tqdm_notebook(range(len(lst)), desc='진행도'):\n",
    "        case_dn = case[(case.age == lst[i][0])&(case.workclass== lst[i][1])&(case.education== lst[i][2])&(case.marital_status== lst[i][3])\\\n",
    "        &(case.occupation== lst[i][4])&(case.relationship== lst[i][5])&(case.race== lst[i][6])&(case.sex== lst[i][7])\\\n",
    "        &(case.capital_gain== lst[i][8])&(case.capital_loss== lst[i][9])&(case.hours_per_week== lst[i][10])\\\n",
    "        &(case.native_country== lst[i][11])&(case.income== '<=50K')]\n",
    "\n",
    "        case_up = case[(case.age == lst[i][0])&(case.workclass== lst[i][1])&(case.education== lst[i][2])&(case.marital_status== lst[i][3])\\\n",
    "        &(case.occupation== lst[i][4])&(case.relationship== lst[i][5])&(case.race== lst[i][6])&(case.sex== lst[i][7])\\\n",
    "        &(case.capital_gain== lst[i][8])&(case.capital_loss== lst[i][9])&(case.hours_per_week== lst[i][10])\\\n",
    "        &(case.native_country== lst[i][11])&(case.income== '>50K')]\n",
    "\n",
    "        case_up_income_portion = len(case_up)*100/(len(case_up)+len(case_dn))\n",
    "\n",
    "        case_up_income_portion_list.append(case_up_income_portion)\n",
    "        return case_up_income_portion_list"
   ]
  },
  {
   "cell_type": "code",
   "execution_count": 12,
   "metadata": {
    "ExecuteTime": {
     "end_time": "2020-11-02T09:55:53.249473Z",
     "start_time": "2020-11-02T09:55:53.187465Z"
    }
   },
   "outputs": [
    {
     "name": "stderr",
     "output_type": "stream",
     "text": [
      "<ipython-input-10-6f8c1f2e8f74>:30: TqdmDeprecationWarning: This function will be removed in tqdm==5.0.0\n",
      "Please use `tqdm.notebook.tqdm` instead of `tqdm.tqdm_notebook`\n"
     ]
    },
    {
     "data": {
      "application/vnd.jupyter.widget-view+json": {
       "model_id": "8902b670f426494e81c6d64f58eb65c2",
       "version_major": 2,
       "version_minor": 0
      },
      "text/plain": [
       "HBox(children=(FloatProgress(value=0.0, description='진행도', max=23644.0, style=ProgressStyle(description_width=…"
      ]
     },
     "metadata": {},
     "output_type": "display_data"
    },
    {
     "name": "stdout",
     "output_type": "stream",
     "text": [
      "\n"
     ]
    }
   ],
   "source": [
    "dfdf = case_col_num_12()"
   ]
  },
  {
   "cell_type": "code",
   "execution_count": null,
   "metadata": {},
   "outputs": [],
   "source": []
  }
 ],
 "metadata": {
  "hide_input": false,
  "kernelspec": {
   "display_name": "Python 3",
   "language": "python",
   "name": "python3"
  },
  "language_info": {
   "codemirror_mode": {
    "name": "ipython",
    "version": 3
   },
   "file_extension": ".py",
   "mimetype": "text/x-python",
   "name": "python",
   "nbconvert_exporter": "python",
   "pygments_lexer": "ipython3",
   "version": "3.8.3"
  },
  "toc": {
   "base_numbering": 1,
   "nav_menu": {},
   "number_sections": true,
   "sideBar": true,
   "skip_h1_title": false,
   "title_cell": "Table of Contents",
   "title_sidebar": "Contents",
   "toc_cell": false,
   "toc_position": {},
   "toc_section_display": true,
   "toc_window_display": false
  },
  "varInspector": {
   "cols": {
    "lenName": 16,
    "lenType": 16,
    "lenVar": 40
   },
   "kernels_config": {
    "python": {
     "delete_cmd_postfix": "",
     "delete_cmd_prefix": "del ",
     "library": "var_list.py",
     "varRefreshCmd": "print(var_dic_list())"
    },
    "r": {
     "delete_cmd_postfix": ") ",
     "delete_cmd_prefix": "rm(",
     "library": "var_list.r",
     "varRefreshCmd": "cat(var_dic_list()) "
    }
   },
   "types_to_exclude": [
    "module",
    "function",
    "builtin_function_or_method",
    "instance",
    "_Feature"
   ],
   "window_display": false
  }
 },
 "nbformat": 4,
 "nbformat_minor": 4
}
