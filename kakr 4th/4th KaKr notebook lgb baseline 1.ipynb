{
 "cells": [
  {
   "cell_type": "markdown",
   "metadata": {},
   "source": [
    "# [[T-Academy X KaKr] 성인 인구조사 소득 예측 대회](https://www.kaggle.com/c/kakr-4th-competition)\n"
   ]
  },
  {
   "cell_type": "markdown",
   "metadata": {},
   "source": [
    "## 라이브러리"
   ]
  },
  {
   "cell_type": "code",
   "execution_count": 57,
   "metadata": {
    "ExecuteTime": {
     "end_time": "2020-11-03T00:50:52.307942Z",
     "start_time": "2020-11-03T00:50:52.291735Z"
    }
   },
   "outputs": [],
   "source": [
    "import numpy as np\n",
    "import pandas as pd\n",
    "import matplotlib.pyplot as plt\n",
    "import seaborn as sns\n",
    "\n",
    "from sklearn.model_selection import train_test_split, GridSearchCV, cross_val_score\n",
    "from sklearn.preprocessing import StandardScaler, LabelEncoder\n",
    "from sklearn.preprocessing import MinMaxScaler\n",
    "from sklearn.preprocessing import QuantileTransformer\n",
    "\n",
    "from sklearn.tree import DecisionTreeClassifier\n",
    "from sklearn.ensemble import RandomForestClassifier\n",
    "from lightgbm import LGBMClassifier\n",
    "\n",
    "from sklearn.metrics import accuracy_score ,f1_score, precision_score, recall_score\n",
    "from sklearn.metrics import classification_report, confusion_matrix\n",
    "from sklearn.metrics import roc_auc_score, roc_curve, precision_recall_curve\n",
    "\n",
    "import time\n",
    "import os\n",
    "\n",
    "import sys, gc, warnings, random, datetime"
   ]
  },
  {
   "cell_type": "code",
   "execution_count": 2,
   "metadata": {
    "ExecuteTime": {
     "end_time": "2020-11-03T00:47:45.901160Z",
     "start_time": "2020-11-03T00:47:45.887131Z"
    }
   },
   "outputs": [],
   "source": [
    "# !kaggle competitions download -c kakr-4th-competition"
   ]
  },
  {
   "cell_type": "code",
   "execution_count": 3,
   "metadata": {
    "ExecuteTime": {
     "end_time": "2020-11-03T00:47:45.917164Z",
     "start_time": "2020-11-03T00:47:45.903132Z"
    }
   },
   "outputs": [],
   "source": [
    "pd.options.display.float_format = '{:.3f}'.format"
   ]
  },
  {
   "cell_type": "code",
   "execution_count": 4,
   "metadata": {
    "ExecuteTime": {
     "end_time": "2020-11-03T00:47:46.012446Z",
     "start_time": "2020-11-03T00:47:45.919131Z"
    }
   },
   "outputs": [],
   "source": [
    "train_origin = pd.read_csv('train.csv')\n",
    "test_origin = pd.read_csv('test.csv')\n",
    "submission_origin = pd.read_csv('sample_submission.csv')"
   ]
  },
  {
   "cell_type": "code",
   "execution_count": 5,
   "metadata": {
    "ExecuteTime": {
     "end_time": "2020-11-03T00:47:46.028447Z",
     "start_time": "2020-11-03T00:47:46.013448Z"
    }
   },
   "outputs": [],
   "source": [
    "train = train_origin.copy()\n",
    "test = test_origin.copy()\n",
    "submission = submission_origin.copy()"
   ]
  },
  {
   "cell_type": "markdown",
   "metadata": {},
   "source": [
    "## 기본 정보"
   ]
  },
  {
   "cell_type": "code",
   "execution_count": 6,
   "metadata": {
    "ExecuteTime": {
     "end_time": "2020-11-03T00:47:46.044445Z",
     "start_time": "2020-11-03T00:47:46.030447Z"
    }
   },
   "outputs": [
    {
     "name": "stdout",
     "output_type": "stream",
     "text": [
      "(26049, 16)\n",
      "(6512, 15)\n"
     ]
    }
   ],
   "source": [
    "print(train.shape)\n",
    "print(test.shape)"
   ]
  },
  {
   "cell_type": "code",
   "execution_count": 7,
   "metadata": {
    "ExecuteTime": {
     "end_time": "2020-11-03T00:47:46.074447Z",
     "start_time": "2020-11-03T00:47:46.046446Z"
    }
   },
   "outputs": [
    {
     "data": {
      "text/html": [
       "<div>\n",
       "<style scoped>\n",
       "    .dataframe tbody tr th:only-of-type {\n",
       "        vertical-align: middle;\n",
       "    }\n",
       "\n",
       "    .dataframe tbody tr th {\n",
       "        vertical-align: top;\n",
       "    }\n",
       "\n",
       "    .dataframe thead th {\n",
       "        text-align: right;\n",
       "    }\n",
       "</style>\n",
       "<table border=\"1\" class=\"dataframe\">\n",
       "  <thead>\n",
       "    <tr style=\"text-align: right;\">\n",
       "      <th></th>\n",
       "      <th>id</th>\n",
       "      <th>age</th>\n",
       "      <th>workclass</th>\n",
       "      <th>fnlwgt</th>\n",
       "      <th>education</th>\n",
       "      <th>education_num</th>\n",
       "      <th>marital_status</th>\n",
       "      <th>occupation</th>\n",
       "      <th>relationship</th>\n",
       "      <th>race</th>\n",
       "      <th>sex</th>\n",
       "      <th>capital_gain</th>\n",
       "      <th>capital_loss</th>\n",
       "      <th>hours_per_week</th>\n",
       "      <th>native_country</th>\n",
       "      <th>income</th>\n",
       "    </tr>\n",
       "  </thead>\n",
       "  <tbody>\n",
       "    <tr>\n",
       "      <th>0</th>\n",
       "      <td>0</td>\n",
       "      <td>40</td>\n",
       "      <td>Private</td>\n",
       "      <td>168538</td>\n",
       "      <td>HS-grad</td>\n",
       "      <td>9</td>\n",
       "      <td>Married-civ-spouse</td>\n",
       "      <td>Sales</td>\n",
       "      <td>Husband</td>\n",
       "      <td>White</td>\n",
       "      <td>Male</td>\n",
       "      <td>0</td>\n",
       "      <td>0</td>\n",
       "      <td>60</td>\n",
       "      <td>United-States</td>\n",
       "      <td>&gt;50K</td>\n",
       "    </tr>\n",
       "    <tr>\n",
       "      <th>1</th>\n",
       "      <td>1</td>\n",
       "      <td>17</td>\n",
       "      <td>Private</td>\n",
       "      <td>101626</td>\n",
       "      <td>9th</td>\n",
       "      <td>5</td>\n",
       "      <td>Never-married</td>\n",
       "      <td>Machine-op-inspct</td>\n",
       "      <td>Own-child</td>\n",
       "      <td>White</td>\n",
       "      <td>Male</td>\n",
       "      <td>0</td>\n",
       "      <td>0</td>\n",
       "      <td>20</td>\n",
       "      <td>United-States</td>\n",
       "      <td>&lt;=50K</td>\n",
       "    </tr>\n",
       "    <tr>\n",
       "      <th>2</th>\n",
       "      <td>2</td>\n",
       "      <td>18</td>\n",
       "      <td>Private</td>\n",
       "      <td>353358</td>\n",
       "      <td>Some-college</td>\n",
       "      <td>10</td>\n",
       "      <td>Never-married</td>\n",
       "      <td>Other-service</td>\n",
       "      <td>Own-child</td>\n",
       "      <td>White</td>\n",
       "      <td>Male</td>\n",
       "      <td>0</td>\n",
       "      <td>0</td>\n",
       "      <td>16</td>\n",
       "      <td>United-States</td>\n",
       "      <td>&lt;=50K</td>\n",
       "    </tr>\n",
       "    <tr>\n",
       "      <th>3</th>\n",
       "      <td>3</td>\n",
       "      <td>21</td>\n",
       "      <td>Private</td>\n",
       "      <td>151158</td>\n",
       "      <td>Some-college</td>\n",
       "      <td>10</td>\n",
       "      <td>Never-married</td>\n",
       "      <td>Prof-specialty</td>\n",
       "      <td>Own-child</td>\n",
       "      <td>White</td>\n",
       "      <td>Female</td>\n",
       "      <td>0</td>\n",
       "      <td>0</td>\n",
       "      <td>25</td>\n",
       "      <td>United-States</td>\n",
       "      <td>&lt;=50K</td>\n",
       "    </tr>\n",
       "    <tr>\n",
       "      <th>4</th>\n",
       "      <td>4</td>\n",
       "      <td>24</td>\n",
       "      <td>Private</td>\n",
       "      <td>122234</td>\n",
       "      <td>Some-college</td>\n",
       "      <td>10</td>\n",
       "      <td>Never-married</td>\n",
       "      <td>Adm-clerical</td>\n",
       "      <td>Not-in-family</td>\n",
       "      <td>Black</td>\n",
       "      <td>Female</td>\n",
       "      <td>0</td>\n",
       "      <td>0</td>\n",
       "      <td>20</td>\n",
       "      <td>?</td>\n",
       "      <td>&lt;=50K</td>\n",
       "    </tr>\n",
       "    <tr>\n",
       "      <th>...</th>\n",
       "      <td>...</td>\n",
       "      <td>...</td>\n",
       "      <td>...</td>\n",
       "      <td>...</td>\n",
       "      <td>...</td>\n",
       "      <td>...</td>\n",
       "      <td>...</td>\n",
       "      <td>...</td>\n",
       "      <td>...</td>\n",
       "      <td>...</td>\n",
       "      <td>...</td>\n",
       "      <td>...</td>\n",
       "      <td>...</td>\n",
       "      <td>...</td>\n",
       "      <td>...</td>\n",
       "      <td>...</td>\n",
       "    </tr>\n",
       "    <tr>\n",
       "      <th>26044</th>\n",
       "      <td>26044</td>\n",
       "      <td>57</td>\n",
       "      <td>Private</td>\n",
       "      <td>250201</td>\n",
       "      <td>11th</td>\n",
       "      <td>7</td>\n",
       "      <td>Married-civ-spouse</td>\n",
       "      <td>Other-service</td>\n",
       "      <td>Husband</td>\n",
       "      <td>White</td>\n",
       "      <td>Male</td>\n",
       "      <td>0</td>\n",
       "      <td>0</td>\n",
       "      <td>52</td>\n",
       "      <td>United-States</td>\n",
       "      <td>&lt;=50K</td>\n",
       "    </tr>\n",
       "    <tr>\n",
       "      <th>26045</th>\n",
       "      <td>26045</td>\n",
       "      <td>23</td>\n",
       "      <td>Private</td>\n",
       "      <td>238092</td>\n",
       "      <td>Bachelors</td>\n",
       "      <td>13</td>\n",
       "      <td>Never-married</td>\n",
       "      <td>Prof-specialty</td>\n",
       "      <td>Own-child</td>\n",
       "      <td>White</td>\n",
       "      <td>Male</td>\n",
       "      <td>0</td>\n",
       "      <td>0</td>\n",
       "      <td>40</td>\n",
       "      <td>United-States</td>\n",
       "      <td>&lt;=50K</td>\n",
       "    </tr>\n",
       "    <tr>\n",
       "      <th>26046</th>\n",
       "      <td>26046</td>\n",
       "      <td>78</td>\n",
       "      <td>?</td>\n",
       "      <td>165694</td>\n",
       "      <td>Masters</td>\n",
       "      <td>14</td>\n",
       "      <td>Widowed</td>\n",
       "      <td>?</td>\n",
       "      <td>Not-in-family</td>\n",
       "      <td>White</td>\n",
       "      <td>Female</td>\n",
       "      <td>0</td>\n",
       "      <td>0</td>\n",
       "      <td>15</td>\n",
       "      <td>United-States</td>\n",
       "      <td>&lt;=50K</td>\n",
       "    </tr>\n",
       "    <tr>\n",
       "      <th>26047</th>\n",
       "      <td>26047</td>\n",
       "      <td>26</td>\n",
       "      <td>Self-emp-not-inc</td>\n",
       "      <td>151626</td>\n",
       "      <td>HS-grad</td>\n",
       "      <td>9</td>\n",
       "      <td>Never-married</td>\n",
       "      <td>Prof-specialty</td>\n",
       "      <td>Own-child</td>\n",
       "      <td>Black</td>\n",
       "      <td>Female</td>\n",
       "      <td>0</td>\n",
       "      <td>0</td>\n",
       "      <td>40</td>\n",
       "      <td>United-States</td>\n",
       "      <td>&lt;=50K</td>\n",
       "    </tr>\n",
       "    <tr>\n",
       "      <th>26048</th>\n",
       "      <td>26048</td>\n",
       "      <td>20</td>\n",
       "      <td>?</td>\n",
       "      <td>99891</td>\n",
       "      <td>Some-college</td>\n",
       "      <td>10</td>\n",
       "      <td>Never-married</td>\n",
       "      <td>?</td>\n",
       "      <td>Own-child</td>\n",
       "      <td>White</td>\n",
       "      <td>Female</td>\n",
       "      <td>0</td>\n",
       "      <td>0</td>\n",
       "      <td>30</td>\n",
       "      <td>United-States</td>\n",
       "      <td>&lt;=50K</td>\n",
       "    </tr>\n",
       "  </tbody>\n",
       "</table>\n",
       "<p>26049 rows × 16 columns</p>\n",
       "</div>"
      ],
      "text/plain": [
       "          id  age         workclass  fnlwgt     education  education_num  \\\n",
       "0          0   40           Private  168538       HS-grad              9   \n",
       "1          1   17           Private  101626           9th              5   \n",
       "2          2   18           Private  353358  Some-college             10   \n",
       "3          3   21           Private  151158  Some-college             10   \n",
       "4          4   24           Private  122234  Some-college             10   \n",
       "...      ...  ...               ...     ...           ...            ...   \n",
       "26044  26044   57           Private  250201          11th              7   \n",
       "26045  26045   23           Private  238092     Bachelors             13   \n",
       "26046  26046   78                 ?  165694       Masters             14   \n",
       "26047  26047   26  Self-emp-not-inc  151626       HS-grad              9   \n",
       "26048  26048   20                 ?   99891  Some-college             10   \n",
       "\n",
       "           marital_status         occupation   relationship   race     sex  \\\n",
       "0      Married-civ-spouse              Sales        Husband  White    Male   \n",
       "1           Never-married  Machine-op-inspct      Own-child  White    Male   \n",
       "2           Never-married      Other-service      Own-child  White    Male   \n",
       "3           Never-married     Prof-specialty      Own-child  White  Female   \n",
       "4           Never-married       Adm-clerical  Not-in-family  Black  Female   \n",
       "...                   ...                ...            ...    ...     ...   \n",
       "26044  Married-civ-spouse      Other-service        Husband  White    Male   \n",
       "26045       Never-married     Prof-specialty      Own-child  White    Male   \n",
       "26046             Widowed                  ?  Not-in-family  White  Female   \n",
       "26047       Never-married     Prof-specialty      Own-child  Black  Female   \n",
       "26048       Never-married                  ?      Own-child  White  Female   \n",
       "\n",
       "       capital_gain  capital_loss  hours_per_week native_country income  \n",
       "0                 0             0              60  United-States   >50K  \n",
       "1                 0             0              20  United-States  <=50K  \n",
       "2                 0             0              16  United-States  <=50K  \n",
       "3                 0             0              25  United-States  <=50K  \n",
       "4                 0             0              20              ?  <=50K  \n",
       "...             ...           ...             ...            ...    ...  \n",
       "26044             0             0              52  United-States  <=50K  \n",
       "26045             0             0              40  United-States  <=50K  \n",
       "26046             0             0              15  United-States  <=50K  \n",
       "26047             0             0              40  United-States  <=50K  \n",
       "26048             0             0              30  United-States  <=50K  \n",
       "\n",
       "[26049 rows x 16 columns]"
      ]
     },
     "execution_count": 7,
     "metadata": {},
     "output_type": "execute_result"
    }
   ],
   "source": [
    "train"
   ]
  },
  {
   "cell_type": "code",
   "execution_count": 8,
   "metadata": {
    "ExecuteTime": {
     "end_time": "2020-11-03T00:47:46.105446Z",
     "start_time": "2020-11-03T00:47:46.076447Z"
    }
   },
   "outputs": [
    {
     "data": {
      "text/html": [
       "<div>\n",
       "<style scoped>\n",
       "    .dataframe tbody tr th:only-of-type {\n",
       "        vertical-align: middle;\n",
       "    }\n",
       "\n",
       "    .dataframe tbody tr th {\n",
       "        vertical-align: top;\n",
       "    }\n",
       "\n",
       "    .dataframe thead th {\n",
       "        text-align: right;\n",
       "    }\n",
       "</style>\n",
       "<table border=\"1\" class=\"dataframe\">\n",
       "  <thead>\n",
       "    <tr style=\"text-align: right;\">\n",
       "      <th></th>\n",
       "      <th>id</th>\n",
       "      <th>age</th>\n",
       "      <th>workclass</th>\n",
       "      <th>fnlwgt</th>\n",
       "      <th>education</th>\n",
       "      <th>education_num</th>\n",
       "      <th>marital_status</th>\n",
       "      <th>occupation</th>\n",
       "      <th>relationship</th>\n",
       "      <th>race</th>\n",
       "      <th>sex</th>\n",
       "      <th>capital_gain</th>\n",
       "      <th>capital_loss</th>\n",
       "      <th>hours_per_week</th>\n",
       "      <th>native_country</th>\n",
       "    </tr>\n",
       "  </thead>\n",
       "  <tbody>\n",
       "    <tr>\n",
       "      <th>0</th>\n",
       "      <td>0</td>\n",
       "      <td>28</td>\n",
       "      <td>Private</td>\n",
       "      <td>67661</td>\n",
       "      <td>Some-college</td>\n",
       "      <td>10</td>\n",
       "      <td>Never-married</td>\n",
       "      <td>Adm-clerical</td>\n",
       "      <td>Other-relative</td>\n",
       "      <td>White</td>\n",
       "      <td>Female</td>\n",
       "      <td>0</td>\n",
       "      <td>0</td>\n",
       "      <td>40</td>\n",
       "      <td>United-States</td>\n",
       "    </tr>\n",
       "    <tr>\n",
       "      <th>1</th>\n",
       "      <td>1</td>\n",
       "      <td>40</td>\n",
       "      <td>Self-emp-inc</td>\n",
       "      <td>37869</td>\n",
       "      <td>HS-grad</td>\n",
       "      <td>9</td>\n",
       "      <td>Married-civ-spouse</td>\n",
       "      <td>Exec-managerial</td>\n",
       "      <td>Husband</td>\n",
       "      <td>White</td>\n",
       "      <td>Male</td>\n",
       "      <td>0</td>\n",
       "      <td>0</td>\n",
       "      <td>50</td>\n",
       "      <td>United-States</td>\n",
       "    </tr>\n",
       "    <tr>\n",
       "      <th>2</th>\n",
       "      <td>2</td>\n",
       "      <td>20</td>\n",
       "      <td>Private</td>\n",
       "      <td>109952</td>\n",
       "      <td>Some-college</td>\n",
       "      <td>10</td>\n",
       "      <td>Never-married</td>\n",
       "      <td>Handlers-cleaners</td>\n",
       "      <td>Own-child</td>\n",
       "      <td>White</td>\n",
       "      <td>Male</td>\n",
       "      <td>0</td>\n",
       "      <td>0</td>\n",
       "      <td>25</td>\n",
       "      <td>United-States</td>\n",
       "    </tr>\n",
       "    <tr>\n",
       "      <th>3</th>\n",
       "      <td>3</td>\n",
       "      <td>40</td>\n",
       "      <td>Private</td>\n",
       "      <td>114537</td>\n",
       "      <td>Assoc-voc</td>\n",
       "      <td>11</td>\n",
       "      <td>Married-civ-spouse</td>\n",
       "      <td>Exec-managerial</td>\n",
       "      <td>Husband</td>\n",
       "      <td>White</td>\n",
       "      <td>Male</td>\n",
       "      <td>0</td>\n",
       "      <td>0</td>\n",
       "      <td>50</td>\n",
       "      <td>United-States</td>\n",
       "    </tr>\n",
       "    <tr>\n",
       "      <th>4</th>\n",
       "      <td>4</td>\n",
       "      <td>37</td>\n",
       "      <td>Private</td>\n",
       "      <td>51264</td>\n",
       "      <td>Doctorate</td>\n",
       "      <td>16</td>\n",
       "      <td>Married-civ-spouse</td>\n",
       "      <td>Prof-specialty</td>\n",
       "      <td>Husband</td>\n",
       "      <td>White</td>\n",
       "      <td>Male</td>\n",
       "      <td>0</td>\n",
       "      <td>0</td>\n",
       "      <td>99</td>\n",
       "      <td>France</td>\n",
       "    </tr>\n",
       "    <tr>\n",
       "      <th>...</th>\n",
       "      <td>...</td>\n",
       "      <td>...</td>\n",
       "      <td>...</td>\n",
       "      <td>...</td>\n",
       "      <td>...</td>\n",
       "      <td>...</td>\n",
       "      <td>...</td>\n",
       "      <td>...</td>\n",
       "      <td>...</td>\n",
       "      <td>...</td>\n",
       "      <td>...</td>\n",
       "      <td>...</td>\n",
       "      <td>...</td>\n",
       "      <td>...</td>\n",
       "      <td>...</td>\n",
       "    </tr>\n",
       "    <tr>\n",
       "      <th>6507</th>\n",
       "      <td>6507</td>\n",
       "      <td>35</td>\n",
       "      <td>Private</td>\n",
       "      <td>61343</td>\n",
       "      <td>Bachelors</td>\n",
       "      <td>13</td>\n",
       "      <td>Married-civ-spouse</td>\n",
       "      <td>Sales</td>\n",
       "      <td>Husband</td>\n",
       "      <td>White</td>\n",
       "      <td>Male</td>\n",
       "      <td>0</td>\n",
       "      <td>0</td>\n",
       "      <td>40</td>\n",
       "      <td>United-States</td>\n",
       "    </tr>\n",
       "    <tr>\n",
       "      <th>6508</th>\n",
       "      <td>6508</td>\n",
       "      <td>41</td>\n",
       "      <td>Self-emp-inc</td>\n",
       "      <td>32185</td>\n",
       "      <td>Bachelors</td>\n",
       "      <td>13</td>\n",
       "      <td>Married-civ-spouse</td>\n",
       "      <td>Tech-support</td>\n",
       "      <td>Husband</td>\n",
       "      <td>White</td>\n",
       "      <td>Male</td>\n",
       "      <td>0</td>\n",
       "      <td>0</td>\n",
       "      <td>40</td>\n",
       "      <td>United-States</td>\n",
       "    </tr>\n",
       "    <tr>\n",
       "      <th>6509</th>\n",
       "      <td>6509</td>\n",
       "      <td>39</td>\n",
       "      <td>Private</td>\n",
       "      <td>409189</td>\n",
       "      <td>5th-6th</td>\n",
       "      <td>3</td>\n",
       "      <td>Married-civ-spouse</td>\n",
       "      <td>Other-service</td>\n",
       "      <td>Husband</td>\n",
       "      <td>White</td>\n",
       "      <td>Male</td>\n",
       "      <td>0</td>\n",
       "      <td>0</td>\n",
       "      <td>40</td>\n",
       "      <td>Mexico</td>\n",
       "    </tr>\n",
       "    <tr>\n",
       "      <th>6510</th>\n",
       "      <td>6510</td>\n",
       "      <td>35</td>\n",
       "      <td>Private</td>\n",
       "      <td>180342</td>\n",
       "      <td>HS-grad</td>\n",
       "      <td>9</td>\n",
       "      <td>Married-civ-spouse</td>\n",
       "      <td>Craft-repair</td>\n",
       "      <td>Husband</td>\n",
       "      <td>White</td>\n",
       "      <td>Male</td>\n",
       "      <td>0</td>\n",
       "      <td>0</td>\n",
       "      <td>40</td>\n",
       "      <td>United-States</td>\n",
       "    </tr>\n",
       "    <tr>\n",
       "      <th>6511</th>\n",
       "      <td>6511</td>\n",
       "      <td>28</td>\n",
       "      <td>Private</td>\n",
       "      <td>156819</td>\n",
       "      <td>HS-grad</td>\n",
       "      <td>9</td>\n",
       "      <td>Divorced</td>\n",
       "      <td>Handlers-cleaners</td>\n",
       "      <td>Unmarried</td>\n",
       "      <td>White</td>\n",
       "      <td>Female</td>\n",
       "      <td>0</td>\n",
       "      <td>0</td>\n",
       "      <td>36</td>\n",
       "      <td>United-States</td>\n",
       "    </tr>\n",
       "  </tbody>\n",
       "</table>\n",
       "<p>6512 rows × 15 columns</p>\n",
       "</div>"
      ],
      "text/plain": [
       "        id  age     workclass  fnlwgt     education  education_num  \\\n",
       "0        0   28       Private   67661  Some-college             10   \n",
       "1        1   40  Self-emp-inc   37869       HS-grad              9   \n",
       "2        2   20       Private  109952  Some-college             10   \n",
       "3        3   40       Private  114537     Assoc-voc             11   \n",
       "4        4   37       Private   51264     Doctorate             16   \n",
       "...    ...  ...           ...     ...           ...            ...   \n",
       "6507  6507   35       Private   61343     Bachelors             13   \n",
       "6508  6508   41  Self-emp-inc   32185     Bachelors             13   \n",
       "6509  6509   39       Private  409189       5th-6th              3   \n",
       "6510  6510   35       Private  180342       HS-grad              9   \n",
       "6511  6511   28       Private  156819       HS-grad              9   \n",
       "\n",
       "          marital_status         occupation    relationship   race     sex  \\\n",
       "0          Never-married       Adm-clerical  Other-relative  White  Female   \n",
       "1     Married-civ-spouse    Exec-managerial         Husband  White    Male   \n",
       "2          Never-married  Handlers-cleaners       Own-child  White    Male   \n",
       "3     Married-civ-spouse    Exec-managerial         Husband  White    Male   \n",
       "4     Married-civ-spouse     Prof-specialty         Husband  White    Male   \n",
       "...                  ...                ...             ...    ...     ...   \n",
       "6507  Married-civ-spouse              Sales         Husband  White    Male   \n",
       "6508  Married-civ-spouse       Tech-support         Husband  White    Male   \n",
       "6509  Married-civ-spouse      Other-service         Husband  White    Male   \n",
       "6510  Married-civ-spouse       Craft-repair         Husband  White    Male   \n",
       "6511            Divorced  Handlers-cleaners       Unmarried  White  Female   \n",
       "\n",
       "      capital_gain  capital_loss  hours_per_week native_country  \n",
       "0                0             0              40  United-States  \n",
       "1                0             0              50  United-States  \n",
       "2                0             0              25  United-States  \n",
       "3                0             0              50  United-States  \n",
       "4                0             0              99         France  \n",
       "...            ...           ...             ...            ...  \n",
       "6507             0             0              40  United-States  \n",
       "6508             0             0              40  United-States  \n",
       "6509             0             0              40         Mexico  \n",
       "6510             0             0              40  United-States  \n",
       "6511             0             0              36  United-States  \n",
       "\n",
       "[6512 rows x 15 columns]"
      ]
     },
     "execution_count": 8,
     "metadata": {},
     "output_type": "execute_result"
    }
   ],
   "source": [
    "test"
   ]
  },
  {
   "cell_type": "code",
   "execution_count": 9,
   "metadata": {
    "ExecuteTime": {
     "end_time": "2020-11-03T00:47:46.136448Z",
     "start_time": "2020-11-03T00:47:46.106449Z"
    }
   },
   "outputs": [
    {
     "name": "stdout",
     "output_type": "stream",
     "text": [
      "<class 'pandas.core.frame.DataFrame'>\n",
      "RangeIndex: 26049 entries, 0 to 26048\n",
      "Data columns (total 16 columns):\n",
      " #   Column          Non-Null Count  Dtype \n",
      "---  ------          --------------  ----- \n",
      " 0   id              26049 non-null  int64 \n",
      " 1   age             26049 non-null  int64 \n",
      " 2   workclass       26049 non-null  object\n",
      " 3   fnlwgt          26049 non-null  int64 \n",
      " 4   education       26049 non-null  object\n",
      " 5   education_num   26049 non-null  int64 \n",
      " 6   marital_status  26049 non-null  object\n",
      " 7   occupation      26049 non-null  object\n",
      " 8   relationship    26049 non-null  object\n",
      " 9   race            26049 non-null  object\n",
      " 10  sex             26049 non-null  object\n",
      " 11  capital_gain    26049 non-null  int64 \n",
      " 12  capital_loss    26049 non-null  int64 \n",
      " 13  hours_per_week  26049 non-null  int64 \n",
      " 14  native_country  26049 non-null  object\n",
      " 15  income          26049 non-null  object\n",
      "dtypes: int64(7), object(9)\n",
      "memory usage: 3.2+ MB\n"
     ]
    }
   ],
   "source": [
    "train.info()"
   ]
  },
  {
   "cell_type": "code",
   "execution_count": 10,
   "metadata": {
    "ExecuteTime": {
     "end_time": "2020-11-03T00:47:46.245444Z",
     "start_time": "2020-11-03T00:47:46.138448Z"
    }
   },
   "outputs": [
    {
     "data": {
      "text/html": [
       "<div>\n",
       "<style scoped>\n",
       "    .dataframe tbody tr th:only-of-type {\n",
       "        vertical-align: middle;\n",
       "    }\n",
       "\n",
       "    .dataframe tbody tr th {\n",
       "        vertical-align: top;\n",
       "    }\n",
       "\n",
       "    .dataframe thead th {\n",
       "        text-align: right;\n",
       "    }\n",
       "</style>\n",
       "<table border=\"1\" class=\"dataframe\">\n",
       "  <thead>\n",
       "    <tr style=\"text-align: right;\">\n",
       "      <th></th>\n",
       "      <th>id</th>\n",
       "      <th>age</th>\n",
       "      <th>workclass</th>\n",
       "      <th>fnlwgt</th>\n",
       "      <th>education</th>\n",
       "      <th>education_num</th>\n",
       "      <th>marital_status</th>\n",
       "      <th>occupation</th>\n",
       "      <th>relationship</th>\n",
       "      <th>race</th>\n",
       "      <th>sex</th>\n",
       "      <th>capital_gain</th>\n",
       "      <th>capital_loss</th>\n",
       "      <th>hours_per_week</th>\n",
       "      <th>native_country</th>\n",
       "      <th>income</th>\n",
       "    </tr>\n",
       "  </thead>\n",
       "  <tbody>\n",
       "    <tr>\n",
       "      <th>count</th>\n",
       "      <td>26049.000</td>\n",
       "      <td>26049.000</td>\n",
       "      <td>26049</td>\n",
       "      <td>26049.000</td>\n",
       "      <td>26049</td>\n",
       "      <td>26049.000</td>\n",
       "      <td>26049</td>\n",
       "      <td>26049</td>\n",
       "      <td>26049</td>\n",
       "      <td>26049</td>\n",
       "      <td>26049</td>\n",
       "      <td>26049.000</td>\n",
       "      <td>26049.000</td>\n",
       "      <td>26049.000</td>\n",
       "      <td>26049</td>\n",
       "      <td>26049</td>\n",
       "    </tr>\n",
       "    <tr>\n",
       "      <th>unique</th>\n",
       "      <td>nan</td>\n",
       "      <td>nan</td>\n",
       "      <td>9</td>\n",
       "      <td>nan</td>\n",
       "      <td>16</td>\n",
       "      <td>nan</td>\n",
       "      <td>7</td>\n",
       "      <td>15</td>\n",
       "      <td>6</td>\n",
       "      <td>5</td>\n",
       "      <td>2</td>\n",
       "      <td>nan</td>\n",
       "      <td>nan</td>\n",
       "      <td>nan</td>\n",
       "      <td>41</td>\n",
       "      <td>2</td>\n",
       "    </tr>\n",
       "    <tr>\n",
       "      <th>top</th>\n",
       "      <td>nan</td>\n",
       "      <td>nan</td>\n",
       "      <td>Private</td>\n",
       "      <td>nan</td>\n",
       "      <td>HS-grad</td>\n",
       "      <td>nan</td>\n",
       "      <td>Married-civ-spouse</td>\n",
       "      <td>Prof-specialty</td>\n",
       "      <td>Husband</td>\n",
       "      <td>White</td>\n",
       "      <td>Male</td>\n",
       "      <td>nan</td>\n",
       "      <td>nan</td>\n",
       "      <td>nan</td>\n",
       "      <td>United-States</td>\n",
       "      <td>&lt;=50K</td>\n",
       "    </tr>\n",
       "    <tr>\n",
       "      <th>freq</th>\n",
       "      <td>nan</td>\n",
       "      <td>nan</td>\n",
       "      <td>18123</td>\n",
       "      <td>nan</td>\n",
       "      <td>8433</td>\n",
       "      <td>nan</td>\n",
       "      <td>11970</td>\n",
       "      <td>3304</td>\n",
       "      <td>10541</td>\n",
       "      <td>22315</td>\n",
       "      <td>17482</td>\n",
       "      <td>nan</td>\n",
       "      <td>nan</td>\n",
       "      <td>nan</td>\n",
       "      <td>23371</td>\n",
       "      <td>19744</td>\n",
       "    </tr>\n",
       "    <tr>\n",
       "      <th>mean</th>\n",
       "      <td>13024.000</td>\n",
       "      <td>38.569</td>\n",
       "      <td>NaN</td>\n",
       "      <td>190304.482</td>\n",
       "      <td>NaN</td>\n",
       "      <td>10.088</td>\n",
       "      <td>NaN</td>\n",
       "      <td>NaN</td>\n",
       "      <td>NaN</td>\n",
       "      <td>NaN</td>\n",
       "      <td>NaN</td>\n",
       "      <td>1087.690</td>\n",
       "      <td>87.733</td>\n",
       "      <td>40.443</td>\n",
       "      <td>NaN</td>\n",
       "      <td>NaN</td>\n",
       "    </tr>\n",
       "    <tr>\n",
       "      <th>std</th>\n",
       "      <td>7519.843</td>\n",
       "      <td>13.671</td>\n",
       "      <td>NaN</td>\n",
       "      <td>105966.299</td>\n",
       "      <td>NaN</td>\n",
       "      <td>2.568</td>\n",
       "      <td>NaN</td>\n",
       "      <td>NaN</td>\n",
       "      <td>NaN</td>\n",
       "      <td>NaN</td>\n",
       "      <td>NaN</td>\n",
       "      <td>7388.855</td>\n",
       "      <td>403.230</td>\n",
       "      <td>12.362</td>\n",
       "      <td>NaN</td>\n",
       "      <td>NaN</td>\n",
       "    </tr>\n",
       "    <tr>\n",
       "      <th>min</th>\n",
       "      <td>0.000</td>\n",
       "      <td>17.000</td>\n",
       "      <td>NaN</td>\n",
       "      <td>13769.000</td>\n",
       "      <td>NaN</td>\n",
       "      <td>1.000</td>\n",
       "      <td>NaN</td>\n",
       "      <td>NaN</td>\n",
       "      <td>NaN</td>\n",
       "      <td>NaN</td>\n",
       "      <td>NaN</td>\n",
       "      <td>0.000</td>\n",
       "      <td>0.000</td>\n",
       "      <td>1.000</td>\n",
       "      <td>NaN</td>\n",
       "      <td>NaN</td>\n",
       "    </tr>\n",
       "    <tr>\n",
       "      <th>25%</th>\n",
       "      <td>6512.000</td>\n",
       "      <td>28.000</td>\n",
       "      <td>NaN</td>\n",
       "      <td>118108.000</td>\n",
       "      <td>NaN</td>\n",
       "      <td>9.000</td>\n",
       "      <td>NaN</td>\n",
       "      <td>NaN</td>\n",
       "      <td>NaN</td>\n",
       "      <td>NaN</td>\n",
       "      <td>NaN</td>\n",
       "      <td>0.000</td>\n",
       "      <td>0.000</td>\n",
       "      <td>40.000</td>\n",
       "      <td>NaN</td>\n",
       "      <td>NaN</td>\n",
       "    </tr>\n",
       "    <tr>\n",
       "      <th>50%</th>\n",
       "      <td>13024.000</td>\n",
       "      <td>37.000</td>\n",
       "      <td>NaN</td>\n",
       "      <td>178866.000</td>\n",
       "      <td>NaN</td>\n",
       "      <td>10.000</td>\n",
       "      <td>NaN</td>\n",
       "      <td>NaN</td>\n",
       "      <td>NaN</td>\n",
       "      <td>NaN</td>\n",
       "      <td>NaN</td>\n",
       "      <td>0.000</td>\n",
       "      <td>0.000</td>\n",
       "      <td>40.000</td>\n",
       "      <td>NaN</td>\n",
       "      <td>NaN</td>\n",
       "    </tr>\n",
       "    <tr>\n",
       "      <th>75%</th>\n",
       "      <td>19536.000</td>\n",
       "      <td>48.000</td>\n",
       "      <td>NaN</td>\n",
       "      <td>237735.000</td>\n",
       "      <td>NaN</td>\n",
       "      <td>12.000</td>\n",
       "      <td>NaN</td>\n",
       "      <td>NaN</td>\n",
       "      <td>NaN</td>\n",
       "      <td>NaN</td>\n",
       "      <td>NaN</td>\n",
       "      <td>0.000</td>\n",
       "      <td>0.000</td>\n",
       "      <td>45.000</td>\n",
       "      <td>NaN</td>\n",
       "      <td>NaN</td>\n",
       "    </tr>\n",
       "    <tr>\n",
       "      <th>max</th>\n",
       "      <td>26048.000</td>\n",
       "      <td>90.000</td>\n",
       "      <td>NaN</td>\n",
       "      <td>1484705.000</td>\n",
       "      <td>NaN</td>\n",
       "      <td>16.000</td>\n",
       "      <td>NaN</td>\n",
       "      <td>NaN</td>\n",
       "      <td>NaN</td>\n",
       "      <td>NaN</td>\n",
       "      <td>NaN</td>\n",
       "      <td>99999.000</td>\n",
       "      <td>4356.000</td>\n",
       "      <td>99.000</td>\n",
       "      <td>NaN</td>\n",
       "      <td>NaN</td>\n",
       "    </tr>\n",
       "  </tbody>\n",
       "</table>\n",
       "</div>"
      ],
      "text/plain": [
       "              id       age workclass      fnlwgt education  education_num  \\\n",
       "count  26049.000 26049.000     26049   26049.000     26049      26049.000   \n",
       "unique       nan       nan         9         nan        16            nan   \n",
       "top          nan       nan   Private         nan   HS-grad            nan   \n",
       "freq         nan       nan     18123         nan      8433            nan   \n",
       "mean   13024.000    38.569       NaN  190304.482       NaN         10.088   \n",
       "std     7519.843    13.671       NaN  105966.299       NaN          2.568   \n",
       "min        0.000    17.000       NaN   13769.000       NaN          1.000   \n",
       "25%     6512.000    28.000       NaN  118108.000       NaN          9.000   \n",
       "50%    13024.000    37.000       NaN  178866.000       NaN         10.000   \n",
       "75%    19536.000    48.000       NaN  237735.000       NaN         12.000   \n",
       "max    26048.000    90.000       NaN 1484705.000       NaN         16.000   \n",
       "\n",
       "            marital_status      occupation relationship   race    sex  \\\n",
       "count                26049           26049        26049  26049  26049   \n",
       "unique                   7              15            6      5      2   \n",
       "top     Married-civ-spouse  Prof-specialty      Husband  White   Male   \n",
       "freq                 11970            3304        10541  22315  17482   \n",
       "mean                   NaN             NaN          NaN    NaN    NaN   \n",
       "std                    NaN             NaN          NaN    NaN    NaN   \n",
       "min                    NaN             NaN          NaN    NaN    NaN   \n",
       "25%                    NaN             NaN          NaN    NaN    NaN   \n",
       "50%                    NaN             NaN          NaN    NaN    NaN   \n",
       "75%                    NaN             NaN          NaN    NaN    NaN   \n",
       "max                    NaN             NaN          NaN    NaN    NaN   \n",
       "\n",
       "        capital_gain  capital_loss  hours_per_week native_country income  \n",
       "count      26049.000     26049.000       26049.000          26049  26049  \n",
       "unique           nan           nan             nan             41      2  \n",
       "top              nan           nan             nan  United-States  <=50K  \n",
       "freq             nan           nan             nan          23371  19744  \n",
       "mean        1087.690        87.733          40.443            NaN    NaN  \n",
       "std         7388.855       403.230          12.362            NaN    NaN  \n",
       "min            0.000         0.000           1.000            NaN    NaN  \n",
       "25%            0.000         0.000          40.000            NaN    NaN  \n",
       "50%            0.000         0.000          40.000            NaN    NaN  \n",
       "75%            0.000         0.000          45.000            NaN    NaN  \n",
       "max        99999.000      4356.000          99.000            NaN    NaN  "
      ]
     },
     "execution_count": 10,
     "metadata": {},
     "output_type": "execute_result"
    }
   ],
   "source": [
    "train.describe(include = 'all')"
   ]
  },
  {
   "cell_type": "code",
   "execution_count": 11,
   "metadata": {
    "ExecuteTime": {
     "end_time": "2020-11-03T00:47:46.261446Z",
     "start_time": "2020-11-03T00:47:46.246445Z"
    }
   },
   "outputs": [],
   "source": [
    "# import qgrid\n",
    "# qgrid_widget = qgrid.show_grid(train,show_toolbar=True)\n",
    "# qgrid_widget"
   ]
  },
  {
   "cell_type": "markdown",
   "metadata": {},
   "source": [
    "## Feature 설명\n",
    "\n",
    "- This data was extracted from the 1994 Census bureau database by Ronny Kohavi and Barry Becker (Data Mining and Visualization, Silicon Graphics). A set of reasonably clean records was extracted using the following conditions: ((AAGE>16) && (AGI>100) && (AFNLWGT>1) && (HRSWK>0)). The prediction task is to determine whether a person makes over \"$50K\" a year.\n",
    "    \n",
    "    - age : 나이\n",
    "    - workclass : 고용 형태\n",
    "    - fnlwgt : 사람 대표성을 나타내는 가중치 (final weight의 약자)\n",
    "            - A single cell estimate of the population 16+ for each state.\n",
    "            - Controls for Hispanic Origin by age and sex.\n",
    "            - Controls by Race, age and sex.\n",
    "            -CPS sample is actually a collection of 51 state samples, each with its own probability of selection, the statement only applies within state.\n",
    "    - education : 교육 수준\n",
    "    - education_num : 교육 수준 수치\n",
    "    - marital_status: 결혼 상태\n",
    "    - occupation : 업종\n",
    "    - relationship : 가족 관계\n",
    "    - race : 인종\n",
    "    - sex : 성별\n",
    "    - capital_gain : 양도 소득\n",
    "    - capital_loss : 양도 손실\n",
    "    - hours_per_week : 주당 근무 시간\n",
    "    - native_country : 국적\n",
    "    - income : 수익 (예측해야 하는 값)\n",
    "             >50K : 1\n",
    "             <=50K : 0"
   ]
  },
  {
   "cell_type": "code",
   "execution_count": 12,
   "metadata": {
    "ExecuteTime": {
     "end_time": "2020-11-03T00:47:46.277450Z",
     "start_time": "2020-11-03T00:47:46.262446Z"
    }
   },
   "outputs": [
    {
     "data": {
      "text/plain": [
       "(633, 16)"
      ]
     },
     "execution_count": 12,
     "metadata": {},
     "output_type": "execute_result"
    }
   ],
   "source": [
    "train.query('capital_gain > 9000').shape\n",
    "train.query('capital_gain > 9000 & income == \">50K\"').shape"
   ]
  },
  {
   "cell_type": "code",
   "execution_count": 13,
   "metadata": {
    "ExecuteTime": {
     "end_time": "2020-11-03T00:47:46.309447Z",
     "start_time": "2020-11-03T00:47:46.278446Z"
    },
    "scrolled": false
   },
   "outputs": [
    {
     "name": "stdout",
     "output_type": "stream",
     "text": [
      "object\n",
      "[workclass] (9)\n",
      "Private\n",
      "State-gov\n",
      "?\n",
      "Self-emp-not-inc\n",
      "Local-gov\n",
      "Federal-gov\n",
      "Self-emp-inc\n",
      "Without-pay\n",
      "Never-worked\n",
      "\n",
      "object\n",
      "[education] (16)\n",
      "HS-grad\n",
      "9th\n",
      "Some-college\n",
      "Bachelors\n",
      "11th\n",
      "1st-4th\n",
      "5th-6th\n",
      "Assoc-acdm\n",
      "10th\n",
      "Prof-school\n",
      "7th-8th\n",
      "Masters\n",
      "Assoc-voc\n",
      "Doctorate\n",
      "12th\n",
      "Preschool\n",
      "\n",
      "object\n",
      "[marital_status] (7)\n",
      "Married-civ-spouse\n",
      "Never-married\n",
      "Separated\n",
      "Married-spouse-absent\n",
      "Divorced\n",
      "Widowed\n",
      "Married-AF-spouse\n",
      "\n",
      "object\n",
      "[occupation] (15)\n",
      "Sales\n",
      "Machine-op-inspct\n",
      "Other-service\n",
      "Prof-specialty\n",
      "Adm-clerical\n",
      "Craft-repair\n",
      "?\n",
      "Handlers-cleaners\n",
      "Farming-fishing\n",
      "Exec-managerial\n",
      "Transport-moving\n",
      "Protective-serv\n",
      "Tech-support\n",
      "Priv-house-serv\n",
      "Armed-Forces\n",
      "\n",
      "object\n",
      "[relationship] (6)\n",
      "Husband\n",
      "Own-child\n",
      "Not-in-family\n",
      "Unmarried\n",
      "Wife\n",
      "Other-relative\n",
      "\n",
      "object\n",
      "[race] (5)\n",
      "White\n",
      "Black\n",
      "Asian-Pac-Islander\n",
      "Other\n",
      "Amer-Indian-Eskimo\n",
      "\n",
      "object\n",
      "[sex] (2)\n",
      "Male\n",
      "Female\n",
      "\n",
      "object\n",
      "[native_country] (41)\n",
      "United-States\n",
      "?\n",
      "Mexico\n",
      "Poland\n",
      "Philippines\n",
      "Puerto-Rico\n",
      "Vietnam\n",
      "Germany\n",
      "Cuba\n",
      "France\n",
      "Ireland\n",
      "El-Salvador\n",
      "Guatemala\n",
      "Haiti\n",
      "Trinadad&Tobago\n",
      "Jamaica\n",
      "Canada\n",
      "Taiwan\n",
      "South\n",
      "Columbia\n",
      "Peru\n",
      "Japan\n",
      "Dominican-Republic\n",
      "China\n",
      "England\n",
      "Iran\n",
      "India\n",
      "Nicaragua\n",
      "Italy\n",
      "Honduras\n",
      "Thailand\n",
      "Ecuador\n",
      "Portugal\n",
      "Hungary\n",
      "Greece\n",
      "Hong\n",
      "Outlying-US(Guam-USVI-etc)\n",
      "Cambodia\n",
      "Scotland\n",
      "Yugoslavia\n",
      "Laos\n",
      "\n",
      "object\n",
      "[income] (2)\n",
      ">50K\n",
      "<=50K\n",
      "\n"
     ]
    }
   ],
   "source": [
    "for col in train.columns:\n",
    "    if train[col].dtype == 'object':\n",
    "        print(train[col].dtype)\n",
    "        categories = train[col].unique()\n",
    "        print(f'[{col}] ({len(categories)})')\n",
    "        print('\\n'.join(categories))\n",
    "        print()"
   ]
  },
  {
   "cell_type": "markdown",
   "metadata": {},
   "source": [
    "### 범주형과 숫자형 나누기"
   ]
  },
  {
   "cell_type": "code",
   "execution_count": 14,
   "metadata": {
    "ExecuteTime": {
     "end_time": "2020-11-03T00:47:46.325446Z",
     "start_time": "2020-11-03T00:47:46.310447Z"
    }
   },
   "outputs": [],
   "source": [
    "def object_col(df):\n",
    "    object_columns = []\n",
    "    numerical_columns = []\n",
    "    for col in df.columns:\n",
    "        if df[col].dtype == 'object':\n",
    "#             print(f'column [{col}] is categorical.')\n",
    "            object_columns.append(col)\n",
    "        else: \n",
    "#             print(f'column [{col}] is numerical.')\n",
    "            numerical_columns.append(col)\n",
    "        \n",
    "    print(f'object_columns: {object_columns}')\n",
    "    print(f'numerical_columns: {numerical_columns}')\n",
    "#     return object_columns, numerical_columns            "
   ]
  },
  {
   "cell_type": "code",
   "execution_count": 15,
   "metadata": {
    "ExecuteTime": {
     "end_time": "2020-11-03T00:47:46.341446Z",
     "start_time": "2020-11-03T00:47:46.326448Z"
    }
   },
   "outputs": [
    {
     "name": "stdout",
     "output_type": "stream",
     "text": [
      "object_columns: ['workclass', 'education', 'marital_status', 'occupation', 'relationship', 'race', 'sex', 'native_country', 'income']\n",
      "numerical_columns: ['id', 'age', 'fnlwgt', 'education_num', 'capital_gain', 'capital_loss', 'hours_per_week']\n"
     ]
    }
   ],
   "source": [
    "object_col(train)"
   ]
  },
  {
   "cell_type": "markdown",
   "metadata": {},
   "source": [
    "### income 숫자 변경"
   ]
  },
  {
   "cell_type": "code",
   "execution_count": 16,
   "metadata": {
    "ExecuteTime": {
     "end_time": "2020-11-03T00:47:46.357483Z",
     "start_time": "2020-11-03T00:47:46.342447Z"
    }
   },
   "outputs": [],
   "source": [
    "train['income'] = train['income'].apply(lambda x: 1 if x == '>50K' else 0)"
   ]
  },
  {
   "cell_type": "code",
   "execution_count": 17,
   "metadata": {
    "ExecuteTime": {
     "end_time": "2020-11-03T00:47:46.480446Z",
     "start_time": "2020-11-03T00:47:46.358446Z"
    }
   },
   "outputs": [
    {
     "data": {
      "text/html": [
       "<style  type=\"text/css\" >\n",
       "#T_30a44e63_1d6e_11eb_80f7_0c7a1588ea5erow0_col0,#T_30a44e63_1d6e_11eb_80f7_0c7a1588ea5erow0_col2,#T_30a44e63_1d6e_11eb_80f7_0c7a1588ea5erow1_col0,#T_30a44e63_1d6e_11eb_80f7_0c7a1588ea5erow1_col2,#T_30a44e63_1d6e_11eb_80f7_0c7a1588ea5erow6_col0,#T_30a44e63_1d6e_11eb_80f7_0c7a1588ea5erow6_col1,#T_30a44e63_1d6e_11eb_80f7_0c7a1588ea5erow6_col2,#T_30a44e63_1d6e_11eb_80f7_0c7a1588ea5erow6_col3,#T_30a44e63_1d6e_11eb_80f7_0c7a1588ea5erow7_col0,#T_30a44e63_1d6e_11eb_80f7_0c7a1588ea5erow7_col2{\n",
       "            background-color:  #fcfbfd;\n",
       "            color:  #000000;\n",
       "        }#T_30a44e63_1d6e_11eb_80f7_0c7a1588ea5erow0_col1{\n",
       "            background-color:  #dedded;\n",
       "            color:  #000000;\n",
       "        }#T_30a44e63_1d6e_11eb_80f7_0c7a1588ea5erow0_col3,#T_30a44e63_1d6e_11eb_80f7_0c7a1588ea5erow2_col1,#T_30a44e63_1d6e_11eb_80f7_0c7a1588ea5erow5_col1,#T_30a44e63_1d6e_11eb_80f7_0c7a1588ea5erow8_col1{\n",
       "            background-color:  #e4e3f0;\n",
       "            color:  #000000;\n",
       "        }#T_30a44e63_1d6e_11eb_80f7_0c7a1588ea5erow1_col1{\n",
       "            background-color:  #ddddec;\n",
       "            color:  #000000;\n",
       "        }#T_30a44e63_1d6e_11eb_80f7_0c7a1588ea5erow1_col3{\n",
       "            background-color:  #dadaeb;\n",
       "            color:  #000000;\n",
       "        }#T_30a44e63_1d6e_11eb_80f7_0c7a1588ea5erow2_col0,#T_30a44e63_1d6e_11eb_80f7_0c7a1588ea5erow2_col2{\n",
       "            background-color:  #fbfafc;\n",
       "            color:  #000000;\n",
       "        }#T_30a44e63_1d6e_11eb_80f7_0c7a1588ea5erow2_col3{\n",
       "            background-color:  #d6d6e9;\n",
       "            color:  #000000;\n",
       "        }#T_30a44e63_1d6e_11eb_80f7_0c7a1588ea5erow3_col0,#T_30a44e63_1d6e_11eb_80f7_0c7a1588ea5erow3_col2{\n",
       "            background-color:  #f9f8fb;\n",
       "            color:  #000000;\n",
       "        }#T_30a44e63_1d6e_11eb_80f7_0c7a1588ea5erow3_col1,#T_30a44e63_1d6e_11eb_80f7_0c7a1588ea5erow3_col3,#T_30a44e63_1d6e_11eb_80f7_0c7a1588ea5erow9_col0,#T_30a44e63_1d6e_11eb_80f7_0c7a1588ea5erow9_col2{\n",
       "            background-color:  #3f007d;\n",
       "            color:  #f1f1f1;\n",
       "        }#T_30a44e63_1d6e_11eb_80f7_0c7a1588ea5erow4_col0,#T_30a44e63_1d6e_11eb_80f7_0c7a1588ea5erow4_col2{\n",
       "            background-color:  #f5f3f8;\n",
       "            color:  #000000;\n",
       "        }#T_30a44e63_1d6e_11eb_80f7_0c7a1588ea5erow4_col1{\n",
       "            background-color:  #ecebf4;\n",
       "            color:  #000000;\n",
       "        }#T_30a44e63_1d6e_11eb_80f7_0c7a1588ea5erow4_col3{\n",
       "            background-color:  #faf9fc;\n",
       "            color:  #000000;\n",
       "        }#T_30a44e63_1d6e_11eb_80f7_0c7a1588ea5erow5_col0,#T_30a44e63_1d6e_11eb_80f7_0c7a1588ea5erow5_col2{\n",
       "            background-color:  #f4f3f8;\n",
       "            color:  #000000;\n",
       "        }#T_30a44e63_1d6e_11eb_80f7_0c7a1588ea5erow5_col3{\n",
       "            background-color:  #a19eca;\n",
       "            color:  #000000;\n",
       "        }#T_30a44e63_1d6e_11eb_80f7_0c7a1588ea5erow7_col1{\n",
       "            background-color:  #54278f;\n",
       "            color:  #f1f1f1;\n",
       "        }#T_30a44e63_1d6e_11eb_80f7_0c7a1588ea5erow7_col3{\n",
       "            background-color:  #dcdcec;\n",
       "            color:  #000000;\n",
       "        }#T_30a44e63_1d6e_11eb_80f7_0c7a1588ea5erow8_col0,#T_30a44e63_1d6e_11eb_80f7_0c7a1588ea5erow8_col2{\n",
       "            background-color:  #acaad1;\n",
       "            color:  #000000;\n",
       "        }#T_30a44e63_1d6e_11eb_80f7_0c7a1588ea5erow8_col3{\n",
       "            background-color:  #d9d9ea;\n",
       "            color:  #000000;\n",
       "        }#T_30a44e63_1d6e_11eb_80f7_0c7a1588ea5erow9_col1{\n",
       "            background-color:  #7d77b7;\n",
       "            color:  #000000;\n",
       "        }#T_30a44e63_1d6e_11eb_80f7_0c7a1588ea5erow9_col3{\n",
       "            background-color:  #4c1888;\n",
       "            color:  #f1f1f1;\n",
       "        }</style><table id=\"T_30a44e63_1d6e_11eb_80f7_0c7a1588ea5e\" ><thead>    <tr>        <th class=\"blank\" ></th>        <th class=\"blank level0\" ></th>        <th class=\"col_heading level0 col0\" colspan=2>capital_gain</th>        <th class=\"col_heading level0 col2\" colspan=2>income</th>    </tr>    <tr>        <th class=\"blank\" ></th>        <th class=\"blank level1\" ></th>        <th class=\"col_heading level1 col0\" >count</th>        <th class=\"col_heading level1 col1\" >mean</th>        <th class=\"col_heading level1 col2\" >count</th>        <th class=\"col_heading level1 col3\" >mean</th>    </tr>    <tr>        <th class=\"index_name level0\" >race</th>        <th class=\"index_name level1\" >sex</th>        <th class=\"blank\" ></th>        <th class=\"blank\" ></th>        <th class=\"blank\" ></th>        <th class=\"blank\" ></th>    </tr></thead><tbody>\n",
       "                <tr>\n",
       "                        <th id=\"T_30a44e63_1d6e_11eb_80f7_0c7a1588ea5elevel0_row0\" class=\"row_heading level0 row0\" rowspan=2>Amer-Indian-Eskimo</th>\n",
       "                        <th id=\"T_30a44e63_1d6e_11eb_80f7_0c7a1588ea5elevel1_row0\" class=\"row_heading level1 row0\" >Female</th>\n",
       "                        <td id=\"T_30a44e63_1d6e_11eb_80f7_0c7a1588ea5erow0_col0\" class=\"data row0 col0\" >88</td>\n",
       "                        <td id=\"T_30a44e63_1d6e_11eb_80f7_0c7a1588ea5erow0_col1\" class=\"data row0 col1\" >646.636364</td>\n",
       "                        <td id=\"T_30a44e63_1d6e_11eb_80f7_0c7a1588ea5erow0_col2\" class=\"data row0 col2\" >88</td>\n",
       "                        <td id=\"T_30a44e63_1d6e_11eb_80f7_0c7a1588ea5erow0_col3\" class=\"data row0 col3\" >0.102273</td>\n",
       "            </tr>\n",
       "            <tr>\n",
       "                                <th id=\"T_30a44e63_1d6e_11eb_80f7_0c7a1588ea5elevel1_row1\" class=\"row_heading level1 row1\" >Male</th>\n",
       "                        <td id=\"T_30a44e63_1d6e_11eb_80f7_0c7a1588ea5erow1_col0\" class=\"data row1 col0\" >166</td>\n",
       "                        <td id=\"T_30a44e63_1d6e_11eb_80f7_0c7a1588ea5erow1_col1\" class=\"data row1 col1\" >649.596386</td>\n",
       "                        <td id=\"T_30a44e63_1d6e_11eb_80f7_0c7a1588ea5erow1_col2\" class=\"data row1 col2\" >166</td>\n",
       "                        <td id=\"T_30a44e63_1d6e_11eb_80f7_0c7a1588ea5erow1_col3\" class=\"data row1 col3\" >0.120482</td>\n",
       "            </tr>\n",
       "            <tr>\n",
       "                        <th id=\"T_30a44e63_1d6e_11eb_80f7_0c7a1588ea5elevel0_row2\" class=\"row_heading level0 row2\" rowspan=2>Asian-Pac-Islander</th>\n",
       "                        <th id=\"T_30a44e63_1d6e_11eb_80f7_0c7a1588ea5elevel1_row2\" class=\"row_heading level1 row2\" >Female</th>\n",
       "                        <td id=\"T_30a44e63_1d6e_11eb_80f7_0c7a1588ea5erow2_col0\" class=\"data row2 col0\" >270</td>\n",
       "                        <td id=\"T_30a44e63_1d6e_11eb_80f7_0c7a1588ea5erow2_col1\" class=\"data row2 col1\" >584.325926</td>\n",
       "                        <td id=\"T_30a44e63_1d6e_11eb_80f7_0c7a1588ea5erow2_col2\" class=\"data row2 col2\" >270</td>\n",
       "                        <td id=\"T_30a44e63_1d6e_11eb_80f7_0c7a1588ea5erow2_col3\" class=\"data row2 col3\" >0.125926</td>\n",
       "            </tr>\n",
       "            <tr>\n",
       "                                <th id=\"T_30a44e63_1d6e_11eb_80f7_0c7a1588ea5elevel1_row3\" class=\"row_heading level1 row3\" >Male</th>\n",
       "                        <td id=\"T_30a44e63_1d6e_11eb_80f7_0c7a1588ea5erow3_col0\" class=\"data row3 col0\" >530</td>\n",
       "                        <td id=\"T_30a44e63_1d6e_11eb_80f7_0c7a1588ea5erow3_col1\" class=\"data row3 col1\" >2026.226415</td>\n",
       "                        <td id=\"T_30a44e63_1d6e_11eb_80f7_0c7a1588ea5erow3_col2\" class=\"data row3 col2\" >530</td>\n",
       "                        <td id=\"T_30a44e63_1d6e_11eb_80f7_0c7a1588ea5erow3_col3\" class=\"data row3 col3\" >0.341509</td>\n",
       "            </tr>\n",
       "            <tr>\n",
       "                        <th id=\"T_30a44e63_1d6e_11eb_80f7_0c7a1588ea5elevel0_row4\" class=\"row_heading level0 row4\" rowspan=2>Black</th>\n",
       "                        <th id=\"T_30a44e63_1d6e_11eb_80f7_0c7a1588ea5elevel1_row4\" class=\"row_heading level1 row4\" >Female</th>\n",
       "                        <td id=\"T_30a44e63_1d6e_11eb_80f7_0c7a1588ea5erow4_col0\" class=\"data row4 col0\" >1219</td>\n",
       "                        <td id=\"T_30a44e63_1d6e_11eb_80f7_0c7a1588ea5erow4_col1\" class=\"data row4 col1\" >487.988515</td>\n",
       "                        <td id=\"T_30a44e63_1d6e_11eb_80f7_0c7a1588ea5erow4_col2\" class=\"data row4 col2\" >1219</td>\n",
       "                        <td id=\"T_30a44e63_1d6e_11eb_80f7_0c7a1588ea5erow4_col3\" class=\"data row4 col3\" >0.051682</td>\n",
       "            </tr>\n",
       "            <tr>\n",
       "                                <th id=\"T_30a44e63_1d6e_11eb_80f7_0c7a1588ea5elevel1_row5\" class=\"row_heading level1 row5\" >Male</th>\n",
       "                        <td id=\"T_30a44e63_1d6e_11eb_80f7_0c7a1588ea5erow5_col0\" class=\"data row5 col0\" >1257</td>\n",
       "                        <td id=\"T_30a44e63_1d6e_11eb_80f7_0c7a1588ea5erow5_col1\" class=\"data row5 col1\" >579.319809</td>\n",
       "                        <td id=\"T_30a44e63_1d6e_11eb_80f7_0c7a1588ea5erow5_col2\" class=\"data row5 col2\" >1257</td>\n",
       "                        <td id=\"T_30a44e63_1d6e_11eb_80f7_0c7a1588ea5erow5_col3\" class=\"data row5 col3\" >0.190135</td>\n",
       "            </tr>\n",
       "            <tr>\n",
       "                        <th id=\"T_30a44e63_1d6e_11eb_80f7_0c7a1588ea5elevel0_row6\" class=\"row_heading level0 row6\" rowspan=2>Other</th>\n",
       "                        <th id=\"T_30a44e63_1d6e_11eb_80f7_0c7a1588ea5elevel1_row6\" class=\"row_heading level1 row6\" >Female</th>\n",
       "                        <td id=\"T_30a44e63_1d6e_11eb_80f7_0c7a1588ea5erow6_col0\" class=\"data row6 col0\" >85</td>\n",
       "                        <td id=\"T_30a44e63_1d6e_11eb_80f7_0c7a1588ea5erow6_col1\" class=\"data row6 col1\" >236.129412</td>\n",
       "                        <td id=\"T_30a44e63_1d6e_11eb_80f7_0c7a1588ea5erow6_col2\" class=\"data row6 col2\" >85</td>\n",
       "                        <td id=\"T_30a44e63_1d6e_11eb_80f7_0c7a1588ea5erow6_col3\" class=\"data row6 col3\" >0.047059</td>\n",
       "            </tr>\n",
       "            <tr>\n",
       "                                <th id=\"T_30a44e63_1d6e_11eb_80f7_0c7a1588ea5elevel1_row7\" class=\"row_heading level1 row7\" >Male</th>\n",
       "                        <td id=\"T_30a44e63_1d6e_11eb_80f7_0c7a1588ea5erow7_col0\" class=\"data row7 col0\" >119</td>\n",
       "                        <td id=\"T_30a44e63_1d6e_11eb_80f7_0c7a1588ea5erow7_col1\" class=\"data row7 col1\" >1799.764706</td>\n",
       "                        <td id=\"T_30a44e63_1d6e_11eb_80f7_0c7a1588ea5erow7_col2\" class=\"data row7 col2\" >119</td>\n",
       "                        <td id=\"T_30a44e63_1d6e_11eb_80f7_0c7a1588ea5erow7_col3\" class=\"data row7 col3\" >0.117647</td>\n",
       "            </tr>\n",
       "            <tr>\n",
       "                        <th id=\"T_30a44e63_1d6e_11eb_80f7_0c7a1588ea5elevel0_row8\" class=\"row_heading level0 row8\" rowspan=2>White</th>\n",
       "                        <th id=\"T_30a44e63_1d6e_11eb_80f7_0c7a1588ea5elevel1_row8\" class=\"row_heading level1 row8\" >Female</th>\n",
       "                        <td id=\"T_30a44e63_1d6e_11eb_80f7_0c7a1588ea5erow8_col0\" class=\"data row8 col0\" >6905</td>\n",
       "                        <td id=\"T_30a44e63_1d6e_11eb_80f7_0c7a1588ea5erow8_col1\" class=\"data row8 col1\" >580.929761</td>\n",
       "                        <td id=\"T_30a44e63_1d6e_11eb_80f7_0c7a1588ea5erow8_col2\" class=\"data row8 col2\" >6905</td>\n",
       "                        <td id=\"T_30a44e63_1d6e_11eb_80f7_0c7a1588ea5erow8_col3\" class=\"data row8 col3\" >0.122085</td>\n",
       "            </tr>\n",
       "            <tr>\n",
       "                                <th id=\"T_30a44e63_1d6e_11eb_80f7_0c7a1588ea5elevel1_row9\" class=\"row_heading level1 row9\" >Male</th>\n",
       "                        <td id=\"T_30a44e63_1d6e_11eb_80f7_0c7a1588ea5erow9_col0\" class=\"data row9 col0\" >15410</td>\n",
       "                        <td id=\"T_30a44e63_1d6e_11eb_80f7_0c7a1588ea5erow9_col1\" class=\"data row9 col1\" >1386.644906</td>\n",
       "                        <td id=\"T_30a44e63_1d6e_11eb_80f7_0c7a1588ea5erow9_col2\" class=\"data row9 col2\" >15410</td>\n",
       "                        <td id=\"T_30a44e63_1d6e_11eb_80f7_0c7a1588ea5erow9_col3\" class=\"data row9 col3\" >0.317846</td>\n",
       "            </tr>\n",
       "    </tbody></table>"
      ],
      "text/plain": [
       "<pandas.io.formats.style.Styler at 0x2bba03ce040>"
      ]
     },
     "execution_count": 17,
     "metadata": {},
     "output_type": "execute_result"
    }
   ],
   "source": [
    "train.groupby(by = ['race', 'sex'])[['capital_gain','income']].agg(['count','mean']).style.background_gradient(cmap = 'Purples')"
   ]
  },
  {
   "cell_type": "code",
   "execution_count": 18,
   "metadata": {
    "ExecuteTime": {
     "end_time": "2020-11-03T00:47:46.510479Z",
     "start_time": "2020-11-03T00:47:46.481447Z"
    }
   },
   "outputs": [
    {
     "name": "stdout",
     "output_type": "stream",
     "text": [
      "<class 'pandas.core.frame.DataFrame'>\n",
      "RangeIndex: 26049 entries, 0 to 26048\n",
      "Data columns (total 16 columns):\n",
      " #   Column          Non-Null Count  Dtype \n",
      "---  ------          --------------  ----- \n",
      " 0   id              26049 non-null  int64 \n",
      " 1   age             26049 non-null  int64 \n",
      " 2   workclass       26049 non-null  object\n",
      " 3   fnlwgt          26049 non-null  int64 \n",
      " 4   education       26049 non-null  object\n",
      " 5   education_num   26049 non-null  int64 \n",
      " 6   marital_status  26049 non-null  object\n",
      " 7   occupation      26049 non-null  object\n",
      " 8   relationship    26049 non-null  object\n",
      " 9   race            26049 non-null  object\n",
      " 10  sex             26049 non-null  object\n",
      " 11  capital_gain    26049 non-null  int64 \n",
      " 12  capital_loss    26049 non-null  int64 \n",
      " 13  hours_per_week  26049 non-null  int64 \n",
      " 14  native_country  26049 non-null  object\n",
      " 15  income          26049 non-null  int64 \n",
      "dtypes: int64(8), object(8)\n",
      "memory usage: 3.2+ MB\n"
     ]
    }
   ],
   "source": [
    "train.info()"
   ]
  },
  {
   "cell_type": "raw",
   "metadata": {},
   "source": []
  },
  {
   "cell_type": "code",
   "execution_count": 19,
   "metadata": {
    "ExecuteTime": {
     "end_time": "2020-11-03T00:47:46.525480Z",
     "start_time": "2020-11-03T00:47:46.512447Z"
    }
   },
   "outputs": [],
   "source": [
    "# train['income'] = (train['income'] == '>50k').astype(int)"
   ]
  },
  {
   "cell_type": "markdown",
   "metadata": {},
   "source": [
    "### 추가 변수 만들 것:\n",
    " 1. hours_per_week 범주화 (bin: 5)\n",
    " 2. native_country 범주화\n",
    "     US를 제외하고, income 이 1인 비율이 0 / 30 / 40 / 인 국가들\n",
    "     bin1 = ['US', 'Canada']\n",
    "     bin2 = ['Mexico']\n",
    "     bin3 = ['?']\n",
    "     bin4 = ['Germany', 'Poland', 'England', 'France', 'Ireland',  ]\n",
    "     bin5 = ['Philippines']\n",
    "    \n",
    " 3. 가정: 같은 주인가? 서로 다른 주인가?\n",
    " \n",
    " 4. capital gain 이 중요할 수 있따.\n",
    " "
   ]
  },
  {
   "cell_type": "markdown",
   "metadata": {},
   "source": [
    "### finding\n",
    "never workd & non pay 는 0으로 고정해도 됨\n",
    "\n",
    "married spouse absent: 300:27 = 1:0 결혼했는데 배우자 확인 안되는 사람\n",
    "\n",
    "armed force; all 0?\n",
    "\n",
    "백인이 아닌 사람 끼리 보면 1이 더 많다.\n",
    "\n",
    "직업이나 교육을 0/1로 나눠도 , 인종으로 나눠도, 비슷하다. 결론은 변수를 섞어야한다.\n",
    "\n",
    "occu num 이 있기 때문에 c=occu는 빼도된다. 실제로 점수 변화 업슴\n",
    "\n",
    "lda, pca, lasso, 쓸 수 있는거 다 , \n",
    "\n",
    "전처리는 논문 레퍼런스하면 방어 가능\n",
    "뭐의 특징, 장점, 알고리즘, 이점, 기법, 깊은 원리, 변수 선택 전략 : 회귀는 라쏘 피처임포턴스 , 분류도 어떻게 변수를 정하는지.\n",
    "알고리즘/이론을 알고 쓰냐 안쓰냐 차이. 코드 자체는 안봄. 알고 갖다썻냐 아니냐."
   ]
  },
  {
   "cell_type": "markdown",
   "metadata": {},
   "source": [
    "## 시각화\n",
    " - 범주형 : bar\n",
    " - 수치형\n",
    "    - 이산형 : bar\n",
    "    - 연속형 : kdeplot, histogram\n",
    " - 범주형 + 수치형 : boxplot, violinplot, etc\n",
    " - 수치형 + 수치형 : scatter"
   ]
  },
  {
   "cell_type": "markdown",
   "metadata": {},
   "source": [
    "### Husband나 Wife가 아닌경우엔 대다수가 0이다."
   ]
  },
  {
   "cell_type": "code",
   "execution_count": 20,
   "metadata": {
    "ExecuteTime": {
     "end_time": "2020-11-03T00:47:46.747485Z",
     "start_time": "2020-11-03T00:47:46.527449Z"
    }
   },
   "outputs": [
    {
     "data": {
      "image/png": "[encoded data removed]",
      "text/plain": [
       "<Figure size 720x360 with 1 Axes>"
      ]
     },
     "metadata": {},
     "output_type": "display_data"
    }
   ],
   "source": [
    "sns.set(rc={'figure.figsize':(10,5)})\n",
    "# sns.set_style(\"white\")\n",
    "sns.countplot(x=\"relationship\",hue=\"income\", data=train, palette=\"Set2\")\n",
    "sns.despine()\n",
    "# sns.countplot(x=\"relationship\",hue=\"income\", data=test, palette=\"Set2\")"
   ]
  },
  {
   "cell_type": "code",
   "execution_count": null,
   "metadata": {},
   "outputs": [],
   "source": []
  },
  {
   "cell_type": "markdown",
   "metadata": {
    "ExecuteTime": {
     "end_time": "2020-11-02T11:03:59.342092Z",
     "start_time": "2020-11-02T11:03:59.338052Z"
    }
   },
   "source": [
    "### Capital Gain이 5000이상은 1 비율이 많다"
   ]
  },
  {
   "cell_type": "code",
   "execution_count": 21,
   "metadata": {
    "ExecuteTime": {
     "end_time": "2020-11-03T00:47:46.939446Z",
     "start_time": "2020-11-03T00:47:46.748483Z"
    }
   },
   "outputs": [
    {
     "data": {
      "image/png": "[encoded data removed]",
      "text/plain": [
       "<Figure size 720x360 with 1 Axes>"
      ]
     },
     "metadata": {},
     "output_type": "display_data"
    }
   ],
   "source": [
    "train['cap_gain_bins'] = pd.cut(train['capital_gain'], [0,3000,4000, 5000, 6000, 7000, 8000, 9000, 100000],\n",
    "                                labels = [0,1,2,3,4,5,6,7]\n",
    "                               )\n",
    "sns.set(rc={'figure.figsize':(10,5)})\n",
    "sns.set_style(\"white\")\n",
    "sns.countplot(x=\"cap_gain_bins\",hue=\"income\", data=train, palette=\"Set2\")\n",
    "sns.despine()"
   ]
  },
  {
   "cell_type": "code",
   "execution_count": 22,
   "metadata": {
    "ExecuteTime": {
     "end_time": "2020-11-03T00:47:46.955480Z",
     "start_time": "2020-11-03T00:47:46.940464Z"
    }
   },
   "outputs": [
    {
     "data": {
      "text/plain": [
       "[NaN, 5, 1, 0, 2, 7, 3, 4, 6]\n",
       "Categories (8, int64): [0 < 1 < 2 < 3 < 4 < 5 < 6 < 7]"
      ]
     },
     "execution_count": 22,
     "metadata": {},
     "output_type": "execute_result"
    }
   ],
   "source": [
    "train.cap_gain_bins.unique()"
   ]
  },
  {
   "cell_type": "code",
   "execution_count": 23,
   "metadata": {
    "ExecuteTime": {
     "end_time": "2020-11-03T00:47:46.987480Z",
     "start_time": "2020-11-03T00:47:46.956480Z"
    }
   },
   "outputs": [
    {
     "data": {
      "text/html": [
       "<div>\n",
       "<style scoped>\n",
       "    .dataframe tbody tr th:only-of-type {\n",
       "        vertical-align: middle;\n",
       "    }\n",
       "\n",
       "    .dataframe tbody tr th {\n",
       "        vertical-align: top;\n",
       "    }\n",
       "\n",
       "    .dataframe thead th {\n",
       "        text-align: right;\n",
       "    }\n",
       "</style>\n",
       "<table border=\"1\" class=\"dataframe\">\n",
       "  <thead>\n",
       "    <tr style=\"text-align: right;\">\n",
       "      <th></th>\n",
       "      <th>id</th>\n",
       "      <th>age</th>\n",
       "      <th>workclass</th>\n",
       "      <th>fnlwgt</th>\n",
       "      <th>education</th>\n",
       "      <th>education_num</th>\n",
       "      <th>marital_status</th>\n",
       "      <th>occupation</th>\n",
       "      <th>relationship</th>\n",
       "      <th>race</th>\n",
       "      <th>sex</th>\n",
       "      <th>capital_gain</th>\n",
       "      <th>capital_loss</th>\n",
       "      <th>hours_per_week</th>\n",
       "      <th>native_country</th>\n",
       "      <th>income</th>\n",
       "      <th>cap_gain_bins</th>\n",
       "    </tr>\n",
       "  </thead>\n",
       "  <tbody>\n",
       "    <tr>\n",
       "      <th>10585</th>\n",
       "      <td>10585</td>\n",
       "      <td>33</td>\n",
       "      <td>Private</td>\n",
       "      <td>272411</td>\n",
       "      <td>Bachelors</td>\n",
       "      <td>13</td>\n",
       "      <td>Never-married</td>\n",
       "      <td>Exec-managerial</td>\n",
       "      <td>Not-in-family</td>\n",
       "      <td>White</td>\n",
       "      <td>Female</td>\n",
       "      <td>0</td>\n",
       "      <td>0</td>\n",
       "      <td>40</td>\n",
       "      <td>United-States</td>\n",
       "      <td>0</td>\n",
       "      <td>NaN</td>\n",
       "    </tr>\n",
       "    <tr>\n",
       "      <th>13048</th>\n",
       "      <td>13048</td>\n",
       "      <td>28</td>\n",
       "      <td>Private</td>\n",
       "      <td>392487</td>\n",
       "      <td>HS-grad</td>\n",
       "      <td>9</td>\n",
       "      <td>Married-civ-spouse</td>\n",
       "      <td>Sales</td>\n",
       "      <td>Wife</td>\n",
       "      <td>White</td>\n",
       "      <td>Female</td>\n",
       "      <td>0</td>\n",
       "      <td>0</td>\n",
       "      <td>40</td>\n",
       "      <td>United-States</td>\n",
       "      <td>0</td>\n",
       "      <td>NaN</td>\n",
       "    </tr>\n",
       "    <tr>\n",
       "      <th>24127</th>\n",
       "      <td>24127</td>\n",
       "      <td>52</td>\n",
       "      <td>Private</td>\n",
       "      <td>259363</td>\n",
       "      <td>HS-grad</td>\n",
       "      <td>9</td>\n",
       "      <td>Married-civ-spouse</td>\n",
       "      <td>Craft-repair</td>\n",
       "      <td>Husband</td>\n",
       "      <td>White</td>\n",
       "      <td>Male</td>\n",
       "      <td>0</td>\n",
       "      <td>0</td>\n",
       "      <td>50</td>\n",
       "      <td>United-States</td>\n",
       "      <td>1</td>\n",
       "      <td>NaN</td>\n",
       "    </tr>\n",
       "    <tr>\n",
       "      <th>25884</th>\n",
       "      <td>25884</td>\n",
       "      <td>40</td>\n",
       "      <td>Federal-gov</td>\n",
       "      <td>130749</td>\n",
       "      <td>Some-college</td>\n",
       "      <td>10</td>\n",
       "      <td>Divorced</td>\n",
       "      <td>Exec-managerial</td>\n",
       "      <td>Not-in-family</td>\n",
       "      <td>Black</td>\n",
       "      <td>Female</td>\n",
       "      <td>0</td>\n",
       "      <td>0</td>\n",
       "      <td>40</td>\n",
       "      <td>United-States</td>\n",
       "      <td>0</td>\n",
       "      <td>NaN</td>\n",
       "    </tr>\n",
       "    <tr>\n",
       "      <th>10147</th>\n",
       "      <td>10147</td>\n",
       "      <td>23</td>\n",
       "      <td>Private</td>\n",
       "      <td>204209</td>\n",
       "      <td>Some-college</td>\n",
       "      <td>10</td>\n",
       "      <td>Never-married</td>\n",
       "      <td>Handlers-cleaners</td>\n",
       "      <td>Own-child</td>\n",
       "      <td>White</td>\n",
       "      <td>Male</td>\n",
       "      <td>0</td>\n",
       "      <td>0</td>\n",
       "      <td>10</td>\n",
       "      <td>United-States</td>\n",
       "      <td>0</td>\n",
       "      <td>NaN</td>\n",
       "    </tr>\n",
       "    <tr>\n",
       "      <th>11521</th>\n",
       "      <td>11521</td>\n",
       "      <td>46</td>\n",
       "      <td>Self-emp-not-inc</td>\n",
       "      <td>168195</td>\n",
       "      <td>Prof-school</td>\n",
       "      <td>15</td>\n",
       "      <td>Married-civ-spouse</td>\n",
       "      <td>Prof-specialty</td>\n",
       "      <td>Husband</td>\n",
       "      <td>White</td>\n",
       "      <td>Male</td>\n",
       "      <td>0</td>\n",
       "      <td>1902</td>\n",
       "      <td>45</td>\n",
       "      <td>United-States</td>\n",
       "      <td>1</td>\n",
       "      <td>NaN</td>\n",
       "    </tr>\n",
       "    <tr>\n",
       "      <th>22682</th>\n",
       "      <td>22682</td>\n",
       "      <td>39</td>\n",
       "      <td>Private</td>\n",
       "      <td>70240</td>\n",
       "      <td>5th-6th</td>\n",
       "      <td>3</td>\n",
       "      <td>Married-spouse-absent</td>\n",
       "      <td>Other-service</td>\n",
       "      <td>Unmarried</td>\n",
       "      <td>Asian-Pac-Islander</td>\n",
       "      <td>Female</td>\n",
       "      <td>0</td>\n",
       "      <td>0</td>\n",
       "      <td>40</td>\n",
       "      <td>Philippines</td>\n",
       "      <td>0</td>\n",
       "      <td>NaN</td>\n",
       "    </tr>\n",
       "    <tr>\n",
       "      <th>20471</th>\n",
       "      <td>20471</td>\n",
       "      <td>53</td>\n",
       "      <td>Private</td>\n",
       "      <td>193720</td>\n",
       "      <td>Some-college</td>\n",
       "      <td>10</td>\n",
       "      <td>Married-civ-spouse</td>\n",
       "      <td>Exec-managerial</td>\n",
       "      <td>Husband</td>\n",
       "      <td>White</td>\n",
       "      <td>Male</td>\n",
       "      <td>0</td>\n",
       "      <td>1977</td>\n",
       "      <td>40</td>\n",
       "      <td>United-States</td>\n",
       "      <td>1</td>\n",
       "      <td>NaN</td>\n",
       "    </tr>\n",
       "    <tr>\n",
       "      <th>21742</th>\n",
       "      <td>21742</td>\n",
       "      <td>32</td>\n",
       "      <td>Private</td>\n",
       "      <td>255424</td>\n",
       "      <td>Bachelors</td>\n",
       "      <td>13</td>\n",
       "      <td>Married-civ-spouse</td>\n",
       "      <td>Sales</td>\n",
       "      <td>Husband</td>\n",
       "      <td>White</td>\n",
       "      <td>Male</td>\n",
       "      <td>0</td>\n",
       "      <td>0</td>\n",
       "      <td>60</td>\n",
       "      <td>United-States</td>\n",
       "      <td>1</td>\n",
       "      <td>NaN</td>\n",
       "    </tr>\n",
       "    <tr>\n",
       "      <th>6950</th>\n",
       "      <td>6950</td>\n",
       "      <td>30</td>\n",
       "      <td>Self-emp-not-inc</td>\n",
       "      <td>281030</td>\n",
       "      <td>HS-grad</td>\n",
       "      <td>9</td>\n",
       "      <td>Never-married</td>\n",
       "      <td>Sales</td>\n",
       "      <td>Unmarried</td>\n",
       "      <td>White</td>\n",
       "      <td>Male</td>\n",
       "      <td>0</td>\n",
       "      <td>0</td>\n",
       "      <td>66</td>\n",
       "      <td>United-States</td>\n",
       "      <td>0</td>\n",
       "      <td>NaN</td>\n",
       "    </tr>\n",
       "  </tbody>\n",
       "</table>\n",
       "</div>"
      ],
      "text/plain": [
       "          id  age         workclass  fnlwgt     education  education_num  \\\n",
       "10585  10585   33           Private  272411     Bachelors             13   \n",
       "13048  13048   28           Private  392487       HS-grad              9   \n",
       "24127  24127   52           Private  259363       HS-grad              9   \n",
       "25884  25884   40       Federal-gov  130749  Some-college             10   \n",
       "10147  10147   23           Private  204209  Some-college             10   \n",
       "11521  11521   46  Self-emp-not-inc  168195   Prof-school             15   \n",
       "22682  22682   39           Private   70240       5th-6th              3   \n",
       "20471  20471   53           Private  193720  Some-college             10   \n",
       "21742  21742   32           Private  255424     Bachelors             13   \n",
       "6950    6950   30  Self-emp-not-inc  281030       HS-grad              9   \n",
       "\n",
       "              marital_status         occupation   relationship  \\\n",
       "10585          Never-married    Exec-managerial  Not-in-family   \n",
       "13048     Married-civ-spouse              Sales           Wife   \n",
       "24127     Married-civ-spouse       Craft-repair        Husband   \n",
       "25884               Divorced    Exec-managerial  Not-in-family   \n",
       "10147          Never-married  Handlers-cleaners      Own-child   \n",
       "11521     Married-civ-spouse     Prof-specialty        Husband   \n",
       "22682  Married-spouse-absent      Other-service      Unmarried   \n",
       "20471     Married-civ-spouse    Exec-managerial        Husband   \n",
       "21742     Married-civ-spouse              Sales        Husband   \n",
       "6950           Never-married              Sales      Unmarried   \n",
       "\n",
       "                     race     sex  capital_gain  capital_loss  hours_per_week  \\\n",
       "10585               White  Female             0             0              40   \n",
       "13048               White  Female             0             0              40   \n",
       "24127               White    Male             0             0              50   \n",
       "25884               Black  Female             0             0              40   \n",
       "10147               White    Male             0             0              10   \n",
       "11521               White    Male             0          1902              45   \n",
       "22682  Asian-Pac-Islander  Female             0             0              40   \n",
       "20471               White    Male             0          1977              40   \n",
       "21742               White    Male             0             0              60   \n",
       "6950                White    Male             0             0              66   \n",
       "\n",
       "      native_country  income cap_gain_bins  \n",
       "10585  United-States       0           NaN  \n",
       "13048  United-States       0           NaN  \n",
       "24127  United-States       1           NaN  \n",
       "25884  United-States       0           NaN  \n",
       "10147  United-States       0           NaN  \n",
       "11521  United-States       1           NaN  \n",
       "22682    Philippines       0           NaN  \n",
       "20471  United-States       1           NaN  \n",
       "21742  United-States       1           NaN  \n",
       "6950   United-States       0           NaN  "
      ]
     },
     "execution_count": 23,
     "metadata": {},
     "output_type": "execute_result"
    }
   ],
   "source": [
    "train.sample(10)"
   ]
  },
  {
   "cell_type": "code",
   "execution_count": 24,
   "metadata": {
    "ExecuteTime": {
     "end_time": "2020-11-03T00:47:47.226448Z",
     "start_time": "2020-11-03T00:47:46.989447Z"
    }
   },
   "outputs": [
    {
     "data": {
      "text/plain": [
       "Text(0.5, 1.0, 'age dist')"
      ]
     },
     "execution_count": 24,
     "metadata": {},
     "output_type": "execute_result"
    },
    {
     "data": {
      "image/png": "[encoded data removed]",
      "text/plain": [
       "<Figure size 864x360 with 1 Axes>"
      ]
     },
     "metadata": {},
     "output_type": "display_data"
    }
   ],
   "source": [
    "fig, ax = plt.subplots(1,1, figsize = (12,5))\n",
    "ax.hist(train['age'], width =3, edgecolor = 'red')\n",
    "ax.set_title('age dist', fontweight = 'bold')"
   ]
  },
  {
   "cell_type": "code",
   "execution_count": 25,
   "metadata": {
    "ExecuteTime": {
     "end_time": "2020-11-03T00:47:47.242095Z",
     "start_time": "2020-11-03T00:47:47.232447Z"
    }
   },
   "outputs": [],
   "source": [
    "# sns.distplot()"
   ]
  },
  {
   "cell_type": "code",
   "execution_count": 26,
   "metadata": {
    "ExecuteTime": {
     "end_time": "2020-11-03T00:47:47.430828Z",
     "start_time": "2020-11-03T00:47:47.244651Z"
    }
   },
   "outputs": [
    {
     "data": {
      "text/plain": [
       "<matplotlib.axes._subplots.AxesSubplot at 0x2bba5a3b1f0>"
      ]
     },
     "execution_count": 26,
     "metadata": {},
     "output_type": "execute_result"
    },
    {
     "data": {
      "image/png": "[encoded data removed]",
      "text/plain": [
       "<Figure size 720x360 with 1 Axes>"
      ]
     },
     "metadata": {},
     "output_type": "display_data"
    }
   ],
   "source": [
    "sns.kdeplot(data=train['age'])"
   ]
  },
  {
   "cell_type": "code",
   "execution_count": null,
   "metadata": {},
   "outputs": [],
   "source": []
  },
  {
   "cell_type": "code",
   "execution_count": 27,
   "metadata": {
    "ExecuteTime": {
     "end_time": "2020-11-03T00:47:47.872833Z",
     "start_time": "2020-11-03T00:47:47.432648Z"
    }
   },
   "outputs": [
    {
     "data": {
      "text/plain": [
       "<matplotlib.axes._subplots.AxesSubplot at 0x2bba6b1b460>"
      ]
     },
     "execution_count": 27,
     "metadata": {},
     "output_type": "execute_result"
    },
    {
     "data": {
      "image/png": "[encoded data removed]",
      "text/plain": [
       "<Figure size 1800x720 with 2 Axes>"
      ]
     },
     "metadata": {},
     "output_type": "display_data"
    }
   ],
   "source": [
    "import missingno as msno\n",
    "msno.matrix(train)"
   ]
  },
  {
   "cell_type": "code",
   "execution_count": 28,
   "metadata": {
    "ExecuteTime": {
     "end_time": "2020-11-03T00:47:50.189680Z",
     "start_time": "2020-11-03T00:47:47.873828Z"
    }
   },
   "outputs": [
    {
     "data": {
      "image/png": "[encoded data removed]",
      "text/plain": [
       "<Figure size 864x432 with 1 Axes>"
      ]
     },
     "metadata": {},
     "output_type": "display_data"
    }
   ],
   "source": [
    "fig, ax = plt.subplots(1,1, figsize = (12,6))\n",
    "sns.countplot(x='capital_gain', data = train)\n",
    "plt.show()"
   ]
  },
  {
   "cell_type": "code",
   "execution_count": 29,
   "metadata": {
    "ExecuteTime": {
     "end_time": "2020-11-03T00:47:50.332789Z",
     "start_time": "2020-11-03T00:47:50.190681Z"
    }
   },
   "outputs": [
    {
     "data": {
      "image/png": "[encoded data removed]",
      "text/plain": [
       "<Figure size 576x432 with 1 Axes>"
      ]
     },
     "metadata": {},
     "output_type": "display_data"
    }
   ],
   "source": [
    "plt.style.use('seaborn')\n",
    "\n",
    "fig, ax = plt.subplots(1, 1, figsize=(8, 6))\n",
    "sns.countplot(x='sex', data = train, hue = 'income')\n",
    "plt.show()"
   ]
  },
  {
   "cell_type": "code",
   "execution_count": 30,
   "metadata": {
    "ExecuteTime": {
     "end_time": "2020-11-03T00:47:50.550853Z",
     "start_time": "2020-11-03T00:47:50.333821Z"
    }
   },
   "outputs": [
    {
     "data": {
      "image/png": "[encoded data removed]",
      "text/plain": [
       "<Figure size 936x504 with 2 Axes>"
      ]
     },
     "metadata": {},
     "output_type": "display_data"
    }
   ],
   "source": [
    "fig, axes = plt.subplots(1, 2, figsize=(13, 7), sharey=True)\n",
    "\n",
    "sns.countplot(x='sex', data= train, ax=axes[0], palette=\"Set2\", edgecolor='black') \n",
    "sns.countplot(x='income', data=train, ax=axes[1], color='gray', edgecolor='black') \n",
    "\n",
    "# Margin & Label 조정\n",
    "for ax in axes : \n",
    "    ax.margins(0.12, 0.15)\n",
    "    ax.xaxis.label.set_size(12)\n",
    "    ax.xaxis.label.set_weight('bold')\n",
    "\n",
    "    \n",
    "# figure title    \n",
    "plt.suptitle('Categorical Distribution', \n",
    "             fontsize=17, \n",
    "             fontweight='bold',\n",
    "             x=0.05, y=1.06,\n",
    "             ha='left' # horizontal alignment\n",
    "            ) \n",
    "\n",
    "plt.tight_layout()\n",
    "plt.show()"
   ]
  },
  {
   "cell_type": "code",
   "execution_count": 31,
   "metadata": {
    "ExecuteTime": {
     "end_time": "2020-11-03T00:47:50.582810Z",
     "start_time": "2020-11-03T00:47:50.551779Z"
    }
   },
   "outputs": [
    {
     "data": {
      "text/html": [
       "<div>\n",
       "<style scoped>\n",
       "    .dataframe tbody tr th:only-of-type {\n",
       "        vertical-align: middle;\n",
       "    }\n",
       "\n",
       "    .dataframe tbody tr th {\n",
       "        vertical-align: top;\n",
       "    }\n",
       "\n",
       "    .dataframe thead th {\n",
       "        text-align: right;\n",
       "    }\n",
       "</style>\n",
       "<table border=\"1\" class=\"dataframe\">\n",
       "  <thead>\n",
       "    <tr style=\"text-align: right;\">\n",
       "      <th></th>\n",
       "      <th>id</th>\n",
       "      <th>age</th>\n",
       "      <th>workclass</th>\n",
       "      <th>fnlwgt</th>\n",
       "      <th>education</th>\n",
       "      <th>education_num</th>\n",
       "      <th>marital_status</th>\n",
       "      <th>occupation</th>\n",
       "      <th>relationship</th>\n",
       "      <th>race</th>\n",
       "      <th>sex</th>\n",
       "      <th>capital_gain</th>\n",
       "      <th>capital_loss</th>\n",
       "      <th>hours_per_week</th>\n",
       "      <th>native_country</th>\n",
       "      <th>income</th>\n",
       "      <th>cap_gain_bins</th>\n",
       "    </tr>\n",
       "  </thead>\n",
       "  <tbody>\n",
       "    <tr>\n",
       "      <th>0</th>\n",
       "      <td>0</td>\n",
       "      <td>40</td>\n",
       "      <td>Private</td>\n",
       "      <td>168538</td>\n",
       "      <td>HS-grad</td>\n",
       "      <td>9</td>\n",
       "      <td>Married-civ-spouse</td>\n",
       "      <td>Sales</td>\n",
       "      <td>Husband</td>\n",
       "      <td>White</td>\n",
       "      <td>Male</td>\n",
       "      <td>0</td>\n",
       "      <td>0</td>\n",
       "      <td>60</td>\n",
       "      <td>United-States</td>\n",
       "      <td>1</td>\n",
       "      <td>NaN</td>\n",
       "    </tr>\n",
       "    <tr>\n",
       "      <th>1</th>\n",
       "      <td>1</td>\n",
       "      <td>17</td>\n",
       "      <td>Private</td>\n",
       "      <td>101626</td>\n",
       "      <td>9th</td>\n",
       "      <td>5</td>\n",
       "      <td>Never-married</td>\n",
       "      <td>Machine-op-inspct</td>\n",
       "      <td>Own-child</td>\n",
       "      <td>White</td>\n",
       "      <td>Male</td>\n",
       "      <td>0</td>\n",
       "      <td>0</td>\n",
       "      <td>20</td>\n",
       "      <td>United-States</td>\n",
       "      <td>0</td>\n",
       "      <td>NaN</td>\n",
       "    </tr>\n",
       "    <tr>\n",
       "      <th>2</th>\n",
       "      <td>2</td>\n",
       "      <td>18</td>\n",
       "      <td>Private</td>\n",
       "      <td>353358</td>\n",
       "      <td>Some-college</td>\n",
       "      <td>10</td>\n",
       "      <td>Never-married</td>\n",
       "      <td>Other-service</td>\n",
       "      <td>Own-child</td>\n",
       "      <td>White</td>\n",
       "      <td>Male</td>\n",
       "      <td>0</td>\n",
       "      <td>0</td>\n",
       "      <td>16</td>\n",
       "      <td>United-States</td>\n",
       "      <td>0</td>\n",
       "      <td>NaN</td>\n",
       "    </tr>\n",
       "    <tr>\n",
       "      <th>3</th>\n",
       "      <td>3</td>\n",
       "      <td>21</td>\n",
       "      <td>Private</td>\n",
       "      <td>151158</td>\n",
       "      <td>Some-college</td>\n",
       "      <td>10</td>\n",
       "      <td>Never-married</td>\n",
       "      <td>Prof-specialty</td>\n",
       "      <td>Own-child</td>\n",
       "      <td>White</td>\n",
       "      <td>Female</td>\n",
       "      <td>0</td>\n",
       "      <td>0</td>\n",
       "      <td>25</td>\n",
       "      <td>United-States</td>\n",
       "      <td>0</td>\n",
       "      <td>NaN</td>\n",
       "    </tr>\n",
       "    <tr>\n",
       "      <th>4</th>\n",
       "      <td>4</td>\n",
       "      <td>24</td>\n",
       "      <td>Private</td>\n",
       "      <td>122234</td>\n",
       "      <td>Some-college</td>\n",
       "      <td>10</td>\n",
       "      <td>Never-married</td>\n",
       "      <td>Adm-clerical</td>\n",
       "      <td>Not-in-family</td>\n",
       "      <td>Black</td>\n",
       "      <td>Female</td>\n",
       "      <td>0</td>\n",
       "      <td>0</td>\n",
       "      <td>20</td>\n",
       "      <td>?</td>\n",
       "      <td>0</td>\n",
       "      <td>NaN</td>\n",
       "    </tr>\n",
       "    <tr>\n",
       "      <th>...</th>\n",
       "      <td>...</td>\n",
       "      <td>...</td>\n",
       "      <td>...</td>\n",
       "      <td>...</td>\n",
       "      <td>...</td>\n",
       "      <td>...</td>\n",
       "      <td>...</td>\n",
       "      <td>...</td>\n",
       "      <td>...</td>\n",
       "      <td>...</td>\n",
       "      <td>...</td>\n",
       "      <td>...</td>\n",
       "      <td>...</td>\n",
       "      <td>...</td>\n",
       "      <td>...</td>\n",
       "      <td>...</td>\n",
       "      <td>...</td>\n",
       "    </tr>\n",
       "    <tr>\n",
       "      <th>26044</th>\n",
       "      <td>26044</td>\n",
       "      <td>57</td>\n",
       "      <td>Private</td>\n",
       "      <td>250201</td>\n",
       "      <td>11th</td>\n",
       "      <td>7</td>\n",
       "      <td>Married-civ-spouse</td>\n",
       "      <td>Other-service</td>\n",
       "      <td>Husband</td>\n",
       "      <td>White</td>\n",
       "      <td>Male</td>\n",
       "      <td>0</td>\n",
       "      <td>0</td>\n",
       "      <td>52</td>\n",
       "      <td>United-States</td>\n",
       "      <td>0</td>\n",
       "      <td>NaN</td>\n",
       "    </tr>\n",
       "    <tr>\n",
       "      <th>26045</th>\n",
       "      <td>26045</td>\n",
       "      <td>23</td>\n",
       "      <td>Private</td>\n",
       "      <td>238092</td>\n",
       "      <td>Bachelors</td>\n",
       "      <td>13</td>\n",
       "      <td>Never-married</td>\n",
       "      <td>Prof-specialty</td>\n",
       "      <td>Own-child</td>\n",
       "      <td>White</td>\n",
       "      <td>Male</td>\n",
       "      <td>0</td>\n",
       "      <td>0</td>\n",
       "      <td>40</td>\n",
       "      <td>United-States</td>\n",
       "      <td>0</td>\n",
       "      <td>NaN</td>\n",
       "    </tr>\n",
       "    <tr>\n",
       "      <th>26046</th>\n",
       "      <td>26046</td>\n",
       "      <td>78</td>\n",
       "      <td>?</td>\n",
       "      <td>165694</td>\n",
       "      <td>Masters</td>\n",
       "      <td>14</td>\n",
       "      <td>Widowed</td>\n",
       "      <td>?</td>\n",
       "      <td>Not-in-family</td>\n",
       "      <td>White</td>\n",
       "      <td>Female</td>\n",
       "      <td>0</td>\n",
       "      <td>0</td>\n",
       "      <td>15</td>\n",
       "      <td>United-States</td>\n",
       "      <td>0</td>\n",
       "      <td>NaN</td>\n",
       "    </tr>\n",
       "    <tr>\n",
       "      <th>26047</th>\n",
       "      <td>26047</td>\n",
       "      <td>26</td>\n",
       "      <td>Self-emp-not-inc</td>\n",
       "      <td>151626</td>\n",
       "      <td>HS-grad</td>\n",
       "      <td>9</td>\n",
       "      <td>Never-married</td>\n",
       "      <td>Prof-specialty</td>\n",
       "      <td>Own-child</td>\n",
       "      <td>Black</td>\n",
       "      <td>Female</td>\n",
       "      <td>0</td>\n",
       "      <td>0</td>\n",
       "      <td>40</td>\n",
       "      <td>United-States</td>\n",
       "      <td>0</td>\n",
       "      <td>NaN</td>\n",
       "    </tr>\n",
       "    <tr>\n",
       "      <th>26048</th>\n",
       "      <td>26048</td>\n",
       "      <td>20</td>\n",
       "      <td>?</td>\n",
       "      <td>99891</td>\n",
       "      <td>Some-college</td>\n",
       "      <td>10</td>\n",
       "      <td>Never-married</td>\n",
       "      <td>?</td>\n",
       "      <td>Own-child</td>\n",
       "      <td>White</td>\n",
       "      <td>Female</td>\n",
       "      <td>0</td>\n",
       "      <td>0</td>\n",
       "      <td>30</td>\n",
       "      <td>United-States</td>\n",
       "      <td>0</td>\n",
       "      <td>NaN</td>\n",
       "    </tr>\n",
       "  </tbody>\n",
       "</table>\n",
       "<p>26049 rows × 17 columns</p>\n",
       "</div>"
      ],
      "text/plain": [
       "          id  age         workclass  fnlwgt     education  education_num  \\\n",
       "0          0   40           Private  168538       HS-grad              9   \n",
       "1          1   17           Private  101626           9th              5   \n",
       "2          2   18           Private  353358  Some-college             10   \n",
       "3          3   21           Private  151158  Some-college             10   \n",
       "4          4   24           Private  122234  Some-college             10   \n",
       "...      ...  ...               ...     ...           ...            ...   \n",
       "26044  26044   57           Private  250201          11th              7   \n",
       "26045  26045   23           Private  238092     Bachelors             13   \n",
       "26046  26046   78                 ?  165694       Masters             14   \n",
       "26047  26047   26  Self-emp-not-inc  151626       HS-grad              9   \n",
       "26048  26048   20                 ?   99891  Some-college             10   \n",
       "\n",
       "           marital_status         occupation   relationship   race     sex  \\\n",
       "0      Married-civ-spouse              Sales        Husband  White    Male   \n",
       "1           Never-married  Machine-op-inspct      Own-child  White    Male   \n",
       "2           Never-married      Other-service      Own-child  White    Male   \n",
       "3           Never-married     Prof-specialty      Own-child  White  Female   \n",
       "4           Never-married       Adm-clerical  Not-in-family  Black  Female   \n",
       "...                   ...                ...            ...    ...     ...   \n",
       "26044  Married-civ-spouse      Other-service        Husband  White    Male   \n",
       "26045       Never-married     Prof-specialty      Own-child  White    Male   \n",
       "26046             Widowed                  ?  Not-in-family  White  Female   \n",
       "26047       Never-married     Prof-specialty      Own-child  Black  Female   \n",
       "26048       Never-married                  ?      Own-child  White  Female   \n",
       "\n",
       "       capital_gain  capital_loss  hours_per_week native_country  income  \\\n",
       "0                 0             0              60  United-States       1   \n",
       "1                 0             0              20  United-States       0   \n",
       "2                 0             0              16  United-States       0   \n",
       "3                 0             0              25  United-States       0   \n",
       "4                 0             0              20              ?       0   \n",
       "...             ...           ...             ...            ...     ...   \n",
       "26044             0             0              52  United-States       0   \n",
       "26045             0             0              40  United-States       0   \n",
       "26046             0             0              15  United-States       0   \n",
       "26047             0             0              40  United-States       0   \n",
       "26048             0             0              30  United-States       0   \n",
       "\n",
       "      cap_gain_bins  \n",
       "0               NaN  \n",
       "1               NaN  \n",
       "2               NaN  \n",
       "3               NaN  \n",
       "4               NaN  \n",
       "...             ...  \n",
       "26044           NaN  \n",
       "26045           NaN  \n",
       "26046           NaN  \n",
       "26047           NaN  \n",
       "26048           NaN  \n",
       "\n",
       "[26049 rows x 17 columns]"
      ]
     },
     "execution_count": 31,
     "metadata": {},
     "output_type": "execute_result"
    }
   ],
   "source": [
    "train"
   ]
  },
  {
   "cell_type": "markdown",
   "metadata": {},
   "source": [
    "train.corr().style ~~ 어쩌꼬 써도 됨"
   ]
  },
  {
   "cell_type": "code",
   "execution_count": 32,
   "metadata": {
    "ExecuteTime": {
     "end_time": "2020-11-03T00:47:50.978988Z",
     "start_time": "2020-11-03T00:47:50.583838Z"
    }
   },
   "outputs": [
    {
     "data": {
      "text/plain": [
       "<matplotlib.axes._subplots.AxesSubplot at 0x2bba853b910>"
      ]
     },
     "execution_count": 32,
     "metadata": {},
     "output_type": "execute_result"
    },
    {
     "data": {
      "image/png": "[encoded data removed]",
      "text/plain": [
       "<Figure size 576x396 with 2 Axes>"
      ]
     },
     "metadata": {},
     "output_type": "display_data"
    }
   ],
   "source": [
    "sns.heatmap(train.corr(), annot = True, square = True, linewidth = 0.2, cmap = 'coolwarm', vmax = 1.0, vmin = -1.0)"
   ]
  },
  {
   "cell_type": "code",
   "execution_count": 33,
   "metadata": {
    "ExecuteTime": {
     "end_time": "2020-11-03T00:47:51.626843Z",
     "start_time": "2020-11-03T00:47:50.980809Z"
    },
    "scrolled": false
   },
   "outputs": [
    {
     "data": {
      "image/png": "[encoded data removed]",
      "text/plain": [
       "<Figure size 1080x1080 with 4 Axes>"
      ]
     },
     "metadata": {},
     "output_type": "display_data"
    }
   ],
   "source": [
    "ax = sns.clustermap(train.corr(), annot=True, linewidths=.6, fmt= '.2f', figsize=(15, 15))\n",
    "plt.show()"
   ]
  },
  {
   "cell_type": "code",
   "execution_count": null,
   "metadata": {},
   "outputs": [],
   "source": []
  },
  {
   "cell_type": "markdown",
   "metadata": {},
   "source": [
    "## 전처리"
   ]
  },
  {
   "cell_type": "code",
   "execution_count": 34,
   "metadata": {
    "ExecuteTime": {
     "end_time": "2020-11-03T00:47:51.641858Z",
     "start_time": "2020-11-03T00:47:51.628810Z"
    }
   },
   "outputs": [],
   "source": [
    "# def get_keys(dd):\n",
    "#     return list(dd.keys())\n",
    "\n",
    "def summarizing_dd(dd):\n",
    "    \n",
    "    print(\"\\n1. Keys\")\n",
    "    print(dd.columns)\n",
    "    print(\"\\n2. Shape\")\n",
    "    print(dd.shape)\n",
    "    print(\"\\n3. Head\")\n",
    "    print(dd.head(5))\n",
    "\n",
    "def plot_histogram(dd):\n",
    "\n",
    "    plt.figure(figsize=(15, 10))\n",
    "    for idx_k, key in enumerate(dd.columns):\n",
    "        plt.subplot(4, 5, idx_k+1)\n",
    "        plt.title(key)\n",
    "        dd[key].hist()\n",
    "        plt.grid()\n",
    "    plt.tight_layout()\n",
    "    plt.show()"
   ]
  },
  {
   "cell_type": "markdown",
   "metadata": {
    "ExecuteTime": {
     "end_time": "2020-11-02T07:19:01.431994Z",
     "start_time": "2020-11-02T07:19:01.426424Z"
    }
   },
   "source": [
    "### Capital Gain Bins"
   ]
  },
  {
   "cell_type": "code",
   "execution_count": 35,
   "metadata": {
    "ExecuteTime": {
     "end_time": "2020-11-03T00:47:51.656856Z",
     "start_time": "2020-11-03T00:47:51.642859Z"
    }
   },
   "outputs": [],
   "source": [
    "def cap_gain_bins(dd):\n",
    "    dd['cap_gain_bins'] = pd.cut(dd['capital_gain'], [-1,3000,4000, 5000, 6000, 7000, 8000, 9000, 100000],\n",
    "                                labels = [0,1,2,3,4,5,6,7])\n",
    "    \n",
    "for dd in [train, test]:\n",
    "    cap_gain_bins(dd)"
   ]
  },
  {
   "cell_type": "markdown",
   "metadata": {},
   "source": [
    "### Column Drop"
   ]
  },
  {
   "cell_type": "code",
   "execution_count": 36,
   "metadata": {
    "ExecuteTime": {
     "end_time": "2020-11-03T00:47:51.671856Z",
     "start_time": "2020-11-03T00:47:51.658861Z"
    }
   },
   "outputs": [],
   "source": [
    "def col_drop(dd):\n",
    "    dd.drop(['education',\n",
    "#              'race','marital_status'\n",
    "            ], axis = 1, inplace = True)\n",
    "\n",
    "for dd in [train, test]:\n",
    "    col_drop(dd)"
   ]
  },
  {
   "cell_type": "code",
   "execution_count": 37,
   "metadata": {
    "ExecuteTime": {
     "end_time": "2020-11-03T00:47:51.686856Z",
     "start_time": "2020-11-03T00:47:51.672859Z"
    }
   },
   "outputs": [
    {
     "data": {
      "text/plain": [
       "(26049, 16)"
      ]
     },
     "execution_count": 37,
     "metadata": {},
     "output_type": "execute_result"
    }
   ],
   "source": [
    "train.shape"
   ]
  },
  {
   "cell_type": "code",
   "execution_count": 38,
   "metadata": {
    "ExecuteTime": {
     "end_time": "2020-11-03T00:47:51.718890Z",
     "start_time": "2020-11-03T00:47:51.687893Z"
    }
   },
   "outputs": [
    {
     "name": "stdout",
     "output_type": "stream",
     "text": [
      "<class 'pandas.core.frame.DataFrame'>\n",
      "RangeIndex: 26049 entries, 0 to 26048\n",
      "Data columns (total 16 columns):\n",
      " #   Column          Non-Null Count  Dtype   \n",
      "---  ------          --------------  -----   \n",
      " 0   id              26049 non-null  int64   \n",
      " 1   age             26049 non-null  int64   \n",
      " 2   workclass       26049 non-null  object  \n",
      " 3   fnlwgt          26049 non-null  int64   \n",
      " 4   education_num   26049 non-null  int64   \n",
      " 5   marital_status  26049 non-null  object  \n",
      " 6   occupation      26049 non-null  object  \n",
      " 7   relationship    26049 non-null  object  \n",
      " 8   race            26049 non-null  object  \n",
      " 9   sex             26049 non-null  object  \n",
      " 10  capital_gain    26049 non-null  int64   \n",
      " 11  capital_loss    26049 non-null  int64   \n",
      " 12  hours_per_week  26049 non-null  int64   \n",
      " 13  native_country  26049 non-null  object  \n",
      " 14  income          26049 non-null  int64   \n",
      " 15  cap_gain_bins   26049 non-null  category\n",
      "dtypes: category(1), int64(8), object(7)\n",
      "memory usage: 3.0+ MB\n"
     ]
    }
   ],
   "source": [
    "train.info()"
   ]
  },
  {
   "cell_type": "markdown",
   "metadata": {},
   "source": [
    "### label encoding"
   ]
  },
  {
   "cell_type": "code",
   "execution_count": 39,
   "metadata": {
    "ExecuteTime": {
     "end_time": "2020-11-03T00:47:57.938696Z",
     "start_time": "2020-11-03T00:47:51.719894Z"
    }
   },
   "outputs": [
    {
     "name": "stdout",
     "output_type": "stream",
     "text": [
      "Column [id] is \"int64\"\n",
      "\tencoding [id]....\n",
      "Column [age] is \"int64\"\n",
      "\tencoding [age]....\n",
      "Column [workclass] is \"object\"\n",
      "\tencoding [workclass]....\n",
      "Column [fnlwgt] is \"int64\"\n",
      "\tencoding [fnlwgt]....\n",
      "Column [education_num] is \"int64\"\n",
      "\tencoding [education_num]....\n",
      "Column [marital_status] is \"object\"\n",
      "\tencoding [marital_status]....\n",
      "Column [occupation] is \"object\"\n",
      "\tencoding [occupation]....\n",
      "Column [relationship] is \"object\"\n",
      "\tencoding [relationship]....\n",
      "Column [race] is \"object\"\n",
      "\tencoding [race]....\n",
      "Column [sex] is \"object\"\n",
      "\tencoding [sex]....\n",
      "Column [capital_gain] is \"int64\"\n",
      "\tencoding [capital_gain]....\n",
      "Column [capital_loss] is \"int64\"\n",
      "\tencoding [capital_loss]....\n",
      "Column [hours_per_week] is \"int64\"\n",
      "\tencoding [hours_per_week]....\n",
      "Column [native_country] is \"object\"\n",
      "\tencoding [native_country]....\n",
      "Column [income] is \"int64\"\n",
      "\tencoding [income]....\n",
      "Column [cap_gain_bins] is \"category\"\n",
      "\tencoding [cap_gain_bins]....\n",
      "[Label encoding done.]\n",
      "\n",
      "1. Keys\n",
      "Index(['id', 'age', 'workclass', 'fnlwgt', 'education_num', 'marital_status',\n",
      "       'occupation', 'relationship', 'race', 'sex', 'capital_gain',\n",
      "       'capital_loss', 'hours_per_week', 'native_country', 'income',\n",
      "       'cap_gain_bins'],\n",
      "      dtype='object')\n",
      "\n",
      "2. Shape\n",
      "(26049, 16)\n",
      "\n",
      "3. Head\n",
      "   id  age  workclass  fnlwgt  education_num  marital_status  occupation  \\\n",
      "0   0   23          4    7925              8               2          12   \n",
      "1   1    0          4    3390              4               4           7   \n",
      "2   2    1          4   16889              9               4           8   \n",
      "3   3    4          4    6669              9               4          10   \n",
      "4   4    7          4    4900              9               4           1   \n",
      "\n",
      "   relationship  race  sex  capital_gain  capital_loss  hours_per_week  \\\n",
      "0             0     4    1             0             0              59   \n",
      "1             3     4    1             0             0              19   \n",
      "2             3     4    1             0             0              15   \n",
      "3             3     4    0             0             0              24   \n",
      "4             1     2    0             0             0              19   \n",
      "\n",
      "   native_country  income  cap_gain_bins  \n",
      "0              38       1              0  \n",
      "1              38       0              0  \n",
      "2              38       0              0  \n",
      "3              38       0              0  \n",
      "4               0       0              0  \n"
     ]
    },
    {
     "data": {
      "image/png": "[encoded data removed]",
      "text/plain": [
       "<Figure size 1080x720 with 16 Axes>"
      ]
     },
     "metadata": {},
     "output_type": "display_data"
    },
    {
     "name": "stdout",
     "output_type": "stream",
     "text": [
      "Column [id] is \"int64\"\n",
      "\tencoding [id]....\n",
      "Column [age] is \"int64\"\n",
      "\tencoding [age]....\n",
      "Column [workclass] is \"object\"\n",
      "\tencoding [workclass]....\n",
      "Column [fnlwgt] is \"int64\"\n",
      "\tencoding [fnlwgt]....\n",
      "Column [education_num] is \"int64\"\n",
      "\tencoding [education_num]....\n",
      "Column [marital_status] is \"object\"\n",
      "\tencoding [marital_status]....\n",
      "Column [occupation] is \"object\"\n",
      "\tencoding [occupation]....\n",
      "Column [relationship] is \"object\"\n",
      "\tencoding [relationship]....\n",
      "Column [race] is \"object\"\n",
      "\tencoding [race]....\n",
      "Column [sex] is \"object\"\n",
      "\tencoding [sex]....\n",
      "Column [capital_gain] is \"int64\"\n",
      "\tencoding [capital_gain]....\n",
      "Column [capital_loss] is \"int64\"\n",
      "\tencoding [capital_loss]....\n",
      "Column [hours_per_week] is \"int64\"\n",
      "\tencoding [hours_per_week]....\n",
      "Column [native_country] is \"object\"\n",
      "\tencoding [native_country]....\n",
      "Column [cap_gain_bins] is \"category\"\n",
      "\tencoding [cap_gain_bins]....\n",
      "[Label encoding done.]\n",
      "\n",
      "1. Keys\n",
      "Index(['id', 'age', 'workclass', 'fnlwgt', 'education_num', 'marital_status',\n",
      "       'occupation', 'relationship', 'race', 'sex', 'capital_gain',\n",
      "       'capital_loss', 'hours_per_week', 'native_country', 'cap_gain_bins'],\n",
      "      dtype='object')\n",
      "\n",
      "2. Shape\n",
      "(6512, 15)\n",
      "\n",
      "3. Head\n",
      "   id  age  workclass  fnlwgt  education_num  marital_status  occupation  \\\n",
      "0   0   11          4     616              9               4           1   \n",
      "1   1   23          5     276              8               2           4   \n",
      "2   2    3          4    1301              9               4           6   \n",
      "3   3   23          4    1412             10               2           4   \n",
      "4   4   20          4     431             15               2          10   \n",
      "\n",
      "   relationship  race  sex  capital_gain  capital_loss  hours_per_week  \\\n",
      "0             2     4    0             0             0              37   \n",
      "1             0     4    1             0             0              47   \n",
      "2             3     4    1             0             0              22   \n",
      "3             0     4    1             0             0              47   \n",
      "4             0     4    1             0             0              78   \n",
      "\n",
      "   native_country  cap_gain_bins  \n",
      "0              39              0  \n",
      "1              39              0  \n",
      "2              39              0  \n",
      "3              39              0  \n",
      "4              10              0  \n"
     ]
    },
    {
     "data": {
      "image/png": "[encoded data removed]",
      "text/plain": [
       "<Figure size 1080x720 with 15 Axes>"
      ]
     },
     "metadata": {},
     "output_type": "display_data"
    }
   ],
   "source": [
    "def lable_encode_df(dd):\n",
    "    le = LabelEncoder()\n",
    "    for col in dd.columns:\n",
    "        print(f'Column [{col}] is \"{dd[col].dtypes}\"')\n",
    "        if dd[col].dtypes == 'object' or 'category':\n",
    "            print(f'\\tencoding [{col}]....')\n",
    "            dd[col] = le.fit_transform(dd[col])\n",
    "    print('[Label encoding done.]')\n",
    "    print(\"\\n1. Keys\")\n",
    "    print(dd.columns)\n",
    "    print(\"\\n2. Shape\")\n",
    "    print(dd.shape)\n",
    "    print(\"\\n3. Head\")\n",
    "    print(dd.head(5))\n",
    "\n",
    "    return dd\n",
    "\n",
    "for dd in [train, test]:    \n",
    "    lable_encode_df(dd)\n",
    "    plot_histogram(dd)"
   ]
  },
  {
   "cell_type": "markdown",
   "metadata": {},
   "source": [
    "### Corr 재확인"
   ]
  },
  {
   "cell_type": "code",
   "execution_count": 40,
   "metadata": {
    "ExecuteTime": {
     "end_time": "2020-11-03T00:47:58.887887Z",
     "start_time": "2020-11-03T00:47:57.940545Z"
    }
   },
   "outputs": [
    {
     "data": {
      "text/plain": [
       "<matplotlib.axes._subplots.AxesSubplot at 0x2bba625aeb0>"
      ]
     },
     "execution_count": 40,
     "metadata": {},
     "output_type": "execute_result"
    },
    {
     "data": {
      "image/png": "[encoded data removed]",
      "text/plain": [
       "<Figure size 576x396 with 2 Axes>"
      ]
     },
     "metadata": {},
     "output_type": "display_data"
    }
   ],
   "source": [
    "sns.heatmap(train.corr(), annot = True, square = True, linewidth = 0.2, cmap = 'coolwarm', vmax = 1.0, vmin = -1.0)"
   ]
  },
  {
   "cell_type": "markdown",
   "metadata": {},
   "source": [
    "## 모델링"
   ]
  },
  {
   "cell_type": "markdown",
   "metadata": {},
   "source": [
    "### train test split"
   ]
  },
  {
   "cell_type": "code",
   "execution_count": 41,
   "metadata": {
    "ExecuteTime": {
     "end_time": "2020-11-03T00:47:58.903922Z",
     "start_time": "2020-11-03T00:47:58.888889Z"
    }
   },
   "outputs": [],
   "source": [
    "# id Drop\n",
    "train.drop(['id'], axis=1, inplace=True)\n",
    "test.drop(['id'], axis=1, inplace=True)"
   ]
  },
  {
   "cell_type": "code",
   "execution_count": 42,
   "metadata": {
    "ExecuteTime": {
     "end_time": "2020-11-03T00:47:58.919925Z",
     "start_time": "2020-11-03T00:47:58.904930Z"
    }
   },
   "outputs": [],
   "source": [
    "X = train.drop('income', axis = 1)\n",
    "y = train['income']"
   ]
  },
  {
   "cell_type": "code",
   "execution_count": 43,
   "metadata": {
    "ExecuteTime": {
     "end_time": "2020-11-03T00:47:58.935923Z",
     "start_time": "2020-11-03T00:47:58.921887Z"
    }
   },
   "outputs": [],
   "source": [
    "X_train, X_test, y_train, y_test = train_test_split(X, y, test_size=0.2, random_state=1105)"
   ]
  },
  {
   "cell_type": "code",
   "execution_count": 44,
   "metadata": {
    "ExecuteTime": {
     "end_time": "2020-11-03T00:47:58.952166Z",
     "start_time": "2020-11-03T00:47:58.936889Z"
    }
   },
   "outputs": [
    {
     "name": "stdout",
     "output_type": "stream",
     "text": [
      "X_train: (20839, 14)\n",
      "X_test: (5210, 14)\n",
      "y_train: (20839,)\n",
      "y_test: (5210,)\n"
     ]
    }
   ],
   "source": [
    "print(f'X_train: {X_train.shape}')\n",
    "print(f'X_test: {X_test.shape}')\n",
    "print(f'y_train: {y_train.shape}')\n",
    "print(f'y_test: {y_test.shape}')"
   ]
  },
  {
   "cell_type": "markdown",
   "metadata": {
    "ExecuteTime": {
     "end_time": "2020-11-02T06:40:28.232529Z",
     "start_time": "2020-11-02T06:40:28.228531Z"
    }
   },
   "source": [
    "### Dummy Clf"
   ]
  },
  {
   "cell_type": "code",
   "execution_count": 45,
   "metadata": {
    "ExecuteTime": {
     "end_time": "2020-11-03T00:47:58.982888Z",
     "start_time": "2020-11-03T00:47:58.953906Z"
    }
   },
   "outputs": [
    {
     "name": "stdout",
     "output_type": "stream",
     "text": [
      "예측된 유니크 레이블 ==> [0]\n",
      "\n",
      "accuracy_score: 0.7597\n",
      "f1_score: 0.0000\n",
      "precision_score: 0.0000\n",
      "\n",
      "Classificcation Report: \n",
      "              precision    recall  f1-score   support\n",
      "\n",
      "           0       0.76      1.00      0.86      3958\n",
      "           1       0.00      0.00      0.00      1252\n",
      "\n",
      "    accuracy                           0.76      5210\n",
      "   macro avg       0.38      0.50      0.43      5210\n",
      "weighted avg       0.58      0.76      0.66      5210\n",
      "\n"
     ]
    },
    {
     "name": "stderr",
     "output_type": "stream",
     "text": [
      "C:\\Users\\justi\\anaconda3\\lib\\site-packages\\sklearn\\metrics\\_classification.py:1221: UndefinedMetricWarning: Precision is ill-defined and being set to 0.0 due to no predicted samples. Use `zero_division` parameter to control this behavior.\n",
      "  _warn_prf(average, modifier, msg_start, len(result))\n",
      "C:\\Users\\justi\\anaconda3\\lib\\site-packages\\sklearn\\metrics\\_classification.py:1221: UndefinedMetricWarning: Precision and F-score are ill-defined and being set to 0.0 in labels with no predicted samples. Use `zero_division` parameter to control this behavior.\n",
      "  _warn_prf(average, modifier, msg_start, len(result))\n"
     ]
    }
   ],
   "source": [
    "from sklearn.dummy import DummyClassifier\n",
    "\n",
    "import numpy as np\n",
    "\n",
    "\n",
    "\n",
    "dummy_majority = DummyClassifier(strategy='most_frequent')\n",
    "\n",
    "dummy_majority.fit(X_train, y_train)\n",
    "\n",
    "pred_most_frequent = dummy_majority.predict(X_test)\n",
    "\n",
    "print('예측된 유니크 레이블 ==> {}'.format(np.unique(pred_most_frequent)))\n",
    "\n",
    "print(\"\\naccuracy_score: {0:.4f}\".format(accuracy_score(y_test, pred_most_frequent)))\n",
    "print(\"f1_score: {0:.4f}\".format(f1_score(y_test, pred_most_frequent)))\n",
    "print(\"precision_score: {0:.4f}\".format(precision_score(y_test, pred_most_frequent)))\n",
    "# print(\"AUC: Area Under Curve: {0:.4f}\".format(roc_auc_score(y_test, pred_most_frequent[:, 1])))\n",
    "\n",
    "print(\"\\nClassificcation Report: \\n{}\".format(classification_report(y_test, pred_most_frequent)))\n",
    "# print(\"Confusition matrix: \\n{}\".format(confusion_matrix(y_test, pred_most_frequent)))"
   ]
  },
  {
   "cell_type": "markdown",
   "metadata": {
    "ExecuteTime": {
     "end_time": "2020-10-29T01:11:07.123826Z",
     "start_time": "2020-10-29T01:11:07.114841Z"
    }
   },
   "source": [
    "### LGBM Clf"
   ]
  },
  {
   "cell_type": "code",
   "execution_count": 54,
   "metadata": {
    "ExecuteTime": {
     "end_time": "2020-11-03T00:50:14.337781Z",
     "start_time": "2020-11-03T00:50:14.321067Z"
    }
   },
   "outputs": [],
   "source": [
    "remove_features = ['id','income']\n",
    "features_columns = [col for col in list(train) if col not in remove_features]\n",
    "target = 'income'\n",
    "\n",
    "X,y = train[features_columns], train[target]    \n",
    "P = test[features_columns] \n",
    "\n",
    "predictions = np.zeros(len(test))"
   ]
  },
  {
   "cell_type": "code",
   "execution_count": 55,
   "metadata": {
    "ExecuteTime": {
     "end_time": "2020-11-03T00:50:15.137182Z",
     "start_time": "2020-11-03T00:50:15.128143Z"
    }
   },
   "outputs": [],
   "source": [
    "def lgb_f1_score(y_hat,data):\n",
    "    y_true = data.get_label()\n",
    "    y_hat = np.round(y_hat) \n",
    "    return 'f1', f1_score(y_true, y_hat,average='macro'), True"
   ]
  },
  {
   "cell_type": "code",
   "execution_count": 77,
   "metadata": {
    "ExecuteTime": {
     "end_time": "2020-11-03T01:40:27.861665Z",
     "start_time": "2020-11-03T01:38:39.645304Z"
    }
   },
   "outputs": [
    {
     "name": "stdout",
     "output_type": "stream",
     "text": [
      "Fold: 0\n",
      "20839 5210\n",
      "Training until validation scores don't improve for 100 rounds\n"
     ]
    },
    {
     "name": "stderr",
     "output_type": "stream",
     "text": [
      "C:\\Users\\justi\\anaconda3\\lib\\site-packages\\lightgbm\\engine.py:151: UserWarning: Found `n_estimators` in params. Will use it instead of argument\n",
      "  warnings.warn(\"Found `{}` in params. Will use it instead of argument\".format(alias))\n",
      "C:\\Users\\justi\\anaconda3\\lib\\site-packages\\lightgbm\\engine.py:156: UserWarning: Found `early_stopping_rounds` in params. Will use it instead of argument\n",
      "  warnings.warn(\"Found `{}` in params. Will use it instead of argument\".format(alias))\n"
     ]
    },
    {
     "name": "stdout",
     "output_type": "stream",
     "text": [
      "[100]\ttraining's auc: 0.937789\ttraining's f1: 0.633865\tvalid_1's auc: 0.921607\tvalid_1's f1: 0.650263\n",
      "[200]\ttraining's auc: 0.942196\ttraining's f1: 0.779403\tvalid_1's auc: 0.923057\tvalid_1's f1: 0.776894\n",
      "[300]\ttraining's auc: 0.946108\ttraining's f1: 0.817938\tvalid_1's auc: 0.924004\tvalid_1's f1: 0.798819\n",
      "[400]\ttraining's auc: 0.950019\ttraining's f1: 0.834632\tvalid_1's auc: 0.924638\tvalid_1's f1: 0.810062\n",
      "[500]\ttraining's auc: 0.953814\ttraining's f1: 0.844216\tvalid_1's auc: 0.925289\tvalid_1's f1: 0.813638\n",
      "Early stopping, best iteration is:\n",
      "[451]\ttraining's auc: 0.951986\ttraining's f1: 0.840911\tvalid_1's auc: 0.924925\tvalid_1's f1: 0.814933\n",
      "Fold: 1\n",
      "20839 5210\n",
      "Training until validation scores don't improve for 100 rounds\n",
      "[100]\ttraining's auc: 0.938746\ttraining's f1: 0.637963\tvalid_1's auc: 0.917087\tvalid_1's f1: 0.63695\n",
      "[200]\ttraining's auc: 0.943037\ttraining's f1: 0.780863\tvalid_1's auc: 0.918608\tvalid_1's f1: 0.749456\n",
      "[300]\ttraining's auc: 0.947146\ttraining's f1: 0.818891\tvalid_1's auc: 0.919921\tvalid_1's f1: 0.778741\n",
      "[400]\ttraining's auc: 0.95088\ttraining's f1: 0.835438\tvalid_1's auc: 0.920775\tvalid_1's f1: 0.794115\n",
      "[500]\ttraining's auc: 0.954592\ttraining's f1: 0.845684\tvalid_1's auc: 0.921486\tvalid_1's f1: 0.795234\n",
      "[600]\ttraining's auc: 0.958188\ttraining's f1: 0.853098\tvalid_1's auc: 0.922235\tvalid_1's f1: 0.800546\n",
      "[700]\ttraining's auc: 0.961647\ttraining's f1: 0.85953\tvalid_1's auc: 0.922885\tvalid_1's f1: 0.801598\n",
      "[800]\ttraining's auc: 0.964944\ttraining's f1: 0.866884\tvalid_1's auc: 0.92334\tvalid_1's f1: 0.802854\n",
      "[900]\ttraining's auc: 0.96792\ttraining's f1: 0.87159\tvalid_1's auc: 0.923618\tvalid_1's f1: 0.801916\n",
      "[1000]\ttraining's auc: 0.97069\ttraining's f1: 0.877668\tvalid_1's auc: 0.923762\tvalid_1's f1: 0.80497\n",
      "Early stopping, best iteration is:\n",
      "[975]\ttraining's auc: 0.97002\ttraining's f1: 0.876747\tvalid_1's auc: 0.923691\tvalid_1's f1: 0.805975\n",
      "Fold: 2\n",
      "20839 5210\n",
      "Training until validation scores don't improve for 100 rounds\n",
      "[100]\ttraining's auc: 0.937904\ttraining's f1: 0.637433\tvalid_1's auc: 0.920224\tvalid_1's f1: 0.630174\n",
      "[200]\ttraining's auc: 0.941865\ttraining's f1: 0.777978\tvalid_1's auc: 0.921456\tvalid_1's f1: 0.760463\n",
      "[300]\ttraining's auc: 0.946045\ttraining's f1: 0.817414\tvalid_1's auc: 0.923019\tvalid_1's f1: 0.783196\n",
      "[400]\ttraining's auc: 0.949963\ttraining's f1: 0.832839\tvalid_1's auc: 0.92425\tvalid_1's f1: 0.797565\n",
      "[500]\ttraining's auc: 0.953767\ttraining's f1: 0.843407\tvalid_1's auc: 0.925414\tvalid_1's f1: 0.805956\n",
      "[600]\ttraining's auc: 0.957454\ttraining's f1: 0.850584\tvalid_1's auc: 0.926202\tvalid_1's f1: 0.808604\n",
      "[700]\ttraining's auc: 0.9609\ttraining's f1: 0.857579\tvalid_1's auc: 0.926702\tvalid_1's f1: 0.812477\n",
      "[800]\ttraining's auc: 0.964317\ttraining's f1: 0.862618\tvalid_1's auc: 0.927175\tvalid_1's f1: 0.815208\n",
      "[900]\ttraining's auc: 0.967315\ttraining's f1: 0.868456\tvalid_1's auc: 0.927376\tvalid_1's f1: 0.817565\n",
      "Early stopping, best iteration is:\n",
      "[884]\ttraining's auc: 0.966833\ttraining's f1: 0.867527\tvalid_1's auc: 0.927399\tvalid_1's f1: 0.818008\n",
      "Fold: 3\n",
      "20839 5210\n",
      "Training until validation scores don't improve for 100 rounds\n",
      "[100]\ttraining's auc: 0.938734\ttraining's f1: 0.640585\tvalid_1's auc: 0.916008\tvalid_1's f1: 0.626608\n",
      "[200]\ttraining's auc: 0.942849\ttraining's f1: 0.781494\tvalid_1's auc: 0.917375\tvalid_1's f1: 0.76048\n",
      "[300]\ttraining's auc: 0.946782\ttraining's f1: 0.821743\tvalid_1's auc: 0.918831\tvalid_1's f1: 0.792299\n",
      "[400]\ttraining's auc: 0.950556\ttraining's f1: 0.836912\tvalid_1's auc: 0.920025\tvalid_1's f1: 0.796786\n",
      "[500]\ttraining's auc: 0.954204\ttraining's f1: 0.844225\tvalid_1's auc: 0.921063\tvalid_1's f1: 0.803277\n",
      "[600]\ttraining's auc: 0.957766\ttraining's f1: 0.850398\tvalid_1's auc: 0.922024\tvalid_1's f1: 0.80669\n",
      "[700]\ttraining's auc: 0.961145\ttraining's f1: 0.85638\tvalid_1's auc: 0.922745\tvalid_1's f1: 0.807136\n",
      "Early stopping, best iteration is:\n",
      "[674]\ttraining's auc: 0.960336\ttraining's f1: 0.855425\tvalid_1's auc: 0.922569\tvalid_1's f1: 0.807573\n",
      "Fold: 4\n",
      "20840 5209\n",
      "Training until validation scores don't improve for 100 rounds\n",
      "[100]\ttraining's auc: 0.937897\ttraining's f1: 0.636289\tvalid_1's auc: 0.919789\tvalid_1's f1: 0.626124\n",
      "[200]\ttraining's auc: 0.942051\ttraining's f1: 0.77964\tvalid_1's auc: 0.921221\tvalid_1's f1: 0.74961\n",
      "[300]\ttraining's auc: 0.946342\ttraining's f1: 0.817915\tvalid_1's auc: 0.922622\tvalid_1's f1: 0.783854\n",
      "[400]\ttraining's auc: 0.9502\ttraining's f1: 0.833902\tvalid_1's auc: 0.923344\tvalid_1's f1: 0.7953\n",
      "[500]\ttraining's auc: 0.953911\ttraining's f1: 0.844768\tvalid_1's auc: 0.923679\tvalid_1's f1: 0.804027\n",
      "[600]\ttraining's auc: 0.957475\ttraining's f1: 0.852118\tvalid_1's auc: 0.924279\tvalid_1's f1: 0.805376\n",
      "[700]\ttraining's auc: 0.9609\ttraining's f1: 0.857468\tvalid_1's auc: 0.925124\tvalid_1's f1: 0.808102\n",
      "[800]\ttraining's auc: 0.964239\ttraining's f1: 0.864151\tvalid_1's auc: 0.925666\tvalid_1's f1: 0.809498\n",
      "[900]\ttraining's auc: 0.967179\ttraining's f1: 0.868985\tvalid_1's auc: 0.926155\tvalid_1's f1: 0.809419\n",
      "Early stopping, best iteration is:\n",
      "[816]\ttraining's auc: 0.964711\ttraining's f1: 0.865249\tvalid_1's auc: 0.925718\tvalid_1's f1: 0.810403\n"
     ]
    }
   ],
   "source": [
    "import lightgbm as lgb\n",
    "from sklearn.model_selection import StratifiedKFold , cross_val_score , KFold\n",
    "\n",
    "def seed_everything(seed=0):\n",
    "    random.seed(seed)\n",
    "    os.environ['PYTHONHASHSEED'] = str(seed)\n",
    "    np.random.seed(seed)\n",
    "\n",
    "# VARS\n",
    "SEED = 2020\n",
    "seed_everything(SEED)\n",
    "target = 'income'   \n",
    "\n",
    "###### Model params\n",
    "lgb_params = {\n",
    "                    'objective':'binary',\n",
    "                    'boosting_type':'gbdt',\n",
    "                    'metric':'auc',\n",
    "                    'n_jobs':-1,\n",
    "                    'learning_rate':0.005,\n",
    "                    'num_leaves': 2**7,\n",
    "                    'max_depth':-1,\n",
    "                    'tree_learner':'serial',\n",
    "                    'colsample_bytree': 0.8,\n",
    "                    'subsample_freq':1,\n",
    "                    'subsample':0.8,\n",
    "                    'n_estimators':100000,\n",
    "                    'max_bin':127,\n",
    "                    'verbose':-1,\n",
    "                    'seed': SEED,\n",
    "                    'early_stopping_rounds':100, \n",
    "                } \n",
    "\n",
    "folds = KFold(n_splits=5, shuffle=True, random_state=SEED)\n",
    "\n",
    "for fold_, (trn_idx, val_idx) in enumerate(folds.split(X, y)):\n",
    "    print('Fold:',fold_)\n",
    "    tr_x, tr_y = X.iloc[trn_idx,:], y[trn_idx]\n",
    "    vl_x, vl_y = X.iloc[val_idx,:], y[val_idx]\n",
    "\n",
    "    print(len(tr_x),len(vl_x))\n",
    "    tr_data = lgb.Dataset(tr_x, label=tr_y)\n",
    "    vl_data = lgb.Dataset(vl_x, label=vl_y)  \n",
    "\n",
    "    estimator = lgb.train(\n",
    "        lgb_params,\n",
    "        tr_data,\n",
    "        feval= lgb_f1_score, \n",
    "        valid_sets = [tr_data, vl_data],\n",
    "        verbose_eval = 100\n",
    "    )   \n",
    "\n",
    "    pp_p = estimator.predict(P)\n",
    "    predictions += pp_p/5\n",
    "    "
   ]
  },
  {
   "cell_type": "code",
   "execution_count": 84,
   "metadata": {
    "ExecuteTime": {
     "end_time": "2020-11-03T02:16:03.308447Z",
     "start_time": "2020-11-03T02:16:03.279918Z"
    }
   },
   "outputs": [
    {
     "ename": "ValueError",
     "evalue": "Found input variables with inconsistent numbers of samples: [5209, 6512]",
     "output_type": "error",
     "traceback": [
      "\u001b[1;31m---------------------------------------------------------------------------\u001b[0m",
      "\u001b[1;31mValueError\u001b[0m                                Traceback (most recent call last)",
      "\u001b[1;32m<ipython-input-84-6d35fccf81f5>\u001b[0m in \u001b[0;36m<module>\u001b[1;34m\u001b[0m\n\u001b[1;32m----> 1\u001b[1;33m \u001b[0mprint\u001b[0m\u001b[1;33m(\u001b[0m\u001b[1;34mf'f1: {f1_score(vl_y, predictions.round(0))}'\u001b[0m\u001b[1;33m)\u001b[0m\u001b[1;33m\u001b[0m\u001b[1;33m\u001b[0m\u001b[0m\n\u001b[0m",
      "\u001b[1;32m~\\anaconda3\\lib\\site-packages\\sklearn\\utils\\validation.py\u001b[0m in \u001b[0;36minner_f\u001b[1;34m(*args, **kwargs)\u001b[0m\n\u001b[0;32m     70\u001b[0m                           FutureWarning)\n\u001b[0;32m     71\u001b[0m         \u001b[0mkwargs\u001b[0m\u001b[1;33m.\u001b[0m\u001b[0mupdate\u001b[0m\u001b[1;33m(\u001b[0m\u001b[1;33m{\u001b[0m\u001b[0mk\u001b[0m\u001b[1;33m:\u001b[0m \u001b[0marg\u001b[0m \u001b[1;32mfor\u001b[0m \u001b[0mk\u001b[0m\u001b[1;33m,\u001b[0m \u001b[0marg\u001b[0m \u001b[1;32min\u001b[0m \u001b[0mzip\u001b[0m\u001b[1;33m(\u001b[0m\u001b[0msig\u001b[0m\u001b[1;33m.\u001b[0m\u001b[0mparameters\u001b[0m\u001b[1;33m,\u001b[0m \u001b[0margs\u001b[0m\u001b[1;33m)\u001b[0m\u001b[1;33m}\u001b[0m\u001b[1;33m)\u001b[0m\u001b[1;33m\u001b[0m\u001b[1;33m\u001b[0m\u001b[0m\n\u001b[1;32m---> 72\u001b[1;33m         \u001b[1;32mreturn\u001b[0m \u001b[0mf\u001b[0m\u001b[1;33m(\u001b[0m\u001b[1;33m**\u001b[0m\u001b[0mkwargs\u001b[0m\u001b[1;33m)\u001b[0m\u001b[1;33m\u001b[0m\u001b[1;33m\u001b[0m\u001b[0m\n\u001b[0m\u001b[0;32m     73\u001b[0m     \u001b[1;32mreturn\u001b[0m \u001b[0minner_f\u001b[0m\u001b[1;33m\u001b[0m\u001b[1;33m\u001b[0m\u001b[0m\n\u001b[0;32m     74\u001b[0m \u001b[1;33m\u001b[0m\u001b[0m\n",
      "\u001b[1;32m~\\anaconda3\\lib\\site-packages\\sklearn\\metrics\\_classification.py\u001b[0m in \u001b[0;36mf1_score\u001b[1;34m(y_true, y_pred, labels, pos_label, average, sample_weight, zero_division)\u001b[0m\n\u001b[0;32m   1042\u001b[0m     \u001b[0mmodified\u001b[0m \u001b[1;32mwith\u001b[0m\u001b[0;31m \u001b[0m\u001b[0;31m`\u001b[0m\u001b[0;31m`\u001b[0m\u001b[0mzero_division\u001b[0m\u001b[0;31m`\u001b[0m\u001b[0;31m`\u001b[0m\u001b[1;33m.\u001b[0m\u001b[1;33m\u001b[0m\u001b[1;33m\u001b[0m\u001b[0m\n\u001b[0;32m   1043\u001b[0m     \"\"\"\n\u001b[1;32m-> 1044\u001b[1;33m     return fbeta_score(y_true, y_pred, beta=1, labels=labels,\n\u001b[0m\u001b[0;32m   1045\u001b[0m                        \u001b[0mpos_label\u001b[0m\u001b[1;33m=\u001b[0m\u001b[0mpos_label\u001b[0m\u001b[1;33m,\u001b[0m \u001b[0maverage\u001b[0m\u001b[1;33m=\u001b[0m\u001b[0maverage\u001b[0m\u001b[1;33m,\u001b[0m\u001b[1;33m\u001b[0m\u001b[1;33m\u001b[0m\u001b[0m\n\u001b[0;32m   1046\u001b[0m                        \u001b[0msample_weight\u001b[0m\u001b[1;33m=\u001b[0m\u001b[0msample_weight\u001b[0m\u001b[1;33m,\u001b[0m\u001b[1;33m\u001b[0m\u001b[1;33m\u001b[0m\u001b[0m\n",
      "\u001b[1;32m~\\anaconda3\\lib\\site-packages\\sklearn\\utils\\validation.py\u001b[0m in \u001b[0;36minner_f\u001b[1;34m(*args, **kwargs)\u001b[0m\n\u001b[0;32m     70\u001b[0m                           FutureWarning)\n\u001b[0;32m     71\u001b[0m         \u001b[0mkwargs\u001b[0m\u001b[1;33m.\u001b[0m\u001b[0mupdate\u001b[0m\u001b[1;33m(\u001b[0m\u001b[1;33m{\u001b[0m\u001b[0mk\u001b[0m\u001b[1;33m:\u001b[0m \u001b[0marg\u001b[0m \u001b[1;32mfor\u001b[0m \u001b[0mk\u001b[0m\u001b[1;33m,\u001b[0m \u001b[0marg\u001b[0m \u001b[1;32min\u001b[0m \u001b[0mzip\u001b[0m\u001b[1;33m(\u001b[0m\u001b[0msig\u001b[0m\u001b[1;33m.\u001b[0m\u001b[0mparameters\u001b[0m\u001b[1;33m,\u001b[0m \u001b[0margs\u001b[0m\u001b[1;33m)\u001b[0m\u001b[1;33m}\u001b[0m\u001b[1;33m)\u001b[0m\u001b[1;33m\u001b[0m\u001b[1;33m\u001b[0m\u001b[0m\n\u001b[1;32m---> 72\u001b[1;33m         \u001b[1;32mreturn\u001b[0m \u001b[0mf\u001b[0m\u001b[1;33m(\u001b[0m\u001b[1;33m**\u001b[0m\u001b[0mkwargs\u001b[0m\u001b[1;33m)\u001b[0m\u001b[1;33m\u001b[0m\u001b[1;33m\u001b[0m\u001b[0m\n\u001b[0m\u001b[0;32m     73\u001b[0m     \u001b[1;32mreturn\u001b[0m \u001b[0minner_f\u001b[0m\u001b[1;33m\u001b[0m\u001b[1;33m\u001b[0m\u001b[0m\n\u001b[0;32m     74\u001b[0m \u001b[1;33m\u001b[0m\u001b[0m\n",
      "\u001b[1;32m~\\anaconda3\\lib\\site-packages\\sklearn\\metrics\\_classification.py\u001b[0m in \u001b[0;36mfbeta_score\u001b[1;34m(y_true, y_pred, beta, labels, pos_label, average, sample_weight, zero_division)\u001b[0m\n\u001b[0;32m   1166\u001b[0m     \"\"\"\n\u001b[0;32m   1167\u001b[0m \u001b[1;33m\u001b[0m\u001b[0m\n\u001b[1;32m-> 1168\u001b[1;33m     _, _, f, _ = precision_recall_fscore_support(y_true, y_pred,\n\u001b[0m\u001b[0;32m   1169\u001b[0m                                                  \u001b[0mbeta\u001b[0m\u001b[1;33m=\u001b[0m\u001b[0mbeta\u001b[0m\u001b[1;33m,\u001b[0m\u001b[1;33m\u001b[0m\u001b[1;33m\u001b[0m\u001b[0m\n\u001b[0;32m   1170\u001b[0m                                                  \u001b[0mlabels\u001b[0m\u001b[1;33m=\u001b[0m\u001b[0mlabels\u001b[0m\u001b[1;33m,\u001b[0m\u001b[1;33m\u001b[0m\u001b[1;33m\u001b[0m\u001b[0m\n",
      "\u001b[1;32m~\\anaconda3\\lib\\site-packages\\sklearn\\utils\\validation.py\u001b[0m in \u001b[0;36minner_f\u001b[1;34m(*args, **kwargs)\u001b[0m\n\u001b[0;32m     70\u001b[0m                           FutureWarning)\n\u001b[0;32m     71\u001b[0m         \u001b[0mkwargs\u001b[0m\u001b[1;33m.\u001b[0m\u001b[0mupdate\u001b[0m\u001b[1;33m(\u001b[0m\u001b[1;33m{\u001b[0m\u001b[0mk\u001b[0m\u001b[1;33m:\u001b[0m \u001b[0marg\u001b[0m \u001b[1;32mfor\u001b[0m \u001b[0mk\u001b[0m\u001b[1;33m,\u001b[0m \u001b[0marg\u001b[0m \u001b[1;32min\u001b[0m \u001b[0mzip\u001b[0m\u001b[1;33m(\u001b[0m\u001b[0msig\u001b[0m\u001b[1;33m.\u001b[0m\u001b[0mparameters\u001b[0m\u001b[1;33m,\u001b[0m \u001b[0margs\u001b[0m\u001b[1;33m)\u001b[0m\u001b[1;33m}\u001b[0m\u001b[1;33m)\u001b[0m\u001b[1;33m\u001b[0m\u001b[1;33m\u001b[0m\u001b[0m\n\u001b[1;32m---> 72\u001b[1;33m         \u001b[1;32mreturn\u001b[0m \u001b[0mf\u001b[0m\u001b[1;33m(\u001b[0m\u001b[1;33m**\u001b[0m\u001b[0mkwargs\u001b[0m\u001b[1;33m)\u001b[0m\u001b[1;33m\u001b[0m\u001b[1;33m\u001b[0m\u001b[0m\n\u001b[0m\u001b[0;32m     73\u001b[0m     \u001b[1;32mreturn\u001b[0m \u001b[0minner_f\u001b[0m\u001b[1;33m\u001b[0m\u001b[1;33m\u001b[0m\u001b[0m\n\u001b[0;32m     74\u001b[0m \u001b[1;33m\u001b[0m\u001b[0m\n",
      "\u001b[1;32m~\\anaconda3\\lib\\site-packages\\sklearn\\metrics\\_classification.py\u001b[0m in \u001b[0;36mprecision_recall_fscore_support\u001b[1;34m(y_true, y_pred, beta, labels, pos_label, average, warn_for, sample_weight, zero_division)\u001b[0m\n\u001b[0;32m   1431\u001b[0m     \u001b[1;32mif\u001b[0m \u001b[0mbeta\u001b[0m \u001b[1;33m<\u001b[0m \u001b[1;36m0\u001b[0m\u001b[1;33m:\u001b[0m\u001b[1;33m\u001b[0m\u001b[1;33m\u001b[0m\u001b[0m\n\u001b[0;32m   1432\u001b[0m         \u001b[1;32mraise\u001b[0m \u001b[0mValueError\u001b[0m\u001b[1;33m(\u001b[0m\u001b[1;34m\"beta should be >=0 in the F-beta score\"\u001b[0m\u001b[1;33m)\u001b[0m\u001b[1;33m\u001b[0m\u001b[1;33m\u001b[0m\u001b[0m\n\u001b[1;32m-> 1433\u001b[1;33m     labels = _check_set_wise_labels(y_true, y_pred, average, labels,\n\u001b[0m\u001b[0;32m   1434\u001b[0m                                     pos_label)\n\u001b[0;32m   1435\u001b[0m \u001b[1;33m\u001b[0m\u001b[0m\n",
      "\u001b[1;32m~\\anaconda3\\lib\\site-packages\\sklearn\\metrics\\_classification.py\u001b[0m in \u001b[0;36m_check_set_wise_labels\u001b[1;34m(y_true, y_pred, average, labels, pos_label)\u001b[0m\n\u001b[0;32m   1248\u001b[0m                          str(average_options))\n\u001b[0;32m   1249\u001b[0m \u001b[1;33m\u001b[0m\u001b[0m\n\u001b[1;32m-> 1250\u001b[1;33m     \u001b[0my_type\u001b[0m\u001b[1;33m,\u001b[0m \u001b[0my_true\u001b[0m\u001b[1;33m,\u001b[0m \u001b[0my_pred\u001b[0m \u001b[1;33m=\u001b[0m \u001b[0m_check_targets\u001b[0m\u001b[1;33m(\u001b[0m\u001b[0my_true\u001b[0m\u001b[1;33m,\u001b[0m \u001b[0my_pred\u001b[0m\u001b[1;33m)\u001b[0m\u001b[1;33m\u001b[0m\u001b[1;33m\u001b[0m\u001b[0m\n\u001b[0m\u001b[0;32m   1251\u001b[0m     \u001b[0mpresent_labels\u001b[0m \u001b[1;33m=\u001b[0m \u001b[0munique_labels\u001b[0m\u001b[1;33m(\u001b[0m\u001b[0my_true\u001b[0m\u001b[1;33m,\u001b[0m \u001b[0my_pred\u001b[0m\u001b[1;33m)\u001b[0m\u001b[1;33m\u001b[0m\u001b[1;33m\u001b[0m\u001b[0m\n\u001b[0;32m   1252\u001b[0m     \u001b[1;32mif\u001b[0m \u001b[0maverage\u001b[0m \u001b[1;33m==\u001b[0m \u001b[1;34m'binary'\u001b[0m\u001b[1;33m:\u001b[0m\u001b[1;33m\u001b[0m\u001b[1;33m\u001b[0m\u001b[0m\n",
      "\u001b[1;32m~\\anaconda3\\lib\\site-packages\\sklearn\\metrics\\_classification.py\u001b[0m in \u001b[0;36m_check_targets\u001b[1;34m(y_true, y_pred)\u001b[0m\n\u001b[0;32m     79\u001b[0m     \u001b[0my_pred\u001b[0m \u001b[1;33m:\u001b[0m \u001b[0marray\u001b[0m \u001b[1;32mor\u001b[0m \u001b[0mindicator\u001b[0m \u001b[0mmatrix\u001b[0m\u001b[1;33m\u001b[0m\u001b[1;33m\u001b[0m\u001b[0m\n\u001b[0;32m     80\u001b[0m     \"\"\"\n\u001b[1;32m---> 81\u001b[1;33m     \u001b[0mcheck_consistent_length\u001b[0m\u001b[1;33m(\u001b[0m\u001b[0my_true\u001b[0m\u001b[1;33m,\u001b[0m \u001b[0my_pred\u001b[0m\u001b[1;33m)\u001b[0m\u001b[1;33m\u001b[0m\u001b[1;33m\u001b[0m\u001b[0m\n\u001b[0m\u001b[0;32m     82\u001b[0m     \u001b[0mtype_true\u001b[0m \u001b[1;33m=\u001b[0m \u001b[0mtype_of_target\u001b[0m\u001b[1;33m(\u001b[0m\u001b[0my_true\u001b[0m\u001b[1;33m)\u001b[0m\u001b[1;33m\u001b[0m\u001b[1;33m\u001b[0m\u001b[0m\n\u001b[0;32m     83\u001b[0m     \u001b[0mtype_pred\u001b[0m \u001b[1;33m=\u001b[0m \u001b[0mtype_of_target\u001b[0m\u001b[1;33m(\u001b[0m\u001b[0my_pred\u001b[0m\u001b[1;33m)\u001b[0m\u001b[1;33m\u001b[0m\u001b[1;33m\u001b[0m\u001b[0m\n",
      "\u001b[1;32m~\\anaconda3\\lib\\site-packages\\sklearn\\utils\\validation.py\u001b[0m in \u001b[0;36mcheck_consistent_length\u001b[1;34m(*arrays)\u001b[0m\n\u001b[0;32m    253\u001b[0m     \u001b[0muniques\u001b[0m \u001b[1;33m=\u001b[0m \u001b[0mnp\u001b[0m\u001b[1;33m.\u001b[0m\u001b[0munique\u001b[0m\u001b[1;33m(\u001b[0m\u001b[0mlengths\u001b[0m\u001b[1;33m)\u001b[0m\u001b[1;33m\u001b[0m\u001b[1;33m\u001b[0m\u001b[0m\n\u001b[0;32m    254\u001b[0m     \u001b[1;32mif\u001b[0m \u001b[0mlen\u001b[0m\u001b[1;33m(\u001b[0m\u001b[0muniques\u001b[0m\u001b[1;33m)\u001b[0m \u001b[1;33m>\u001b[0m \u001b[1;36m1\u001b[0m\u001b[1;33m:\u001b[0m\u001b[1;33m\u001b[0m\u001b[1;33m\u001b[0m\u001b[0m\n\u001b[1;32m--> 255\u001b[1;33m         raise ValueError(\"Found input variables with inconsistent numbers of\"\n\u001b[0m\u001b[0;32m    256\u001b[0m                          \" samples: %r\" % [int(l) for l in lengths])\n\u001b[0;32m    257\u001b[0m \u001b[1;33m\u001b[0m\u001b[0m\n",
      "\u001b[1;31mValueError\u001b[0m: Found input variables with inconsistent numbers of samples: [5209, 6512]"
     ]
    }
   ],
   "source": [
    "print(f'f1: {f1_score(vl_y, predictions.round(0))}')"
   ]
  },
  {
   "cell_type": "code",
   "execution_count": null,
   "metadata": {},
   "outputs": [],
   "source": []
  },
  {
   "cell_type": "code",
   "execution_count": 75,
   "metadata": {
    "ExecuteTime": {
     "end_time": "2020-11-03T01:38:07.358533Z",
     "start_time": "2020-11-03T01:38:07.321744Z"
    }
   },
   "outputs": [
    {
     "data": {
      "text/html": [
       "<div>\n",
       "<style scoped>\n",
       "    .dataframe tbody tr th:only-of-type {\n",
       "        vertical-align: middle;\n",
       "    }\n",
       "\n",
       "    .dataframe tbody tr th {\n",
       "        vertical-align: top;\n",
       "    }\n",
       "\n",
       "    .dataframe thead th {\n",
       "        text-align: right;\n",
       "    }\n",
       "</style>\n",
       "<table border=\"1\" class=\"dataframe\">\n",
       "  <thead>\n",
       "    <tr style=\"text-align: right;\">\n",
       "      <th></th>\n",
       "      <th>id</th>\n",
       "      <th>age</th>\n",
       "      <th>workclass</th>\n",
       "      <th>fnlwgt</th>\n",
       "      <th>education</th>\n",
       "      <th>education_num</th>\n",
       "      <th>marital_status</th>\n",
       "      <th>occupation</th>\n",
       "      <th>relationship</th>\n",
       "      <th>race</th>\n",
       "      <th>sex</th>\n",
       "      <th>capital_gain</th>\n",
       "      <th>capital_loss</th>\n",
       "      <th>hours_per_week</th>\n",
       "      <th>native_country</th>\n",
       "      <th>prediction</th>\n",
       "    </tr>\n",
       "  </thead>\n",
       "  <tbody>\n",
       "    <tr>\n",
       "      <th>0</th>\n",
       "      <td>0</td>\n",
       "      <td>28</td>\n",
       "      <td>Private</td>\n",
       "      <td>67661</td>\n",
       "      <td>Some-college</td>\n",
       "      <td>10</td>\n",
       "      <td>Never-married</td>\n",
       "      <td>Adm-clerical</td>\n",
       "      <td>Other-relative</td>\n",
       "      <td>White</td>\n",
       "      <td>Female</td>\n",
       "      <td>0</td>\n",
       "      <td>0</td>\n",
       "      <td>40</td>\n",
       "      <td>United-States</td>\n",
       "      <td>0.014</td>\n",
       "    </tr>\n",
       "    <tr>\n",
       "      <th>1</th>\n",
       "      <td>1</td>\n",
       "      <td>40</td>\n",
       "      <td>Self-emp-inc</td>\n",
       "      <td>37869</td>\n",
       "      <td>HS-grad</td>\n",
       "      <td>9</td>\n",
       "      <td>Married-civ-spouse</td>\n",
       "      <td>Exec-managerial</td>\n",
       "      <td>Husband</td>\n",
       "      <td>White</td>\n",
       "      <td>Male</td>\n",
       "      <td>0</td>\n",
       "      <td>0</td>\n",
       "      <td>50</td>\n",
       "      <td>United-States</td>\n",
       "      <td>0.483</td>\n",
       "    </tr>\n",
       "    <tr>\n",
       "      <th>2</th>\n",
       "      <td>2</td>\n",
       "      <td>20</td>\n",
       "      <td>Private</td>\n",
       "      <td>109952</td>\n",
       "      <td>Some-college</td>\n",
       "      <td>10</td>\n",
       "      <td>Never-married</td>\n",
       "      <td>Handlers-cleaners</td>\n",
       "      <td>Own-child</td>\n",
       "      <td>White</td>\n",
       "      <td>Male</td>\n",
       "      <td>0</td>\n",
       "      <td>0</td>\n",
       "      <td>25</td>\n",
       "      <td>United-States</td>\n",
       "      <td>0.010</td>\n",
       "    </tr>\n",
       "    <tr>\n",
       "      <th>3</th>\n",
       "      <td>3</td>\n",
       "      <td>40</td>\n",
       "      <td>Private</td>\n",
       "      <td>114537</td>\n",
       "      <td>Assoc-voc</td>\n",
       "      <td>11</td>\n",
       "      <td>Married-civ-spouse</td>\n",
       "      <td>Exec-managerial</td>\n",
       "      <td>Husband</td>\n",
       "      <td>White</td>\n",
       "      <td>Male</td>\n",
       "      <td>0</td>\n",
       "      <td>0</td>\n",
       "      <td>50</td>\n",
       "      <td>United-States</td>\n",
       "      <td>0.551</td>\n",
       "    </tr>\n",
       "    <tr>\n",
       "      <th>4</th>\n",
       "      <td>4</td>\n",
       "      <td>37</td>\n",
       "      <td>Private</td>\n",
       "      <td>51264</td>\n",
       "      <td>Doctorate</td>\n",
       "      <td>16</td>\n",
       "      <td>Married-civ-spouse</td>\n",
       "      <td>Prof-specialty</td>\n",
       "      <td>Husband</td>\n",
       "      <td>White</td>\n",
       "      <td>Male</td>\n",
       "      <td>0</td>\n",
       "      <td>0</td>\n",
       "      <td>99</td>\n",
       "      <td>France</td>\n",
       "      <td>0.756</td>\n",
       "    </tr>\n",
       "    <tr>\n",
       "      <th>...</th>\n",
       "      <td>...</td>\n",
       "      <td>...</td>\n",
       "      <td>...</td>\n",
       "      <td>...</td>\n",
       "      <td>...</td>\n",
       "      <td>...</td>\n",
       "      <td>...</td>\n",
       "      <td>...</td>\n",
       "      <td>...</td>\n",
       "      <td>...</td>\n",
       "      <td>...</td>\n",
       "      <td>...</td>\n",
       "      <td>...</td>\n",
       "      <td>...</td>\n",
       "      <td>...</td>\n",
       "      <td>...</td>\n",
       "    </tr>\n",
       "    <tr>\n",
       "      <th>6507</th>\n",
       "      <td>6507</td>\n",
       "      <td>35</td>\n",
       "      <td>Private</td>\n",
       "      <td>61343</td>\n",
       "      <td>Bachelors</td>\n",
       "      <td>13</td>\n",
       "      <td>Married-civ-spouse</td>\n",
       "      <td>Sales</td>\n",
       "      <td>Husband</td>\n",
       "      <td>White</td>\n",
       "      <td>Male</td>\n",
       "      <td>0</td>\n",
       "      <td>0</td>\n",
       "      <td>40</td>\n",
       "      <td>United-States</td>\n",
       "      <td>0.524</td>\n",
       "    </tr>\n",
       "    <tr>\n",
       "      <th>6508</th>\n",
       "      <td>6508</td>\n",
       "      <td>41</td>\n",
       "      <td>Self-emp-inc</td>\n",
       "      <td>32185</td>\n",
       "      <td>Bachelors</td>\n",
       "      <td>13</td>\n",
       "      <td>Married-civ-spouse</td>\n",
       "      <td>Tech-support</td>\n",
       "      <td>Husband</td>\n",
       "      <td>White</td>\n",
       "      <td>Male</td>\n",
       "      <td>0</td>\n",
       "      <td>0</td>\n",
       "      <td>40</td>\n",
       "      <td>United-States</td>\n",
       "      <td>0.623</td>\n",
       "    </tr>\n",
       "    <tr>\n",
       "      <th>6509</th>\n",
       "      <td>6509</td>\n",
       "      <td>39</td>\n",
       "      <td>Private</td>\n",
       "      <td>409189</td>\n",
       "      <td>5th-6th</td>\n",
       "      <td>3</td>\n",
       "      <td>Married-civ-spouse</td>\n",
       "      <td>Other-service</td>\n",
       "      <td>Husband</td>\n",
       "      <td>White</td>\n",
       "      <td>Male</td>\n",
       "      <td>0</td>\n",
       "      <td>0</td>\n",
       "      <td>40</td>\n",
       "      <td>Mexico</td>\n",
       "      <td>0.054</td>\n",
       "    </tr>\n",
       "    <tr>\n",
       "      <th>6510</th>\n",
       "      <td>6510</td>\n",
       "      <td>35</td>\n",
       "      <td>Private</td>\n",
       "      <td>180342</td>\n",
       "      <td>HS-grad</td>\n",
       "      <td>9</td>\n",
       "      <td>Married-civ-spouse</td>\n",
       "      <td>Craft-repair</td>\n",
       "      <td>Husband</td>\n",
       "      <td>White</td>\n",
       "      <td>Male</td>\n",
       "      <td>0</td>\n",
       "      <td>0</td>\n",
       "      <td>40</td>\n",
       "      <td>United-States</td>\n",
       "      <td>0.148</td>\n",
       "    </tr>\n",
       "    <tr>\n",
       "      <th>6511</th>\n",
       "      <td>6511</td>\n",
       "      <td>28</td>\n",
       "      <td>Private</td>\n",
       "      <td>156819</td>\n",
       "      <td>HS-grad</td>\n",
       "      <td>9</td>\n",
       "      <td>Divorced</td>\n",
       "      <td>Handlers-cleaners</td>\n",
       "      <td>Unmarried</td>\n",
       "      <td>White</td>\n",
       "      <td>Female</td>\n",
       "      <td>0</td>\n",
       "      <td>0</td>\n",
       "      <td>36</td>\n",
       "      <td>United-States</td>\n",
       "      <td>0.018</td>\n",
       "    </tr>\n",
       "  </tbody>\n",
       "</table>\n",
       "<p>6512 rows × 16 columns</p>\n",
       "</div>"
      ],
      "text/plain": [
       "        id  age     workclass  fnlwgt     education  education_num  \\\n",
       "0        0   28       Private   67661  Some-college             10   \n",
       "1        1   40  Self-emp-inc   37869       HS-grad              9   \n",
       "2        2   20       Private  109952  Some-college             10   \n",
       "3        3   40       Private  114537     Assoc-voc             11   \n",
       "4        4   37       Private   51264     Doctorate             16   \n",
       "...    ...  ...           ...     ...           ...            ...   \n",
       "6507  6507   35       Private   61343     Bachelors             13   \n",
       "6508  6508   41  Self-emp-inc   32185     Bachelors             13   \n",
       "6509  6509   39       Private  409189       5th-6th              3   \n",
       "6510  6510   35       Private  180342       HS-grad              9   \n",
       "6511  6511   28       Private  156819       HS-grad              9   \n",
       "\n",
       "          marital_status         occupation    relationship   race     sex  \\\n",
       "0          Never-married       Adm-clerical  Other-relative  White  Female   \n",
       "1     Married-civ-spouse    Exec-managerial         Husband  White    Male   \n",
       "2          Never-married  Handlers-cleaners       Own-child  White    Male   \n",
       "3     Married-civ-spouse    Exec-managerial         Husband  White    Male   \n",
       "4     Married-civ-spouse     Prof-specialty         Husband  White    Male   \n",
       "...                  ...                ...             ...    ...     ...   \n",
       "6507  Married-civ-spouse              Sales         Husband  White    Male   \n",
       "6508  Married-civ-spouse       Tech-support         Husband  White    Male   \n",
       "6509  Married-civ-spouse      Other-service         Husband  White    Male   \n",
       "6510  Married-civ-spouse       Craft-repair         Husband  White    Male   \n",
       "6511            Divorced  Handlers-cleaners       Unmarried  White  Female   \n",
       "\n",
       "      capital_gain  capital_loss  hours_per_week native_country  prediction  \n",
       "0                0             0              40  United-States       0.014  \n",
       "1                0             0              50  United-States       0.483  \n",
       "2                0             0              25  United-States       0.010  \n",
       "3                0             0              50  United-States       0.551  \n",
       "4                0             0              99         France       0.756  \n",
       "...            ...           ...             ...            ...         ...  \n",
       "6507             0             0              40  United-States       0.524  \n",
       "6508             0             0              40  United-States       0.623  \n",
       "6509             0             0              40         Mexico       0.054  \n",
       "6510             0             0              40  United-States       0.148  \n",
       "6511             0             0              36  United-States       0.018  \n",
       "\n",
       "[6512 rows x 16 columns]"
      ]
     },
     "execution_count": 75,
     "metadata": {},
     "output_type": "execute_result"
    }
   ],
   "source": [
    "test_origin"
   ]
  },
  {
   "cell_type": "code",
   "execution_count": 76,
   "metadata": {
    "ExecuteTime": {
     "end_time": "2020-11-03T01:38:18.116901Z",
     "start_time": "2020-11-03T01:38:18.090283Z"
    }
   },
   "outputs": [
    {
     "data": {
      "text/html": [
       "<div>\n",
       "<style scoped>\n",
       "    .dataframe tbody tr th:only-of-type {\n",
       "        vertical-align: middle;\n",
       "    }\n",
       "\n",
       "    .dataframe tbody tr th {\n",
       "        vertical-align: top;\n",
       "    }\n",
       "\n",
       "    .dataframe thead th {\n",
       "        text-align: right;\n",
       "    }\n",
       "</style>\n",
       "<table border=\"1\" class=\"dataframe\">\n",
       "  <thead>\n",
       "    <tr style=\"text-align: right;\">\n",
       "      <th></th>\n",
       "      <th>id</th>\n",
       "      <th>prediction</th>\n",
       "    </tr>\n",
       "  </thead>\n",
       "  <tbody>\n",
       "    <tr>\n",
       "      <th>0</th>\n",
       "      <td>0</td>\n",
       "      <td>0.014</td>\n",
       "    </tr>\n",
       "    <tr>\n",
       "      <th>1</th>\n",
       "      <td>1</td>\n",
       "      <td>0.483</td>\n",
       "    </tr>\n",
       "    <tr>\n",
       "      <th>2</th>\n",
       "      <td>2</td>\n",
       "      <td>0.010</td>\n",
       "    </tr>\n",
       "    <tr>\n",
       "      <th>3</th>\n",
       "      <td>3</td>\n",
       "      <td>0.551</td>\n",
       "    </tr>\n",
       "    <tr>\n",
       "      <th>4</th>\n",
       "      <td>4</td>\n",
       "      <td>0.756</td>\n",
       "    </tr>\n",
       "    <tr>\n",
       "      <th>...</th>\n",
       "      <td>...</td>\n",
       "      <td>...</td>\n",
       "    </tr>\n",
       "    <tr>\n",
       "      <th>6507</th>\n",
       "      <td>6507</td>\n",
       "      <td>0.524</td>\n",
       "    </tr>\n",
       "    <tr>\n",
       "      <th>6508</th>\n",
       "      <td>6508</td>\n",
       "      <td>0.623</td>\n",
       "    </tr>\n",
       "    <tr>\n",
       "      <th>6509</th>\n",
       "      <td>6509</td>\n",
       "      <td>0.054</td>\n",
       "    </tr>\n",
       "    <tr>\n",
       "      <th>6510</th>\n",
       "      <td>6510</td>\n",
       "      <td>0.148</td>\n",
       "    </tr>\n",
       "    <tr>\n",
       "      <th>6511</th>\n",
       "      <td>6511</td>\n",
       "      <td>0.018</td>\n",
       "    </tr>\n",
       "  </tbody>\n",
       "</table>\n",
       "<p>6512 rows × 2 columns</p>\n",
       "</div>"
      ],
      "text/plain": [
       "        id  prediction\n",
       "0        0       0.014\n",
       "1        1       0.483\n",
       "2        2       0.010\n",
       "3        3       0.551\n",
       "4        4       0.756\n",
       "...    ...         ...\n",
       "6507  6507       0.524\n",
       "6508  6508       0.623\n",
       "6509  6509       0.054\n",
       "6510  6510       0.148\n",
       "6511  6511       0.018\n",
       "\n",
       "[6512 rows x 2 columns]"
      ]
     },
     "execution_count": 76,
     "metadata": {},
     "output_type": "execute_result"
    }
   ],
   "source": [
    "test_origin[['id','prediction']]"
   ]
  },
  {
   "cell_type": "code",
   "execution_count": 64,
   "metadata": {
    "ExecuteTime": {
     "end_time": "2020-11-03T01:34:32.121996Z",
     "start_time": "2020-11-03T01:34:32.081946Z"
    }
   },
   "outputs": [
    {
     "name": "stderr",
     "output_type": "stream",
     "text": [
      "<ipython-input-64-501cc4b69534>:1: FutureWarning: Using a non-tuple sequence for multidimensional indexing is deprecated; use `arr[tuple(seq)]` instead of `arr[seq]`. In the future this will be interpreted as an array index, `arr[np.array(seq)]`, which will result either in an error or a different result.\n",
      "  submission = tmp[['id','prediction']]\n"
     ]
    },
    {
     "ename": "IndexError",
     "evalue": "only integers, slices (`:`), ellipsis (`...`), numpy.newaxis (`None`) and integer or boolean arrays are valid indices",
     "output_type": "error",
     "traceback": [
      "\u001b[1;31m---------------------------------------------------------------------------\u001b[0m",
      "\u001b[1;31mIndexError\u001b[0m                                Traceback (most recent call last)",
      "\u001b[1;32m<ipython-input-64-501cc4b69534>\u001b[0m in \u001b[0;36m<module>\u001b[1;34m\u001b[0m\n\u001b[1;32m----> 1\u001b[1;33m \u001b[0msubmission\u001b[0m \u001b[1;33m=\u001b[0m \u001b[0mtmp\u001b[0m\u001b[1;33m[\u001b[0m\u001b[1;33m[\u001b[0m\u001b[1;34m'id'\u001b[0m\u001b[1;33m,\u001b[0m\u001b[1;34m'prediction'\u001b[0m\u001b[1;33m]\u001b[0m\u001b[1;33m]\u001b[0m\u001b[1;33m\u001b[0m\u001b[1;33m\u001b[0m\u001b[0m\n\u001b[0m\u001b[0;32m      2\u001b[0m \u001b[0msubmission\u001b[0m\u001b[1;33m[\u001b[0m\u001b[1;34m'prediction'\u001b[0m\u001b[1;33m]\u001b[0m \u001b[1;33m=\u001b[0m \u001b[0msubmission\u001b[0m\u001b[1;33m[\u001b[0m\u001b[1;34m'prediction'\u001b[0m\u001b[1;33m]\u001b[0m\u001b[1;33m.\u001b[0m\u001b[0mround\u001b[0m\u001b[1;33m(\u001b[0m\u001b[1;36m0\u001b[0m\u001b[1;33m)\u001b[0m\u001b[1;33m\u001b[0m\u001b[1;33m\u001b[0m\u001b[0m\n\u001b[0;32m      3\u001b[0m \u001b[0msubmission\u001b[0m\u001b[1;33m[\u001b[0m\u001b[1;34m'prediction'\u001b[0m\u001b[1;33m]\u001b[0m \u001b[1;33m=\u001b[0m \u001b[0msubmission\u001b[0m\u001b[1;33m[\u001b[0m\u001b[1;34m'prediction'\u001b[0m\u001b[1;33m]\u001b[0m\u001b[1;33m.\u001b[0m\u001b[0mastype\u001b[0m\u001b[1;33m(\u001b[0m\u001b[0mint\u001b[0m\u001b[1;33m)\u001b[0m\u001b[1;33m\u001b[0m\u001b[1;33m\u001b[0m\u001b[0m\n",
      "\u001b[1;31mIndexError\u001b[0m: only integers, slices (`:`), ellipsis (`...`), numpy.newaxis (`None`) and integer or boolean arrays are valid indices"
     ]
    }
   ],
   "source": [
    "submission = tmp['id','prediction']\n",
    "submission['prediction'] = submission['prediction'].round(0)\n",
    "submission['prediction'] = submission['prediction'].astype(int)"
   ]
  },
  {
   "cell_type": "markdown",
   "metadata": {},
   "source": [
    "## 결과"
   ]
  },
  {
   "cell_type": "code",
   "execution_count": null,
   "metadata": {
    "ExecuteTime": {
     "end_time": "2020-11-03T00:48:17.707392Z",
     "start_time": "2020-11-03T00:48:17.693Z"
    }
   },
   "outputs": [],
   "source": [
    "# submission_pred = lgbm.predict(test)\n",
    "# len(submission_pred)"
   ]
  },
  {
   "cell_type": "code",
   "execution_count": null,
   "metadata": {
    "ExecuteTime": {
     "end_time": "2020-11-03T00:48:17.708386Z",
     "start_time": "2020-11-03T00:48:17.696Z"
    }
   },
   "outputs": [],
   "source": [
    "break"
   ]
  },
  {
   "cell_type": "markdown",
   "metadata": {},
   "source": [
    "## 후처리 및 제출"
   ]
  },
  {
   "cell_type": "code",
   "execution_count": null,
   "metadata": {
    "ExecuteTime": {
     "end_time": "2020-11-03T00:48:17.709392Z",
     "start_time": "2020-11-03T00:48:17.699Z"
    }
   },
   "outputs": [],
   "source": [
    "# submission['prediction'] = submission_pred\n",
    "# print(submission)\n",
    "# test[test['capital_gain'] > 5000]\n",
    "\n",
    "# test[test['capital_gain'] > 5000]\n",
    "\n",
    "# submission_after = pd.merge(test_origin.copy(), submission, on = 'id')\n",
    "\n",
    "# print(submission_after)\n",
    "\n",
    "# submission_after[submission_after['capital_gain'] > 5000]\n",
    "\n",
    "# def func2(aa, bb):\n",
    "#     if bb >= 5000:\n",
    "#         return 1\n",
    "#     else:\n",
    "#         return aa\n",
    "\n",
    "# submission_after['new'] = submission_after.apply(lambda x: func2(x['prediction'], x['capital_gain']), axis =1)\n",
    "\n",
    "# submission_after['new'].value_counts()\n",
    "\n",
    "# submission = submission_after[['id', 'prediction']]\n",
    "\n",
    "# submission.head(3)"
   ]
  },
  {
   "cell_type": "code",
   "execution_count": null,
   "metadata": {
    "ExecuteTime": {
     "end_time": "2020-11-03T00:48:17.710392Z",
     "start_time": "2020-11-03T00:48:17.703Z"
    }
   },
   "outputs": [],
   "source": [
    "submission.to_csv('submission.scv', index = False)"
   ]
  },
  {
   "cell_type": "code",
   "execution_count": 48,
   "metadata": {
    "ExecuteTime": {
     "end_time": "2020-11-03T00:48:17.831054Z",
     "start_time": "2020-11-03T00:48:17.816046Z"
    }
   },
   "outputs": [
    {
     "name": "stdout",
     "output_type": "stream",
     "text": [
      "C:\\Users\\justi\\OneDrive\\Git\\Kaggle\\kakr 4th\n"
     ]
    },
    {
     "data": {
      "text/plain": [
       "['.ipynb_checkpoints',\n",
       " '4th KaKr notebook lgb baseline 1.ipynb',\n",
       " '4th KaKr notebook.ipynb',\n",
       " 'AutoML pyCaret.ipynb',\n",
       " 'catboost_info',\n",
       " 'kakr-4th-competition.zip',\n",
       " 'logs.log',\n",
       " 'powerbi2.pbix',\n",
       " 'powerbi_vis.pbix',\n",
       " 'sample_submission.csv',\n",
       " 'submission.scv',\n",
       " 'test.csv',\n",
       " 'train.csv',\n",
       " '비율 (1).ipynb',\n",
       " '영민님 1030.ipynb',\n",
       " '인구소득 예측 컴피티션 집단분석.ipynb',\n",
       " '인규 1030 후처리.ipynb']"
      ]
     },
     "execution_count": 48,
     "metadata": {},
     "output_type": "execute_result"
    }
   ],
   "source": [
    "print(os.getcwd())\n",
    "os.listdir(os.getcwd())"
   ]
  },
  {
   "cell_type": "code",
   "execution_count": 49,
   "metadata": {
    "ExecuteTime": {
     "end_time": "2020-11-03T00:48:17.847081Z",
     "start_time": "2020-11-03T00:48:17.833045Z"
    }
   },
   "outputs": [
    {
     "data": {
      "text/html": [
       "<div>\n",
       "<style scoped>\n",
       "    .dataframe tbody tr th:only-of-type {\n",
       "        vertical-align: middle;\n",
       "    }\n",
       "\n",
       "    .dataframe tbody tr th {\n",
       "        vertical-align: top;\n",
       "    }\n",
       "\n",
       "    .dataframe thead th {\n",
       "        text-align: right;\n",
       "    }\n",
       "</style>\n",
       "<table border=\"1\" class=\"dataframe\">\n",
       "  <thead>\n",
       "    <tr style=\"text-align: right;\">\n",
       "      <th></th>\n",
       "      <th>id</th>\n",
       "      <th>prediction</th>\n",
       "    </tr>\n",
       "  </thead>\n",
       "  <tbody>\n",
       "    <tr>\n",
       "      <th>0</th>\n",
       "      <td>0</td>\n",
       "      <td>0</td>\n",
       "    </tr>\n",
       "    <tr>\n",
       "      <th>1</th>\n",
       "      <td>1</td>\n",
       "      <td>0</td>\n",
       "    </tr>\n",
       "    <tr>\n",
       "      <th>2</th>\n",
       "      <td>2</td>\n",
       "      <td>0</td>\n",
       "    </tr>\n",
       "    <tr>\n",
       "      <th>3</th>\n",
       "      <td>3</td>\n",
       "      <td>0</td>\n",
       "    </tr>\n",
       "    <tr>\n",
       "      <th>4</th>\n",
       "      <td>4</td>\n",
       "      <td>0</td>\n",
       "    </tr>\n",
       "    <tr>\n",
       "      <th>...</th>\n",
       "      <td>...</td>\n",
       "      <td>...</td>\n",
       "    </tr>\n",
       "    <tr>\n",
       "      <th>6507</th>\n",
       "      <td>6507</td>\n",
       "      <td>0</td>\n",
       "    </tr>\n",
       "    <tr>\n",
       "      <th>6508</th>\n",
       "      <td>6508</td>\n",
       "      <td>0</td>\n",
       "    </tr>\n",
       "    <tr>\n",
       "      <th>6509</th>\n",
       "      <td>6509</td>\n",
       "      <td>0</td>\n",
       "    </tr>\n",
       "    <tr>\n",
       "      <th>6510</th>\n",
       "      <td>6510</td>\n",
       "      <td>0</td>\n",
       "    </tr>\n",
       "    <tr>\n",
       "      <th>6511</th>\n",
       "      <td>6511</td>\n",
       "      <td>0</td>\n",
       "    </tr>\n",
       "  </tbody>\n",
       "</table>\n",
       "<p>6512 rows × 2 columns</p>\n",
       "</div>"
      ],
      "text/plain": [
       "        id  prediction\n",
       "0        0           0\n",
       "1        1           0\n",
       "2        2           0\n",
       "3        3           0\n",
       "4        4           0\n",
       "...    ...         ...\n",
       "6507  6507           0\n",
       "6508  6508           0\n",
       "6509  6509           0\n",
       "6510  6510           0\n",
       "6511  6511           0\n",
       "\n",
       "[6512 rows x 2 columns]"
      ]
     },
     "execution_count": 49,
     "metadata": {},
     "output_type": "execute_result"
    }
   ],
   "source": [
    "submission"
   ]
  },
  {
   "cell_type": "code",
   "execution_count": 50,
   "metadata": {
    "ExecuteTime": {
     "end_time": "2020-11-03T00:48:17.863045Z",
     "start_time": "2020-11-03T00:48:17.849080Z"
    }
   },
   "outputs": [],
   "source": [
    "history = pd.DataFrame({})"
   ]
  },
  {
   "cell_type": "code",
   "execution_count": null,
   "metadata": {},
   "outputs": [],
   "source": []
  }
 ],
 "metadata": {
  "hide_input": false,
  "kernelspec": {
   "display_name": "Python 3",
   "language": "python",
   "name": "python3"
  },
  "language_info": {
   "codemirror_mode": {
    "name": "ipython",
    "version": 3
   },
   "file_extension": ".py",
   "mimetype": "text/x-python",
   "name": "python",
   "nbconvert_exporter": "python",
   "pygments_lexer": "ipython3",
   "version": "3.8.3"
  },
  "toc": {
   "base_numbering": 1,
   "nav_menu": {},
   "number_sections": true,
   "sideBar": true,
   "skip_h1_title": true,
   "title_cell": "Table of Contents",
   "title_sidebar": "Contents",
   "toc_cell": false,
   "toc_position": {
    "height": "697px",
    "left": "771px",
    "top": "128px",
    "width": "165px"
   },
   "toc_section_display": true,
   "toc_window_display": true
  },
  "varInspector": {
   "cols": {
    "lenName": 16,
    "lenType": 16,
    "lenVar": 40
   },
   "kernels_config": {
    "python": {
     "delete_cmd_postfix": "",
     "delete_cmd_prefix": "del ",
     "library": "var_list.py",
     "varRefreshCmd": "print(var_dic_list())"
    },
    "r": {
     "delete_cmd_postfix": ") ",
     "delete_cmd_prefix": "rm(",
     "library": "var_list.r",
     "varRefreshCmd": "cat(var_dic_list()) "
    }
   },
   "types_to_exclude": [
    "module",
    "function",
    "builtin_function_or_method",
    "instance",
    "_Feature"
   ],
   "window_display": false
  }
 },
 "nbformat": 4,
 "nbformat_minor": 2
}
