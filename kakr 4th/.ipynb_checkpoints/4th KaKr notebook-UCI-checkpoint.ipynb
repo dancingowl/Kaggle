{
 "cells": [
  {
   "cell_type": "markdown",
   "metadata": {},
   "source": [
    "# [[T-Academy X KaKr] 성인 인구조사 소득 예측 대회](https://www.kaggle.com/c/kakr-4th-competition)\n"
   ]
  },
  {
   "cell_type": "markdown",
   "metadata": {},
   "source": [
    "## 라이브러리"
   ]
  },
  {
   "cell_type": "code",
   "execution_count": 1,
   "metadata": {
    "ExecuteTime": {
     "end_time": "2020-11-10T07:23:03.918994Z",
     "start_time": "2020-11-10T07:23:02.269109Z"
    }
   },
   "outputs": [],
   "source": [
    "import numpy as np\n",
    "import pandas as pd\n",
    "import matplotlib.pyplot as plt\n",
    "import seaborn as sns\n",
    "\n",
    "from sklearn.model_selection import train_test_split, GridSearchCV, cross_val_score\n",
    "from sklearn.preprocessing import StandardScaler, LabelEncoder\n",
    "from sklearn.preprocessing import MinMaxScaler\n",
    "from sklearn.preprocessing import QuantileTransformer\n",
    "from sklearn.preprocessing import Binarizer\n",
    "\n",
    "\n",
    "from sklearn.linear_model import LogisticRegression, SGDClassifier\n",
    "from sklearn.tree import DecisionTreeClassifier\n",
    "from sklearn.ensemble import RandomForestClassifier\n",
    "from lightgbm import LGBMClassifier\n",
    "\n",
    "from sklearn.model_selection import StratifiedKFold, cross_val_score\n",
    "from sklearn.metrics import accuracy_score ,f1_score, precision_score, recall_score\n",
    "from sklearn.metrics import classification_report, confusion_matrix\n",
    "from sklearn.metrics import roc_auc_score, roc_curve, precision_recall_curve\n",
    "\n",
    "import time\n",
    "import os"
   ]
  },
  {
   "cell_type": "code",
   "execution_count": 2,
   "metadata": {
    "ExecuteTime": {
     "end_time": "2020-11-10T07:23:03.934609Z",
     "start_time": "2020-11-10T07:23:03.922046Z"
    }
   },
   "outputs": [],
   "source": [
    "# !kaggle competitions download -c kakr-4th-competition"
   ]
  },
  {
   "cell_type": "code",
   "execution_count": 3,
   "metadata": {
    "ExecuteTime": {
     "end_time": "2020-11-10T07:23:03.950148Z",
     "start_time": "2020-11-10T07:23:03.936152Z"
    }
   },
   "outputs": [],
   "source": [
    "pd.options.display.float_format = '{:.3f}'.format"
   ]
  },
  {
   "cell_type": "code",
   "execution_count": 4,
   "metadata": {
    "ExecuteTime": {
     "end_time": "2020-11-10T07:23:03.966145Z",
     "start_time": "2020-11-10T07:23:03.951149Z"
    }
   },
   "outputs": [],
   "source": [
    "cols = ['age', 'workclass', 'fnlwgt', 'education', 'education_num',\n",
    "       'marital_status', 'occupation', 'relationship', 'race', 'sex',\n",
    "       'capital_gain', 'capital_loss', 'hours_per_week', 'native_country',\n",
    "       'income']"
   ]
  },
  {
   "cell_type": "code",
   "execution_count": 5,
   "metadata": {
    "ExecuteTime": {
     "end_time": "2020-11-10T07:23:04.078180Z",
     "start_time": "2020-11-10T07:23:03.967169Z"
    }
   },
   "outputs": [
    {
     "name": "stdout",
     "output_type": "stream",
     "text": [
      "<class 'pandas.core.frame.DataFrame'>\n",
      "RangeIndex: 32561 entries, 0 to 32560\n",
      "Data columns (total 15 columns):\n",
      " #   Column          Non-Null Count  Dtype \n",
      "---  ------          --------------  ----- \n",
      " 0   age             32561 non-null  int64 \n",
      " 1   workclass       32561 non-null  object\n",
      " 2   fnlwgt          32561 non-null  int64 \n",
      " 3   education       32561 non-null  object\n",
      " 4   education_num   32561 non-null  int64 \n",
      " 5   marital_status  32561 non-null  object\n",
      " 6   occupation      32561 non-null  object\n",
      " 7   relationship    32561 non-null  object\n",
      " 8   race            32561 non-null  object\n",
      " 9   sex             32561 non-null  object\n",
      " 10  capital_gain    32561 non-null  int64 \n",
      " 11  capital_loss    32561 non-null  int64 \n",
      " 12  hours_per_week  32561 non-null  int64 \n",
      " 13  native_country  32561 non-null  object\n",
      " 14  income          32561 non-null  object\n",
      "dtypes: int64(6), object(9)\n",
      "memory usage: 3.7+ MB\n"
     ]
    }
   ],
   "source": [
    "train_origin_uci = pd.read_csv('train_uci.csv', names = cols, header= None)\n",
    "test_origin_uci = pd.read_csv('test_uci.csv', names = cols, header = None)\n",
    "submission_origin_uci = pd.read_csv('sample_submission.csv')\n",
    "\n",
    "train_uci = train_origin_uci.copy()\n",
    "test_uci = test_origin_uci.copy()\n",
    "submission2 = submission_origin_uci.copy()\n",
    "\n",
    "train_uci.info()"
   ]
  },
  {
   "cell_type": "code",
   "execution_count": 6,
   "metadata": {
    "ExecuteTime": {
     "end_time": "2020-11-10T07:23:04.109088Z",
     "start_time": "2020-11-10T07:23:04.080146Z"
    }
   },
   "outputs": [
    {
     "data": {
      "text/html": [
       "<div>\n",
       "<style scoped>\n",
       "    .dataframe tbody tr th:only-of-type {\n",
       "        vertical-align: middle;\n",
       "    }\n",
       "\n",
       "    .dataframe tbody tr th {\n",
       "        vertical-align: top;\n",
       "    }\n",
       "\n",
       "    .dataframe thead th {\n",
       "        text-align: right;\n",
       "    }\n",
       "</style>\n",
       "<table border=\"1\" class=\"dataframe\">\n",
       "  <thead>\n",
       "    <tr style=\"text-align: right;\">\n",
       "      <th></th>\n",
       "      <th>age</th>\n",
       "      <th>workclass</th>\n",
       "      <th>fnlwgt</th>\n",
       "      <th>education</th>\n",
       "      <th>education_num</th>\n",
       "      <th>marital_status</th>\n",
       "      <th>occupation</th>\n",
       "      <th>relationship</th>\n",
       "      <th>race</th>\n",
       "      <th>sex</th>\n",
       "      <th>capital_gain</th>\n",
       "      <th>capital_loss</th>\n",
       "      <th>hours_per_week</th>\n",
       "      <th>native_country</th>\n",
       "      <th>income</th>\n",
       "    </tr>\n",
       "  </thead>\n",
       "  <tbody>\n",
       "    <tr>\n",
       "      <th>0</th>\n",
       "      <td>39</td>\n",
       "      <td>State-gov</td>\n",
       "      <td>77516</td>\n",
       "      <td>Bachelors</td>\n",
       "      <td>13</td>\n",
       "      <td>Never-married</td>\n",
       "      <td>Adm-clerical</td>\n",
       "      <td>Not-in-family</td>\n",
       "      <td>White</td>\n",
       "      <td>Male</td>\n",
       "      <td>2174</td>\n",
       "      <td>0</td>\n",
       "      <td>40</td>\n",
       "      <td>United-States</td>\n",
       "      <td>&lt;=50K</td>\n",
       "    </tr>\n",
       "    <tr>\n",
       "      <th>1</th>\n",
       "      <td>50</td>\n",
       "      <td>Self-emp-not-inc</td>\n",
       "      <td>83311</td>\n",
       "      <td>Bachelors</td>\n",
       "      <td>13</td>\n",
       "      <td>Married-civ-spouse</td>\n",
       "      <td>Exec-managerial</td>\n",
       "      <td>Husband</td>\n",
       "      <td>White</td>\n",
       "      <td>Male</td>\n",
       "      <td>0</td>\n",
       "      <td>0</td>\n",
       "      <td>13</td>\n",
       "      <td>United-States</td>\n",
       "      <td>&lt;=50K</td>\n",
       "    </tr>\n",
       "    <tr>\n",
       "      <th>2</th>\n",
       "      <td>38</td>\n",
       "      <td>Private</td>\n",
       "      <td>215646</td>\n",
       "      <td>HS-grad</td>\n",
       "      <td>9</td>\n",
       "      <td>Divorced</td>\n",
       "      <td>Handlers-cleaners</td>\n",
       "      <td>Not-in-family</td>\n",
       "      <td>White</td>\n",
       "      <td>Male</td>\n",
       "      <td>0</td>\n",
       "      <td>0</td>\n",
       "      <td>40</td>\n",
       "      <td>United-States</td>\n",
       "      <td>&lt;=50K</td>\n",
       "    </tr>\n",
       "    <tr>\n",
       "      <th>3</th>\n",
       "      <td>53</td>\n",
       "      <td>Private</td>\n",
       "      <td>234721</td>\n",
       "      <td>11th</td>\n",
       "      <td>7</td>\n",
       "      <td>Married-civ-spouse</td>\n",
       "      <td>Handlers-cleaners</td>\n",
       "      <td>Husband</td>\n",
       "      <td>Black</td>\n",
       "      <td>Male</td>\n",
       "      <td>0</td>\n",
       "      <td>0</td>\n",
       "      <td>40</td>\n",
       "      <td>United-States</td>\n",
       "      <td>&lt;=50K</td>\n",
       "    </tr>\n",
       "    <tr>\n",
       "      <th>4</th>\n",
       "      <td>28</td>\n",
       "      <td>Private</td>\n",
       "      <td>338409</td>\n",
       "      <td>Bachelors</td>\n",
       "      <td>13</td>\n",
       "      <td>Married-civ-spouse</td>\n",
       "      <td>Prof-specialty</td>\n",
       "      <td>Wife</td>\n",
       "      <td>Black</td>\n",
       "      <td>Female</td>\n",
       "      <td>0</td>\n",
       "      <td>0</td>\n",
       "      <td>40</td>\n",
       "      <td>Cuba</td>\n",
       "      <td>&lt;=50K</td>\n",
       "    </tr>\n",
       "    <tr>\n",
       "      <th>...</th>\n",
       "      <td>...</td>\n",
       "      <td>...</td>\n",
       "      <td>...</td>\n",
       "      <td>...</td>\n",
       "      <td>...</td>\n",
       "      <td>...</td>\n",
       "      <td>...</td>\n",
       "      <td>...</td>\n",
       "      <td>...</td>\n",
       "      <td>...</td>\n",
       "      <td>...</td>\n",
       "      <td>...</td>\n",
       "      <td>...</td>\n",
       "      <td>...</td>\n",
       "      <td>...</td>\n",
       "    </tr>\n",
       "    <tr>\n",
       "      <th>32556</th>\n",
       "      <td>27</td>\n",
       "      <td>Private</td>\n",
       "      <td>257302</td>\n",
       "      <td>Assoc-acdm</td>\n",
       "      <td>12</td>\n",
       "      <td>Married-civ-spouse</td>\n",
       "      <td>Tech-support</td>\n",
       "      <td>Wife</td>\n",
       "      <td>White</td>\n",
       "      <td>Female</td>\n",
       "      <td>0</td>\n",
       "      <td>0</td>\n",
       "      <td>38</td>\n",
       "      <td>United-States</td>\n",
       "      <td>&lt;=50K</td>\n",
       "    </tr>\n",
       "    <tr>\n",
       "      <th>32557</th>\n",
       "      <td>40</td>\n",
       "      <td>Private</td>\n",
       "      <td>154374</td>\n",
       "      <td>HS-grad</td>\n",
       "      <td>9</td>\n",
       "      <td>Married-civ-spouse</td>\n",
       "      <td>Machine-op-inspct</td>\n",
       "      <td>Husband</td>\n",
       "      <td>White</td>\n",
       "      <td>Male</td>\n",
       "      <td>0</td>\n",
       "      <td>0</td>\n",
       "      <td>40</td>\n",
       "      <td>United-States</td>\n",
       "      <td>&gt;50K</td>\n",
       "    </tr>\n",
       "    <tr>\n",
       "      <th>32558</th>\n",
       "      <td>58</td>\n",
       "      <td>Private</td>\n",
       "      <td>151910</td>\n",
       "      <td>HS-grad</td>\n",
       "      <td>9</td>\n",
       "      <td>Widowed</td>\n",
       "      <td>Adm-clerical</td>\n",
       "      <td>Unmarried</td>\n",
       "      <td>White</td>\n",
       "      <td>Female</td>\n",
       "      <td>0</td>\n",
       "      <td>0</td>\n",
       "      <td>40</td>\n",
       "      <td>United-States</td>\n",
       "      <td>&lt;=50K</td>\n",
       "    </tr>\n",
       "    <tr>\n",
       "      <th>32559</th>\n",
       "      <td>22</td>\n",
       "      <td>Private</td>\n",
       "      <td>201490</td>\n",
       "      <td>HS-grad</td>\n",
       "      <td>9</td>\n",
       "      <td>Never-married</td>\n",
       "      <td>Adm-clerical</td>\n",
       "      <td>Own-child</td>\n",
       "      <td>White</td>\n",
       "      <td>Male</td>\n",
       "      <td>0</td>\n",
       "      <td>0</td>\n",
       "      <td>20</td>\n",
       "      <td>United-States</td>\n",
       "      <td>&lt;=50K</td>\n",
       "    </tr>\n",
       "    <tr>\n",
       "      <th>32560</th>\n",
       "      <td>52</td>\n",
       "      <td>Self-emp-inc</td>\n",
       "      <td>287927</td>\n",
       "      <td>HS-grad</td>\n",
       "      <td>9</td>\n",
       "      <td>Married-civ-spouse</td>\n",
       "      <td>Exec-managerial</td>\n",
       "      <td>Wife</td>\n",
       "      <td>White</td>\n",
       "      <td>Female</td>\n",
       "      <td>15024</td>\n",
       "      <td>0</td>\n",
       "      <td>40</td>\n",
       "      <td>United-States</td>\n",
       "      <td>&gt;50K</td>\n",
       "    </tr>\n",
       "  </tbody>\n",
       "</table>\n",
       "<p>32561 rows × 15 columns</p>\n",
       "</div>"
      ],
      "text/plain": [
       "       age          workclass  fnlwgt    education  education_num  \\\n",
       "0       39          State-gov   77516    Bachelors             13   \n",
       "1       50   Self-emp-not-inc   83311    Bachelors             13   \n",
       "2       38            Private  215646      HS-grad              9   \n",
       "3       53            Private  234721         11th              7   \n",
       "4       28            Private  338409    Bachelors             13   \n",
       "...    ...                ...     ...          ...            ...   \n",
       "32556   27            Private  257302   Assoc-acdm             12   \n",
       "32557   40            Private  154374      HS-grad              9   \n",
       "32558   58            Private  151910      HS-grad              9   \n",
       "32559   22            Private  201490      HS-grad              9   \n",
       "32560   52       Self-emp-inc  287927      HS-grad              9   \n",
       "\n",
       "            marital_status          occupation    relationship    race  \\\n",
       "0            Never-married        Adm-clerical   Not-in-family   White   \n",
       "1       Married-civ-spouse     Exec-managerial         Husband   White   \n",
       "2                 Divorced   Handlers-cleaners   Not-in-family   White   \n",
       "3       Married-civ-spouse   Handlers-cleaners         Husband   Black   \n",
       "4       Married-civ-spouse      Prof-specialty            Wife   Black   \n",
       "...                    ...                 ...             ...     ...   \n",
       "32556   Married-civ-spouse        Tech-support            Wife   White   \n",
       "32557   Married-civ-spouse   Machine-op-inspct         Husband   White   \n",
       "32558              Widowed        Adm-clerical       Unmarried   White   \n",
       "32559        Never-married        Adm-clerical       Own-child   White   \n",
       "32560   Married-civ-spouse     Exec-managerial            Wife   White   \n",
       "\n",
       "           sex  capital_gain  capital_loss  hours_per_week  native_country  \\\n",
       "0         Male          2174             0              40   United-States   \n",
       "1         Male             0             0              13   United-States   \n",
       "2         Male             0             0              40   United-States   \n",
       "3         Male             0             0              40   United-States   \n",
       "4       Female             0             0              40            Cuba   \n",
       "...        ...           ...           ...             ...             ...   \n",
       "32556   Female             0             0              38   United-States   \n",
       "32557     Male             0             0              40   United-States   \n",
       "32558   Female             0             0              40   United-States   \n",
       "32559     Male             0             0              20   United-States   \n",
       "32560   Female         15024             0              40   United-States   \n",
       "\n",
       "       income  \n",
       "0       <=50K  \n",
       "1       <=50K  \n",
       "2       <=50K  \n",
       "3       <=50K  \n",
       "4       <=50K  \n",
       "...       ...  \n",
       "32556   <=50K  \n",
       "32557    >50K  \n",
       "32558   <=50K  \n",
       "32559   <=50K  \n",
       "32560    >50K  \n",
       "\n",
       "[32561 rows x 15 columns]"
      ]
     },
     "execution_count": 6,
     "metadata": {},
     "output_type": "execute_result"
    }
   ],
   "source": [
    "train_uci"
   ]
  },
  {
   "cell_type": "code",
   "execution_count": 7,
   "metadata": {
    "ExecuteTime": {
     "end_time": "2020-11-10T07:23:04.186624Z",
     "start_time": "2020-11-10T07:23:04.110059Z"
    }
   },
   "outputs": [
    {
     "name": "stdout",
     "output_type": "stream",
     "text": [
      "<class 'pandas.core.frame.DataFrame'>\n",
      "RangeIndex: 26049 entries, 0 to 26048\n",
      "Data columns (total 16 columns):\n",
      " #   Column          Non-Null Count  Dtype \n",
      "---  ------          --------------  ----- \n",
      " 0   id              26049 non-null  int64 \n",
      " 1   age             26049 non-null  int64 \n",
      " 2   workclass       26049 non-null  object\n",
      " 3   fnlwgt          26049 non-null  int64 \n",
      " 4   education       26049 non-null  object\n",
      " 5   education_num   26049 non-null  int64 \n",
      " 6   marital_status  26049 non-null  object\n",
      " 7   occupation      26049 non-null  object\n",
      " 8   relationship    26049 non-null  object\n",
      " 9   race            26049 non-null  object\n",
      " 10  sex             26049 non-null  object\n",
      " 11  capital_gain    26049 non-null  int64 \n",
      " 12  capital_loss    26049 non-null  int64 \n",
      " 13  hours_per_week  26049 non-null  int64 \n",
      " 14  native_country  26049 non-null  object\n",
      " 15  income          26049 non-null  object\n",
      "dtypes: int64(7), object(9)\n",
      "memory usage: 3.2+ MB\n"
     ]
    }
   ],
   "source": [
    "train_origin = pd.read_csv('train.csv')\n",
    "test_origin = pd.read_csv('test.csv')\n",
    "submission_origin = pd.read_csv('sample_submission.csv')\n",
    "\n",
    "train = train_origin.copy()\n",
    "test = test_origin.copy()\n",
    "submission = submission_origin.copy()\n",
    "\n",
    "train.info()"
   ]
  },
  {
   "cell_type": "code",
   "execution_count": 8,
   "metadata": {
    "ExecuteTime": {
     "end_time": "2020-11-10T07:23:04.218214Z",
     "start_time": "2020-11-10T07:23:04.187595Z"
    }
   },
   "outputs": [
    {
     "data": {
      "text/html": [
       "<div>\n",
       "<style scoped>\n",
       "    .dataframe tbody tr th:only-of-type {\n",
       "        vertical-align: middle;\n",
       "    }\n",
       "\n",
       "    .dataframe tbody tr th {\n",
       "        vertical-align: top;\n",
       "    }\n",
       "\n",
       "    .dataframe thead th {\n",
       "        text-align: right;\n",
       "    }\n",
       "</style>\n",
       "<table border=\"1\" class=\"dataframe\">\n",
       "  <thead>\n",
       "    <tr style=\"text-align: right;\">\n",
       "      <th></th>\n",
       "      <th>id</th>\n",
       "      <th>age</th>\n",
       "      <th>workclass</th>\n",
       "      <th>fnlwgt</th>\n",
       "      <th>education</th>\n",
       "      <th>education_num</th>\n",
       "      <th>marital_status</th>\n",
       "      <th>occupation</th>\n",
       "      <th>relationship</th>\n",
       "      <th>race</th>\n",
       "      <th>sex</th>\n",
       "      <th>capital_gain</th>\n",
       "      <th>capital_loss</th>\n",
       "      <th>hours_per_week</th>\n",
       "      <th>native_country</th>\n",
       "      <th>income</th>\n",
       "    </tr>\n",
       "  </thead>\n",
       "  <tbody>\n",
       "    <tr>\n",
       "      <th>0</th>\n",
       "      <td>0</td>\n",
       "      <td>40</td>\n",
       "      <td>Private</td>\n",
       "      <td>168538</td>\n",
       "      <td>HS-grad</td>\n",
       "      <td>9</td>\n",
       "      <td>Married-civ-spouse</td>\n",
       "      <td>Sales</td>\n",
       "      <td>Husband</td>\n",
       "      <td>White</td>\n",
       "      <td>Male</td>\n",
       "      <td>0</td>\n",
       "      <td>0</td>\n",
       "      <td>60</td>\n",
       "      <td>United-States</td>\n",
       "      <td>&gt;50K</td>\n",
       "    </tr>\n",
       "    <tr>\n",
       "      <th>1</th>\n",
       "      <td>1</td>\n",
       "      <td>17</td>\n",
       "      <td>Private</td>\n",
       "      <td>101626</td>\n",
       "      <td>9th</td>\n",
       "      <td>5</td>\n",
       "      <td>Never-married</td>\n",
       "      <td>Machine-op-inspct</td>\n",
       "      <td>Own-child</td>\n",
       "      <td>White</td>\n",
       "      <td>Male</td>\n",
       "      <td>0</td>\n",
       "      <td>0</td>\n",
       "      <td>20</td>\n",
       "      <td>United-States</td>\n",
       "      <td>&lt;=50K</td>\n",
       "    </tr>\n",
       "    <tr>\n",
       "      <th>2</th>\n",
       "      <td>2</td>\n",
       "      <td>18</td>\n",
       "      <td>Private</td>\n",
       "      <td>353358</td>\n",
       "      <td>Some-college</td>\n",
       "      <td>10</td>\n",
       "      <td>Never-married</td>\n",
       "      <td>Other-service</td>\n",
       "      <td>Own-child</td>\n",
       "      <td>White</td>\n",
       "      <td>Male</td>\n",
       "      <td>0</td>\n",
       "      <td>0</td>\n",
       "      <td>16</td>\n",
       "      <td>United-States</td>\n",
       "      <td>&lt;=50K</td>\n",
       "    </tr>\n",
       "    <tr>\n",
       "      <th>3</th>\n",
       "      <td>3</td>\n",
       "      <td>21</td>\n",
       "      <td>Private</td>\n",
       "      <td>151158</td>\n",
       "      <td>Some-college</td>\n",
       "      <td>10</td>\n",
       "      <td>Never-married</td>\n",
       "      <td>Prof-specialty</td>\n",
       "      <td>Own-child</td>\n",
       "      <td>White</td>\n",
       "      <td>Female</td>\n",
       "      <td>0</td>\n",
       "      <td>0</td>\n",
       "      <td>25</td>\n",
       "      <td>United-States</td>\n",
       "      <td>&lt;=50K</td>\n",
       "    </tr>\n",
       "    <tr>\n",
       "      <th>4</th>\n",
       "      <td>4</td>\n",
       "      <td>24</td>\n",
       "      <td>Private</td>\n",
       "      <td>122234</td>\n",
       "      <td>Some-college</td>\n",
       "      <td>10</td>\n",
       "      <td>Never-married</td>\n",
       "      <td>Adm-clerical</td>\n",
       "      <td>Not-in-family</td>\n",
       "      <td>Black</td>\n",
       "      <td>Female</td>\n",
       "      <td>0</td>\n",
       "      <td>0</td>\n",
       "      <td>20</td>\n",
       "      <td>?</td>\n",
       "      <td>&lt;=50K</td>\n",
       "    </tr>\n",
       "    <tr>\n",
       "      <th>...</th>\n",
       "      <td>...</td>\n",
       "      <td>...</td>\n",
       "      <td>...</td>\n",
       "      <td>...</td>\n",
       "      <td>...</td>\n",
       "      <td>...</td>\n",
       "      <td>...</td>\n",
       "      <td>...</td>\n",
       "      <td>...</td>\n",
       "      <td>...</td>\n",
       "      <td>...</td>\n",
       "      <td>...</td>\n",
       "      <td>...</td>\n",
       "      <td>...</td>\n",
       "      <td>...</td>\n",
       "      <td>...</td>\n",
       "    </tr>\n",
       "    <tr>\n",
       "      <th>26044</th>\n",
       "      <td>26044</td>\n",
       "      <td>57</td>\n",
       "      <td>Private</td>\n",
       "      <td>250201</td>\n",
       "      <td>11th</td>\n",
       "      <td>7</td>\n",
       "      <td>Married-civ-spouse</td>\n",
       "      <td>Other-service</td>\n",
       "      <td>Husband</td>\n",
       "      <td>White</td>\n",
       "      <td>Male</td>\n",
       "      <td>0</td>\n",
       "      <td>0</td>\n",
       "      <td>52</td>\n",
       "      <td>United-States</td>\n",
       "      <td>&lt;=50K</td>\n",
       "    </tr>\n",
       "    <tr>\n",
       "      <th>26045</th>\n",
       "      <td>26045</td>\n",
       "      <td>23</td>\n",
       "      <td>Private</td>\n",
       "      <td>238092</td>\n",
       "      <td>Bachelors</td>\n",
       "      <td>13</td>\n",
       "      <td>Never-married</td>\n",
       "      <td>Prof-specialty</td>\n",
       "      <td>Own-child</td>\n",
       "      <td>White</td>\n",
       "      <td>Male</td>\n",
       "      <td>0</td>\n",
       "      <td>0</td>\n",
       "      <td>40</td>\n",
       "      <td>United-States</td>\n",
       "      <td>&lt;=50K</td>\n",
       "    </tr>\n",
       "    <tr>\n",
       "      <th>26046</th>\n",
       "      <td>26046</td>\n",
       "      <td>78</td>\n",
       "      <td>?</td>\n",
       "      <td>165694</td>\n",
       "      <td>Masters</td>\n",
       "      <td>14</td>\n",
       "      <td>Widowed</td>\n",
       "      <td>?</td>\n",
       "      <td>Not-in-family</td>\n",
       "      <td>White</td>\n",
       "      <td>Female</td>\n",
       "      <td>0</td>\n",
       "      <td>0</td>\n",
       "      <td>15</td>\n",
       "      <td>United-States</td>\n",
       "      <td>&lt;=50K</td>\n",
       "    </tr>\n",
       "    <tr>\n",
       "      <th>26047</th>\n",
       "      <td>26047</td>\n",
       "      <td>26</td>\n",
       "      <td>Self-emp-not-inc</td>\n",
       "      <td>151626</td>\n",
       "      <td>HS-grad</td>\n",
       "      <td>9</td>\n",
       "      <td>Never-married</td>\n",
       "      <td>Prof-specialty</td>\n",
       "      <td>Own-child</td>\n",
       "      <td>Black</td>\n",
       "      <td>Female</td>\n",
       "      <td>0</td>\n",
       "      <td>0</td>\n",
       "      <td>40</td>\n",
       "      <td>United-States</td>\n",
       "      <td>&lt;=50K</td>\n",
       "    </tr>\n",
       "    <tr>\n",
       "      <th>26048</th>\n",
       "      <td>26048</td>\n",
       "      <td>20</td>\n",
       "      <td>?</td>\n",
       "      <td>99891</td>\n",
       "      <td>Some-college</td>\n",
       "      <td>10</td>\n",
       "      <td>Never-married</td>\n",
       "      <td>?</td>\n",
       "      <td>Own-child</td>\n",
       "      <td>White</td>\n",
       "      <td>Female</td>\n",
       "      <td>0</td>\n",
       "      <td>0</td>\n",
       "      <td>30</td>\n",
       "      <td>United-States</td>\n",
       "      <td>&lt;=50K</td>\n",
       "    </tr>\n",
       "  </tbody>\n",
       "</table>\n",
       "<p>26049 rows × 16 columns</p>\n",
       "</div>"
      ],
      "text/plain": [
       "          id  age         workclass  fnlwgt     education  education_num  \\\n",
       "0          0   40           Private  168538       HS-grad              9   \n",
       "1          1   17           Private  101626           9th              5   \n",
       "2          2   18           Private  353358  Some-college             10   \n",
       "3          3   21           Private  151158  Some-college             10   \n",
       "4          4   24           Private  122234  Some-college             10   \n",
       "...      ...  ...               ...     ...           ...            ...   \n",
       "26044  26044   57           Private  250201          11th              7   \n",
       "26045  26045   23           Private  238092     Bachelors             13   \n",
       "26046  26046   78                 ?  165694       Masters             14   \n",
       "26047  26047   26  Self-emp-not-inc  151626       HS-grad              9   \n",
       "26048  26048   20                 ?   99891  Some-college             10   \n",
       "\n",
       "           marital_status         occupation   relationship   race     sex  \\\n",
       "0      Married-civ-spouse              Sales        Husband  White    Male   \n",
       "1           Never-married  Machine-op-inspct      Own-child  White    Male   \n",
       "2           Never-married      Other-service      Own-child  White    Male   \n",
       "3           Never-married     Prof-specialty      Own-child  White  Female   \n",
       "4           Never-married       Adm-clerical  Not-in-family  Black  Female   \n",
       "...                   ...                ...            ...    ...     ...   \n",
       "26044  Married-civ-spouse      Other-service        Husband  White    Male   \n",
       "26045       Never-married     Prof-specialty      Own-child  White    Male   \n",
       "26046             Widowed                  ?  Not-in-family  White  Female   \n",
       "26047       Never-married     Prof-specialty      Own-child  Black  Female   \n",
       "26048       Never-married                  ?      Own-child  White  Female   \n",
       "\n",
       "       capital_gain  capital_loss  hours_per_week native_country income  \n",
       "0                 0             0              60  United-States   >50K  \n",
       "1                 0             0              20  United-States  <=50K  \n",
       "2                 0             0              16  United-States  <=50K  \n",
       "3                 0             0              25  United-States  <=50K  \n",
       "4                 0             0              20              ?  <=50K  \n",
       "...             ...           ...             ...            ...    ...  \n",
       "26044             0             0              52  United-States  <=50K  \n",
       "26045             0             0              40  United-States  <=50K  \n",
       "26046             0             0              15  United-States  <=50K  \n",
       "26047             0             0              40  United-States  <=50K  \n",
       "26048             0             0              30  United-States  <=50K  \n",
       "\n",
       "[26049 rows x 16 columns]"
      ]
     },
     "execution_count": 8,
     "metadata": {},
     "output_type": "execute_result"
    }
   ],
   "source": [
    "train"
   ]
  },
  {
   "cell_type": "code",
   "execution_count": 9,
   "metadata": {
    "ExecuteTime": {
     "end_time": "2020-11-10T07:23:04.234249Z",
     "start_time": "2020-11-10T07:23:04.219215Z"
    },
    "scrolled": false
   },
   "outputs": [],
   "source": [
    "# train_uci.append(train).drop_duplicates(subset = ['age', 'workclass', 'education', 'education_num',\n",
    "#        'marital_status', 'occupation', 'relationship', 'race', 'sex',\n",
    "#        'capital_gain', 'capital_loss', 'hours_per_week', 'native_country',\n",
    "#        'income'], keep = 'first')"
   ]
  },
  {
   "cell_type": "code",
   "execution_count": 10,
   "metadata": {
    "ExecuteTime": {
     "end_time": "2020-11-10T07:23:04.249209Z",
     "start_time": "2020-11-10T07:23:04.236209Z"
    }
   },
   "outputs": [],
   "source": [
    "# Thanks and credited to https://www.kaggle.com/gemartin who created this wonderful mem reducer\n",
    "def reduce_mem_usage(df):\n",
    "    \"\"\" iterate through all the columns of a dataframe and modify the data type\n",
    "        to reduce memory usage.        \n",
    "    \"\"\"\n",
    "    start_mem = df.memory_usage().sum() \n",
    "    print('Memory usage of dataframe is {:.2f} Byte'.format(start_mem))\n",
    "    \n",
    "    for col in df.columns:\n",
    "        col_type = df[col].dtype\n",
    "        \n",
    "        if col_type != object:\n",
    "            c_min = df[col].min()\n",
    "            c_max = df[col].max()\n",
    "            if str(col_type)[:3] == 'int':\n",
    "                if c_min > np.iinfo(np.int8).min and c_max < np.iinfo(np.int8).max:\n",
    "                    df[col] = df[col].astype(np.int8)\n",
    "                elif c_min > np.iinfo(np.int16).min and c_max < np.iinfo(np.int16).max:\n",
    "                    df[col] = df[col].astype(np.int16)\n",
    "                elif c_min > np.iinfo(np.int32).min and c_max < np.iinfo(np.int32).max:\n",
    "                    df[col] = df[col].astype(np.int32)\n",
    "                elif c_min > np.iinfo(np.int64).min and c_max < np.iinfo(np.int64).max:\n",
    "                    df[col] = df[col].astype(np.int64)  \n",
    "            else:\n",
    "                if c_min > np.finfo(np.float16).min and c_max < np.finfo(np.float16).max:\n",
    "                    df[col] = df[col].astype(np.float16)\n",
    "                elif c_min > np.finfo(np.float32).min and c_max < np.finfo(np.float32).max:\n",
    "                    df[col] = df[col].astype(np.float32)\n",
    "                else:\n",
    "                    df[col] = df[col].astype(np.float64)\n",
    "        else:\n",
    "            df[col] = df[col].astype('category')\n",
    "\n",
    "    end_mem = df.memory_usage().sum() \n",
    "    print('Memory usage after optimization is: {:.2f} MB'.format(end_mem))\n",
    "    print('Decreased by {:.1f}%'.format(100 * (start_mem - end_mem) / start_mem))\n",
    "    \n",
    "    return df"
   ]
  },
  {
   "cell_type": "code",
   "execution_count": null,
   "metadata": {},
   "outputs": [],
   "source": []
  },
  {
   "cell_type": "markdown",
   "metadata": {},
   "source": [
    "## 기본 정보"
   ]
  },
  {
   "cell_type": "code",
   "execution_count": 11,
   "metadata": {
    "ExecuteTime": {
     "end_time": "2020-11-10T07:23:04.257297Z",
     "start_time": "2020-11-10T07:23:04.251208Z"
    }
   },
   "outputs": [
    {
     "name": "stdout",
     "output_type": "stream",
     "text": [
      "(26049, 16)\n",
      "(6512, 15)\n"
     ]
    }
   ],
   "source": [
    "print(train.shape)\n",
    "print(test.shape)"
   ]
  },
  {
   "cell_type": "code",
   "execution_count": 12,
   "metadata": {
    "ExecuteTime": {
     "end_time": "2020-11-10T07:23:04.288870Z",
     "start_time": "2020-11-10T07:23:04.258835Z"
    }
   },
   "outputs": [
    {
     "data": {
      "text/html": [
       "<div>\n",
       "<style scoped>\n",
       "    .dataframe tbody tr th:only-of-type {\n",
       "        vertical-align: middle;\n",
       "    }\n",
       "\n",
       "    .dataframe tbody tr th {\n",
       "        vertical-align: top;\n",
       "    }\n",
       "\n",
       "    .dataframe thead th {\n",
       "        text-align: right;\n",
       "    }\n",
       "</style>\n",
       "<table border=\"1\" class=\"dataframe\">\n",
       "  <thead>\n",
       "    <tr style=\"text-align: right;\">\n",
       "      <th></th>\n",
       "      <th>id</th>\n",
       "      <th>age</th>\n",
       "      <th>workclass</th>\n",
       "      <th>fnlwgt</th>\n",
       "      <th>education</th>\n",
       "      <th>education_num</th>\n",
       "      <th>marital_status</th>\n",
       "      <th>occupation</th>\n",
       "      <th>relationship</th>\n",
       "      <th>race</th>\n",
       "      <th>sex</th>\n",
       "      <th>capital_gain</th>\n",
       "      <th>capital_loss</th>\n",
       "      <th>hours_per_week</th>\n",
       "      <th>native_country</th>\n",
       "      <th>income</th>\n",
       "    </tr>\n",
       "  </thead>\n",
       "  <tbody>\n",
       "    <tr>\n",
       "      <th>0</th>\n",
       "      <td>0</td>\n",
       "      <td>40</td>\n",
       "      <td>Private</td>\n",
       "      <td>168538</td>\n",
       "      <td>HS-grad</td>\n",
       "      <td>9</td>\n",
       "      <td>Married-civ-spouse</td>\n",
       "      <td>Sales</td>\n",
       "      <td>Husband</td>\n",
       "      <td>White</td>\n",
       "      <td>Male</td>\n",
       "      <td>0</td>\n",
       "      <td>0</td>\n",
       "      <td>60</td>\n",
       "      <td>United-States</td>\n",
       "      <td>&gt;50K</td>\n",
       "    </tr>\n",
       "    <tr>\n",
       "      <th>1</th>\n",
       "      <td>1</td>\n",
       "      <td>17</td>\n",
       "      <td>Private</td>\n",
       "      <td>101626</td>\n",
       "      <td>9th</td>\n",
       "      <td>5</td>\n",
       "      <td>Never-married</td>\n",
       "      <td>Machine-op-inspct</td>\n",
       "      <td>Own-child</td>\n",
       "      <td>White</td>\n",
       "      <td>Male</td>\n",
       "      <td>0</td>\n",
       "      <td>0</td>\n",
       "      <td>20</td>\n",
       "      <td>United-States</td>\n",
       "      <td>&lt;=50K</td>\n",
       "    </tr>\n",
       "    <tr>\n",
       "      <th>2</th>\n",
       "      <td>2</td>\n",
       "      <td>18</td>\n",
       "      <td>Private</td>\n",
       "      <td>353358</td>\n",
       "      <td>Some-college</td>\n",
       "      <td>10</td>\n",
       "      <td>Never-married</td>\n",
       "      <td>Other-service</td>\n",
       "      <td>Own-child</td>\n",
       "      <td>White</td>\n",
       "      <td>Male</td>\n",
       "      <td>0</td>\n",
       "      <td>0</td>\n",
       "      <td>16</td>\n",
       "      <td>United-States</td>\n",
       "      <td>&lt;=50K</td>\n",
       "    </tr>\n",
       "    <tr>\n",
       "      <th>3</th>\n",
       "      <td>3</td>\n",
       "      <td>21</td>\n",
       "      <td>Private</td>\n",
       "      <td>151158</td>\n",
       "      <td>Some-college</td>\n",
       "      <td>10</td>\n",
       "      <td>Never-married</td>\n",
       "      <td>Prof-specialty</td>\n",
       "      <td>Own-child</td>\n",
       "      <td>White</td>\n",
       "      <td>Female</td>\n",
       "      <td>0</td>\n",
       "      <td>0</td>\n",
       "      <td>25</td>\n",
       "      <td>United-States</td>\n",
       "      <td>&lt;=50K</td>\n",
       "    </tr>\n",
       "    <tr>\n",
       "      <th>4</th>\n",
       "      <td>4</td>\n",
       "      <td>24</td>\n",
       "      <td>Private</td>\n",
       "      <td>122234</td>\n",
       "      <td>Some-college</td>\n",
       "      <td>10</td>\n",
       "      <td>Never-married</td>\n",
       "      <td>Adm-clerical</td>\n",
       "      <td>Not-in-family</td>\n",
       "      <td>Black</td>\n",
       "      <td>Female</td>\n",
       "      <td>0</td>\n",
       "      <td>0</td>\n",
       "      <td>20</td>\n",
       "      <td>?</td>\n",
       "      <td>&lt;=50K</td>\n",
       "    </tr>\n",
       "    <tr>\n",
       "      <th>...</th>\n",
       "      <td>...</td>\n",
       "      <td>...</td>\n",
       "      <td>...</td>\n",
       "      <td>...</td>\n",
       "      <td>...</td>\n",
       "      <td>...</td>\n",
       "      <td>...</td>\n",
       "      <td>...</td>\n",
       "      <td>...</td>\n",
       "      <td>...</td>\n",
       "      <td>...</td>\n",
       "      <td>...</td>\n",
       "      <td>...</td>\n",
       "      <td>...</td>\n",
       "      <td>...</td>\n",
       "      <td>...</td>\n",
       "    </tr>\n",
       "    <tr>\n",
       "      <th>26044</th>\n",
       "      <td>26044</td>\n",
       "      <td>57</td>\n",
       "      <td>Private</td>\n",
       "      <td>250201</td>\n",
       "      <td>11th</td>\n",
       "      <td>7</td>\n",
       "      <td>Married-civ-spouse</td>\n",
       "      <td>Other-service</td>\n",
       "      <td>Husband</td>\n",
       "      <td>White</td>\n",
       "      <td>Male</td>\n",
       "      <td>0</td>\n",
       "      <td>0</td>\n",
       "      <td>52</td>\n",
       "      <td>United-States</td>\n",
       "      <td>&lt;=50K</td>\n",
       "    </tr>\n",
       "    <tr>\n",
       "      <th>26045</th>\n",
       "      <td>26045</td>\n",
       "      <td>23</td>\n",
       "      <td>Private</td>\n",
       "      <td>238092</td>\n",
       "      <td>Bachelors</td>\n",
       "      <td>13</td>\n",
       "      <td>Never-married</td>\n",
       "      <td>Prof-specialty</td>\n",
       "      <td>Own-child</td>\n",
       "      <td>White</td>\n",
       "      <td>Male</td>\n",
       "      <td>0</td>\n",
       "      <td>0</td>\n",
       "      <td>40</td>\n",
       "      <td>United-States</td>\n",
       "      <td>&lt;=50K</td>\n",
       "    </tr>\n",
       "    <tr>\n",
       "      <th>26046</th>\n",
       "      <td>26046</td>\n",
       "      <td>78</td>\n",
       "      <td>?</td>\n",
       "      <td>165694</td>\n",
       "      <td>Masters</td>\n",
       "      <td>14</td>\n",
       "      <td>Widowed</td>\n",
       "      <td>?</td>\n",
       "      <td>Not-in-family</td>\n",
       "      <td>White</td>\n",
       "      <td>Female</td>\n",
       "      <td>0</td>\n",
       "      <td>0</td>\n",
       "      <td>15</td>\n",
       "      <td>United-States</td>\n",
       "      <td>&lt;=50K</td>\n",
       "    </tr>\n",
       "    <tr>\n",
       "      <th>26047</th>\n",
       "      <td>26047</td>\n",
       "      <td>26</td>\n",
       "      <td>Self-emp-not-inc</td>\n",
       "      <td>151626</td>\n",
       "      <td>HS-grad</td>\n",
       "      <td>9</td>\n",
       "      <td>Never-married</td>\n",
       "      <td>Prof-specialty</td>\n",
       "      <td>Own-child</td>\n",
       "      <td>Black</td>\n",
       "      <td>Female</td>\n",
       "      <td>0</td>\n",
       "      <td>0</td>\n",
       "      <td>40</td>\n",
       "      <td>United-States</td>\n",
       "      <td>&lt;=50K</td>\n",
       "    </tr>\n",
       "    <tr>\n",
       "      <th>26048</th>\n",
       "      <td>26048</td>\n",
       "      <td>20</td>\n",
       "      <td>?</td>\n",
       "      <td>99891</td>\n",
       "      <td>Some-college</td>\n",
       "      <td>10</td>\n",
       "      <td>Never-married</td>\n",
       "      <td>?</td>\n",
       "      <td>Own-child</td>\n",
       "      <td>White</td>\n",
       "      <td>Female</td>\n",
       "      <td>0</td>\n",
       "      <td>0</td>\n",
       "      <td>30</td>\n",
       "      <td>United-States</td>\n",
       "      <td>&lt;=50K</td>\n",
       "    </tr>\n",
       "  </tbody>\n",
       "</table>\n",
       "<p>26049 rows × 16 columns</p>\n",
       "</div>"
      ],
      "text/plain": [
       "          id  age         workclass  fnlwgt     education  education_num  \\\n",
       "0          0   40           Private  168538       HS-grad              9   \n",
       "1          1   17           Private  101626           9th              5   \n",
       "2          2   18           Private  353358  Some-college             10   \n",
       "3          3   21           Private  151158  Some-college             10   \n",
       "4          4   24           Private  122234  Some-college             10   \n",
       "...      ...  ...               ...     ...           ...            ...   \n",
       "26044  26044   57           Private  250201          11th              7   \n",
       "26045  26045   23           Private  238092     Bachelors             13   \n",
       "26046  26046   78                 ?  165694       Masters             14   \n",
       "26047  26047   26  Self-emp-not-inc  151626       HS-grad              9   \n",
       "26048  26048   20                 ?   99891  Some-college             10   \n",
       "\n",
       "           marital_status         occupation   relationship   race     sex  \\\n",
       "0      Married-civ-spouse              Sales        Husband  White    Male   \n",
       "1           Never-married  Machine-op-inspct      Own-child  White    Male   \n",
       "2           Never-married      Other-service      Own-child  White    Male   \n",
       "3           Never-married     Prof-specialty      Own-child  White  Female   \n",
       "4           Never-married       Adm-clerical  Not-in-family  Black  Female   \n",
       "...                   ...                ...            ...    ...     ...   \n",
       "26044  Married-civ-spouse      Other-service        Husband  White    Male   \n",
       "26045       Never-married     Prof-specialty      Own-child  White    Male   \n",
       "26046             Widowed                  ?  Not-in-family  White  Female   \n",
       "26047       Never-married     Prof-specialty      Own-child  Black  Female   \n",
       "26048       Never-married                  ?      Own-child  White  Female   \n",
       "\n",
       "       capital_gain  capital_loss  hours_per_week native_country income  \n",
       "0                 0             0              60  United-States   >50K  \n",
       "1                 0             0              20  United-States  <=50K  \n",
       "2                 0             0              16  United-States  <=50K  \n",
       "3                 0             0              25  United-States  <=50K  \n",
       "4                 0             0              20              ?  <=50K  \n",
       "...             ...           ...             ...            ...    ...  \n",
       "26044             0             0              52  United-States  <=50K  \n",
       "26045             0             0              40  United-States  <=50K  \n",
       "26046             0             0              15  United-States  <=50K  \n",
       "26047             0             0              40  United-States  <=50K  \n",
       "26048             0             0              30  United-States  <=50K  \n",
       "\n",
       "[26049 rows x 16 columns]"
      ]
     },
     "execution_count": 12,
     "metadata": {},
     "output_type": "execute_result"
    }
   ],
   "source": [
    "train"
   ]
  },
  {
   "cell_type": "code",
   "execution_count": 13,
   "metadata": {
    "ExecuteTime": {
     "end_time": "2020-11-10T07:23:04.320878Z",
     "start_time": "2020-11-10T07:23:04.290838Z"
    }
   },
   "outputs": [
    {
     "data": {
      "text/html": [
       "<div>\n",
       "<style scoped>\n",
       "    .dataframe tbody tr th:only-of-type {\n",
       "        vertical-align: middle;\n",
       "    }\n",
       "\n",
       "    .dataframe tbody tr th {\n",
       "        vertical-align: top;\n",
       "    }\n",
       "\n",
       "    .dataframe thead th {\n",
       "        text-align: right;\n",
       "    }\n",
       "</style>\n",
       "<table border=\"1\" class=\"dataframe\">\n",
       "  <thead>\n",
       "    <tr style=\"text-align: right;\">\n",
       "      <th></th>\n",
       "      <th>id</th>\n",
       "      <th>age</th>\n",
       "      <th>workclass</th>\n",
       "      <th>fnlwgt</th>\n",
       "      <th>education</th>\n",
       "      <th>education_num</th>\n",
       "      <th>marital_status</th>\n",
       "      <th>occupation</th>\n",
       "      <th>relationship</th>\n",
       "      <th>race</th>\n",
       "      <th>sex</th>\n",
       "      <th>capital_gain</th>\n",
       "      <th>capital_loss</th>\n",
       "      <th>hours_per_week</th>\n",
       "      <th>native_country</th>\n",
       "    </tr>\n",
       "  </thead>\n",
       "  <tbody>\n",
       "    <tr>\n",
       "      <th>0</th>\n",
       "      <td>0</td>\n",
       "      <td>28</td>\n",
       "      <td>Private</td>\n",
       "      <td>67661</td>\n",
       "      <td>Some-college</td>\n",
       "      <td>10</td>\n",
       "      <td>Never-married</td>\n",
       "      <td>Adm-clerical</td>\n",
       "      <td>Other-relative</td>\n",
       "      <td>White</td>\n",
       "      <td>Female</td>\n",
       "      <td>0</td>\n",
       "      <td>0</td>\n",
       "      <td>40</td>\n",
       "      <td>United-States</td>\n",
       "    </tr>\n",
       "    <tr>\n",
       "      <th>1</th>\n",
       "      <td>1</td>\n",
       "      <td>40</td>\n",
       "      <td>Self-emp-inc</td>\n",
       "      <td>37869</td>\n",
       "      <td>HS-grad</td>\n",
       "      <td>9</td>\n",
       "      <td>Married-civ-spouse</td>\n",
       "      <td>Exec-managerial</td>\n",
       "      <td>Husband</td>\n",
       "      <td>White</td>\n",
       "      <td>Male</td>\n",
       "      <td>0</td>\n",
       "      <td>0</td>\n",
       "      <td>50</td>\n",
       "      <td>United-States</td>\n",
       "    </tr>\n",
       "    <tr>\n",
       "      <th>2</th>\n",
       "      <td>2</td>\n",
       "      <td>20</td>\n",
       "      <td>Private</td>\n",
       "      <td>109952</td>\n",
       "      <td>Some-college</td>\n",
       "      <td>10</td>\n",
       "      <td>Never-married</td>\n",
       "      <td>Handlers-cleaners</td>\n",
       "      <td>Own-child</td>\n",
       "      <td>White</td>\n",
       "      <td>Male</td>\n",
       "      <td>0</td>\n",
       "      <td>0</td>\n",
       "      <td>25</td>\n",
       "      <td>United-States</td>\n",
       "    </tr>\n",
       "    <tr>\n",
       "      <th>3</th>\n",
       "      <td>3</td>\n",
       "      <td>40</td>\n",
       "      <td>Private</td>\n",
       "      <td>114537</td>\n",
       "      <td>Assoc-voc</td>\n",
       "      <td>11</td>\n",
       "      <td>Married-civ-spouse</td>\n",
       "      <td>Exec-managerial</td>\n",
       "      <td>Husband</td>\n",
       "      <td>White</td>\n",
       "      <td>Male</td>\n",
       "      <td>0</td>\n",
       "      <td>0</td>\n",
       "      <td>50</td>\n",
       "      <td>United-States</td>\n",
       "    </tr>\n",
       "    <tr>\n",
       "      <th>4</th>\n",
       "      <td>4</td>\n",
       "      <td>37</td>\n",
       "      <td>Private</td>\n",
       "      <td>51264</td>\n",
       "      <td>Doctorate</td>\n",
       "      <td>16</td>\n",
       "      <td>Married-civ-spouse</td>\n",
       "      <td>Prof-specialty</td>\n",
       "      <td>Husband</td>\n",
       "      <td>White</td>\n",
       "      <td>Male</td>\n",
       "      <td>0</td>\n",
       "      <td>0</td>\n",
       "      <td>99</td>\n",
       "      <td>France</td>\n",
       "    </tr>\n",
       "    <tr>\n",
       "      <th>...</th>\n",
       "      <td>...</td>\n",
       "      <td>...</td>\n",
       "      <td>...</td>\n",
       "      <td>...</td>\n",
       "      <td>...</td>\n",
       "      <td>...</td>\n",
       "      <td>...</td>\n",
       "      <td>...</td>\n",
       "      <td>...</td>\n",
       "      <td>...</td>\n",
       "      <td>...</td>\n",
       "      <td>...</td>\n",
       "      <td>...</td>\n",
       "      <td>...</td>\n",
       "      <td>...</td>\n",
       "    </tr>\n",
       "    <tr>\n",
       "      <th>6507</th>\n",
       "      <td>6507</td>\n",
       "      <td>35</td>\n",
       "      <td>Private</td>\n",
       "      <td>61343</td>\n",
       "      <td>Bachelors</td>\n",
       "      <td>13</td>\n",
       "      <td>Married-civ-spouse</td>\n",
       "      <td>Sales</td>\n",
       "      <td>Husband</td>\n",
       "      <td>White</td>\n",
       "      <td>Male</td>\n",
       "      <td>0</td>\n",
       "      <td>0</td>\n",
       "      <td>40</td>\n",
       "      <td>United-States</td>\n",
       "    </tr>\n",
       "    <tr>\n",
       "      <th>6508</th>\n",
       "      <td>6508</td>\n",
       "      <td>41</td>\n",
       "      <td>Self-emp-inc</td>\n",
       "      <td>32185</td>\n",
       "      <td>Bachelors</td>\n",
       "      <td>13</td>\n",
       "      <td>Married-civ-spouse</td>\n",
       "      <td>Tech-support</td>\n",
       "      <td>Husband</td>\n",
       "      <td>White</td>\n",
       "      <td>Male</td>\n",
       "      <td>0</td>\n",
       "      <td>0</td>\n",
       "      <td>40</td>\n",
       "      <td>United-States</td>\n",
       "    </tr>\n",
       "    <tr>\n",
       "      <th>6509</th>\n",
       "      <td>6509</td>\n",
       "      <td>39</td>\n",
       "      <td>Private</td>\n",
       "      <td>409189</td>\n",
       "      <td>5th-6th</td>\n",
       "      <td>3</td>\n",
       "      <td>Married-civ-spouse</td>\n",
       "      <td>Other-service</td>\n",
       "      <td>Husband</td>\n",
       "      <td>White</td>\n",
       "      <td>Male</td>\n",
       "      <td>0</td>\n",
       "      <td>0</td>\n",
       "      <td>40</td>\n",
       "      <td>Mexico</td>\n",
       "    </tr>\n",
       "    <tr>\n",
       "      <th>6510</th>\n",
       "      <td>6510</td>\n",
       "      <td>35</td>\n",
       "      <td>Private</td>\n",
       "      <td>180342</td>\n",
       "      <td>HS-grad</td>\n",
       "      <td>9</td>\n",
       "      <td>Married-civ-spouse</td>\n",
       "      <td>Craft-repair</td>\n",
       "      <td>Husband</td>\n",
       "      <td>White</td>\n",
       "      <td>Male</td>\n",
       "      <td>0</td>\n",
       "      <td>0</td>\n",
       "      <td>40</td>\n",
       "      <td>United-States</td>\n",
       "    </tr>\n",
       "    <tr>\n",
       "      <th>6511</th>\n",
       "      <td>6511</td>\n",
       "      <td>28</td>\n",
       "      <td>Private</td>\n",
       "      <td>156819</td>\n",
       "      <td>HS-grad</td>\n",
       "      <td>9</td>\n",
       "      <td>Divorced</td>\n",
       "      <td>Handlers-cleaners</td>\n",
       "      <td>Unmarried</td>\n",
       "      <td>White</td>\n",
       "      <td>Female</td>\n",
       "      <td>0</td>\n",
       "      <td>0</td>\n",
       "      <td>36</td>\n",
       "      <td>United-States</td>\n",
       "    </tr>\n",
       "  </tbody>\n",
       "</table>\n",
       "<p>6512 rows × 15 columns</p>\n",
       "</div>"
      ],
      "text/plain": [
       "        id  age     workclass  fnlwgt     education  education_num  \\\n",
       "0        0   28       Private   67661  Some-college             10   \n",
       "1        1   40  Self-emp-inc   37869       HS-grad              9   \n",
       "2        2   20       Private  109952  Some-college             10   \n",
       "3        3   40       Private  114537     Assoc-voc             11   \n",
       "4        4   37       Private   51264     Doctorate             16   \n",
       "...    ...  ...           ...     ...           ...            ...   \n",
       "6507  6507   35       Private   61343     Bachelors             13   \n",
       "6508  6508   41  Self-emp-inc   32185     Bachelors             13   \n",
       "6509  6509   39       Private  409189       5th-6th              3   \n",
       "6510  6510   35       Private  180342       HS-grad              9   \n",
       "6511  6511   28       Private  156819       HS-grad              9   \n",
       "\n",
       "          marital_status         occupation    relationship   race     sex  \\\n",
       "0          Never-married       Adm-clerical  Other-relative  White  Female   \n",
       "1     Married-civ-spouse    Exec-managerial         Husband  White    Male   \n",
       "2          Never-married  Handlers-cleaners       Own-child  White    Male   \n",
       "3     Married-civ-spouse    Exec-managerial         Husband  White    Male   \n",
       "4     Married-civ-spouse     Prof-specialty         Husband  White    Male   \n",
       "...                  ...                ...             ...    ...     ...   \n",
       "6507  Married-civ-spouse              Sales         Husband  White    Male   \n",
       "6508  Married-civ-spouse       Tech-support         Husband  White    Male   \n",
       "6509  Married-civ-spouse      Other-service         Husband  White    Male   \n",
       "6510  Married-civ-spouse       Craft-repair         Husband  White    Male   \n",
       "6511            Divorced  Handlers-cleaners       Unmarried  White  Female   \n",
       "\n",
       "      capital_gain  capital_loss  hours_per_week native_country  \n",
       "0                0             0              40  United-States  \n",
       "1                0             0              50  United-States  \n",
       "2                0             0              25  United-States  \n",
       "3                0             0              50  United-States  \n",
       "4                0             0              99         France  \n",
       "...            ...           ...             ...            ...  \n",
       "6507             0             0              40  United-States  \n",
       "6508             0             0              40  United-States  \n",
       "6509             0             0              40         Mexico  \n",
       "6510             0             0              40  United-States  \n",
       "6511             0             0              36  United-States  \n",
       "\n",
       "[6512 rows x 15 columns]"
      ]
     },
     "execution_count": 13,
     "metadata": {},
     "output_type": "execute_result"
    }
   ],
   "source": [
    "test"
   ]
  },
  {
   "cell_type": "code",
   "execution_count": 14,
   "metadata": {
    "ExecuteTime": {
     "end_time": "2020-11-10T07:23:04.352282Z",
     "start_time": "2020-11-10T07:23:04.321836Z"
    }
   },
   "outputs": [
    {
     "name": "stdout",
     "output_type": "stream",
     "text": [
      "<class 'pandas.core.frame.DataFrame'>\n",
      "RangeIndex: 26049 entries, 0 to 26048\n",
      "Data columns (total 16 columns):\n",
      " #   Column          Non-Null Count  Dtype \n",
      "---  ------          --------------  ----- \n",
      " 0   id              26049 non-null  int64 \n",
      " 1   age             26049 non-null  int64 \n",
      " 2   workclass       26049 non-null  object\n",
      " 3   fnlwgt          26049 non-null  int64 \n",
      " 4   education       26049 non-null  object\n",
      " 5   education_num   26049 non-null  int64 \n",
      " 6   marital_status  26049 non-null  object\n",
      " 7   occupation      26049 non-null  object\n",
      " 8   relationship    26049 non-null  object\n",
      " 9   race            26049 non-null  object\n",
      " 10  sex             26049 non-null  object\n",
      " 11  capital_gain    26049 non-null  int64 \n",
      " 12  capital_loss    26049 non-null  int64 \n",
      " 13  hours_per_week  26049 non-null  int64 \n",
      " 14  native_country  26049 non-null  object\n",
      " 15  income          26049 non-null  object\n",
      "dtypes: int64(7), object(9)\n",
      "memory usage: 3.2+ MB\n"
     ]
    }
   ],
   "source": [
    "train.info()"
   ]
  },
  {
   "cell_type": "code",
   "execution_count": 15,
   "metadata": {
    "ExecuteTime": {
     "end_time": "2020-11-10T07:23:04.437481Z",
     "start_time": "2020-11-10T07:23:04.353241Z"
    }
   },
   "outputs": [
    {
     "data": {
      "text/html": [
       "<div>\n",
       "<style scoped>\n",
       "    .dataframe tbody tr th:only-of-type {\n",
       "        vertical-align: middle;\n",
       "    }\n",
       "\n",
       "    .dataframe tbody tr th {\n",
       "        vertical-align: top;\n",
       "    }\n",
       "\n",
       "    .dataframe thead th {\n",
       "        text-align: right;\n",
       "    }\n",
       "</style>\n",
       "<table border=\"1\" class=\"dataframe\">\n",
       "  <thead>\n",
       "    <tr style=\"text-align: right;\">\n",
       "      <th></th>\n",
       "      <th>id</th>\n",
       "      <th>age</th>\n",
       "      <th>workclass</th>\n",
       "      <th>fnlwgt</th>\n",
       "      <th>education</th>\n",
       "      <th>education_num</th>\n",
       "      <th>marital_status</th>\n",
       "      <th>occupation</th>\n",
       "      <th>relationship</th>\n",
       "      <th>race</th>\n",
       "      <th>sex</th>\n",
       "      <th>capital_gain</th>\n",
       "      <th>capital_loss</th>\n",
       "      <th>hours_per_week</th>\n",
       "      <th>native_country</th>\n",
       "      <th>income</th>\n",
       "    </tr>\n",
       "  </thead>\n",
       "  <tbody>\n",
       "    <tr>\n",
       "      <th>count</th>\n",
       "      <td>26049.000</td>\n",
       "      <td>26049.000</td>\n",
       "      <td>26049</td>\n",
       "      <td>26049.000</td>\n",
       "      <td>26049</td>\n",
       "      <td>26049.000</td>\n",
       "      <td>26049</td>\n",
       "      <td>26049</td>\n",
       "      <td>26049</td>\n",
       "      <td>26049</td>\n",
       "      <td>26049</td>\n",
       "      <td>26049.000</td>\n",
       "      <td>26049.000</td>\n",
       "      <td>26049.000</td>\n",
       "      <td>26049</td>\n",
       "      <td>26049</td>\n",
       "    </tr>\n",
       "    <tr>\n",
       "      <th>unique</th>\n",
       "      <td>nan</td>\n",
       "      <td>nan</td>\n",
       "      <td>9</td>\n",
       "      <td>nan</td>\n",
       "      <td>16</td>\n",
       "      <td>nan</td>\n",
       "      <td>7</td>\n",
       "      <td>15</td>\n",
       "      <td>6</td>\n",
       "      <td>5</td>\n",
       "      <td>2</td>\n",
       "      <td>nan</td>\n",
       "      <td>nan</td>\n",
       "      <td>nan</td>\n",
       "      <td>41</td>\n",
       "      <td>2</td>\n",
       "    </tr>\n",
       "    <tr>\n",
       "      <th>top</th>\n",
       "      <td>nan</td>\n",
       "      <td>nan</td>\n",
       "      <td>Private</td>\n",
       "      <td>nan</td>\n",
       "      <td>HS-grad</td>\n",
       "      <td>nan</td>\n",
       "      <td>Married-civ-spouse</td>\n",
       "      <td>Prof-specialty</td>\n",
       "      <td>Husband</td>\n",
       "      <td>White</td>\n",
       "      <td>Male</td>\n",
       "      <td>nan</td>\n",
       "      <td>nan</td>\n",
       "      <td>nan</td>\n",
       "      <td>United-States</td>\n",
       "      <td>&lt;=50K</td>\n",
       "    </tr>\n",
       "    <tr>\n",
       "      <th>freq</th>\n",
       "      <td>nan</td>\n",
       "      <td>nan</td>\n",
       "      <td>18123</td>\n",
       "      <td>nan</td>\n",
       "      <td>8433</td>\n",
       "      <td>nan</td>\n",
       "      <td>11970</td>\n",
       "      <td>3304</td>\n",
       "      <td>10541</td>\n",
       "      <td>22315</td>\n",
       "      <td>17482</td>\n",
       "      <td>nan</td>\n",
       "      <td>nan</td>\n",
       "      <td>nan</td>\n",
       "      <td>23371</td>\n",
       "      <td>19744</td>\n",
       "    </tr>\n",
       "    <tr>\n",
       "      <th>mean</th>\n",
       "      <td>13024.000</td>\n",
       "      <td>38.569</td>\n",
       "      <td>NaN</td>\n",
       "      <td>190304.482</td>\n",
       "      <td>NaN</td>\n",
       "      <td>10.088</td>\n",
       "      <td>NaN</td>\n",
       "      <td>NaN</td>\n",
       "      <td>NaN</td>\n",
       "      <td>NaN</td>\n",
       "      <td>NaN</td>\n",
       "      <td>1087.690</td>\n",
       "      <td>87.733</td>\n",
       "      <td>40.443</td>\n",
       "      <td>NaN</td>\n",
       "      <td>NaN</td>\n",
       "    </tr>\n",
       "    <tr>\n",
       "      <th>std</th>\n",
       "      <td>7519.843</td>\n",
       "      <td>13.671</td>\n",
       "      <td>NaN</td>\n",
       "      <td>105966.299</td>\n",
       "      <td>NaN</td>\n",
       "      <td>2.568</td>\n",
       "      <td>NaN</td>\n",
       "      <td>NaN</td>\n",
       "      <td>NaN</td>\n",
       "      <td>NaN</td>\n",
       "      <td>NaN</td>\n",
       "      <td>7388.855</td>\n",
       "      <td>403.230</td>\n",
       "      <td>12.362</td>\n",
       "      <td>NaN</td>\n",
       "      <td>NaN</td>\n",
       "    </tr>\n",
       "    <tr>\n",
       "      <th>min</th>\n",
       "      <td>0.000</td>\n",
       "      <td>17.000</td>\n",
       "      <td>NaN</td>\n",
       "      <td>13769.000</td>\n",
       "      <td>NaN</td>\n",
       "      <td>1.000</td>\n",
       "      <td>NaN</td>\n",
       "      <td>NaN</td>\n",
       "      <td>NaN</td>\n",
       "      <td>NaN</td>\n",
       "      <td>NaN</td>\n",
       "      <td>0.000</td>\n",
       "      <td>0.000</td>\n",
       "      <td>1.000</td>\n",
       "      <td>NaN</td>\n",
       "      <td>NaN</td>\n",
       "    </tr>\n",
       "    <tr>\n",
       "      <th>25%</th>\n",
       "      <td>6512.000</td>\n",
       "      <td>28.000</td>\n",
       "      <td>NaN</td>\n",
       "      <td>118108.000</td>\n",
       "      <td>NaN</td>\n",
       "      <td>9.000</td>\n",
       "      <td>NaN</td>\n",
       "      <td>NaN</td>\n",
       "      <td>NaN</td>\n",
       "      <td>NaN</td>\n",
       "      <td>NaN</td>\n",
       "      <td>0.000</td>\n",
       "      <td>0.000</td>\n",
       "      <td>40.000</td>\n",
       "      <td>NaN</td>\n",
       "      <td>NaN</td>\n",
       "    </tr>\n",
       "    <tr>\n",
       "      <th>50%</th>\n",
       "      <td>13024.000</td>\n",
       "      <td>37.000</td>\n",
       "      <td>NaN</td>\n",
       "      <td>178866.000</td>\n",
       "      <td>NaN</td>\n",
       "      <td>10.000</td>\n",
       "      <td>NaN</td>\n",
       "      <td>NaN</td>\n",
       "      <td>NaN</td>\n",
       "      <td>NaN</td>\n",
       "      <td>NaN</td>\n",
       "      <td>0.000</td>\n",
       "      <td>0.000</td>\n",
       "      <td>40.000</td>\n",
       "      <td>NaN</td>\n",
       "      <td>NaN</td>\n",
       "    </tr>\n",
       "    <tr>\n",
       "      <th>75%</th>\n",
       "      <td>19536.000</td>\n",
       "      <td>48.000</td>\n",
       "      <td>NaN</td>\n",
       "      <td>237735.000</td>\n",
       "      <td>NaN</td>\n",
       "      <td>12.000</td>\n",
       "      <td>NaN</td>\n",
       "      <td>NaN</td>\n",
       "      <td>NaN</td>\n",
       "      <td>NaN</td>\n",
       "      <td>NaN</td>\n",
       "      <td>0.000</td>\n",
       "      <td>0.000</td>\n",
       "      <td>45.000</td>\n",
       "      <td>NaN</td>\n",
       "      <td>NaN</td>\n",
       "    </tr>\n",
       "    <tr>\n",
       "      <th>max</th>\n",
       "      <td>26048.000</td>\n",
       "      <td>90.000</td>\n",
       "      <td>NaN</td>\n",
       "      <td>1484705.000</td>\n",
       "      <td>NaN</td>\n",
       "      <td>16.000</td>\n",
       "      <td>NaN</td>\n",
       "      <td>NaN</td>\n",
       "      <td>NaN</td>\n",
       "      <td>NaN</td>\n",
       "      <td>NaN</td>\n",
       "      <td>99999.000</td>\n",
       "      <td>4356.000</td>\n",
       "      <td>99.000</td>\n",
       "      <td>NaN</td>\n",
       "      <td>NaN</td>\n",
       "    </tr>\n",
       "  </tbody>\n",
       "</table>\n",
       "</div>"
      ],
      "text/plain": [
       "              id       age workclass      fnlwgt education  education_num  \\\n",
       "count  26049.000 26049.000     26049   26049.000     26049      26049.000   \n",
       "unique       nan       nan         9         nan        16            nan   \n",
       "top          nan       nan   Private         nan   HS-grad            nan   \n",
       "freq         nan       nan     18123         nan      8433            nan   \n",
       "mean   13024.000    38.569       NaN  190304.482       NaN         10.088   \n",
       "std     7519.843    13.671       NaN  105966.299       NaN          2.568   \n",
       "min        0.000    17.000       NaN   13769.000       NaN          1.000   \n",
       "25%     6512.000    28.000       NaN  118108.000       NaN          9.000   \n",
       "50%    13024.000    37.000       NaN  178866.000       NaN         10.000   \n",
       "75%    19536.000    48.000       NaN  237735.000       NaN         12.000   \n",
       "max    26048.000    90.000       NaN 1484705.000       NaN         16.000   \n",
       "\n",
       "            marital_status      occupation relationship   race    sex  \\\n",
       "count                26049           26049        26049  26049  26049   \n",
       "unique                   7              15            6      5      2   \n",
       "top     Married-civ-spouse  Prof-specialty      Husband  White   Male   \n",
       "freq                 11970            3304        10541  22315  17482   \n",
       "mean                   NaN             NaN          NaN    NaN    NaN   \n",
       "std                    NaN             NaN          NaN    NaN    NaN   \n",
       "min                    NaN             NaN          NaN    NaN    NaN   \n",
       "25%                    NaN             NaN          NaN    NaN    NaN   \n",
       "50%                    NaN             NaN          NaN    NaN    NaN   \n",
       "75%                    NaN             NaN          NaN    NaN    NaN   \n",
       "max                    NaN             NaN          NaN    NaN    NaN   \n",
       "\n",
       "        capital_gain  capital_loss  hours_per_week native_country income  \n",
       "count      26049.000     26049.000       26049.000          26049  26049  \n",
       "unique           nan           nan             nan             41      2  \n",
       "top              nan           nan             nan  United-States  <=50K  \n",
       "freq             nan           nan             nan          23371  19744  \n",
       "mean        1087.690        87.733          40.443            NaN    NaN  \n",
       "std         7388.855       403.230          12.362            NaN    NaN  \n",
       "min            0.000         0.000           1.000            NaN    NaN  \n",
       "25%            0.000         0.000          40.000            NaN    NaN  \n",
       "50%            0.000         0.000          40.000            NaN    NaN  \n",
       "75%            0.000         0.000          45.000            NaN    NaN  \n",
       "max        99999.000      4356.000          99.000            NaN    NaN  "
      ]
     },
     "execution_count": 15,
     "metadata": {},
     "output_type": "execute_result"
    }
   ],
   "source": [
    "train.describe(include = 'all')"
   ]
  },
  {
   "cell_type": "code",
   "execution_count": 16,
   "metadata": {
    "ExecuteTime": {
     "end_time": "2020-11-10T07:23:04.453478Z",
     "start_time": "2020-11-10T07:23:04.438453Z"
    }
   },
   "outputs": [],
   "source": [
    "# import qgrid\n",
    "# qgrid_widget = qgrid.show_grid(train,show_toolbar=True)\n",
    "# qgrid_widget"
   ]
  },
  {
   "cell_type": "markdown",
   "metadata": {},
   "source": [
    "## Feature 설명\n",
    "\n",
    "- This data was extracted from the 1994 Census bureau database by Ronny Kohavi and Barry Becker (Data Mining and Visualization, Silicon Graphics). A set of reasonably clean records was extracted using the following conditions: ((AAGE>16) && (AGI>100) && (AFNLWGT>1) && (HRSWK>0)). The prediction task is to determine whether a person makes over \"$50K\" a year.\n",
    "    \n",
    "    - age : 나이\n",
    "    - workclass : 고용 형태\n",
    "    - fnlwgt : 사람 대표성을 나타내는 가중치 (final weight의 약자)\n",
    "            - A single cell estimate of the population 16+ for each state.\n",
    "            - Controls for Hispanic Origin by age and sex.\n",
    "            - Controls by Race, age and sex.\n",
    "            -CPS sample is actually a collection of 51 state samples, each with its own probability of selection, the statement only applies within state.\n",
    "    - education : 교육 수준\n",
    "    - education_num : 교육 수준 수치\n",
    "    - marital_status: 결혼 상태\n",
    "    - occupation : 업종\n",
    "    - relationship : 가족 관계\n",
    "    - race : 인종\n",
    "    - sex : 성별\n",
    "    - capital_gain : 양도 소득\n",
    "    - capital_loss : 양도 손실\n",
    "    - hours_per_week : 주당 근무 시간\n",
    "    - native_country : 국적\n",
    "    - income : 수익 (예측해야 하는 값)\n",
    "             >50K : 1\n",
    "             <=50K : 0"
   ]
  },
  {
   "cell_type": "code",
   "execution_count": 17,
   "metadata": {
    "ExecuteTime": {
     "end_time": "2020-11-10T07:23:04.468725Z",
     "start_time": "2020-11-10T07:23:04.454441Z"
    }
   },
   "outputs": [
    {
     "data": {
      "text/plain": [
       "(633, 16)"
      ]
     },
     "execution_count": 17,
     "metadata": {},
     "output_type": "execute_result"
    }
   ],
   "source": [
    "train.query('capital_gain > 9000').shape\n",
    "train.query('capital_gain > 9000 & income == \">50K\"').shape"
   ]
  },
  {
   "cell_type": "code",
   "execution_count": 64,
   "metadata": {
    "ExecuteTime": {
     "end_time": "2020-11-10T07:32:20.803146Z",
     "start_time": "2020-11-10T07:32:20.778137Z"
    },
    "scrolled": false
   },
   "outputs": [
    {
     "name": "stdout",
     "output_type": "stream",
     "text": [
      "object\n",
      "[workclass] (9)\n",
      "Private\n",
      "State-gov\n",
      "?\n",
      "Self-emp-not-inc\n",
      "Local-gov\n",
      "Federal-gov\n",
      "Self-emp-inc\n",
      "Without-pay\n",
      "Never-worked\n",
      "\n",
      "object\n",
      "[education] (16)\n",
      "HS-grad\n",
      "9th\n",
      "Some-college\n",
      "Bachelors\n",
      "11th\n",
      "1st-4th\n",
      "5th-6th\n",
      "Assoc-acdm\n",
      "10th\n",
      "Prof-school\n",
      "7th-8th\n",
      "Masters\n",
      "Assoc-voc\n",
      "Doctorate\n",
      "12th\n",
      "Preschool\n",
      "\n",
      "object\n",
      "[marital_status] (7)\n",
      "Married-civ-spouse\n",
      "Never-married\n",
      "Separated\n",
      "Married-spouse-absent\n",
      "Divorced\n",
      "Widowed\n",
      "Married-AF-spouse\n",
      "\n",
      "object\n",
      "[occupation] (15)\n",
      "Sales\n",
      "Machine-op-inspct\n",
      "Other-service\n",
      "Prof-specialty\n",
      "Adm-clerical\n",
      "Craft-repair\n",
      "?\n",
      "Handlers-cleaners\n",
      "Farming-fishing\n",
      "Exec-managerial\n",
      "Transport-moving\n",
      "Protective-serv\n",
      "Tech-support\n",
      "Priv-house-serv\n",
      "Armed-Forces\n",
      "\n",
      "object\n",
      "[relationship] (6)\n",
      "Husband\n",
      "Own-child\n",
      "Not-in-family\n",
      "Unmarried\n",
      "Wife\n",
      "Other-relative\n",
      "\n",
      "object\n",
      "[race] (5)\n",
      "White\n",
      "Black\n",
      "Asian-Pac-Islander\n",
      "Other\n",
      "Amer-Indian-Eskimo\n",
      "\n",
      "object\n",
      "[sex] (2)\n",
      "Male\n",
      "Female\n",
      "\n",
      "object\n",
      "[native_country] (41)\n",
      "United-States\n",
      "?\n",
      "Mexico\n",
      "Poland\n",
      "Philippines\n",
      "Puerto-Rico\n",
      "Vietnam\n",
      "Germany\n",
      "Cuba\n",
      "France\n",
      "Ireland\n",
      "El-Salvador\n",
      "Guatemala\n",
      "Haiti\n",
      "Trinadad&Tobago\n",
      "Jamaica\n",
      "Canada\n",
      "Taiwan\n",
      "South\n",
      "Columbia\n",
      "Peru\n",
      "Japan\n",
      "Dominican-Republic\n",
      "China\n",
      "England\n",
      "Iran\n",
      "India\n",
      "Nicaragua\n",
      "Italy\n",
      "Honduras\n",
      "Thailand\n",
      "Ecuador\n",
      "Portugal\n",
      "Hungary\n",
      "Greece\n",
      "Hong\n",
      "Outlying-US(Guam-USVI-etc)\n",
      "Cambodia\n",
      "Scotland\n",
      "Yugoslavia\n",
      "Laos\n",
      "\n",
      "object\n",
      "[income] (2)\n",
      ">50K\n",
      "<=50K\n",
      "\n"
     ]
    }
   ],
   "source": [
    "def briefing_df(dd):\n",
    "    for col in dd.columns:\n",
    "        if dd[col].dtype == 'object':\n",
    "            print(dd[col].dtype)\n",
    "            categories = dd[col].unique()\n",
    "            print(f'[{col}] ({len(categories)})')\n",
    "            print('\\n'.join(categories))\n",
    "            print()\n",
    "            \n",
    "briefing_df(train)"
   ]
  },
  {
   "cell_type": "markdown",
   "metadata": {},
   "source": [
    "### 범주형과 숫자형 나누기"
   ]
  },
  {
   "cell_type": "code",
   "execution_count": 85,
   "metadata": {
    "ExecuteTime": {
     "end_time": "2020-11-10T07:42:19.012715Z",
     "start_time": "2020-11-10T07:42:18.996207Z"
    }
   },
   "outputs": [
    {
     "name": "stdout",
     "output_type": "stream",
     "text": [
      "object_columns: ['workclass', 'education', 'marital_status', 'occupation', 'relationship', 'race', 'sex', 'native_country']\n",
      "numerical_columns: ['age', 'fnlwgt', 'education_num', 'capital_gain', 'capital_loss', 'hours_per_week', 'income', 'value']\n"
     ]
    }
   ],
   "source": [
    "def object_col(d):\n",
    "#     d = dd.drop('id', axis = 1)\n",
    "    object_columns = []\n",
    "    numerical_columns = []\n",
    "    for col in d.columns:\n",
    "        if d[col].dtype == 'object':\n",
    "#             print(f'column [{col}] is categorical.')\n",
    "            object_columns.append(col)\n",
    "        else: \n",
    "#             print(f'column [{col}] is numerical.')\n",
    "            numerical_columns.append(col)\n",
    "        \n",
    "    print(f'object_columns: {object_columns}')\n",
    "    print(f'numerical_columns: {numerical_columns}')\n",
    "    \n",
    "    return object_columns, numerical_columns\n",
    "\n",
    "object_columns, numerical_columns = object_col(train)"
   ]
  },
  {
   "cell_type": "code",
   "execution_count": 21,
   "metadata": {
    "ExecuteTime": {
     "end_time": "2020-11-10T07:23:04.623847Z",
     "start_time": "2020-11-10T07:23:04.542089Z"
    }
   },
   "outputs": [
    {
     "data": {
      "text/html": [
       "<style  type=\"text/css\" >\n",
       "#T_92a7d517_2325_11eb_872d_0c7a1588ea5erow0_col0,#T_92a7d517_2325_11eb_872d_0c7a1588ea5erow0_col2,#T_92a7d517_2325_11eb_872d_0c7a1588ea5erow1_col0,#T_92a7d517_2325_11eb_872d_0c7a1588ea5erow1_col2,#T_92a7d517_2325_11eb_872d_0c7a1588ea5erow2_col2,#T_92a7d517_2325_11eb_872d_0c7a1588ea5erow3_col2,#T_92a7d517_2325_11eb_872d_0c7a1588ea5erow4_col2,#T_92a7d517_2325_11eb_872d_0c7a1588ea5erow5_col2,#T_92a7d517_2325_11eb_872d_0c7a1588ea5erow6_col0,#T_92a7d517_2325_11eb_872d_0c7a1588ea5erow6_col1,#T_92a7d517_2325_11eb_872d_0c7a1588ea5erow6_col2,#T_92a7d517_2325_11eb_872d_0c7a1588ea5erow6_col3,#T_92a7d517_2325_11eb_872d_0c7a1588ea5erow7_col0,#T_92a7d517_2325_11eb_872d_0c7a1588ea5erow7_col2,#T_92a7d517_2325_11eb_872d_0c7a1588ea5erow8_col2,#T_92a7d517_2325_11eb_872d_0c7a1588ea5erow9_col2{\n",
       "            background-color:  #fcfbfd;\n",
       "            color:  #000000;\n",
       "        }#T_92a7d517_2325_11eb_872d_0c7a1588ea5erow0_col1{\n",
       "            background-color:  #dedded;\n",
       "            color:  #000000;\n",
       "        }#T_92a7d517_2325_11eb_872d_0c7a1588ea5erow0_col3{\n",
       "            background-color:  #f4f2f8;\n",
       "            color:  #000000;\n",
       "        }#T_92a7d517_2325_11eb_872d_0c7a1588ea5erow1_col1{\n",
       "            background-color:  #ddddec;\n",
       "            color:  #000000;\n",
       "        }#T_92a7d517_2325_11eb_872d_0c7a1588ea5erow1_col3{\n",
       "            background-color:  #e0dfee;\n",
       "            color:  #000000;\n",
       "        }#T_92a7d517_2325_11eb_872d_0c7a1588ea5erow2_col0{\n",
       "            background-color:  #fbfafc;\n",
       "            color:  #000000;\n",
       "        }#T_92a7d517_2325_11eb_872d_0c7a1588ea5erow2_col1,#T_92a7d517_2325_11eb_872d_0c7a1588ea5erow5_col1,#T_92a7d517_2325_11eb_872d_0c7a1588ea5erow8_col1{\n",
       "            background-color:  #e4e3f0;\n",
       "            color:  #000000;\n",
       "        }#T_92a7d517_2325_11eb_872d_0c7a1588ea5erow2_col3,#T_92a7d517_2325_11eb_872d_0c7a1588ea5erow3_col1,#T_92a7d517_2325_11eb_872d_0c7a1588ea5erow3_col3,#T_92a7d517_2325_11eb_872d_0c7a1588ea5erow4_col3,#T_92a7d517_2325_11eb_872d_0c7a1588ea5erow5_col3,#T_92a7d517_2325_11eb_872d_0c7a1588ea5erow7_col3,#T_92a7d517_2325_11eb_872d_0c7a1588ea5erow8_col3,#T_92a7d517_2325_11eb_872d_0c7a1588ea5erow9_col0,#T_92a7d517_2325_11eb_872d_0c7a1588ea5erow9_col3{\n",
       "            background-color:  #3f007d;\n",
       "            color:  #f1f1f1;\n",
       "        }#T_92a7d517_2325_11eb_872d_0c7a1588ea5erow3_col0{\n",
       "            background-color:  #f9f8fb;\n",
       "            color:  #000000;\n",
       "        }#T_92a7d517_2325_11eb_872d_0c7a1588ea5erow4_col0{\n",
       "            background-color:  #f5f3f8;\n",
       "            color:  #000000;\n",
       "        }#T_92a7d517_2325_11eb_872d_0c7a1588ea5erow4_col1{\n",
       "            background-color:  #ecebf4;\n",
       "            color:  #000000;\n",
       "        }#T_92a7d517_2325_11eb_872d_0c7a1588ea5erow5_col0{\n",
       "            background-color:  #f4f3f8;\n",
       "            color:  #000000;\n",
       "        }#T_92a7d517_2325_11eb_872d_0c7a1588ea5erow7_col1{\n",
       "            background-color:  #54278f;\n",
       "            color:  #f1f1f1;\n",
       "        }#T_92a7d517_2325_11eb_872d_0c7a1588ea5erow8_col0{\n",
       "            background-color:  #acaad1;\n",
       "            color:  #000000;\n",
       "        }#T_92a7d517_2325_11eb_872d_0c7a1588ea5erow9_col1{\n",
       "            background-color:  #7d77b7;\n",
       "            color:  #000000;\n",
       "        }</style><table id=\"T_92a7d517_2325_11eb_872d_0c7a1588ea5e\" ><thead>    <tr>        <th class=\"blank\" ></th>        <th class=\"blank level0\" ></th>        <th class=\"col_heading level0 col0\" colspan=4>capital_gain</th>    </tr>    <tr>        <th class=\"blank\" ></th>        <th class=\"blank level1\" ></th>        <th class=\"col_heading level1 col0\" >count</th>        <th class=\"col_heading level1 col1\" >mean</th>        <th class=\"col_heading level1 col2\" >min</th>        <th class=\"col_heading level1 col3\" >max</th>    </tr>    <tr>        <th class=\"index_name level0\" >race</th>        <th class=\"index_name level1\" >sex</th>        <th class=\"blank\" ></th>        <th class=\"blank\" ></th>        <th class=\"blank\" ></th>        <th class=\"blank\" ></th>    </tr></thead><tbody>\n",
       "                <tr>\n",
       "                        <th id=\"T_92a7d517_2325_11eb_872d_0c7a1588ea5elevel0_row0\" class=\"row_heading level0 row0\" rowspan=2>Amer-Indian-Eskimo</th>\n",
       "                        <th id=\"T_92a7d517_2325_11eb_872d_0c7a1588ea5elevel1_row0\" class=\"row_heading level1 row0\" >Female</th>\n",
       "                        <td id=\"T_92a7d517_2325_11eb_872d_0c7a1588ea5erow0_col0\" class=\"data row0 col0\" >88</td>\n",
       "                        <td id=\"T_92a7d517_2325_11eb_872d_0c7a1588ea5erow0_col1\" class=\"data row0 col1\" >646.636364</td>\n",
       "                        <td id=\"T_92a7d517_2325_11eb_872d_0c7a1588ea5erow0_col2\" class=\"data row0 col2\" >0</td>\n",
       "                        <td id=\"T_92a7d517_2325_11eb_872d_0c7a1588ea5erow0_col3\" class=\"data row0 col3\" >15024</td>\n",
       "            </tr>\n",
       "            <tr>\n",
       "                                <th id=\"T_92a7d517_2325_11eb_872d_0c7a1588ea5elevel1_row1\" class=\"row_heading level1 row1\" >Male</th>\n",
       "                        <td id=\"T_92a7d517_2325_11eb_872d_0c7a1588ea5erow1_col0\" class=\"data row1 col0\" >166</td>\n",
       "                        <td id=\"T_92a7d517_2325_11eb_872d_0c7a1588ea5erow1_col1\" class=\"data row1 col1\" >649.596386</td>\n",
       "                        <td id=\"T_92a7d517_2325_11eb_872d_0c7a1588ea5erow1_col2\" class=\"data row1 col2\" >0</td>\n",
       "                        <td id=\"T_92a7d517_2325_11eb_872d_0c7a1588ea5erow1_col3\" class=\"data row1 col3\" >27828</td>\n",
       "            </tr>\n",
       "            <tr>\n",
       "                        <th id=\"T_92a7d517_2325_11eb_872d_0c7a1588ea5elevel0_row2\" class=\"row_heading level0 row2\" rowspan=2>Asian-Pac-Islander</th>\n",
       "                        <th id=\"T_92a7d517_2325_11eb_872d_0c7a1588ea5elevel1_row2\" class=\"row_heading level1 row2\" >Female</th>\n",
       "                        <td id=\"T_92a7d517_2325_11eb_872d_0c7a1588ea5erow2_col0\" class=\"data row2 col0\" >270</td>\n",
       "                        <td id=\"T_92a7d517_2325_11eb_872d_0c7a1588ea5erow2_col1\" class=\"data row2 col1\" >584.325926</td>\n",
       "                        <td id=\"T_92a7d517_2325_11eb_872d_0c7a1588ea5erow2_col2\" class=\"data row2 col2\" >0</td>\n",
       "                        <td id=\"T_92a7d517_2325_11eb_872d_0c7a1588ea5erow2_col3\" class=\"data row2 col3\" >99999</td>\n",
       "            </tr>\n",
       "            <tr>\n",
       "                                <th id=\"T_92a7d517_2325_11eb_872d_0c7a1588ea5elevel1_row3\" class=\"row_heading level1 row3\" >Male</th>\n",
       "                        <td id=\"T_92a7d517_2325_11eb_872d_0c7a1588ea5erow3_col0\" class=\"data row3 col0\" >530</td>\n",
       "                        <td id=\"T_92a7d517_2325_11eb_872d_0c7a1588ea5erow3_col1\" class=\"data row3 col1\" >2026.226415</td>\n",
       "                        <td id=\"T_92a7d517_2325_11eb_872d_0c7a1588ea5erow3_col2\" class=\"data row3 col2\" >0</td>\n",
       "                        <td id=\"T_92a7d517_2325_11eb_872d_0c7a1588ea5erow3_col3\" class=\"data row3 col3\" >99999</td>\n",
       "            </tr>\n",
       "            <tr>\n",
       "                        <th id=\"T_92a7d517_2325_11eb_872d_0c7a1588ea5elevel0_row4\" class=\"row_heading level0 row4\" rowspan=2>Black</th>\n",
       "                        <th id=\"T_92a7d517_2325_11eb_872d_0c7a1588ea5elevel1_row4\" class=\"row_heading level1 row4\" >Female</th>\n",
       "                        <td id=\"T_92a7d517_2325_11eb_872d_0c7a1588ea5erow4_col0\" class=\"data row4 col0\" >1219</td>\n",
       "                        <td id=\"T_92a7d517_2325_11eb_872d_0c7a1588ea5erow4_col1\" class=\"data row4 col1\" >487.988515</td>\n",
       "                        <td id=\"T_92a7d517_2325_11eb_872d_0c7a1588ea5erow4_col2\" class=\"data row4 col2\" >0</td>\n",
       "                        <td id=\"T_92a7d517_2325_11eb_872d_0c7a1588ea5erow4_col3\" class=\"data row4 col3\" >99999</td>\n",
       "            </tr>\n",
       "            <tr>\n",
       "                                <th id=\"T_92a7d517_2325_11eb_872d_0c7a1588ea5elevel1_row5\" class=\"row_heading level1 row5\" >Male</th>\n",
       "                        <td id=\"T_92a7d517_2325_11eb_872d_0c7a1588ea5erow5_col0\" class=\"data row5 col0\" >1257</td>\n",
       "                        <td id=\"T_92a7d517_2325_11eb_872d_0c7a1588ea5erow5_col1\" class=\"data row5 col1\" >579.319809</td>\n",
       "                        <td id=\"T_92a7d517_2325_11eb_872d_0c7a1588ea5erow5_col2\" class=\"data row5 col2\" >0</td>\n",
       "                        <td id=\"T_92a7d517_2325_11eb_872d_0c7a1588ea5erow5_col3\" class=\"data row5 col3\" >99999</td>\n",
       "            </tr>\n",
       "            <tr>\n",
       "                        <th id=\"T_92a7d517_2325_11eb_872d_0c7a1588ea5elevel0_row6\" class=\"row_heading level0 row6\" rowspan=2>Other</th>\n",
       "                        <th id=\"T_92a7d517_2325_11eb_872d_0c7a1588ea5elevel1_row6\" class=\"row_heading level1 row6\" >Female</th>\n",
       "                        <td id=\"T_92a7d517_2325_11eb_872d_0c7a1588ea5erow6_col0\" class=\"data row6 col0\" >85</td>\n",
       "                        <td id=\"T_92a7d517_2325_11eb_872d_0c7a1588ea5erow6_col1\" class=\"data row6 col1\" >236.129412</td>\n",
       "                        <td id=\"T_92a7d517_2325_11eb_872d_0c7a1588ea5erow6_col2\" class=\"data row6 col2\" >0</td>\n",
       "                        <td id=\"T_92a7d517_2325_11eb_872d_0c7a1588ea5erow6_col3\" class=\"data row6 col3\" >7688</td>\n",
       "            </tr>\n",
       "            <tr>\n",
       "                                <th id=\"T_92a7d517_2325_11eb_872d_0c7a1588ea5elevel1_row7\" class=\"row_heading level1 row7\" >Male</th>\n",
       "                        <td id=\"T_92a7d517_2325_11eb_872d_0c7a1588ea5erow7_col0\" class=\"data row7 col0\" >119</td>\n",
       "                        <td id=\"T_92a7d517_2325_11eb_872d_0c7a1588ea5erow7_col1\" class=\"data row7 col1\" >1799.764706</td>\n",
       "                        <td id=\"T_92a7d517_2325_11eb_872d_0c7a1588ea5erow7_col2\" class=\"data row7 col2\" >0</td>\n",
       "                        <td id=\"T_92a7d517_2325_11eb_872d_0c7a1588ea5erow7_col3\" class=\"data row7 col3\" >99999</td>\n",
       "            </tr>\n",
       "            <tr>\n",
       "                        <th id=\"T_92a7d517_2325_11eb_872d_0c7a1588ea5elevel0_row8\" class=\"row_heading level0 row8\" rowspan=2>White</th>\n",
       "                        <th id=\"T_92a7d517_2325_11eb_872d_0c7a1588ea5elevel1_row8\" class=\"row_heading level1 row8\" >Female</th>\n",
       "                        <td id=\"T_92a7d517_2325_11eb_872d_0c7a1588ea5erow8_col0\" class=\"data row8 col0\" >6905</td>\n",
       "                        <td id=\"T_92a7d517_2325_11eb_872d_0c7a1588ea5erow8_col1\" class=\"data row8 col1\" >580.929761</td>\n",
       "                        <td id=\"T_92a7d517_2325_11eb_872d_0c7a1588ea5erow8_col2\" class=\"data row8 col2\" >0</td>\n",
       "                        <td id=\"T_92a7d517_2325_11eb_872d_0c7a1588ea5erow8_col3\" class=\"data row8 col3\" >99999</td>\n",
       "            </tr>\n",
       "            <tr>\n",
       "                                <th id=\"T_92a7d517_2325_11eb_872d_0c7a1588ea5elevel1_row9\" class=\"row_heading level1 row9\" >Male</th>\n",
       "                        <td id=\"T_92a7d517_2325_11eb_872d_0c7a1588ea5erow9_col0\" class=\"data row9 col0\" >15410</td>\n",
       "                        <td id=\"T_92a7d517_2325_11eb_872d_0c7a1588ea5erow9_col1\" class=\"data row9 col1\" >1386.644906</td>\n",
       "                        <td id=\"T_92a7d517_2325_11eb_872d_0c7a1588ea5erow9_col2\" class=\"data row9 col2\" >0</td>\n",
       "                        <td id=\"T_92a7d517_2325_11eb_872d_0c7a1588ea5erow9_col3\" class=\"data row9 col3\" >99999</td>\n",
       "            </tr>\n",
       "    </tbody></table>"
      ],
      "text/plain": [
       "<pandas.io.formats.style.Styler at 0x12089c686d0>"
      ]
     },
     "execution_count": 21,
     "metadata": {},
     "output_type": "execute_result"
    }
   ],
   "source": [
    "train.groupby(by = ['race', 'sex'])[['capital_gain','income']].agg(['count','mean','min','max']).style.background_gradient(cmap = 'Purples')"
   ]
  },
  {
   "cell_type": "code",
   "execution_count": 22,
   "metadata": {
    "ExecuteTime": {
     "end_time": "2020-11-10T07:23:04.655318Z",
     "start_time": "2020-11-10T07:23:04.626277Z"
    }
   },
   "outputs": [
    {
     "name": "stdout",
     "output_type": "stream",
     "text": [
      "<class 'pandas.core.frame.DataFrame'>\n",
      "RangeIndex: 26049 entries, 0 to 26048\n",
      "Data columns (total 16 columns):\n",
      " #   Column          Non-Null Count  Dtype \n",
      "---  ------          --------------  ----- \n",
      " 0   id              26049 non-null  int64 \n",
      " 1   age             26049 non-null  int64 \n",
      " 2   workclass       26049 non-null  object\n",
      " 3   fnlwgt          26049 non-null  int64 \n",
      " 4   education       26049 non-null  object\n",
      " 5   education_num   26049 non-null  int64 \n",
      " 6   marital_status  26049 non-null  object\n",
      " 7   occupation      26049 non-null  object\n",
      " 8   relationship    26049 non-null  object\n",
      " 9   race            26049 non-null  object\n",
      " 10  sex             26049 non-null  object\n",
      " 11  capital_gain    26049 non-null  int64 \n",
      " 12  capital_loss    26049 non-null  int64 \n",
      " 13  hours_per_week  26049 non-null  int64 \n",
      " 14  native_country  26049 non-null  object\n",
      " 15  income          26049 non-null  object\n",
      "dtypes: int64(7), object(9)\n",
      "memory usage: 3.2+ MB\n"
     ]
    }
   ],
   "source": [
    "train.info()"
   ]
  },
  {
   "cell_type": "raw",
   "metadata": {},
   "source": []
  },
  {
   "cell_type": "code",
   "execution_count": 23,
   "metadata": {
    "ExecuteTime": {
     "end_time": "2020-11-10T07:23:04.671310Z",
     "start_time": "2020-11-10T07:23:04.657277Z"
    }
   },
   "outputs": [],
   "source": [
    "# train['income'] = (train['income'] == '>50k').astype(int)"
   ]
  },
  {
   "cell_type": "markdown",
   "metadata": {},
   "source": [
    "### 추가 변수 만들 것:\n",
    " 1. hours_per_week 범주화 (bin: 5)\n",
    " 2. native_country 범주화\n",
    "     US를 제외하고, income 이 1인 비율이 0 / 30 / 40 / 인 국가들\n",
    "     bin1 = ['US', 'Canada']\n",
    "     bin2 = ['Mexico']\n",
    "     bin3 = ['?']\n",
    "     bin4 = ['Germany', 'Poland', 'England', 'France', 'Ireland',  ]\n",
    "     bin5 = ['Philippines']\n",
    "    \n",
    " 3. 가정: 같은 주인가? 서로 다른 주인가?\n",
    " \n",
    " 4. capital gain 이 중요할 수 있따.\n",
    " "
   ]
  },
  {
   "cell_type": "markdown",
   "metadata": {},
   "source": [
    "### finding\n",
    "never workd & non pay 는 0으로 고정해도 됨\n",
    "\n",
    "married spouse absent: 300:27 = 1:0 결혼했는데 배우자 확인 안되는 사람\n",
    "\n",
    "armed force; all 0?\n",
    "\n",
    "백인이 아닌 사람 끼리 보면 1이 더 많다.\n",
    "\n",
    "직업이나 교육을 0/1로 나눠도 , 인종으로 나눠도, 비슷하다. 결론은 변수를 섞어야한다.\n",
    "\n",
    "occu num 이 있기 때문에 c=occu는 빼도된다. 실제로 점수 변화 업슴\n",
    "\n",
    "lda, pca, lasso, 쓸 수 있는거 다 , \n",
    "\n",
    "전처리는 논문 레퍼런스하면 방어 가능\n",
    "뭐의 특징, 장점, 알고리즘, 이점, 기법, 깊은 원리, 변수 선택 전략 : 회귀는 라쏘 피처임포턴스 , 분류도 어떻게 변수를 정하는지.\n",
    "알고리즘/이론을 알고 쓰냐 안쓰냐 차이. 코드 자체는 안봄. 알고 갖다썻냐 아니냐."
   ]
  },
  {
   "cell_type": "markdown",
   "metadata": {},
   "source": [
    "## 시각화\n",
    " - 범주형 : bar\n",
    " - 수치형\n",
    "    - 이산형 : bar\n",
    "    - 연속형 : kdeplot, histogram\n",
    " - 범주형 + 수치형 : boxplot, violinplot, etc\n",
    " - 수치형 + 수치형 : scatter"
   ]
  },
  {
   "cell_type": "code",
   "execution_count": 24,
   "metadata": {
    "ExecuteTime": {
     "end_time": "2020-11-10T07:23:05.111050Z",
     "start_time": "2020-11-10T07:23:04.672276Z"
    }
   },
   "outputs": [
    {
     "data": {
      "text/plain": [
       "<matplotlib.axes._subplots.AxesSubplot at 0x1208b534850>"
      ]
     },
     "execution_count": 24,
     "metadata": {},
     "output_type": "execute_result"
    },
    {
     "data": {
      "image/png": "[encoded data removed]",
      "text/plain": [
       "<Figure size 1800x720 with 2 Axes>"
      ]
     },
     "metadata": {
      "needs_background": "light"
     },
     "output_type": "display_data"
    }
   ],
   "source": [
    "import missingno as msno\n",
    "msno.matrix(train)"
   ]
  },
  {
   "cell_type": "code",
   "execution_count": null,
   "metadata": {},
   "outputs": [],
   "source": []
  },
  {
   "cell_type": "markdown",
   "metadata": {},
   "source": [
    "### Husband나 Wife가 아닌경우엔 대다수가 0이다."
   ]
  },
  {
   "cell_type": "code",
   "execution_count": 25,
   "metadata": {
    "ExecuteTime": {
     "end_time": "2020-11-10T07:23:05.303634Z",
     "start_time": "2020-11-10T07:23:05.112006Z"
    }
   },
   "outputs": [
    {
     "data": {
      "image/png": "[encoded data removed]",
      "text/plain": [
       "<Figure size 720x360 with 1 Axes>"
      ]
     },
     "metadata": {},
     "output_type": "display_data"
    }
   ],
   "source": [
    "sns.set(rc={'figure.figsize':(10,5)})\n",
    "# sns.set_style(\"white\")\n",
    "sns.countplot(x=\"relationship\",hue=\"income\", data=train, palette=\"Set2\")\n",
    "sns.despine()\n",
    "# sns.countplot(x=\"relationship\",hue=\"income\", data=test, palette=\"Set2\")"
   ]
  },
  {
   "cell_type": "code",
   "execution_count": null,
   "metadata": {},
   "outputs": [],
   "source": []
  },
  {
   "cell_type": "markdown",
   "metadata": {
    "ExecuteTime": {
     "end_time": "2020-11-02T11:03:59.342092Z",
     "start_time": "2020-11-02T11:03:59.338052Z"
    }
   },
   "source": [
    "### Capital Gain이 5000이상은 1 비율이 많다"
   ]
  },
  {
   "cell_type": "code",
   "execution_count": 26,
   "metadata": {
    "ExecuteTime": {
     "end_time": "2020-11-10T07:23:05.489813Z",
     "start_time": "2020-11-10T07:23:05.304607Z"
    }
   },
   "outputs": [
    {
     "data": {
      "image/png": "[encoded data removed]",
      "text/plain": [
       "<Figure size 720x360 with 1 Axes>"
      ]
     },
     "metadata": {},
     "output_type": "display_data"
    }
   ],
   "source": [
    "tmp = train.copy()\n",
    "tmp['cap_gain_bins'] = pd.cut(tmp['capital_gain'], [0,3000,4000, 5000, 6000, 7000, 8000, 9000, 100000],\n",
    "                                labels = [0,1,2,3,4,5,6,7]\n",
    "                               )\n",
    "sns.set(rc={'figure.figsize':(10,5)})\n",
    "sns.set_style(\"white\")\n",
    "sns.countplot(x=\"cap_gain_bins\",hue=\"income\", data=tmp, palette=\"Set2\")\n",
    "sns.despine()"
   ]
  },
  {
   "cell_type": "code",
   "execution_count": 27,
   "metadata": {
    "ExecuteTime": {
     "end_time": "2020-11-10T07:23:05.638821Z",
     "start_time": "2020-11-10T07:23:05.491123Z"
    }
   },
   "outputs": [
    {
     "data": {
      "image/png": "[encoded data removed]",
      "text/plain": [
       "<Figure size 720x360 with 1 Axes>"
      ]
     },
     "metadata": {},
     "output_type": "display_data"
    }
   ],
   "source": [
    "tmp = train.copy()\n",
    "tmp['cap_gain_bins'] = pd.cut(tmp['capital_gain'], [0,3000,4000, 5000, 6000, 7000, 8000, 9000, 100000],\n",
    "                                labels = [0,1,2,3,4,5,6,7]\n",
    "                               )\n",
    "sns.set(rc={'figure.figsize':(10,5)})\n",
    "sns.set_style(\"white\")\n",
    "sns.countplot(x=\"cap_gain_bins\", data=tmp, palette=\"Set2\")\n",
    "sns.despine()"
   ]
  },
  {
   "cell_type": "code",
   "execution_count": 28,
   "metadata": {
    "ExecuteTime": {
     "end_time": "2020-11-10T07:23:05.833033Z",
     "start_time": "2020-11-10T07:23:05.639790Z"
    }
   },
   "outputs": [
    {
     "data": {
      "image/png": "[encoded data removed]",
      "text/plain": [
       "<Figure size 720x360 with 1 Axes>"
      ]
     },
     "metadata": {},
     "output_type": "display_data"
    }
   ],
   "source": [
    "tmp2 = test.copy()\n",
    "tmp2['cap_gain_bins'] = pd.cut(tmp2['capital_gain'], [0,3000,4000, 5000, 6000, 7000, 8000, 9000, 100000],\n",
    "                                labels = [0,1,2,3,4,5,6,7]\n",
    "                               )\n",
    "sns.set(rc={'figure.figsize':(10,5)})\n",
    "sns.set_style(\"white\")\n",
    "sns.countplot(x=\"cap_gain_bins\", data=tmp2, palette=\"Set2\")\n",
    "sns.despine()"
   ]
  },
  {
   "cell_type": "code",
   "execution_count": 29,
   "metadata": {
    "ExecuteTime": {
     "end_time": "2020-11-10T07:23:06.053155Z",
     "start_time": "2020-11-10T07:23:05.834033Z"
    }
   },
   "outputs": [
    {
     "data": {
      "text/plain": [
       "Text(0.5, 1.0, 'age dist')"
      ]
     },
     "execution_count": 29,
     "metadata": {},
     "output_type": "execute_result"
    },
    {
     "data": {
      "image/png": "[encoded data removed]",
      "text/plain": [
       "<Figure size 864x360 with 1 Axes>"
      ]
     },
     "metadata": {},
     "output_type": "display_data"
    }
   ],
   "source": [
    "fig, ax = plt.subplots(1,1, figsize = (12,5))\n",
    "ax.hist(train['age'], width =3, edgecolor = 'red')\n",
    "ax.set_title('age dist', fontweight = 'bold')"
   ]
  },
  {
   "cell_type": "code",
   "execution_count": 30,
   "metadata": {
    "ExecuteTime": {
     "end_time": "2020-11-10T07:23:06.069053Z",
     "start_time": "2020-11-10T07:23:06.054028Z"
    }
   },
   "outputs": [],
   "source": [
    "# sns.distplot()"
   ]
  },
  {
   "cell_type": "code",
   "execution_count": 31,
   "metadata": {
    "ExecuteTime": {
     "end_time": "2020-11-10T07:23:06.258052Z",
     "start_time": "2020-11-10T07:23:06.070053Z"
    }
   },
   "outputs": [
    {
     "data": {
      "text/plain": [
       "<matplotlib.axes._subplots.AxesSubplot at 0x1208a582700>"
      ]
     },
     "execution_count": 31,
     "metadata": {},
     "output_type": "execute_result"
    },
    {
     "data": {
      "image/png": "[encoded data removed]",
      "text/plain": [
       "<Figure size 720x360 with 1 Axes>"
      ]
     },
     "metadata": {},
     "output_type": "display_data"
    }
   ],
   "source": [
    "sns.kdeplot(data=train['age'])"
   ]
  },
  {
   "cell_type": "code",
   "execution_count": null,
   "metadata": {},
   "outputs": [],
   "source": []
  },
  {
   "cell_type": "code",
   "execution_count": 32,
   "metadata": {
    "ExecuteTime": {
     "end_time": "2020-11-10T07:23:08.570699Z",
     "start_time": "2020-11-10T07:23:06.259066Z"
    }
   },
   "outputs": [
    {
     "data": {
      "image/png": "[encoded data removed]",
      "text/plain": [
       "<Figure size 864x432 with 1 Axes>"
      ]
     },
     "metadata": {},
     "output_type": "display_data"
    }
   ],
   "source": [
    "fig, ax = plt.subplots(1,1, figsize = (12,6))\n",
    "sns.countplot(x='capital_gain', data = train)\n",
    "plt.show()"
   ]
  },
  {
   "cell_type": "code",
   "execution_count": 33,
   "metadata": {
    "ExecuteTime": {
     "end_time": "2020-11-10T07:23:08.711405Z",
     "start_time": "2020-11-10T07:23:08.572698Z"
    }
   },
   "outputs": [
    {
     "data": {
      "image/png": "[encoded data removed]",
      "text/plain": [
       "<Figure size 576x432 with 1 Axes>"
      ]
     },
     "metadata": {},
     "output_type": "display_data"
    }
   ],
   "source": [
    "plt.style.use('seaborn')\n",
    "\n",
    "fig, ax = plt.subplots(1, 1, figsize=(8, 6))\n",
    "sns.countplot(x='sex', data = train, hue = 'income')\n",
    "plt.show()"
   ]
  },
  {
   "cell_type": "code",
   "execution_count": 34,
   "metadata": {
    "ExecuteTime": {
     "end_time": "2020-11-10T07:23:08.939209Z",
     "start_time": "2020-11-10T07:23:08.712363Z"
    }
   },
   "outputs": [
    {
     "data": {
      "image/png": "[encoded data removed]",
      "text/plain": [
       "<Figure size 936x504 with 2 Axes>"
      ]
     },
     "metadata": {},
     "output_type": "display_data"
    }
   ],
   "source": [
    "fig, axes = plt.subplots(1, 2, figsize=(13, 7), sharey=True)\n",
    "\n",
    "sns.countplot(x='sex', data= train, ax=axes[0], palette=\"Set2\", edgecolor='black') \n",
    "sns.countplot(x='income', data=train, ax=axes[1], color='gray', edgecolor='black') \n",
    "\n",
    "# Margin & Label 조정\n",
    "for ax in axes : \n",
    "    ax.margins(0.12, 0.15)\n",
    "    ax.xaxis.label.set_size(12)\n",
    "    ax.xaxis.label.set_weight('bold')\n",
    "\n",
    "    \n",
    "# figure title    \n",
    "plt.suptitle('Categorical Distribution', \n",
    "             fontsize=17, \n",
    "             fontweight='bold',\n",
    "             x=0.05, y=1.06,\n",
    "             ha='left' # horizontal alignment\n",
    "            ) \n",
    "\n",
    "plt.tight_layout()\n",
    "plt.show()"
   ]
  },
  {
   "cell_type": "code",
   "execution_count": 35,
   "metadata": {
    "ExecuteTime": {
     "end_time": "2020-11-10T07:23:08.971371Z",
     "start_time": "2020-11-10T07:23:08.940180Z"
    }
   },
   "outputs": [
    {
     "data": {
      "text/html": [
       "<div>\n",
       "<style scoped>\n",
       "    .dataframe tbody tr th:only-of-type {\n",
       "        vertical-align: middle;\n",
       "    }\n",
       "\n",
       "    .dataframe tbody tr th {\n",
       "        vertical-align: top;\n",
       "    }\n",
       "\n",
       "    .dataframe thead th {\n",
       "        text-align: right;\n",
       "    }\n",
       "</style>\n",
       "<table border=\"1\" class=\"dataframe\">\n",
       "  <thead>\n",
       "    <tr style=\"text-align: right;\">\n",
       "      <th></th>\n",
       "      <th>id</th>\n",
       "      <th>age</th>\n",
       "      <th>workclass</th>\n",
       "      <th>fnlwgt</th>\n",
       "      <th>education</th>\n",
       "      <th>education_num</th>\n",
       "      <th>marital_status</th>\n",
       "      <th>occupation</th>\n",
       "      <th>relationship</th>\n",
       "      <th>race</th>\n",
       "      <th>sex</th>\n",
       "      <th>capital_gain</th>\n",
       "      <th>capital_loss</th>\n",
       "      <th>hours_per_week</th>\n",
       "      <th>native_country</th>\n",
       "      <th>income</th>\n",
       "    </tr>\n",
       "  </thead>\n",
       "  <tbody>\n",
       "    <tr>\n",
       "      <th>0</th>\n",
       "      <td>0</td>\n",
       "      <td>40</td>\n",
       "      <td>Private</td>\n",
       "      <td>168538</td>\n",
       "      <td>HS-grad</td>\n",
       "      <td>9</td>\n",
       "      <td>Married-civ-spouse</td>\n",
       "      <td>Sales</td>\n",
       "      <td>Husband</td>\n",
       "      <td>White</td>\n",
       "      <td>Male</td>\n",
       "      <td>0</td>\n",
       "      <td>0</td>\n",
       "      <td>60</td>\n",
       "      <td>United-States</td>\n",
       "      <td>&gt;50K</td>\n",
       "    </tr>\n",
       "    <tr>\n",
       "      <th>1</th>\n",
       "      <td>1</td>\n",
       "      <td>17</td>\n",
       "      <td>Private</td>\n",
       "      <td>101626</td>\n",
       "      <td>9th</td>\n",
       "      <td>5</td>\n",
       "      <td>Never-married</td>\n",
       "      <td>Machine-op-inspct</td>\n",
       "      <td>Own-child</td>\n",
       "      <td>White</td>\n",
       "      <td>Male</td>\n",
       "      <td>0</td>\n",
       "      <td>0</td>\n",
       "      <td>20</td>\n",
       "      <td>United-States</td>\n",
       "      <td>&lt;=50K</td>\n",
       "    </tr>\n",
       "    <tr>\n",
       "      <th>2</th>\n",
       "      <td>2</td>\n",
       "      <td>18</td>\n",
       "      <td>Private</td>\n",
       "      <td>353358</td>\n",
       "      <td>Some-college</td>\n",
       "      <td>10</td>\n",
       "      <td>Never-married</td>\n",
       "      <td>Other-service</td>\n",
       "      <td>Own-child</td>\n",
       "      <td>White</td>\n",
       "      <td>Male</td>\n",
       "      <td>0</td>\n",
       "      <td>0</td>\n",
       "      <td>16</td>\n",
       "      <td>United-States</td>\n",
       "      <td>&lt;=50K</td>\n",
       "    </tr>\n",
       "    <tr>\n",
       "      <th>3</th>\n",
       "      <td>3</td>\n",
       "      <td>21</td>\n",
       "      <td>Private</td>\n",
       "      <td>151158</td>\n",
       "      <td>Some-college</td>\n",
       "      <td>10</td>\n",
       "      <td>Never-married</td>\n",
       "      <td>Prof-specialty</td>\n",
       "      <td>Own-child</td>\n",
       "      <td>White</td>\n",
       "      <td>Female</td>\n",
       "      <td>0</td>\n",
       "      <td>0</td>\n",
       "      <td>25</td>\n",
       "      <td>United-States</td>\n",
       "      <td>&lt;=50K</td>\n",
       "    </tr>\n",
       "    <tr>\n",
       "      <th>4</th>\n",
       "      <td>4</td>\n",
       "      <td>24</td>\n",
       "      <td>Private</td>\n",
       "      <td>122234</td>\n",
       "      <td>Some-college</td>\n",
       "      <td>10</td>\n",
       "      <td>Never-married</td>\n",
       "      <td>Adm-clerical</td>\n",
       "      <td>Not-in-family</td>\n",
       "      <td>Black</td>\n",
       "      <td>Female</td>\n",
       "      <td>0</td>\n",
       "      <td>0</td>\n",
       "      <td>20</td>\n",
       "      <td>?</td>\n",
       "      <td>&lt;=50K</td>\n",
       "    </tr>\n",
       "    <tr>\n",
       "      <th>...</th>\n",
       "      <td>...</td>\n",
       "      <td>...</td>\n",
       "      <td>...</td>\n",
       "      <td>...</td>\n",
       "      <td>...</td>\n",
       "      <td>...</td>\n",
       "      <td>...</td>\n",
       "      <td>...</td>\n",
       "      <td>...</td>\n",
       "      <td>...</td>\n",
       "      <td>...</td>\n",
       "      <td>...</td>\n",
       "      <td>...</td>\n",
       "      <td>...</td>\n",
       "      <td>...</td>\n",
       "      <td>...</td>\n",
       "    </tr>\n",
       "    <tr>\n",
       "      <th>26044</th>\n",
       "      <td>26044</td>\n",
       "      <td>57</td>\n",
       "      <td>Private</td>\n",
       "      <td>250201</td>\n",
       "      <td>11th</td>\n",
       "      <td>7</td>\n",
       "      <td>Married-civ-spouse</td>\n",
       "      <td>Other-service</td>\n",
       "      <td>Husband</td>\n",
       "      <td>White</td>\n",
       "      <td>Male</td>\n",
       "      <td>0</td>\n",
       "      <td>0</td>\n",
       "      <td>52</td>\n",
       "      <td>United-States</td>\n",
       "      <td>&lt;=50K</td>\n",
       "    </tr>\n",
       "    <tr>\n",
       "      <th>26045</th>\n",
       "      <td>26045</td>\n",
       "      <td>23</td>\n",
       "      <td>Private</td>\n",
       "      <td>238092</td>\n",
       "      <td>Bachelors</td>\n",
       "      <td>13</td>\n",
       "      <td>Never-married</td>\n",
       "      <td>Prof-specialty</td>\n",
       "      <td>Own-child</td>\n",
       "      <td>White</td>\n",
       "      <td>Male</td>\n",
       "      <td>0</td>\n",
       "      <td>0</td>\n",
       "      <td>40</td>\n",
       "      <td>United-States</td>\n",
       "      <td>&lt;=50K</td>\n",
       "    </tr>\n",
       "    <tr>\n",
       "      <th>26046</th>\n",
       "      <td>26046</td>\n",
       "      <td>78</td>\n",
       "      <td>?</td>\n",
       "      <td>165694</td>\n",
       "      <td>Masters</td>\n",
       "      <td>14</td>\n",
       "      <td>Widowed</td>\n",
       "      <td>?</td>\n",
       "      <td>Not-in-family</td>\n",
       "      <td>White</td>\n",
       "      <td>Female</td>\n",
       "      <td>0</td>\n",
       "      <td>0</td>\n",
       "      <td>15</td>\n",
       "      <td>United-States</td>\n",
       "      <td>&lt;=50K</td>\n",
       "    </tr>\n",
       "    <tr>\n",
       "      <th>26047</th>\n",
       "      <td>26047</td>\n",
       "      <td>26</td>\n",
       "      <td>Self-emp-not-inc</td>\n",
       "      <td>151626</td>\n",
       "      <td>HS-grad</td>\n",
       "      <td>9</td>\n",
       "      <td>Never-married</td>\n",
       "      <td>Prof-specialty</td>\n",
       "      <td>Own-child</td>\n",
       "      <td>Black</td>\n",
       "      <td>Female</td>\n",
       "      <td>0</td>\n",
       "      <td>0</td>\n",
       "      <td>40</td>\n",
       "      <td>United-States</td>\n",
       "      <td>&lt;=50K</td>\n",
       "    </tr>\n",
       "    <tr>\n",
       "      <th>26048</th>\n",
       "      <td>26048</td>\n",
       "      <td>20</td>\n",
       "      <td>?</td>\n",
       "      <td>99891</td>\n",
       "      <td>Some-college</td>\n",
       "      <td>10</td>\n",
       "      <td>Never-married</td>\n",
       "      <td>?</td>\n",
       "      <td>Own-child</td>\n",
       "      <td>White</td>\n",
       "      <td>Female</td>\n",
       "      <td>0</td>\n",
       "      <td>0</td>\n",
       "      <td>30</td>\n",
       "      <td>United-States</td>\n",
       "      <td>&lt;=50K</td>\n",
       "    </tr>\n",
       "  </tbody>\n",
       "</table>\n",
       "<p>26049 rows × 16 columns</p>\n",
       "</div>"
      ],
      "text/plain": [
       "          id  age         workclass  fnlwgt     education  education_num  \\\n",
       "0          0   40           Private  168538       HS-grad              9   \n",
       "1          1   17           Private  101626           9th              5   \n",
       "2          2   18           Private  353358  Some-college             10   \n",
       "3          3   21           Private  151158  Some-college             10   \n",
       "4          4   24           Private  122234  Some-college             10   \n",
       "...      ...  ...               ...     ...           ...            ...   \n",
       "26044  26044   57           Private  250201          11th              7   \n",
       "26045  26045   23           Private  238092     Bachelors             13   \n",
       "26046  26046   78                 ?  165694       Masters             14   \n",
       "26047  26047   26  Self-emp-not-inc  151626       HS-grad              9   \n",
       "26048  26048   20                 ?   99891  Some-college             10   \n",
       "\n",
       "           marital_status         occupation   relationship   race     sex  \\\n",
       "0      Married-civ-spouse              Sales        Husband  White    Male   \n",
       "1           Never-married  Machine-op-inspct      Own-child  White    Male   \n",
       "2           Never-married      Other-service      Own-child  White    Male   \n",
       "3           Never-married     Prof-specialty      Own-child  White  Female   \n",
       "4           Never-married       Adm-clerical  Not-in-family  Black  Female   \n",
       "...                   ...                ...            ...    ...     ...   \n",
       "26044  Married-civ-spouse      Other-service        Husband  White    Male   \n",
       "26045       Never-married     Prof-specialty      Own-child  White    Male   \n",
       "26046             Widowed                  ?  Not-in-family  White  Female   \n",
       "26047       Never-married     Prof-specialty      Own-child  Black  Female   \n",
       "26048       Never-married                  ?      Own-child  White  Female   \n",
       "\n",
       "       capital_gain  capital_loss  hours_per_week native_country income  \n",
       "0                 0             0              60  United-States   >50K  \n",
       "1                 0             0              20  United-States  <=50K  \n",
       "2                 0             0              16  United-States  <=50K  \n",
       "3                 0             0              25  United-States  <=50K  \n",
       "4                 0             0              20              ?  <=50K  \n",
       "...             ...           ...             ...            ...    ...  \n",
       "26044             0             0              52  United-States  <=50K  \n",
       "26045             0             0              40  United-States  <=50K  \n",
       "26046             0             0              15  United-States  <=50K  \n",
       "26047             0             0              40  United-States  <=50K  \n",
       "26048             0             0              30  United-States  <=50K  \n",
       "\n",
       "[26049 rows x 16 columns]"
      ]
     },
     "execution_count": 35,
     "metadata": {},
     "output_type": "execute_result"
    }
   ],
   "source": [
    "train"
   ]
  },
  {
   "cell_type": "markdown",
   "metadata": {},
   "source": [
    "train.corr().style ~~ 어쩌꼬 써도 됨"
   ]
  },
  {
   "cell_type": "markdown",
   "metadata": {
    "ExecuteTime": {
     "end_time": "2020-11-03T05:47:57.912888Z",
     "start_time": "2020-11-03T05:47:57.901857Z"
    }
   },
   "source": [
    "### Corr"
   ]
  },
  {
   "cell_type": "code",
   "execution_count": 36,
   "metadata": {
    "ExecuteTime": {
     "end_time": "2020-11-10T07:23:09.301448Z",
     "start_time": "2020-11-10T07:23:08.972328Z"
    }
   },
   "outputs": [
    {
     "data": {
      "text/plain": [
       "<matplotlib.axes._subplots.AxesSubplot at 0x1208a7ec940>"
      ]
     },
     "execution_count": 36,
     "metadata": {},
     "output_type": "execute_result"
    },
    {
     "data": {
      "image/png": "[encoded data removed]",
      "text/plain": [
       "<Figure size 1080x864 with 2 Axes>"
      ]
     },
     "metadata": {},
     "output_type": "display_data"
    }
   ],
   "source": [
    "plt.rcParams['figure.figsize'] = [15,12]\n",
    "sns.heatmap(train.corr(), annot = True, square = True, linewidth = 0.2, cmap = 'coolwarm', vmax = 1.0, vmin = -1.0)"
   ]
  },
  {
   "cell_type": "code",
   "execution_count": 37,
   "metadata": {
    "ExecuteTime": {
     "end_time": "2020-11-10T07:23:09.932054Z",
     "start_time": "2020-11-10T07:23:09.303331Z"
    },
    "scrolled": false
   },
   "outputs": [
    {
     "data": {
      "image/png": "[encoded data removed]",
      "text/plain": [
       "<Figure size 1080x1080 with 4 Axes>"
      ]
     },
     "metadata": {},
     "output_type": "display_data"
    }
   ],
   "source": [
    "ax = sns.clustermap(train.corr(), annot=True, linewidths=.6, fmt= '.2f', figsize=(15, 15))\n",
    "plt.show()"
   ]
  },
  {
   "cell_type": "markdown",
   "metadata": {
    "ExecuteTime": {
     "end_time": "2020-11-03T05:47:38.484949Z",
     "start_time": "2020-11-03T05:47:38.472413Z"
    }
   },
   "source": [
    "### Workclass "
   ]
  },
  {
   "cell_type": "code",
   "execution_count": 38,
   "metadata": {
    "ExecuteTime": {
     "end_time": "2020-11-10T07:23:10.107030Z",
     "start_time": "2020-11-10T07:23:09.933879Z"
    }
   },
   "outputs": [
    {
     "data": {
      "image/png": "[encoded data removed]",
      "text/plain": [
       "<Figure size 1080x504 with 1 Axes>"
      ]
     },
     "metadata": {},
     "output_type": "display_data"
    }
   ],
   "source": [
    "fig, ax = plt.subplots(1, 1, figsize=(15, 7))\n",
    "col = 'workclass'\n",
    "value_counts = train[col].value_counts()\n",
    "sns.countplot(x=col, data=train, palette=\"Set2\", edgecolor='black', order = value_counts.index)\n",
    "\n",
    "# bar 상단에 count 숫자로 입력\n",
    "for i, v in value_counts.reset_index().iterrows():\n",
    "    ax.text(i-0.1, v[col]+150 , v[col])"
   ]
  },
  {
   "cell_type": "code",
   "execution_count": 39,
   "metadata": {
    "ExecuteTime": {
     "end_time": "2020-11-10T07:23:10.313027Z",
     "start_time": "2020-11-10T07:23:10.107994Z"
    }
   },
   "outputs": [
    {
     "data": {
      "image/png": "[encoded data removed]",
      "text/plain": [
       "<Figure size 1080x504 with 1 Axes>"
      ]
     },
     "metadata": {},
     "output_type": "display_data"
    }
   ],
   "source": [
    "fig, ax = plt.subplots(1, 1, figsize=(15, 7))\n",
    "value_counts = train[col].value_counts()\n",
    "sns.countplot(x=col, hue='income', data=train, palette=\"Set2\", edgecolor='black', order = value_counts.index);"
   ]
  },
  {
   "cell_type": "code",
   "execution_count": null,
   "metadata": {},
   "outputs": [],
   "source": []
  },
  {
   "cell_type": "markdown",
   "metadata": {},
   "source": [
    "## 전처리"
   ]
  },
  {
   "cell_type": "code",
   "execution_count": 40,
   "metadata": {
    "ExecuteTime": {
     "end_time": "2020-11-10T07:23:10.329028Z",
     "start_time": "2020-11-10T07:23:10.313987Z"
    }
   },
   "outputs": [],
   "source": [
    "# def get_keys(dd):\n",
    "#     return list(dd.keys())\n",
    "\n",
    "def summarizing_dd(dd):\n",
    "    \n",
    "    print(\"\\n1. Keys\")\n",
    "    print(dd.columns)\n",
    "    print(\"\\n2. Shape\")\n",
    "    print(dd.shape)\n",
    "    print(\"\\n3. Head\")\n",
    "    print(dd.head(5))\n",
    "\n",
    "def plot_histogram(dd):\n",
    "\n",
    "    plt.figure(figsize=(15, 10))\n",
    "    for idx_k, key in enumerate(dd.columns):\n",
    "        plt.subplot(4, 5, idx_k+1)\n",
    "        plt.title(key)\n",
    "        dd[key].hist()\n",
    "        plt.grid()\n",
    "    plt.tight_layout()\n",
    "    plt.show()"
   ]
  },
  {
   "cell_type": "code",
   "execution_count": 41,
   "metadata": {
    "ExecuteTime": {
     "end_time": "2020-11-10T07:23:10.345028Z",
     "start_time": "2020-11-10T07:23:10.330988Z"
    }
   },
   "outputs": [],
   "source": [
    "def quality_report(df):\n",
    "    \"\"\"\n",
    "    Author: Abhijeet Kumar\n",
    "    Description: Displays quality of data in terms of missing values, unique numbers, datatypes etc.\n",
    "    Arguments: Dataframe\n",
    "    \"\"\"\n",
    "    dtypes = df.dtypes\n",
    "    nuniq = df.T.apply(lambda x: x.nunique(), axis=1)\n",
    "    total = df.isnull().sum().sort_values(ascending = False)\n",
    "    percent = (df.isnull().sum()/df.isnull().count()*100).sort_values(ascending = False)\n",
    "    quality_df = pd.concat([total, percent, nuniq, dtypes], axis=1, keys=['Null Total', 'Null Perc','Nunique', 'Dtype'])\n",
    "    display(quality_df)\n",
    "\n",
    "# def score_on_test_set(model, file_name, out_name):\n",
    "\n",
    "#     \"\"\"\n",
    "#     Author: Abhijeet Kumar\n",
    "#     Description : It runs same steps of preprocessing as in training, scores\n",
    "#     on the test data provided in hackathon and generates the submission file.\n",
    "#     Argument : model, test data file, submission file\n",
    "#     \"\"\"\n",
    "\n",
    "#     test_data = pd.read_csv(file_name)\n",
    "\n",
    "#     # Treating the missing values of education as a separate category\n",
    "#     test_data['education'] = test_data['education'].replace(np.NaN, 'NA')\n",
    "\n",
    "#     # Treating the missing values of education as a separate category\n",
    "#     test_data['previous_year_rating'] = test_data['previous_year_rating'].fillna(0)\n",
    "\n",
    "#     # Creating dummy variables for all the categorical columns, droping that column\n",
    "#     master_test_data = convert_categorical_to_dummies(test_data)\n",
    "\n",
    "#     # Removing the id attributes\n",
    "#     df_test_data = master_test_data.drop(['employee_id'],axis=1)\n",
    "#     if out_name == \"submission_lightgbm.csv\":\n",
    "#         y_pred = model.predict_proba(df_test_data.values, num_iteration=model.best_iteration_)\n",
    "#     else:\n",
    "#         y_pred = model.predict_proba(df_test_data.values)\n",
    "#     submission_df = pd.DataFrame({'employee_id':master_test_data['employee_id'],'is_promoted':y_pred[:,1]})\n",
    "#     submission_df.to_csv(out_name, index=False)\n",
    "\n",
    "#     score = model.predict_proba(df_test_data.values)\n",
    "#     return test_data,score"
   ]
  },
  {
   "cell_type": "code",
   "execution_count": 42,
   "metadata": {
    "ExecuteTime": {
     "end_time": "2020-11-10T07:23:10.360366Z",
     "start_time": "2020-11-10T07:23:10.346989Z"
    }
   },
   "outputs": [],
   "source": [
    "train = train_origin.copy()\n",
    "test = test_origin.copy()"
   ]
  },
  {
   "cell_type": "code",
   "execution_count": 43,
   "metadata": {
    "ExecuteTime": {
     "end_time": "2020-11-10T07:23:11.219965Z",
     "start_time": "2020-11-10T07:23:10.361367Z"
    }
   },
   "outputs": [
    {
     "data": {
      "text/html": [
       "<div>\n",
       "<style scoped>\n",
       "    .dataframe tbody tr th:only-of-type {\n",
       "        vertical-align: middle;\n",
       "    }\n",
       "\n",
       "    .dataframe tbody tr th {\n",
       "        vertical-align: top;\n",
       "    }\n",
       "\n",
       "    .dataframe thead th {\n",
       "        text-align: right;\n",
       "    }\n",
       "</style>\n",
       "<table border=\"1\" class=\"dataframe\">\n",
       "  <thead>\n",
       "    <tr style=\"text-align: right;\">\n",
       "      <th></th>\n",
       "      <th>Null Total</th>\n",
       "      <th>Null Perc</th>\n",
       "      <th>Nunique</th>\n",
       "      <th>Dtype</th>\n",
       "    </tr>\n",
       "  </thead>\n",
       "  <tbody>\n",
       "    <tr>\n",
       "      <th>income</th>\n",
       "      <td>0</td>\n",
       "      <td>0.000</td>\n",
       "      <td>2</td>\n",
       "      <td>object</td>\n",
       "    </tr>\n",
       "    <tr>\n",
       "      <th>native_country</th>\n",
       "      <td>0</td>\n",
       "      <td>0.000</td>\n",
       "      <td>41</td>\n",
       "      <td>object</td>\n",
       "    </tr>\n",
       "    <tr>\n",
       "      <th>hours_per_week</th>\n",
       "      <td>0</td>\n",
       "      <td>0.000</td>\n",
       "      <td>93</td>\n",
       "      <td>int64</td>\n",
       "    </tr>\n",
       "    <tr>\n",
       "      <th>capital_loss</th>\n",
       "      <td>0</td>\n",
       "      <td>0.000</td>\n",
       "      <td>90</td>\n",
       "      <td>int64</td>\n",
       "    </tr>\n",
       "    <tr>\n",
       "      <th>capital_gain</th>\n",
       "      <td>0</td>\n",
       "      <td>0.000</td>\n",
       "      <td>119</td>\n",
       "      <td>int64</td>\n",
       "    </tr>\n",
       "    <tr>\n",
       "      <th>sex</th>\n",
       "      <td>0</td>\n",
       "      <td>0.000</td>\n",
       "      <td>2</td>\n",
       "      <td>object</td>\n",
       "    </tr>\n",
       "    <tr>\n",
       "      <th>race</th>\n",
       "      <td>0</td>\n",
       "      <td>0.000</td>\n",
       "      <td>5</td>\n",
       "      <td>object</td>\n",
       "    </tr>\n",
       "    <tr>\n",
       "      <th>relationship</th>\n",
       "      <td>0</td>\n",
       "      <td>0.000</td>\n",
       "      <td>6</td>\n",
       "      <td>object</td>\n",
       "    </tr>\n",
       "    <tr>\n",
       "      <th>occupation</th>\n",
       "      <td>0</td>\n",
       "      <td>0.000</td>\n",
       "      <td>15</td>\n",
       "      <td>object</td>\n",
       "    </tr>\n",
       "    <tr>\n",
       "      <th>marital_status</th>\n",
       "      <td>0</td>\n",
       "      <td>0.000</td>\n",
       "      <td>7</td>\n",
       "      <td>object</td>\n",
       "    </tr>\n",
       "    <tr>\n",
       "      <th>education_num</th>\n",
       "      <td>0</td>\n",
       "      <td>0.000</td>\n",
       "      <td>16</td>\n",
       "      <td>int64</td>\n",
       "    </tr>\n",
       "    <tr>\n",
       "      <th>education</th>\n",
       "      <td>0</td>\n",
       "      <td>0.000</td>\n",
       "      <td>16</td>\n",
       "      <td>object</td>\n",
       "    </tr>\n",
       "    <tr>\n",
       "      <th>fnlwgt</th>\n",
       "      <td>0</td>\n",
       "      <td>0.000</td>\n",
       "      <td>18422</td>\n",
       "      <td>int64</td>\n",
       "    </tr>\n",
       "    <tr>\n",
       "      <th>workclass</th>\n",
       "      <td>0</td>\n",
       "      <td>0.000</td>\n",
       "      <td>9</td>\n",
       "      <td>object</td>\n",
       "    </tr>\n",
       "    <tr>\n",
       "      <th>age</th>\n",
       "      <td>0</td>\n",
       "      <td>0.000</td>\n",
       "      <td>73</td>\n",
       "      <td>int64</td>\n",
       "    </tr>\n",
       "    <tr>\n",
       "      <th>id</th>\n",
       "      <td>0</td>\n",
       "      <td>0.000</td>\n",
       "      <td>26049</td>\n",
       "      <td>int64</td>\n",
       "    </tr>\n",
       "  </tbody>\n",
       "</table>\n",
       "</div>"
      ],
      "text/plain": [
       "                Null Total  Null Perc  Nunique   Dtype\n",
       "income                   0      0.000        2  object\n",
       "native_country           0      0.000       41  object\n",
       "hours_per_week           0      0.000       93   int64\n",
       "capital_loss             0      0.000       90   int64\n",
       "capital_gain             0      0.000      119   int64\n",
       "sex                      0      0.000        2  object\n",
       "race                     0      0.000        5  object\n",
       "relationship             0      0.000        6  object\n",
       "occupation               0      0.000       15  object\n",
       "marital_status           0      0.000        7  object\n",
       "education_num            0      0.000       16   int64\n",
       "education                0      0.000       16  object\n",
       "fnlwgt                   0      0.000    18422   int64\n",
       "workclass                0      0.000        9  object\n",
       "age                      0      0.000       73   int64\n",
       "id                       0      0.000    26049   int64"
      ]
     },
     "metadata": {},
     "output_type": "display_data"
    }
   ],
   "source": [
    "quality_report(train)"
   ]
  },
  {
   "cell_type": "code",
   "execution_count": 44,
   "metadata": {
    "ExecuteTime": {
     "end_time": "2020-11-10T07:23:11.485929Z",
     "start_time": "2020-11-10T07:23:11.220931Z"
    }
   },
   "outputs": [
    {
     "data": {
      "text/html": [
       "<div>\n",
       "<style scoped>\n",
       "    .dataframe tbody tr th:only-of-type {\n",
       "        vertical-align: middle;\n",
       "    }\n",
       "\n",
       "    .dataframe tbody tr th {\n",
       "        vertical-align: top;\n",
       "    }\n",
       "\n",
       "    .dataframe thead th {\n",
       "        text-align: right;\n",
       "    }\n",
       "</style>\n",
       "<table border=\"1\" class=\"dataframe\">\n",
       "  <thead>\n",
       "    <tr style=\"text-align: right;\">\n",
       "      <th></th>\n",
       "      <th>Null Total</th>\n",
       "      <th>Null Perc</th>\n",
       "      <th>Nunique</th>\n",
       "      <th>Dtype</th>\n",
       "    </tr>\n",
       "  </thead>\n",
       "  <tbody>\n",
       "    <tr>\n",
       "      <th>native_country</th>\n",
       "      <td>0</td>\n",
       "      <td>0.000</td>\n",
       "      <td>42</td>\n",
       "      <td>object</td>\n",
       "    </tr>\n",
       "    <tr>\n",
       "      <th>hours_per_week</th>\n",
       "      <td>0</td>\n",
       "      <td>0.000</td>\n",
       "      <td>79</td>\n",
       "      <td>int64</td>\n",
       "    </tr>\n",
       "    <tr>\n",
       "      <th>capital_loss</th>\n",
       "      <td>0</td>\n",
       "      <td>0.000</td>\n",
       "      <td>61</td>\n",
       "      <td>int64</td>\n",
       "    </tr>\n",
       "    <tr>\n",
       "      <th>capital_gain</th>\n",
       "      <td>0</td>\n",
       "      <td>0.000</td>\n",
       "      <td>91</td>\n",
       "      <td>int64</td>\n",
       "    </tr>\n",
       "    <tr>\n",
       "      <th>sex</th>\n",
       "      <td>0</td>\n",
       "      <td>0.000</td>\n",
       "      <td>2</td>\n",
       "      <td>object</td>\n",
       "    </tr>\n",
       "    <tr>\n",
       "      <th>race</th>\n",
       "      <td>0</td>\n",
       "      <td>0.000</td>\n",
       "      <td>5</td>\n",
       "      <td>object</td>\n",
       "    </tr>\n",
       "    <tr>\n",
       "      <th>relationship</th>\n",
       "      <td>0</td>\n",
       "      <td>0.000</td>\n",
       "      <td>6</td>\n",
       "      <td>object</td>\n",
       "    </tr>\n",
       "    <tr>\n",
       "      <th>occupation</th>\n",
       "      <td>0</td>\n",
       "      <td>0.000</td>\n",
       "      <td>15</td>\n",
       "      <td>object</td>\n",
       "    </tr>\n",
       "    <tr>\n",
       "      <th>marital_status</th>\n",
       "      <td>0</td>\n",
       "      <td>0.000</td>\n",
       "      <td>7</td>\n",
       "      <td>object</td>\n",
       "    </tr>\n",
       "    <tr>\n",
       "      <th>education_num</th>\n",
       "      <td>0</td>\n",
       "      <td>0.000</td>\n",
       "      <td>16</td>\n",
       "      <td>int64</td>\n",
       "    </tr>\n",
       "    <tr>\n",
       "      <th>education</th>\n",
       "      <td>0</td>\n",
       "      <td>0.000</td>\n",
       "      <td>16</td>\n",
       "      <td>object</td>\n",
       "    </tr>\n",
       "    <tr>\n",
       "      <th>fnlwgt</th>\n",
       "      <td>0</td>\n",
       "      <td>0.000</td>\n",
       "      <td>5809</td>\n",
       "      <td>int64</td>\n",
       "    </tr>\n",
       "    <tr>\n",
       "      <th>workclass</th>\n",
       "      <td>0</td>\n",
       "      <td>0.000</td>\n",
       "      <td>9</td>\n",
       "      <td>object</td>\n",
       "    </tr>\n",
       "    <tr>\n",
       "      <th>age</th>\n",
       "      <td>0</td>\n",
       "      <td>0.000</td>\n",
       "      <td>70</td>\n",
       "      <td>int64</td>\n",
       "    </tr>\n",
       "    <tr>\n",
       "      <th>id</th>\n",
       "      <td>0</td>\n",
       "      <td>0.000</td>\n",
       "      <td>6512</td>\n",
       "      <td>int64</td>\n",
       "    </tr>\n",
       "  </tbody>\n",
       "</table>\n",
       "</div>"
      ],
      "text/plain": [
       "                Null Total  Null Perc  Nunique   Dtype\n",
       "native_country           0      0.000       42  object\n",
       "hours_per_week           0      0.000       79   int64\n",
       "capital_loss             0      0.000       61   int64\n",
       "capital_gain             0      0.000       91   int64\n",
       "sex                      0      0.000        2  object\n",
       "race                     0      0.000        5  object\n",
       "relationship             0      0.000        6  object\n",
       "occupation               0      0.000       15  object\n",
       "marital_status           0      0.000        7  object\n",
       "education_num            0      0.000       16   int64\n",
       "education                0      0.000       16  object\n",
       "fnlwgt                   0      0.000     5809   int64\n",
       "workclass                0      0.000        9  object\n",
       "age                      0      0.000       70   int64\n",
       "id                       0      0.000     6512   int64"
      ]
     },
     "metadata": {},
     "output_type": "display_data"
    }
   ],
   "source": [
    "quality_report(test)"
   ]
  },
  {
   "cell_type": "markdown",
   "metadata": {},
   "source": [
    "### cap_gain이 [#]인 애들"
   ]
  },
  {
   "cell_type": "code",
   "execution_count": 46,
   "metadata": {
    "ExecuteTime": {
     "end_time": "2020-11-10T07:23:59.342436Z",
     "start_time": "2020-11-10T07:23:59.302139Z"
    }
   },
   "outputs": [
    {
     "data": {
      "text/html": [
       "<div>\n",
       "<style scoped>\n",
       "    .dataframe tbody tr th:only-of-type {\n",
       "        vertical-align: middle;\n",
       "    }\n",
       "\n",
       "    .dataframe tbody tr th {\n",
       "        vertical-align: top;\n",
       "    }\n",
       "\n",
       "    .dataframe thead th {\n",
       "        text-align: right;\n",
       "    }\n",
       "</style>\n",
       "<table border=\"1\" class=\"dataframe\">\n",
       "  <thead>\n",
       "    <tr style=\"text-align: right;\">\n",
       "      <th></th>\n",
       "      <th>id</th>\n",
       "      <th>age</th>\n",
       "      <th>workclass</th>\n",
       "      <th>fnlwgt</th>\n",
       "      <th>education</th>\n",
       "      <th>education_num</th>\n",
       "      <th>marital_status</th>\n",
       "      <th>occupation</th>\n",
       "      <th>relationship</th>\n",
       "      <th>race</th>\n",
       "      <th>sex</th>\n",
       "      <th>capital_gain</th>\n",
       "      <th>capital_loss</th>\n",
       "      <th>hours_per_week</th>\n",
       "      <th>native_country</th>\n",
       "      <th>income</th>\n",
       "    </tr>\n",
       "  </thead>\n",
       "  <tbody>\n",
       "    <tr>\n",
       "      <th>3305</th>\n",
       "      <td>3305</td>\n",
       "      <td>53</td>\n",
       "      <td>Private</td>\n",
       "      <td>194259</td>\n",
       "      <td>Some-college</td>\n",
       "      <td>10</td>\n",
       "      <td>Married-civ-spouse</td>\n",
       "      <td>Adm-clerical</td>\n",
       "      <td>Wife</td>\n",
       "      <td>White</td>\n",
       "      <td>Female</td>\n",
       "      <td>4386</td>\n",
       "      <td>0</td>\n",
       "      <td>40</td>\n",
       "      <td>United-States</td>\n",
       "      <td>&gt;50K</td>\n",
       "    </tr>\n",
       "    <tr>\n",
       "      <th>18083</th>\n",
       "      <td>18083</td>\n",
       "      <td>53</td>\n",
       "      <td>Local-gov</td>\n",
       "      <td>216931</td>\n",
       "      <td>Some-college</td>\n",
       "      <td>10</td>\n",
       "      <td>Married-civ-spouse</td>\n",
       "      <td>Protective-serv</td>\n",
       "      <td>Husband</td>\n",
       "      <td>White</td>\n",
       "      <td>Male</td>\n",
       "      <td>4386</td>\n",
       "      <td>0</td>\n",
       "      <td>40</td>\n",
       "      <td>United-States</td>\n",
       "      <td>&gt;50K</td>\n",
       "    </tr>\n",
       "    <tr>\n",
       "      <th>13883</th>\n",
       "      <td>13883</td>\n",
       "      <td>40</td>\n",
       "      <td>Private</td>\n",
       "      <td>70539</td>\n",
       "      <td>Some-college</td>\n",
       "      <td>10</td>\n",
       "      <td>Married-civ-spouse</td>\n",
       "      <td>Sales</td>\n",
       "      <td>Husband</td>\n",
       "      <td>White</td>\n",
       "      <td>Male</td>\n",
       "      <td>4386</td>\n",
       "      <td>0</td>\n",
       "      <td>50</td>\n",
       "      <td>United-States</td>\n",
       "      <td>&lt;=50K</td>\n",
       "    </tr>\n",
       "    <tr>\n",
       "      <th>24512</th>\n",
       "      <td>24512</td>\n",
       "      <td>53</td>\n",
       "      <td>Self-emp-not-inc</td>\n",
       "      <td>174102</td>\n",
       "      <td>7th-8th</td>\n",
       "      <td>4</td>\n",
       "      <td>Married-civ-spouse</td>\n",
       "      <td>Exec-managerial</td>\n",
       "      <td>Husband</td>\n",
       "      <td>White</td>\n",
       "      <td>Male</td>\n",
       "      <td>4386</td>\n",
       "      <td>0</td>\n",
       "      <td>50</td>\n",
       "      <td>Greece</td>\n",
       "      <td>&gt;50K</td>\n",
       "    </tr>\n",
       "    <tr>\n",
       "      <th>4390</th>\n",
       "      <td>4390</td>\n",
       "      <td>51</td>\n",
       "      <td>Federal-gov</td>\n",
       "      <td>73670</td>\n",
       "      <td>Doctorate</td>\n",
       "      <td>16</td>\n",
       "      <td>Married-civ-spouse</td>\n",
       "      <td>Prof-specialty</td>\n",
       "      <td>Husband</td>\n",
       "      <td>White</td>\n",
       "      <td>Male</td>\n",
       "      <td>4386</td>\n",
       "      <td>0</td>\n",
       "      <td>52</td>\n",
       "      <td>United-States</td>\n",
       "      <td>&gt;50K</td>\n",
       "    </tr>\n",
       "    <tr>\n",
       "      <th>...</th>\n",
       "      <td>...</td>\n",
       "      <td>...</td>\n",
       "      <td>...</td>\n",
       "      <td>...</td>\n",
       "      <td>...</td>\n",
       "      <td>...</td>\n",
       "      <td>...</td>\n",
       "      <td>...</td>\n",
       "      <td>...</td>\n",
       "      <td>...</td>\n",
       "      <td>...</td>\n",
       "      <td>...</td>\n",
       "      <td>...</td>\n",
       "      <td>...</td>\n",
       "      <td>...</td>\n",
       "      <td>...</td>\n",
       "    </tr>\n",
       "    <tr>\n",
       "      <th>8830</th>\n",
       "      <td>8830</td>\n",
       "      <td>39</td>\n",
       "      <td>Private</td>\n",
       "      <td>192702</td>\n",
       "      <td>Masters</td>\n",
       "      <td>14</td>\n",
       "      <td>Never-married</td>\n",
       "      <td>Craft-repair</td>\n",
       "      <td>Not-in-family</td>\n",
       "      <td>White</td>\n",
       "      <td>Female</td>\n",
       "      <td>0</td>\n",
       "      <td>0</td>\n",
       "      <td>50</td>\n",
       "      <td>United-States</td>\n",
       "      <td>&lt;=50K</td>\n",
       "    </tr>\n",
       "    <tr>\n",
       "      <th>8828</th>\n",
       "      <td>8828</td>\n",
       "      <td>21</td>\n",
       "      <td>Private</td>\n",
       "      <td>138816</td>\n",
       "      <td>HS-grad</td>\n",
       "      <td>9</td>\n",
       "      <td>Never-married</td>\n",
       "      <td>Handlers-cleaners</td>\n",
       "      <td>Own-child</td>\n",
       "      <td>Black</td>\n",
       "      <td>Male</td>\n",
       "      <td>0</td>\n",
       "      <td>0</td>\n",
       "      <td>20</td>\n",
       "      <td>United-States</td>\n",
       "      <td>&lt;=50K</td>\n",
       "    </tr>\n",
       "    <tr>\n",
       "      <th>8827</th>\n",
       "      <td>8827</td>\n",
       "      <td>22</td>\n",
       "      <td>?</td>\n",
       "      <td>269221</td>\n",
       "      <td>Some-college</td>\n",
       "      <td>10</td>\n",
       "      <td>Never-married</td>\n",
       "      <td>?</td>\n",
       "      <td>Own-child</td>\n",
       "      <td>White</td>\n",
       "      <td>Male</td>\n",
       "      <td>0</td>\n",
       "      <td>0</td>\n",
       "      <td>40</td>\n",
       "      <td>United-States</td>\n",
       "      <td>&lt;=50K</td>\n",
       "    </tr>\n",
       "    <tr>\n",
       "      <th>8826</th>\n",
       "      <td>8826</td>\n",
       "      <td>61</td>\n",
       "      <td>?</td>\n",
       "      <td>198686</td>\n",
       "      <td>Assoc-acdm</td>\n",
       "      <td>12</td>\n",
       "      <td>Married-civ-spouse</td>\n",
       "      <td>?</td>\n",
       "      <td>Husband</td>\n",
       "      <td>White</td>\n",
       "      <td>Male</td>\n",
       "      <td>0</td>\n",
       "      <td>0</td>\n",
       "      <td>2</td>\n",
       "      <td>United-States</td>\n",
       "      <td>&gt;50K</td>\n",
       "    </tr>\n",
       "    <tr>\n",
       "      <th>26048</th>\n",
       "      <td>26048</td>\n",
       "      <td>20</td>\n",
       "      <td>?</td>\n",
       "      <td>99891</td>\n",
       "      <td>Some-college</td>\n",
       "      <td>10</td>\n",
       "      <td>Never-married</td>\n",
       "      <td>?</td>\n",
       "      <td>Own-child</td>\n",
       "      <td>White</td>\n",
       "      <td>Female</td>\n",
       "      <td>0</td>\n",
       "      <td>0</td>\n",
       "      <td>30</td>\n",
       "      <td>United-States</td>\n",
       "      <td>&lt;=50K</td>\n",
       "    </tr>\n",
       "  </tbody>\n",
       "</table>\n",
       "<p>24616 rows × 16 columns</p>\n",
       "</div>"
      ],
      "text/plain": [
       "          id  age         workclass  fnlwgt     education  education_num  \\\n",
       "3305    3305   53           Private  194259  Some-college             10   \n",
       "18083  18083   53         Local-gov  216931  Some-college             10   \n",
       "13883  13883   40           Private   70539  Some-college             10   \n",
       "24512  24512   53  Self-emp-not-inc  174102       7th-8th              4   \n",
       "4390    4390   51       Federal-gov   73670     Doctorate             16   \n",
       "...      ...  ...               ...     ...           ...            ...   \n",
       "8830    8830   39           Private  192702       Masters             14   \n",
       "8828    8828   21           Private  138816       HS-grad              9   \n",
       "8827    8827   22                 ?  269221  Some-college             10   \n",
       "8826    8826   61                 ?  198686    Assoc-acdm             12   \n",
       "26048  26048   20                 ?   99891  Some-college             10   \n",
       "\n",
       "           marital_status         occupation   relationship   race     sex  \\\n",
       "3305   Married-civ-spouse       Adm-clerical           Wife  White  Female   \n",
       "18083  Married-civ-spouse    Protective-serv        Husband  White    Male   \n",
       "13883  Married-civ-spouse              Sales        Husband  White    Male   \n",
       "24512  Married-civ-spouse    Exec-managerial        Husband  White    Male   \n",
       "4390   Married-civ-spouse     Prof-specialty        Husband  White    Male   \n",
       "...                   ...                ...            ...    ...     ...   \n",
       "8830        Never-married       Craft-repair  Not-in-family  White  Female   \n",
       "8828        Never-married  Handlers-cleaners      Own-child  Black    Male   \n",
       "8827        Never-married                  ?      Own-child  White    Male   \n",
       "8826   Married-civ-spouse                  ?        Husband  White    Male   \n",
       "26048       Never-married                  ?      Own-child  White  Female   \n",
       "\n",
       "       capital_gain  capital_loss  hours_per_week native_country income  \n",
       "3305           4386             0              40  United-States   >50K  \n",
       "18083          4386             0              40  United-States   >50K  \n",
       "13883          4386             0              50  United-States  <=50K  \n",
       "24512          4386             0              50         Greece   >50K  \n",
       "4390           4386             0              52  United-States   >50K  \n",
       "...             ...           ...             ...            ...    ...  \n",
       "8830              0             0              50  United-States  <=50K  \n",
       "8828              0             0              20  United-States  <=50K  \n",
       "8827              0             0              40  United-States  <=50K  \n",
       "8826              0             0               2  United-States   >50K  \n",
       "26048             0             0              30  United-States  <=50K  \n",
       "\n",
       "[24616 rows x 16 columns]"
      ]
     },
     "execution_count": 46,
     "metadata": {},
     "output_type": "execute_result"
    }
   ],
   "source": [
    "train[train.capital_gain < 4400].sort_values('capital_gain', ascending = False)"
   ]
  },
  {
   "cell_type": "markdown",
   "metadata": {
    "ExecuteTime": {
     "end_time": "2020-11-09T06:41:01.405626Z",
     "start_time": "2020-11-09T06:41:01.390574Z"
    }
   },
   "source": [
    "### ?가 있는 row 뽑기"
   ]
  },
  {
   "cell_type": "code",
   "execution_count": 51,
   "metadata": {
    "ExecuteTime": {
     "end_time": "2020-11-10T07:25:31.885708Z",
     "start_time": "2020-11-10T07:25:31.674992Z"
    }
   },
   "outputs": [
    {
     "data": {
      "text/plain": [
       "<=50K    1687\n",
       ">50K      256\n",
       "Name: income, dtype: int64"
      ]
     },
     "execution_count": 51,
     "metadata": {},
     "output_type": "execute_result"
    }
   ],
   "source": [
    "group_question = train[train.apply(lambda x: '?' in list(x), axis = 1)]\n",
    "group_question['income'].value_counts()"
   ]
  },
  {
   "cell_type": "markdown",
   "metadata": {},
   "source": [
    "### & 조건 뽑기"
   ]
  },
  {
   "cell_type": "code",
   "execution_count": 54,
   "metadata": {
    "ExecuteTime": {
     "end_time": "2020-11-10T07:27:06.182533Z",
     "start_time": "2020-11-10T07:27:06.120365Z"
    }
   },
   "outputs": [
    {
     "data": {
      "text/html": [
       "<div>\n",
       "<style scoped>\n",
       "    .dataframe tbody tr th:only-of-type {\n",
       "        vertical-align: middle;\n",
       "    }\n",
       "\n",
       "    .dataframe tbody tr th {\n",
       "        vertical-align: top;\n",
       "    }\n",
       "\n",
       "    .dataframe thead th {\n",
       "        text-align: right;\n",
       "    }\n",
       "</style>\n",
       "<table border=\"1\" class=\"dataframe\">\n",
       "  <thead>\n",
       "    <tr style=\"text-align: right;\">\n",
       "      <th></th>\n",
       "      <th>id</th>\n",
       "      <th>age</th>\n",
       "      <th>workclass</th>\n",
       "      <th>fnlwgt</th>\n",
       "      <th>education</th>\n",
       "      <th>education_num</th>\n",
       "      <th>marital_status</th>\n",
       "      <th>occupation</th>\n",
       "      <th>relationship</th>\n",
       "      <th>race</th>\n",
       "      <th>sex</th>\n",
       "      <th>capital_gain</th>\n",
       "      <th>capital_loss</th>\n",
       "      <th>hours_per_week</th>\n",
       "      <th>native_country</th>\n",
       "      <th>income</th>\n",
       "    </tr>\n",
       "  </thead>\n",
       "  <tbody>\n",
       "    <tr>\n",
       "      <th>3400</th>\n",
       "      <td>3400</td>\n",
       "      <td>28</td>\n",
       "      <td>State-gov</td>\n",
       "      <td>189765</td>\n",
       "      <td>Some-college</td>\n",
       "      <td>10</td>\n",
       "      <td>Separated</td>\n",
       "      <td>Adm-clerical</td>\n",
       "      <td>Unmarried</td>\n",
       "      <td>White</td>\n",
       "      <td>Female</td>\n",
       "      <td>0</td>\n",
       "      <td>0</td>\n",
       "      <td>50</td>\n",
       "      <td>United-States</td>\n",
       "      <td>&lt;=50K</td>\n",
       "    </tr>\n",
       "    <tr>\n",
       "      <th>23728</th>\n",
       "      <td>23728</td>\n",
       "      <td>46</td>\n",
       "      <td>Self-emp-inc</td>\n",
       "      <td>120121</td>\n",
       "      <td>Bachelors</td>\n",
       "      <td>13</td>\n",
       "      <td>Married-civ-spouse</td>\n",
       "      <td>Sales</td>\n",
       "      <td>Husband</td>\n",
       "      <td>White</td>\n",
       "      <td>Male</td>\n",
       "      <td>0</td>\n",
       "      <td>0</td>\n",
       "      <td>50</td>\n",
       "      <td>United-States</td>\n",
       "      <td>&gt;50K</td>\n",
       "    </tr>\n",
       "    <tr>\n",
       "      <th>143</th>\n",
       "      <td>143</td>\n",
       "      <td>43</td>\n",
       "      <td>Private</td>\n",
       "      <td>55395</td>\n",
       "      <td>Some-college</td>\n",
       "      <td>10</td>\n",
       "      <td>Married-civ-spouse</td>\n",
       "      <td>Craft-repair</td>\n",
       "      <td>Husband</td>\n",
       "      <td>White</td>\n",
       "      <td>Male</td>\n",
       "      <td>0</td>\n",
       "      <td>0</td>\n",
       "      <td>40</td>\n",
       "      <td>United-States</td>\n",
       "      <td>&lt;=50K</td>\n",
       "    </tr>\n",
       "  </tbody>\n",
       "</table>\n",
       "</div>"
      ],
      "text/plain": [
       "          id  age     workclass  fnlwgt     education  education_num  \\\n",
       "3400    3400   28     State-gov  189765  Some-college             10   \n",
       "23728  23728   46  Self-emp-inc  120121     Bachelors             13   \n",
       "143      143   43       Private   55395  Some-college             10   \n",
       "\n",
       "           marital_status    occupation relationship   race     sex  \\\n",
       "3400            Separated  Adm-clerical    Unmarried  White  Female   \n",
       "23728  Married-civ-spouse         Sales      Husband  White    Male   \n",
       "143    Married-civ-spouse  Craft-repair      Husband  White    Male   \n",
       "\n",
       "       capital_gain  capital_loss  hours_per_week native_country income  \n",
       "3400              0             0              50  United-States  <=50K  \n",
       "23728             0             0              50  United-States   >50K  \n",
       "143               0             0              40  United-States  <=50K  "
      ]
     },
     "execution_count": 54,
     "metadata": {},
     "output_type": "execute_result"
    }
   ],
   "source": [
    "train.sample(3)"
   ]
  },
  {
   "cell_type": "code",
   "execution_count": 61,
   "metadata": {
    "ExecuteTime": {
     "end_time": "2020-11-10T07:29:44.462198Z",
     "start_time": "2020-11-10T07:29:44.441377Z"
    }
   },
   "outputs": [],
   "source": [
    "group_PW = train[(train['workclass'] == 'Private') & (train['race'] == 'White')]"
   ]
  },
  {
   "cell_type": "code",
   "execution_count": 65,
   "metadata": {
    "ExecuteTime": {
     "end_time": "2020-11-10T07:32:46.679930Z",
     "start_time": "2020-11-10T07:32:46.659764Z"
    }
   },
   "outputs": [
    {
     "name": "stdout",
     "output_type": "stream",
     "text": [
      "object\n",
      "[workclass] (1)\n",
      "Private\n",
      "\n",
      "object\n",
      "[education] (16)\n",
      "HS-grad\n",
      "9th\n",
      "Some-college\n",
      "1st-4th\n",
      "11th\n",
      "Bachelors\n",
      "Assoc-acdm\n",
      "5th-6th\n",
      "10th\n",
      "7th-8th\n",
      "Assoc-voc\n",
      "Masters\n",
      "12th\n",
      "Prof-school\n",
      "Doctorate\n",
      "Preschool\n",
      "\n",
      "object\n",
      "[marital_status] (7)\n",
      "Married-civ-spouse\n",
      "Never-married\n",
      "Married-spouse-absent\n",
      "Divorced\n",
      "Widowed\n",
      "Separated\n",
      "Married-AF-spouse\n",
      "\n",
      "object\n",
      "[occupation] (13)\n",
      "Sales\n",
      "Machine-op-inspct\n",
      "Other-service\n",
      "Prof-specialty\n",
      "Craft-repair\n",
      "Handlers-cleaners\n",
      "Exec-managerial\n",
      "Transport-moving\n",
      "Adm-clerical\n",
      "Protective-serv\n",
      "Tech-support\n",
      "Priv-house-serv\n",
      "Farming-fishing\n",
      "\n",
      "object\n",
      "[relationship] (6)\n",
      "Husband\n",
      "Own-child\n",
      "Unmarried\n",
      "Not-in-family\n",
      "Other-relative\n",
      "Wife\n",
      "\n",
      "object\n",
      "[race] (1)\n",
      "White\n",
      "\n",
      "object\n",
      "[sex] (2)\n",
      "Male\n",
      "Female\n",
      "\n",
      "object\n",
      "[native_country] (35)\n",
      "United-States\n",
      "Mexico\n",
      "Poland\n",
      "Germany\n",
      "Cuba\n",
      "Ireland\n",
      "El-Salvador\n",
      "Guatemala\n",
      "?\n",
      "Columbia\n",
      "Peru\n",
      "Japan\n",
      "Dominican-Republic\n",
      "England\n",
      "Nicaragua\n",
      "Italy\n",
      "France\n",
      "Canada\n",
      "Ecuador\n",
      "Portugal\n",
      "Hungary\n",
      "India\n",
      "Greece\n",
      "Honduras\n",
      "Iran\n",
      "Puerto-Rico\n",
      "Jamaica\n",
      "Vietnam\n",
      "Taiwan\n",
      "Outlying-US(Guam-USVI-etc)\n",
      "Philippines\n",
      "Scotland\n",
      "Yugoslavia\n",
      "Hong\n",
      "Thailand\n",
      "\n",
      "object\n",
      "[income] (2)\n",
      ">50K\n",
      "<=50K\n",
      "\n"
     ]
    }
   ],
   "source": [
    "briefing_df(group_PW)"
   ]
  },
  {
   "cell_type": "code",
   "execution_count": 63,
   "metadata": {
    "ExecuteTime": {
     "end_time": "2020-11-10T07:30:03.384618Z",
     "start_time": "2020-11-10T07:30:03.370606Z"
    }
   },
   "outputs": [
    {
     "data": {
      "text/plain": [
       "<=50K    11884\n",
       ">50K      3662\n",
       "Name: income, dtype: int64"
      ]
     },
     "execution_count": 63,
     "metadata": {},
     "output_type": "execute_result"
    }
   ],
   "source": [
    "group_PW['income'].value_counts()"
   ]
  },
  {
   "cell_type": "code",
   "execution_count": null,
   "metadata": {},
   "outputs": [],
   "source": [
    "group_PW['income'].value_counts()"
   ]
  },
  {
   "cell_type": "code",
   "execution_count": null,
   "metadata": {},
   "outputs": [],
   "source": []
  },
  {
   "cell_type": "markdown",
   "metadata": {
    "ExecuteTime": {
     "end_time": "2020-11-03T05:44:18.654825Z",
     "start_time": "2020-11-03T05:44:18.649233Z"
    }
   },
   "source": [
    "### Workingclass Portion 추가"
   ]
  },
  {
   "cell_type": "markdown",
   "metadata": {
    "ExecuteTime": {
     "end_time": "2020-11-03T05:46:37.180383Z",
     "start_time": "2020-11-03T05:46:37.169875Z"
    }
   },
   "source": [
    "고용형태(workclass)\n",
    "\n",
    "- Self-emp-inc(법인있는 자영업) - 56.5%\n",
    "    - Refers to people who work for themselves in corporate entities.\n",
    "    - 기업에서 스스로 일하는 사람들을 의미합니다.\n",
    "\n",
    "- Federal-gov(연방 정부) - 38.1%\n",
    "- Local-gov(지방 정부) - 29.8%\n",
    "\n",
    "- Self-emp-not-inc(법인 없는 자영업) - 28.4%\n",
    "    - Refers to people who work for themselves in other legal entities.\n",
    "    - 다른 법인에서 스스로 일하는 사람들을 나타냅니다.\n",
    "\n",
    "- State-gov(주 정부) - 27.7%\n",
    "- Private - 22%\n",
    "- ? - 10%\n",
    "- Without-pay - 0.0\n",
    "- Never-worked - 0.0\n",
    "\n",
    "- ?데이터는 missingvalue -> 삭제할지 채워넣을지 고민해봐야할 것 같다."
   ]
  },
  {
   "cell_type": "code",
   "execution_count": null,
   "metadata": {
    "ExecuteTime": {
     "end_time": "2020-11-10T07:23:11.516704Z",
     "start_time": "2020-11-10T07:23:02.557Z"
    }
   },
   "outputs": [],
   "source": [
    "# workclass_list = train.workclass.unique().tolist()\n",
    "# workclass_df = train[['workclass','income']]"
   ]
  },
  {
   "cell_type": "code",
   "execution_count": 67,
   "metadata": {
    "ExecuteTime": {
     "end_time": "2020-11-10T07:35:26.760628Z",
     "start_time": "2020-11-10T07:35:26.681588Z"
    }
   },
   "outputs": [],
   "source": [
    "def portion_income(column):\n",
    "    \n",
    "    ## This is only for train set ##\n",
    "    train[column] = train[column].astype('str')\n",
    "    col_lst = train[column].unique().tolist()\n",
    "    df = train[[column,'income']]\n",
    "\n",
    "    for x in col_lst:\n",
    "        locals()[\"high\" + '_' + x] = df[(df[column] == x) & (df.income == \">50K\")]\n",
    "        locals()[\"low\" + '_' + x]  = df[(df[column] == x) & (df.income == \"<=50K\")]\n",
    "    col_name = []\n",
    "    col_name_value = []\n",
    "    for x in col_lst:\n",
    "        col_name.append(x)\n",
    "        try:\n",
    "            col_name_value.append(len(locals()[\"high\" + '_' + x]) / (len(locals()[\"high\" + '_' + x]) + len(locals()[\"low\" + '_' + x])))\n",
    "            #print(x , len(locals()[\"high\" + '_' + x]) / (len(locals()[\"high\" + '_' + x]) + len(locals()[\"low\" + '_' + x])))\n",
    "        except:\n",
    "            col_name_value.append(0)\n",
    "    data = pd.DataFrame({\"workclass\" : col_name, \"value\" : col_name_value }).sort_values(by = 'value', ascending = False)\n",
    "    return data\n",
    "\n",
    "workclass_portion = portion_income(\"workclass\")"
   ]
  },
  {
   "cell_type": "code",
   "execution_count": 68,
   "metadata": {
    "ExecuteTime": {
     "end_time": "2020-11-10T07:35:27.256769Z",
     "start_time": "2020-11-10T07:35:27.241728Z"
    }
   },
   "outputs": [
    {
     "data": {
      "text/html": [
       "<div>\n",
       "<style scoped>\n",
       "    .dataframe tbody tr th:only-of-type {\n",
       "        vertical-align: middle;\n",
       "    }\n",
       "\n",
       "    .dataframe tbody tr th {\n",
       "        vertical-align: top;\n",
       "    }\n",
       "\n",
       "    .dataframe thead th {\n",
       "        text-align: right;\n",
       "    }\n",
       "</style>\n",
       "<table border=\"1\" class=\"dataframe\">\n",
       "  <thead>\n",
       "    <tr style=\"text-align: right;\">\n",
       "      <th></th>\n",
       "      <th>workclass</th>\n",
       "      <th>value</th>\n",
       "    </tr>\n",
       "  </thead>\n",
       "  <tbody>\n",
       "    <tr>\n",
       "      <th>6</th>\n",
       "      <td>Self-emp-inc</td>\n",
       "      <td>0.566</td>\n",
       "    </tr>\n",
       "    <tr>\n",
       "      <th>5</th>\n",
       "      <td>Federal-gov</td>\n",
       "      <td>0.382</td>\n",
       "    </tr>\n",
       "    <tr>\n",
       "      <th>4</th>\n",
       "      <td>Local-gov</td>\n",
       "      <td>0.298</td>\n",
       "    </tr>\n",
       "    <tr>\n",
       "      <th>3</th>\n",
       "      <td>Self-emp-not-inc</td>\n",
       "      <td>0.284</td>\n",
       "    </tr>\n",
       "    <tr>\n",
       "      <th>1</th>\n",
       "      <td>State-gov</td>\n",
       "      <td>0.277</td>\n",
       "    </tr>\n",
       "    <tr>\n",
       "      <th>0</th>\n",
       "      <td>Private</td>\n",
       "      <td>0.220</td>\n",
       "    </tr>\n",
       "    <tr>\n",
       "      <th>2</th>\n",
       "      <td>?</td>\n",
       "      <td>0.102</td>\n",
       "    </tr>\n",
       "    <tr>\n",
       "      <th>7</th>\n",
       "      <td>Without-pay</td>\n",
       "      <td>0.000</td>\n",
       "    </tr>\n",
       "    <tr>\n",
       "      <th>8</th>\n",
       "      <td>Never-worked</td>\n",
       "      <td>0.000</td>\n",
       "    </tr>\n",
       "  </tbody>\n",
       "</table>\n",
       "</div>"
      ],
      "text/plain": [
       "          workclass  value\n",
       "6      Self-emp-inc  0.566\n",
       "5       Federal-gov  0.382\n",
       "4         Local-gov  0.298\n",
       "3  Self-emp-not-inc  0.284\n",
       "1         State-gov  0.277\n",
       "0           Private  0.220\n",
       "2                 ?  0.102\n",
       "7       Without-pay  0.000\n",
       "8      Never-worked  0.000"
      ]
     },
     "execution_count": 68,
     "metadata": {},
     "output_type": "execute_result"
    }
   ],
   "source": [
    "workclass_portion"
   ]
  },
  {
   "cell_type": "code",
   "execution_count": 69,
   "metadata": {
    "ExecuteTime": {
     "end_time": "2020-11-10T07:35:27.710762Z",
     "start_time": "2020-11-10T07:35:27.697730Z"
    }
   },
   "outputs": [
    {
     "data": {
      "text/html": [
       "<div>\n",
       "<style scoped>\n",
       "    .dataframe tbody tr th:only-of-type {\n",
       "        vertical-align: middle;\n",
       "    }\n",
       "\n",
       "    .dataframe tbody tr th {\n",
       "        vertical-align: top;\n",
       "    }\n",
       "\n",
       "    .dataframe thead th {\n",
       "        text-align: right;\n",
       "    }\n",
       "</style>\n",
       "<table border=\"1\" class=\"dataframe\">\n",
       "  <thead>\n",
       "    <tr style=\"text-align: right;\">\n",
       "      <th></th>\n",
       "      <th>id</th>\n",
       "      <th>age</th>\n",
       "      <th>workclass</th>\n",
       "      <th>fnlwgt</th>\n",
       "      <th>education</th>\n",
       "      <th>education_num</th>\n",
       "      <th>marital_status</th>\n",
       "      <th>occupation</th>\n",
       "      <th>relationship</th>\n",
       "      <th>race</th>\n",
       "      <th>sex</th>\n",
       "      <th>capital_gain</th>\n",
       "      <th>capital_loss</th>\n",
       "      <th>hours_per_week</th>\n",
       "      <th>native_country</th>\n",
       "    </tr>\n",
       "  </thead>\n",
       "  <tbody>\n",
       "    <tr>\n",
       "      <th>0</th>\n",
       "      <td>0</td>\n",
       "      <td>28</td>\n",
       "      <td>Private</td>\n",
       "      <td>67661</td>\n",
       "      <td>Some-college</td>\n",
       "      <td>10</td>\n",
       "      <td>Never-married</td>\n",
       "      <td>Adm-clerical</td>\n",
       "      <td>Other-relative</td>\n",
       "      <td>White</td>\n",
       "      <td>Female</td>\n",
       "      <td>0</td>\n",
       "      <td>0</td>\n",
       "      <td>40</td>\n",
       "      <td>United-States</td>\n",
       "    </tr>\n",
       "    <tr>\n",
       "      <th>1</th>\n",
       "      <td>1</td>\n",
       "      <td>40</td>\n",
       "      <td>Self-emp-inc</td>\n",
       "      <td>37869</td>\n",
       "      <td>HS-grad</td>\n",
       "      <td>9</td>\n",
       "      <td>Married-civ-spouse</td>\n",
       "      <td>Exec-managerial</td>\n",
       "      <td>Husband</td>\n",
       "      <td>White</td>\n",
       "      <td>Male</td>\n",
       "      <td>0</td>\n",
       "      <td>0</td>\n",
       "      <td>50</td>\n",
       "      <td>United-States</td>\n",
       "    </tr>\n",
       "    <tr>\n",
       "      <th>2</th>\n",
       "      <td>2</td>\n",
       "      <td>20</td>\n",
       "      <td>Private</td>\n",
       "      <td>109952</td>\n",
       "      <td>Some-college</td>\n",
       "      <td>10</td>\n",
       "      <td>Never-married</td>\n",
       "      <td>Handlers-cleaners</td>\n",
       "      <td>Own-child</td>\n",
       "      <td>White</td>\n",
       "      <td>Male</td>\n",
       "      <td>0</td>\n",
       "      <td>0</td>\n",
       "      <td>25</td>\n",
       "      <td>United-States</td>\n",
       "    </tr>\n",
       "    <tr>\n",
       "      <th>3</th>\n",
       "      <td>3</td>\n",
       "      <td>40</td>\n",
       "      <td>Private</td>\n",
       "      <td>114537</td>\n",
       "      <td>Assoc-voc</td>\n",
       "      <td>11</td>\n",
       "      <td>Married-civ-spouse</td>\n",
       "      <td>Exec-managerial</td>\n",
       "      <td>Husband</td>\n",
       "      <td>White</td>\n",
       "      <td>Male</td>\n",
       "      <td>0</td>\n",
       "      <td>0</td>\n",
       "      <td>50</td>\n",
       "      <td>United-States</td>\n",
       "    </tr>\n",
       "    <tr>\n",
       "      <th>4</th>\n",
       "      <td>4</td>\n",
       "      <td>37</td>\n",
       "      <td>Private</td>\n",
       "      <td>51264</td>\n",
       "      <td>Doctorate</td>\n",
       "      <td>16</td>\n",
       "      <td>Married-civ-spouse</td>\n",
       "      <td>Prof-specialty</td>\n",
       "      <td>Husband</td>\n",
       "      <td>White</td>\n",
       "      <td>Male</td>\n",
       "      <td>0</td>\n",
       "      <td>0</td>\n",
       "      <td>99</td>\n",
       "      <td>France</td>\n",
       "    </tr>\n",
       "  </tbody>\n",
       "</table>\n",
       "</div>"
      ],
      "text/plain": [
       "   id  age     workclass  fnlwgt     education  education_num  \\\n",
       "0   0   28       Private   67661  Some-college             10   \n",
       "1   1   40  Self-emp-inc   37869       HS-grad              9   \n",
       "2   2   20       Private  109952  Some-college             10   \n",
       "3   3   40       Private  114537     Assoc-voc             11   \n",
       "4   4   37       Private   51264     Doctorate             16   \n",
       "\n",
       "       marital_status         occupation    relationship   race     sex  \\\n",
       "0       Never-married       Adm-clerical  Other-relative  White  Female   \n",
       "1  Married-civ-spouse    Exec-managerial         Husband  White    Male   \n",
       "2       Never-married  Handlers-cleaners       Own-child  White    Male   \n",
       "3  Married-civ-spouse    Exec-managerial         Husband  White    Male   \n",
       "4  Married-civ-spouse     Prof-specialty         Husband  White    Male   \n",
       "\n",
       "   capital_gain  capital_loss  hours_per_week native_country  \n",
       "0             0             0              40  United-States  \n",
       "1             0             0              50  United-States  \n",
       "2             0             0              25  United-States  \n",
       "3             0             0              50  United-States  \n",
       "4             0             0              99         France  "
      ]
     },
     "execution_count": 69,
     "metadata": {},
     "output_type": "execute_result"
    }
   ],
   "source": [
    "test.head()"
   ]
  },
  {
   "cell_type": "code",
   "execution_count": 70,
   "metadata": {
    "ExecuteTime": {
     "end_time": "2020-11-10T07:35:27.758354Z",
     "start_time": "2020-11-10T07:35:27.711764Z"
    }
   },
   "outputs": [],
   "source": [
    "train = pd.merge(train,workclass_portion, on = 'workclass', how = 'left')\n",
    "test = pd.merge(test,workclass_portion, on = 'workclass', how = 'left')"
   ]
  },
  {
   "cell_type": "code",
   "execution_count": 71,
   "metadata": {
    "ExecuteTime": {
     "end_time": "2020-11-10T07:35:28.723898Z",
     "start_time": "2020-11-10T07:35:28.708864Z"
    }
   },
   "outputs": [
    {
     "data": {
      "text/html": [
       "<div>\n",
       "<style scoped>\n",
       "    .dataframe tbody tr th:only-of-type {\n",
       "        vertical-align: middle;\n",
       "    }\n",
       "\n",
       "    .dataframe tbody tr th {\n",
       "        vertical-align: top;\n",
       "    }\n",
       "\n",
       "    .dataframe thead th {\n",
       "        text-align: right;\n",
       "    }\n",
       "</style>\n",
       "<table border=\"1\" class=\"dataframe\">\n",
       "  <thead>\n",
       "    <tr style=\"text-align: right;\">\n",
       "      <th></th>\n",
       "      <th>id</th>\n",
       "      <th>age</th>\n",
       "      <th>workclass</th>\n",
       "      <th>fnlwgt</th>\n",
       "      <th>education</th>\n",
       "      <th>education_num</th>\n",
       "      <th>marital_status</th>\n",
       "      <th>occupation</th>\n",
       "      <th>relationship</th>\n",
       "      <th>race</th>\n",
       "      <th>sex</th>\n",
       "      <th>capital_gain</th>\n",
       "      <th>capital_loss</th>\n",
       "      <th>hours_per_week</th>\n",
       "      <th>native_country</th>\n",
       "      <th>income</th>\n",
       "      <th>value</th>\n",
       "    </tr>\n",
       "  </thead>\n",
       "  <tbody>\n",
       "    <tr>\n",
       "      <th>0</th>\n",
       "      <td>0</td>\n",
       "      <td>40</td>\n",
       "      <td>Private</td>\n",
       "      <td>168538</td>\n",
       "      <td>HS-grad</td>\n",
       "      <td>9</td>\n",
       "      <td>Married-civ-spouse</td>\n",
       "      <td>Sales</td>\n",
       "      <td>Husband</td>\n",
       "      <td>White</td>\n",
       "      <td>Male</td>\n",
       "      <td>0</td>\n",
       "      <td>0</td>\n",
       "      <td>60</td>\n",
       "      <td>United-States</td>\n",
       "      <td>&gt;50K</td>\n",
       "      <td>0.220</td>\n",
       "    </tr>\n",
       "    <tr>\n",
       "      <th>1</th>\n",
       "      <td>1</td>\n",
       "      <td>17</td>\n",
       "      <td>Private</td>\n",
       "      <td>101626</td>\n",
       "      <td>9th</td>\n",
       "      <td>5</td>\n",
       "      <td>Never-married</td>\n",
       "      <td>Machine-op-inspct</td>\n",
       "      <td>Own-child</td>\n",
       "      <td>White</td>\n",
       "      <td>Male</td>\n",
       "      <td>0</td>\n",
       "      <td>0</td>\n",
       "      <td>20</td>\n",
       "      <td>United-States</td>\n",
       "      <td>&lt;=50K</td>\n",
       "      <td>0.220</td>\n",
       "    </tr>\n",
       "    <tr>\n",
       "      <th>2</th>\n",
       "      <td>2</td>\n",
       "      <td>18</td>\n",
       "      <td>Private</td>\n",
       "      <td>353358</td>\n",
       "      <td>Some-college</td>\n",
       "      <td>10</td>\n",
       "      <td>Never-married</td>\n",
       "      <td>Other-service</td>\n",
       "      <td>Own-child</td>\n",
       "      <td>White</td>\n",
       "      <td>Male</td>\n",
       "      <td>0</td>\n",
       "      <td>0</td>\n",
       "      <td>16</td>\n",
       "      <td>United-States</td>\n",
       "      <td>&lt;=50K</td>\n",
       "      <td>0.220</td>\n",
       "    </tr>\n",
       "    <tr>\n",
       "      <th>3</th>\n",
       "      <td>3</td>\n",
       "      <td>21</td>\n",
       "      <td>Private</td>\n",
       "      <td>151158</td>\n",
       "      <td>Some-college</td>\n",
       "      <td>10</td>\n",
       "      <td>Never-married</td>\n",
       "      <td>Prof-specialty</td>\n",
       "      <td>Own-child</td>\n",
       "      <td>White</td>\n",
       "      <td>Female</td>\n",
       "      <td>0</td>\n",
       "      <td>0</td>\n",
       "      <td>25</td>\n",
       "      <td>United-States</td>\n",
       "      <td>&lt;=50K</td>\n",
       "      <td>0.220</td>\n",
       "    </tr>\n",
       "    <tr>\n",
       "      <th>4</th>\n",
       "      <td>4</td>\n",
       "      <td>24</td>\n",
       "      <td>Private</td>\n",
       "      <td>122234</td>\n",
       "      <td>Some-college</td>\n",
       "      <td>10</td>\n",
       "      <td>Never-married</td>\n",
       "      <td>Adm-clerical</td>\n",
       "      <td>Not-in-family</td>\n",
       "      <td>Black</td>\n",
       "      <td>Female</td>\n",
       "      <td>0</td>\n",
       "      <td>0</td>\n",
       "      <td>20</td>\n",
       "      <td>?</td>\n",
       "      <td>&lt;=50K</td>\n",
       "      <td>0.220</td>\n",
       "    </tr>\n",
       "  </tbody>\n",
       "</table>\n",
       "</div>"
      ],
      "text/plain": [
       "   id  age workclass  fnlwgt     education  education_num      marital_status  \\\n",
       "0   0   40   Private  168538       HS-grad              9  Married-civ-spouse   \n",
       "1   1   17   Private  101626           9th              5       Never-married   \n",
       "2   2   18   Private  353358  Some-college             10       Never-married   \n",
       "3   3   21   Private  151158  Some-college             10       Never-married   \n",
       "4   4   24   Private  122234  Some-college             10       Never-married   \n",
       "\n",
       "          occupation   relationship   race     sex  capital_gain  \\\n",
       "0              Sales        Husband  White    Male             0   \n",
       "1  Machine-op-inspct      Own-child  White    Male             0   \n",
       "2      Other-service      Own-child  White    Male             0   \n",
       "3     Prof-specialty      Own-child  White  Female             0   \n",
       "4       Adm-clerical  Not-in-family  Black  Female             0   \n",
       "\n",
       "   capital_loss  hours_per_week native_country income  value  \n",
       "0             0              60  United-States   >50K  0.220  \n",
       "1             0              20  United-States  <=50K  0.220  \n",
       "2             0              16  United-States  <=50K  0.220  \n",
       "3             0              25  United-States  <=50K  0.220  \n",
       "4             0              20              ?  <=50K  0.220  "
      ]
     },
     "execution_count": 71,
     "metadata": {},
     "output_type": "execute_result"
    }
   ],
   "source": [
    "train.head()"
   ]
  },
  {
   "cell_type": "code",
   "execution_count": 72,
   "metadata": {
    "ExecuteTime": {
     "end_time": "2020-11-10T07:35:29.184958Z",
     "start_time": "2020-11-10T07:35:29.171416Z"
    }
   },
   "outputs": [
    {
     "data": {
      "text/html": [
       "<div>\n",
       "<style scoped>\n",
       "    .dataframe tbody tr th:only-of-type {\n",
       "        vertical-align: middle;\n",
       "    }\n",
       "\n",
       "    .dataframe tbody tr th {\n",
       "        vertical-align: top;\n",
       "    }\n",
       "\n",
       "    .dataframe thead th {\n",
       "        text-align: right;\n",
       "    }\n",
       "</style>\n",
       "<table border=\"1\" class=\"dataframe\">\n",
       "  <thead>\n",
       "    <tr style=\"text-align: right;\">\n",
       "      <th></th>\n",
       "      <th>id</th>\n",
       "      <th>age</th>\n",
       "      <th>workclass</th>\n",
       "      <th>fnlwgt</th>\n",
       "      <th>education</th>\n",
       "      <th>education_num</th>\n",
       "      <th>marital_status</th>\n",
       "      <th>occupation</th>\n",
       "      <th>relationship</th>\n",
       "      <th>race</th>\n",
       "      <th>sex</th>\n",
       "      <th>capital_gain</th>\n",
       "      <th>capital_loss</th>\n",
       "      <th>hours_per_week</th>\n",
       "      <th>native_country</th>\n",
       "      <th>value</th>\n",
       "    </tr>\n",
       "  </thead>\n",
       "  <tbody>\n",
       "    <tr>\n",
       "      <th>0</th>\n",
       "      <td>0</td>\n",
       "      <td>28</td>\n",
       "      <td>Private</td>\n",
       "      <td>67661</td>\n",
       "      <td>Some-college</td>\n",
       "      <td>10</td>\n",
       "      <td>Never-married</td>\n",
       "      <td>Adm-clerical</td>\n",
       "      <td>Other-relative</td>\n",
       "      <td>White</td>\n",
       "      <td>Female</td>\n",
       "      <td>0</td>\n",
       "      <td>0</td>\n",
       "      <td>40</td>\n",
       "      <td>United-States</td>\n",
       "      <td>0.220</td>\n",
       "    </tr>\n",
       "    <tr>\n",
       "      <th>1</th>\n",
       "      <td>1</td>\n",
       "      <td>40</td>\n",
       "      <td>Self-emp-inc</td>\n",
       "      <td>37869</td>\n",
       "      <td>HS-grad</td>\n",
       "      <td>9</td>\n",
       "      <td>Married-civ-spouse</td>\n",
       "      <td>Exec-managerial</td>\n",
       "      <td>Husband</td>\n",
       "      <td>White</td>\n",
       "      <td>Male</td>\n",
       "      <td>0</td>\n",
       "      <td>0</td>\n",
       "      <td>50</td>\n",
       "      <td>United-States</td>\n",
       "      <td>0.566</td>\n",
       "    </tr>\n",
       "    <tr>\n",
       "      <th>2</th>\n",
       "      <td>2</td>\n",
       "      <td>20</td>\n",
       "      <td>Private</td>\n",
       "      <td>109952</td>\n",
       "      <td>Some-college</td>\n",
       "      <td>10</td>\n",
       "      <td>Never-married</td>\n",
       "      <td>Handlers-cleaners</td>\n",
       "      <td>Own-child</td>\n",
       "      <td>White</td>\n",
       "      <td>Male</td>\n",
       "      <td>0</td>\n",
       "      <td>0</td>\n",
       "      <td>25</td>\n",
       "      <td>United-States</td>\n",
       "      <td>0.220</td>\n",
       "    </tr>\n",
       "    <tr>\n",
       "      <th>3</th>\n",
       "      <td>3</td>\n",
       "      <td>40</td>\n",
       "      <td>Private</td>\n",
       "      <td>114537</td>\n",
       "      <td>Assoc-voc</td>\n",
       "      <td>11</td>\n",
       "      <td>Married-civ-spouse</td>\n",
       "      <td>Exec-managerial</td>\n",
       "      <td>Husband</td>\n",
       "      <td>White</td>\n",
       "      <td>Male</td>\n",
       "      <td>0</td>\n",
       "      <td>0</td>\n",
       "      <td>50</td>\n",
       "      <td>United-States</td>\n",
       "      <td>0.220</td>\n",
       "    </tr>\n",
       "    <tr>\n",
       "      <th>4</th>\n",
       "      <td>4</td>\n",
       "      <td>37</td>\n",
       "      <td>Private</td>\n",
       "      <td>51264</td>\n",
       "      <td>Doctorate</td>\n",
       "      <td>16</td>\n",
       "      <td>Married-civ-spouse</td>\n",
       "      <td>Prof-specialty</td>\n",
       "      <td>Husband</td>\n",
       "      <td>White</td>\n",
       "      <td>Male</td>\n",
       "      <td>0</td>\n",
       "      <td>0</td>\n",
       "      <td>99</td>\n",
       "      <td>France</td>\n",
       "      <td>0.220</td>\n",
       "    </tr>\n",
       "  </tbody>\n",
       "</table>\n",
       "</div>"
      ],
      "text/plain": [
       "   id  age     workclass  fnlwgt     education  education_num  \\\n",
       "0   0   28       Private   67661  Some-college             10   \n",
       "1   1   40  Self-emp-inc   37869       HS-grad              9   \n",
       "2   2   20       Private  109952  Some-college             10   \n",
       "3   3   40       Private  114537     Assoc-voc             11   \n",
       "4   4   37       Private   51264     Doctorate             16   \n",
       "\n",
       "       marital_status         occupation    relationship   race     sex  \\\n",
       "0       Never-married       Adm-clerical  Other-relative  White  Female   \n",
       "1  Married-civ-spouse    Exec-managerial         Husband  White    Male   \n",
       "2       Never-married  Handlers-cleaners       Own-child  White    Male   \n",
       "3  Married-civ-spouse    Exec-managerial         Husband  White    Male   \n",
       "4  Married-civ-spouse     Prof-specialty         Husband  White    Male   \n",
       "\n",
       "   capital_gain  capital_loss  hours_per_week native_country  value  \n",
       "0             0             0              40  United-States  0.220  \n",
       "1             0             0              50  United-States  0.566  \n",
       "2             0             0              25  United-States  0.220  \n",
       "3             0             0              50  United-States  0.220  \n",
       "4             0             0              99         France  0.220  "
      ]
     },
     "execution_count": 72,
     "metadata": {},
     "output_type": "execute_result"
    }
   ],
   "source": [
    "test.head()"
   ]
  },
  {
   "cell_type": "markdown",
   "metadata": {
    "ExecuteTime": {
     "end_time": "2020-11-02T07:19:01.431994Z",
     "start_time": "2020-11-02T07:19:01.426424Z"
    }
   },
   "source": [
    "### cap_gain_bins\n",
    "- feature importance 낮음. 제외."
   ]
  },
  {
   "cell_type": "code",
   "execution_count": 73,
   "metadata": {
    "ExecuteTime": {
     "end_time": "2020-11-10T07:35:29.664769Z",
     "start_time": "2020-11-10T07:35:29.650725Z"
    }
   },
   "outputs": [],
   "source": [
    "# def cap_gain_bins(dd):\n",
    "#     dd['cap_gain_bins'] = pd.cut(dd['capital_gain'], [-1,3000,4000, 5000, 6000, 7000, 8000, 9000, 100000],\n",
    "#                                 labels = [0,1,2,3,4,5,6,7])\n",
    "    \n",
    "# for dd in [train, test]:\n",
    "#     cap_gain_bins(dd)"
   ]
  },
  {
   "cell_type": "markdown",
   "metadata": {},
   "source": [
    "### col_drop\n",
    "- education 유지"
   ]
  },
  {
   "cell_type": "code",
   "execution_count": 74,
   "metadata": {
    "ExecuteTime": {
     "end_time": "2020-11-10T07:35:30.177114Z",
     "start_time": "2020-11-10T07:35:30.163082Z"
    }
   },
   "outputs": [],
   "source": [
    "def col_drop(dd):\n",
    "    dd.drop(['id',\n",
    "#             'education',\n",
    "#              'race', \n",
    "#              'marital_status',\n",
    "            ], axis=1, inplace=True)\n",
    "\n",
    "\n",
    "for dd in [train, test]:\n",
    "    col_drop(dd)"
   ]
  },
  {
   "cell_type": "code",
   "execution_count": 75,
   "metadata": {
    "ExecuteTime": {
     "end_time": "2020-11-10T07:35:30.714659Z",
     "start_time": "2020-11-10T07:35:30.700115Z"
    }
   },
   "outputs": [
    {
     "data": {
      "text/plain": [
       "(26049, 16)"
      ]
     },
     "execution_count": 75,
     "metadata": {},
     "output_type": "execute_result"
    }
   ],
   "source": [
    "train.shape"
   ]
  },
  {
   "cell_type": "code",
   "execution_count": 76,
   "metadata": {
    "ExecuteTime": {
     "end_time": "2020-11-10T07:35:33.941568Z",
     "start_time": "2020-11-10T07:35:33.918892Z"
    }
   },
   "outputs": [
    {
     "name": "stdout",
     "output_type": "stream",
     "text": [
      "<class 'pandas.core.frame.DataFrame'>\n",
      "Int64Index: 26049 entries, 0 to 26048\n",
      "Data columns (total 16 columns):\n",
      " #   Column          Non-Null Count  Dtype  \n",
      "---  ------          --------------  -----  \n",
      " 0   age             26049 non-null  int64  \n",
      " 1   workclass       26049 non-null  object \n",
      " 2   fnlwgt          26049 non-null  int64  \n",
      " 3   education       26049 non-null  object \n",
      " 4   education_num   26049 non-null  int64  \n",
      " 5   marital_status  26049 non-null  object \n",
      " 6   occupation      26049 non-null  object \n",
      " 7   relationship    26049 non-null  object \n",
      " 8   race            26049 non-null  object \n",
      " 9   sex             26049 non-null  object \n",
      " 10  capital_gain    26049 non-null  int64  \n",
      " 11  capital_loss    26049 non-null  int64  \n",
      " 12  hours_per_week  26049 non-null  int64  \n",
      " 13  native_country  26049 non-null  object \n",
      " 14  income          26049 non-null  object \n",
      " 15  value           26049 non-null  float64\n",
      "dtypes: float64(1), int64(6), object(9)\n",
      "memory usage: 3.4+ MB\n"
     ]
    }
   ],
   "source": [
    "train.info()"
   ]
  },
  {
   "cell_type": "markdown",
   "metadata": {},
   "source": [
    "### income 숫자 변경"
   ]
  },
  {
   "cell_type": "code",
   "execution_count": 77,
   "metadata": {
    "ExecuteTime": {
     "end_time": "2020-11-10T07:35:34.517064Z",
     "start_time": "2020-11-10T07:35:34.502532Z"
    }
   },
   "outputs": [],
   "source": [
    "train['income'] = train['income'].apply(lambda x: 1 if x == '>50K' else 0)"
   ]
  },
  {
   "cell_type": "code",
   "execution_count": 78,
   "metadata": {
    "ExecuteTime": {
     "end_time": "2020-11-10T07:35:34.548560Z",
     "start_time": "2020-11-10T07:35:34.519043Z"
    }
   },
   "outputs": [
    {
     "data": {
      "text/html": [
       "<div>\n",
       "<style scoped>\n",
       "    .dataframe tbody tr th:only-of-type {\n",
       "        vertical-align: middle;\n",
       "    }\n",
       "\n",
       "    .dataframe tbody tr th {\n",
       "        vertical-align: top;\n",
       "    }\n",
       "\n",
       "    .dataframe thead th {\n",
       "        text-align: right;\n",
       "    }\n",
       "</style>\n",
       "<table border=\"1\" class=\"dataframe\">\n",
       "  <thead>\n",
       "    <tr style=\"text-align: right;\">\n",
       "      <th></th>\n",
       "      <th>age</th>\n",
       "      <th>workclass</th>\n",
       "      <th>fnlwgt</th>\n",
       "      <th>education</th>\n",
       "      <th>education_num</th>\n",
       "      <th>marital_status</th>\n",
       "      <th>occupation</th>\n",
       "      <th>relationship</th>\n",
       "      <th>race</th>\n",
       "      <th>sex</th>\n",
       "      <th>capital_gain</th>\n",
       "      <th>capital_loss</th>\n",
       "      <th>hours_per_week</th>\n",
       "      <th>native_country</th>\n",
       "      <th>income</th>\n",
       "      <th>value</th>\n",
       "    </tr>\n",
       "  </thead>\n",
       "  <tbody>\n",
       "    <tr>\n",
       "      <th>0</th>\n",
       "      <td>40</td>\n",
       "      <td>Private</td>\n",
       "      <td>168538</td>\n",
       "      <td>HS-grad</td>\n",
       "      <td>9</td>\n",
       "      <td>Married-civ-spouse</td>\n",
       "      <td>Sales</td>\n",
       "      <td>Husband</td>\n",
       "      <td>White</td>\n",
       "      <td>Male</td>\n",
       "      <td>0</td>\n",
       "      <td>0</td>\n",
       "      <td>60</td>\n",
       "      <td>United-States</td>\n",
       "      <td>1</td>\n",
       "      <td>0.220</td>\n",
       "    </tr>\n",
       "    <tr>\n",
       "      <th>1</th>\n",
       "      <td>17</td>\n",
       "      <td>Private</td>\n",
       "      <td>101626</td>\n",
       "      <td>9th</td>\n",
       "      <td>5</td>\n",
       "      <td>Never-married</td>\n",
       "      <td>Machine-op-inspct</td>\n",
       "      <td>Own-child</td>\n",
       "      <td>White</td>\n",
       "      <td>Male</td>\n",
       "      <td>0</td>\n",
       "      <td>0</td>\n",
       "      <td>20</td>\n",
       "      <td>United-States</td>\n",
       "      <td>0</td>\n",
       "      <td>0.220</td>\n",
       "    </tr>\n",
       "    <tr>\n",
       "      <th>2</th>\n",
       "      <td>18</td>\n",
       "      <td>Private</td>\n",
       "      <td>353358</td>\n",
       "      <td>Some-college</td>\n",
       "      <td>10</td>\n",
       "      <td>Never-married</td>\n",
       "      <td>Other-service</td>\n",
       "      <td>Own-child</td>\n",
       "      <td>White</td>\n",
       "      <td>Male</td>\n",
       "      <td>0</td>\n",
       "      <td>0</td>\n",
       "      <td>16</td>\n",
       "      <td>United-States</td>\n",
       "      <td>0</td>\n",
       "      <td>0.220</td>\n",
       "    </tr>\n",
       "    <tr>\n",
       "      <th>3</th>\n",
       "      <td>21</td>\n",
       "      <td>Private</td>\n",
       "      <td>151158</td>\n",
       "      <td>Some-college</td>\n",
       "      <td>10</td>\n",
       "      <td>Never-married</td>\n",
       "      <td>Prof-specialty</td>\n",
       "      <td>Own-child</td>\n",
       "      <td>White</td>\n",
       "      <td>Female</td>\n",
       "      <td>0</td>\n",
       "      <td>0</td>\n",
       "      <td>25</td>\n",
       "      <td>United-States</td>\n",
       "      <td>0</td>\n",
       "      <td>0.220</td>\n",
       "    </tr>\n",
       "    <tr>\n",
       "      <th>4</th>\n",
       "      <td>24</td>\n",
       "      <td>Private</td>\n",
       "      <td>122234</td>\n",
       "      <td>Some-college</td>\n",
       "      <td>10</td>\n",
       "      <td>Never-married</td>\n",
       "      <td>Adm-clerical</td>\n",
       "      <td>Not-in-family</td>\n",
       "      <td>Black</td>\n",
       "      <td>Female</td>\n",
       "      <td>0</td>\n",
       "      <td>0</td>\n",
       "      <td>20</td>\n",
       "      <td>?</td>\n",
       "      <td>0</td>\n",
       "      <td>0.220</td>\n",
       "    </tr>\n",
       "    <tr>\n",
       "      <th>...</th>\n",
       "      <td>...</td>\n",
       "      <td>...</td>\n",
       "      <td>...</td>\n",
       "      <td>...</td>\n",
       "      <td>...</td>\n",
       "      <td>...</td>\n",
       "      <td>...</td>\n",
       "      <td>...</td>\n",
       "      <td>...</td>\n",
       "      <td>...</td>\n",
       "      <td>...</td>\n",
       "      <td>...</td>\n",
       "      <td>...</td>\n",
       "      <td>...</td>\n",
       "      <td>...</td>\n",
       "      <td>...</td>\n",
       "    </tr>\n",
       "    <tr>\n",
       "      <th>26044</th>\n",
       "      <td>57</td>\n",
       "      <td>Private</td>\n",
       "      <td>250201</td>\n",
       "      <td>11th</td>\n",
       "      <td>7</td>\n",
       "      <td>Married-civ-spouse</td>\n",
       "      <td>Other-service</td>\n",
       "      <td>Husband</td>\n",
       "      <td>White</td>\n",
       "      <td>Male</td>\n",
       "      <td>0</td>\n",
       "      <td>0</td>\n",
       "      <td>52</td>\n",
       "      <td>United-States</td>\n",
       "      <td>0</td>\n",
       "      <td>0.220</td>\n",
       "    </tr>\n",
       "    <tr>\n",
       "      <th>26045</th>\n",
       "      <td>23</td>\n",
       "      <td>Private</td>\n",
       "      <td>238092</td>\n",
       "      <td>Bachelors</td>\n",
       "      <td>13</td>\n",
       "      <td>Never-married</td>\n",
       "      <td>Prof-specialty</td>\n",
       "      <td>Own-child</td>\n",
       "      <td>White</td>\n",
       "      <td>Male</td>\n",
       "      <td>0</td>\n",
       "      <td>0</td>\n",
       "      <td>40</td>\n",
       "      <td>United-States</td>\n",
       "      <td>0</td>\n",
       "      <td>0.220</td>\n",
       "    </tr>\n",
       "    <tr>\n",
       "      <th>26046</th>\n",
       "      <td>78</td>\n",
       "      <td>?</td>\n",
       "      <td>165694</td>\n",
       "      <td>Masters</td>\n",
       "      <td>14</td>\n",
       "      <td>Widowed</td>\n",
       "      <td>?</td>\n",
       "      <td>Not-in-family</td>\n",
       "      <td>White</td>\n",
       "      <td>Female</td>\n",
       "      <td>0</td>\n",
       "      <td>0</td>\n",
       "      <td>15</td>\n",
       "      <td>United-States</td>\n",
       "      <td>0</td>\n",
       "      <td>0.102</td>\n",
       "    </tr>\n",
       "    <tr>\n",
       "      <th>26047</th>\n",
       "      <td>26</td>\n",
       "      <td>Self-emp-not-inc</td>\n",
       "      <td>151626</td>\n",
       "      <td>HS-grad</td>\n",
       "      <td>9</td>\n",
       "      <td>Never-married</td>\n",
       "      <td>Prof-specialty</td>\n",
       "      <td>Own-child</td>\n",
       "      <td>Black</td>\n",
       "      <td>Female</td>\n",
       "      <td>0</td>\n",
       "      <td>0</td>\n",
       "      <td>40</td>\n",
       "      <td>United-States</td>\n",
       "      <td>0</td>\n",
       "      <td>0.284</td>\n",
       "    </tr>\n",
       "    <tr>\n",
       "      <th>26048</th>\n",
       "      <td>20</td>\n",
       "      <td>?</td>\n",
       "      <td>99891</td>\n",
       "      <td>Some-college</td>\n",
       "      <td>10</td>\n",
       "      <td>Never-married</td>\n",
       "      <td>?</td>\n",
       "      <td>Own-child</td>\n",
       "      <td>White</td>\n",
       "      <td>Female</td>\n",
       "      <td>0</td>\n",
       "      <td>0</td>\n",
       "      <td>30</td>\n",
       "      <td>United-States</td>\n",
       "      <td>0</td>\n",
       "      <td>0.102</td>\n",
       "    </tr>\n",
       "  </tbody>\n",
       "</table>\n",
       "<p>26049 rows × 16 columns</p>\n",
       "</div>"
      ],
      "text/plain": [
       "       age         workclass  fnlwgt     education  education_num  \\\n",
       "0       40           Private  168538       HS-grad              9   \n",
       "1       17           Private  101626           9th              5   \n",
       "2       18           Private  353358  Some-college             10   \n",
       "3       21           Private  151158  Some-college             10   \n",
       "4       24           Private  122234  Some-college             10   \n",
       "...    ...               ...     ...           ...            ...   \n",
       "26044   57           Private  250201          11th              7   \n",
       "26045   23           Private  238092     Bachelors             13   \n",
       "26046   78                 ?  165694       Masters             14   \n",
       "26047   26  Self-emp-not-inc  151626       HS-grad              9   \n",
       "26048   20                 ?   99891  Some-college             10   \n",
       "\n",
       "           marital_status         occupation   relationship   race     sex  \\\n",
       "0      Married-civ-spouse              Sales        Husband  White    Male   \n",
       "1           Never-married  Machine-op-inspct      Own-child  White    Male   \n",
       "2           Never-married      Other-service      Own-child  White    Male   \n",
       "3           Never-married     Prof-specialty      Own-child  White  Female   \n",
       "4           Never-married       Adm-clerical  Not-in-family  Black  Female   \n",
       "...                   ...                ...            ...    ...     ...   \n",
       "26044  Married-civ-spouse      Other-service        Husband  White    Male   \n",
       "26045       Never-married     Prof-specialty      Own-child  White    Male   \n",
       "26046             Widowed                  ?  Not-in-family  White  Female   \n",
       "26047       Never-married     Prof-specialty      Own-child  Black  Female   \n",
       "26048       Never-married                  ?      Own-child  White  Female   \n",
       "\n",
       "       capital_gain  capital_loss  hours_per_week native_country  income  \\\n",
       "0                 0             0              60  United-States       1   \n",
       "1                 0             0              20  United-States       0   \n",
       "2                 0             0              16  United-States       0   \n",
       "3                 0             0              25  United-States       0   \n",
       "4                 0             0              20              ?       0   \n",
       "...             ...           ...             ...            ...     ...   \n",
       "26044             0             0              52  United-States       0   \n",
       "26045             0             0              40  United-States       0   \n",
       "26046             0             0              15  United-States       0   \n",
       "26047             0             0              40  United-States       0   \n",
       "26048             0             0              30  United-States       0   \n",
       "\n",
       "       value  \n",
       "0      0.220  \n",
       "1      0.220  \n",
       "2      0.220  \n",
       "3      0.220  \n",
       "4      0.220  \n",
       "...      ...  \n",
       "26044  0.220  \n",
       "26045  0.220  \n",
       "26046  0.102  \n",
       "26047  0.284  \n",
       "26048  0.102  \n",
       "\n",
       "[26049 rows x 16 columns]"
      ]
     },
     "execution_count": 78,
     "metadata": {},
     "output_type": "execute_result"
    }
   ],
   "source": [
    "train"
   ]
  },
  {
   "cell_type": "code",
   "execution_count": null,
   "metadata": {},
   "outputs": [],
   "source": []
  },
  {
   "cell_type": "markdown",
   "metadata": {},
   "source": [
    "### label encoding"
   ]
  },
  {
   "cell_type": "code",
   "execution_count": null,
   "metadata": {
    "ExecuteTime": {
     "end_time": "2020-11-10T07:23:11.526703Z",
     "start_time": "2020-11-10T07:23:02.613Z"
    }
   },
   "outputs": [],
   "source": [
    "def lable_encode_df(dd):\n",
    "    le = LabelEncoder()\n",
    "    for col in dd.columns:\n",
    "        print(f'Column [{col}] is \"{dd[col].dtypes}\"')\n",
    "        if dd[col].dtypes in ['object']:\n",
    "            print(f'\\tencoding [{col}]....')\n",
    "            dd[col] = le.fit_transform(dd[col])\n",
    "        else: pass\n",
    "    print('[Label encoding done.]')\n",
    "    print(\"\\n1. Keys\")\n",
    "    print(dd.columns)\n",
    "    print(\"\\n2. Shape\")\n",
    "    print(dd.shape)\n",
    "    print(\"\\n3. Head\")\n",
    "    print(dd.head(5))\n",
    "\n",
    "    return dd"
   ]
  },
  {
   "cell_type": "code",
   "execution_count": null,
   "metadata": {
    "ExecuteTime": {
     "end_time": "2020-11-10T07:23:11.527704Z",
     "start_time": "2020-11-10T07:23:02.617Z"
    }
   },
   "outputs": [],
   "source": [
    "# for d in [train, test]:    \n",
    "#     lable_encode_df(d)\n",
    "# #     plot_histogram(d)\n",
    "\n",
    "# train.info()"
   ]
  },
  {
   "cell_type": "code",
   "execution_count": null,
   "metadata": {
    "ExecuteTime": {
     "end_time": "2020-11-10T07:23:11.528703Z",
     "start_time": "2020-11-10T07:23:02.621Z"
    }
   },
   "outputs": [],
   "source": [
    "train['workclass'].unique()"
   ]
  },
  {
   "cell_type": "code",
   "execution_count": null,
   "metadata": {
    "ExecuteTime": {
     "end_time": "2020-11-10T07:23:11.529699Z",
     "start_time": "2020-11-10T07:23:02.625Z"
    }
   },
   "outputs": [],
   "source": [
    "#### 순서를 내가 정해줄 경우\n",
    "class_to_num = dict(zip(train['workclass'].unique() , range(0,10))) # range 대신 리스트에 내가 원하는 숫자를 넣자.\n",
    "\n",
    "train['???'] = train['workclass'].map(class_to_num)"
   ]
  },
  {
   "cell_type": "code",
   "execution_count": null,
   "metadata": {
    "ExecuteTime": {
     "end_time": "2020-11-10T07:23:11.530736Z",
     "start_time": "2020-11-10T07:23:02.629Z"
    }
   },
   "outputs": [],
   "source": [
    "train['???'].unique()"
   ]
  },
  {
   "cell_type": "code",
   "execution_count": null,
   "metadata": {},
   "outputs": [],
   "source": []
  },
  {
   "cell_type": "markdown",
   "metadata": {},
   "source": [
    "### PCA\n",
    "- pca는 st sclae 먼저 하고 하는거다"
   ]
  },
  {
   "cell_type": "code",
   "execution_count": null,
   "metadata": {},
   "outputs": [],
   "source": []
  },
  {
   "cell_type": "code",
   "execution_count": null,
   "metadata": {},
   "outputs": [],
   "source": []
  },
  {
   "cell_type": "code",
   "execution_count": 80,
   "metadata": {
    "ExecuteTime": {
     "end_time": "2020-11-10T07:40:05.674792Z",
     "start_time": "2020-11-10T07:40:05.669756Z"
    }
   },
   "outputs": [],
   "source": [
    "from sklearn.decomposition import PCA\n",
    "pca = PCA(n_components=60, svd_solver='full')"
   ]
  },
  {
   "cell_type": "code",
   "execution_count": 86,
   "metadata": {
    "ExecuteTime": {
     "end_time": "2020-11-10T07:42:47.213039Z",
     "start_time": "2020-11-10T07:42:47.197315Z"
    }
   },
   "outputs": [
    {
     "name": "stdout",
     "output_type": "stream",
     "text": [
      "object_columns: ['workclass', 'education', 'marital_status', 'occupation', 'relationship', 'race', 'sex', 'native_country']\n",
      "numerical_columns: ['age', 'fnlwgt', 'education_num', 'capital_gain', 'capital_loss', 'hours_per_week', 'income', 'value']\n"
     ]
    }
   ],
   "source": [
    "object_columns, numerical_columns = object_col(train)"
   ]
  },
  {
   "cell_type": "code",
   "execution_count": null,
   "metadata": {
    "ExecuteTime": {
     "end_time": "2020-11-10T07:23:11.531702Z",
     "start_time": "2020-11-10T07:23:02.639Z"
    }
   },
   "outputs": [],
   "source": [
    "dummied = pd.get_dummies(train, columns= object_columns)\n",
    "dummied = dummied.drop(columns=['income_<=50K', 'income_>50K'])"
   ]
  },
  {
   "cell_type": "code",
   "execution_count": null,
   "metadata": {
    "ExecuteTime": {
     "end_time": "2020-11-10T07:23:11.532704Z",
     "start_time": "2020-11-10T07:23:02.643Z"
    }
   },
   "outputs": [],
   "source": [
    "X_train_std =  st_scaler.fit_transform(dummied)\n",
    "X_train_pca = pca.fit_transform(X_train_std)"
   ]
  },
  {
   "cell_type": "code",
   "execution_count": null,
   "metadata": {
    "ExecuteTime": {
     "end_time": "2020-11-10T07:23:11.535712Z",
     "start_time": "2020-11-10T07:23:02.647Z"
    }
   },
   "outputs": [],
   "source": [
    "pca.explatined_varienceEEe"
   ]
  },
  {
   "cell_type": "markdown",
   "metadata": {},
   "source": [
    "### Min Max Scaler\n",
    "- fit 할때 마다 통계치가 갱신되기 때문에 걱정 ㄴㄴ, 벗 걱정되면 두개 만들어라?"
   ]
  },
  {
   "cell_type": "code",
   "execution_count": 87,
   "metadata": {
    "ExecuteTime": {
     "end_time": "2020-11-10T07:43:36.747855Z",
     "start_time": "2020-11-10T07:43:36.736841Z"
    }
   },
   "outputs": [],
   "source": [
    "mm_scaler = MinMaxScaler()\n",
    "train['mm_fnlwgt'] = mm_scaler.fit_transform(train['fnlwgt'].values.reshape(-1,1))\n",
    "train.drop('fnlwgt', axis = 1, inplace = True)\n",
    "\n",
    "train.mm_fnlwgt.value_counts().sort_index(ascending = False)"
   ]
  },
  {
   "cell_type": "code",
   "execution_count": null,
   "metadata": {},
   "outputs": [],
   "source": []
  },
  {
   "cell_type": "markdown",
   "metadata": {},
   "source": [
    "### Categorical to Dummy Encoding"
   ]
  },
  {
   "cell_type": "code",
   "execution_count": null,
   "metadata": {
    "ExecuteTime": {
     "end_time": "2020-11-10T07:23:11.537704Z",
     "start_time": "2020-11-10T07:23:02.668Z"
    }
   },
   "outputs": [],
   "source": [
    "def convert_categorical_to_dummies(d_convert):\n",
    "#   \n",
    "#     Author: Abhijeet Kumar\n",
    "#     Description: returns Dataframe with all categorical variables converted into dummies\n",
    "#     Arguments: Dataframe (having categorical variables)\n",
    "#  \n",
    " \n",
    "    df = d_convert.copy()\n",
    "    list_to_drop = []\n",
    "    for col in df.columns:\n",
    "        if df[col].dtype == 'object':\n",
    "            list_to_drop.append(col)\n",
    "            df = pd.concat([df,pd.get_dummies(df[col],prefix=col,prefix_sep='_', drop_first=False)], axis=1)\n",
    "            df = df.drop(list_to_drop,axis=1)\n",
    "    return df"
   ]
  },
  {
   "cell_type": "code",
   "execution_count": null,
   "metadata": {
    "ExecuteTime": {
     "end_time": "2020-11-10T07:23:11.537704Z",
     "start_time": "2020-11-10T07:23:02.672Z"
    }
   },
   "outputs": [],
   "source": [
    "list"
   ]
  },
  {
   "cell_type": "code",
   "execution_count": null,
   "metadata": {
    "ExecuteTime": {
     "end_time": "2020-11-10T07:23:11.538704Z",
     "start_time": "2020-11-10T07:23:02.677Z"
    }
   },
   "outputs": [],
   "source": [
    "convert_categorical_to_dummies(train)\n",
    "convert_categorical_to_dummies(test)"
   ]
  },
  {
   "cell_type": "markdown",
   "metadata": {},
   "source": [
    "### OHE?"
   ]
  },
  {
   "cell_type": "code",
   "execution_count": null,
   "metadata": {
    "ExecuteTime": {
     "end_time": "2020-11-10T07:23:11.539704Z",
     "start_time": "2020-11-10T07:23:02.682Z"
    }
   },
   "outputs": [],
   "source": [
    "oe = OneHotEncoder()\n",
    "oe_result = oe.fit_transform(train['workclass'].values.reshape(-1,1))\n",
    "sub = pd.DataFrame(data = oe_result.toarray(), columns = oe.get_feature_names(['workclass']))\n",
    "pd.concat([train, sub], axis=1)"
   ]
  },
  {
   "cell_type": "markdown",
   "metadata": {},
   "source": [
    "### Corr 재확인"
   ]
  },
  {
   "cell_type": "code",
   "execution_count": null,
   "metadata": {
    "ExecuteTime": {
     "end_time": "2020-11-10T07:23:11.540713Z",
     "start_time": "2020-11-10T07:23:02.687Z"
    }
   },
   "outputs": [],
   "source": [
    "sns.heatmap(train.corr(), annot = True, square = True, linewidth = 0.2, cmap = 'coolwarm', vmax = 1.0, vmin = -1.0)"
   ]
  },
  {
   "cell_type": "code",
   "execution_count": null,
   "metadata": {
    "ExecuteTime": {
     "end_time": "2020-11-10T07:23:11.540713Z",
     "start_time": "2020-11-10T07:23:02.690Z"
    }
   },
   "outputs": [],
   "source": [
    "train.info()"
   ]
  },
  {
   "cell_type": "code",
   "execution_count": null,
   "metadata": {
    "ExecuteTime": {
     "end_time": "2020-11-10T07:23:11.541703Z",
     "start_time": "2020-11-10T07:23:02.695Z"
    }
   },
   "outputs": [],
   "source": [
    "break"
   ]
  },
  {
   "cell_type": "markdown",
   "metadata": {},
   "source": [
    "## 모델링"
   ]
  },
  {
   "cell_type": "markdown",
   "metadata": {},
   "source": [
    "### train test split"
   ]
  },
  {
   "cell_type": "code",
   "execution_count": null,
   "metadata": {
    "ExecuteTime": {
     "end_time": "2020-11-10T07:23:11.541703Z",
     "start_time": "2020-11-10T07:23:02.700Z"
    }
   },
   "outputs": [],
   "source": [
    "X = train.drop('income', axis = 1)\n",
    "y = train['income']"
   ]
  },
  {
   "cell_type": "code",
   "execution_count": null,
   "metadata": {
    "ExecuteTime": {
     "end_time": "2020-11-10T07:23:11.542706Z",
     "start_time": "2020-11-10T07:23:02.703Z"
    }
   },
   "outputs": [],
   "source": [
    "X_train, X_test, y_train, y_test = train_test_split(X, y, test_size=0.2, shuffle = True, random_state=11)"
   ]
  },
  {
   "cell_type": "code",
   "execution_count": null,
   "metadata": {
    "ExecuteTime": {
     "end_time": "2020-11-10T07:23:11.544705Z",
     "start_time": "2020-11-10T07:23:02.707Z"
    }
   },
   "outputs": [],
   "source": [
    "X_train"
   ]
  },
  {
   "cell_type": "code",
   "execution_count": null,
   "metadata": {
    "ExecuteTime": {
     "end_time": "2020-11-10T07:23:11.545711Z",
     "start_time": "2020-11-10T07:23:02.712Z"
    }
   },
   "outputs": [],
   "source": [
    "X_test"
   ]
  },
  {
   "cell_type": "code",
   "execution_count": null,
   "metadata": {
    "ExecuteTime": {
     "end_time": "2020-11-10T07:23:11.545711Z",
     "start_time": "2020-11-10T07:23:02.716Z"
    }
   },
   "outputs": [],
   "source": [
    "print(f'X_train: {X_train.shape}')\n",
    "print(f'X_test: {X_test.shape}')\n",
    "print(f'y_train: {y_train.shape}')\n",
    "print(f'y_test: {y_test.shape}')"
   ]
  },
  {
   "cell_type": "markdown",
   "metadata": {},
   "source": [
    "#### Stratified"
   ]
  },
  {
   "cell_type": "code",
   "execution_count": null,
   "metadata": {
    "ExecuteTime": {
     "end_time": "2020-11-10T07:23:11.546705Z",
     "start_time": "2020-11-10T07:23:02.721Z"
    }
   },
   "outputs": [],
   "source": [
    "# stratified = StratifiedKFold(n_splits=10, shuffle=True, random_state= 0)"
   ]
  },
  {
   "cell_type": "markdown",
   "metadata": {
    "ExecuteTime": {
     "end_time": "2020-11-03T07:36:07.759793Z",
     "start_time": "2020-11-03T07:36:07.754825Z"
    }
   },
   "source": [
    "### Pycaret"
   ]
  },
  {
   "cell_type": "code",
   "execution_count": null,
   "metadata": {
    "ExecuteTime": {
     "end_time": "2020-11-10T07:23:11.547699Z",
     "start_time": "2020-11-10T07:23:02.726Z"
    }
   },
   "outputs": [],
   "source": [
    "# from pycaret.classification import *\n",
    "\n",
    "# clf = setup(data = train, target = 'income', silent = True)\n",
    "\n",
    "# best_3 = compare_models(sort = 'F1', n_select = 3)\n",
    "\n",
    "# best_3\n",
    "\n",
    "# blended = blend_models(estimator_list = best_3, fold = 5, method = 'soft')\n",
    "\n",
    "# pred_holdout = predict_model(blended)\n",
    "\n",
    "# final_model = finalize_model(blended)\n",
    "\n",
    "# print(train)\n",
    "# print(test)\n",
    "\n",
    "# pycaret_pred = predict_model(final_model, data = test)\n",
    "\n",
    "# pycaet_pred"
   ]
  },
  {
   "cell_type": "markdown",
   "metadata": {},
   "source": [
    "### Random Forest Clf"
   ]
  },
  {
   "cell_type": "code",
   "execution_count": null,
   "metadata": {
    "ExecuteTime": {
     "end_time": "2020-11-10T07:23:11.548704Z",
     "start_time": "2020-11-10T07:23:02.730Z"
    }
   },
   "outputs": [],
   "source": [
    "# rf_clf = RandomForestClassifier(\n",
    "#     random_state=1105,\n",
    "#     n_jobs=-1,\n",
    "#     n_estimators= 300,\n",
    "#     criterion='gini',\n",
    "#     max_depth=40,\n",
    "#     min_samples_split=2,\n",
    "#     min_samples_leaf= 40,\n",
    "#     min_weight_fraction_leaf=0.0,\n",
    "#     max_features='auto',\n",
    "#     max_leaf_nodes=None,\n",
    "#     min_impurity_decrease=0.0,\n",
    "#     min_impurity_split=None,\n",
    "#     bootstrap=True,\n",
    "# )\n",
    "# rf_clf.fit(X_train, y_train)\n",
    "# rf_pred = rf_clf.predict(X_test)\n",
    "\n",
    "# print('Random forest f1 score:{0:.4f}'.format(f1_score(y_test, rf_pred)))\n",
    "# print('Random forest acc:{0:.4f}'.format(accuracy_score(y_test, rf_pred)))"
   ]
  },
  {
   "cell_type": "code",
   "execution_count": null,
   "metadata": {
    "ExecuteTime": {
     "end_time": "2020-11-10T07:23:11.549705Z",
     "start_time": "2020-11-10T07:23:02.734Z"
    }
   },
   "outputs": [],
   "source": [
    "# params = {\n",
    "#     'n_estimators': [300],\n",
    "#     'max_depth': [7, 8, 9],\n",
    "#     'min_samples_leaf': [2, 4, 8, 12],\n",
    "#     'min_samples_split': [4, 6, 8, 16, 20]\n",
    "# }"
   ]
  },
  {
   "cell_type": "code",
   "execution_count": null,
   "metadata": {
    "ExecuteTime": {
     "end_time": "2020-11-10T07:23:11.549705Z",
     "start_time": "2020-11-10T07:23:02.738Z"
    }
   },
   "outputs": [],
   "source": [
    "# start_time = time.time()\n",
    "\n",
    "# grid_cv = GridSearchCV(rf_clf , param_grid = params , cv = 5, n_jobs= -1 )\n",
    "# grid_cv.fit(X_train , y_train)\n",
    "\n",
    "# print('최적 하이퍼 파라미터:', grid_cv.best_params_)\n",
    "# print('최고 예측 정확도: {0:.4f}'.format(grid_cv.best_score_))\n",
    "# print(\"걸린 시간(초) :\", time.time() - start_time)\n",
    "\n",
    "# model = grid_cv. best_estimator_\n",
    "# predictions = model.predict(X_test)\n",
    "# accuracy = accuracy_score(y_test, predictions)\n",
    "# print('테스트 세트에서의 정확도 : {0:.4f}'.format(accuracy))"
   ]
  },
  {
   "cell_type": "markdown",
   "metadata": {
    "ExecuteTime": {
     "end_time": "2020-11-02T06:40:28.232529Z",
     "start_time": "2020-11-02T06:40:28.228531Z"
    }
   },
   "source": [
    "### Dummy Clf"
   ]
  },
  {
   "cell_type": "code",
   "execution_count": null,
   "metadata": {
    "ExecuteTime": {
     "end_time": "2020-11-10T07:23:11.552702Z",
     "start_time": "2020-11-10T07:23:02.744Z"
    }
   },
   "outputs": [],
   "source": [
    "y_train"
   ]
  },
  {
   "cell_type": "code",
   "execution_count": null,
   "metadata": {
    "ExecuteTime": {
     "end_time": "2020-11-10T07:23:11.553708Z",
     "start_time": "2020-11-10T07:23:02.748Z"
    }
   },
   "outputs": [],
   "source": [
    "from sklearn.dummy import DummyClassifier\n",
    "\n",
    "import numpy as np\n",
    "\n",
    "\n",
    "\n",
    "dummy_majority = DummyClassifier(strategy='most_frequent')\n",
    "\n",
    "dummy_majority.fit(X_train, y_train)\n",
    "\n",
    "pred_most_frequent = dummy_majority.predict(X_test)\n",
    "\n",
    "print('예측된 유니크 레이블 ==> {}'.format(np.unique(pred_most_frequent)))\n",
    "\n",
    "print(\"\\naccuracy_score: {0:.4f}\".format(accuracy_score(y_test, pred_most_frequent)))\n",
    "print(\"f1_score: {0:.4f}\".format(f1_score(y_test, pred_most_frequent)))\n",
    "print(\"precision_score: {0:.4f}\".format(precision_score(y_test, pred_most_frequent)))\n",
    "# print(\"AUC: Area Under Curve: {0:.4f}\".format(roc_auc_score(y_test, pred_most_frequent[:, 1])))\n",
    "\n",
    "print(\"\\nClassificcation Report: \\n{}\".format(classification_report(y_test, pred_most_frequent)))\n",
    "# print(\"Confusition matrix: \\n{}\".format(confusion_matrix(y_test, pred_most_frequent)))"
   ]
  },
  {
   "cell_type": "markdown",
   "metadata": {},
   "source": [
    "### Log Regret"
   ]
  },
  {
   "cell_type": "code",
   "execution_count": null,
   "metadata": {
    "ExecuteTime": {
     "end_time": "2020-11-10T07:23:11.554705Z",
     "start_time": "2020-11-10T07:23:02.753Z"
    }
   },
   "outputs": [],
   "source": [
    "def Find_threshold(model, X_test, y_test):\n",
    "    thresholds = np.arange(0,1,0.05)\n",
    "    threshold_count = []\n",
    "    pred_proba=model.predict_proba(X_test)\n",
    "    pred_proba_1 = pred_proba[:,1].reshape(-1,1)\n",
    "    for threshold in thresholds:\n",
    "        binarizer = Binarizer(threshold=threshold)\n",
    "        model_cl_pred = binarizer.transform(pred_proba_1)\n",
    "        threshold_count.append([threshold, metrics.f1_score(model_cl_pred, y_test)])\n",
    "\n",
    "    MAX=thresholds[np.array(threshold_count)[:,1].argmax()]\n",
    "    \n",
    "    thresholds = np.arange(MAX-0.05,MAX+0.05,0.005)\n",
    "    threshold_count = []\n",
    "    for threshold in thresholds:\n",
    "        binarizer = Binarizer(threshold=threshold)\n",
    "        model_cl_pred = binarizer.transform(pred_proba_1)\n",
    "        #threshold_count.append([threshold, metrics.f1_score(log_cl_pred, y_test)])\n",
    "        #print('threshold: {0:.4f}, f1_score: {1:.4f}'.format(threshold,metrics.f1_score(model_cl_pred, y_test)))\n",
    "        threshold_count.append([threshold, metrics.f1_score(model_cl_pred, y_test)])\n",
    "    \n",
    "    return np.round(thresholds[np.array(threshold_count)[:,1].argmax()],4), np.round(metrics.f1_score(Binarizer(threshold=thresholds[np.array(threshold_count)[:,1].argmax()]).transform(pred_proba_1), y_test),4)"
   ]
  },
  {
   "cell_type": "code",
   "execution_count": null,
   "metadata": {},
   "outputs": [],
   "source": []
  },
  {
   "cell_type": "code",
   "execution_count": null,
   "metadata": {},
   "outputs": [],
   "source": []
  },
  {
   "cell_type": "code",
   "execution_count": null,
   "metadata": {},
   "outputs": [],
   "source": []
  },
  {
   "cell_type": "code",
   "execution_count": null,
   "metadata": {},
   "outputs": [],
   "source": []
  },
  {
   "cell_type": "code",
   "execution_count": null,
   "metadata": {},
   "outputs": [],
   "source": []
  },
  {
   "cell_type": "markdown",
   "metadata": {
    "ExecuteTime": {
     "end_time": "2020-10-29T01:11:07.123826Z",
     "start_time": "2020-10-29T01:11:07.114841Z"
    }
   },
   "source": [
    "### LGBM Clf"
   ]
  },
  {
   "cell_type": "markdown",
   "metadata": {},
   "source": [
    "#### Baseline"
   ]
  },
  {
   "cell_type": "code",
   "execution_count": null,
   "metadata": {
    "ExecuteTime": {
     "end_time": "2020-11-10T07:23:11.555703Z",
     "start_time": "2020-11-10T07:23:02.768Z"
    }
   },
   "outputs": [],
   "source": [
    "lgbm = LGBMClassifier(\n",
    "                    boosting_type = 'gbdt',\n",
    "#                       n_estimators= 300,\n",
    "#                       learning_rate=0.03,\n",
    "#                       min_child_samples= 30,\n",
    "#                       num_leaves= 40,\n",
    "                      max_depth= -1,\n",
    "#                       random_state=1105\n",
    "                )\n",
    "start_time = time.time()\n",
    "\n",
    "## Stratified K Fold ##\n",
    "\n",
    "score = cross_val_score(lgbm, X_train, y_train, scoring = 'f1', cv = 10)\n",
    "print(score)\n",
    "print(score.mean())\n",
    "\n",
    "lgbm.fit(X_train,\n",
    "         y_train,\n",
    "         early_stopping_rounds=500,\n",
    "         eval_metric='acc',\n",
    "         eval_set=[(X_train, y_train),(X_test, y_test)],\n",
    "         verbose= 50\n",
    "            )\n",
    "lgbm_pred = lgbm.predict(X_test)\n",
    "lgbm_pred_proba = lgbm.predict_proba(X_test)\n",
    "\n",
    "print(\"\\naccuracy_score: {0:.4f}\".format(accuracy_score(y_test, lgbm_pred)))\n",
    "print(\"f1_score: {0:.4f}\".format(f1_score(y_test, lgbm_pred, average = 'micro')))\n",
    "print(\"precision_score: {0:.4f}\".format(precision_score(y_test, lgbm_pred)))\n",
    "print(\"AUC: Area Under Curve: {0:.4f}\".format(roc_auc_score(y_test, lgbm_pred_proba[:, 1])))\n",
    "\n",
    "print(\"\\nClassificcation Report: \\n{}\".format(classification_report(y_test, lgbm_pred)))\n",
    "print(\"Confusition matrix: \\n{}\".format(confusion_matrix(y_test, lgbm_pred)))\n",
    "\n",
    "print('\\nLGBM 수행 시간: {0:.1f} 초'.format(time.time() - start_time))"
   ]
  },
  {
   "cell_type": "markdown",
   "metadata": {},
   "source": [
    "#### GridCV tuning"
   ]
  },
  {
   "cell_type": "code",
   "execution_count": null,
   "metadata": {
    "ExecuteTime": {
     "end_time": "2020-11-10T07:23:11.556703Z",
     "start_time": "2020-11-10T07:23:02.772Z"
    }
   },
   "outputs": [],
   "source": [
    "# LGBM Regressor params\n",
    "params_full = {\n",
    "    'n_estimators': [2000, 4000],\n",
    "    \"num_leaves\": [10, 15, 20, 30],\n",
    "    \"learning_rate\": [0.03, 0.05, 0.1],\n",
    "    \"bagging_fraction\": [0.5, 0.6, 0.7, 0.8],\n",
    "    \"bagging_seed\": [0],\n",
    "    \"num_threads\": [2, 4, 8],\n",
    "    \"colsample_bytree\": [0.7],\n",
    "    # \"device\" : \"gpu\"\n",
    "}\n",
    "\n",
    "params = {\n",
    "    'n_estimators': [2000, 4000],\n",
    "    'learning_rate': [0.03],\n",
    "    # 'min_child_samples' : [1, 3, 5, 20],\n",
    "    'num_leaves': [20, 30],\n",
    "    #     \"num_threads\": [4],\n",
    "    'max_depth': [10, 15, 20],\n",
    "    \"bagging_fraction\": [0.5, 0.6],\n",
    "}\n",
    "\n",
    "params2 = {'n_estimators': [1000,],\n",
    "           'learning_rate': [0.03, 0.01],\n",
    "           'min_child_samples': [10],\n",
    "           'num_leaves': [30],\n",
    "           'max_depth': [40, 50],\n",
    "           'subsample': [0.6, 0.7, 0.8, 0.9],\n",
    "           }\n",
    "\n",
    "\n",
    "# fit_params = {\n",
    "# #     \"early_stopping_rounds\": [100],\n",
    "#     \"eval_metric\": \"acc\",\n",
    "#     \"eval_set\": [(X_train, y_train),(X_test, y_test)]\n",
    "# }"
   ]
  },
  {
   "cell_type": "code",
   "execution_count": null,
   "metadata": {
    "ExecuteTime": {
     "end_time": "2020-11-10T07:23:11.557703Z",
     "start_time": "2020-11-10T07:23:02.776Z"
    }
   },
   "outputs": [],
   "source": [
    "# LGBM Regressor + GridSearchCV\n",
    "start_time = time.time()\n",
    "lgbm_clf = LGBMClassifier()\n",
    "lgbm_grid = GridSearchCV(lgbm_clf,\n",
    "                       param_grid=params2,\n",
    "                       cv=5,\n",
    "                       verbose=50,\n",
    "                       n_jobs=-1)\n",
    "lgbm_grid.fit(X_train,\n",
    "            y_train,\n",
    "            early_stopping_rounds=100,\n",
    "            eval_set=[(X_train, y_train), (X_test, y_test)],\n",
    "            eval_metric='f1'\n",
    "           )"
   ]
  },
  {
   "cell_type": "code",
   "execution_count": null,
   "metadata": {
    "ExecuteTime": {
     "end_time": "2020-11-10T07:23:11.559701Z",
     "start_time": "2020-11-10T07:23:02.780Z"
    }
   },
   "outputs": [],
   "source": [
    "# grid_cv"
   ]
  },
  {
   "cell_type": "code",
   "execution_count": null,
   "metadata": {
    "ExecuteTime": {
     "end_time": "2020-11-10T07:23:11.560702Z",
     "start_time": "2020-11-10T07:23:02.784Z"
    }
   },
   "outputs": [],
   "source": [
    "print('최적 하이퍼 파라미터:\\n', lgbm_grid.best_params_)\n",
    "print('최고 예측 정확도: {0:.4f}'.format(lgbm_grid.best_score_))\n",
    "print(\"LGBM 수행 시간: {0:.1f} 초 \".format(time.time() - start_time))\n",
    "\n",
    "lgbm_grid_pred = lgbm_grid.best_estimator_.predict(X_test)\n",
    "lgbm_grid_f1 = f1_score(y_test, lgbm_grid_pred)\n",
    "lgbm_grid_acc = accuracy_score(y_test, lgbm_grid_pred)\n",
    "# lgbm_grid.pred_proba()\n",
    "\n",
    "print('테스트 세트에서의 LGBM acc: {0:.4f}'.format(lgbm_grid_acc))\n",
    "print('테스트 세트에서의 LGBM f1 score: {0:.4f}'.format(lgbm_grid_f1))\n",
    "\n",
    "print(\"\\naccuracy_score: {0:.4f}\".format(accuracy_score(y_test, lgbm_grid_pred)))\n",
    "\n",
    "print(\"f1_score: {0:.4f}\".format(f1_score(y_test, lgbm_grid_pred)))\n",
    "print(\"precision_score: {0:.4f}\".format(precision_score(y_test, lgbm_grid_pred)))\n",
    "# print(\"AUC: Area Under Curve: {0:.4f}\".format(roc_auc_score(y_test, lgbm_pred_proba[:, 1])))\n",
    "\n",
    "print(\"\\nClassificcation Report: \\n{}\".format(classification_report(y_test, lgbm_grid_pred)))\n",
    "print(\"Confusition matrix: \\n{}\".format(confusion_matrix(y_test, lgbm_grid_pred)))"
   ]
  },
  {
   "cell_type": "markdown",
   "metadata": {},
   "source": [
    "#### GridCV history\n",
    "1. LGBM / cv: 10 (non STR) / gridCV / Workclass portion /\n",
    "\n",
    "    최적 하이퍼 파라미터:\n",
    "     {'learning_rate': 0.01,\n",
    "     'max_depth': 50, \n",
    "     'min_child_samples': 10, \n",
    "     'n_estimators': 1000, \n",
    "     'num_leaves': 30,\n",
    "     'random_state': 11}\n",
    "\n",
    "    accuracy_score: 0.8843\n",
    "    f1_score: 0.7250\n",
    "    precision_score: 0.7903\n",
    "\n",
    "    Classificcation Report: \n",
    "                  precision    recall  f1-score   support\n",
    "\n",
    "               0       0.91      0.95      0.93      4023\n",
    "               1       0.79      0.67      0.73      1187\n",
    "\n",
    "        accuracy                           0.88      5210\n",
    "       macro avg       0.85      0.81      0.83      5210\n",
    "    weighted avg       0.88      0.88      0.88      5210\n",
    "\n",
    "    Confusition matrix: \n",
    "    [[3812  211]\n",
    "     [ 392  795]]"
   ]
  },
  {
   "cell_type": "markdown",
   "metadata": {
    "ExecuteTime": {
     "end_time": "2020-11-03T10:25:02.928509Z",
     "start_time": "2020-11-03T10:25:02.923473Z"
    }
   },
   "source": [
    "#### Feature Importance"
   ]
  },
  {
   "cell_type": "code",
   "execution_count": null,
   "metadata": {
    "ExecuteTime": {
     "end_time": "2020-11-10T07:23:11.561701Z",
     "start_time": "2020-11-10T07:23:02.789Z"
    }
   },
   "outputs": [],
   "source": [
    "ftr_importances_values = lgbm_grid.best_estimator_.feature_importances_\n",
    "\n",
    "# Top 중요도로 정렬을 쉽게 하고, 시본(Seaborn)의 막대그래프로 쉽게 표현하기 위해 Series변환\n",
    "ftr_importances = pd.Series(ftr_importances_values, index=X_train.columns)\n",
    "\n",
    "# 중요도값 순으로 Series를 정렬\n",
    "ftr_top20 = ftr_importances.sort_values(ascending=False)[:30]\n",
    "plt.figure(figsize=(8,6))\n",
    "plt.title('Feature importances Top 20')\n",
    "sns.barplot(x=ftr_top20 , y = ftr_top20.index)\n",
    "plt.show()"
   ]
  },
  {
   "cell_type": "markdown",
   "metadata": {
    "ExecuteTime": {
     "end_time": "2020-11-03T10:19:24.221482Z",
     "start_time": "2020-11-03T10:19:24.212384Z"
    }
   },
   "source": [
    "### XGBoost"
   ]
  },
  {
   "cell_type": "markdown",
   "metadata": {},
   "source": [
    "#### Baseline"
   ]
  },
  {
   "cell_type": "code",
   "execution_count": null,
   "metadata": {
    "ExecuteTime": {
     "end_time": "2020-11-10T07:23:11.562705Z",
     "start_time": "2020-11-10T07:23:02.794Z"
    }
   },
   "outputs": [],
   "source": [
    "def xgb_f1(y, t, threshold=0.5):\n",
    "    t = t.get_label()\n",
    "    y_bin = (y > threshold).astype(int) # works for both type(y) == <class 'numpy.ndarray'> and type(y) == <class 'pandas.core.series.Series'>\n",
    "    return 'f1',f1_score(t,y_bin)"
   ]
  },
  {
   "cell_type": "code",
   "execution_count": null,
   "metadata": {},
   "outputs": [],
   "source": []
  },
  {
   "cell_type": "code",
   "execution_count": null,
   "metadata": {
    "ExecuteTime": {
     "end_time": "2020-11-10T07:23:11.563702Z",
     "start_time": "2020-11-10T07:23:02.800Z"
    }
   },
   "outputs": [],
   "source": [
    "from xgboost import XGBClassifier\n",
    "xgb = XGBClassifier(n_estimators=1000,\n",
    "                    learning_rate=0.1,\n",
    "                    max_depth=15,\n",
    "                    random_state=1)\n",
    "\n",
    "start_time = time.time()\n",
    "\n",
    "## Stratified K Fold ##\n",
    "\n",
    "score = cross_val_score(xgb, X_train, y_train, scoring='f1', cv=5)\n",
    "print(score)\n",
    "print(score.mean())\n",
    "\n",
    "xgb.fit(X_train,\n",
    "        y_train,\n",
    "        early_stopping_rounds=200,\n",
    "        eval_metric='error',\n",
    "        eval_set=[(X_train, y_train), (X_test, y_test)],\n",
    "        verbose=50)\n",
    "xgb_pred = xgb.predict(X_test)\n",
    "xgb_pred_proba = xgb.predict_proba(X_test)\n",
    "\n",
    "print(\"\\naccuracy_score: {0:.4f}\".format(accuracy_score(y_test, xgb_pred)))\n",
    "print(\"f1_score: {0:.4f}\".format(f1_score(y_test, xgb_pred)))\n",
    "print(\"precision_score: {0:.4f}\".format(precision_score(y_test, xgb_pred)))\n",
    "print(\"AUC: Area Under Curve: {0:.4f}\".format(\n",
    "    roc_auc_score(y_test, xgb_pred_proba[:, 1])))\n",
    "\n",
    "print(\"\\nClassificcation Report: \\n{}\".format(\n",
    "    classification_report(y_test, xgb_pred)))\n",
    "print(\"Confusition matrix: \\n{}\".format(confusion_matrix(y_test, xgb_pred)))\n",
    "\n",
    "print('\\nxgb 수행 시간: {0:.1f} 초'.format(time.time() - start_time))"
   ]
  },
  {
   "cell_type": "markdown",
   "metadata": {},
   "source": [
    "#### GridCV tuning"
   ]
  },
  {
   "cell_type": "code",
   "execution_count": null,
   "metadata": {
    "ExecuteTime": {
     "end_time": "2020-11-10T07:23:11.565706Z",
     "start_time": "2020-11-10T07:23:02.804Z"
    }
   },
   "outputs": [],
   "source": [
    "# LGBM Regressor params\n",
    "params_full = {\n",
    "    'n_estimators': [2000, 4000],\n",
    "    \"num_leaves\": [10, 15, 20, 30],\n",
    "    \"learning_rate\": [0.03, 0.05, 0.1],\n",
    "    \"bagging_fraction\": [0.5, 0.6, 0.7, 0.8],\n",
    "    \"bagging_seed\": [0],\n",
    "    \"num_threads\": [2, 4, 8],\n",
    "    \"colsample_bytree\": [0.7],\n",
    "    # \"device\" : \"gpu\"\n",
    "}\n",
    "\n",
    "params = {\n",
    "    'n_estimators': [2000, 4000],\n",
    "    'learning_rate': [0.03],\n",
    "    # 'min_child_samples' : [1, 3, 5, 20],\n",
    "    'num_leaves': [20, 30],\n",
    "    #     \"num_threads\": [4],\n",
    "    'max_depth': [10, 15, 20],\n",
    "    \"bagging_fraction\": [0.5, 0.6],\n",
    "}\n",
    "\n",
    "params2 = {'n_estimators': [1000,],\n",
    "           'learning_rate': [0.03, 0.01],\n",
    "           'min_child_samples': [10],\n",
    "           'num_leaves': [30],\n",
    "           'max_depth': [50],\n",
    "           'random_state': [11]}\n",
    "\n",
    "\n",
    "# fit_params = {\n",
    "# #     \"early_stopping_rounds\": [100],\n",
    "#     \"eval_metric\": \"acc\",\n",
    "#     \"eval_set\": [(X_train, y_train),(X_test, y_test)]\n",
    "# }"
   ]
  },
  {
   "cell_type": "code",
   "execution_count": null,
   "metadata": {
    "ExecuteTime": {
     "end_time": "2020-11-10T07:23:11.565706Z",
     "start_time": "2020-11-10T07:23:02.808Z"
    }
   },
   "outputs": [],
   "source": [
    "# xgb Regressor + GridSearchCV\n",
    "start_time = time.time()\n",
    "xgb_clf = xgbClassifier()\n",
    "xgb_grid = GridSearchCV(xgb_clf,\n",
    "                       param_grid=params2,\n",
    "                       cv=5,\n",
    "                       verbose=50,\n",
    "                       n_jobs=-1)\n",
    "xgb_grid.fit(X_train,\n",
    "            y_train,\n",
    "            early_stopping_rounds=100,\n",
    "            eval_set=[(X_train, y_train), (X_test, y_test)],\n",
    "            eval_metric='f1'\n",
    "           )"
   ]
  },
  {
   "cell_type": "code",
   "execution_count": null,
   "metadata": {
    "ExecuteTime": {
     "end_time": "2020-11-10T07:23:11.566700Z",
     "start_time": "2020-11-10T07:23:02.813Z"
    }
   },
   "outputs": [],
   "source": [
    "print('최적 하이퍼 파라미터:\\n', xgb_grid.best_params_)\n",
    "print('최고 예측 정확도: {0:.4f}'.format(xgb_grid.best_score_))\n",
    "print(\"xgb 수행 시간: {0:.1f} 초 \".format(time.time() - start_time))\n",
    "\n",
    "xgb_grid_pred = xgb_grid.best_estimator_.predict(X_test)\n",
    "xgb_grid_f1 = f1_score(y_test, xgb_grid_pred)\n",
    "xgb_grid_acc = accuracy_score(y_test, xgb_grid_pred)\n",
    "# xgb_grid.pred_proba()\n",
    "\n",
    "print('테스트 세트에서의 xgb acc: {0:.4f}'.format(xgb_grid_acc))\n",
    "print('테스트 세트에서의 xgb f1 score: {0:.4f}'.format(xgb_grid_f1))\n",
    "\n",
    "print(\"\\naccuracy_score: {0:.4f}\".format(accuracy_score(y_test, xgb_grid_pred)))\n",
    "\n",
    "print(\"f1_score: {0:.4f}\".format(f1_score(y_test, xgb_grid_pred)))\n",
    "print(\"precision_score: {0:.4f}\".format(precision_score(y_test, xgb_grid_pred)))\n",
    "# print(\"AUC: Area Under Curve: {0:.4f}\".format(roc_auc_score(y_test, xgb_pred_proba[:, 1])))\n",
    "\n",
    "print(\"\\nClassificcation Report: \\n{}\".format(classification_report(y_test, xgb_grid_pred)))\n",
    "print(\"Confusition matrix: \\n{}\".format(confusion_matrix(y_test, xgb_grid_pred)))"
   ]
  },
  {
   "cell_type": "code",
   "execution_count": null,
   "metadata": {},
   "outputs": [],
   "source": []
  },
  {
   "cell_type": "code",
   "execution_count": null,
   "metadata": {},
   "outputs": [],
   "source": []
  },
  {
   "cell_type": "markdown",
   "metadata": {},
   "source": [
    "#### GridCV history\n",
    "1. LGBM / cv: 10 (non STR) / gridCV / Workclass portion /\n",
    "\n",
    "    최적 하이퍼 파라미터:\n",
    "     {'learning_rate': 0.01,\n",
    "     'max_depth': 50, \n",
    "     'min_child_samples': 10, \n",
    "     'n_estimators': 1000, \n",
    "     'num_leaves': 30,\n",
    "     'random_state': 11}\n",
    "\n",
    "    accuracy_score: 0.8843\n",
    "    f1_score: 0.7250\n",
    "    precision_score: 0.7903\n",
    "\n",
    "    Classificcation Report: \n",
    "                  precision    recall  f1-score   support\n",
    "\n",
    "               0       0.91      0.95      0.93      4023\n",
    "               1       0.79      0.67      0.73      1187\n",
    "\n",
    "        accuracy                           0.88      5210\n",
    "       macro avg       0.85      0.81      0.83      5210\n",
    "    weighted avg       0.88      0.88      0.88      5210\n",
    "\n",
    "    Confusition matrix: \n",
    "    [[3812  211]\n",
    "     [ 392  795]]"
   ]
  },
  {
   "cell_type": "markdown",
   "metadata": {
    "ExecuteTime": {
     "end_time": "2020-11-03T10:25:02.928509Z",
     "start_time": "2020-11-03T10:25:02.923473Z"
    }
   },
   "source": [
    "#### Feature Importance"
   ]
  },
  {
   "cell_type": "code",
   "execution_count": null,
   "metadata": {
    "ExecuteTime": {
     "end_time": "2020-11-10T07:23:11.567702Z",
     "start_time": "2020-11-10T07:23:02.822Z"
    }
   },
   "outputs": [],
   "source": [
    "ftr_importances_values = xgb_grid.feature_importances_\n",
    "\n",
    "# Top 중요도로 정렬을 쉽게 하고, 시본(Seaborn)의 막대그래프로 쉽게 표현하기 위해 Series변환\n",
    "ftr_importances = pd.Series(ftr_importances_values, index=X_train.columns)\n",
    "\n",
    "# 중요도값 순으로 Series를 정렬\n",
    "ftr_top20 = ftr_importances.sort_values(ascending=False)[:30]\n",
    "plt.figure(figsize=(8,6))\n",
    "plt.title('Feature importances Top 20')\n",
    "sns.barplot(x=ftr_top20 , y = ftr_top20.index)\n",
    "plt.show()"
   ]
  },
  {
   "cell_type": "code",
   "execution_count": null,
   "metadata": {
    "ExecuteTime": {
     "end_time": "2020-11-10T07:23:11.569705Z",
     "start_time": "2020-11-10T07:23:02.826Z"
    }
   },
   "outputs": [],
   "source": [
    "from xgboost import plot_importance, plot_tree\n",
    "\n",
    "fig, ax = plt.subplots(figsize=(10,12))\n",
    "plot_importance(xgb, ax=ax);"
   ]
  },
  {
   "cell_type": "markdown",
   "metadata": {},
   "source": [
    "## 결과"
   ]
  },
  {
   "cell_type": "code",
   "execution_count": null,
   "metadata": {
    "ExecuteTime": {
     "end_time": "2020-11-10T07:23:11.570703Z",
     "start_time": "2020-11-10T07:23:02.831Z"
    }
   },
   "outputs": [],
   "source": [
    "# submission_pred = lgbm.predict(test)\n",
    "submission_pred = grid.predict(test)"
   ]
  },
  {
   "cell_type": "code",
   "execution_count": null,
   "metadata": {
    "ExecuteTime": {
     "end_time": "2020-11-10T07:23:11.571703Z",
     "start_time": "2020-11-10T07:23:02.835Z"
    }
   },
   "outputs": [],
   "source": [
    "len(submission_pred)"
   ]
  },
  {
   "cell_type": "code",
   "execution_count": null,
   "metadata": {
    "ExecuteTime": {
     "end_time": "2020-11-10T07:23:11.572704Z",
     "start_time": "2020-11-10T07:23:02.841Z"
    }
   },
   "outputs": [],
   "source": [
    "submission_pred"
   ]
  },
  {
   "cell_type": "code",
   "execution_count": null,
   "metadata": {
    "ExecuteTime": {
     "end_time": "2020-11-10T07:23:11.573705Z",
     "start_time": "2020-11-10T07:23:02.846Z"
    }
   },
   "outputs": [],
   "source": [
    "break"
   ]
  },
  {
   "cell_type": "markdown",
   "metadata": {},
   "source": [
    "## 후처리 및 제출"
   ]
  },
  {
   "cell_type": "code",
   "execution_count": null,
   "metadata": {
    "ExecuteTime": {
     "end_time": "2020-11-10T07:23:11.574704Z",
     "start_time": "2020-11-10T07:23:02.850Z"
    }
   },
   "outputs": [],
   "source": [
    "submission['prediction'] = submission_pred\n",
    "\n",
    "submission['prediction'].value_counts()"
   ]
  },
  {
   "cell_type": "code",
   "execution_count": null,
   "metadata": {
    "ExecuteTime": {
     "end_time": "2020-11-10T07:23:11.574704Z",
     "start_time": "2020-11-10T07:23:02.854Z"
    }
   },
   "outputs": [],
   "source": [
    "submission_after = pd.merge(test_origin.copy(), submission, on = 'id')\n",
    "\n",
    "submission_after\n",
    "\n",
    "submission_after[submission_after['capital_gain'] > 6000]\n",
    "\n",
    "def func2(aa, bb):\n",
    "    if bb >= 41310:\n",
    "        return 1\n",
    "\n",
    "submission_after['new'] = submission_after.apply(lambda x: func2(x['prediction'], x['capital_gain']), axis =1)\n",
    "\n",
    "submission_after['new'].value_counts()\n",
    "\n",
    "submission2 = submission_after[['id', 'prediction']]"
   ]
  },
  {
   "cell_type": "code",
   "execution_count": null,
   "metadata": {
    "ExecuteTime": {
     "end_time": "2020-11-10T07:23:11.575703Z",
     "start_time": "2020-11-10T07:23:02.859Z"
    }
   },
   "outputs": [],
   "source": [
    "submission2['prediction'].value_counts()"
   ]
  },
  {
   "cell_type": "code",
   "execution_count": null,
   "metadata": {
    "ExecuteTime": {
     "end_time": "2020-11-10T07:23:11.576704Z",
     "start_time": "2020-11-10T07:23:02.863Z"
    }
   },
   "outputs": [],
   "source": [
    "submission.to_csv('submission.csv', index = False)"
   ]
  },
  {
   "cell_type": "code",
   "execution_count": null,
   "metadata": {
    "ExecuteTime": {
     "end_time": "2020-11-10T07:23:11.577703Z",
     "start_time": "2020-11-10T07:23:02.866Z"
    }
   },
   "outputs": [],
   "source": [
    "print(os.getcwd())\n",
    "os.listdir(os.getcwd())"
   ]
  },
  {
   "cell_type": "code",
   "execution_count": null,
   "metadata": {
    "ExecuteTime": {
     "end_time": "2020-11-10T07:23:11.578703Z",
     "start_time": "2020-11-10T07:23:02.871Z"
    }
   },
   "outputs": [],
   "source": [
    "submission"
   ]
  },
  {
   "cell_type": "code",
   "execution_count": null,
   "metadata": {
    "ExecuteTime": {
     "end_time": "2020-11-10T07:23:11.579704Z",
     "start_time": "2020-11-10T07:23:02.875Z"
    }
   },
   "outputs": [],
   "source": [
    "history = pd.DataFrame({})"
   ]
  },
  {
   "cell_type": "code",
   "execution_count": null,
   "metadata": {},
   "outputs": [],
   "source": []
  },
  {
   "cell_type": "code",
   "execution_count": null,
   "metadata": {},
   "outputs": [],
   "source": []
  },
  {
   "cell_type": "code",
   "execution_count": null,
   "metadata": {
    "ExecuteTime": {
     "end_time": "2020-11-10T07:23:11.580705Z",
     "start_time": "2020-11-10T07:23:02.883Z"
    }
   },
   "outputs": [],
   "source": [
    "ans = pd.DataFrame()\n",
    "for col in columns:\n",
    "    for value in train[col].value_counts().index.tolist():\n",
    "        if (train[train[col] == value]['income'].nunique() == 1) &\\\n",
    "        (train[train[col] == value]['income'].value_counts().values[0] >= 2):\n",
    "            count = train[train[col] == value]['income'].value_counts().values[0]\n",
    "            income = train[train[col] == value]['income'].value_counts().index[0]\n",
    "            ans = ans.append(pd.DataFrame({'column' : [col], 'value' : [value],\\\n",
    "                                          'income' : [income], 'count' : [count]}))          \n",
    "ans = ans.reset_index(drop = True)\n",
    "# income 제거\n",
    "ans.drop([3040, 3041], axis = 0, inplace = True)\n",
    "# income 변수 라벨링\n",
    "ans['income'] = ans['income'].apply(lambda x: 0 if x == '<=50K' else 1)"
   ]
  }
 ],
 "metadata": {
  "hide_input": false,
  "kernelspec": {
   "display_name": "Python 3",
   "language": "python",
   "name": "python3"
  },
  "language_info": {
   "codemirror_mode": {
    "name": "ipython",
    "version": 3
   },
   "file_extension": ".py",
   "mimetype": "text/x-python",
   "name": "python",
   "nbconvert_exporter": "python",
   "pygments_lexer": "ipython3",
   "version": "3.8.3"
  },
  "toc": {
   "base_numbering": 1,
   "nav_menu": {},
   "number_sections": true,
   "sideBar": true,
   "skip_h1_title": true,
   "title_cell": "Table of Contents",
   "title_sidebar": "Contents",
   "toc_cell": false,
   "toc_position": {
    "height": "697px",
    "left": "149px",
    "top": "125px",
    "width": "189px"
   },
   "toc_section_display": true,
   "toc_window_display": true
  },
  "varInspector": {
   "cols": {
    "lenName": 16,
    "lenType": 16,
    "lenVar": 40
   },
   "kernels_config": {
    "python": {
     "delete_cmd_postfix": "",
     "delete_cmd_prefix": "del ",
     "library": "var_list.py",
     "varRefreshCmd": "print(var_dic_list())"
    },
    "r": {
     "delete_cmd_postfix": ") ",
     "delete_cmd_prefix": "rm(",
     "library": "var_list.r",
     "varRefreshCmd": "cat(var_dic_list()) "
    }
   },
   "types_to_exclude": [
    "module",
    "function",
    "builtin_function_or_method",
    "instance",
    "_Feature"
   ],
   "window_display": false
  }
 },
 "nbformat": 4,
 "nbformat_minor": 2
}
