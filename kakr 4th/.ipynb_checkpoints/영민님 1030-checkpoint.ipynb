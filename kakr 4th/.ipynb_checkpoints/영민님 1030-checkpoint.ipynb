{
 "cells": [
  {
   "cell_type": "markdown",
   "metadata": {},
   "source": [
    "- [T-Academy X KaKr] 성인 인구조사 소득 예측 대회"
   ]
  },
  {
   "cell_type": "markdown",
   "metadata": {},
   "source": [
    "대회는 총 3개의 파일 제공합니다.\n",
    "\n",
    "- train.csv : training set. 훈련용 데이터\n",
    "- test.csv : test set, 제출용 데이터\n",
    "- submission_example.csv : 제출파일 예시\n",
    "- 데이터 세부 설명\n",
    "- train/test는 14개의 columns으로 구성되어 있고, train은 예측해야 하는 target 값 feature까지 1개가 추가로 있습니다. 각 데이터는 다음을 의미합니다.\n",
    "\n",
    "- id\n",
    "- age : 나이\n",
    "- workclass : 고용 형태\n",
    "- fnlwgt : 사람 대표성을 나타내는 가중치 (final weight의 약자) 해당 대상이 전체를 얼마나 대표하고 있는지에 대한 가중치\n",
    "- education : 교육 수준\n",
    "- education_num : 교육 수준 수치\n",
    "- marital_status: 결혼 상태\n",
    "- occupation : 업종\n",
    "- relationship : 가족 관계\n",
    "- race : 인종\n",
    "- sex : 성별\n",
    "- capital_gain : 양도 소득\n",
    "- capital_loss : 양도 손실\n",
    "- hours_per_week : 주당 근무 시간\n",
    "- native_country : 국적\n",
    "- income : 수익 (예측해야 하는 값)\n",
    "- >50K : 1\n",
    "- <=50K : 0"
   ]
  },
  {
   "cell_type": "markdown",
   "metadata": {
    "ExecuteTime": {
     "end_time": "2020-10-31T05:34:55.119503Z",
     "start_time": "2020-10-31T05:34:55.107343Z"
    }
   },
   "source": [
    "CPS (Current Population Survey) 파일의 가중치는 미국의 민간인 비 기관 인구에 대한 독립적 인 추정치로 제어됩니다. \n",
    "\n",
    "이것은 인구 조사국의 인구과에서 매월 준비합니다. 3 세트의 컨트롤을 사용합니다. \n",
    "\n",
    "이것들은:\n",
    "\n",
    "각 주에 대한 16 세 이상의 인구에 대한 단일 세포 추정치.\n",
    "\n",
    "연령 및 성별에 따른 히스패닉계에 대한 통제.\n",
    "\n",
    "인종, 연령 및 성별에 따른 통제.\n",
    "\n",
    "\n",
    "가중치 프로그램에서 세 세트의 컨트롤을 모두 사용하고 6 번 \"레이크\"하여 결국 사용했던 모든 컨트롤로 돌아갑니다.\n",
    "\n",
    "용어 추정치는 인구의 특정 사회 경제적 특성에 대한 \"가중치 계산\"을 생성하여 CPS에서 파생 된 인구 총계를 나타냅니다. \n",
    "\n",
    "비슷한 인구 통계 학적 특성을 가진 사람들은 비슷한 가중치를 가져야합니다. 이 진술에 대해 기억해야 할 중요한주의 사항이 있습니다. \n",
    "\n",
    "즉, CPS 샘플은 실제로 51 개 상태 샘플의 모음이며, 각각 고유 한 선택 확률을 가지고 있기 때문에 문은 상태 내에서만 적용됩니다."
   ]
  },
  {
   "cell_type": "code",
   "execution_count": 9,
   "metadata": {
    "ExecuteTime": {
     "end_time": "2020-10-31T05:35:31.511542Z",
     "start_time": "2020-10-31T05:35:31.494586Z"
    },
    "scrolled": true
   },
   "outputs": [],
   "source": [
    "# 데이터 분석 라이브러리\n",
    "import numpy as np\n",
    "import pandas as pd\n",
    "\n",
    "# 시각화 라이브러리\n",
    "import matplotlib as mpl\n",
    "import matplotlib.pyplot as plt\n",
    "import seaborn as sns"
   ]
  },
  {
   "cell_type": "code",
   "execution_count": 10,
   "metadata": {
    "ExecuteTime": {
     "end_time": "2020-10-31T05:35:35.707875Z",
     "start_time": "2020-10-31T05:35:31.513683Z"
    }
   },
   "outputs": [
    {
     "name": "stdout",
     "output_type": "stream",
     "text": [
      "Requirement already satisfied: lightgbm in c:\\users\\justi\\anaconda3\\lib\\site-packages (3.0.0)\n",
      "Requirement already satisfied: scikit-learn!=0.22.0 in c:\\users\\justi\\anaconda3\\lib\\site-packages (from lightgbm) (0.23.1)\n",
      "Requirement already satisfied: numpy in c:\\users\\justi\\anaconda3\\lib\\site-packages (from lightgbm) (1.18.5)\n",
      "Requirement already satisfied: scipy in c:\\users\\justi\\anaconda3\\lib\\site-packages (from lightgbm) (1.5.0)\n",
      "Requirement already satisfied: threadpoolctl>=2.0.0 in c:\\users\\justi\\anaconda3\\lib\\site-packages (from scikit-learn!=0.22.0->lightgbm) (2.1.0)\n",
      "Requirement already satisfied: joblib>=0.11 in c:\\users\\justi\\anaconda3\\lib\\site-packages (from scikit-learn!=0.22.0->lightgbm) (0.16.0)\n"
     ]
    }
   ],
   "source": [
    "!pip install lightgbm"
   ]
  },
  {
   "cell_type": "code",
   "execution_count": 16,
   "metadata": {
    "ExecuteTime": {
     "end_time": "2020-10-31T05:47:28.254010Z",
     "start_time": "2020-10-31T05:47:25.642985Z"
    }
   },
   "outputs": [
    {
     "name": "stdout",
     "output_type": "stream",
     "text": [
      "Requirement already satisfied: plotnine in c:\\users\\justi\\appdata\\roaming\\python\\python38\\site-packages (0.7.1)\n",
      "Requirement already satisfied: statsmodels>=0.11.1 in c:\\users\\justi\\anaconda3\\lib\\site-packages (from plotnine) (0.11.1)\n",
      "Requirement already satisfied: mizani>=0.7.1 in c:\\users\\justi\\appdata\\roaming\\python\\python38\\site-packages (from plotnine) (0.7.2)\n",
      "Requirement already satisfied: scipy>=1.2.0 in c:\\users\\justi\\anaconda3\\lib\\site-packages (from plotnine) (1.5.0)\n",
      "Requirement already satisfied: matplotlib>=3.1.1 in c:\\users\\justi\\anaconda3\\lib\\site-packages (from plotnine) (3.2.2)\n",
      "Requirement already satisfied: descartes>=1.1.0 in c:\\users\\justi\\appdata\\roaming\\python\\python38\\site-packages (from plotnine) (1.1.0)\n",
      "Requirement already satisfied: numpy>=1.16.0 in c:\\users\\justi\\anaconda3\\lib\\site-packages (from plotnine) (1.18.5)\n",
      "Requirement already satisfied: pandas>=1.1.0 in c:\\users\\justi\\anaconda3\\lib\\site-packages (from plotnine) (1.1.4)\n",
      "Requirement already satisfied: patsy>=0.5.1 in c:\\users\\justi\\anaconda3\\lib\\site-packages (from plotnine) (0.5.1)\n",
      "Requirement already satisfied: palettable in c:\\users\\justi\\appdata\\roaming\\python\\python38\\site-packages (from mizani>=0.7.1->plotnine) (3.3.0)\n",
      "Requirement already satisfied: python-dateutil>=2.1 in c:\\users\\justi\\anaconda3\\lib\\site-packages (from matplotlib>=3.1.1->plotnine) (2.8.1)\n",
      "Requirement already satisfied: kiwisolver>=1.0.1 in c:\\users\\justi\\anaconda3\\lib\\site-packages (from matplotlib>=3.1.1->plotnine) (1.2.0)\n",
      "Requirement already satisfied: cycler>=0.10 in c:\\users\\justi\\anaconda3\\lib\\site-packages (from matplotlib>=3.1.1->plotnine) (0.10.0)\n",
      "Requirement already satisfied: pyparsing!=2.0.4,!=2.1.2,!=2.1.6,>=2.0.1 in c:\\users\\justi\\anaconda3\\lib\\site-packages (from matplotlib>=3.1.1->plotnine) (2.4.7)\n",
      "Requirement already satisfied: pytz>=2017.2 in c:\\users\\justi\\anaconda3\\lib\\site-packages (from pandas>=1.1.0->plotnine) (2020.1)\n",
      "Requirement already satisfied: six in c:\\users\\justi\\anaconda3\\lib\\site-packages (from patsy>=0.5.1->plotnine) (1.15.0)\n"
     ]
    }
   ],
   "source": [
    "!pip install plotnine --user"
   ]
  },
  {
   "cell_type": "code",
   "execution_count": 17,
   "metadata": {
    "ExecuteTime": {
     "end_time": "2020-10-31T05:47:28.296373Z",
     "start_time": "2020-10-31T05:47:28.282298Z"
    }
   },
   "outputs": [
    {
     "ename": "ModuleNotFoundError",
     "evalue": "No module named 'plotnine'",
     "output_type": "error",
     "traceback": [
      "\u001b[1;31m---------------------------------------------------------------------------\u001b[0m",
      "\u001b[1;31mModuleNotFoundError\u001b[0m                       Traceback (most recent call last)",
      "\u001b[1;32m<ipython-input-17-0fb521adfdea>\u001b[0m in \u001b[0;36m<module>\u001b[1;34m\u001b[0m\n\u001b[0;32m      7\u001b[0m \u001b[1;32mimport\u001b[0m \u001b[0mmatplotlib\u001b[0m\u001b[1;33m.\u001b[0m\u001b[0mpyplot\u001b[0m \u001b[1;32mas\u001b[0m \u001b[0mplt\u001b[0m\u001b[1;33m\u001b[0m\u001b[1;33m\u001b[0m\u001b[0m\n\u001b[0;32m      8\u001b[0m \u001b[1;32mimport\u001b[0m \u001b[0mseaborn\u001b[0m \u001b[1;32mas\u001b[0m \u001b[0msns\u001b[0m\u001b[1;33m\u001b[0m\u001b[1;33m\u001b[0m\u001b[0m\n\u001b[1;32m----> 9\u001b[1;33m \u001b[1;32mfrom\u001b[0m \u001b[0mplotnine\u001b[0m \u001b[1;32mimport\u001b[0m \u001b[1;33m*\u001b[0m\u001b[1;33m\u001b[0m\u001b[1;33m\u001b[0m\u001b[0m\n\u001b[0m\u001b[0;32m     10\u001b[0m \u001b[1;33m\u001b[0m\u001b[0m\n\u001b[0;32m     11\u001b[0m \u001b[1;31m# 모델링 라이브러리\u001b[0m\u001b[1;33m\u001b[0m\u001b[1;33m\u001b[0m\u001b[1;33m\u001b[0m\u001b[0m\n",
      "\u001b[1;31mModuleNotFoundError\u001b[0m: No module named 'plotnine'"
     ]
    }
   ],
   "source": [
    "# 데이터 분석 라이브러리\n",
    "import numpy as np\n",
    "import pandas as pd\n",
    "\n",
    "# 시각화 라이브러리\n",
    "import matplotlib as mpl\n",
    "import matplotlib.pyplot as plt\n",
    "import seaborn as sns\n",
    "from plotnine import *\n",
    "\n",
    "# 모델링 라이브러리\n",
    "from category_encoders.ordinal import OrdinalEncoder\n",
    "from sklearn.model_selection import KFold\n",
    "from lightgbm import LGBMClassifier\n",
    "\n",
    "# 기타 라이브러리\n",
    "import random\n",
    "import gc\n",
    "import os\n"
   ]
  },
  {
   "cell_type": "code",
   "execution_count": null,
   "metadata": {
    "ExecuteTime": {
     "end_time": "2020-10-31T05:35:35.756188Z",
     "start_time": "2020-10-31T05:35:31.504Z"
    }
   },
   "outputs": [],
   "source": [
    "pwd"
   ]
  },
  {
   "cell_type": "code",
   "execution_count": null,
   "metadata": {
    "ExecuteTime": {
     "end_time": "2020-10-31T05:35:35.757225Z",
     "start_time": "2020-10-31T05:35:31.507Z"
    }
   },
   "outputs": [],
   "source": [
    "cd data/kakr-4th-competition"
   ]
  },
  {
   "cell_type": "code",
   "execution_count": null,
   "metadata": {
    "ExecuteTime": {
     "end_time": "2020-10-31T05:35:35.757962Z",
     "start_time": "2020-10-31T05:35:31.511Z"
    }
   },
   "outputs": [],
   "source": [
    "cd kakr-4th-competition"
   ]
  },
  {
   "cell_type": "code",
   "execution_count": null,
   "metadata": {
    "ExecuteTime": {
     "end_time": "2020-10-31T05:35:35.759853Z",
     "start_time": "2020-10-31T05:35:31.515Z"
    }
   },
   "outputs": [],
   "source": [
    "ll"
   ]
  },
  {
   "cell_type": "markdown",
   "metadata": {},
   "source": [
    "# 데이터불러오기"
   ]
  },
  {
   "cell_type": "code",
   "execution_count": 19,
   "metadata": {
    "ExecuteTime": {
     "end_time": "2020-10-31T05:53:22.331933Z",
     "start_time": "2020-10-31T05:53:22.321854Z"
    }
   },
   "outputs": [
    {
     "data": {
      "text/plain": [
       "'C:\\\\Users\\\\justi\\\\OneDrive\\\\Git\\\\Kaggle\\\\kakr-4th-competition'"
      ]
     },
     "execution_count": 19,
     "metadata": {},
     "output_type": "execute_result"
    }
   ],
   "source": [
    "pwd"
   ]
  },
  {
   "cell_type": "code",
   "execution_count": 20,
   "metadata": {
    "ExecuteTime": {
     "end_time": "2020-10-31T05:53:27.567107Z",
     "start_time": "2020-10-31T05:53:27.476201Z"
    }
   },
   "outputs": [],
   "source": [
    "test = pd.read_csv(\"./test.csv\")\n",
    "\n",
    "train = pd.read_csv(\"./train.csv\")\n",
    "\n",
    "sample_submission = pd.read_csv(\"./sample_submission.csv\")"
   ]
  },
  {
   "cell_type": "code",
   "execution_count": 21,
   "metadata": {
    "ExecuteTime": {
     "end_time": "2020-10-31T05:53:28.050936Z",
     "start_time": "2020-10-31T05:53:27.972784Z"
    }
   },
   "outputs": [
    {
     "ename": "AttributeError",
     "evalue": "'NoneType' object has no attribute 'items'",
     "output_type": "error",
     "traceback": [
      "\u001b[1;31m---------------------------------------------------------------------------\u001b[0m",
      "\u001b[1;31mAttributeError\u001b[0m                            Traceback (most recent call last)",
      "\u001b[1;32m~\\anaconda3\\lib\\site-packages\\IPython\\core\\formatters.py\u001b[0m in \u001b[0;36m__call__\u001b[1;34m(self, obj)\u001b[0m\n\u001b[0;32m    343\u001b[0m             \u001b[0mmethod\u001b[0m \u001b[1;33m=\u001b[0m \u001b[0mget_real_method\u001b[0m\u001b[1;33m(\u001b[0m\u001b[0mobj\u001b[0m\u001b[1;33m,\u001b[0m \u001b[0mself\u001b[0m\u001b[1;33m.\u001b[0m\u001b[0mprint_method\u001b[0m\u001b[1;33m)\u001b[0m\u001b[1;33m\u001b[0m\u001b[1;33m\u001b[0m\u001b[0m\n\u001b[0;32m    344\u001b[0m             \u001b[1;32mif\u001b[0m \u001b[0mmethod\u001b[0m \u001b[1;32mis\u001b[0m \u001b[1;32mnot\u001b[0m \u001b[1;32mNone\u001b[0m\u001b[1;33m:\u001b[0m\u001b[1;33m\u001b[0m\u001b[1;33m\u001b[0m\u001b[0m\n\u001b[1;32m--> 345\u001b[1;33m                 \u001b[1;32mreturn\u001b[0m \u001b[0mmethod\u001b[0m\u001b[1;33m(\u001b[0m\u001b[1;33m)\u001b[0m\u001b[1;33m\u001b[0m\u001b[1;33m\u001b[0m\u001b[0m\n\u001b[0m\u001b[0;32m    346\u001b[0m             \u001b[1;32mreturn\u001b[0m \u001b[1;32mNone\u001b[0m\u001b[1;33m\u001b[0m\u001b[1;33m\u001b[0m\u001b[0m\n\u001b[0;32m    347\u001b[0m         \u001b[1;32melse\u001b[0m\u001b[1;33m:\u001b[0m\u001b[1;33m\u001b[0m\u001b[1;33m\u001b[0m\u001b[0m\n",
      "\u001b[1;32m~\\anaconda3\\lib\\site-packages\\pandas\\core\\frame.py\u001b[0m in \u001b[0;36m_repr_html_\u001b[1;34m(self)\u001b[0m\n\u001b[0;32m    732\u001b[0m             \u001b[0mself\u001b[0m\u001b[1;33m.\u001b[0m\u001b[0minfo\u001b[0m\u001b[1;33m(\u001b[0m\u001b[0mbuf\u001b[0m\u001b[1;33m=\u001b[0m\u001b[0mbuf\u001b[0m\u001b[1;33m)\u001b[0m\u001b[1;33m\u001b[0m\u001b[1;33m\u001b[0m\u001b[0m\n\u001b[0;32m    733\u001b[0m             \u001b[1;32mreturn\u001b[0m \u001b[0mbuf\u001b[0m\u001b[1;33m.\u001b[0m\u001b[0mgetvalue\u001b[0m\u001b[1;33m(\u001b[0m\u001b[1;33m)\u001b[0m\u001b[1;33m\u001b[0m\u001b[1;33m\u001b[0m\u001b[0m\n\u001b[1;32m--> 734\u001b[1;33m \u001b[1;33m\u001b[0m\u001b[0m\n\u001b[0m\u001b[0;32m    735\u001b[0m         \u001b[0mmax_rows\u001b[0m \u001b[1;33m=\u001b[0m \u001b[0mget_option\u001b[0m\u001b[1;33m(\u001b[0m\u001b[1;34m\"display.max_rows\"\u001b[0m\u001b[1;33m)\u001b[0m\u001b[1;33m\u001b[0m\u001b[1;33m\u001b[0m\u001b[0m\n\u001b[0;32m    736\u001b[0m         \u001b[0mmin_rows\u001b[0m \u001b[1;33m=\u001b[0m \u001b[0mget_option\u001b[0m\u001b[1;33m(\u001b[0m\u001b[1;34m\"display.min_rows\"\u001b[0m\u001b[1;33m)\u001b[0m\u001b[1;33m\u001b[0m\u001b[1;33m\u001b[0m\u001b[0m\n",
      "\u001b[1;32m~\\anaconda3\\lib\\site-packages\\pandas\\io\\formats\\format.py\u001b[0m in \u001b[0;36mto_html\u001b[1;34m(self, buf, encoding, classes, notebook, border)\u001b[0m\n\u001b[0;32m    980\u001b[0m             \u001b[0mWhether\u001b[0m \u001b[0mthe\u001b[0m \u001b[0mgenerated\u001b[0m \u001b[0mHTML\u001b[0m \u001b[1;32mis\u001b[0m \u001b[1;32mfor\u001b[0m \u001b[0mIPython\u001b[0m \u001b[0mNotebook\u001b[0m\u001b[1;33m.\u001b[0m\u001b[1;33m\u001b[0m\u001b[1;33m\u001b[0m\u001b[0m\n\u001b[0;32m    981\u001b[0m         \u001b[0mborder\u001b[0m \u001b[1;33m:\u001b[0m \u001b[0mint\u001b[0m\u001b[1;33m\u001b[0m\u001b[1;33m\u001b[0m\u001b[0m\n\u001b[1;32m--> 982\u001b[1;33m             \u001b[0mA\u001b[0m\u001b[0;31m \u001b[0m\u001b[0;31m`\u001b[0m\u001b[0;31m`\u001b[0m\u001b[0mborder\u001b[0m\u001b[1;33m=\u001b[0m\u001b[0mborder\u001b[0m\u001b[0;31m`\u001b[0m\u001b[0;31m`\u001b[0m \u001b[0mattribute\u001b[0m \u001b[1;32mis\u001b[0m \u001b[0mincluded\u001b[0m \u001b[1;32min\u001b[0m \u001b[0mthe\u001b[0m \u001b[0mopening\u001b[0m\u001b[1;33m\u001b[0m\u001b[1;33m\u001b[0m\u001b[0m\n\u001b[0m\u001b[0;32m    983\u001b[0m             \u001b[0;31m`\u001b[0m\u001b[0;31m`\u001b[0m\u001b[1;33m<\u001b[0m\u001b[0mtable\u001b[0m\u001b[1;33m>\u001b[0m\u001b[0;31m`\u001b[0m\u001b[0;31m`\u001b[0m \u001b[0mtag\u001b[0m\u001b[1;33m.\u001b[0m \u001b[0mDefault\u001b[0m\u001b[0;31m \u001b[0m\u001b[0;31m`\u001b[0m\u001b[0;31m`\u001b[0m\u001b[0mpd\u001b[0m\u001b[1;33m.\u001b[0m\u001b[0moptions\u001b[0m\u001b[1;33m.\u001b[0m\u001b[0mdisplay\u001b[0m\u001b[1;33m.\u001b[0m\u001b[0mhtml\u001b[0m\u001b[1;33m.\u001b[0m\u001b[0mborder\u001b[0m\u001b[0;31m`\u001b[0m\u001b[0;31m`\u001b[0m\u001b[1;33m.\u001b[0m\u001b[1;33m\u001b[0m\u001b[1;33m\u001b[0m\u001b[0m\n\u001b[0;32m    984\u001b[0m         \"\"\"\n",
      "\u001b[1;32m~\\anaconda3\\lib\\site-packages\\pandas\\io\\formats\\html.py\u001b[0m in \u001b[0;36m__init__\u001b[1;34m(self, formatter, classes, border)\u001b[0m\n\u001b[0;32m     57\u001b[0m         self.col_space = {\n\u001b[0;32m     58\u001b[0m             \u001b[0mcolumn\u001b[0m\u001b[1;33m:\u001b[0m \u001b[1;34mf\"{value}px\"\u001b[0m \u001b[1;32mif\u001b[0m \u001b[0misinstance\u001b[0m\u001b[1;33m(\u001b[0m\u001b[0mvalue\u001b[0m\u001b[1;33m,\u001b[0m \u001b[0mint\u001b[0m\u001b[1;33m)\u001b[0m \u001b[1;32melse\u001b[0m \u001b[0mvalue\u001b[0m\u001b[1;33m\u001b[0m\u001b[1;33m\u001b[0m\u001b[0m\n\u001b[1;32m---> 59\u001b[1;33m             \u001b[1;32mfor\u001b[0m \u001b[0mcolumn\u001b[0m\u001b[1;33m,\u001b[0m \u001b[0mvalue\u001b[0m \u001b[1;32min\u001b[0m \u001b[0mself\u001b[0m\u001b[1;33m.\u001b[0m\u001b[0mfmt\u001b[0m\u001b[1;33m.\u001b[0m\u001b[0mcol_space\u001b[0m\u001b[1;33m.\u001b[0m\u001b[0mitems\u001b[0m\u001b[1;33m(\u001b[0m\u001b[1;33m)\u001b[0m\u001b[1;33m\u001b[0m\u001b[1;33m\u001b[0m\u001b[0m\n\u001b[0m\u001b[0;32m     60\u001b[0m         }\n\u001b[0;32m     61\u001b[0m \u001b[1;33m\u001b[0m\u001b[0m\n",
      "\u001b[1;31mAttributeError\u001b[0m: 'NoneType' object has no attribute 'items'"
     ]
    },
    {
     "data": {
      "text/plain": [
       "          id  age         workclass  fnlwgt     education  education_num  \\\n",
       "0          0   40           Private  168538       HS-grad              9   \n",
       "1          1   17           Private  101626           9th              5   \n",
       "2          2   18           Private  353358  Some-college             10   \n",
       "3          3   21           Private  151158  Some-college             10   \n",
       "4          4   24           Private  122234  Some-college             10   \n",
       "...      ...  ...               ...     ...           ...            ...   \n",
       "26044  26044   57           Private  250201          11th              7   \n",
       "26045  26045   23           Private  238092     Bachelors             13   \n",
       "26046  26046   78                 ?  165694       Masters             14   \n",
       "26047  26047   26  Self-emp-not-inc  151626       HS-grad              9   \n",
       "26048  26048   20                 ?   99891  Some-college             10   \n",
       "\n",
       "           marital_status         occupation   relationship   race     sex  \\\n",
       "0      Married-civ-spouse              Sales        Husband  White    Male   \n",
       "1           Never-married  Machine-op-inspct      Own-child  White    Male   \n",
       "2           Never-married      Other-service      Own-child  White    Male   \n",
       "3           Never-married     Prof-specialty      Own-child  White  Female   \n",
       "4           Never-married       Adm-clerical  Not-in-family  Black  Female   \n",
       "...                   ...                ...            ...    ...     ...   \n",
       "26044  Married-civ-spouse      Other-service        Husband  White    Male   \n",
       "26045       Never-married     Prof-specialty      Own-child  White    Male   \n",
       "26046             Widowed                  ?  Not-in-family  White  Female   \n",
       "26047       Never-married     Prof-specialty      Own-child  Black  Female   \n",
       "26048       Never-married                  ?      Own-child  White  Female   \n",
       "\n",
       "       capital_gain  capital_loss  hours_per_week native_country income  \n",
       "0                 0             0              60  United-States   >50K  \n",
       "1                 0             0              20  United-States  <=50K  \n",
       "2                 0             0              16  United-States  <=50K  \n",
       "3                 0             0              25  United-States  <=50K  \n",
       "4                 0             0              20              ?  <=50K  \n",
       "...             ...           ...             ...            ...    ...  \n",
       "26044             0             0              52  United-States  <=50K  \n",
       "26045             0             0              40  United-States  <=50K  \n",
       "26046             0             0              15  United-States  <=50K  \n",
       "26047             0             0              40  United-States  <=50K  \n",
       "26048             0             0              30  United-States  <=50K  \n",
       "\n",
       "[26049 rows x 16 columns]"
      ]
     },
     "execution_count": 21,
     "metadata": {},
     "output_type": "execute_result"
    }
   ],
   "source": [
    "train"
   ]
  },
  {
   "cell_type": "code",
   "execution_count": 22,
   "metadata": {
    "ExecuteTime": {
     "end_time": "2020-10-31T05:53:28.411233Z",
     "start_time": "2020-10-31T05:53:28.368741Z"
    }
   },
   "outputs": [
    {
     "name": "stdout",
     "output_type": "stream",
     "text": [
      "<class 'pandas.core.frame.DataFrame'>\n",
      "RangeIndex: 26049 entries, 0 to 26048\n",
      "Data columns (total 16 columns):\n",
      " #   Column          Non-Null Count  Dtype \n",
      "---  ------          --------------  ----- \n",
      " 0   id              26049 non-null  int64 \n",
      " 1   age             26049 non-null  int64 \n",
      " 2   workclass       26049 non-null  object\n",
      " 3   fnlwgt          26049 non-null  int64 \n",
      " 4   education       26049 non-null  object\n",
      " 5   education_num   26049 non-null  int64 \n",
      " 6   marital_status  26049 non-null  object\n",
      " 7   occupation      26049 non-null  object\n",
      " 8   relationship    26049 non-null  object\n",
      " 9   race            26049 non-null  object\n",
      " 10  sex             26049 non-null  object\n",
      " 11  capital_gain    26049 non-null  int64 \n",
      " 12  capital_loss    26049 non-null  int64 \n",
      " 13  hours_per_week  26049 non-null  int64 \n",
      " 14  native_country  26049 non-null  object\n",
      " 15  income          26049 non-null  object\n",
      "dtypes: int64(7), object(9)\n",
      "memory usage: 3.2+ MB\n"
     ]
    }
   ],
   "source": [
    "train.info()"
   ]
  },
  {
   "cell_type": "code",
   "execution_count": 23,
   "metadata": {
    "ExecuteTime": {
     "end_time": "2020-10-31T05:53:34.446990Z",
     "start_time": "2020-10-31T05:53:34.391983Z"
    }
   },
   "outputs": [
    {
     "ename": "AttributeError",
     "evalue": "'NoneType' object has no attribute 'items'",
     "output_type": "error",
     "traceback": [
      "\u001b[1;31m---------------------------------------------------------------------------\u001b[0m",
      "\u001b[1;31mAttributeError\u001b[0m                            Traceback (most recent call last)",
      "\u001b[1;32m~\\anaconda3\\lib\\site-packages\\IPython\\core\\formatters.py\u001b[0m in \u001b[0;36m__call__\u001b[1;34m(self, obj)\u001b[0m\n\u001b[0;32m    343\u001b[0m             \u001b[0mmethod\u001b[0m \u001b[1;33m=\u001b[0m \u001b[0mget_real_method\u001b[0m\u001b[1;33m(\u001b[0m\u001b[0mobj\u001b[0m\u001b[1;33m,\u001b[0m \u001b[0mself\u001b[0m\u001b[1;33m.\u001b[0m\u001b[0mprint_method\u001b[0m\u001b[1;33m)\u001b[0m\u001b[1;33m\u001b[0m\u001b[1;33m\u001b[0m\u001b[0m\n\u001b[0;32m    344\u001b[0m             \u001b[1;32mif\u001b[0m \u001b[0mmethod\u001b[0m \u001b[1;32mis\u001b[0m \u001b[1;32mnot\u001b[0m \u001b[1;32mNone\u001b[0m\u001b[1;33m:\u001b[0m\u001b[1;33m\u001b[0m\u001b[1;33m\u001b[0m\u001b[0m\n\u001b[1;32m--> 345\u001b[1;33m                 \u001b[1;32mreturn\u001b[0m \u001b[0mmethod\u001b[0m\u001b[1;33m(\u001b[0m\u001b[1;33m)\u001b[0m\u001b[1;33m\u001b[0m\u001b[1;33m\u001b[0m\u001b[0m\n\u001b[0m\u001b[0;32m    346\u001b[0m             \u001b[1;32mreturn\u001b[0m \u001b[1;32mNone\u001b[0m\u001b[1;33m\u001b[0m\u001b[1;33m\u001b[0m\u001b[0m\n\u001b[0;32m    347\u001b[0m         \u001b[1;32melse\u001b[0m\u001b[1;33m:\u001b[0m\u001b[1;33m\u001b[0m\u001b[1;33m\u001b[0m\u001b[0m\n",
      "\u001b[1;32m~\\anaconda3\\lib\\site-packages\\pandas\\core\\frame.py\u001b[0m in \u001b[0;36m_repr_html_\u001b[1;34m(self)\u001b[0m\n\u001b[0;32m    732\u001b[0m             \u001b[0mself\u001b[0m\u001b[1;33m.\u001b[0m\u001b[0minfo\u001b[0m\u001b[1;33m(\u001b[0m\u001b[0mbuf\u001b[0m\u001b[1;33m=\u001b[0m\u001b[0mbuf\u001b[0m\u001b[1;33m)\u001b[0m\u001b[1;33m\u001b[0m\u001b[1;33m\u001b[0m\u001b[0m\n\u001b[0;32m    733\u001b[0m             \u001b[1;32mreturn\u001b[0m \u001b[0mbuf\u001b[0m\u001b[1;33m.\u001b[0m\u001b[0mgetvalue\u001b[0m\u001b[1;33m(\u001b[0m\u001b[1;33m)\u001b[0m\u001b[1;33m\u001b[0m\u001b[1;33m\u001b[0m\u001b[0m\n\u001b[1;32m--> 734\u001b[1;33m \u001b[1;33m\u001b[0m\u001b[0m\n\u001b[0m\u001b[0;32m    735\u001b[0m         \u001b[0mmax_rows\u001b[0m \u001b[1;33m=\u001b[0m \u001b[0mget_option\u001b[0m\u001b[1;33m(\u001b[0m\u001b[1;34m\"display.max_rows\"\u001b[0m\u001b[1;33m)\u001b[0m\u001b[1;33m\u001b[0m\u001b[1;33m\u001b[0m\u001b[0m\n\u001b[0;32m    736\u001b[0m         \u001b[0mmin_rows\u001b[0m \u001b[1;33m=\u001b[0m \u001b[0mget_option\u001b[0m\u001b[1;33m(\u001b[0m\u001b[1;34m\"display.min_rows\"\u001b[0m\u001b[1;33m)\u001b[0m\u001b[1;33m\u001b[0m\u001b[1;33m\u001b[0m\u001b[0m\n",
      "\u001b[1;32m~\\anaconda3\\lib\\site-packages\\pandas\\io\\formats\\format.py\u001b[0m in \u001b[0;36mto_html\u001b[1;34m(self, buf, encoding, classes, notebook, border)\u001b[0m\n\u001b[0;32m    980\u001b[0m             \u001b[0mWhether\u001b[0m \u001b[0mthe\u001b[0m \u001b[0mgenerated\u001b[0m \u001b[0mHTML\u001b[0m \u001b[1;32mis\u001b[0m \u001b[1;32mfor\u001b[0m \u001b[0mIPython\u001b[0m \u001b[0mNotebook\u001b[0m\u001b[1;33m.\u001b[0m\u001b[1;33m\u001b[0m\u001b[1;33m\u001b[0m\u001b[0m\n\u001b[0;32m    981\u001b[0m         \u001b[0mborder\u001b[0m \u001b[1;33m:\u001b[0m \u001b[0mint\u001b[0m\u001b[1;33m\u001b[0m\u001b[1;33m\u001b[0m\u001b[0m\n\u001b[1;32m--> 982\u001b[1;33m             \u001b[0mA\u001b[0m\u001b[0;31m \u001b[0m\u001b[0;31m`\u001b[0m\u001b[0;31m`\u001b[0m\u001b[0mborder\u001b[0m\u001b[1;33m=\u001b[0m\u001b[0mborder\u001b[0m\u001b[0;31m`\u001b[0m\u001b[0;31m`\u001b[0m \u001b[0mattribute\u001b[0m \u001b[1;32mis\u001b[0m \u001b[0mincluded\u001b[0m \u001b[1;32min\u001b[0m \u001b[0mthe\u001b[0m \u001b[0mopening\u001b[0m\u001b[1;33m\u001b[0m\u001b[1;33m\u001b[0m\u001b[0m\n\u001b[0m\u001b[0;32m    983\u001b[0m             \u001b[0;31m`\u001b[0m\u001b[0;31m`\u001b[0m\u001b[1;33m<\u001b[0m\u001b[0mtable\u001b[0m\u001b[1;33m>\u001b[0m\u001b[0;31m`\u001b[0m\u001b[0;31m`\u001b[0m \u001b[0mtag\u001b[0m\u001b[1;33m.\u001b[0m \u001b[0mDefault\u001b[0m\u001b[0;31m \u001b[0m\u001b[0;31m`\u001b[0m\u001b[0;31m`\u001b[0m\u001b[0mpd\u001b[0m\u001b[1;33m.\u001b[0m\u001b[0moptions\u001b[0m\u001b[1;33m.\u001b[0m\u001b[0mdisplay\u001b[0m\u001b[1;33m.\u001b[0m\u001b[0mhtml\u001b[0m\u001b[1;33m.\u001b[0m\u001b[0mborder\u001b[0m\u001b[0;31m`\u001b[0m\u001b[0;31m`\u001b[0m\u001b[1;33m.\u001b[0m\u001b[1;33m\u001b[0m\u001b[1;33m\u001b[0m\u001b[0m\n\u001b[0;32m    984\u001b[0m         \"\"\"\n",
      "\u001b[1;32m~\\anaconda3\\lib\\site-packages\\pandas\\io\\formats\\html.py\u001b[0m in \u001b[0;36m__init__\u001b[1;34m(self, formatter, classes, border)\u001b[0m\n\u001b[0;32m     57\u001b[0m         self.col_space = {\n\u001b[0;32m     58\u001b[0m             \u001b[0mcolumn\u001b[0m\u001b[1;33m:\u001b[0m \u001b[1;34mf\"{value}px\"\u001b[0m \u001b[1;32mif\u001b[0m \u001b[0misinstance\u001b[0m\u001b[1;33m(\u001b[0m\u001b[0mvalue\u001b[0m\u001b[1;33m,\u001b[0m \u001b[0mint\u001b[0m\u001b[1;33m)\u001b[0m \u001b[1;32melse\u001b[0m \u001b[0mvalue\u001b[0m\u001b[1;33m\u001b[0m\u001b[1;33m\u001b[0m\u001b[0m\n\u001b[1;32m---> 59\u001b[1;33m             \u001b[1;32mfor\u001b[0m \u001b[0mcolumn\u001b[0m\u001b[1;33m,\u001b[0m \u001b[0mvalue\u001b[0m \u001b[1;32min\u001b[0m \u001b[0mself\u001b[0m\u001b[1;33m.\u001b[0m\u001b[0mfmt\u001b[0m\u001b[1;33m.\u001b[0m\u001b[0mcol_space\u001b[0m\u001b[1;33m.\u001b[0m\u001b[0mitems\u001b[0m\u001b[1;33m(\u001b[0m\u001b[1;33m)\u001b[0m\u001b[1;33m\u001b[0m\u001b[1;33m\u001b[0m\u001b[0m\n\u001b[0m\u001b[0;32m     60\u001b[0m         }\n\u001b[0;32m     61\u001b[0m \u001b[1;33m\u001b[0m\u001b[0m\n",
      "\u001b[1;31mAttributeError\u001b[0m: 'NoneType' object has no attribute 'items'"
     ]
    },
    {
     "data": {
      "text/plain": [
       "                 id           age        fnlwgt  education_num  capital_gain  \\\n",
       "count  26049.000000  26049.000000  2.604900e+04   26049.000000   26049.00000   \n",
       "mean   13024.000000     38.569235  1.903045e+05      10.088372    1087.68970   \n",
       "std     7519.842917     13.671489  1.059663e+05       2.567610    7388.85469   \n",
       "min        0.000000     17.000000  1.376900e+04       1.000000       0.00000   \n",
       "25%     6512.000000     28.000000  1.181080e+05       9.000000       0.00000   \n",
       "50%    13024.000000     37.000000  1.788660e+05      10.000000       0.00000   \n",
       "75%    19536.000000     48.000000  2.377350e+05      12.000000       0.00000   \n",
       "max    26048.000000     90.000000  1.484705e+06      16.000000   99999.00000   \n",
       "\n",
       "       capital_loss  hours_per_week  \n",
       "count  26049.000000    26049.000000  \n",
       "mean      87.732734       40.443126  \n",
       "std      403.230205       12.361850  \n",
       "min        0.000000        1.000000  \n",
       "25%        0.000000       40.000000  \n",
       "50%        0.000000       40.000000  \n",
       "75%        0.000000       45.000000  \n",
       "max     4356.000000       99.000000  "
      ]
     },
     "execution_count": 23,
     "metadata": {},
     "output_type": "execute_result"
    }
   ],
   "source": [
    "train.describe()"
   ]
  },
  {
   "cell_type": "code",
   "execution_count": 24,
   "metadata": {
    "ExecuteTime": {
     "end_time": "2020-10-31T05:53:34.617297Z",
     "start_time": "2020-10-31T05:53:34.547638Z"
    }
   },
   "outputs": [
    {
     "ename": "AttributeError",
     "evalue": "'NoneType' object has no attribute 'items'",
     "output_type": "error",
     "traceback": [
      "\u001b[1;31m---------------------------------------------------------------------------\u001b[0m",
      "\u001b[1;31mAttributeError\u001b[0m                            Traceback (most recent call last)",
      "\u001b[1;32m~\\anaconda3\\lib\\site-packages\\IPython\\core\\formatters.py\u001b[0m in \u001b[0;36m__call__\u001b[1;34m(self, obj)\u001b[0m\n\u001b[0;32m    343\u001b[0m             \u001b[0mmethod\u001b[0m \u001b[1;33m=\u001b[0m \u001b[0mget_real_method\u001b[0m\u001b[1;33m(\u001b[0m\u001b[0mobj\u001b[0m\u001b[1;33m,\u001b[0m \u001b[0mself\u001b[0m\u001b[1;33m.\u001b[0m\u001b[0mprint_method\u001b[0m\u001b[1;33m)\u001b[0m\u001b[1;33m\u001b[0m\u001b[1;33m\u001b[0m\u001b[0m\n\u001b[0;32m    344\u001b[0m             \u001b[1;32mif\u001b[0m \u001b[0mmethod\u001b[0m \u001b[1;32mis\u001b[0m \u001b[1;32mnot\u001b[0m \u001b[1;32mNone\u001b[0m\u001b[1;33m:\u001b[0m\u001b[1;33m\u001b[0m\u001b[1;33m\u001b[0m\u001b[0m\n\u001b[1;32m--> 345\u001b[1;33m                 \u001b[1;32mreturn\u001b[0m \u001b[0mmethod\u001b[0m\u001b[1;33m(\u001b[0m\u001b[1;33m)\u001b[0m\u001b[1;33m\u001b[0m\u001b[1;33m\u001b[0m\u001b[0m\n\u001b[0m\u001b[0;32m    346\u001b[0m             \u001b[1;32mreturn\u001b[0m \u001b[1;32mNone\u001b[0m\u001b[1;33m\u001b[0m\u001b[1;33m\u001b[0m\u001b[0m\n\u001b[0;32m    347\u001b[0m         \u001b[1;32melse\u001b[0m\u001b[1;33m:\u001b[0m\u001b[1;33m\u001b[0m\u001b[1;33m\u001b[0m\u001b[0m\n",
      "\u001b[1;32m~\\anaconda3\\lib\\site-packages\\pandas\\core\\frame.py\u001b[0m in \u001b[0;36m_repr_html_\u001b[1;34m(self)\u001b[0m\n\u001b[0;32m    732\u001b[0m             \u001b[0mself\u001b[0m\u001b[1;33m.\u001b[0m\u001b[0minfo\u001b[0m\u001b[1;33m(\u001b[0m\u001b[0mbuf\u001b[0m\u001b[1;33m=\u001b[0m\u001b[0mbuf\u001b[0m\u001b[1;33m)\u001b[0m\u001b[1;33m\u001b[0m\u001b[1;33m\u001b[0m\u001b[0m\n\u001b[0;32m    733\u001b[0m             \u001b[1;32mreturn\u001b[0m \u001b[0mbuf\u001b[0m\u001b[1;33m.\u001b[0m\u001b[0mgetvalue\u001b[0m\u001b[1;33m(\u001b[0m\u001b[1;33m)\u001b[0m\u001b[1;33m\u001b[0m\u001b[1;33m\u001b[0m\u001b[0m\n\u001b[1;32m--> 734\u001b[1;33m \u001b[1;33m\u001b[0m\u001b[0m\n\u001b[0m\u001b[0;32m    735\u001b[0m         \u001b[0mmax_rows\u001b[0m \u001b[1;33m=\u001b[0m \u001b[0mget_option\u001b[0m\u001b[1;33m(\u001b[0m\u001b[1;34m\"display.max_rows\"\u001b[0m\u001b[1;33m)\u001b[0m\u001b[1;33m\u001b[0m\u001b[1;33m\u001b[0m\u001b[0m\n\u001b[0;32m    736\u001b[0m         \u001b[0mmin_rows\u001b[0m \u001b[1;33m=\u001b[0m \u001b[0mget_option\u001b[0m\u001b[1;33m(\u001b[0m\u001b[1;34m\"display.min_rows\"\u001b[0m\u001b[1;33m)\u001b[0m\u001b[1;33m\u001b[0m\u001b[1;33m\u001b[0m\u001b[0m\n",
      "\u001b[1;32m~\\anaconda3\\lib\\site-packages\\pandas\\io\\formats\\format.py\u001b[0m in \u001b[0;36mto_html\u001b[1;34m(self, buf, encoding, classes, notebook, border)\u001b[0m\n\u001b[0;32m    980\u001b[0m             \u001b[0mWhether\u001b[0m \u001b[0mthe\u001b[0m \u001b[0mgenerated\u001b[0m \u001b[0mHTML\u001b[0m \u001b[1;32mis\u001b[0m \u001b[1;32mfor\u001b[0m \u001b[0mIPython\u001b[0m \u001b[0mNotebook\u001b[0m\u001b[1;33m.\u001b[0m\u001b[1;33m\u001b[0m\u001b[1;33m\u001b[0m\u001b[0m\n\u001b[0;32m    981\u001b[0m         \u001b[0mborder\u001b[0m \u001b[1;33m:\u001b[0m \u001b[0mint\u001b[0m\u001b[1;33m\u001b[0m\u001b[1;33m\u001b[0m\u001b[0m\n\u001b[1;32m--> 982\u001b[1;33m             \u001b[0mA\u001b[0m\u001b[0;31m \u001b[0m\u001b[0;31m`\u001b[0m\u001b[0;31m`\u001b[0m\u001b[0mborder\u001b[0m\u001b[1;33m=\u001b[0m\u001b[0mborder\u001b[0m\u001b[0;31m`\u001b[0m\u001b[0;31m`\u001b[0m \u001b[0mattribute\u001b[0m \u001b[1;32mis\u001b[0m \u001b[0mincluded\u001b[0m \u001b[1;32min\u001b[0m \u001b[0mthe\u001b[0m \u001b[0mopening\u001b[0m\u001b[1;33m\u001b[0m\u001b[1;33m\u001b[0m\u001b[0m\n\u001b[0m\u001b[0;32m    983\u001b[0m             \u001b[0;31m`\u001b[0m\u001b[0;31m`\u001b[0m\u001b[1;33m<\u001b[0m\u001b[0mtable\u001b[0m\u001b[1;33m>\u001b[0m\u001b[0;31m`\u001b[0m\u001b[0;31m`\u001b[0m \u001b[0mtag\u001b[0m\u001b[1;33m.\u001b[0m \u001b[0mDefault\u001b[0m\u001b[0;31m \u001b[0m\u001b[0;31m`\u001b[0m\u001b[0;31m`\u001b[0m\u001b[0mpd\u001b[0m\u001b[1;33m.\u001b[0m\u001b[0moptions\u001b[0m\u001b[1;33m.\u001b[0m\u001b[0mdisplay\u001b[0m\u001b[1;33m.\u001b[0m\u001b[0mhtml\u001b[0m\u001b[1;33m.\u001b[0m\u001b[0mborder\u001b[0m\u001b[0;31m`\u001b[0m\u001b[0;31m`\u001b[0m\u001b[1;33m.\u001b[0m\u001b[1;33m\u001b[0m\u001b[1;33m\u001b[0m\u001b[0m\n\u001b[0;32m    984\u001b[0m         \"\"\"\n",
      "\u001b[1;32m~\\anaconda3\\lib\\site-packages\\pandas\\io\\formats\\html.py\u001b[0m in \u001b[0;36m__init__\u001b[1;34m(self, formatter, classes, border)\u001b[0m\n\u001b[0;32m     57\u001b[0m         self.col_space = {\n\u001b[0;32m     58\u001b[0m             \u001b[0mcolumn\u001b[0m\u001b[1;33m:\u001b[0m \u001b[1;34mf\"{value}px\"\u001b[0m \u001b[1;32mif\u001b[0m \u001b[0misinstance\u001b[0m\u001b[1;33m(\u001b[0m\u001b[0mvalue\u001b[0m\u001b[1;33m,\u001b[0m \u001b[0mint\u001b[0m\u001b[1;33m)\u001b[0m \u001b[1;32melse\u001b[0m \u001b[0mvalue\u001b[0m\u001b[1;33m\u001b[0m\u001b[1;33m\u001b[0m\u001b[0m\n\u001b[1;32m---> 59\u001b[1;33m             \u001b[1;32mfor\u001b[0m \u001b[0mcolumn\u001b[0m\u001b[1;33m,\u001b[0m \u001b[0mvalue\u001b[0m \u001b[1;32min\u001b[0m \u001b[0mself\u001b[0m\u001b[1;33m.\u001b[0m\u001b[0mfmt\u001b[0m\u001b[1;33m.\u001b[0m\u001b[0mcol_space\u001b[0m\u001b[1;33m.\u001b[0m\u001b[0mitems\u001b[0m\u001b[1;33m(\u001b[0m\u001b[1;33m)\u001b[0m\u001b[1;33m\u001b[0m\u001b[1;33m\u001b[0m\u001b[0m\n\u001b[0m\u001b[0;32m     60\u001b[0m         }\n\u001b[0;32m     61\u001b[0m \u001b[1;33m\u001b[0m\u001b[0m\n",
      "\u001b[1;31mAttributeError\u001b[0m: 'NoneType' object has no attribute 'items'"
     ]
    },
    {
     "data": {
      "text/plain": [
       "       workclass education      marital_status      occupation relationship  \\\n",
       "count      26049     26049               26049           26049        26049   \n",
       "unique         9        16                   7              15            6   \n",
       "top      Private   HS-grad  Married-civ-spouse  Prof-specialty      Husband   \n",
       "freq       18123      8433               11970            3304        10541   \n",
       "\n",
       "         race    sex native_country income  \n",
       "count   26049  26049          26049  26049  \n",
       "unique      5      2             41      2  \n",
       "top     White   Male  United-States  <=50K  \n",
       "freq    22315  17482          23371  19744  "
      ]
     },
     "execution_count": 24,
     "metadata": {},
     "output_type": "execute_result"
    }
   ],
   "source": [
    "train.describe(include='O')"
   ]
  },
  {
   "cell_type": "code",
   "execution_count": 25,
   "metadata": {
    "ExecuteTime": {
     "end_time": "2020-10-31T05:53:34.853814Z",
     "start_time": "2020-10-31T05:53:34.840540Z"
    }
   },
   "outputs": [
    {
     "data": {
      "text/plain": [
       "43     7th-8th\n",
       "81     7th-8th\n",
       "95     7th-8th\n",
       "122    7th-8th\n",
       "136    7th-8th\n",
       "261    7th-8th\n",
       "Name: education, dtype: object"
      ]
     },
     "execution_count": 25,
     "metadata": {},
     "output_type": "execute_result"
    }
   ],
   "source": [
    "train[train['education_num'] == 4]['education'].head(6)"
   ]
  },
  {
   "cell_type": "code",
   "execution_count": 26,
   "metadata": {
    "ExecuteTime": {
     "end_time": "2020-10-31T05:53:35.119449Z",
     "start_time": "2020-10-31T05:53:35.085526Z"
    },
    "scrolled": true
   },
   "outputs": [
    {
     "name": "stdout",
     "output_type": "stream",
     "text": [
      "[workclass] (9)\n",
      "Private\n",
      "State-gov\n",
      "?\n",
      "Self-emp-not-inc\n",
      "Local-gov\n",
      "Federal-gov\n",
      "Self-emp-inc\n",
      "Without-pay\n",
      "Never-worked\n",
      "\n",
      "[education] (16)\n",
      "HS-grad\n",
      "9th\n",
      "Some-college\n",
      "Bachelors\n",
      "11th\n",
      "1st-4th\n",
      "5th-6th\n",
      "Assoc-acdm\n",
      "10th\n",
      "Prof-school\n",
      "7th-8th\n",
      "Masters\n",
      "Assoc-voc\n",
      "Doctorate\n",
      "12th\n",
      "Preschool\n",
      "\n",
      "[marital_status] (7)\n",
      "Married-civ-spouse\n",
      "Never-married\n",
      "Separated\n",
      "Married-spouse-absent\n",
      "Divorced\n",
      "Widowed\n",
      "Married-AF-spouse\n",
      "\n",
      "[occupation] (15)\n",
      "Sales\n",
      "Machine-op-inspct\n",
      "Other-service\n",
      "Prof-specialty\n",
      "Adm-clerical\n",
      "Craft-repair\n",
      "?\n",
      "Handlers-cleaners\n",
      "Farming-fishing\n",
      "Exec-managerial\n",
      "Transport-moving\n",
      "Protective-serv\n",
      "Tech-support\n",
      "Priv-house-serv\n",
      "Armed-Forces\n",
      "\n",
      "[relationship] (6)\n",
      "Husband\n",
      "Own-child\n",
      "Not-in-family\n",
      "Unmarried\n",
      "Wife\n",
      "Other-relative\n",
      "\n",
      "[race] (5)\n",
      "White\n",
      "Black\n",
      "Asian-Pac-Islander\n",
      "Other\n",
      "Amer-Indian-Eskimo\n",
      "\n",
      "[sex] (2)\n",
      "Male\n",
      "Female\n",
      "\n",
      "[native_country] (41)\n",
      "United-States\n",
      "?\n",
      "Mexico\n",
      "Poland\n",
      "Philippines\n",
      "Puerto-Rico\n",
      "Vietnam\n",
      "Germany\n",
      "Cuba\n",
      "France\n",
      "Ireland\n",
      "El-Salvador\n",
      "Guatemala\n",
      "Haiti\n",
      "Trinadad&Tobago\n",
      "Jamaica\n",
      "Canada\n",
      "Taiwan\n",
      "South\n",
      "Columbia\n",
      "Peru\n",
      "Japan\n",
      "Dominican-Republic\n",
      "China\n",
      "England\n",
      "Iran\n",
      "India\n",
      "Nicaragua\n",
      "Italy\n",
      "Honduras\n",
      "Thailand\n",
      "Ecuador\n",
      "Portugal\n",
      "Hungary\n",
      "Greece\n",
      "Hong\n",
      "Outlying-US(Guam-USVI-etc)\n",
      "Cambodia\n",
      "Scotland\n",
      "Yugoslavia\n",
      "Laos\n",
      "\n",
      "[income] (2)\n",
      ">50K\n",
      "<=50K\n",
      "\n"
     ]
    }
   ],
   "source": [
    "#범주형 데이터의 항목값들\n",
    "for col in train.columns:\n",
    "    if train[col].dtype == 'object':\n",
    "        categories = train[col].unique()\n",
    "        print(f'[{col}] ({len(categories)})')\n",
    "        print('\\n'.join(categories))\n",
    "        print()"
   ]
  },
  {
   "cell_type": "code",
   "execution_count": 27,
   "metadata": {
    "ExecuteTime": {
     "end_time": "2020-10-31T05:53:35.262629Z",
     "start_time": "2020-10-31T05:53:35.232677Z"
    }
   },
   "outputs": [
    {
     "name": "stdout",
     "output_type": "stream",
     "text": [
      "[workclass] (9)\n",
      "[education] (16)\n",
      "[marital_status] (7)\n",
      "[occupation] (15)\n",
      "[relationship] (6)\n",
      "[race] (5)\n",
      "[sex] (2)\n",
      "[native_country] (41)\n",
      "[income] (2)\n"
     ]
    }
   ],
   "source": [
    "#범주형 데이터의 유니크 값의 개수\n",
    "for col in train.columns:\n",
    "    if train[col].dtype == 'object':\n",
    "        categories = train[col].unique()\n",
    "        print(f'[{col}] ({len(categories)})')"
   ]
  },
  {
   "cell_type": "markdown",
   "metadata": {},
   "source": [
    "# EDA - 1"
   ]
  },
  {
   "cell_type": "markdown",
   "metadata": {},
   "source": [
    "## object column 단순시각화"
   ]
  },
  {
   "cell_type": "code",
   "execution_count": null,
   "metadata": {
    "ExecuteTime": {
     "end_time": "2020-10-31T05:35:35.771310Z",
     "start_time": "2020-10-31T05:35:31.566Z"
    }
   },
   "outputs": [],
   "source": [
    "train.info()"
   ]
  },
  {
   "cell_type": "code",
   "execution_count": null,
   "metadata": {
    "ExecuteTime": {
     "end_time": "2020-10-31T05:35:35.773307Z",
     "start_time": "2020-10-31T05:35:31.571Z"
    }
   },
   "outputs": [],
   "source": [
    "col_lst = train.columns.tolist()"
   ]
  },
  {
   "cell_type": "code",
   "execution_count": null,
   "metadata": {
    "ExecuteTime": {
     "end_time": "2020-10-31T05:35:35.774686Z",
     "start_time": "2020-10-31T05:35:31.576Z"
    }
   },
   "outputs": [],
   "source": [
    "col_lst"
   ]
  },
  {
   "cell_type": "code",
   "execution_count": null,
   "metadata": {
    "ExecuteTime": {
     "end_time": "2020-10-31T05:35:35.775690Z",
     "start_time": "2020-10-31T05:35:31.581Z"
    }
   },
   "outputs": [],
   "source": [
    "def view_count_barplot(i):\n",
    "    df = pd.DataFrame(train[i].value_counts())\n",
    "    df = df.reset_index()\n",
    "    df.columns= [i, 'count']\n",
    "    df = df.sort_values(by = ['count'], ascending = False)\n",
    "\n",
    "    f, ax = plt.subplots(figsize=(15, 8))\n",
    "    sns.barplot(\n",
    "        data= df,\n",
    "        x= i,\n",
    "        y= \"count\"\n",
    "    )\n",
    "    plt.xticks(rotation = - 90 )\n",
    "    plt.show()"
   ]
  },
  {
   "cell_type": "markdown",
   "metadata": {},
   "source": [
    "### 인구컬럼"
   ]
  },
  {
   "cell_type": "markdown",
   "metadata": {},
   "source": [
    "### 성별컬럼"
   ]
  },
  {
   "cell_type": "code",
   "execution_count": null,
   "metadata": {
    "ExecuteTime": {
     "end_time": "2020-10-31T05:35:35.777311Z",
     "start_time": "2020-10-31T05:35:31.588Z"
    }
   },
   "outputs": [],
   "source": [
    "fig, ax = plt.subplots(1, 1, figsize=(8, 6))\n",
    "sns.countplot(x='sex', data=train)\n",
    "plt.show()\n",
    "#남자가 여자보다 훨씬 많다."
   ]
  },
  {
   "cell_type": "markdown",
   "metadata": {},
   "source": [
    "### 나이컬럼"
   ]
  },
  {
   "cell_type": "code",
   "execution_count": null,
   "metadata": {
    "ExecuteTime": {
     "end_time": "2020-10-31T05:35:35.778311Z",
     "start_time": "2020-10-31T05:35:31.595Z"
    }
   },
   "outputs": [],
   "source": [
    "age_df = pd.DataFrame(train.age.value_counts())\n",
    "age_df = age_df.reset_index()\n",
    "age_df.columns= ['age', 'count']\n",
    "\n",
    "age_df = age_df.sort_values(by = ['age'])\n",
    "\n",
    "f, ax = plt.subplots(figsize=(15, 8))\n",
    "sns.barplot(\n",
    "    data= age_df,\n",
    "    x= \"age\",\n",
    "    y= \"count\"\n",
    ")\n",
    "plt.xticks(rotation = - 90 )\n",
    "plt.show()\n",
    "#인구분포정도"
   ]
  },
  {
   "cell_type": "markdown",
   "metadata": {},
   "source": [
    "### 직업컬럼"
   ]
  },
  {
   "cell_type": "code",
   "execution_count": null,
   "metadata": {
    "ExecuteTime": {
     "end_time": "2020-10-31T05:35:35.780333Z",
     "start_time": "2020-10-31T05:35:31.601Z"
    }
   },
   "outputs": [],
   "source": [
    "workclass_df = pd.DataFrame(train.workclass.value_counts())\n",
    "workclass_df = workclass_df.reset_index()\n",
    "workclass_df.columns= ['workclass', 'count']\n",
    "workclass_df = workclass_df.sort_values(by = ['count'], ascending = False)\n",
    "\n",
    "f, ax = plt.subplots(figsize=(15, 8))\n",
    "sns.barplot(\n",
    "    data= workclass_df,\n",
    "    x= \"workclass\",\n",
    "    y= \"count\"\n",
    ")\n",
    "plt.xticks(rotation = - 90 )\n",
    "plt.show()\n",
    "#인구분포정도"
   ]
  },
  {
   "cell_type": "markdown",
   "metadata": {},
   "source": [
    "### 교육수준"
   ]
  },
  {
   "cell_type": "code",
   "execution_count": null,
   "metadata": {
    "ExecuteTime": {
     "end_time": "2020-10-31T05:35:35.781818Z",
     "start_time": "2020-10-31T05:35:31.607Z"
    }
   },
   "outputs": [],
   "source": [
    "education_df = pd.DataFrame(train.education.value_counts())\n",
    "education_df = education_df.reset_index()\n",
    "education_df.columns= ['education', 'count']\n",
    "education_df = education_df.sort_values(by = ['count'], ascending = False)\n",
    "\n",
    "f, ax = plt.subplots(figsize=(15, 8))\n",
    "sns.barplot(\n",
    "    data= education_df,\n",
    "    x= \"education\",\n",
    "    y= \"count\"\n",
    ")\n",
    "plt.xticks(rotation = - 90 )\n",
    "plt.show()"
   ]
  },
  {
   "cell_type": "markdown",
   "metadata": {},
   "source": [
    "### 결혼상태 "
   ]
  },
  {
   "cell_type": "code",
   "execution_count": null,
   "metadata": {
    "ExecuteTime": {
     "end_time": "2020-10-31T05:35:35.784038Z",
     "start_time": "2020-10-31T05:35:31.614Z"
    }
   },
   "outputs": [],
   "source": [
    "marital_status_df = pd.DataFrame(train.marital_status.value_counts())\n",
    "marital_status_df = marital_status_df.reset_index()\n",
    "marital_status_df.columns= ['marital_status', 'count']\n",
    "marital_status_df = marital_status_df.sort_values(by = ['count'], ascending = False)\n",
    "\n",
    "f, ax = plt.subplots(figsize=(15, 8))\n",
    "sns.barplot(\n",
    "    data= marital_status_df,\n",
    "    x= \"marital_status\",\n",
    "    y= \"count\"\n",
    ")\n",
    "plt.xticks(rotation = - 90 )\n",
    "plt.show()"
   ]
  },
  {
   "cell_type": "markdown",
   "metadata": {},
   "source": []
  },
  {
   "cell_type": "code",
   "execution_count": null,
   "metadata": {
    "ExecuteTime": {
     "end_time": "2020-10-31T05:35:35.788120Z",
     "start_time": "2020-10-31T05:35:31.620Z"
    }
   },
   "outputs": [],
   "source": [
    "view_count_barplot(col_lst[7]) #occupation"
   ]
  },
  {
   "cell_type": "markdown",
   "metadata": {},
   "source": [
    "### 업종컬럼"
   ]
  },
  {
   "cell_type": "code",
   "execution_count": null,
   "metadata": {
    "ExecuteTime": {
     "end_time": "2020-10-31T05:35:35.790155Z",
     "start_time": "2020-10-31T05:35:31.627Z"
    }
   },
   "outputs": [],
   "source": [
    "view_count_barplot(col_lst[8]) #relationship"
   ]
  },
  {
   "cell_type": "markdown",
   "metadata": {},
   "source": [
    "### 인종컬럼"
   ]
  },
  {
   "cell_type": "code",
   "execution_count": null,
   "metadata": {
    "ExecuteTime": {
     "end_time": "2020-10-31T05:35:35.793268Z",
     "start_time": "2020-10-31T05:35:31.635Z"
    }
   },
   "outputs": [],
   "source": [
    "view_count_barplot(col_lst[9]) #race"
   ]
  },
  {
   "cell_type": "markdown",
   "metadata": {},
   "source": [
    "### 국적컬럼"
   ]
  },
  {
   "cell_type": "code",
   "execution_count": null,
   "metadata": {
    "ExecuteTime": {
     "end_time": "2020-10-31T05:35:35.795267Z",
     "start_time": "2020-10-31T05:35:31.643Z"
    },
    "scrolled": false
   },
   "outputs": [],
   "source": [
    "view_count_barplot(col_lst[14]) #native_country"
   ]
  },
  {
   "cell_type": "markdown",
   "metadata": {},
   "source": [
    "### 수입컬럼"
   ]
  },
  {
   "cell_type": "code",
   "execution_count": null,
   "metadata": {
    "ExecuteTime": {
     "end_time": "2020-10-31T05:35:35.796803Z",
     "start_time": "2020-10-31T05:35:31.648Z"
    }
   },
   "outputs": [],
   "source": [
    "view_count_barplot(col_lst[15]) #income"
   ]
  },
  {
   "cell_type": "code",
   "execution_count": null,
   "metadata": {
    "ExecuteTime": {
     "end_time": "2020-10-31T05:35:35.799231Z",
     "start_time": "2020-10-31T05:35:31.655Z"
    }
   },
   "outputs": [],
   "source": [
    "train.income.value_counts()"
   ]
  },
  {
   "cell_type": "code",
   "execution_count": null,
   "metadata": {
    "ExecuteTime": {
     "end_time": "2020-10-31T05:35:35.800728Z",
     "start_time": "2020-10-31T05:35:31.663Z"
    },
    "scrolled": true
   },
   "outputs": [],
   "source": [
    "19744/6305"
   ]
  },
  {
   "cell_type": "markdown",
   "metadata": {},
   "source": [
    "## 수치형 column 단순시각화"
   ]
  },
  {
   "cell_type": "code",
   "execution_count": null,
   "metadata": {},
   "outputs": [],
   "source": []
  },
  {
   "cell_type": "code",
   "execution_count": null,
   "metadata": {
    "ExecuteTime": {
     "end_time": "2020-10-31T05:35:35.802786Z",
     "start_time": "2020-10-31T05:35:31.673Z"
    }
   },
   "outputs": [],
   "source": [
    "train.info()"
   ]
  },
  {
   "cell_type": "code",
   "execution_count": null,
   "metadata": {
    "ExecuteTime": {
     "end_time": "2020-10-31T05:35:35.804785Z",
     "start_time": "2020-10-31T05:35:31.678Z"
    }
   },
   "outputs": [],
   "source": [
    "def col_num_describe(x):\n",
    "    df = train[[x, 'income']]\n",
    "    dn = df[df.income == '<=50K'].reset_index(drop = True)\n",
    "    up = df[df.income == '>50K'].reset_index(drop = True)\n",
    "    print(\"<=50K\", dn.describe())\n",
    "    print(\">50K\", up.describe())"
   ]
  },
  {
   "cell_type": "markdown",
   "metadata": {},
   "source": [
    "### fnlwgt(대표성)컬럼"
   ]
  },
  {
   "cell_type": "code",
   "execution_count": null,
   "metadata": {
    "ExecuteTime": {
     "end_time": "2020-10-31T05:35:35.807620Z",
     "start_time": "2020-10-31T05:35:31.687Z"
    }
   },
   "outputs": [],
   "source": [
    "col_num_describe('fnlwgt')\n"
   ]
  },
  {
   "cell_type": "markdown",
   "metadata": {},
   "source": [
    "### 교육수준수치(education_num)컬럼"
   ]
  },
  {
   "cell_type": "code",
   "execution_count": null,
   "metadata": {
    "ExecuteTime": {
     "end_time": "2020-10-31T05:35:35.809633Z",
     "start_time": "2020-10-31T05:35:31.694Z"
    }
   },
   "outputs": [],
   "source": [
    "col_num_describe('education_num')\n",
    "#임금이 높은 사람이 평균적으로 교육수준이 2가 더 높았다."
   ]
  },
  {
   "cell_type": "markdown",
   "metadata": {},
   "source": [
    "### 양도소득컬럼(capital_gain )"
   ]
  },
  {
   "cell_type": "code",
   "execution_count": null,
   "metadata": {
    "ExecuteTime": {
     "end_time": "2020-10-31T05:35:35.810933Z",
     "start_time": "2020-10-31T05:35:31.701Z"
    }
   },
   "outputs": [],
   "source": [
    "col_num_describe(\"capital_gain\") #평균에서 어마어마한 차이를 보인다."
   ]
  },
  {
   "cell_type": "markdown",
   "metadata": {},
   "source": [
    "### 양도손실컬럼(capital_loss) "
   ]
  },
  {
   "cell_type": "code",
   "execution_count": null,
   "metadata": {
    "ExecuteTime": {
     "end_time": "2020-10-31T05:35:35.812662Z",
     "start_time": "2020-10-31T05:35:31.707Z"
    }
   },
   "outputs": [],
   "source": [
    "col_num_describe(\"capital_loss\") #양도소득에 비해서는 낮지만 평균에서 차이를 보인다."
   ]
  },
  {
   "cell_type": "markdown",
   "metadata": {},
   "source": [
    "### 주당근무시간(hours_per_week)컬럼"
   ]
  },
  {
   "cell_type": "code",
   "execution_count": null,
   "metadata": {
    "ExecuteTime": {
     "end_time": "2020-10-31T05:35:35.813799Z",
     "start_time": "2020-10-31T05:35:31.714Z"
    },
    "scrolled": true
   },
   "outputs": [],
   "source": [
    "col_num_describe(\"hours_per_week\") #평균적으로 근무시간이 많을수록 돈을 더 많이번다."
   ]
  },
  {
   "cell_type": "markdown",
   "metadata": {},
   "source": [
    "## 수입에 따른 두 집단 시각화"
   ]
  },
  {
   "cell_type": "code",
   "execution_count": null,
   "metadata": {
    "ExecuteTime": {
     "end_time": "2020-10-31T05:35:35.815486Z",
     "start_time": "2020-10-31T05:35:31.720Z"
    }
   },
   "outputs": [],
   "source": [
    "train"
   ]
  },
  {
   "cell_type": "code",
   "execution_count": null,
   "metadata": {
    "ExecuteTime": {
     "end_time": "2020-10-31T05:35:35.816619Z",
     "start_time": "2020-10-31T05:35:31.724Z"
    }
   },
   "outputs": [],
   "source": [
    "from plotnine import *"
   ]
  },
  {
   "cell_type": "markdown",
   "metadata": {},
   "source": [
    "### 나이에 따른 소득 수준 (Age vs income)\n"
   ]
  },
  {
   "cell_type": "code",
   "execution_count": null,
   "metadata": {
    "ExecuteTime": {
     "end_time": "2020-10-31T05:35:35.817694Z",
     "start_time": "2020-10-31T05:35:31.730Z"
    }
   },
   "outputs": [],
   "source": [
    "fig = plt.figure()"
   ]
  },
  {
   "cell_type": "code",
   "execution_count": null,
   "metadata": {
    "ExecuteTime": {
     "end_time": "2020-10-31T05:35:35.819469Z",
     "start_time": "2020-10-31T05:35:31.734Z"
    }
   },
   "outputs": [],
   "source": [
    "ggplot(train, aes(x=\"age\", fill=\"income\")) + geom_density(alpha=0.7) + ggtitle(\"The age distribution by income\")"
   ]
  },
  {
   "cell_type": "markdown",
   "metadata": {},
   "source": [
    "### Final weight 따른 소득 수준 (fnlwgt vs income)"
   ]
  },
  {
   "cell_type": "code",
   "execution_count": null,
   "metadata": {
    "ExecuteTime": {
     "end_time": "2020-10-31T05:35:35.822855Z",
     "start_time": "2020-10-31T05:35:31.740Z"
    }
   },
   "outputs": [],
   "source": [
    "fig = plt.figure()\n",
    "ggplot(train, aes(x=\"fnlwgt\", fill='income')) + geom_density(alpha=0.7) + ggtitle('The final weight distribution by income')"
   ]
  },
  {
   "cell_type": "markdown",
   "metadata": {},
   "source": [
    "### 교육에 따른 소득 수준 (education_num vs income)"
   ]
  },
  {
   "cell_type": "code",
   "execution_count": null,
   "metadata": {
    "ExecuteTime": {
     "end_time": "2020-10-31T05:35:35.824617Z",
     "start_time": "2020-10-31T05:35:31.745Z"
    }
   },
   "outputs": [],
   "source": [
    "fig = plt.figure()\n",
    "ggplot(train, aes(x='education_num', fill='income')) + geom_density(alpha=0.7) + ggtitle('The education_num distribution by income')"
   ]
  },
  {
   "cell_type": "code",
   "execution_count": null,
   "metadata": {
    "ExecuteTime": {
     "end_time": "2020-10-31T05:35:35.827025Z",
     "start_time": "2020-10-31T05:35:31.751Z"
    }
   },
   "outputs": [],
   "source": [
    "sns.boxplot(x='income', y='education_num', data=train, palette=\"Set2\", linewidth=2);"
   ]
  },
  {
   "cell_type": "markdown",
   "metadata": {},
   "source": [
    "### 양도세에 따른 소득 수준 (capital vs income)"
   ]
  },
  {
   "cell_type": "code",
   "execution_count": null,
   "metadata": {
    "ExecuteTime": {
     "end_time": "2020-10-31T05:35:35.828636Z",
     "start_time": "2020-10-31T05:35:31.757Z"
    }
   },
   "outputs": [],
   "source": [
    "fig = plt.figure()\n",
    "ggplot(train.loc[train['capital_gain'] > 0], aes(x='capital_gain', fill='income')) + geom_density(alpha=0.7) + ggtitle('The capital loss distribution by income')"
   ]
  },
  {
   "cell_type": "code",
   "execution_count": null,
   "metadata": {
    "ExecuteTime": {
     "end_time": "2020-10-31T05:35:35.830834Z",
     "start_time": "2020-10-31T05:35:31.762Z"
    }
   },
   "outputs": [],
   "source": [
    "sns.boxplot(x='income', y='capital_gain', data=train.loc[train['capital_gain'] > 0], palette=\"Set2\", linewidth=2);"
   ]
  },
  {
   "cell_type": "code",
   "execution_count": null,
   "metadata": {
    "ExecuteTime": {
     "end_time": "2020-10-31T05:35:35.832618Z",
     "start_time": "2020-10-31T05:35:31.766Z"
    }
   },
   "outputs": [],
   "source": [
    "fig = plt.figure();\n",
    "ggplot(train.loc[train['capital_loss'] > 0], aes(x='capital_loss', fill='income')) + geom_density(alpha=0.7) + ggtitle('The capital loss distribution by income')"
   ]
  },
  {
   "cell_type": "code",
   "execution_count": null,
   "metadata": {
    "ExecuteTime": {
     "end_time": "2020-10-31T05:35:35.834001Z",
     "start_time": "2020-10-31T05:35:31.771Z"
    }
   },
   "outputs": [],
   "source": [
    "sns.boxplot(x='income', y='capital_loss', data=train.loc[train['capital_loss'] > 0], palette=\"Set2\", linewidth=2);"
   ]
  },
  {
   "cell_type": "markdown",
   "metadata": {},
   "source": [
    "### 주당 근무시간에 따른 소득 수준 (hours_per_week vs income"
   ]
  },
  {
   "cell_type": "code",
   "execution_count": null,
   "metadata": {
    "ExecuteTime": {
     "end_time": "2020-10-31T05:35:35.835013Z",
     "start_time": "2020-10-31T05:35:31.777Z"
    }
   },
   "outputs": [],
   "source": [
    "fig = plt.figure()\n",
    "ggplot(train, aes(x='hours_per_week', fill='income')) + geom_density(alpha=0.7) + ggtitle('The hours per week distribution by income')\n"
   ]
  },
  {
   "cell_type": "code",
   "execution_count": null,
   "metadata": {
    "ExecuteTime": {
     "end_time": "2020-10-31T05:35:35.836704Z",
     "start_time": "2020-10-31T05:35:31.782Z"
    }
   },
   "outputs": [],
   "source": [
    "sns.boxplot(x='income', y='hours_per_week', data=train, palette=\"Set2\", linewidth=2);"
   ]
  },
  {
   "cell_type": "markdown",
   "metadata": {},
   "source": [
    "### workclass_income"
   ]
  },
  {
   "cell_type": "code",
   "execution_count": null,
   "metadata": {
    "ExecuteTime": {
     "end_time": "2020-10-31T05:35:35.838152Z",
     "start_time": "2020-10-31T05:35:31.788Z"
    }
   },
   "outputs": [],
   "source": [
    "fig, ax = plt.subplots(1, 1, figsize=(15, 7))\n",
    "col = 'workclass'\n",
    "value_counts = train[col].value_counts()\n",
    "sns.countplot(x=col, data=train, palette=\"Set2\", edgecolor='black', order = value_counts.index)\n",
    "\n",
    "# bar 상단에 count 숫자로 입력\n",
    "for i, v in value_counts.reset_index().iterrows():\n",
    "    ax.text(i-0.1, v[col]+150 , v[col])"
   ]
  },
  {
   "cell_type": "code",
   "execution_count": null,
   "metadata": {
    "ExecuteTime": {
     "end_time": "2020-10-31T05:35:35.839746Z",
     "start_time": "2020-10-31T05:35:31.793Z"
    }
   },
   "outputs": [],
   "source": [
    "fig, ax = plt.subplots(1, 1, figsize=(15, 7))\n",
    "value_counts = train[col].value_counts()\n",
    "sns.countplot(x=col, hue='income', data=train, palette=\"Set2\", edgecolor='black', order = value_counts.index);"
   ]
  },
  {
   "cell_type": "markdown",
   "metadata": {},
   "source": [
    "### education_income"
   ]
  },
  {
   "cell_type": "code",
   "execution_count": null,
   "metadata": {
    "ExecuteTime": {
     "end_time": "2020-10-31T05:35:35.841021Z",
     "start_time": "2020-10-31T05:35:31.800Z"
    }
   },
   "outputs": [],
   "source": [
    "fig, ax = plt.subplots(1, 1, figsize=(20, 7))\n",
    "col = 'education_num'\n",
    "value_counts = train[col].value_counts().sort_index()\n",
    "sns.countplot(x=col, data=train, palette=\"Set2\", edgecolor='black', order = value_counts.index)\n",
    "plt.xticks(rotation=45)\n",
    "\n",
    "for i, v in value_counts.reset_index().iterrows():\n",
    "    ax.text(i-0.1, v[col]+150 , v[col])"
   ]
  },
  {
   "cell_type": "code",
   "execution_count": null,
   "metadata": {
    "ExecuteTime": {
     "end_time": "2020-10-31T05:35:35.842024Z",
     "start_time": "2020-10-31T05:35:31.806Z"
    }
   },
   "outputs": [],
   "source": [
    "fig, ax = plt.subplots(1, 1, figsize=(15, 7))\n",
    "value_counts = train[col].value_counts().sort_index()\n",
    "sns.countplot(x=col, hue='income', data=train, palette=\"Set2\", edgecolor='black', order = value_counts.index);"
   ]
  },
  {
   "cell_type": "markdown",
   "metadata": {},
   "source": [
    "### martial_status_income"
   ]
  },
  {
   "cell_type": "code",
   "execution_count": null,
   "metadata": {
    "ExecuteTime": {
     "end_time": "2020-10-31T05:35:35.843336Z",
     "start_time": "2020-10-31T05:35:31.813Z"
    }
   },
   "outputs": [],
   "source": [
    "fig, ax = plt.subplots(1, 1, figsize=(20, 7))\n",
    "col = 'marital_status'\n",
    "value_counts = train[col].value_counts()\n",
    "sns.countplot(x=col, data=train, palette=\"Set2\", edgecolor='black', order = value_counts.index)\n",
    "\n",
    "for i, v in value_counts.reset_index().iterrows():\n",
    "    ax.text(i-0.1, v[col]+150 , v[col])"
   ]
  },
  {
   "cell_type": "code",
   "execution_count": null,
   "metadata": {
    "ExecuteTime": {
     "end_time": "2020-10-31T05:35:35.845375Z",
     "start_time": "2020-10-31T05:35:31.818Z"
    }
   },
   "outputs": [],
   "source": [
    "fig, ax = plt.subplots(1, 1, figsize=(15, 7))\n",
    "value_counts = train[col].value_counts()\n",
    "sns.countplot(x=col, hue='income', data=train, palette=\"Set2\", edgecolor='black', order = value_counts.index);"
   ]
  },
  {
   "cell_type": "markdown",
   "metadata": {},
   "source": [
    "### occupation_income"
   ]
  },
  {
   "cell_type": "code",
   "execution_count": null,
   "metadata": {
    "ExecuteTime": {
     "end_time": "2020-10-31T05:35:35.846334Z",
     "start_time": "2020-10-31T05:35:31.826Z"
    }
   },
   "outputs": [],
   "source": [
    "fig, ax = plt.subplots(1, 1, figsize=(20, 7))\n",
    "col = 'occupation'\n",
    "value_counts = train[col].value_counts()\n",
    "sns.countplot(x=col, data=train, palette=\"Set2\", edgecolor='black', order = value_counts.index)\n",
    "plt.xticks(rotation=45)\n",
    "\n",
    "for i, v in value_counts.reset_index().iterrows():\n",
    "    ax.text(i-0.12, v[col]+50 , v[col])"
   ]
  },
  {
   "cell_type": "code",
   "execution_count": null,
   "metadata": {
    "ExecuteTime": {
     "end_time": "2020-10-31T05:35:35.848170Z",
     "start_time": "2020-10-31T05:35:31.831Z"
    }
   },
   "outputs": [],
   "source": [
    "fig, ax = plt.subplots(1, 1, figsize=(15, 10))\n",
    "value_counts = train[col].value_counts()\n",
    "sns.countplot(y=col, hue='income', data=train, palette=\"Set2\", edgecolor='black', order = value_counts.index);"
   ]
  },
  {
   "cell_type": "markdown",
   "metadata": {},
   "source": [
    "### Relationship_income"
   ]
  },
  {
   "cell_type": "code",
   "execution_count": null,
   "metadata": {
    "ExecuteTime": {
     "end_time": "2020-10-31T05:35:35.849208Z",
     "start_time": "2020-10-31T05:35:31.837Z"
    }
   },
   "outputs": [],
   "source": [
    "fig, ax = plt.subplots(1, 1, figsize=(15, 7))\n",
    "col = 'relationship'\n",
    "value_counts = train[col].value_counts()\n",
    "sns.countplot(x=col, data=train, palette=\"Set2\", edgecolor='black', order = value_counts.index)\n",
    "\n",
    "for i, v in value_counts.reset_index().iterrows():\n",
    "    ax.text(i-0.1, v[col]+150 , v[col])"
   ]
  },
  {
   "cell_type": "code",
   "execution_count": null,
   "metadata": {
    "ExecuteTime": {
     "end_time": "2020-10-31T05:35:35.849990Z",
     "start_time": "2020-10-31T05:35:31.842Z"
    }
   },
   "outputs": [],
   "source": [
    "fig, ax = plt.subplots(1, 1, figsize=(12, 6))\n",
    "value_counts = train[col].value_counts()\n",
    "sns.countplot(x=col, hue='income', data=train, palette=\"Set2\", edgecolor='black', order = value_counts.index);"
   ]
  },
  {
   "cell_type": "markdown",
   "metadata": {},
   "source": [
    "### race_income"
   ]
  },
  {
   "cell_type": "code",
   "execution_count": null,
   "metadata": {
    "ExecuteTime": {
     "end_time": "2020-10-31T05:35:35.852120Z",
     "start_time": "2020-10-31T05:35:31.849Z"
    }
   },
   "outputs": [],
   "source": [
    "fig, ax = plt.subplots(1, 1, figsize=(12, 6))\n",
    "col = 'race'\n",
    "value_counts = train[col].value_counts()\n",
    "sns.countplot(x=col, data=train, palette=\"Set2\", edgecolor='black', order = value_counts.index)\n",
    "\n",
    "for i, v in value_counts.reset_index().iterrows():\n",
    "    ax.text(i-0.1, v[col]+150 , v[col])"
   ]
  },
  {
   "cell_type": "code",
   "execution_count": null,
   "metadata": {
    "ExecuteTime": {
     "end_time": "2020-10-31T05:35:35.854417Z",
     "start_time": "2020-10-31T05:35:31.854Z"
    }
   },
   "outputs": [],
   "source": [
    "fig, ax = plt.subplots(1, 1, figsize=(12, 6))\n",
    "value_counts = train[col].value_counts()\n",
    "sns.countplot(x=col, hue='income', data=train, palette=\"Set2\", edgecolor='black', order = value_counts.index);"
   ]
  },
  {
   "cell_type": "markdown",
   "metadata": {},
   "source": [
    "### sex_income"
   ]
  },
  {
   "cell_type": "code",
   "execution_count": null,
   "metadata": {
    "ExecuteTime": {
     "end_time": "2020-10-31T05:35:35.856491Z",
     "start_time": "2020-10-31T05:35:31.860Z"
    }
   },
   "outputs": [],
   "source": [
    "fig, ax = plt.subplots(1, 1, figsize=(7, 4))\n",
    "col = 'sex'\n",
    "value_counts = train[col].value_counts()\n",
    "sns.countplot(x=col, data=train, palette=\"Set2\", edgecolor='black', order = value_counts.index)\n",
    "\n",
    "for i, v in value_counts.reset_index().iterrows():\n",
    "    ax.text(i-0.05, v[col]+150 , v[col])"
   ]
  },
  {
   "cell_type": "code",
   "execution_count": null,
   "metadata": {
    "ExecuteTime": {
     "end_time": "2020-10-31T05:35:35.856491Z",
     "start_time": "2020-10-31T05:35:31.865Z"
    }
   },
   "outputs": [],
   "source": [
    "fig, ax = plt.subplots(1, 1, figsize=(7, 4))\n",
    "value_counts = train[col].value_counts()\n",
    "sns.countplot(x=col, hue='income', data=train, palette=\"Set2\", edgecolor='black', order = value_counts.index);"
   ]
  },
  {
   "cell_type": "code",
   "execution_count": null,
   "metadata": {
    "ExecuteTime": {
     "end_time": "2020-10-31T05:35:35.858196Z",
     "start_time": "2020-10-31T05:35:31.870Z"
    }
   },
   "outputs": [],
   "source": [
    "fig, ax = plt.subplots(1, 1, figsize=(7, 7))\n",
    "train_us = train[train['native_country']=='United-States']\n",
    "col = 'native_country'\n",
    "sns.countplot(x=col, hue='income', data=train_us, palette=\"Set2\", edgecolor='black');"
   ]
  },
  {
   "cell_type": "code",
   "execution_count": null,
   "metadata": {
    "ExecuteTime": {
     "end_time": "2020-10-31T05:35:35.859196Z",
     "start_time": "2020-10-31T05:35:31.876Z"
    }
   },
   "outputs": [],
   "source": [
    "fig, ax = plt.subplots(1, 1, figsize=(15, 20))\n",
    "train_other = train[train['native_country']!='United-States']\n",
    "sns.countplot(y=col, hue='income', data=train_other, palette=\"Set2\", edgecolor='black');"
   ]
  },
  {
   "cell_type": "markdown",
   "metadata": {},
   "source": [
    "# EDA -2"
   ]
  },
  {
   "cell_type": "code",
   "execution_count": null,
   "metadata": {
    "ExecuteTime": {
     "end_time": "2020-10-31T05:35:35.860216Z",
     "start_time": "2020-10-31T05:35:31.883Z"
    }
   },
   "outputs": [],
   "source": [
    "# 데이터 분석 라이브러리\n",
    "import numpy as np\n",
    "import pandas as pd\n",
    "\n",
    "# 시각화 라이브러리\n",
    "import matplotlib as mpl\n",
    "import matplotlib.pyplot as plt\n",
    "import seaborn as sns\n",
    "from plotnine import *\n",
    "\n",
    "# 모델링 라이브러리\n",
    "from category_encoders.ordinal import OrdinalEncoder\n",
    "from sklearn.model_selection import KFold\n",
    "from lightgbm import LGBMClassifier\n",
    "\n",
    "# 기타 라이브러리\n",
    "import random\n",
    "import gc\n",
    "import os\n"
   ]
  },
  {
   "cell_type": "code",
   "execution_count": null,
   "metadata": {
    "ExecuteTime": {
     "end_time": "2020-10-31T05:35:35.861229Z",
     "start_time": "2020-10-31T05:35:31.888Z"
    }
   },
   "outputs": [],
   "source": [
    "pd.set_option('display.max_rows', 200)\n",
    "pd.set_option('display.width', 10000)\n",
    "pd.options.display.float_format = '{:.3f}'.format"
   ]
  },
  {
   "cell_type": "code",
   "execution_count": null,
   "metadata": {
    "ExecuteTime": {
     "end_time": "2020-10-31T05:35:35.862214Z",
     "start_time": "2020-10-31T05:35:31.894Z"
    }
   },
   "outputs": [],
   "source": [
    "cd data/kakr-4th-competition"
   ]
  },
  {
   "cell_type": "code",
   "execution_count": null,
   "metadata": {
    "ExecuteTime": {
     "end_time": "2020-10-31T05:35:35.864359Z",
     "start_time": "2020-10-31T05:35:31.899Z"
    }
   },
   "outputs": [],
   "source": [
    "test = pd.read_csv(\"./test.csv\")\n",
    "\n",
    "train = pd.read_csv(\"./train.csv\")\n",
    "\n",
    "sample_submission = pd.read_csv(\"./sample_submission.csv\")"
   ]
  },
  {
   "cell_type": "code",
   "execution_count": null,
   "metadata": {
    "ExecuteTime": {
     "end_time": "2020-10-31T05:35:35.865728Z",
     "start_time": "2020-10-31T05:35:31.904Z"
    }
   },
   "outputs": [],
   "source": [
    "train"
   ]
  },
  {
   "cell_type": "code",
   "execution_count": null,
   "metadata": {
    "ExecuteTime": {
     "end_time": "2020-10-31T05:35:35.866855Z",
     "start_time": "2020-10-31T05:35:31.909Z"
    }
   },
   "outputs": [],
   "source": [
    "#특정 컬럼에서 특정항목값의 수익이 높은 사람의 수 / 특정컬럼에서 특정항목값 총 사람의 수 => 수입이 높은 사람의 비율\n",
    "def portion_income(column):\n",
    "    train[column] = train[column].astype('str')\n",
    "    col_lst = train[column].unique().tolist()\n",
    "    df = train[[column,'income']]\n",
    "\n",
    "    for x in col_lst:\n",
    "        locals()[\"high\" + '_' + x] = df[(df[column] == x) & (df.income == \">50K\")]\n",
    "        locals()[\"low\" + '_' + x]  = df[(df[column] == x) & (df.income == \"<=50K\")]\n",
    "    col_name = []\n",
    "    col_name_value = []\n",
    "    for x in col_lst:\n",
    "        col_name.append(x)\n",
    "        col_name_value.append(len(locals()[\"high\" + '_' + x]) / (len(locals()[\"high\" + '_' + x]) + len(locals()[\"low\" + '_' + x])))\n",
    "        #print(x , len(locals()[\"high\" + '_' + x]) / (len(locals()[\"high\" + '_' + x]) + len(locals()[\"low\" + '_' + x])))\n",
    "    data = pd.DataFrame({\"name\" : col_name, \"value\" : col_name_value }).sort_values(by = 'value', ascending = False)\n",
    "    data.columns = [column, '{}_income_up_portion'.format(column)]\n",
    "    return data"
   ]
  },
  {
   "cell_type": "markdown",
   "metadata": {},
   "source": [
    "### workclass"
   ]
  },
  {
   "cell_type": "code",
   "execution_count": null,
   "metadata": {
    "ExecuteTime": {
     "end_time": "2020-10-31T05:35:35.866855Z",
     "start_time": "2020-10-31T05:35:31.915Z"
    }
   },
   "outputs": [],
   "source": [
    "fig, ax = plt.subplots(1, 1, figsize=(15, 7))\n",
    "col = 'workclass'\n",
    "value_counts = train[col].value_counts()\n",
    "sns.countplot(x=col, data=train, palette=\"Set2\", edgecolor='black', order = value_counts.index)\n",
    "\n",
    "# bar 상단에 count 숫자로 입력\n",
    "for i, v in value_counts.reset_index().iterrows():\n",
    "    ax.text(i-0.1, v[col]+150 , v[col])"
   ]
  },
  {
   "cell_type": "code",
   "execution_count": null,
   "metadata": {
    "ExecuteTime": {
     "end_time": "2020-10-31T05:35:35.867911Z",
     "start_time": "2020-10-31T05:35:31.920Z"
    }
   },
   "outputs": [],
   "source": [
    "fig, ax = plt.subplots(1, 1, figsize=(15, 7))\n",
    "value_counts = train[col].value_counts()\n",
    "sns.countplot(x=col, hue='income', data=train, palette=\"Set2\", edgecolor='black', order = value_counts.index);"
   ]
  },
  {
   "cell_type": "markdown",
   "metadata": {},
   "source": [
    "- 고용형태당 고수입의 비율이 어느정도 되는지 살펴보자"
   ]
  },
  {
   "cell_type": "code",
   "execution_count": null,
   "metadata": {
    "ExecuteTime": {
     "end_time": "2020-10-31T05:35:35.868613Z",
     "start_time": "2020-10-31T05:35:31.926Z"
    }
   },
   "outputs": [],
   "source": [
    "workclass_list = train.workclass.unique().tolist()\n",
    "workclass_df = train[['workclass','income']]"
   ]
  },
  {
   "cell_type": "code",
   "execution_count": null,
   "metadata": {
    "ExecuteTime": {
     "end_time": "2020-10-31T05:35:35.869899Z",
     "start_time": "2020-10-31T05:35:31.932Z"
    }
   },
   "outputs": [],
   "source": [
    "for x in workclass_list:\n",
    "    locals()[\"high\" + '_' + x] = workclass_df[(workclass_df.workclass == x) & (workclass_df.income == \">50K\")]\n",
    "    locals()[\"low\" + '_' + x]  = workclass_df[(workclass_df.workclass == x) & (workclass_df.income == \"<=50K\")]"
   ]
  },
  {
   "cell_type": "code",
   "execution_count": null,
   "metadata": {
    "ExecuteTime": {
     "end_time": "2020-10-31T05:35:35.870901Z",
     "start_time": "2020-10-31T05:35:31.937Z"
    }
   },
   "outputs": [],
   "source": [
    "for x in workclass_list:\n",
    "    print(x , len(locals()[\"high\" + '_' + x]) / (len(locals()[\"high\" + '_' + x]) + len(locals()[\"low\" + '_' + x])))\n",
    "                                               "
   ]
  },
  {
   "cell_type": "code",
   "execution_count": null,
   "metadata": {
    "ExecuteTime": {
     "end_time": "2020-10-31T05:35:35.871897Z",
     "start_time": "2020-10-31T05:35:31.942Z"
    }
   },
   "outputs": [],
   "source": [
    "workclass_protion = portion_income(\"workclass\")"
   ]
  },
  {
   "cell_type": "code",
   "execution_count": null,
   "metadata": {
    "ExecuteTime": {
     "end_time": "2020-10-31T05:35:35.872900Z",
     "start_time": "2020-10-31T05:35:31.948Z"
    }
   },
   "outputs": [],
   "source": [
    "workclass_protion"
   ]
  },
  {
   "cell_type": "markdown",
   "metadata": {},
   "source": [
    "고용형태(workclass)\n",
    "- Self-emp-inc(법인있는 자영업) - 56.5%\n",
    "    - Refers to people who work for themselves in corporate entities.\n",
    "    - 기업에서 스스로 일하는 사람들을 의미합니다.\n",
    "\n",
    "- Federal-gov(연방 정부) - 38.1%\n",
    "- Local-gov(지방 정부) - 29.8%\n",
    "\n",
    "- Self-emp-not-inc(법인 없는 자영업) - 28.4%\n",
    "    - Refers to people who work for themselves in other legal entities.\n",
    "    - 다른 법인에서 스스로 일하는 사람들을 나타냅니다.\n",
    "\n",
    "- State-gov(주 정부) - 27.7%\n",
    "- Private - 22%\n",
    "- ? - 10%\n",
    "- Without-pay - 0.0\n",
    "- Never-worked - 0.0\n",
    "\n",
    "- ?데이터는 missingvalue -> 삭제할지 채워넣을지 고민해봐야할 것 같다."
   ]
  },
  {
   "cell_type": "code",
   "execution_count": null,
   "metadata": {
    "ExecuteTime": {
     "end_time": "2020-10-31T05:35:35.873900Z",
     "start_time": "2020-10-31T05:35:31.955Z"
    }
   },
   "outputs": [],
   "source": [
    "train[train.workclass == \"Without-pay\"] #전부다 저임금"
   ]
  },
  {
   "cell_type": "code",
   "execution_count": null,
   "metadata": {
    "ExecuteTime": {
     "end_time": "2020-10-31T05:35:35.877778Z",
     "start_time": "2020-10-31T05:35:31.961Z"
    }
   },
   "outputs": [],
   "source": [
    "train[train.workclass == \"Never-worked\"] #전부다 저임금"
   ]
  },
  {
   "cell_type": "markdown",
   "metadata": {},
   "source": [
    "### education_num"
   ]
  },
  {
   "cell_type": "code",
   "execution_count": null,
   "metadata": {
    "ExecuteTime": {
     "end_time": "2020-10-31T05:35:35.879581Z",
     "start_time": "2020-10-31T05:35:31.967Z"
    }
   },
   "outputs": [],
   "source": [
    "train[['education_num', 'education','income']].groupby(['education_num','education'],as_index = False).count().drop('income', axis = 1)"
   ]
  },
  {
   "cell_type": "code",
   "execution_count": null,
   "metadata": {
    "ExecuteTime": {
     "end_time": "2020-10-31T05:35:35.879581Z",
     "start_time": "2020-10-31T05:35:31.973Z"
    }
   },
   "outputs": [],
   "source": [
    "fig, ax = plt.subplots(1, 1, figsize=(20, 7))\n",
    "col = 'education_num'\n",
    "value_counts = train[col].value_counts().sort_index()\n",
    "sns.countplot(x=col, data=train, palette=\"Set2\", edgecolor='black', order = value_counts.index)\n",
    "plt.xticks\n",
    "\n",
    "for i, v in value_counts.reset_index().iterrows():\n",
    "    ax.text(i-0.1, v[col]+150 , v[col])"
   ]
  },
  {
   "cell_type": "code",
   "execution_count": null,
   "metadata": {
    "ExecuteTime": {
     "end_time": "2020-10-31T05:35:35.882086Z",
     "start_time": "2020-10-31T05:35:31.978Z"
    }
   },
   "outputs": [],
   "source": [
    "fig, ax = plt.subplots(1, 1, figsize=(15, 7))\n",
    "value_counts = train[col].value_counts().sort_index()\n",
    "sns.countplot(x=col, hue='income', data=train, palette=\"Set2\", edgecolor='black', order = value_counts.index);"
   ]
  },
  {
   "cell_type": "code",
   "execution_count": null,
   "metadata": {
    "ExecuteTime": {
     "end_time": "2020-10-31T05:35:35.883048Z",
     "start_time": "2020-10-31T05:35:31.983Z"
    }
   },
   "outputs": [],
   "source": [
    "def portion_income(column):\n",
    "    train[column] = train[column].astype('str')\n",
    "    col_lst = train[column].unique().tolist()\n",
    "    df = train[[column,'income']]\n",
    "\n",
    "    for x in col_lst:\n",
    "        locals()[\"high\" + '_' + x] = df[(df[column] == x) & (df.income == \">50K\")]\n",
    "        locals()[\"low\" + '_' + x]  = df[(df[column] == x) & (df.income == \"<=50K\")]\n",
    "    col_name = []\n",
    "    col_name_value = []\n",
    "    for x in col_lst:\n",
    "        col_name.append(x)\n",
    "        col_name_value.append(len(locals()[\"high\" + '_' + x]) / (len(locals()[\"high\" + '_' + x]) + len(locals()[\"low\" + '_' + x])))\n",
    "        #print(x , len(locals()[\"high\" + '_' + x]) / (len(locals()[\"high\" + '_' + x]) + len(locals()[\"low\" + '_' + x])))\n",
    "    data = pd.DataFrame({\"name\" : col_name, \"value\" : col_name_value }).sort_values(by = 'value', ascending = False)\n",
    "    return data\n",
    "                                               "
   ]
  },
  {
   "cell_type": "code",
   "execution_count": null,
   "metadata": {
    "ExecuteTime": {
     "end_time": "2020-10-31T05:35:35.883963Z",
     "start_time": "2020-10-31T05:35:31.989Z"
    }
   },
   "outputs": [],
   "source": [
    "portion_income('education')\n",
    "#상위 4개 / 그다음 2개 / 그다음 2개 / 나머지"
   ]
  },
  {
   "cell_type": "code",
   "execution_count": null,
   "metadata": {
    "ExecuteTime": {
     "end_time": "2020-10-31T05:35:35.884964Z",
     "start_time": "2020-10-31T05:35:31.994Z"
    }
   },
   "outputs": [],
   "source": [
    "education_protion = portion_income(\"education\")"
   ]
  },
  {
   "cell_type": "markdown",
   "metadata": {},
   "source": [
    "- Preschool < 1st-4th < 5th-6th < 7th-8th < 9th < 10th < 11th < 12th < HS-grad < Prof-school < Assoc-acdm < Assoc-voc < Some-college < Bachelors < Masters < Doctorate.\n",
    "- Doctorate - 박사학위\n",
    "- Prof-school - \n",
    "- Masters - 석사\n",
    "- Bachelors - 학사\n",
    "- Some-college \n",
    "- \"일부 대학\"(종종 \"일부 대학, 학위 없음\")은 주로 취업 통계의 범주입니다. 평균적으로 대학을 시작했지만 졸업하지 않은 사람은 고등학교 졸업장 만있는 사람보다 더 많이 벌고 실업률이 적지 만 준 학사 학위를 가진 사람만큼 좋지는 않습니다.\n",
    "\n",
    "- HS-grad - 고등학교 졸업\n",
    "- preschool - 취학 전의"
   ]
  },
  {
   "cell_type": "markdown",
   "metadata": {},
   "source": [
    "### martial_status"
   ]
  },
  {
   "cell_type": "code",
   "execution_count": null,
   "metadata": {
    "ExecuteTime": {
     "end_time": "2020-10-31T05:35:35.886075Z",
     "start_time": "2020-10-31T05:35:32.001Z"
    }
   },
   "outputs": [],
   "source": [
    "fig, ax = plt.subplots(1, 1, figsize=(20, 7))\n",
    "col = 'marital_status'\n",
    "value_counts = train[col].value_counts()\n",
    "sns.countplot(x=col, data=train, palette=\"Set2\", edgecolor='black', order = value_counts.index)\n",
    "\n",
    "for i, v in value_counts.reset_index().iterrows():\n",
    "    ax.text(i-0.1, v[col]+150 , v[col])"
   ]
  },
  {
   "cell_type": "code",
   "execution_count": null,
   "metadata": {
    "ExecuteTime": {
     "end_time": "2020-10-31T05:35:35.888078Z",
     "start_time": "2020-10-31T05:35:32.007Z"
    }
   },
   "outputs": [],
   "source": [
    "fig, ax = plt.subplots(1, 1, figsize=(15, 7))\n",
    "value_counts = train[col].value_counts()\n",
    "sns.countplot(x=col, hue='income', data=train, palette=\"Set2\", edgecolor='black', order = value_counts.index);"
   ]
  },
  {
   "cell_type": "code",
   "execution_count": null,
   "metadata": {
    "ExecuteTime": {
     "end_time": "2020-10-31T05:35:35.888609Z",
     "start_time": "2020-10-31T05:35:32.013Z"
    }
   },
   "outputs": [],
   "source": [
    "portion_income('marital_status')"
   ]
  },
  {
   "cell_type": "code",
   "execution_count": null,
   "metadata": {},
   "outputs": [],
   "source": []
  },
  {
   "cell_type": "code",
   "execution_count": null,
   "metadata": {
    "ExecuteTime": {
     "end_time": "2020-10-31T05:35:35.889612Z",
     "start_time": "2020-10-31T05:35:32.021Z"
    }
   },
   "outputs": [],
   "source": [
    "marital_status_protion = portion_income(\"marital_status\")"
   ]
  },
  {
   "cell_type": "markdown",
   "metadata": {},
   "source": [
    "### occupation"
   ]
  },
  {
   "cell_type": "code",
   "execution_count": null,
   "metadata": {
    "ExecuteTime": {
     "end_time": "2020-10-31T05:35:35.890766Z",
     "start_time": "2020-10-31T05:35:32.027Z"
    }
   },
   "outputs": [],
   "source": [
    "fig, ax = plt.subplots(1, 1, figsize=(20, 7))\n",
    "col = 'occupation'\n",
    "value_counts = train[col].value_counts()\n",
    "sns.countplot(x=col, data=train, palette=\"Set2\", edgecolor='black', order = value_counts.index)\n",
    "plt.xticks(rotation=45)\n",
    "\n",
    "for i, v in value_counts.reset_index().iterrows():\n",
    "    ax.text(i-0.12, v[col]+50 , v[col])"
   ]
  },
  {
   "cell_type": "code",
   "execution_count": null,
   "metadata": {
    "ExecuteTime": {
     "end_time": "2020-10-31T05:35:35.891766Z",
     "start_time": "2020-10-31T05:35:32.033Z"
    }
   },
   "outputs": [],
   "source": [
    "fig, ax = plt.subplots(1, 1, figsize=(15, 10))\n",
    "value_counts = train[col].value_counts()\n",
    "sns.countplot(y=col, hue='income', data=train, palette=\"Set2\", edgecolor='black', order = value_counts.index);"
   ]
  },
  {
   "cell_type": "code",
   "execution_count": null,
   "metadata": {
    "ExecuteTime": {
     "end_time": "2020-10-31T05:35:35.893176Z",
     "start_time": "2020-10-31T05:35:32.038Z"
    }
   },
   "outputs": [],
   "source": [
    "train[train.occupation == 'Armed-Forces']"
   ]
  },
  {
   "cell_type": "code",
   "execution_count": null,
   "metadata": {
    "ExecuteTime": {
     "end_time": "2020-10-31T05:35:35.894191Z",
     "start_time": "2020-10-31T05:35:32.044Z"
    }
   },
   "outputs": [],
   "source": [
    "portion_income('occupation')\n",
    "#Exec-managerial 경영진\n",
    "#Prof-specialty 전문직\n",
    "#Protective-serv 보호 서비스\n",
    "#Tech-support 기술지원\n",
    "\n",
    "\n",
    "\n",
    "#Adm-clerical 임시 사무원\n",
    "\n",
    "#Armed-Forces 군인 월급이 50k ? 7명? - 고려해봐야한다.\n"
   ]
  },
  {
   "cell_type": "markdown",
   "metadata": {},
   "source": [
    "### Relationship"
   ]
  },
  {
   "cell_type": "code",
   "execution_count": null,
   "metadata": {
    "ExecuteTime": {
     "end_time": "2020-10-31T05:35:35.895470Z",
     "start_time": "2020-10-31T05:35:32.051Z"
    }
   },
   "outputs": [],
   "source": [
    "fig, ax = plt.subplots(1, 1, figsize=(15, 7))\n",
    "col = 'relationship'\n",
    "value_counts = train[col].value_counts()\n",
    "sns.countplot(x=col, data=train, palette=\"Set2\", edgecolor='black', order = value_counts.index)\n",
    "\n",
    "for i, v in value_counts.reset_index().iterrows():\n",
    "    ax.text(i-0.1, v[col]+150 , v[col])"
   ]
  },
  {
   "cell_type": "code",
   "execution_count": null,
   "metadata": {
    "ExecuteTime": {
     "end_time": "2020-10-31T05:35:35.897472Z",
     "start_time": "2020-10-31T05:35:32.057Z"
    }
   },
   "outputs": [],
   "source": [
    "fig, ax = plt.subplots(1, 1, figsize=(12, 6))\n",
    "value_counts = train[col].value_counts()\n",
    "sns.countplot(x=col, hue='income', data=train, palette=\"Set2\", edgecolor='black', order = value_counts.index);"
   ]
  },
  {
   "cell_type": "code",
   "execution_count": null,
   "metadata": {
    "ExecuteTime": {
     "end_time": "2020-10-31T05:35:35.897472Z",
     "start_time": "2020-10-31T05:35:32.062Z"
    }
   },
   "outputs": [],
   "source": [
    "portion_income('relationship')"
   ]
  },
  {
   "cell_type": "code",
   "execution_count": null,
   "metadata": {
    "ExecuteTime": {
     "end_time": "2020-10-31T05:35:35.899243Z",
     "start_time": "2020-10-31T05:35:32.067Z"
    }
   },
   "outputs": [],
   "source": [
    "relationship_protion = portion_income(\"relationship\")"
   ]
  },
  {
   "cell_type": "markdown",
   "metadata": {},
   "source": [
    "### race"
   ]
  },
  {
   "cell_type": "code",
   "execution_count": null,
   "metadata": {
    "ExecuteTime": {
     "end_time": "2020-10-31T05:35:35.900530Z",
     "start_time": "2020-10-31T05:35:32.074Z"
    }
   },
   "outputs": [],
   "source": [
    "fig, ax = plt.subplots(1, 1, figsize=(12, 6))\n",
    "col = 'race'\n",
    "value_counts = train[col].value_counts()\n",
    "sns.countplot(x=col, data=train, palette=\"Set2\", edgecolor='black', order = value_counts.index)\n",
    "\n",
    "for i, v in value_counts.reset_index().iterrows():\n",
    "    ax.text(i-0.1, v[col]+150 , v[col])"
   ]
  },
  {
   "cell_type": "code",
   "execution_count": null,
   "metadata": {
    "ExecuteTime": {
     "end_time": "2020-10-31T05:35:35.901559Z",
     "start_time": "2020-10-31T05:35:32.080Z"
    }
   },
   "outputs": [],
   "source": [
    "fig, ax = plt.subplots(1, 1, figsize=(12, 6))\n",
    "value_counts = train[col].value_counts()\n",
    "sns.countplot(x=col, hue='income', data=train, palette=\"Set2\", edgecolor='black', order = value_counts.index);"
   ]
  },
  {
   "cell_type": "code",
   "execution_count": null,
   "metadata": {
    "ExecuteTime": {
     "end_time": "2020-10-31T05:35:35.902529Z",
     "start_time": "2020-10-31T05:35:32.085Z"
    }
   },
   "outputs": [],
   "source": [
    "portion_income('race')"
   ]
  },
  {
   "cell_type": "code",
   "execution_count": null,
   "metadata": {
    "ExecuteTime": {
     "end_time": "2020-10-31T05:35:35.903517Z",
     "start_time": "2020-10-31T05:35:32.092Z"
    }
   },
   "outputs": [],
   "source": [
    "race_protion = portion_income(\"race\")"
   ]
  },
  {
   "cell_type": "markdown",
   "metadata": {},
   "source": [
    "### sex"
   ]
  },
  {
   "cell_type": "code",
   "execution_count": null,
   "metadata": {
    "ExecuteTime": {
     "end_time": "2020-10-31T05:35:35.905520Z",
     "start_time": "2020-10-31T05:35:32.100Z"
    }
   },
   "outputs": [],
   "source": [
    "fig, ax = plt.subplots(1, 1, figsize=(7, 4))\n",
    "col = 'sex'\n",
    "value_counts = train[col].value_counts()\n",
    "sns.countplot(x=col, data=train, palette=\"Set2\", edgecolor='black', order = value_counts.index)\n",
    "\n",
    "for i, v in value_counts.reset_index().iterrows():\n",
    "    ax.text(i-0.05, v[col]+150 , v[col])"
   ]
  },
  {
   "cell_type": "code",
   "execution_count": null,
   "metadata": {
    "ExecuteTime": {
     "end_time": "2020-10-31T05:35:35.905520Z",
     "start_time": "2020-10-31T05:35:32.106Z"
    }
   },
   "outputs": [],
   "source": [
    "fig, ax = plt.subplots(1, 1, figsize=(7, 4))\n",
    "value_counts = train[col].value_counts()\n",
    "sns.countplot(x=col, hue='income', data=train, palette=\"Set2\", edgecolor='black', order = value_counts.index);"
   ]
  },
  {
   "cell_type": "code",
   "execution_count": null,
   "metadata": {
    "ExecuteTime": {
     "end_time": "2020-10-31T05:35:35.907802Z",
     "start_time": "2020-10-31T05:35:32.112Z"
    }
   },
   "outputs": [],
   "source": [
    "portion_income('sex')"
   ]
  },
  {
   "cell_type": "code",
   "execution_count": null,
   "metadata": {
    "ExecuteTime": {
     "end_time": "2020-10-31T05:35:35.908981Z",
     "start_time": "2020-10-31T05:35:32.118Z"
    }
   },
   "outputs": [],
   "source": [
    "sex_protion = portion_income(\"sex\")"
   ]
  },
  {
   "cell_type": "code",
   "execution_count": null,
   "metadata": {
    "ExecuteTime": {
     "end_time": "2020-10-31T05:35:35.909979Z",
     "start_time": "2020-10-31T05:35:32.124Z"
    }
   },
   "outputs": [],
   "source": [
    "sex_protion"
   ]
  },
  {
   "cell_type": "markdown",
   "metadata": {},
   "source": [
    "### age"
   ]
  },
  {
   "cell_type": "code",
   "execution_count": null,
   "metadata": {
    "ExecuteTime": {
     "end_time": "2020-10-31T05:35:35.910984Z",
     "start_time": "2020-10-31T05:35:32.131Z"
    }
   },
   "outputs": [],
   "source": [
    "fig, ax = plt.subplots(1, 1, figsize=(24, 4))\n",
    "col = 'age'\n",
    "value_counts = train[col].value_counts()\n",
    "sns.countplot(x=col, data=train, palette=\"Set2\", edgecolor='black')\n",
    "\n",
    "for i, v in value_counts.reset_index().iterrows():\n",
    "    ax.text(i-0.05, v[col]+150 , v[col])"
   ]
  },
  {
   "cell_type": "code",
   "execution_count": null,
   "metadata": {
    "ExecuteTime": {
     "end_time": "2020-10-31T05:35:35.912984Z",
     "start_time": "2020-10-31T05:35:32.137Z"
    }
   },
   "outputs": [],
   "source": [
    "fig, ax = plt.subplots(1, 1, figsize=(15, 4))\n",
    "value_counts = train[col].value_counts()\n",
    "sns.countplot(x=col, hue='income', data=train, palette=\"Set2\", edgecolor='black');"
   ]
  },
  {
   "cell_type": "code",
   "execution_count": null,
   "metadata": {
    "ExecuteTime": {
     "end_time": "2020-10-31T05:35:35.914001Z",
     "start_time": "2020-10-31T05:35:32.144Z"
    },
    "scrolled": true
   },
   "outputs": [],
   "source": [
    "위의 그래프를 보면 47까지 인구수가 유지가 조금은 되는것 같다.\n",
    "나이가 21부터 47까지 인구수에 관계없이 수입이 많은사람이 늘어난다.\n",
    "\n",
    "\n",
    "나이가 52부터 인구수가 감소한다.\n",
    "나이가 52부터 \n",
    "\n",
    "\n",
    "\n",
    "portion_income('age').sort_values(by = ['age'])\n",
    "17 ~ 20\n",
    "21 ~ 24\n",
    "24 ~ 27\n",
    "27 ~ 35\n",
    "36 ~ 47\n",
    "48 ~ 52\n",
    "53 ~ 61\n",
    "62 ~ 71\n",
    "72 ~ 80\n",
    "81 ~ 90"
   ]
  },
  {
   "cell_type": "code",
   "execution_count": null,
   "metadata": {},
   "outputs": [],
   "source": []
  },
  {
   "cell_type": "code",
   "execution_count": null,
   "metadata": {
    "ExecuteTime": {
     "end_time": "2020-10-31T05:35:35.915000Z",
     "start_time": "2020-10-31T05:35:32.152Z"
    }
   },
   "outputs": [],
   "source": [
    "age_protion = portion_income(\"age\")"
   ]
  },
  {
   "cell_type": "code",
   "execution_count": null,
   "metadata": {
    "ExecuteTime": {
     "end_time": "2020-10-31T05:35:35.916174Z",
     "start_time": "2020-10-31T05:35:32.157Z"
    }
   },
   "outputs": [],
   "source": [
    "train.age.apply(lambda x : x < 22   )\n",
    "train.age.apply(lambda x : 22 =< x < )\n",
    "train.age.apply(lambda x : x )\n",
    "train.age.apply(lambda x : x )"
   ]
  },
  {
   "cell_type": "markdown",
   "metadata": {},
   "source": [
    "### hours_per_week"
   ]
  },
  {
   "cell_type": "markdown",
   "metadata": {},
   "source": [
    "- 직업마다 근무시간에 따른 수입이 다를것 같다."
   ]
  },
  {
   "cell_type": "code",
   "execution_count": null,
   "metadata": {
    "ExecuteTime": {
     "end_time": "2020-10-31T05:35:35.919926Z",
     "start_time": "2020-10-31T05:35:32.165Z"
    }
   },
   "outputs": [],
   "source": [
    "fig, ax = plt.subplots(1, 1, figsize=(20, 4))\n",
    "col = 'hours_per_week'\n",
    "value_counts = train[col].value_counts()\n",
    "sns.countplot(x=col, data=train, palette=\"Set2\", edgecolor='black')\n",
    "\n",
    "for i, v in value_counts.reset_index().iterrows():\n",
    "    ax.text(i-0.05, v[col]+150 , v[col])\n",
    "#근무시간에 5의 배수일경우의 데이터 수가 많다."
   ]
  },
  {
   "cell_type": "code",
   "execution_count": null,
   "metadata": {
    "ExecuteTime": {
     "end_time": "2020-10-31T05:35:35.921926Z",
     "start_time": "2020-10-31T05:35:32.173Z"
    }
   },
   "outputs": [],
   "source": [
    "fig, ax = plt.subplots(1, 1, figsize=(15, 4))\n",
    "value_counts = train[col].value_counts()\n",
    "sns.countplot(x=col, hue='income', data=train, palette=\"Set2\", edgecolor='black');"
   ]
  },
  {
   "cell_type": "code",
   "execution_count": null,
   "metadata": {
    "ExecuteTime": {
     "end_time": "2020-10-31T05:35:35.923412Z",
     "start_time": "2020-10-31T05:35:32.178Z"
    }
   },
   "outputs": [],
   "source": [
    "portion_income('hours_per_week')"
   ]
  },
  {
   "cell_type": "code",
   "execution_count": null,
   "metadata": {
    "ExecuteTime": {
     "end_time": "2020-10-31T05:35:35.924406Z",
     "start_time": "2020-10-31T05:35:32.183Z"
    }
   },
   "outputs": [],
   "source": [
    "hours_per_week_protion = portion_income(\"hours_per_week\")"
   ]
  },
  {
   "cell_type": "code",
   "execution_count": null,
   "metadata": {},
   "outputs": [],
   "source": []
  },
  {
   "cell_type": "markdown",
   "metadata": {},
   "source": [
    "# EDA -3"
   ]
  },
  {
   "cell_type": "code",
   "execution_count": null,
   "metadata": {
    "ExecuteTime": {
     "end_time": "2020-10-31T05:35:35.925634Z",
     "start_time": "2020-10-31T05:35:32.191Z"
    }
   },
   "outputs": [],
   "source": [
    "sex_occupation = train[['sex', 'occupation']]"
   ]
  },
  {
   "cell_type": "code",
   "execution_count": null,
   "metadata": {
    "ExecuteTime": {
     "end_time": "2020-10-31T05:35:35.926997Z",
     "start_time": "2020-10-31T05:35:32.196Z"
    }
   },
   "outputs": [],
   "source": [
    "#특정 컬럼에서 특정항목값의 수익이 높은 사람의 수 / 특정컬럼에서 특정항목값 총 사람의 수 => 수입이 높은 사람의 비율\n",
    "def portion_income_sex_occupation(column):\n",
    "    train[column] = train[column].astype('str')\n",
    "    col_lst = train[column].unique().tolist()\n",
    "    df = train[[column,'sex']]\n",
    "\n",
    "    for x in col_lst:\n",
    "        locals()[\"ma\" + '_' + x] = df[(df[column] == x) & (df.sex == \"Male\")]\n",
    "        locals()[\"fe\" + '_' + x]  = df[(df[column] == x) & (df.sex == \"Female\")]\n",
    "    col_name = []\n",
    "    col_name_value = []\n",
    "    for x in col_lst:\n",
    "        col_name.append(x)\n",
    "        col_name_value.append(len(locals()[\"ma\" + '_' + x]) / (len(locals()[\"ma\" + '_' + x]) + len(locals()[\"fe\" + '_' + x])))\n",
    "        #print(x , len(locals()[\"high\" + '_' + x]) / (len(locals()[\"high\" + '_' + x]) + len(locals()[\"low\" + '_' + x])))\n",
    "    data = pd.DataFrame({\"name\" : col_name, \"value\" : col_name_value }).sort_values(by = 'value', ascending = False)\n",
    "    data.columns = [column, '{}_income_up_portion'.format(column)]\n",
    "    return data"
   ]
  },
  {
   "cell_type": "code",
   "execution_count": null,
   "metadata": {
    "ExecuteTime": {
     "end_time": "2020-10-31T05:35:35.928003Z",
     "start_time": "2020-10-31T05:35:32.201Z"
    }
   },
   "outputs": [],
   "source": [
    "portion_income_sex_occupation(\"occupation\")\n",
    "#해당 직업에서 남자의 비율"
   ]
  },
  {
   "cell_type": "code",
   "execution_count": null,
   "metadata": {
    "ExecuteTime": {
     "end_time": "2020-10-31T05:35:35.929002Z",
     "start_time": "2020-10-31T05:35:32.206Z"
    }
   },
   "outputs": [],
   "source": [
    "fig, ax = plt.subplots(1, 1, figsize=(15, 7))\n",
    "col = 'occupation'\n",
    "value_counts = train[col].value_counts()\n",
    "sns.countplot(x=col, data=train, palette=\"Set2\", edgecolor='black', order = value_counts.index)\n",
    "plt.xticks(rotation=45)\n",
    "# bar 상단에 count 숫자로 입력\n",
    "for i, v in value_counts.reset_index().iterrows():\n",
    "    ax.text(i-0.1, v[col]+150 , v[col])"
   ]
  },
  {
   "cell_type": "code",
   "execution_count": null,
   "metadata": {
    "ExecuteTime": {
     "end_time": "2020-10-31T05:35:35.931600Z",
     "start_time": "2020-10-31T05:35:32.211Z"
    }
   },
   "outputs": [],
   "source": [
    "fig, ax = plt.subplots(1, 1, figsize=(15, 7))\n",
    "value_counts = train[col].value_counts()\n",
    "plt.xticks(rotation=45)\n",
    "sns.countplot(x=col, hue='sex', data=train, palette=\"Set2\", edgecolor='black', order = value_counts.index);"
   ]
  },
  {
   "cell_type": "code",
   "execution_count": null,
   "metadata": {
    "ExecuteTime": {
     "end_time": "2020-10-31T05:35:35.933603Z",
     "start_time": "2020-10-31T05:35:32.215Z"
    }
   },
   "outputs": [],
   "source": [
    "sex_occupation = train[['sex', 'occupation']]"
   ]
  },
  {
   "cell_type": "markdown",
   "metadata": {},
   "source": [
    "Adm-clerical(임시 사무원)은 여성의 비중이 매우 높다.\n",
    "other-service(서비스)는 여성의 비중이 남성보다 높다.\n",
    "\n",
    "그걸 제외하고 나머지는 다 남성이 해당직업에 차지하는 비율이 높다.\n",
    "\n",
    "그중에서 \n"
   ]
  },
  {
   "cell_type": "markdown",
   "metadata": {},
   "source": [
    "### 컬럼간 수치형데이터 시각화"
   ]
  },
  {
   "cell_type": "code",
   "execution_count": null,
   "metadata": {
    "ExecuteTime": {
     "end_time": "2020-10-31T05:35:35.934602Z",
     "start_time": "2020-10-31T05:35:32.223Z"
    }
   },
   "outputs": [],
   "source": [
    "train.income = train.income.apply(lambda x : 1 if x == '>50K' else x)\n",
    "train.income = train.income.apply(lambda x : 0 if x == '<=50K' else x)"
   ]
  },
  {
   "cell_type": "code",
   "execution_count": null,
   "metadata": {
    "ExecuteTime": {
     "end_time": "2020-10-31T05:35:35.935124Z",
     "start_time": "2020-10-31T05:35:32.230Z"
    }
   },
   "outputs": [],
   "source": [
    "import matplotlib.pyplot as plt\n",
    "import pandas as pd\n",
    "from sklearn import datasets\n",
    "from pandas.plotting import scatter_matrix\n",
    "\n",
    "#ploting scatter graph of species comparing all features to each other\n",
    "scatter_matrix(train, c=train['income'],marker='o', s=10,alpha=.8,figsize=(40, 40))\n",
    "plt.show()"
   ]
  },
  {
   "cell_type": "markdown",
   "metadata": {},
   "source": [
    "# feature"
   ]
  },
  {
   "cell_type": "markdown",
   "metadata": {},
   "source": [
    "### capital gain 뜯어먹자"
   ]
  },
  {
   "cell_type": "code",
   "execution_count": null,
   "metadata": {
    "ExecuteTime": {
     "end_time": "2020-10-31T05:35:35.937130Z",
     "start_time": "2020-10-31T05:35:32.239Z"
    },
    "scrolled": true
   },
   "outputs": [],
   "source": [
    "import qgrid\n",
    "qgrid_widget = qgrid.show_grid(train,show_toolbar=True)\n",
    "qgrid_widget\n",
    "#검색조건 : 수입이 낮은경우 / capital gain이 제일 높은 순으로 정렬"
   ]
  },
  {
   "cell_type": "markdown",
   "metadata": {},
   "source": [
    "- 수입이 낮은 사람의 경우 capital_gain이 41310이 최대다"
   ]
  },
  {
   "cell_type": "code",
   "execution_count": null,
   "metadata": {
    "ExecuteTime": {
     "end_time": "2020-10-31T05:35:35.938127Z",
     "start_time": "2020-10-31T05:35:32.247Z"
    },
    "scrolled": true
   },
   "outputs": [],
   "source": [
    "qgrid_widget = qgrid.show_grid(train,show_toolbar=True)\n",
    "qgrid_widget"
   ]
  },
  {
   "cell_type": "markdown",
   "metadata": {},
   "source": [
    "- 즉 capital_gain이 41310 이상인 경우에는 죄다 수입이 높은 집단으로 분류되었다"
   ]
  },
  {
   "cell_type": "markdown",
   "metadata": {},
   "source": [
    "- capital_gain이 99999인 사람은 어떤사람일까"
   ]
  },
  {
   "cell_type": "code",
   "execution_count": null,
   "metadata": {
    "ExecuteTime": {
     "end_time": "2020-10-31T05:35:35.939856Z",
     "start_time": "2020-10-31T05:35:32.254Z"
    }
   },
   "outputs": [],
   "source": [
    "qgrid_widget = qgrid.show_grid(train,show_toolbar=True)\n",
    "qgrid_widget"
   ]
  },
  {
   "cell_type": "code",
   "execution_count": null,
   "metadata": {
    "ExecuteTime": {
     "end_time": "2020-10-31T05:35:35.940866Z",
     "start_time": "2020-10-31T05:35:32.259Z"
    }
   },
   "outputs": [],
   "source": [
    "train[train.capital_gain > 41310] #즉 capital_gain이 41310의 바로 윗 값은 99999"
   ]
  },
  {
   "cell_type": "markdown",
   "metadata": {},
   "source": [
    "#### 확실한 up50k 는 capital_gain이 99999인경우"
   ]
  },
  {
   "cell_type": "markdown",
   "metadata": {},
   "source": [
    "#### education이 preschool ~ 12th 까지 거의 대부분 수입이 낮은집단"
   ]
  },
  {
   "cell_type": "code",
   "execution_count": null,
   "metadata": {
    "ExecuteTime": {
     "end_time": "2020-10-31T05:35:35.940975Z",
     "start_time": "2020-10-31T05:35:32.265Z"
    }
   },
   "outputs": [],
   "source": [
    "qgrid_widget = qgrid.show_grid(train,show_toolbar=True)\n",
    "qgrid_widget"
   ]
  },
  {
   "cell_type": "code",
   "execution_count": null,
   "metadata": {
    "ExecuteTime": {
     "end_time": "2020-10-31T05:35:35.942258Z",
     "start_time": "2020-10-31T05:35:32.269Z"
    }
   },
   "outputs": [],
   "source": [
    "qgrid_widget = qgrid.show_grid(train,show_toolbar=True)\n",
    "qgrid_widget"
   ]
  },
  {
   "cell_type": "code",
   "execution_count": null,
   "metadata": {
    "ExecuteTime": {
     "end_time": "2020-10-31T05:35:35.943300Z",
     "start_time": "2020-10-31T05:35:32.275Z"
    }
   },
   "outputs": [],
   "source": [
    "qgrid_widget = qgrid.show_grid(train,show_toolbar=True)\n",
    "qgrid_widget"
   ]
  },
  {
   "cell_type": "code",
   "execution_count": null,
   "metadata": {},
   "outputs": [],
   "source": []
  },
  {
   "cell_type": "code",
   "execution_count": null,
   "metadata": {},
   "outputs": [],
   "source": []
  },
  {
   "cell_type": "code",
   "execution_count": null,
   "metadata": {},
   "outputs": [],
   "source": []
  },
  {
   "cell_type": "code",
   "execution_count": null,
   "metadata": {},
   "outputs": [],
   "source": []
  },
  {
   "cell_type": "markdown",
   "metadata": {},
   "source": [
    "# Modeliing"
   ]
  },
  {
   "cell_type": "code",
   "execution_count": null,
   "metadata": {},
   "outputs": [],
   "source": []
  },
  {
   "cell_type": "code",
   "execution_count": null,
   "metadata": {
    "ExecuteTime": {
     "end_time": "2020-10-31T05:35:35.945208Z",
     "start_time": "2020-10-31T05:35:32.295Z"
    }
   },
   "outputs": [],
   "source": [
    "train.drop(['id'], axis=1, inplace=True)\n",
    "test.drop(['id'], axis=1, inplace=True)"
   ]
  },
  {
   "cell_type": "code",
   "execution_count": null,
   "metadata": {
    "ExecuteTime": {
     "end_time": "2020-10-31T05:35:35.946209Z",
     "start_time": "2020-10-31T05:35:32.300Z"
    }
   },
   "outputs": [],
   "source": [
    "y = train['income'] != '<=50K'\n",
    "X = train.drop(['income'], axis=1)"
   ]
  },
  {
   "cell_type": "code",
   "execution_count": null,
   "metadata": {
    "ExecuteTime": {
     "end_time": "2020-10-31T05:35:35.946648Z",
     "start_time": "2020-10-31T05:35:32.305Z"
    }
   },
   "outputs": [],
   "source": [
    "# 라벨 인코더 생성\n",
    "LE_encoder = OrdinalEncoder(list(X.columns))\n",
    "\n",
    "# train, test 데이터에 인코딩 적용\n",
    "X = LE_encoder.fit_transform(X, y)\n",
    "test = LE_encoder.transform(test)"
   ]
  },
  {
   "cell_type": "code",
   "execution_count": null,
   "metadata": {
    "ExecuteTime": {
     "end_time": "2020-10-31T05:35:35.947646Z",
     "start_time": "2020-10-31T05:35:32.310Z"
    }
   },
   "outputs": [],
   "source": [
    "NFOLDS = 5\n",
    "folds = KFold(n_splits=NFOLDS)\n",
    "\n",
    "columns = X.columns\n",
    "splits = folds.split(X, y)\n",
    "y_preds = np.zeros(test.shape[0])\n",
    "\n",
    "feature_importances = pd.DataFrame()\n",
    "feature_importances['feature'] = columns"
   ]
  },
  {
   "cell_type": "code",
   "execution_count": null,
   "metadata": {
    "ExecuteTime": {
     "end_time": "2020-10-31T05:35:35.949655Z",
     "start_time": "2020-10-31T05:35:32.315Z"
    },
    "scrolled": true
   },
   "outputs": [],
   "source": [
    "model = LGBMClassifier(objective='binary', verbose=400, random_state=91)\n",
    "\n",
    "\n",
    "for fold_n, (train_index, valid_index) in enumerate(splits):\n",
    "    print('Fold: ', fold_n+1)\n",
    "    X_train, X_valid = X.iloc[train_index], X.iloc[valid_index]\n",
    "    y_train, y_valid = y.iloc[train_index], y.iloc[valid_index]\n",
    "\n",
    "    evals = [(X_train, y_train), (X_valid, y_valid)]\n",
    "    model.fit(X_train, y_train, eval_metric='f1', eval_set=evals, verbose=True)\n",
    "    \n",
    "    feature_importances[f'fold_{fold_n + 1}'] = model.feature_importances_\n",
    "        \n",
    "    y_preds += model.predict(test).astype(int) / NFOLDS\n",
    "    \n",
    "    #del X_train, X_valid, y_train, y_valid\n",
    "    gc.collect()"
   ]
  },
  {
   "cell_type": "code",
   "execution_count": null,
   "metadata": {
    "ExecuteTime": {
     "end_time": "2020-10-31T05:35:35.950687Z",
     "start_time": "2020-10-31T05:35:32.320Z"
    }
   },
   "outputs": [],
   "source": [
    "sample_submission['prediction'] = y_preds\n",
    "\n",
    "for ix, row in sample_submission.iterrows():\n",
    "    if row['prediction'] > 0.5:\n",
    "        sample_submission.loc[ix, 'prediction'] = 1\n",
    "    else:\n",
    "        sample_submission.loc[ix, 'prediction'] = 0\n",
    "\n",
    "sample_submission = sample_submission.astype({\"prediction\": int})\n",
    "sample_submission.to_csv('submission_3.csv', index=False)"
   ]
  },
  {
   "cell_type": "code",
   "execution_count": null,
   "metadata": {
    "ExecuteTime": {
     "end_time": "2020-10-31T05:35:35.951650Z",
     "start_time": "2020-10-31T05:35:32.325Z"
    }
   },
   "outputs": [],
   "source": [
    "fig, ax = plt.subplots(1, 1, figsize=(8, 4))\n",
    "col = 'prediction'\n",
    "value_counts = sample_submission[col].value_counts()\n",
    "sns.countplot(x=col, data=sample_submission, palette=\"Set2\", edgecolor='black', order = value_counts.index)\n",
    "\n",
    "for i, v in value_counts.reset_index().iterrows():\n",
    "    ax.text(i-0.05, v[col]+150 , v[col])"
   ]
  },
  {
   "cell_type": "code",
   "execution_count": null,
   "metadata": {
    "ExecuteTime": {
     "end_time": "2020-10-31T05:35:35.952375Z",
     "start_time": "2020-10-31T05:35:32.330Z"
    }
   },
   "outputs": [],
   "source": [
    "ll"
   ]
  },
  {
   "cell_type": "code",
   "execution_count": null,
   "metadata": {},
   "outputs": [],
   "source": []
  }
 ],
 "metadata": {
  "hide_input": false,
  "kernelspec": {
   "display_name": "Python 3",
   "language": "python",
   "name": "python3"
  },
  "language_info": {
   "codemirror_mode": {
    "name": "ipython",
    "version": 3
   },
   "file_extension": ".py",
   "mimetype": "text/x-python",
   "name": "python",
   "nbconvert_exporter": "python",
   "pygments_lexer": "ipython3",
   "version": "3.8.3"
  },
  "toc": {
   "base_numbering": 1,
   "nav_menu": {},
   "number_sections": true,
   "sideBar": true,
   "skip_h1_title": false,
   "title_cell": "Table of Contents",
   "title_sidebar": "Contents",
   "toc_cell": false,
   "toc_position": {
    "height": "640px",
    "left": "100px",
    "top": "118px",
    "width": "184px"
   },
   "toc_section_display": true,
   "toc_window_display": true
  },
  "varInspector": {
   "cols": {
    "lenName": 16,
    "lenType": 16,
    "lenVar": 40
   },
   "kernels_config": {
    "python": {
     "delete_cmd_postfix": "",
     "delete_cmd_prefix": "del ",
     "library": "var_list.py",
     "varRefreshCmd": "print(var_dic_list())"
    },
    "r": {
     "delete_cmd_postfix": ") ",
     "delete_cmd_prefix": "rm(",
     "library": "var_list.r",
     "varRefreshCmd": "cat(var_dic_list()) "
    }
   },
   "types_to_exclude": [
    "module",
    "function",
    "builtin_function_or_method",
    "instance",
    "_Feature"
   ],
   "window_display": false
  }
 },
 "nbformat": 4,
 "nbformat_minor": 4
}
