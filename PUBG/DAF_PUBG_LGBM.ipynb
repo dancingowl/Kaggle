{
 "cells": [
  {
   "cell_type": "code",
   "execution_count": 1,
   "metadata": {},
   "outputs": [
    {
     "output_type": "execute_result",
     "data": {
      "text/plain": [
       "'c:\\\\Users\\\\justi\\\\Google 드라이브\\\\Colab Notebooks'"
      ]
     },
     "metadata": {},
     "execution_count": 1
    }
   ],
   "source": [
    "pwd"
   ]
  },
  {
   "cell_type": "markdown",
   "metadata": {
    "colab_type": "text",
    "id": "5BuqhxuP55b3"
   },
   "source": [
    "# PUBG 최종 생존 예측 ML/NN 모델\n",
    "\n",
    "### (주의 1.)본 커널은 이상치(핵 사용 유저)를 제거하여 분석한다.\n",
    "### (주의 2.)핵쟁이를 제외 하지 않은 분석도 제작 예정이다. \n",
    "현실 게임에서는 항상 어느 정도 핵이 존재한다. 그러나 우리는 순수한 실력으로 우열을 가린다.\n"
   ]
  },
  {
   "cell_type": "markdown",
   "metadata": {
    "colab_type": "text",
    "id": "4kSG_LiL_kqS"
   },
   "source": [
    "#Package Import"
   ]
  },
  {
   "cell_type": "code",
   "execution_count": null,
   "metadata": {
    "colab": {
     "base_uri": "https://localhost:8080/",
     "height": 72
    },
    "colab_type": "code",
    "executionInfo": {
     "elapsed": 3920,
     "status": "ok",
     "timestamp": 1597809323194,
     "user": {
      "displayName": "JJ Se",
      "photoUrl": "https://lh3.googleusercontent.com/a-/AOh14Ghb03i_JlSjx_gLyZx-WE1vWYSIsR6GZ-Wv8dClpA=s64",
      "userId": "04495440602003989745"
     },
     "user_tz": -540
    },
    "id": "ZXaEbW6gqLPF",
    "outputId": "cdbf7816-f6c5-455e-ce95-8a8f1211ccd0"
   },
   "outputs": [
    {
     "name": "stderr",
     "output_type": "stream",
     "text": [
      "/usr/local/lib/python3.6/dist-packages/statsmodels/tools/_testing.py:19: FutureWarning: pandas.util.testing is deprecated. Use the functions in the public API at pandas.testing instead.\n",
      "  import pandas.util.testing as tm\n"
     ]
    }
   ],
   "source": [
    "import numpy as np\n",
    "import pandas as pd\n",
    "import matplotlib.pyplot as plt\n",
    "import seaborn as sns\n",
    "import os\n",
    "import gc, sys\n",
    "import time\n",
    "import warnings\n",
    "warnings.filterwarnings(\"ignore\")\n",
    "\n",
    "from sklearn.model_selection import train_test_split, GridSearchCV, cross_val_score\n",
    "\n",
    "from sklearn.preprocessing import StandardScaler, LabelEncoder\n",
    "from sklearn.preprocessing import MinMaxScaler\n",
    "from sklearn.preprocessing import QuantileTransformer\n",
    "\n",
    "from sklearn.linear_model import LogisticRegression\n",
    "#from sklearn.tree import DecisionTreeClassifier\n",
    "#from sklearn.ensemble import RandomForestClassifier\n",
    "#from lightgbm import LGBMClassifier\n",
    "\n",
    "from sklearn.model_selection import cross_val_score\n",
    "from sklearn.ensemble import RandomForestRegressor\n",
    "from xgboost import XGBRegressor\n",
    "from lightgbm import LGBMRegressor\n",
    "\n",
    "\n",
    "from sklearn.metrics import accuracy_score\n",
    "from sklearn.metrics import mean_squared_error\n",
    "from sklearn.metrics import mean_absolute_error\n",
    "from sklearn.metrics import classification_report\n",
    "\n",
    "\n",
    "\n",
    "import tensorflow as tf\n",
    "from tensorflow import keras\n",
    "from tensorflow.keras.models import Sequential\n",
    "from tensorflow.keras.layers import Conv2D, MaxPool2D, Dense, Flatten, Dropout\n",
    "from tensorflow.keras.callbacks import LearningRateScheduler, EarlyStopping, ModelCheckpoint, ReduceLROnPlateau\n",
    "from tensorflow.keras.optimizers import Adam\n",
    "from keras import optimizers"
   ]
  },
  {
   "cell_type": "markdown",
   "metadata": {
    "colab_type": "text",
    "id": "6eHfilmQ17qK"
   },
   "source": [
    "import os\n",
    "for dirname, _, filenames in os.walk('/kaggle/input'):\n",
    "    for filename in filenames:\n",
    "        print(os.path.join(dirname, filename))"
   ]
  },
  {
   "cell_type": "markdown",
   "metadata": {
    "colab_type": "text",
    "id": "18RhF7cjtBW-"
   },
   "source": [
    "\n",
    "# 데이터 불러오기"
   ]
  },
  {
   "cell_type": "markdown",
   "metadata": {
    "colab_type": "text",
    "id": "wyjT0LNuRYpL"
   },
   "source": [
    "데이터 출처: [Kaggle](https://www.kaggle.com/c/pubg-finish-placement-prediction/data)"
   ]
  },
  {
   "cell_type": "code",
   "execution_count": 2,
   "metadata": {
    "colab": {
     "base_uri": "https://localhost:8080/",
     "height": 34
    },
    "colab_type": "code",
    "executionInfo": {
     "elapsed": 662,
     "status": "ok",
     "timestamp": 1598919523377,
     "user": {
      "displayName": "JJ Se",
      "photoUrl": "https://lh3.googleusercontent.com/a-/AOh14Ghb03i_JlSjx_gLyZx-WE1vWYSIsR6GZ-Wv8dClpA=s64",
      "userId": "04495440602003989745"
     },
     "user_tz": -540
    },
    "id": "kG50Y4Sw1y7_",
    "outputId": "f13c1c93-0c69-4916-fedf-0ef830fdd5a5"
   },
   "outputs": [
    {
     "name": "stdout",
     "output_type": "stream",
     "text": [
      "/content/drive/My Drive/data/pubg-finish-placement-prediction\n"
     ]
    }
   ],
   "source": [
    "cd /content/drive/My Drive/data/pubg-finish-placement-prediction/"
   ]
  },
  {
   "cell_type": "markdown",
   "metadata": {
    "colab_type": "text",
    "id": "-O7P0L_Qqktn"
   },
   "source": [
    "cd /kaggle/input/pubg-finish-placement-prediction"
   ]
  },
  {
   "cell_type": "code",
   "execution_count": 3,
   "metadata": {
    "colab": {},
    "colab_type": "code",
    "executionInfo": {
     "elapsed": 935,
     "status": "ok",
     "timestamp": 1598919584004,
     "user": {
      "displayName": "JJ Se",
      "photoUrl": "https://lh3.googleusercontent.com/a-/AOh14Ghb03i_JlSjx_gLyZx-WE1vWYSIsR6GZ-Wv8dClpA=s64",
      "userId": "04495440602003989745"
     },
     "user_tz": -540
    },
    "id": "-0MPDB_jCFwb"
   },
   "outputs": [],
   "source": [
    "import numpy as np\n",
    "import pandas as pd"
   ]
  },
  {
   "cell_type": "code",
   "execution_count": 4,
   "metadata": {
    "colab": {},
    "colab_type": "code",
    "executionInfo": {
     "elapsed": 14313,
     "status": "ok",
     "timestamp": 1598919597788,
     "user": {
      "displayName": "JJ Se",
      "photoUrl": "https://lh3.googleusercontent.com/a-/AOh14Ghb03i_JlSjx_gLyZx-WE1vWYSIsR6GZ-Wv8dClpA=s64",
      "userId": "04495440602003989745"
     },
     "user_tz": -540
    },
    "id": "qquAlB4HrIoM"
   },
   "outputs": [],
   "source": [
    "#df_origin = pd.read_csv('train_V2.csv').sample(n = 500000, replace = False, random_state=1)\n",
    "df_origin = pd.read_csv('train_V2.csv', nrows = 200000)\n",
    "test_origin = pd.read_csv('test_V2.csv')\n",
    "submission = pd.read_csv('sample_submission_V2.csv')"
   ]
  },
  {
   "cell_type": "code",
   "execution_count": 5,
   "metadata": {
    "colab": {},
    "colab_type": "code",
    "executionInfo": {
     "elapsed": 649,
     "status": "ok",
     "timestamp": 1598919610972,
     "user": {
      "displayName": "JJ Se",
      "photoUrl": "https://lh3.googleusercontent.com/a-/AOh14Ghb03i_JlSjx_gLyZx-WE1vWYSIsR6GZ-Wv8dClpA=s64",
      "userId": "04495440602003989745"
     },
     "user_tz": -540
    },
    "id": "fS2IyIJUDdNc"
   },
   "outputs": [],
   "source": [
    "df = df_origin.copy()"
   ]
  },
  {
   "cell_type": "code",
   "execution_count": null,
   "metadata": {
    "colab": {
     "base_uri": "https://localhost:8080/",
     "height": 137
    },
    "colab_type": "code",
    "executionInfo": {
     "elapsed": 21814,
     "status": "ok",
     "timestamp": 1597809341312,
     "user": {
      "displayName": "JJ Se",
      "photoUrl": "https://lh3.googleusercontent.com/a-/AOh14Ghb03i_JlSjx_gLyZx-WE1vWYSIsR6GZ-Wv8dClpA=s64",
      "userId": "04495440602003989745"
     },
     "user_tz": -540
    },
    "id": "byVqeJ7TJq_L",
    "outputId": "08d99730-fe4a-4456-a53a-bdba4a6f6c96"
   },
   "outputs": [
    {
     "data": {
      "text/html": [
       "<div>\n",
       "<style scoped>\n",
       "    .dataframe tbody tr th:only-of-type {\n",
       "        vertical-align: middle;\n",
       "    }\n",
       "\n",
       "    .dataframe tbody tr th {\n",
       "        vertical-align: top;\n",
       "    }\n",
       "\n",
       "    .dataframe thead th {\n",
       "        text-align: right;\n",
       "    }\n",
       "</style>\n",
       "<table border=\"1\" class=\"dataframe\">\n",
       "  <thead>\n",
       "    <tr style=\"text-align: right;\">\n",
       "      <th></th>\n",
       "      <th>Id</th>\n",
       "      <th>winPlacePerc</th>\n",
       "    </tr>\n",
       "  </thead>\n",
       "  <tbody>\n",
       "    <tr>\n",
       "      <th>0</th>\n",
       "      <td>9329eb41e215eb</td>\n",
       "      <td>1</td>\n",
       "    </tr>\n",
       "    <tr>\n",
       "      <th>1</th>\n",
       "      <td>639bd0dcd7bda8</td>\n",
       "      <td>1</td>\n",
       "    </tr>\n",
       "    <tr>\n",
       "      <th>2</th>\n",
       "      <td>63d5c8ef8dfe91</td>\n",
       "      <td>1</td>\n",
       "    </tr>\n",
       "  </tbody>\n",
       "</table>\n",
       "</div>"
      ],
      "text/plain": [
       "               Id  winPlacePerc\n",
       "0  9329eb41e215eb             1\n",
       "1  639bd0dcd7bda8             1\n",
       "2  63d5c8ef8dfe91             1"
      ]
     },
     "execution_count": 5,
     "metadata": {
      "tags": []
     },
     "output_type": "execute_result"
    }
   ],
   "source": [
    "submission.head(3)"
   ]
  },
  {
   "cell_type": "code",
   "execution_count": null,
   "metadata": {
    "colab": {},
    "colab_type": "code",
    "id": "ze7ed1bbEiCb"
   },
   "outputs": [],
   "source": []
  },
  {
   "cell_type": "code",
   "execution_count": null,
   "metadata": {
    "colab": {},
    "colab_type": "code",
    "id": "ItoTUFYlZK8y"
   },
   "outputs": [],
   "source": [
    "# Thanks and credited to https://www.kaggle.com/gemartin who created this wonderful mem reducer\n",
    "def reduce_mem_usage(df):\n",
    "    \"\"\" iterate through all the columns of a dataframe and modify the data type\n",
    "        to reduce memory usage.        \n",
    "    \"\"\"\n",
    "    start_mem = df.memory_usage().sum() \n",
    "    print('Memory usage of dataframe is {:.2f} Byte'.format(start_mem))\n",
    "    \n",
    "    for col in df.columns:\n",
    "        col_type = df[col].dtype\n",
    "        \n",
    "        if col_type != object:\n",
    "            c_min = df[col].min()\n",
    "            c_max = df[col].max()\n",
    "            if str(col_type)[:3] == 'int':\n",
    "                if c_min > np.iinfo(np.int8).min and c_max < np.iinfo(np.int8).max:\n",
    "                    df[col] = df[col].astype(np.int8)\n",
    "                elif c_min > np.iinfo(np.int16).min and c_max < np.iinfo(np.int16).max:\n",
    "                    df[col] = df[col].astype(np.int16)\n",
    "                elif c_min > np.iinfo(np.int32).min and c_max < np.iinfo(np.int32).max:\n",
    "                    df[col] = df[col].astype(np.int32)\n",
    "                elif c_min > np.iinfo(np.int64).min and c_max < np.iinfo(np.int64).max:\n",
    "                    df[col] = df[col].astype(np.int64)  \n",
    "            else:\n",
    "                if c_min > np.finfo(np.float16).min and c_max < np.finfo(np.float16).max:\n",
    "                    df[col] = df[col].astype(np.float16)\n",
    "                elif c_min > np.finfo(np.float32).min and c_max < np.finfo(np.float32).max:\n",
    "                    df[col] = df[col].astype(np.float32)\n",
    "                else:\n",
    "                    df[col] = df[col].astype(np.float64)\n",
    "        else:\n",
    "            df[col] = df[col].astype('category')\n",
    "\n",
    "    end_mem = df.memory_usage().sum() \n",
    "    print('Memory usage after optimization is: {:.2f} MB'.format(end_mem))\n",
    "    print('Decreased by {:.1f}%'.format(100 * (start_mem - end_mem) / start_mem))\n",
    "    \n",
    "    return df"
   ]
  },
  {
   "cell_type": "code",
   "execution_count": null,
   "metadata": {
    "colab": {},
    "colab_type": "code",
    "id": "-vv2msOwjpMz"
   },
   "outputs": [],
   "source": [
    "#df = reduce_mem_usage(df)"
   ]
  },
  {
   "cell_type": "markdown",
   "metadata": {
    "colab_type": "text",
    "id": "fhHJo5Tj522S"
   },
   "source": [
    "#EDA"
   ]
  },
  {
   "cell_type": "markdown",
   "metadata": {
    "colab_type": "text",
    "id": "bLaQDgweI05r"
   },
   "source": [
    "## Feature 설명\n",
    " by Jaeyeob Jeong"
   ]
  },
  {
   "cell_type": "markdown",
   "metadata": {
    "colab_type": "text",
    "id": "89XW-7A2Jasj"
   },
   "source": [
    "- 계정 \n",
    "    - Id - Player’s Id\n",
    "    - matchId - ID to identify match. There are no matches that are in both the \n",
    "training and testing set.  \n",
    "  \n",
    "- 사용자 게임 랭킹. \n",
    "    - rankPoints - 이전 랭킹 시스템 ( \\-1 : 현재 정보 없음 \\-> killPoints, winPoints / \\-1이 아닐 경우, kill/winPoints = 0 )\n",
    "    - killPoints - Kills-based external ranking of player. (Think of this as an Elo ranking where only kills matter.) If there is a value other than -1 in rankPoints, then any 0 in killPoints should be treated as a “None”.\n",
    "    - winPoints - Win-based external ranking of player. (Think of this as an Elo ranking where only winning matters.) If there is a value other than -1 in rankPoints, then any 0 in winPoints should be treated as a “None”.\n",
    "    - maxPlace - 매치 내 가장 낮은 등수\n",
    "  \n",
    "- 게임 요소\n",
    "    - matchType - String identifying the game mode that the data comes from. The standard modes are “solo”, “duo”, “squad”, “solo-fpp”, “duo-fpp”, and “squad-fpp”; other modes are from events or custom matches.\n",
    "    - matchDuration - Duration of match in seconds.\n",
    "  \n",
    "- 팀 게임 요소 \n",
    "    - assists - Number of enemy players this player - damaged that were killed by teammates.\n",
    "    - revives - Number of times this player revived teammates.\n",
    "    - groupId - ID to identify a group within a match. If the same group of players plays in different matches, they will have a different groupId each time.\n",
    "    - numGroups - Number of groups we have data for in the match.\n",
    "      \n",
    "- 아이템 요소\n",
    "    - boosts - Number of boost items used.\n",
    "    - weaponsAcquired - Number of weapons picked up.\n",
    "    - heals - Number of healing items used.\n",
    "  \n",
    "- 킬 관련 요소\n",
    "    - longestKill - Longest distance between player and player killed at time of death. This may be misleading, as downing a player and driving away may lead to a large longestKill stat.\n",
    "    - kills - Number of enemy players killed.\n",
    "    - killStreaks - Max number of enemy players killed in a short amount of time.\n",
    "    \n",
    "    - killPlace - Ranking in match of number of enemy players killed.\n",
    "    - headshotKills - Number of enemy players killed with headshots.\n",
    "    - damageDealt - Total damage dealt. Note: Self inflicted damage is subtracted.\n",
    "    - DBNOs - Number of enemy players knocked.\n",
    "  \n",
    "- 이동 관련 요소\n",
    "    - rideDistance - Total distance traveled in vehicles measured in meters.\n",
    "    - swimDistance - Total distance traveled by swimming measured in meters.\n",
    "    - walkDistance - Total distance traveled on foot measured in meters.\n",
    "  \n",
    "- 객사 \n",
    "    - roadKills - Number of kills while in a vehicle.\n",
    "    - vehicleDestroys - Number of vehicles destroyed.\n",
    "  \n",
    "- 잘못된 행동 \n",
    "    - teamKills - Number of times this player killed a teammate.\n",
    "  \n",
    "- 타켓 \n",
    "    - winPlacePerc - The target of prediction. This is a percentile winning placement, where 1 corresponds to 1st place, and 0 corresponds to last place in the match. It is calculated off of maxPlace, not numGroups, so it is possible to have missing chunks in a match.\n",
    "\n",
    "\n",
    "\n",
    "\n",
    "\n",
    "\n",
    "\n",
    "\n",
    "\n",
    "\n",
    "\n",
    "\n",
    "\n",
    "★ There are three new features. These are 'matchDuration', 'matchType', and 'rankPoints'. 'matchDuration' tells us the length of the game in seconds. 'matchType' tells us the game mode (solo, duo, squad, solo-fpp, duo-fpp, squad-fpp, and other modes).\n",
    "\n",
    "★ rankPoints 와 killPoints / winPoints 어떻게 처리?  \n",
    " rankPoints is the new ranking system, taking over for winPoints and killPoints. However, not all matches have a rankPoints assigned to them, and rankPoints is “often inaccurate” and being deprecated in the next version of the API. -1 is a placeholder in rankPoints for matches that had no rankPoints value. If a player has a value in rankPoints, then winPoints and killPoints should be 0."
   ]
  },
  {
   "cell_type": "markdown",
   "metadata": {
    "colab_type": "text",
    "id": "ngcE-mFiJkOX"
   },
   "source": [
    "## 데이터 기본 정보"
   ]
  },
  {
   "cell_type": "code",
   "execution_count": 6,
   "metadata": {
    "colab": {
     "base_uri": "https://localhost:8080/",
     "height": 367
    },
    "colab_type": "code",
    "executionInfo": {
     "elapsed": 707,
     "status": "ok",
     "timestamp": 1598919619000,
     "user": {
      "displayName": "JJ Se",
      "photoUrl": "https://lh3.googleusercontent.com/a-/AOh14Ghb03i_JlSjx_gLyZx-WE1vWYSIsR6GZ-Wv8dClpA=s64",
      "userId": "04495440602003989745"
     },
     "user_tz": -540
    },
    "id": "UBAinmiar4Us",
    "outputId": "6cbb9ab0-85c4-4187-a769-756f6ac4ef2b"
   },
   "outputs": [
    {
     "data": {
      "text/html": [
       "<div>\n",
       "<style scoped>\n",
       "    .dataframe tbody tr th:only-of-type {\n",
       "        vertical-align: middle;\n",
       "    }\n",
       "\n",
       "    .dataframe tbody tr th {\n",
       "        vertical-align: top;\n",
       "    }\n",
       "\n",
       "    .dataframe thead th {\n",
       "        text-align: right;\n",
       "    }\n",
       "</style>\n",
       "<table border=\"1\" class=\"dataframe\">\n",
       "  <thead>\n",
       "    <tr style=\"text-align: right;\">\n",
       "      <th></th>\n",
       "      <th>Id</th>\n",
       "      <th>groupId</th>\n",
       "      <th>matchId</th>\n",
       "      <th>assists</th>\n",
       "      <th>boosts</th>\n",
       "      <th>damageDealt</th>\n",
       "      <th>DBNOs</th>\n",
       "      <th>headshotKills</th>\n",
       "      <th>heals</th>\n",
       "      <th>killPlace</th>\n",
       "      <th>killPoints</th>\n",
       "      <th>kills</th>\n",
       "      <th>killStreaks</th>\n",
       "      <th>longestKill</th>\n",
       "      <th>matchDuration</th>\n",
       "      <th>matchType</th>\n",
       "      <th>maxPlace</th>\n",
       "      <th>numGroups</th>\n",
       "      <th>rankPoints</th>\n",
       "      <th>revives</th>\n",
       "      <th>rideDistance</th>\n",
       "      <th>roadKills</th>\n",
       "      <th>swimDistance</th>\n",
       "      <th>teamKills</th>\n",
       "      <th>vehicleDestroys</th>\n",
       "      <th>walkDistance</th>\n",
       "      <th>weaponsAcquired</th>\n",
       "      <th>winPoints</th>\n",
       "      <th>winPlacePerc</th>\n",
       "    </tr>\n",
       "  </thead>\n",
       "  <tbody>\n",
       "    <tr>\n",
       "      <th>0</th>\n",
       "      <td>7f96b2f878858a</td>\n",
       "      <td>4d4b580de459be</td>\n",
       "      <td>a10357fd1a4a91</td>\n",
       "      <td>0</td>\n",
       "      <td>0</td>\n",
       "      <td>0.000</td>\n",
       "      <td>0</td>\n",
       "      <td>0</td>\n",
       "      <td>0</td>\n",
       "      <td>60</td>\n",
       "      <td>1241</td>\n",
       "      <td>0</td>\n",
       "      <td>0</td>\n",
       "      <td>0.00</td>\n",
       "      <td>1306</td>\n",
       "      <td>squad-fpp</td>\n",
       "      <td>28</td>\n",
       "      <td>26</td>\n",
       "      <td>-1</td>\n",
       "      <td>0</td>\n",
       "      <td>0.0000</td>\n",
       "      <td>0</td>\n",
       "      <td>0.00</td>\n",
       "      <td>0</td>\n",
       "      <td>0</td>\n",
       "      <td>244.80</td>\n",
       "      <td>1</td>\n",
       "      <td>1466</td>\n",
       "      <td>0.4444</td>\n",
       "    </tr>\n",
       "    <tr>\n",
       "      <th>1</th>\n",
       "      <td>eef90569b9d03c</td>\n",
       "      <td>684d5656442f9e</td>\n",
       "      <td>aeb375fc57110c</td>\n",
       "      <td>0</td>\n",
       "      <td>0</td>\n",
       "      <td>91.470</td>\n",
       "      <td>0</td>\n",
       "      <td>0</td>\n",
       "      <td>0</td>\n",
       "      <td>57</td>\n",
       "      <td>0</td>\n",
       "      <td>0</td>\n",
       "      <td>0</td>\n",
       "      <td>0.00</td>\n",
       "      <td>1777</td>\n",
       "      <td>squad-fpp</td>\n",
       "      <td>26</td>\n",
       "      <td>25</td>\n",
       "      <td>1484</td>\n",
       "      <td>0</td>\n",
       "      <td>0.0045</td>\n",
       "      <td>0</td>\n",
       "      <td>11.04</td>\n",
       "      <td>0</td>\n",
       "      <td>0</td>\n",
       "      <td>1434.00</td>\n",
       "      <td>5</td>\n",
       "      <td>0</td>\n",
       "      <td>0.6400</td>\n",
       "    </tr>\n",
       "    <tr>\n",
       "      <th>2</th>\n",
       "      <td>1eaf90ac73de72</td>\n",
       "      <td>6a4a42c3245a74</td>\n",
       "      <td>110163d8bb94ae</td>\n",
       "      <td>1</td>\n",
       "      <td>0</td>\n",
       "      <td>68.000</td>\n",
       "      <td>0</td>\n",
       "      <td>0</td>\n",
       "      <td>0</td>\n",
       "      <td>47</td>\n",
       "      <td>0</td>\n",
       "      <td>0</td>\n",
       "      <td>0</td>\n",
       "      <td>0.00</td>\n",
       "      <td>1318</td>\n",
       "      <td>duo</td>\n",
       "      <td>50</td>\n",
       "      <td>47</td>\n",
       "      <td>1491</td>\n",
       "      <td>0</td>\n",
       "      <td>0.0000</td>\n",
       "      <td>0</td>\n",
       "      <td>0.00</td>\n",
       "      <td>0</td>\n",
       "      <td>0</td>\n",
       "      <td>161.80</td>\n",
       "      <td>2</td>\n",
       "      <td>0</td>\n",
       "      <td>0.7755</td>\n",
       "    </tr>\n",
       "    <tr>\n",
       "      <th>3</th>\n",
       "      <td>4616d365dd2853</td>\n",
       "      <td>a930a9c79cd721</td>\n",
       "      <td>f1f1f4ef412d7e</td>\n",
       "      <td>0</td>\n",
       "      <td>0</td>\n",
       "      <td>32.900</td>\n",
       "      <td>0</td>\n",
       "      <td>0</td>\n",
       "      <td>0</td>\n",
       "      <td>75</td>\n",
       "      <td>0</td>\n",
       "      <td>0</td>\n",
       "      <td>0</td>\n",
       "      <td>0.00</td>\n",
       "      <td>1436</td>\n",
       "      <td>squad-fpp</td>\n",
       "      <td>31</td>\n",
       "      <td>30</td>\n",
       "      <td>1408</td>\n",
       "      <td>0</td>\n",
       "      <td>0.0000</td>\n",
       "      <td>0</td>\n",
       "      <td>0.00</td>\n",
       "      <td>0</td>\n",
       "      <td>0</td>\n",
       "      <td>202.70</td>\n",
       "      <td>3</td>\n",
       "      <td>0</td>\n",
       "      <td>0.1667</td>\n",
       "    </tr>\n",
       "    <tr>\n",
       "      <th>4</th>\n",
       "      <td>315c96c26c9aac</td>\n",
       "      <td>de04010b3458dd</td>\n",
       "      <td>6dc8ff871e21e6</td>\n",
       "      <td>0</td>\n",
       "      <td>0</td>\n",
       "      <td>100.000</td>\n",
       "      <td>0</td>\n",
       "      <td>0</td>\n",
       "      <td>0</td>\n",
       "      <td>45</td>\n",
       "      <td>0</td>\n",
       "      <td>1</td>\n",
       "      <td>1</td>\n",
       "      <td>58.53</td>\n",
       "      <td>1424</td>\n",
       "      <td>solo-fpp</td>\n",
       "      <td>97</td>\n",
       "      <td>95</td>\n",
       "      <td>1560</td>\n",
       "      <td>0</td>\n",
       "      <td>0.0000</td>\n",
       "      <td>0</td>\n",
       "      <td>0.00</td>\n",
       "      <td>0</td>\n",
       "      <td>0</td>\n",
       "      <td>49.75</td>\n",
       "      <td>2</td>\n",
       "      <td>0</td>\n",
       "      <td>0.1875</td>\n",
       "    </tr>\n",
       "    <tr>\n",
       "      <th>5</th>\n",
       "      <td>ff79c12f326506</td>\n",
       "      <td>289a6836a88d27</td>\n",
       "      <td>bac52627a12114</td>\n",
       "      <td>0</td>\n",
       "      <td>0</td>\n",
       "      <td>100.000</td>\n",
       "      <td>1</td>\n",
       "      <td>1</td>\n",
       "      <td>0</td>\n",
       "      <td>44</td>\n",
       "      <td>0</td>\n",
       "      <td>1</td>\n",
       "      <td>1</td>\n",
       "      <td>18.44</td>\n",
       "      <td>1395</td>\n",
       "      <td>squad-fpp</td>\n",
       "      <td>28</td>\n",
       "      <td>28</td>\n",
       "      <td>1418</td>\n",
       "      <td>0</td>\n",
       "      <td>0.0000</td>\n",
       "      <td>0</td>\n",
       "      <td>0.00</td>\n",
       "      <td>0</td>\n",
       "      <td>0</td>\n",
       "      <td>34.70</td>\n",
       "      <td>1</td>\n",
       "      <td>0</td>\n",
       "      <td>0.0370</td>\n",
       "    </tr>\n",
       "    <tr>\n",
       "      <th>6</th>\n",
       "      <td>95959be0e21ca3</td>\n",
       "      <td>2c485a1ad3d0f1</td>\n",
       "      <td>a8274e903927a2</td>\n",
       "      <td>0</td>\n",
       "      <td>0</td>\n",
       "      <td>0.000</td>\n",
       "      <td>0</td>\n",
       "      <td>0</td>\n",
       "      <td>0</td>\n",
       "      <td>96</td>\n",
       "      <td>1262</td>\n",
       "      <td>0</td>\n",
       "      <td>0</td>\n",
       "      <td>0.00</td>\n",
       "      <td>1316</td>\n",
       "      <td>squad-fpp</td>\n",
       "      <td>28</td>\n",
       "      <td>28</td>\n",
       "      <td>-1</td>\n",
       "      <td>0</td>\n",
       "      <td>0.0000</td>\n",
       "      <td>0</td>\n",
       "      <td>0.00</td>\n",
       "      <td>0</td>\n",
       "      <td>0</td>\n",
       "      <td>13.50</td>\n",
       "      <td>1</td>\n",
       "      <td>1497</td>\n",
       "      <td>0.0000</td>\n",
       "    </tr>\n",
       "    <tr>\n",
       "      <th>7</th>\n",
       "      <td>311b84c6ff4390</td>\n",
       "      <td>eaba5fcb7fc1ae</td>\n",
       "      <td>292611730ca862</td>\n",
       "      <td>0</td>\n",
       "      <td>0</td>\n",
       "      <td>8.538</td>\n",
       "      <td>0</td>\n",
       "      <td>0</td>\n",
       "      <td>0</td>\n",
       "      <td>48</td>\n",
       "      <td>1000</td>\n",
       "      <td>0</td>\n",
       "      <td>0</td>\n",
       "      <td>0.00</td>\n",
       "      <td>1967</td>\n",
       "      <td>solo-fpp</td>\n",
       "      <td>96</td>\n",
       "      <td>92</td>\n",
       "      <td>-1</td>\n",
       "      <td>0</td>\n",
       "      <td>2004.0000</td>\n",
       "      <td>0</td>\n",
       "      <td>0.00</td>\n",
       "      <td>0</td>\n",
       "      <td>0</td>\n",
       "      <td>1089.00</td>\n",
       "      <td>6</td>\n",
       "      <td>1500</td>\n",
       "      <td>0.7368</td>\n",
       "    </tr>\n",
       "    <tr>\n",
       "      <th>8</th>\n",
       "      <td>1a68204ccf9891</td>\n",
       "      <td>47cfbb04e1b1a2</td>\n",
       "      <td>df014fbee741c6</td>\n",
       "      <td>0</td>\n",
       "      <td>0</td>\n",
       "      <td>51.600</td>\n",
       "      <td>0</td>\n",
       "      <td>0</td>\n",
       "      <td>0</td>\n",
       "      <td>64</td>\n",
       "      <td>0</td>\n",
       "      <td>0</td>\n",
       "      <td>0</td>\n",
       "      <td>0.00</td>\n",
       "      <td>1375</td>\n",
       "      <td>squad</td>\n",
       "      <td>28</td>\n",
       "      <td>27</td>\n",
       "      <td>1493</td>\n",
       "      <td>0</td>\n",
       "      <td>0.0000</td>\n",
       "      <td>0</td>\n",
       "      <td>0.00</td>\n",
       "      <td>0</td>\n",
       "      <td>0</td>\n",
       "      <td>799.90</td>\n",
       "      <td>4</td>\n",
       "      <td>0</td>\n",
       "      <td>0.3704</td>\n",
       "    </tr>\n",
       "    <tr>\n",
       "      <th>9</th>\n",
       "      <td>e5bb5a43587253</td>\n",
       "      <td>759bb6f7514fd2</td>\n",
       "      <td>3d3031c795305b</td>\n",
       "      <td>0</td>\n",
       "      <td>0</td>\n",
       "      <td>37.270</td>\n",
       "      <td>0</td>\n",
       "      <td>0</td>\n",
       "      <td>0</td>\n",
       "      <td>74</td>\n",
       "      <td>0</td>\n",
       "      <td>0</td>\n",
       "      <td>0</td>\n",
       "      <td>0.00</td>\n",
       "      <td>1930</td>\n",
       "      <td>squad</td>\n",
       "      <td>29</td>\n",
       "      <td>27</td>\n",
       "      <td>1349</td>\n",
       "      <td>0</td>\n",
       "      <td>0.0000</td>\n",
       "      <td>0</td>\n",
       "      <td>0.00</td>\n",
       "      <td>0</td>\n",
       "      <td>0</td>\n",
       "      <td>65.67</td>\n",
       "      <td>1</td>\n",
       "      <td>0</td>\n",
       "      <td>0.2143</td>\n",
       "    </tr>\n",
       "  </tbody>\n",
       "</table>\n",
       "</div>"
      ],
      "text/plain": [
       "               Id         groupId  ... winPoints  winPlacePerc\n",
       "0  7f96b2f878858a  4d4b580de459be  ...      1466        0.4444\n",
       "1  eef90569b9d03c  684d5656442f9e  ...         0        0.6400\n",
       "2  1eaf90ac73de72  6a4a42c3245a74  ...         0        0.7755\n",
       "3  4616d365dd2853  a930a9c79cd721  ...         0        0.1667\n",
       "4  315c96c26c9aac  de04010b3458dd  ...         0        0.1875\n",
       "5  ff79c12f326506  289a6836a88d27  ...         0        0.0370\n",
       "6  95959be0e21ca3  2c485a1ad3d0f1  ...      1497        0.0000\n",
       "7  311b84c6ff4390  eaba5fcb7fc1ae  ...      1500        0.7368\n",
       "8  1a68204ccf9891  47cfbb04e1b1a2  ...         0        0.3704\n",
       "9  e5bb5a43587253  759bb6f7514fd2  ...         0        0.2143\n",
       "\n",
       "[10 rows x 29 columns]"
      ]
     },
     "execution_count": 6,
     "metadata": {
      "tags": []
     },
     "output_type": "execute_result"
    }
   ],
   "source": [
    "df.head(10)"
   ]
  },
  {
   "cell_type": "code",
   "execution_count": null,
   "metadata": {
    "colab": {
     "base_uri": "https://localhost:8080/",
     "height": 97
    },
    "colab_type": "code",
    "executionInfo": {
     "elapsed": 21717,
     "status": "ok",
     "timestamp": 1597809341314,
     "user": {
      "displayName": "JJ Se",
      "photoUrl": "https://lh3.googleusercontent.com/a-/AOh14Ghb03i_JlSjx_gLyZx-WE1vWYSIsR6GZ-Wv8dClpA=s64",
      "userId": "04495440602003989745"
     },
     "user_tz": -540
    },
    "id": "jYvEJiopQTAM",
    "outputId": "c73f0dc3-aa11-4aa3-8725-a5ae25038c27"
   },
   "outputs": [
    {
     "data": {
      "text/html": [
       "<div>\n",
       "<style scoped>\n",
       "    .dataframe tbody tr th:only-of-type {\n",
       "        vertical-align: middle;\n",
       "    }\n",
       "\n",
       "    .dataframe tbody tr th {\n",
       "        vertical-align: top;\n",
       "    }\n",
       "\n",
       "    .dataframe thead th {\n",
       "        text-align: right;\n",
       "    }\n",
       "</style>\n",
       "<table border=\"1\" class=\"dataframe\">\n",
       "  <thead>\n",
       "    <tr style=\"text-align: right;\">\n",
       "      <th></th>\n",
       "      <th>Id</th>\n",
       "      <th>groupId</th>\n",
       "      <th>matchId</th>\n",
       "      <th>assists</th>\n",
       "      <th>boosts</th>\n",
       "      <th>damageDealt</th>\n",
       "      <th>DBNOs</th>\n",
       "      <th>headshotKills</th>\n",
       "      <th>heals</th>\n",
       "      <th>killPlace</th>\n",
       "      <th>killPoints</th>\n",
       "      <th>kills</th>\n",
       "      <th>killStreaks</th>\n",
       "      <th>longestKill</th>\n",
       "      <th>matchDuration</th>\n",
       "      <th>matchType</th>\n",
       "      <th>maxPlace</th>\n",
       "      <th>numGroups</th>\n",
       "      <th>rankPoints</th>\n",
       "      <th>revives</th>\n",
       "      <th>rideDistance</th>\n",
       "      <th>roadKills</th>\n",
       "      <th>swimDistance</th>\n",
       "      <th>teamKills</th>\n",
       "      <th>vehicleDestroys</th>\n",
       "      <th>walkDistance</th>\n",
       "      <th>weaponsAcquired</th>\n",
       "      <th>winPoints</th>\n",
       "      <th>winPlacePerc</th>\n",
       "    </tr>\n",
       "  </thead>\n",
       "  <tbody>\n",
       "    <tr>\n",
       "      <th>0</th>\n",
       "      <td>7f96b2f878858a</td>\n",
       "      <td>4d4b580de459be</td>\n",
       "      <td>a10357fd1a4a91</td>\n",
       "      <td>0</td>\n",
       "      <td>0</td>\n",
       "      <td>0.0</td>\n",
       "      <td>0</td>\n",
       "      <td>0</td>\n",
       "      <td>0</td>\n",
       "      <td>60</td>\n",
       "      <td>1241</td>\n",
       "      <td>0</td>\n",
       "      <td>0</td>\n",
       "      <td>0.0</td>\n",
       "      <td>1306</td>\n",
       "      <td>squad-fpp</td>\n",
       "      <td>28</td>\n",
       "      <td>26</td>\n",
       "      <td>-1</td>\n",
       "      <td>0</td>\n",
       "      <td>0.0</td>\n",
       "      <td>0</td>\n",
       "      <td>0.0</td>\n",
       "      <td>0</td>\n",
       "      <td>0</td>\n",
       "      <td>244.8</td>\n",
       "      <td>1</td>\n",
       "      <td>1466</td>\n",
       "      <td>0.4444</td>\n",
       "    </tr>\n",
       "  </tbody>\n",
       "</table>\n",
       "</div>"
      ],
      "text/plain": [
       "               Id         groupId  ... winPoints  winPlacePerc\n",
       "0  7f96b2f878858a  4d4b580de459be  ...      1466        0.4444\n",
       "\n",
       "[1 rows x 29 columns]"
      ]
     },
     "execution_count": 9,
     "metadata": {
      "tags": []
     },
     "output_type": "execute_result"
    }
   ],
   "source": [
    "df[df['groupId'] == '4d4b580de459be']"
   ]
  },
  {
   "cell_type": "code",
   "execution_count": null,
   "metadata": {
    "colab": {
     "base_uri": "https://localhost:8080/",
     "height": 656
    },
    "colab_type": "code",
    "executionInfo": {
     "elapsed": 21982,
     "status": "ok",
     "timestamp": 1597809341615,
     "user": {
      "displayName": "JJ Se",
      "photoUrl": "https://lh3.googleusercontent.com/a-/AOh14Ghb03i_JlSjx_gLyZx-WE1vWYSIsR6GZ-Wv8dClpA=s64",
      "userId": "04495440602003989745"
     },
     "user_tz": -540
    },
    "id": "Qmb7sm8Hta1X",
    "outputId": "5be85e4c-dcaa-48b1-de7b-9c5139f0d9f2"
   },
   "outputs": [
    {
     "name": "stdout",
     "output_type": "stream",
     "text": [
      "<class 'pandas.core.frame.DataFrame'>\n",
      "RangeIndex: 200000 entries, 0 to 199999\n",
      "Data columns (total 29 columns):\n",
      " #   Column           Non-Null Count   Dtype  \n",
      "---  ------           --------------   -----  \n",
      " 0   Id               200000 non-null  object \n",
      " 1   groupId          200000 non-null  object \n",
      " 2   matchId          200000 non-null  object \n",
      " 3   assists          200000 non-null  int64  \n",
      " 4   boosts           200000 non-null  int64  \n",
      " 5   damageDealt      200000 non-null  float64\n",
      " 6   DBNOs            200000 non-null  int64  \n",
      " 7   headshotKills    200000 non-null  int64  \n",
      " 8   heals            200000 non-null  int64  \n",
      " 9   killPlace        200000 non-null  int64  \n",
      " 10  killPoints       200000 non-null  int64  \n",
      " 11  kills            200000 non-null  int64  \n",
      " 12  killStreaks      200000 non-null  int64  \n",
      " 13  longestKill      200000 non-null  float64\n",
      " 14  matchDuration    200000 non-null  int64  \n",
      " 15  matchType        200000 non-null  object \n",
      " 16  maxPlace         200000 non-null  int64  \n",
      " 17  numGroups        200000 non-null  int64  \n",
      " 18  rankPoints       200000 non-null  int64  \n",
      " 19  revives          200000 non-null  int64  \n",
      " 20  rideDistance     200000 non-null  float64\n",
      " 21  roadKills        200000 non-null  int64  \n",
      " 22  swimDistance     200000 non-null  float64\n",
      " 23  teamKills        200000 non-null  int64  \n",
      " 24  vehicleDestroys  200000 non-null  int64  \n",
      " 25  walkDistance     200000 non-null  float64\n",
      " 26  weaponsAcquired  200000 non-null  int64  \n",
      " 27  winPoints        200000 non-null  int64  \n",
      " 28  winPlacePerc     200000 non-null  float64\n",
      "dtypes: float64(6), int64(19), object(4)\n",
      "memory usage: 44.3+ MB\n"
     ]
    }
   ],
   "source": [
    "df.info()"
   ]
  },
  {
   "cell_type": "code",
   "execution_count": null,
   "metadata": {
    "colab": {
     "base_uri": "https://localhost:8080/",
     "height": 550
    },
    "colab_type": "code",
    "executionInfo": {
     "elapsed": 21944,
     "status": "ok",
     "timestamp": 1597809341616,
     "user": {
      "displayName": "JJ Se",
      "photoUrl": "https://lh3.googleusercontent.com/a-/AOh14Ghb03i_JlSjx_gLyZx-WE1vWYSIsR6GZ-Wv8dClpA=s64",
      "userId": "04495440602003989745"
     },
     "user_tz": -540
    },
    "id": "oySpWrBMtmBM",
    "outputId": "e23312c9-5b80-4566-e969-28742818f4d3"
   },
   "outputs": [
    {
     "data": {
      "text/plain": [
       "Id                 0\n",
       "groupId            0\n",
       "matchId            0\n",
       "assists            0\n",
       "boosts             0\n",
       "damageDealt        0\n",
       "DBNOs              0\n",
       "headshotKills      0\n",
       "heals              0\n",
       "killPlace          0\n",
       "killPoints         0\n",
       "kills              0\n",
       "killStreaks        0\n",
       "longestKill        0\n",
       "matchDuration      0\n",
       "matchType          0\n",
       "maxPlace           0\n",
       "numGroups          0\n",
       "rankPoints         0\n",
       "revives            0\n",
       "rideDistance       0\n",
       "roadKills          0\n",
       "swimDistance       0\n",
       "teamKills          0\n",
       "vehicleDestroys    0\n",
       "walkDistance       0\n",
       "weaponsAcquired    0\n",
       "winPoints          0\n",
       "winPlacePerc       0\n",
       "dtype: int64"
      ]
     },
     "execution_count": 11,
     "metadata": {
      "tags": []
     },
     "output_type": "execute_result"
    }
   ],
   "source": [
    "#null 값 확인\n",
    "df.isnull().sum()"
   ]
  },
  {
   "cell_type": "markdown",
   "metadata": {
    "colab_type": "text",
    "id": "SIgr2wyipnQT"
   },
   "source": [
    "##분포 확인"
   ]
  },
  {
   "cell_type": "code",
   "execution_count": null,
   "metadata": {
    "colab": {
     "base_uri": "https://localhost:8080/",
     "height": 817
    },
    "colab_type": "code",
    "executionInfo": {
     "elapsed": 22237,
     "status": "ok",
     "timestamp": 1597809341936,
     "user": {
      "displayName": "JJ Se",
      "photoUrl": "https://lh3.googleusercontent.com/a-/AOh14Ghb03i_JlSjx_gLyZx-WE1vWYSIsR6GZ-Wv8dClpA=s64",
      "userId": "04495440602003989745"
     },
     "user_tz": -540
    },
    "id": "KRjN6Ro-bcO4",
    "outputId": "d0395cd9-e24c-4d5c-c495-5c4bef83ce16"
   },
   "outputs": [
    {
     "data": {
      "text/html": [
       "<div>\n",
       "<style scoped>\n",
       "    .dataframe tbody tr th:only-of-type {\n",
       "        vertical-align: middle;\n",
       "    }\n",
       "\n",
       "    .dataframe tbody tr th {\n",
       "        vertical-align: top;\n",
       "    }\n",
       "\n",
       "    .dataframe thead th {\n",
       "        text-align: right;\n",
       "    }\n",
       "</style>\n",
       "<table border=\"1\" class=\"dataframe\">\n",
       "  <thead>\n",
       "    <tr style=\"text-align: right;\">\n",
       "      <th></th>\n",
       "      <th>count</th>\n",
       "      <th>mean</th>\n",
       "      <th>std</th>\n",
       "      <th>min</th>\n",
       "      <th>25%</th>\n",
       "      <th>50%</th>\n",
       "      <th>75%</th>\n",
       "      <th>90%</th>\n",
       "      <th>99%</th>\n",
       "      <th>max</th>\n",
       "    </tr>\n",
       "  </thead>\n",
       "  <tbody>\n",
       "    <tr>\n",
       "      <th>assists</th>\n",
       "      <td>200000.0</td>\n",
       "      <td>0.232945</td>\n",
       "      <td>0.590604</td>\n",
       "      <td>0.0</td>\n",
       "      <td>0.0</td>\n",
       "      <td>0.0000</td>\n",
       "      <td>0.000000</td>\n",
       "      <td>1.000</td>\n",
       "      <td>3.000</td>\n",
       "      <td>21.0</td>\n",
       "    </tr>\n",
       "    <tr>\n",
       "      <th>boosts</th>\n",
       "      <td>200000.0</td>\n",
       "      <td>1.112545</td>\n",
       "      <td>1.723584</td>\n",
       "      <td>0.0</td>\n",
       "      <td>0.0</td>\n",
       "      <td>0.0000</td>\n",
       "      <td>2.000000</td>\n",
       "      <td>4.000</td>\n",
       "      <td>7.000</td>\n",
       "      <td>21.0</td>\n",
       "    </tr>\n",
       "    <tr>\n",
       "      <th>damageDealt</th>\n",
       "      <td>200000.0</td>\n",
       "      <td>130.764752</td>\n",
       "      <td>171.826055</td>\n",
       "      <td>0.0</td>\n",
       "      <td>0.0</td>\n",
       "      <td>84.0000</td>\n",
       "      <td>185.500000</td>\n",
       "      <td>333.700</td>\n",
       "      <td>781.202</td>\n",
       "      <td>5479.0</td>\n",
       "    </tr>\n",
       "    <tr>\n",
       "      <th>DBNOs</th>\n",
       "      <td>200000.0</td>\n",
       "      <td>0.655985</td>\n",
       "      <td>1.148558</td>\n",
       "      <td>0.0</td>\n",
       "      <td>0.0</td>\n",
       "      <td>0.0000</td>\n",
       "      <td>1.000000</td>\n",
       "      <td>2.000</td>\n",
       "      <td>5.000</td>\n",
       "      <td>32.0</td>\n",
       "    </tr>\n",
       "    <tr>\n",
       "      <th>headshotKills</th>\n",
       "      <td>200000.0</td>\n",
       "      <td>0.226030</td>\n",
       "      <td>0.599660</td>\n",
       "      <td>0.0</td>\n",
       "      <td>0.0</td>\n",
       "      <td>0.0000</td>\n",
       "      <td>0.000000</td>\n",
       "      <td>1.000</td>\n",
       "      <td>3.000</td>\n",
       "      <td>40.0</td>\n",
       "    </tr>\n",
       "    <tr>\n",
       "      <th>heals</th>\n",
       "      <td>200000.0</td>\n",
       "      <td>1.367785</td>\n",
       "      <td>2.667927</td>\n",
       "      <td>0.0</td>\n",
       "      <td>0.0</td>\n",
       "      <td>0.0000</td>\n",
       "      <td>2.000000</td>\n",
       "      <td>5.000</td>\n",
       "      <td>12.000</td>\n",
       "      <td>52.0</td>\n",
       "    </tr>\n",
       "    <tr>\n",
       "      <th>killPlace</th>\n",
       "      <td>200000.0</td>\n",
       "      <td>47.645770</td>\n",
       "      <td>27.471291</td>\n",
       "      <td>1.0</td>\n",
       "      <td>24.0</td>\n",
       "      <td>48.0000</td>\n",
       "      <td>71.000000</td>\n",
       "      <td>86.000</td>\n",
       "      <td>96.000</td>\n",
       "      <td>100.0</td>\n",
       "    </tr>\n",
       "    <tr>\n",
       "      <th>killPoints</th>\n",
       "      <td>200000.0</td>\n",
       "      <td>506.908240</td>\n",
       "      <td>627.521631</td>\n",
       "      <td>0.0</td>\n",
       "      <td>0.0</td>\n",
       "      <td>0.0000</td>\n",
       "      <td>1172.000000</td>\n",
       "      <td>1387.000</td>\n",
       "      <td>1671.000</td>\n",
       "      <td>2152.0</td>\n",
       "    </tr>\n",
       "    <tr>\n",
       "      <th>kills</th>\n",
       "      <td>200000.0</td>\n",
       "      <td>0.925240</td>\n",
       "      <td>1.564654</td>\n",
       "      <td>0.0</td>\n",
       "      <td>0.0</td>\n",
       "      <td>0.0000</td>\n",
       "      <td>1.000000</td>\n",
       "      <td>3.000</td>\n",
       "      <td>7.000</td>\n",
       "      <td>48.0</td>\n",
       "    </tr>\n",
       "    <tr>\n",
       "      <th>killStreaks</th>\n",
       "      <td>200000.0</td>\n",
       "      <td>0.543795</td>\n",
       "      <td>0.712604</td>\n",
       "      <td>0.0</td>\n",
       "      <td>0.0</td>\n",
       "      <td>0.0000</td>\n",
       "      <td>1.000000</td>\n",
       "      <td>1.000</td>\n",
       "      <td>3.000</td>\n",
       "      <td>14.0</td>\n",
       "    </tr>\n",
       "    <tr>\n",
       "      <th>longestKill</th>\n",
       "      <td>200000.0</td>\n",
       "      <td>22.859115</td>\n",
       "      <td>50.721941</td>\n",
       "      <td>0.0</td>\n",
       "      <td>0.0</td>\n",
       "      <td>0.0000</td>\n",
       "      <td>21.130000</td>\n",
       "      <td>74.781</td>\n",
       "      <td>243.900</td>\n",
       "      <td>999.9</td>\n",
       "    </tr>\n",
       "    <tr>\n",
       "      <th>matchDuration</th>\n",
       "      <td>200000.0</td>\n",
       "      <td>1579.037845</td>\n",
       "      <td>258.748405</td>\n",
       "      <td>152.0</td>\n",
       "      <td>1367.0</td>\n",
       "      <td>1438.0000</td>\n",
       "      <td>1851.000000</td>\n",
       "      <td>1914.000</td>\n",
       "      <td>2047.000</td>\n",
       "      <td>2237.0</td>\n",
       "    </tr>\n",
       "    <tr>\n",
       "      <th>maxPlace</th>\n",
       "      <td>200000.0</td>\n",
       "      <td>44.542510</td>\n",
       "      <td>23.876339</td>\n",
       "      <td>2.0</td>\n",
       "      <td>28.0</td>\n",
       "      <td>30.0000</td>\n",
       "      <td>49.000000</td>\n",
       "      <td>95.000</td>\n",
       "      <td>99.000</td>\n",
       "      <td>100.0</td>\n",
       "    </tr>\n",
       "    <tr>\n",
       "      <th>numGroups</th>\n",
       "      <td>200000.0</td>\n",
       "      <td>43.050865</td>\n",
       "      <td>23.338414</td>\n",
       "      <td>1.0</td>\n",
       "      <td>27.0</td>\n",
       "      <td>30.0000</td>\n",
       "      <td>47.000000</td>\n",
       "      <td>92.000</td>\n",
       "      <td>97.000</td>\n",
       "      <td>100.0</td>\n",
       "    </tr>\n",
       "    <tr>\n",
       "      <th>rankPoints</th>\n",
       "      <td>200000.0</td>\n",
       "      <td>889.456245</td>\n",
       "      <td>737.373535</td>\n",
       "      <td>-1.0</td>\n",
       "      <td>-1.0</td>\n",
       "      <td>1443.0000</td>\n",
       "      <td>1500.000000</td>\n",
       "      <td>1530.000</td>\n",
       "      <td>1749.000</td>\n",
       "      <td>5580.0</td>\n",
       "    </tr>\n",
       "    <tr>\n",
       "      <th>revives</th>\n",
       "      <td>200000.0</td>\n",
       "      <td>0.163080</td>\n",
       "      <td>0.466118</td>\n",
       "      <td>0.0</td>\n",
       "      <td>0.0</td>\n",
       "      <td>0.0000</td>\n",
       "      <td>0.000000</td>\n",
       "      <td>1.000</td>\n",
       "      <td>2.000</td>\n",
       "      <td>16.0</td>\n",
       "    </tr>\n",
       "    <tr>\n",
       "      <th>rideDistance</th>\n",
       "      <td>200000.0</td>\n",
       "      <td>601.942806</td>\n",
       "      <td>1483.874136</td>\n",
       "      <td>0.0</td>\n",
       "      <td>0.0</td>\n",
       "      <td>0.0000</td>\n",
       "      <td>0.034725</td>\n",
       "      <td>2381.000</td>\n",
       "      <td>6904.030</td>\n",
       "      <td>28450.0</td>\n",
       "    </tr>\n",
       "    <tr>\n",
       "      <th>roadKills</th>\n",
       "      <td>200000.0</td>\n",
       "      <td>0.003605</td>\n",
       "      <td>0.076825</td>\n",
       "      <td>0.0</td>\n",
       "      <td>0.0</td>\n",
       "      <td>0.0000</td>\n",
       "      <td>0.000000</td>\n",
       "      <td>0.000</td>\n",
       "      <td>0.000</td>\n",
       "      <td>8.0</td>\n",
       "    </tr>\n",
       "    <tr>\n",
       "      <th>swimDistance</th>\n",
       "      <td>200000.0</td>\n",
       "      <td>4.545029</td>\n",
       "      <td>30.746094</td>\n",
       "      <td>0.0</td>\n",
       "      <td>0.0</td>\n",
       "      <td>0.0000</td>\n",
       "      <td>0.000000</td>\n",
       "      <td>0.000</td>\n",
       "      <td>124.000</td>\n",
       "      <td>2295.0</td>\n",
       "    </tr>\n",
       "    <tr>\n",
       "      <th>teamKills</th>\n",
       "      <td>200000.0</td>\n",
       "      <td>0.023500</td>\n",
       "      <td>0.165553</td>\n",
       "      <td>0.0</td>\n",
       "      <td>0.0</td>\n",
       "      <td>0.0000</td>\n",
       "      <td>0.000000</td>\n",
       "      <td>0.000</td>\n",
       "      <td>1.000</td>\n",
       "      <td>5.0</td>\n",
       "    </tr>\n",
       "    <tr>\n",
       "      <th>vehicleDestroys</th>\n",
       "      <td>200000.0</td>\n",
       "      <td>0.007455</td>\n",
       "      <td>0.089663</td>\n",
       "      <td>0.0</td>\n",
       "      <td>0.0</td>\n",
       "      <td>0.0000</td>\n",
       "      <td>0.000000</td>\n",
       "      <td>0.000</td>\n",
       "      <td>0.000</td>\n",
       "      <td>4.0</td>\n",
       "    </tr>\n",
       "    <tr>\n",
       "      <th>walkDistance</th>\n",
       "      <td>200000.0</td>\n",
       "      <td>1155.736676</td>\n",
       "      <td>1184.376026</td>\n",
       "      <td>0.0</td>\n",
       "      <td>155.4</td>\n",
       "      <td>689.1500</td>\n",
       "      <td>1978.000000</td>\n",
       "      <td>2921.000</td>\n",
       "      <td>4394.010</td>\n",
       "      <td>13530.0</td>\n",
       "    </tr>\n",
       "    <tr>\n",
       "      <th>weaponsAcquired</th>\n",
       "      <td>200000.0</td>\n",
       "      <td>3.672375</td>\n",
       "      <td>2.472826</td>\n",
       "      <td>0.0</td>\n",
       "      <td>2.0</td>\n",
       "      <td>3.0000</td>\n",
       "      <td>5.000000</td>\n",
       "      <td>7.000</td>\n",
       "      <td>10.000</td>\n",
       "      <td>72.0</td>\n",
       "    </tr>\n",
       "    <tr>\n",
       "      <th>winPoints</th>\n",
       "      <td>200000.0</td>\n",
       "      <td>609.192020</td>\n",
       "      <td>740.250459</td>\n",
       "      <td>0.0</td>\n",
       "      <td>0.0</td>\n",
       "      <td>0.0000</td>\n",
       "      <td>1495.000000</td>\n",
       "      <td>1531.000</td>\n",
       "      <td>1633.000</td>\n",
       "      <td>1972.0</td>\n",
       "    </tr>\n",
       "    <tr>\n",
       "      <th>winPlacePerc</th>\n",
       "      <td>200000.0</td>\n",
       "      <td>0.472568</td>\n",
       "      <td>0.307548</td>\n",
       "      <td>0.0</td>\n",
       "      <td>0.2</td>\n",
       "      <td>0.4583</td>\n",
       "      <td>0.740700</td>\n",
       "      <td>0.913</td>\n",
       "      <td>1.000</td>\n",
       "      <td>1.0</td>\n",
       "    </tr>\n",
       "  </tbody>\n",
       "</table>\n",
       "</div>"
      ],
      "text/plain": [
       "                    count         mean  ...       99%      max\n",
       "assists          200000.0     0.232945  ...     3.000     21.0\n",
       "boosts           200000.0     1.112545  ...     7.000     21.0\n",
       "damageDealt      200000.0   130.764752  ...   781.202   5479.0\n",
       "DBNOs            200000.0     0.655985  ...     5.000     32.0\n",
       "headshotKills    200000.0     0.226030  ...     3.000     40.0\n",
       "heals            200000.0     1.367785  ...    12.000     52.0\n",
       "killPlace        200000.0    47.645770  ...    96.000    100.0\n",
       "killPoints       200000.0   506.908240  ...  1671.000   2152.0\n",
       "kills            200000.0     0.925240  ...     7.000     48.0\n",
       "killStreaks      200000.0     0.543795  ...     3.000     14.0\n",
       "longestKill      200000.0    22.859115  ...   243.900    999.9\n",
       "matchDuration    200000.0  1579.037845  ...  2047.000   2237.0\n",
       "maxPlace         200000.0    44.542510  ...    99.000    100.0\n",
       "numGroups        200000.0    43.050865  ...    97.000    100.0\n",
       "rankPoints       200000.0   889.456245  ...  1749.000   5580.0\n",
       "revives          200000.0     0.163080  ...     2.000     16.0\n",
       "rideDistance     200000.0   601.942806  ...  6904.030  28450.0\n",
       "roadKills        200000.0     0.003605  ...     0.000      8.0\n",
       "swimDistance     200000.0     4.545029  ...   124.000   2295.0\n",
       "teamKills        200000.0     0.023500  ...     1.000      5.0\n",
       "vehicleDestroys  200000.0     0.007455  ...     0.000      4.0\n",
       "walkDistance     200000.0  1155.736676  ...  4394.010  13530.0\n",
       "weaponsAcquired  200000.0     3.672375  ...    10.000     72.0\n",
       "winPoints        200000.0   609.192020  ...  1633.000   1972.0\n",
       "winPlacePerc     200000.0     0.472568  ...     1.000      1.0\n",
       "\n",
       "[25 rows x 10 columns]"
      ]
     },
     "execution_count": 12,
     "metadata": {
      "tags": []
     },
     "output_type": "execute_result"
    }
   ],
   "source": [
    "df.describe([.25, .5, .75, .90, .99],include=np.number).T"
   ]
  },
  {
   "cell_type": "markdown",
   "metadata": {
    "colab_type": "text",
    "id": "CIpU8ZMV-UgJ"
   },
   "source": [
    "##히스토그램"
   ]
  },
  {
   "cell_type": "code",
   "execution_count": null,
   "metadata": {
    "colab": {
     "base_uri": "https://localhost:8080/",
     "height": 1000
    },
    "colab_type": "code",
    "executionInfo": {
     "elapsed": 28470,
     "status": "ok",
     "timestamp": 1597809348202,
     "user": {
      "displayName": "JJ Se",
      "photoUrl": "https://lh3.googleusercontent.com/a-/AOh14Ghb03i_JlSjx_gLyZx-WE1vWYSIsR6GZ-Wv8dClpA=s64",
      "userId": "04495440602003989745"
     },
     "user_tz": -540
    },
    "id": "_p9bzilA3eNj",
    "outputId": "994975ab-6270-477f-e3b6-71e2c601dab3"
   },
   "outputs": [
    {
     "data": {
      "image/png": "[encoded data removed]",
      "text/plain": [
       "<Figure size 1080x2160 with 30 Axes>"
      ]
     },
     "metadata": {
      "needs_background": "light",
      "tags": []
     },
     "output_type": "display_data"
    }
   ],
   "source": [
    "distribution = df.hist(bins = 50, figsize = (15,30),layout = (10,3),edgecolor = 'black', linewidth = 0.5, color = 'c')\n",
    "plt.show()"
   ]
  },
  {
   "cell_type": "markdown",
   "metadata": {
    "colab_type": "text",
    "id": "EIfdn_2z-wlP"
   },
   "source": [
    "##히트맵"
   ]
  },
  {
   "cell_type": "code",
   "execution_count": null,
   "metadata": {
    "colab": {
     "base_uri": "https://localhost:8080/",
     "height": 807
    },
    "colab_type": "code",
    "executionInfo": {
     "elapsed": 32306,
     "status": "ok",
     "timestamp": 1597809352082,
     "user": {
      "displayName": "JJ Se",
      "photoUrl": "https://lh3.googleusercontent.com/a-/AOh14Ghb03i_JlSjx_gLyZx-WE1vWYSIsR6GZ-Wv8dClpA=s64",
      "userId": "04495440602003989745"
     },
     "user_tz": -540
    },
    "id": "RwnQ4wW_9RrD",
    "outputId": "0c5d03d4-9e81-40d9-d1d4-a2d2a81f9fc1"
   },
   "outputs": [
    {
     "data": {
      "image/png": "[encoded data removed]",
      "text/plain": [
       "<Figure size 1080x1080 with 4 Axes>"
      ]
     },
     "metadata": {
      "needs_background": "light",
      "tags": []
     },
     "output_type": "display_data"
    }
   ],
   "source": [
    "# corr\n",
    "ax = sns.clustermap(df.corr(), annot=True, linewidths=.6, fmt= '.2f', figsize=(15, 15))\n",
    "plt.show()"
   ]
  },
  {
   "cell_type": "code",
   "execution_count": null,
   "metadata": {
    "colab": {
     "base_uri": "https://localhost:8080/",
     "height": 478
    },
    "colab_type": "code",
    "executionInfo": {
     "elapsed": 32269,
     "status": "ok",
     "timestamp": 1597809352083,
     "user": {
      "displayName": "JJ Se",
      "photoUrl": "https://lh3.googleusercontent.com/a-/AOh14Ghb03i_JlSjx_gLyZx-WE1vWYSIsR6GZ-Wv8dClpA=s64",
      "userId": "04495440602003989745"
     },
     "user_tz": -540
    },
    "id": "ATJf8Xy_9okd",
    "outputId": "d2f4b157-b2b3-4847-b4b6-410e65b48c76"
   },
   "outputs": [
    {
     "data": {
      "text/plain": [
       "assists            0.298367\n",
       "boosts             0.634621\n",
       "damageDealt        0.440500\n",
       "DBNOs              0.277844\n",
       "headshotKills      0.277627\n",
       "heals              0.429090\n",
       "killPlace         -0.719224\n",
       "killPoints         0.015084\n",
       "kills              0.418877\n",
       "killStreaks        0.376309\n",
       "longestKill        0.409622\n",
       "matchDuration     -0.003155\n",
       "maxPlace           0.042623\n",
       "numGroups          0.044903\n",
       "rankPoints         0.011136\n",
       "revives            0.239053\n",
       "rideDistance       0.343114\n",
       "roadKills          0.034204\n",
       "swimDistance       0.148829\n",
       "teamKills          0.013053\n",
       "vehicleDestroys    0.071971\n",
       "walkDistance       0.810995\n",
       "weaponsAcquired    0.582605\n",
       "winPoints          0.009712\n",
       "winPlacePerc       1.000000\n",
       "Name: winPlacePerc, dtype: float64"
      ]
     },
     "execution_count": 15,
     "metadata": {
      "tags": []
     },
     "output_type": "execute_result"
    }
   ],
   "source": [
    "df.corr()['winPlacePerc']"
   ]
  },
  {
   "cell_type": "markdown",
   "metadata": {
    "colab_type": "text",
    "id": "lkr1R5YZ-264"
   },
   "source": [
    "## 상세 확인"
   ]
  },
  {
   "cell_type": "code",
   "execution_count": null,
   "metadata": {
    "colab": {},
    "colab_type": "code",
    "id": "KW9Mh_My8seA"
   },
   "outputs": [],
   "source": [
    "def visualize(col_name):\n",
    "    '''\n",
    "    Function for visualization\n",
    "    '''\n",
    "    title_name = col_name[0].upper() + col_name[1:]\n",
    "    tmp = df[col_name].value_counts().sort_values(ascending=False)\n",
    "    \n",
    "    plt.figure(figsize=(10,5))\n",
    "    plt.bar(tmp.index,np.log(tmp.values))\n",
    "    plt.xlabel(title_name)\n",
    "    plt.ylabel('log Count')\n",
    "    plt.title(title_name + ' Histogram')\n",
    "    plt.show()\n",
    "\n",
    "    print('Min value of ' + title_name + ' is: ',min(tmp.index))\n",
    "    print('Max value of ' + title_name + ' is: ',max(tmp.index))"
   ]
  },
  {
   "cell_type": "code",
   "execution_count": null,
   "metadata": {
    "colab": {
     "base_uri": "https://localhost:8080/",
     "height": 414
    },
    "colab_type": "code",
    "executionInfo": {
     "elapsed": 32206,
     "status": "ok",
     "timestamp": 1597809352085,
     "user": {
      "displayName": "JJ Se",
      "photoUrl": "https://lh3.googleusercontent.com/a-/AOh14Ghb03i_JlSjx_gLyZx-WE1vWYSIsR6GZ-Wv8dClpA=s64",
      "userId": "04495440602003989745"
     },
     "user_tz": -540
    },
    "id": "uSf5pbLbFUID",
    "outputId": "591631d0-2e16-405c-d6ee-44aa5c64f79c"
   },
   "outputs": [
    {
     "data": {
      "image/png": "[encoded data removed]",
      "text/plain": [
       "<Figure size 720x360 with 1 Axes>"
      ]
     },
     "metadata": {
      "needs_background": "light",
      "tags": []
     },
     "output_type": "display_data"
    }
   ],
   "source": [
    "plt.figure(figsize=(10,5))\n",
    "sns.barplot(x = df['matchType'].unique(),\n",
    "            y = df['matchType'].value_counts()).set_title('Match Types')\n",
    "df['matchType'].value_counts().plot.bar();"
   ]
  },
  {
   "cell_type": "markdown",
   "metadata": {
    "colab_type": "text",
    "id": "qpS2bZxL_m7W"
   },
   "source": [
    "headshots = df[df['headshotKills']>0]\n",
    "plt.figure(figsize=(15,5))\n",
    "sns.countplot(headshots['headshotKills'].sort_values())\n",
    "print(\"Maximum number of headshots that the player scored: \" + str(df[\"headshotKills\"].max()))"
   ]
  },
  {
   "cell_type": "code",
   "execution_count": null,
   "metadata": {
    "colab": {
     "base_uri": "https://localhost:8080/",
     "height": 385
    },
    "colab_type": "code",
    "executionInfo": {
     "elapsed": 32175,
     "status": "ok",
     "timestamp": 1597809352086,
     "user": {
      "displayName": "JJ Se",
      "photoUrl": "https://lh3.googleusercontent.com/a-/AOh14Ghb03i_JlSjx_gLyZx-WE1vWYSIsR6GZ-Wv8dClpA=s64",
      "userId": "04495440602003989745"
     },
     "user_tz": -540
    },
    "id": "NbJQxMOp6OUB",
    "outputId": "fc603836-3f02-42b6-e1ab-756f97c0f0f4"
   },
   "outputs": [
    {
     "data": {
      "image/png": "[encoded data removed]",
      "text/plain": [
       "<Figure size 720x360 with 1 Axes>"
      ]
     },
     "metadata": {
      "needs_background": "light",
      "tags": []
     },
     "output_type": "display_data"
    },
    {
     "name": "stdout",
     "output_type": "stream",
     "text": [
      "Min value of HeadshotKills is:  0\n",
      "Max value of HeadshotKills is:  40\n"
     ]
    }
   ],
   "source": [
    "visualize('headshotKills')"
   ]
  },
  {
   "cell_type": "markdown",
   "metadata": {
    "colab_type": "text",
    "id": "Dpcxpt0V7jb-"
   },
   "source": [
    "plt.figure(figsize=(15,5))\n",
    "ax = sns.boxplot(x=\"killStreaks\",y=\"kills\", data = df)\n",
    "ax.set_title(\"Number of kill streaks vs. Number of Kills\")\n",
    "plt.show()"
   ]
  },
  {
   "cell_type": "code",
   "execution_count": null,
   "metadata": {
    "colab": {
     "base_uri": "https://localhost:8080/",
     "height": 90
    },
    "colab_type": "code",
    "executionInfo": {
     "elapsed": 32148,
     "status": "ok",
     "timestamp": 1597809352087,
     "user": {
      "displayName": "JJ Se",
      "photoUrl": "https://lh3.googleusercontent.com/a-/AOh14Ghb03i_JlSjx_gLyZx-WE1vWYSIsR6GZ-Wv8dClpA=s64",
      "userId": "04495440602003989745"
     },
     "user_tz": -540
    },
    "id": "4Lgl5ktf6mNH",
    "outputId": "74e0542b-786c-4bec-a4e4-fe3023a896b1"
   },
   "outputs": [
    {
     "name": "stdout",
     "output_type": "stream",
     "text": [
      "4416 of players didn't walk at all, 148929 players didn't drive and 187004 didn't swim.\n",
      "Average longest kill distance a player achieve is 22.9m, 95% of them not more than 125.9m and a maximum distance is 999.9m.\n",
      "Average longest kill distance a player achieve is 22.9m, 95% of them not more than 125.9m and a maximum distance is 999.9m.\n"
     ]
    }
   ],
   "source": [
    "walk0 = df[\"walkDistance\"] == 0\n",
    "ride0 = df[\"rideDistance\"] == 0\n",
    "swim0 = df[\"swimDistance\"] == 0\n",
    "print(\"{} of players didn't walk at all, {} players didn't drive and {} didn't swim.\" .format(walk0.sum(),ride0.sum(),swim0.sum()))\n",
    "\n",
    "print(\"Average longest kill distance a player achieve is {:.1f}m, 95% of them not more than {:.1f}m and a maximum distance is {:.1f}m.\" .format(df['longestKill'].mean(),df['longestKill'].quantile(0.95),df['longestKill'].max()))\n",
    "\n",
    "print(\"Average longest kill distance a player achieve is {:.1f}m, 95% of them not more than {:.1f}m and a maximum distance is {:.1f}m.\" .format(df['longestKill'].mean(),df['longestKill'].quantile(0.95),df['longestKill'].max()))\n"
   ]
  },
  {
   "cell_type": "code",
   "execution_count": null,
   "metadata": {
    "colab": {
     "base_uri": "https://localhost:8080/",
     "height": 423
    },
    "colab_type": "code",
    "executionInfo": {
     "elapsed": 32446,
     "status": "ok",
     "timestamp": 1597809352423,
     "user": {
      "displayName": "JJ Se",
      "photoUrl": "https://lh3.googleusercontent.com/a-/AOh14Ghb03i_JlSjx_gLyZx-WE1vWYSIsR6GZ-Wv8dClpA=s64",
      "userId": "04495440602003989745"
     },
     "user_tz": -540
    },
    "id": "0i8q_zEv8wU6",
    "outputId": "5e550afe-ff34-410e-e364-1fe794c512cf"
   },
   "outputs": [
    {
     "data": {
      "image/png": "[encoded data removed]",
      "text/plain": [
       "<Figure size 720x360 with 1 Axes>"
      ]
     },
     "metadata": {
      "needs_background": "light",
      "tags": []
     },
     "output_type": "display_data"
    },
    {
     "name": "stdout",
     "output_type": "stream",
     "text": [
      "Min value of WeaponsAcquired is:  0\n",
      "Max value of WeaponsAcquired is:  72\n",
      "Average number of acquired weapons is 3.672, minimum is 0 and the maximum 72, 99% of players acquired less than weapons 10.0.\n"
     ]
    }
   ],
   "source": [
    "#df.hist('weaponsAcquired', figsize = (15,5), range=(0, 20),align=\"left\", rwidth=0.9)\n",
    "visualize('weaponsAcquired')\n",
    "plt.show()\n",
    "\n",
    "print(\"Average number of acquired weapons is {:.3f}, minimum is {} and the maximum {}, 99% of players acquired less than weapons {}.\" \n",
    "      .format(df[\"weaponsAcquired\"].mean(), df[\"weaponsAcquired\"].min(), df[\"weaponsAcquired\"].max(), df[\"weaponsAcquired\"].quantile(0.99)))"
   ]
  },
  {
   "cell_type": "markdown",
   "metadata": {
    "colab_type": "text",
    "id": "WPbrtF6v8FZQ"
   },
   "source": [
    "### 임의의 Id를 기준으로 함께 플레이한 맴버를 시각화 해보는것. \n",
    "group_tmp = df[df['matchId']=='6680c7c3d17d48']['groupId'].value_counts().sort_values(ascending=False)\n"
   ]
  },
  {
   "cell_type": "markdown",
   "metadata": {
    "colab_type": "text",
    "id": "S5x8V_xT_e1_"
   },
   "source": [
    "\n",
    "plt.figure()\n",
    "plt.bar(group_tmp.index,group_tmp.values)\n",
    "plt.xlabel('GroupId')\n",
    "plt.ylabel('Count')\n",
    "plt.xticks(rotation=90)\n",
    "plt.title('Number of Group Members in One Match')\n",
    "plt.show()\n",
    "\n",
    "print('Min number of group members is: ',min(group_tmp.values))\n",
    "print('Max number of group members is: ',max(group_tmp.values))"
   ]
  },
  {
   "cell_type": "markdown",
   "metadata": {
    "colab_type": "text",
    "id": "gQ8y0dEw8FcO"
   },
   "source": [
    "+ 위의 그래프를 해석하자만, 솔로경기부터 이베트 매치까지 다양하게 플레이 한 것을 알 수 있다. \n",
    "+ 4이하는 일반적으로 노멀 또는 랭크게임을 돌린것이다. \n",
    "+ 6인 또는 11인 스쿼드는 이벤트매치 또는 사용자정의 매치를 돌린것으로 파악할 수 있다. "
   ]
  },
  {
   "cell_type": "code",
   "execution_count": null,
   "metadata": {
    "colab": {
     "base_uri": "https://localhost:8080/",
     "height": 367
    },
    "colab_type": "code",
    "executionInfo": {
     "elapsed": 33584,
     "status": "ok",
     "timestamp": 1597809353592,
     "user": {
      "displayName": "JJ Se",
      "photoUrl": "https://lh3.googleusercontent.com/a-/AOh14Ghb03i_JlSjx_gLyZx-WE1vWYSIsR6GZ-Wv8dClpA=s64",
      "userId": "04495440602003989745"
     },
     "user_tz": -540
    },
    "id": "NYdlghmy-DQn",
    "outputId": "fd2e8be8-7f7c-49b3-a5e9-617c4ce35743"
   },
   "outputs": [
    {
     "data": {
      "text/plain": [
       "<matplotlib.axes._subplots.AxesSubplot at 0x7f4fcd879d30>"
      ]
     },
     "execution_count": 21,
     "metadata": {
      "tags": []
     },
     "output_type": "execute_result"
    },
    {
     "data": {
      "image/png": "[encoded data removed]",
      "text/plain": [
       "<Figure size 720x360 with 1 Axes>"
      ]
     },
     "metadata": {
      "needs_background": "light",
      "tags": []
     },
     "output_type": "display_data"
    }
   ],
   "source": [
    "df.plot(x=\"winPlacePerc\", y=\"walkDistance\", kind=\"scatter\", figsize=(10,5), title='walkDistance vs winPlacePerc')"
   ]
  },
  {
   "cell_type": "code",
   "execution_count": null,
   "metadata": {
    "colab": {
     "base_uri": "https://localhost:8080/",
     "height": 367
    },
    "colab_type": "code",
    "executionInfo": {
     "elapsed": 34549,
     "status": "ok",
     "timestamp": 1597809354586,
     "user": {
      "displayName": "JJ Se",
      "photoUrl": "https://lh3.googleusercontent.com/a-/AOh14Ghb03i_JlSjx_gLyZx-WE1vWYSIsR6GZ-Wv8dClpA=s64",
      "userId": "04495440602003989745"
     },
     "user_tz": -540
    },
    "id": "yJPalI6bAojI",
    "outputId": "e137ec59-3a79-43ca-fd17-1132cb7357ba"
   },
   "outputs": [
    {
     "data": {
      "text/plain": [
       "<matplotlib.axes._subplots.AxesSubplot at 0x7f4fcd7f2400>"
      ]
     },
     "execution_count": 22,
     "metadata": {
      "tags": []
     },
     "output_type": "execute_result"
    },
    {
     "data": {
      "image/png": "[encoded data removed]",
      "text/plain": [
       "<Figure size 720x360 with 1 Axes>"
      ]
     },
     "metadata": {
      "needs_background": "light",
      "tags": []
     },
     "output_type": "display_data"
    }
   ],
   "source": [
    "df.plot(x=\"winPlacePerc\", y=\"heals\", kind=\"scatter\", figsize=(10,5), title='heals vs winPlacePerc')"
   ]
  },
  {
   "cell_type": "code",
   "execution_count": null,
   "metadata": {
    "colab": {
     "base_uri": "https://localhost:8080/",
     "height": 367
    },
    "colab_type": "code",
    "executionInfo": {
     "elapsed": 34517,
     "status": "ok",
     "timestamp": 1597809354587,
     "user": {
      "displayName": "JJ Se",
      "photoUrl": "https://lh3.googleusercontent.com/a-/AOh14Ghb03i_JlSjx_gLyZx-WE1vWYSIsR6GZ-Wv8dClpA=s64",
      "userId": "04495440602003989745"
     },
     "user_tz": -540
    },
    "id": "4xGCKLmMAxPo",
    "outputId": "d1d35b72-82ac-4134-e397-13e7afc721dc"
   },
   "outputs": [
    {
     "data": {
      "text/plain": [
       "(-0.5, 17.5, 0.0, 1.0)"
      ]
     },
     "execution_count": 23,
     "metadata": {
      "tags": []
     },
     "output_type": "execute_result"
    },
    {
     "data": {
      "image/png": "[encoded data removed]",
      "text/plain": [
       "<Figure size 720x360 with 1 Axes>"
      ]
     },
     "metadata": {
      "needs_background": "light",
      "tags": []
     },
     "output_type": "display_data"
    }
   ],
   "source": [
    "f, ax = plt.subplots(figsize=(10, 5))\n",
    "fig = sns.boxplot(x='boosts', y=\"winPlacePerc\", data=df)\n",
    "plt.title('heals vs winPlacePerc box plot')\n",
    "fig.axis(ymin=0, ymax=1)"
   ]
  },
  {
   "cell_type": "code",
   "execution_count": null,
   "metadata": {
    "colab": {
     "base_uri": "https://localhost:8080/",
     "height": 406
    },
    "colab_type": "code",
    "executionInfo": {
     "elapsed": 35136,
     "status": "ok",
     "timestamp": 1597809355249,
     "user": {
      "displayName": "JJ Se",
      "photoUrl": "https://lh3.googleusercontent.com/a-/AOh14Ghb03i_JlSjx_gLyZx-WE1vWYSIsR6GZ-Wv8dClpA=s64",
      "userId": "04495440602003989745"
     },
     "user_tz": -540
    },
    "id": "egA_dQ5v-V9b",
    "outputId": "fa07d11e-388f-48c9-d583-c10df21854ed"
   },
   "outputs": [
    {
     "name": "stdout",
     "output_type": "stream",
     "text": [
      "Average number of kills: 2.6\n",
      "Minimum: 0\n",
      "The best: 42\n",
      "99.9% of players within: 18.0 kills.\n"
     ]
    },
    {
     "data": {
      "image/png": "[encoded data removed]",
      "text/plain": [
       "<Figure size 720x360 with 1 Axes>"
      ]
     },
     "metadata": {
      "needs_background": "light",
      "tags": []
     },
     "output_type": "display_data"
    }
   ],
   "source": [
    "# Top 10% Kill 분포\n",
    "top10 = df[df[\"winPlacePerc\"]>0.9]\n",
    "print(\"Average number of kills: {:.1f}\\nMinimum: {}\\nThe best: {}\\n99.9% of players within: {} kills.\" \n",
    "      .format(top10[\"kills\"].mean(), top10[\"kills\"].min(), top10[\"kills\"].max(),top10[\"kills\"].quantile(0.999)))\n",
    "\n",
    "df.hist('kills', figsize = (10,5),range=(0, 20), align=\"left\", rwidth=0.9)\n",
    "plt.show()"
   ]
  },
  {
   "cell_type": "markdown",
   "metadata": {
    "colab_type": "text",
    "id": "pIgoqc1tGcUC"
   },
   "source": [
    "###Groupby: MatchId, GroupId\n",
    "* 팀 베이스 게임 모드는 팀에서 잘하는 사람이 하나만 있어도 팀 능력치가 크게 올라가기 때문에 groupId로 묶어서 봐야한다."
   ]
  },
  {
   "cell_type": "code",
   "execution_count": null,
   "metadata": {
    "colab": {
     "base_uri": "https://localhost:8080/",
     "height": 486
    },
    "colab_type": "code",
    "executionInfo": {
     "elapsed": 36152,
     "status": "ok",
     "timestamp": 1597809356328,
     "user": {
      "displayName": "JJ Se",
      "photoUrl": "https://lh3.googleusercontent.com/a-/AOh14Ghb03i_JlSjx_gLyZx-WE1vWYSIsR6GZ-Wv8dClpA=s64",
      "userId": "04495440602003989745"
     },
     "user_tz": -540
    },
    "id": "F__R62UadyVB",
    "outputId": "605eb735-48c3-49c4-d28c-ac6fc81752f7"
   },
   "outputs": [
    {
     "data": {
      "text/html": [
       "<div>\n",
       "<style scoped>\n",
       "    .dataframe tbody tr th:only-of-type {\n",
       "        vertical-align: middle;\n",
       "    }\n",
       "\n",
       "    .dataframe tbody tr th {\n",
       "        vertical-align: top;\n",
       "    }\n",
       "\n",
       "    .dataframe thead tr th {\n",
       "        text-align: left;\n",
       "    }\n",
       "\n",
       "    .dataframe thead tr:last-of-type th {\n",
       "        text-align: right;\n",
       "    }\n",
       "</style>\n",
       "<table border=\"1\" class=\"dataframe\">\n",
       "  <thead>\n",
       "    <tr>\n",
       "      <th></th>\n",
       "      <th></th>\n",
       "      <th colspan=\"2\" halign=\"left\">assists</th>\n",
       "      <th colspan=\"2\" halign=\"left\">boosts</th>\n",
       "      <th colspan=\"2\" halign=\"left\">damageDealt</th>\n",
       "      <th colspan=\"2\" halign=\"left\">DBNOs</th>\n",
       "      <th colspan=\"2\" halign=\"left\">headshotKills</th>\n",
       "      <th colspan=\"2\" halign=\"left\">heals</th>\n",
       "      <th colspan=\"2\" halign=\"left\">killPlace</th>\n",
       "      <th colspan=\"2\" halign=\"left\">killPoints</th>\n",
       "      <th colspan=\"2\" halign=\"left\">kills</th>\n",
       "      <th colspan=\"2\" halign=\"left\">killStreaks</th>\n",
       "      <th colspan=\"2\" halign=\"left\">longestKill</th>\n",
       "      <th colspan=\"2\" halign=\"left\">matchDuration</th>\n",
       "      <th colspan=\"2\" halign=\"left\">maxPlace</th>\n",
       "      <th colspan=\"2\" halign=\"left\">numGroups</th>\n",
       "      <th colspan=\"2\" halign=\"left\">rankPoints</th>\n",
       "      <th colspan=\"2\" halign=\"left\">revives</th>\n",
       "      <th colspan=\"2\" halign=\"left\">rideDistance</th>\n",
       "      <th colspan=\"2\" halign=\"left\">roadKills</th>\n",
       "      <th colspan=\"2\" halign=\"left\">swimDistance</th>\n",
       "      <th colspan=\"2\" halign=\"left\">teamKills</th>\n",
       "      <th colspan=\"2\" halign=\"left\">vehicleDestroys</th>\n",
       "      <th colspan=\"2\" halign=\"left\">walkDistance</th>\n",
       "      <th colspan=\"2\" halign=\"left\">weaponsAcquired</th>\n",
       "      <th colspan=\"2\" halign=\"left\">winPoints</th>\n",
       "      <th colspan=\"2\" halign=\"left\">winPlacePerc</th>\n",
       "    </tr>\n",
       "    <tr>\n",
       "      <th></th>\n",
       "      <th></th>\n",
       "      <th>mean</th>\n",
       "      <th>max</th>\n",
       "      <th>mean</th>\n",
       "      <th>max</th>\n",
       "      <th>mean</th>\n",
       "      <th>max</th>\n",
       "      <th>mean</th>\n",
       "      <th>max</th>\n",
       "      <th>mean</th>\n",
       "      <th>max</th>\n",
       "      <th>mean</th>\n",
       "      <th>max</th>\n",
       "      <th>mean</th>\n",
       "      <th>max</th>\n",
       "      <th>mean</th>\n",
       "      <th>max</th>\n",
       "      <th>mean</th>\n",
       "      <th>max</th>\n",
       "      <th>mean</th>\n",
       "      <th>max</th>\n",
       "      <th>mean</th>\n",
       "      <th>max</th>\n",
       "      <th>mean</th>\n",
       "      <th>max</th>\n",
       "      <th>mean</th>\n",
       "      <th>max</th>\n",
       "      <th>mean</th>\n",
       "      <th>max</th>\n",
       "      <th>mean</th>\n",
       "      <th>max</th>\n",
       "      <th>mean</th>\n",
       "      <th>max</th>\n",
       "      <th>mean</th>\n",
       "      <th>max</th>\n",
       "      <th>mean</th>\n",
       "      <th>max</th>\n",
       "      <th>mean</th>\n",
       "      <th>max</th>\n",
       "      <th>mean</th>\n",
       "      <th>max</th>\n",
       "      <th>mean</th>\n",
       "      <th>max</th>\n",
       "      <th>mean</th>\n",
       "      <th>max</th>\n",
       "      <th>mean</th>\n",
       "      <th>max</th>\n",
       "      <th>mean</th>\n",
       "      <th>max</th>\n",
       "      <th>mean</th>\n",
       "      <th>max</th>\n",
       "    </tr>\n",
       "    <tr>\n",
       "      <th>matchId</th>\n",
       "      <th>groupId</th>\n",
       "      <th></th>\n",
       "      <th></th>\n",
       "      <th></th>\n",
       "      <th></th>\n",
       "      <th></th>\n",
       "      <th></th>\n",
       "      <th></th>\n",
       "      <th></th>\n",
       "      <th></th>\n",
       "      <th></th>\n",
       "      <th></th>\n",
       "      <th></th>\n",
       "      <th></th>\n",
       "      <th></th>\n",
       "      <th></th>\n",
       "      <th></th>\n",
       "      <th></th>\n",
       "      <th></th>\n",
       "      <th></th>\n",
       "      <th></th>\n",
       "      <th></th>\n",
       "      <th></th>\n",
       "      <th></th>\n",
       "      <th></th>\n",
       "      <th></th>\n",
       "      <th></th>\n",
       "      <th></th>\n",
       "      <th></th>\n",
       "      <th></th>\n",
       "      <th></th>\n",
       "      <th></th>\n",
       "      <th></th>\n",
       "      <th></th>\n",
       "      <th></th>\n",
       "      <th></th>\n",
       "      <th></th>\n",
       "      <th></th>\n",
       "      <th></th>\n",
       "      <th></th>\n",
       "      <th></th>\n",
       "      <th></th>\n",
       "      <th></th>\n",
       "      <th></th>\n",
       "      <th></th>\n",
       "      <th></th>\n",
       "      <th></th>\n",
       "      <th></th>\n",
       "      <th></th>\n",
       "      <th></th>\n",
       "      <th></th>\n",
       "    </tr>\n",
       "  </thead>\n",
       "  <tbody>\n",
       "    <tr>\n",
       "      <th rowspan=\"3\" valign=\"top\">0000a43bce5eec</th>\n",
       "      <th>4d1bbbc19b9084</th>\n",
       "      <td>1.0</td>\n",
       "      <td>1</td>\n",
       "      <td>3.0</td>\n",
       "      <td>3</td>\n",
       "      <td>151.80</td>\n",
       "      <td>151.80</td>\n",
       "      <td>1.0</td>\n",
       "      <td>1</td>\n",
       "      <td>1.0</td>\n",
       "      <td>1</td>\n",
       "      <td>2.0</td>\n",
       "      <td>2</td>\n",
       "      <td>23.0</td>\n",
       "      <td>23</td>\n",
       "      <td>1308.0</td>\n",
       "      <td>1308</td>\n",
       "      <td>1.0</td>\n",
       "      <td>1</td>\n",
       "      <td>1.0</td>\n",
       "      <td>1</td>\n",
       "      <td>17.04</td>\n",
       "      <td>17.04</td>\n",
       "      <td>1346</td>\n",
       "      <td>1346</td>\n",
       "      <td>28</td>\n",
       "      <td>28</td>\n",
       "      <td>28</td>\n",
       "      <td>28</td>\n",
       "      <td>0.0</td>\n",
       "      <td>0</td>\n",
       "      <td>0.0</td>\n",
       "      <td>0</td>\n",
       "      <td>159.90</td>\n",
       "      <td>159.90</td>\n",
       "      <td>0.0</td>\n",
       "      <td>0</td>\n",
       "      <td>6.545</td>\n",
       "      <td>6.545</td>\n",
       "      <td>0.0</td>\n",
       "      <td>0</td>\n",
       "      <td>0.0</td>\n",
       "      <td>0</td>\n",
       "      <td>3250.0</td>\n",
       "      <td>3250.0</td>\n",
       "      <td>4.0</td>\n",
       "      <td>4</td>\n",
       "      <td>1480.0</td>\n",
       "      <td>1480</td>\n",
       "      <td>1.0000</td>\n",
       "      <td>1.0000</td>\n",
       "    </tr>\n",
       "    <tr>\n",
       "      <th>7bd08592bb25e2</th>\n",
       "      <td>0.0</td>\n",
       "      <td>0</td>\n",
       "      <td>1.0</td>\n",
       "      <td>1</td>\n",
       "      <td>0.00</td>\n",
       "      <td>0.00</td>\n",
       "      <td>0.0</td>\n",
       "      <td>0</td>\n",
       "      <td>0.0</td>\n",
       "      <td>0</td>\n",
       "      <td>1.0</td>\n",
       "      <td>1</td>\n",
       "      <td>41.0</td>\n",
       "      <td>41</td>\n",
       "      <td>1693.0</td>\n",
       "      <td>1693</td>\n",
       "      <td>0.0</td>\n",
       "      <td>0</td>\n",
       "      <td>0.0</td>\n",
       "      <td>0</td>\n",
       "      <td>0.00</td>\n",
       "      <td>0.00</td>\n",
       "      <td>1346</td>\n",
       "      <td>1346</td>\n",
       "      <td>28</td>\n",
       "      <td>28</td>\n",
       "      <td>28</td>\n",
       "      <td>28</td>\n",
       "      <td>0.0</td>\n",
       "      <td>0</td>\n",
       "      <td>0.0</td>\n",
       "      <td>0</td>\n",
       "      <td>0.00</td>\n",
       "      <td>0.00</td>\n",
       "      <td>0.0</td>\n",
       "      <td>0</td>\n",
       "      <td>0.000</td>\n",
       "      <td>0.000</td>\n",
       "      <td>0.0</td>\n",
       "      <td>0</td>\n",
       "      <td>0.0</td>\n",
       "      <td>0</td>\n",
       "      <td>2723.0</td>\n",
       "      <td>2723.0</td>\n",
       "      <td>3.0</td>\n",
       "      <td>3</td>\n",
       "      <td>1502.0</td>\n",
       "      <td>1502</td>\n",
       "      <td>0.6667</td>\n",
       "      <td>0.6667</td>\n",
       "    </tr>\n",
       "    <tr>\n",
       "      <th>909fe185a8cdec</th>\n",
       "      <td>0.0</td>\n",
       "      <td>0</td>\n",
       "      <td>0.0</td>\n",
       "      <td>0</td>\n",
       "      <td>185.30</td>\n",
       "      <td>185.30</td>\n",
       "      <td>0.0</td>\n",
       "      <td>0</td>\n",
       "      <td>0.0</td>\n",
       "      <td>0</td>\n",
       "      <td>0.0</td>\n",
       "      <td>0</td>\n",
       "      <td>34.0</td>\n",
       "      <td>34</td>\n",
       "      <td>1496.0</td>\n",
       "      <td>1496</td>\n",
       "      <td>1.0</td>\n",
       "      <td>1</td>\n",
       "      <td>1.0</td>\n",
       "      <td>1</td>\n",
       "      <td>21.93</td>\n",
       "      <td>21.93</td>\n",
       "      <td>1346</td>\n",
       "      <td>1346</td>\n",
       "      <td>28</td>\n",
       "      <td>28</td>\n",
       "      <td>28</td>\n",
       "      <td>28</td>\n",
       "      <td>0.0</td>\n",
       "      <td>0</td>\n",
       "      <td>1.0</td>\n",
       "      <td>1</td>\n",
       "      <td>0.00</td>\n",
       "      <td>0.00</td>\n",
       "      <td>0.0</td>\n",
       "      <td>0</td>\n",
       "      <td>0.000</td>\n",
       "      <td>0.000</td>\n",
       "      <td>0.0</td>\n",
       "      <td>0</td>\n",
       "      <td>0.0</td>\n",
       "      <td>0</td>\n",
       "      <td>155.7</td>\n",
       "      <td>155.7</td>\n",
       "      <td>2.0</td>\n",
       "      <td>2</td>\n",
       "      <td>1499.0</td>\n",
       "      <td>1499</td>\n",
       "      <td>0.1852</td>\n",
       "      <td>0.1852</td>\n",
       "    </tr>\n",
       "    <tr>\n",
       "      <th rowspan=\"2\" valign=\"top\">0000eb01ea6cdd</th>\n",
       "      <th>338a69335655a6</th>\n",
       "      <td>0.0</td>\n",
       "      <td>0</td>\n",
       "      <td>1.0</td>\n",
       "      <td>1</td>\n",
       "      <td>210.90</td>\n",
       "      <td>210.90</td>\n",
       "      <td>1.0</td>\n",
       "      <td>1</td>\n",
       "      <td>1.0</td>\n",
       "      <td>1</td>\n",
       "      <td>3.0</td>\n",
       "      <td>3</td>\n",
       "      <td>29.0</td>\n",
       "      <td>29</td>\n",
       "      <td>0.0</td>\n",
       "      <td>0</td>\n",
       "      <td>1.0</td>\n",
       "      <td>1</td>\n",
       "      <td>1.0</td>\n",
       "      <td>1</td>\n",
       "      <td>92.57</td>\n",
       "      <td>92.57</td>\n",
       "      <td>1363</td>\n",
       "      <td>1363</td>\n",
       "      <td>28</td>\n",
       "      <td>28</td>\n",
       "      <td>27</td>\n",
       "      <td>27</td>\n",
       "      <td>1590.0</td>\n",
       "      <td>1590</td>\n",
       "      <td>0.0</td>\n",
       "      <td>0</td>\n",
       "      <td>0.00</td>\n",
       "      <td>0.00</td>\n",
       "      <td>0.0</td>\n",
       "      <td>0</td>\n",
       "      <td>0.000</td>\n",
       "      <td>0.000</td>\n",
       "      <td>0.0</td>\n",
       "      <td>0</td>\n",
       "      <td>0.0</td>\n",
       "      <td>0</td>\n",
       "      <td>988.3</td>\n",
       "      <td>988.3</td>\n",
       "      <td>5.0</td>\n",
       "      <td>5</td>\n",
       "      <td>0.0</td>\n",
       "      <td>0</td>\n",
       "      <td>0.5926</td>\n",
       "      <td>0.5926</td>\n",
       "    </tr>\n",
       "    <tr>\n",
       "      <th>e63cccd7a15254</th>\n",
       "      <td>1.0</td>\n",
       "      <td>1</td>\n",
       "      <td>5.0</td>\n",
       "      <td>5</td>\n",
       "      <td>173.30</td>\n",
       "      <td>173.30</td>\n",
       "      <td>1.0</td>\n",
       "      <td>1</td>\n",
       "      <td>1.0</td>\n",
       "      <td>1</td>\n",
       "      <td>2.0</td>\n",
       "      <td>2</td>\n",
       "      <td>10.0</td>\n",
       "      <td>10</td>\n",
       "      <td>0.0</td>\n",
       "      <td>0</td>\n",
       "      <td>3.0</td>\n",
       "      <td>3</td>\n",
       "      <td>1.0</td>\n",
       "      <td>1</td>\n",
       "      <td>31.66</td>\n",
       "      <td>31.66</td>\n",
       "      <td>1363</td>\n",
       "      <td>1363</td>\n",
       "      <td>28</td>\n",
       "      <td>28</td>\n",
       "      <td>27</td>\n",
       "      <td>27</td>\n",
       "      <td>1423.0</td>\n",
       "      <td>1423</td>\n",
       "      <td>0.0</td>\n",
       "      <td>0</td>\n",
       "      <td>0.00</td>\n",
       "      <td>0.00</td>\n",
       "      <td>0.0</td>\n",
       "      <td>0</td>\n",
       "      <td>0.000</td>\n",
       "      <td>0.000</td>\n",
       "      <td>0.0</td>\n",
       "      <td>0</td>\n",
       "      <td>0.0</td>\n",
       "      <td>0</td>\n",
       "      <td>4082.0</td>\n",
       "      <td>4082.0</td>\n",
       "      <td>6.0</td>\n",
       "      <td>6</td>\n",
       "      <td>0.0</td>\n",
       "      <td>0</td>\n",
       "      <td>1.0000</td>\n",
       "      <td>1.0000</td>\n",
       "    </tr>\n",
       "    <tr>\n",
       "      <th>...</th>\n",
       "      <th>...</th>\n",
       "      <td>...</td>\n",
       "      <td>...</td>\n",
       "      <td>...</td>\n",
       "      <td>...</td>\n",
       "      <td>...</td>\n",
       "      <td>...</td>\n",
       "      <td>...</td>\n",
       "      <td>...</td>\n",
       "      <td>...</td>\n",
       "      <td>...</td>\n",
       "      <td>...</td>\n",
       "      <td>...</td>\n",
       "      <td>...</td>\n",
       "      <td>...</td>\n",
       "      <td>...</td>\n",
       "      <td>...</td>\n",
       "      <td>...</td>\n",
       "      <td>...</td>\n",
       "      <td>...</td>\n",
       "      <td>...</td>\n",
       "      <td>...</td>\n",
       "      <td>...</td>\n",
       "      <td>...</td>\n",
       "      <td>...</td>\n",
       "      <td>...</td>\n",
       "      <td>...</td>\n",
       "      <td>...</td>\n",
       "      <td>...</td>\n",
       "      <td>...</td>\n",
       "      <td>...</td>\n",
       "      <td>...</td>\n",
       "      <td>...</td>\n",
       "      <td>...</td>\n",
       "      <td>...</td>\n",
       "      <td>...</td>\n",
       "      <td>...</td>\n",
       "      <td>...</td>\n",
       "      <td>...</td>\n",
       "      <td>...</td>\n",
       "      <td>...</td>\n",
       "      <td>...</td>\n",
       "      <td>...</td>\n",
       "      <td>...</td>\n",
       "      <td>...</td>\n",
       "      <td>...</td>\n",
       "      <td>...</td>\n",
       "      <td>...</td>\n",
       "      <td>...</td>\n",
       "      <td>...</td>\n",
       "      <td>...</td>\n",
       "    </tr>\n",
       "    <tr>\n",
       "      <th>fffe562611d981</th>\n",
       "      <th>5f74b1e18d8c96</th>\n",
       "      <td>0.0</td>\n",
       "      <td>0</td>\n",
       "      <td>0.0</td>\n",
       "      <td>0</td>\n",
       "      <td>19.44</td>\n",
       "      <td>19.44</td>\n",
       "      <td>0.0</td>\n",
       "      <td>0</td>\n",
       "      <td>0.0</td>\n",
       "      <td>0</td>\n",
       "      <td>1.0</td>\n",
       "      <td>1</td>\n",
       "      <td>63.0</td>\n",
       "      <td>63</td>\n",
       "      <td>1277.0</td>\n",
       "      <td>1277</td>\n",
       "      <td>0.0</td>\n",
       "      <td>0</td>\n",
       "      <td>0.0</td>\n",
       "      <td>0</td>\n",
       "      <td>0.00</td>\n",
       "      <td>0.00</td>\n",
       "      <td>1204</td>\n",
       "      <td>1204</td>\n",
       "      <td>26</td>\n",
       "      <td>26</td>\n",
       "      <td>23</td>\n",
       "      <td>23</td>\n",
       "      <td>-1.0</td>\n",
       "      <td>-1</td>\n",
       "      <td>0.0</td>\n",
       "      <td>0</td>\n",
       "      <td>0.00</td>\n",
       "      <td>0.00</td>\n",
       "      <td>0.0</td>\n",
       "      <td>0</td>\n",
       "      <td>0.000</td>\n",
       "      <td>0.000</td>\n",
       "      <td>0.0</td>\n",
       "      <td>0</td>\n",
       "      <td>0.0</td>\n",
       "      <td>0</td>\n",
       "      <td>191.3</td>\n",
       "      <td>191.3</td>\n",
       "      <td>3.0</td>\n",
       "      <td>3</td>\n",
       "      <td>1482.0</td>\n",
       "      <td>1482</td>\n",
       "      <td>0.3200</td>\n",
       "      <td>0.3200</td>\n",
       "    </tr>\n",
       "    <tr>\n",
       "      <th>fffe721f841f85</th>\n",
       "      <th>c5ba82f359b0d8</th>\n",
       "      <td>0.0</td>\n",
       "      <td>0</td>\n",
       "      <td>0.0</td>\n",
       "      <td>0</td>\n",
       "      <td>101.40</td>\n",
       "      <td>101.40</td>\n",
       "      <td>1.0</td>\n",
       "      <td>1</td>\n",
       "      <td>0.0</td>\n",
       "      <td>0</td>\n",
       "      <td>1.0</td>\n",
       "      <td>1</td>\n",
       "      <td>14.0</td>\n",
       "      <td>14</td>\n",
       "      <td>1402.0</td>\n",
       "      <td>1402</td>\n",
       "      <td>2.0</td>\n",
       "      <td>2</td>\n",
       "      <td>2.0</td>\n",
       "      <td>2</td>\n",
       "      <td>63.40</td>\n",
       "      <td>63.40</td>\n",
       "      <td>1309</td>\n",
       "      <td>1309</td>\n",
       "      <td>49</td>\n",
       "      <td>49</td>\n",
       "      <td>47</td>\n",
       "      <td>47</td>\n",
       "      <td>-1.0</td>\n",
       "      <td>-1</td>\n",
       "      <td>0.0</td>\n",
       "      <td>0</td>\n",
       "      <td>147.80</td>\n",
       "      <td>147.80</td>\n",
       "      <td>0.0</td>\n",
       "      <td>0</td>\n",
       "      <td>0.000</td>\n",
       "      <td>0.000</td>\n",
       "      <td>0.0</td>\n",
       "      <td>0</td>\n",
       "      <td>0.0</td>\n",
       "      <td>0</td>\n",
       "      <td>879.2</td>\n",
       "      <td>879.2</td>\n",
       "      <td>3.0</td>\n",
       "      <td>3</td>\n",
       "      <td>1568.0</td>\n",
       "      <td>1568</td>\n",
       "      <td>0.6667</td>\n",
       "      <td>0.6667</td>\n",
       "    </tr>\n",
       "    <tr>\n",
       "      <th rowspan=\"3\" valign=\"top\">fffe92232706aa</th>\n",
       "      <th>14fdb6c222eff7</th>\n",
       "      <td>1.0</td>\n",
       "      <td>1</td>\n",
       "      <td>0.0</td>\n",
       "      <td>0</td>\n",
       "      <td>37.80</td>\n",
       "      <td>37.80</td>\n",
       "      <td>0.0</td>\n",
       "      <td>0</td>\n",
       "      <td>0.0</td>\n",
       "      <td>0</td>\n",
       "      <td>0.0</td>\n",
       "      <td>0</td>\n",
       "      <td>76.0</td>\n",
       "      <td>76</td>\n",
       "      <td>0.0</td>\n",
       "      <td>0</td>\n",
       "      <td>0.0</td>\n",
       "      <td>0</td>\n",
       "      <td>0.0</td>\n",
       "      <td>0</td>\n",
       "      <td>0.00</td>\n",
       "      <td>0.00</td>\n",
       "      <td>1863</td>\n",
       "      <td>1863</td>\n",
       "      <td>29</td>\n",
       "      <td>29</td>\n",
       "      <td>29</td>\n",
       "      <td>29</td>\n",
       "      <td>1510.0</td>\n",
       "      <td>1510</td>\n",
       "      <td>0.0</td>\n",
       "      <td>0</td>\n",
       "      <td>0.00</td>\n",
       "      <td>0.00</td>\n",
       "      <td>0.0</td>\n",
       "      <td>0</td>\n",
       "      <td>0.000</td>\n",
       "      <td>0.000</td>\n",
       "      <td>0.0</td>\n",
       "      <td>0</td>\n",
       "      <td>0.0</td>\n",
       "      <td>0</td>\n",
       "      <td>440.4</td>\n",
       "      <td>440.4</td>\n",
       "      <td>2.0</td>\n",
       "      <td>2</td>\n",
       "      <td>0.0</td>\n",
       "      <td>0</td>\n",
       "      <td>0.1071</td>\n",
       "      <td>0.1071</td>\n",
       "    </tr>\n",
       "    <tr>\n",
       "      <th>1958cde581220c</th>\n",
       "      <td>1.0</td>\n",
       "      <td>1</td>\n",
       "      <td>2.0</td>\n",
       "      <td>2</td>\n",
       "      <td>39.10</td>\n",
       "      <td>39.10</td>\n",
       "      <td>0.0</td>\n",
       "      <td>0</td>\n",
       "      <td>0.0</td>\n",
       "      <td>0</td>\n",
       "      <td>3.0</td>\n",
       "      <td>3</td>\n",
       "      <td>39.0</td>\n",
       "      <td>39</td>\n",
       "      <td>0.0</td>\n",
       "      <td>0</td>\n",
       "      <td>0.0</td>\n",
       "      <td>0</td>\n",
       "      <td>0.0</td>\n",
       "      <td>0</td>\n",
       "      <td>0.00</td>\n",
       "      <td>0.00</td>\n",
       "      <td>1863</td>\n",
       "      <td>1863</td>\n",
       "      <td>29</td>\n",
       "      <td>29</td>\n",
       "      <td>29</td>\n",
       "      <td>29</td>\n",
       "      <td>1438.0</td>\n",
       "      <td>1438</td>\n",
       "      <td>0.0</td>\n",
       "      <td>0</td>\n",
       "      <td>5147.00</td>\n",
       "      <td>5147.00</td>\n",
       "      <td>0.0</td>\n",
       "      <td>0</td>\n",
       "      <td>0.000</td>\n",
       "      <td>0.000</td>\n",
       "      <td>0.0</td>\n",
       "      <td>0</td>\n",
       "      <td>0.0</td>\n",
       "      <td>0</td>\n",
       "      <td>2936.0</td>\n",
       "      <td>2936.0</td>\n",
       "      <td>5.0</td>\n",
       "      <td>5</td>\n",
       "      <td>0.0</td>\n",
       "      <td>0</td>\n",
       "      <td>0.8571</td>\n",
       "      <td>0.8571</td>\n",
       "    </tr>\n",
       "    <tr>\n",
       "      <th>7b02f39a100956</th>\n",
       "      <td>0.0</td>\n",
       "      <td>0</td>\n",
       "      <td>1.0</td>\n",
       "      <td>1</td>\n",
       "      <td>80.74</td>\n",
       "      <td>80.74</td>\n",
       "      <td>0.0</td>\n",
       "      <td>0</td>\n",
       "      <td>0.0</td>\n",
       "      <td>0</td>\n",
       "      <td>1.0</td>\n",
       "      <td>1</td>\n",
       "      <td>42.0</td>\n",
       "      <td>42</td>\n",
       "      <td>0.0</td>\n",
       "      <td>0</td>\n",
       "      <td>0.0</td>\n",
       "      <td>0</td>\n",
       "      <td>0.0</td>\n",
       "      <td>0</td>\n",
       "      <td>0.00</td>\n",
       "      <td>0.00</td>\n",
       "      <td>1863</td>\n",
       "      <td>1863</td>\n",
       "      <td>29</td>\n",
       "      <td>29</td>\n",
       "      <td>29</td>\n",
       "      <td>29</td>\n",
       "      <td>1505.0</td>\n",
       "      <td>1505</td>\n",
       "      <td>0.0</td>\n",
       "      <td>0</td>\n",
       "      <td>64.13</td>\n",
       "      <td>64.13</td>\n",
       "      <td>0.0</td>\n",
       "      <td>0</td>\n",
       "      <td>0.000</td>\n",
       "      <td>0.000</td>\n",
       "      <td>0.0</td>\n",
       "      <td>0</td>\n",
       "      <td>0.0</td>\n",
       "      <td>0</td>\n",
       "      <td>4425.0</td>\n",
       "      <td>4425.0</td>\n",
       "      <td>10.0</td>\n",
       "      <td>10</td>\n",
       "      <td>0.0</td>\n",
       "      <td>0</td>\n",
       "      <td>0.7500</td>\n",
       "      <td>0.7500</td>\n",
       "    </tr>\n",
       "  </tbody>\n",
       "</table>\n",
       "<p>97543 rows × 50 columns</p>\n",
       "</div>"
      ],
      "text/plain": [
       "                              assists     boosts  ... winPoints winPlacePerc        \n",
       "                                 mean max   mean  ...       max         mean     max\n",
       "matchId        groupId                            ...                               \n",
       "0000a43bce5eec 4d1bbbc19b9084     1.0   1    3.0  ...      1480       1.0000  1.0000\n",
       "               7bd08592bb25e2     0.0   0    1.0  ...      1502       0.6667  0.6667\n",
       "               909fe185a8cdec     0.0   0    0.0  ...      1499       0.1852  0.1852\n",
       "0000eb01ea6cdd 338a69335655a6     0.0   0    1.0  ...         0       0.5926  0.5926\n",
       "               e63cccd7a15254     1.0   1    5.0  ...         0       1.0000  1.0000\n",
       "...                               ...  ..    ...  ...       ...          ...     ...\n",
       "fffe562611d981 5f74b1e18d8c96     0.0   0    0.0  ...      1482       0.3200  0.3200\n",
       "fffe721f841f85 c5ba82f359b0d8     0.0   0    0.0  ...      1568       0.6667  0.6667\n",
       "fffe92232706aa 14fdb6c222eff7     1.0   1    0.0  ...         0       0.1071  0.1071\n",
       "               1958cde581220c     1.0   1    2.0  ...         0       0.8571  0.8571\n",
       "               7b02f39a100956     0.0   0    1.0  ...         0       0.7500  0.7500\n",
       "\n",
       "[97543 rows x 50 columns]"
      ]
     },
     "execution_count": 25,
     "metadata": {
      "tags": []
     },
     "output_type": "execute_result"
    }
   ],
   "source": [
    "df_group = df[:100000].groupby(['matchId', 'groupId'])\n",
    "df_group.agg(['mean','max'])"
   ]
  },
  {
   "cell_type": "code",
   "execution_count": null,
   "metadata": {
    "colab": {},
    "colab_type": "code",
    "id": "q9niarz0Q_dr"
   },
   "outputs": [],
   "source": []
  },
  {
   "cell_type": "markdown",
   "metadata": {
    "colab_type": "text",
    "id": "4Mp6OM7ErOue"
   },
   "source": [
    "## 이슈: Hack User\n",
    "이동 거리가 50미터 아래인데 킬수가 5 이상  \n",
    "rating 1500 기준 <- 이걸 빼고 가장낮은 값을 0 으로   \n",
    "거리 데이터 는 도메인 지식으로  \n",
    "피처 를 범주화 한 후 각 범주에 대해 점수를 부여해서 새로운 컬럼을 만들 수 있다.  \n",
    " ((X['kills'] > 0) & (X['total_distance'] == 0)) 얘넨 잠수하는 애들. 어떻게 처리?\n"
   ]
  },
  {
   "cell_type": "code",
   "execution_count": null,
   "metadata": {
    "colab": {
     "base_uri": "https://localhost:8080/",
     "height": 34
    },
    "colab_type": "code",
    "executionInfo": {
     "elapsed": 36085,
     "status": "ok",
     "timestamp": 1597809356331,
     "user": {
      "displayName": "JJ Se",
      "photoUrl": "https://lh3.googleusercontent.com/a-/AOh14Ghb03i_JlSjx_gLyZx-WE1vWYSIsR6GZ-Wv8dClpA=s64",
      "userId": "04495440602003989745"
     },
     "user_tz": -540
    },
    "id": "t_UTP0zj8bjA",
    "outputId": "6ee60a37-7b1f-487a-fb55-428111a8b70e"
   },
   "outputs": [
    {
     "data": {
      "text/plain": [
       "(111, 29)"
      ]
     },
     "execution_count": 26,
     "metadata": {
      "tags": []
     },
     "output_type": "execute_result"
    }
   ],
   "source": [
    "suspects = df.query('winPlacePerc ==1 & walkDistance < 200')\n",
    "suspects.shape"
   ]
  },
  {
   "cell_type": "code",
   "execution_count": null,
   "metadata": {
    "colab": {},
    "colab_type": "code",
    "id": "oaFOo71Cmjy3"
   },
   "outputs": [],
   "source": [
    "####이번 커널에서는 아웃라이어 삭제X\n",
    "def remove_outliers(X):\n",
    "    outliers = (X['walkDistance'] > 10000) | (X['rideDistance'] > 15000) | (X['swimDistance'] > 1000)\n",
    "    outliers = outliers | (X['kills'] > 30) | (X['longestKill'] > 800)\n",
    "    outliers = outliers | (X['kills'] > 2) & (X['winPlacePerc'] == 1) & ((X['walkDistance']+X['rideDistance']) < 200) #좀비핵\n",
    "    X = X.loc[~outliers]\n",
    "    return X\n",
    "\n",
    "def get_outliers(X):\n",
    "    outliers = (X['walkDistance'] > 10000) | (X['rideDistance'] > 15000) | (X['swimDistance'] > 1000)\n",
    "    outliers = outliers | (X['kills'] > 30) | (X['longestKill'] > 800)\n",
    "    outliers = outliers | (X['kills'] > 2) & (X['winPlacePerc'] == 1) & ((X['walkDistance']+X['rideDistance']) < 200) #좀비핵\n",
    "    outlier_data = X.loc[outliers]\n",
    "    return outlier_data"
   ]
  },
  {
   "cell_type": "code",
   "execution_count": null,
   "metadata": {
    "colab": {},
    "colab_type": "code",
    "id": "Evz4B_SLHp4p"
   },
   "outputs": [],
   "source": [
    "df_outliers = get_outliers(df) # 핵 의심 추출"
   ]
  },
  {
   "cell_type": "code",
   "execution_count": null,
   "metadata": {
    "colab": {
     "base_uri": "https://localhost:8080/",
     "height": 34
    },
    "colab_type": "code",
    "executionInfo": {
     "elapsed": 36020,
     "status": "ok",
     "timestamp": 1597809356333,
     "user": {
      "displayName": "JJ Se",
      "photoUrl": "https://lh3.googleusercontent.com/a-/AOh14Ghb03i_JlSjx_gLyZx-WE1vWYSIsR6GZ-Wv8dClpA=s64",
      "userId": "04495440602003989745"
     },
     "user_tz": -540
    },
    "id": "juESjPR9D0Yb",
    "outputId": "521cb256-ce92-4aae-d63b-640baa5be531"
   },
   "outputs": [
    {
     "data": {
      "text/plain": [
       "(85, 29)"
      ]
     },
     "execution_count": 29,
     "metadata": {
      "tags": []
     },
     "output_type": "execute_result"
    }
   ],
   "source": [
    "df_outliers.shape"
   ]
  },
  {
   "cell_type": "markdown",
   "metadata": {
    "colab_type": "text",
    "id": "NOjT8kM0R2ap"
   },
   "source": [
    "distribution = df_outliers.hist(bins = 60, figsize = (20,30),layout = (9,3),edgecolor = 'black', linewidth = 1.0, color = 'c')\n",
    "plt.show()"
   ]
  },
  {
   "cell_type": "markdown",
   "metadata": {
    "colab_type": "text",
    "id": "4n5nu3fO6kwn"
   },
   "source": [
    "# Preprocessing"
   ]
  },
  {
   "cell_type": "code",
   "execution_count": null,
   "metadata": {
    "colab": {
     "base_uri": "https://localhost:8080/",
     "height": 34
    },
    "colab_type": "code",
    "executionInfo": {
     "elapsed": 36000,
     "status": "ok",
     "timestamp": 1597809356334,
     "user": {
      "displayName": "JJ Se",
      "photoUrl": "https://lh3.googleusercontent.com/a-/AOh14Ghb03i_JlSjx_gLyZx-WE1vWYSIsR6GZ-Wv8dClpA=s64",
      "userId": "04495440602003989745"
     },
     "user_tz": -540
    },
    "id": "KQUO93uAfxUh",
    "outputId": "6c5f1c3c-6505-4f58-b8c1-f0e4df9119b5"
   },
   "outputs": [
    {
     "data": {
      "text/plain": [
       "(200000, 29)"
      ]
     },
     "execution_count": 30,
     "metadata": {
      "tags": []
     },
     "output_type": "execute_result"
    }
   ],
   "source": [
    "df.shape"
   ]
  },
  {
   "cell_type": "code",
   "execution_count": null,
   "metadata": {
    "colab": {
     "base_uri": "https://localhost:8080/",
     "height": 34
    },
    "colab_type": "code",
    "executionInfo": {
     "elapsed": 35979,
     "status": "ok",
     "timestamp": 1597809356335,
     "user": {
      "displayName": "JJ Se",
      "photoUrl": "https://lh3.googleusercontent.com/a-/AOh14Ghb03i_JlSjx_gLyZx-WE1vWYSIsR6GZ-Wv8dClpA=s64",
      "userId": "04495440602003989745"
     },
     "user_tz": -540
    },
    "id": "xBbuixTpfymU",
    "outputId": "4231ae43-7e4d-40e7-a055-94de1ee908b9"
   },
   "outputs": [
    {
     "data": {
      "text/plain": [
       "(1934174, 28)"
      ]
     },
     "execution_count": 31,
     "metadata": {
      "tags": []
     },
     "output_type": "execute_result"
    }
   ],
   "source": [
    "test_origin.shape"
   ]
  },
  {
   "cell_type": "code",
   "execution_count": null,
   "metadata": {
    "colab": {
     "base_uri": "https://localhost:8080/",
     "height": 550
    },
    "colab_type": "code",
    "executionInfo": {
     "elapsed": 35955,
     "status": "ok",
     "timestamp": 1597809356336,
     "user": {
      "displayName": "JJ Se",
      "photoUrl": "https://lh3.googleusercontent.com/a-/AOh14Ghb03i_JlSjx_gLyZx-WE1vWYSIsR6GZ-Wv8dClpA=s64",
      "userId": "04495440602003989745"
     },
     "user_tz": -540
    },
    "id": "Bj14av1OWa6w",
    "outputId": "36330b3b-4dd3-4222-e8fc-8a9062577c43"
   },
   "outputs": [
    {
     "data": {
      "text/plain": [
       "Id                 0\n",
       "groupId            0\n",
       "matchId            0\n",
       "assists            0\n",
       "boosts             0\n",
       "damageDealt        0\n",
       "DBNOs              0\n",
       "headshotKills      0\n",
       "heals              0\n",
       "killPlace          0\n",
       "killPoints         0\n",
       "kills              0\n",
       "killStreaks        0\n",
       "longestKill        0\n",
       "matchDuration      0\n",
       "matchType          0\n",
       "maxPlace           0\n",
       "numGroups          0\n",
       "rankPoints         0\n",
       "revives            0\n",
       "rideDistance       0\n",
       "roadKills          0\n",
       "swimDistance       0\n",
       "teamKills          0\n",
       "vehicleDestroys    0\n",
       "walkDistance       0\n",
       "weaponsAcquired    0\n",
       "winPoints          0\n",
       "winPlacePerc       0\n",
       "dtype: int64"
      ]
     },
     "execution_count": 32,
     "metadata": {
      "tags": []
     },
     "output_type": "execute_result"
    }
   ],
   "source": [
    "df.isnull().sum()"
   ]
  },
  {
   "cell_type": "code",
   "execution_count": null,
   "metadata": {
    "colab": {
     "base_uri": "https://localhost:8080/",
     "height": 67
    },
    "colab_type": "code",
    "executionInfo": {
     "elapsed": 35932,
     "status": "ok",
     "timestamp": 1597809356336,
     "user": {
      "displayName": "JJ Se",
      "photoUrl": "https://lh3.googleusercontent.com/a-/AOh14Ghb03i_JlSjx_gLyZx-WE1vWYSIsR6GZ-Wv8dClpA=s64",
      "userId": "04495440602003989745"
     },
     "user_tz": -540
    },
    "id": "MJWQJ_hIt2PW",
    "outputId": "44ded413-4628-4b53-d6cb-0a6a4004f137"
   },
   "outputs": [
    {
     "data": {
      "text/html": [
       "<div>\n",
       "<style scoped>\n",
       "    .dataframe tbody tr th:only-of-type {\n",
       "        vertical-align: middle;\n",
       "    }\n",
       "\n",
       "    .dataframe tbody tr th {\n",
       "        vertical-align: top;\n",
       "    }\n",
       "\n",
       "    .dataframe thead th {\n",
       "        text-align: right;\n",
       "    }\n",
       "</style>\n",
       "<table border=\"1\" class=\"dataframe\">\n",
       "  <thead>\n",
       "    <tr style=\"text-align: right;\">\n",
       "      <th></th>\n",
       "      <th>Id</th>\n",
       "      <th>groupId</th>\n",
       "      <th>matchId</th>\n",
       "      <th>assists</th>\n",
       "      <th>boosts</th>\n",
       "      <th>damageDealt</th>\n",
       "      <th>DBNOs</th>\n",
       "      <th>headshotKills</th>\n",
       "      <th>heals</th>\n",
       "      <th>killPlace</th>\n",
       "      <th>killPoints</th>\n",
       "      <th>kills</th>\n",
       "      <th>killStreaks</th>\n",
       "      <th>longestKill</th>\n",
       "      <th>matchDuration</th>\n",
       "      <th>matchType</th>\n",
       "      <th>maxPlace</th>\n",
       "      <th>numGroups</th>\n",
       "      <th>rankPoints</th>\n",
       "      <th>revives</th>\n",
       "      <th>rideDistance</th>\n",
       "      <th>roadKills</th>\n",
       "      <th>swimDistance</th>\n",
       "      <th>teamKills</th>\n",
       "      <th>vehicleDestroys</th>\n",
       "      <th>walkDistance</th>\n",
       "      <th>weaponsAcquired</th>\n",
       "      <th>winPoints</th>\n",
       "      <th>winPlacePerc</th>\n",
       "    </tr>\n",
       "  </thead>\n",
       "  <tbody>\n",
       "  </tbody>\n",
       "</table>\n",
       "</div>"
      ],
      "text/plain": [
       "Empty DataFrame\n",
       "Columns: [Id, groupId, matchId, assists, boosts, damageDealt, DBNOs, headshotKills, heals, killPlace, killPoints, kills, killStreaks, longestKill, matchDuration, matchType, maxPlace, numGroups, rankPoints, revives, rideDistance, roadKills, swimDistance, teamKills, vehicleDestroys, walkDistance, weaponsAcquired, winPoints, winPlacePerc]\n",
       "Index: []"
      ]
     },
     "execution_count": 33,
     "metadata": {
      "tags": []
     },
     "output_type": "execute_result"
    }
   ],
   "source": [
    "# 비정상 매치 데이터 확인\n",
    "df[df['winPlacePerc'].isnull()]"
   ]
  },
  {
   "cell_type": "code",
   "execution_count": null,
   "metadata": {
    "colab": {},
    "colab_type": "code",
    "id": "EwVuPpMwKMez"
   },
   "outputs": [],
   "source": [
    "# 비정상 매치 데이터 제거\n",
    "df.drop(df[df['winPlacePerc'].isnull()].index, inplace=True)"
   ]
  },
  {
   "cell_type": "code",
   "execution_count": null,
   "metadata": {
    "colab": {},
    "colab_type": "code",
    "id": "CljqovP7h1lN"
   },
   "outputs": [],
   "source": [
    "# Plot custom function\n",
    "def show_countplot(df, column):\n",
    "    plt.figure(figsize=(15,5))\n",
    "    sns.countplot(data=df, x=column).set_title(column)\n",
    "    plt.show()\n",
    "    \n",
    "def show_distplot(df, column):\n",
    "    plt.figure(figsize=(15, 5))\n",
    "    sns.distplot(df[column], bins=50)\n",
    "    plt.show()"
   ]
  },
  {
   "cell_type": "code",
   "execution_count": null,
   "metadata": {
    "colab": {
     "base_uri": "https://localhost:8080/",
     "height": 87
    },
    "colab_type": "code",
    "executionInfo": {
     "elapsed": 35878,
     "status": "ok",
     "timestamp": 1597809356338,
     "user": {
      "displayName": "JJ Se",
      "photoUrl": "https://lh3.googleusercontent.com/a-/AOh14Ghb03i_JlSjx_gLyZx-WE1vWYSIsR6GZ-Wv8dClpA=s64",
      "userId": "04495440602003989745"
     },
     "user_tz": -540
    },
    "id": "ARCj2fZw6_i_",
    "outputId": "e327e7b5-ae11-47b9-e598-5030d57f1da4"
   },
   "outputs": [
    {
     "data": {
      "text/plain": [
       "array(['squad-fpp', 'duo', 'solo-fpp', 'squad', 'duo-fpp', 'solo',\n",
       "       'normal-squad-fpp', 'crashfpp', 'flaretpp', 'normal-solo-fpp',\n",
       "       'flarefpp', 'normal-duo-fpp', 'normal-duo', 'normal-squad',\n",
       "       'crashtpp', 'normal-solo'], dtype=object)"
      ]
     },
     "execution_count": 36,
     "metadata": {
      "tags": []
     },
     "output_type": "execute_result"
    }
   ],
   "source": [
    "df['matchType'].unique()"
   ]
  },
  {
   "cell_type": "code",
   "execution_count": null,
   "metadata": {
    "colab": {
     "base_uri": "https://localhost:8080/",
     "height": 416
    },
    "colab_type": "code",
    "executionInfo": {
     "elapsed": 36412,
     "status": "ok",
     "timestamp": 1597809356900,
     "user": {
      "displayName": "JJ Se",
      "photoUrl": "https://lh3.googleusercontent.com/a-/AOh14Ghb03i_JlSjx_gLyZx-WE1vWYSIsR6GZ-Wv8dClpA=s64",
      "userId": "04495440602003989745"
     },
     "user_tz": -540
    },
    "id": "E9LhEGND4XNu",
    "outputId": "03c41ca6-9f09-47c9-8655-f212ce2841b0"
   },
   "outputs": [
    {
     "data": {
      "text/plain": [
       "<matplotlib.axes._subplots.AxesSubplot at 0x7f50451f90f0>"
      ]
     },
     "execution_count": 37,
     "metadata": {
      "tags": []
     },
     "output_type": "execute_result"
    },
    {
     "data": {
      "image/png": "[encoded data removed]",
      "text/plain": [
       "<Figure size 720x360 with 1 Axes>"
      ]
     },
     "metadata": {
      "needs_background": "light",
      "tags": []
     },
     "output_type": "display_data"
    }
   ],
   "source": [
    "plt.figure(figsize=(10,5))\n",
    "sns.barplot(x = df['matchType'].unique(),\n",
    "            y = df['matchType'].value_counts())\n",
    "df['matchType'].value_counts().plot.bar()"
   ]
  },
  {
   "cell_type": "markdown",
   "metadata": {
    "colab_type": "text",
    "id": "zgfwQnc5eq7s"
   },
   "source": [
    "##추가: 파생변수\n",
    "속도 관련한 변수도 추가 가능\n"
   ]
  },
  {
   "cell_type": "markdown",
   "metadata": {
    "colab_type": "text",
    "id": "r7CpX4DBDCDp"
   },
   "source": [
    "* 지도 크기에 따라 Total_distance 에 가중치를 준다.  \n",
    "참고: [Map comparision](https://colab.research.google.com/drive/1MEuhEOa9JWx5ulosOeMy2hvbnjO38c7d#scrollTo=r7CpX4DBDCDp&line=1&uniqifier=1)"
   ]
  },
  {
   "cell_type": "code",
   "execution_count": null,
   "metadata": {
    "colab": {
     "base_uri": "https://localhost:8080/",
     "height": 405
    },
    "colab_type": "code",
    "executionInfo": {
     "elapsed": 36828,
     "status": "ok",
     "timestamp": 1597809357339,
     "user": {
      "displayName": "JJ Se",
      "photoUrl": "https://lh3.googleusercontent.com/a-/AOh14Ghb03i_JlSjx_gLyZx-WE1vWYSIsR6GZ-Wv8dClpA=s64",
      "userId": "04495440602003989745"
     },
     "user_tz": -540
    },
    "id": "PQZd_9x8UUCq",
    "outputId": "6dd6d0bb-1866-4b76-bede-7128fd39c2d7"
   },
   "outputs": [
    {
     "data": {
      "image/png": "[encoded data removed]",
      "text/plain": [
       "<Figure size 864x432 with 1 Axes>"
      ]
     },
     "metadata": {
      "needs_background": "light",
      "tags": []
     },
     "output_type": "display_data"
    }
   ],
   "source": [
    "# matchDuration으로 Map 나눌 수 있을 거 같음\n",
    "plt.figure(figsize=(12,6))\n",
    "plt.title(\"match duration\",fontsize=15)\n",
    "sns.distplot(df['matchDuration'])\n",
    "plt.show()"
   ]
  },
  {
   "cell_type": "markdown",
   "metadata": {
    "colab_type": "text",
    "id": "o_zsN3XqdtEG"
   },
   "source": [
    "df_origin[(df_origin['matchDuration']>1500) & (df_origin['matchDuration'] < 1700)]['matchDuration'].value_counts()"
   ]
  },
  {
   "cell_type": "code",
   "execution_count": null,
   "metadata": {
    "colab": {},
    "colab_type": "code",
    "id": "PQEoq3XIezjG"
   },
   "outputs": [],
   "source": [
    "def add_cols(X):\n",
    "    X['total_distance'] = X['walkDistance']+ X['rideDistance']\n",
    "    #X['kill_assist'] = X['kills'] + X['assists'] * 0.7\n",
    "    X['headshot_ratio'] = X['headshotKills'] / X['kills'] \n",
    "    X['headshot_ratio'].fillna(float(0), inplace = True)\n",
    "    X.loc[X['rankPoints'] == -1, 'rankPoints'] = 0\n",
    "    X['mmr'] = X['rankPoints'] + X['winPoints'] #rankPoints + winPoints\n",
    "    X.drop(['rankPoints','winPoints'], axis = 1, inplace = True)\n",
    "    X.loc[X['matchDuration'] <= 1610, 'map'] = 0  # sanhok\n",
    "    X.loc[X['matchDuration'] > 1610, 'map'] = 1 # erangel\n",
    "\n",
    "    return X\n",
    "\n",
    "def adjust_distance(X):\n",
    "  X.loc[X['map'] ==0, 'total_distance'] = X['total_distance']*0.25\n",
    "\n",
    "  return X"
   ]
  },
  {
   "cell_type": "markdown",
   "metadata": {
    "colab_type": "text",
    "id": "qGJqsxqzYgCM"
   },
   "source": [
    "### Plot 그려보기"
   ]
  },
  {
   "cell_type": "code",
   "execution_count": null,
   "metadata": {
    "colab": {},
    "colab_type": "code",
    "id": "NWa129ux2vhg"
   },
   "outputs": [],
   "source": [
    "df = df_origin.copy()"
   ]
  },
  {
   "cell_type": "code",
   "execution_count": null,
   "metadata": {
    "colab": {},
    "colab_type": "code",
    "id": "WXCWTrfC2Xhx"
   },
   "outputs": [],
   "source": [
    "df = adjust_distance(add_cols(df))"
   ]
  },
  {
   "cell_type": "code",
   "execution_count": null,
   "metadata": {
    "colab": {
     "base_uri": "https://localhost:8080/",
     "height": 580
    },
    "colab_type": "code",
    "executionInfo": {
     "elapsed": 37653,
     "status": "ok",
     "timestamp": 1597809358234,
     "user": {
      "displayName": "JJ Se",
      "photoUrl": "https://lh3.googleusercontent.com/a-/AOh14Ghb03i_JlSjx_gLyZx-WE1vWYSIsR6GZ-Wv8dClpA=s64",
      "userId": "04495440602003989745"
     },
     "user_tz": -540
    },
    "id": "8uE4LxMC6o0H",
    "outputId": "8b6c4d0f-f15b-40ef-90ab-ee5ed2bb7616"
   },
   "outputs": [
    {
     "data": {
      "image/png": "[encoded data removed]",
      "text/plain": [
       "<Figure size 432x288 with 1 Axes>"
      ]
     },
     "metadata": {
      "needs_background": "light",
      "tags": []
     },
     "output_type": "display_data"
    },
    {
     "data": {
      "image/png": "[encoded data removed]",
      "text/plain": [
       "<Figure size 432x288 with 1 Axes>"
      ]
     },
     "metadata": {
      "needs_background": "light",
      "tags": []
     },
     "output_type": "display_data"
    },
    {
     "name": "stdout",
     "output_type": "stream",
     "text": [
      "kills > 4 & (headshotKills / kills) >= 0.9 \n",
      " count: 23  winPlacePerc: 0.835\n"
     ]
    }
   ],
   "source": [
    "#plt.figure(figsize=(15,5))\n",
    "#sns.countplot(data = df, x = 'kills').set_title('kills')\n",
    "#plt.show()\n",
    "\n",
    "#cols = ['kills','assists','kill_assist']\n",
    "#distribution = df[cols].hist(bins = 30, figsize = (15,30),layout = (8,4),edgecolor = 'black', linewidth = 1.0, color = 'c')\n",
    "#plt.show()\n",
    "\n",
    "plt.title('Kills')\n",
    "df['kills'].hist(bins = 50, figsize = (6,4), edgecolor = 'black', linewidth = 1.0, color = 'c')\n",
    "plt.show()\n",
    "\n",
    "plt.title('MMR')\n",
    "df['mmr'].hist(bins = 50, figsize = (6,4), edgecolor = 'black', linewidth = 1.0, color = 'c')\n",
    "plt.show()\n",
    "\n",
    "sq = 'kills > 4 & (headshotKills / kills) >= 0.9'\n",
    "sub = df.query(sq)\n",
    "print(sq, '\\n count:', len(sub), ' winPlacePerc:', round(sub['winPlacePerc'].mean(),3))"
   ]
  },
  {
   "cell_type": "markdown",
   "metadata": {
    "colab_type": "text",
    "id": "S-5T4DFFyj2q"
   },
   "source": [
    "##삭제: 애매한 columns\n",
    "['matchDuration', 'numGroups','rideDistance', 'swimDistance',\n",
    "           'vehicleDestroys','walkDistance','DBNOs','revives',\n",
    "           'teamKills','roadKills', 'kills', 'assists', 'headshotKills']\n"
   ]
  },
  {
   "cell_type": "markdown",
   "metadata": {
    "colab_type": "text",
    "id": "RXux4FdobxED"
   },
   "source": [
    "**[Carlo](https://www.kaggle.com/carlolepelaars/pubg-data-exploration-rf-funny-gifs) 에 의하면 ID는 삭제하였지만 그룹, 매치 ID는 삭제하지 않고 카테고리로 코드 변환을 하여 살려두었다.  \n",
    "본 커널은 삭제하여 진행해본다."
   ]
  },
  {
   "cell_type": "code",
   "execution_count": null,
   "metadata": {
    "colab": {},
    "colab_type": "code",
    "id": "3681vM6IgJRn"
   },
   "outputs": [],
   "source": [
    "def drop_cols(X):\n",
    "    to_drop = ['vehicleDestroys','DBNOs','revives',\n",
    "              'teamKills','roadKills',\n",
    "              #'matchDuration', # map 종류를 나누는 곳에 사용할 수 있음.\n",
    "              'headshotKills', # headshot ratio 에서 사용\n",
    "              'rideDistance', 'swimDistance', 'walkDistance', # total_distance에 이미 사용한 features\n",
    "              'numGroups' # 매우 부정확한 경우가 많음. 대신할 수 있는 feature가 있음: 'maxPlace'\n",
    "              ]\n",
    "    # Credit to Jaeyoeb\n",
    "    int_columns = ['assists', 'boosts', 'DBNos', 'headshotKills', 'heals', 'killPlace', 'killPoints', \\\n",
    "                      'kills', 'killStreaks', 'matchDuration', 'maxPlace', 'maxGroups', 'rankPoints', 'revives', 'roadKills', \\\n",
    "                      'teamKills',' vehicleDestroys', 'weaponsAcquired', 'winPoints']\n",
    "\n",
    "    float_columns = ['damageDealt', 'longestKill', 'rideDistance', 'swimDistance', 'walkDistance']\n",
    "\n",
    "    non_object_columns = int_columns + float_columns\n",
    "\n",
    "    id_columns = ['Id', 'groupId', 'matchId']\n",
    "\n",
    "    target = ['winPlacePerc']\n",
    "\n",
    "    X.drop(to_drop, axis = 1, inplace=True)\n",
    "\n",
    "    return X"
   ]
  },
  {
   "cell_type": "code",
   "execution_count": null,
   "metadata": {
    "colab": {},
    "colab_type": "code",
    "id": "jsSy3jBKN7G2"
   },
   "outputs": [],
   "source": [
    "def process_col(X):\n",
    "  drop_cols(adjust_distance(add_cols(X)))\n",
    "  \n",
    "  return X"
   ]
  },
  {
   "cell_type": "code",
   "execution_count": null,
   "metadata": {
    "colab": {},
    "colab_type": "code",
    "id": "vnnytJKpQQll"
   },
   "outputs": [],
   "source": [
    "df = df_origin.copy()"
   ]
  },
  {
   "cell_type": "code",
   "execution_count": null,
   "metadata": {
    "colab": {
     "base_uri": "https://localhost:8080/",
     "height": 426
    },
    "colab_type": "code",
    "executionInfo": {
     "elapsed": 37958,
     "status": "ok",
     "timestamp": 1597809358602,
     "user": {
      "displayName": "JJ Se",
      "photoUrl": "https://lh3.googleusercontent.com/a-/AOh14Ghb03i_JlSjx_gLyZx-WE1vWYSIsR6GZ-Wv8dClpA=s64",
      "userId": "04495440602003989745"
     },
     "user_tz": -540
    },
    "id": "AuQ-g9lXQetV",
    "outputId": "8248eb64-301a-4a10-9288-502ae9e2613d"
   },
   "outputs": [
    {
     "data": {
      "text/html": [
       "<div>\n",
       "<style scoped>\n",
       "    .dataframe tbody tr th:only-of-type {\n",
       "        vertical-align: middle;\n",
       "    }\n",
       "\n",
       "    .dataframe tbody tr th {\n",
       "        vertical-align: top;\n",
       "    }\n",
       "\n",
       "    .dataframe thead th {\n",
       "        text-align: right;\n",
       "    }\n",
       "</style>\n",
       "<table border=\"1\" class=\"dataframe\">\n",
       "  <thead>\n",
       "    <tr style=\"text-align: right;\">\n",
       "      <th></th>\n",
       "      <th>Id</th>\n",
       "      <th>groupId</th>\n",
       "      <th>matchId</th>\n",
       "      <th>assists</th>\n",
       "      <th>boosts</th>\n",
       "      <th>damageDealt</th>\n",
       "      <th>heals</th>\n",
       "      <th>killPlace</th>\n",
       "      <th>killPoints</th>\n",
       "      <th>kills</th>\n",
       "      <th>killStreaks</th>\n",
       "      <th>longestKill</th>\n",
       "      <th>matchDuration</th>\n",
       "      <th>matchType</th>\n",
       "      <th>maxPlace</th>\n",
       "      <th>weaponsAcquired</th>\n",
       "      <th>winPlacePerc</th>\n",
       "      <th>total_distance</th>\n",
       "      <th>headshot_ratio</th>\n",
       "      <th>mmr</th>\n",
       "      <th>map</th>\n",
       "    </tr>\n",
       "  </thead>\n",
       "  <tbody>\n",
       "    <tr>\n",
       "      <th>0</th>\n",
       "      <td>7f96b2f878858a</td>\n",
       "      <td>4d4b580de459be</td>\n",
       "      <td>a10357fd1a4a91</td>\n",
       "      <td>0</td>\n",
       "      <td>0</td>\n",
       "      <td>0.00</td>\n",
       "      <td>0</td>\n",
       "      <td>60</td>\n",
       "      <td>1241</td>\n",
       "      <td>0</td>\n",
       "      <td>0</td>\n",
       "      <td>0.00</td>\n",
       "      <td>1306</td>\n",
       "      <td>squad-fpp</td>\n",
       "      <td>28</td>\n",
       "      <td>1</td>\n",
       "      <td>0.4444</td>\n",
       "      <td>61.2000</td>\n",
       "      <td>0.000000</td>\n",
       "      <td>1466</td>\n",
       "      <td>0.0</td>\n",
       "    </tr>\n",
       "    <tr>\n",
       "      <th>1</th>\n",
       "      <td>eef90569b9d03c</td>\n",
       "      <td>684d5656442f9e</td>\n",
       "      <td>aeb375fc57110c</td>\n",
       "      <td>0</td>\n",
       "      <td>0</td>\n",
       "      <td>91.47</td>\n",
       "      <td>0</td>\n",
       "      <td>57</td>\n",
       "      <td>0</td>\n",
       "      <td>0</td>\n",
       "      <td>0</td>\n",
       "      <td>0.00</td>\n",
       "      <td>1777</td>\n",
       "      <td>squad-fpp</td>\n",
       "      <td>26</td>\n",
       "      <td>5</td>\n",
       "      <td>0.6400</td>\n",
       "      <td>1434.0045</td>\n",
       "      <td>0.000000</td>\n",
       "      <td>1484</td>\n",
       "      <td>1.0</td>\n",
       "    </tr>\n",
       "    <tr>\n",
       "      <th>2</th>\n",
       "      <td>1eaf90ac73de72</td>\n",
       "      <td>6a4a42c3245a74</td>\n",
       "      <td>110163d8bb94ae</td>\n",
       "      <td>1</td>\n",
       "      <td>0</td>\n",
       "      <td>68.00</td>\n",
       "      <td>0</td>\n",
       "      <td>47</td>\n",
       "      <td>0</td>\n",
       "      <td>0</td>\n",
       "      <td>0</td>\n",
       "      <td>0.00</td>\n",
       "      <td>1318</td>\n",
       "      <td>duo</td>\n",
       "      <td>50</td>\n",
       "      <td>2</td>\n",
       "      <td>0.7755</td>\n",
       "      <td>40.4500</td>\n",
       "      <td>0.000000</td>\n",
       "      <td>1491</td>\n",
       "      <td>0.0</td>\n",
       "    </tr>\n",
       "    <tr>\n",
       "      <th>3</th>\n",
       "      <td>4616d365dd2853</td>\n",
       "      <td>a930a9c79cd721</td>\n",
       "      <td>f1f1f4ef412d7e</td>\n",
       "      <td>0</td>\n",
       "      <td>0</td>\n",
       "      <td>32.90</td>\n",
       "      <td>0</td>\n",
       "      <td>75</td>\n",
       "      <td>0</td>\n",
       "      <td>0</td>\n",
       "      <td>0</td>\n",
       "      <td>0.00</td>\n",
       "      <td>1436</td>\n",
       "      <td>squad-fpp</td>\n",
       "      <td>31</td>\n",
       "      <td>3</td>\n",
       "      <td>0.1667</td>\n",
       "      <td>50.6750</td>\n",
       "      <td>0.000000</td>\n",
       "      <td>1408</td>\n",
       "      <td>0.0</td>\n",
       "    </tr>\n",
       "    <tr>\n",
       "      <th>4</th>\n",
       "      <td>315c96c26c9aac</td>\n",
       "      <td>de04010b3458dd</td>\n",
       "      <td>6dc8ff871e21e6</td>\n",
       "      <td>0</td>\n",
       "      <td>0</td>\n",
       "      <td>100.00</td>\n",
       "      <td>0</td>\n",
       "      <td>45</td>\n",
       "      <td>0</td>\n",
       "      <td>1</td>\n",
       "      <td>1</td>\n",
       "      <td>58.53</td>\n",
       "      <td>1424</td>\n",
       "      <td>solo-fpp</td>\n",
       "      <td>97</td>\n",
       "      <td>2</td>\n",
       "      <td>0.1875</td>\n",
       "      <td>12.4375</td>\n",
       "      <td>0.000000</td>\n",
       "      <td>1560</td>\n",
       "      <td>0.0</td>\n",
       "    </tr>\n",
       "    <tr>\n",
       "      <th>...</th>\n",
       "      <td>...</td>\n",
       "      <td>...</td>\n",
       "      <td>...</td>\n",
       "      <td>...</td>\n",
       "      <td>...</td>\n",
       "      <td>...</td>\n",
       "      <td>...</td>\n",
       "      <td>...</td>\n",
       "      <td>...</td>\n",
       "      <td>...</td>\n",
       "      <td>...</td>\n",
       "      <td>...</td>\n",
       "      <td>...</td>\n",
       "      <td>...</td>\n",
       "      <td>...</td>\n",
       "      <td>...</td>\n",
       "      <td>...</td>\n",
       "      <td>...</td>\n",
       "      <td>...</td>\n",
       "      <td>...</td>\n",
       "      <td>...</td>\n",
       "    </tr>\n",
       "    <tr>\n",
       "      <th>199995</th>\n",
       "      <td>8a03aca8bca167</td>\n",
       "      <td>71ff27619423a3</td>\n",
       "      <td>40c91483da5bb9</td>\n",
       "      <td>0</td>\n",
       "      <td>0</td>\n",
       "      <td>0.00</td>\n",
       "      <td>0</td>\n",
       "      <td>68</td>\n",
       "      <td>0</td>\n",
       "      <td>0</td>\n",
       "      <td>0</td>\n",
       "      <td>0.00</td>\n",
       "      <td>1815</td>\n",
       "      <td>squad-fpp</td>\n",
       "      <td>26</td>\n",
       "      <td>7</td>\n",
       "      <td>0.4000</td>\n",
       "      <td>1531.0000</td>\n",
       "      <td>0.000000</td>\n",
       "      <td>1500</td>\n",
       "      <td>1.0</td>\n",
       "    </tr>\n",
       "    <tr>\n",
       "      <th>199996</th>\n",
       "      <td>982176c1463624</td>\n",
       "      <td>d334f56b3a33be</td>\n",
       "      <td>cfc5059075d4ff</td>\n",
       "      <td>0</td>\n",
       "      <td>0</td>\n",
       "      <td>34.36</td>\n",
       "      <td>0</td>\n",
       "      <td>82</td>\n",
       "      <td>0</td>\n",
       "      <td>0</td>\n",
       "      <td>0</td>\n",
       "      <td>0.00</td>\n",
       "      <td>2161</td>\n",
       "      <td>solo-fpp</td>\n",
       "      <td>91</td>\n",
       "      <td>1</td>\n",
       "      <td>0.0778</td>\n",
       "      <td>11.6800</td>\n",
       "      <td>0.000000</td>\n",
       "      <td>1494</td>\n",
       "      <td>1.0</td>\n",
       "    </tr>\n",
       "    <tr>\n",
       "      <th>199997</th>\n",
       "      <td>7f55e229133735</td>\n",
       "      <td>b4c4099f227e4d</td>\n",
       "      <td>de2f69ee694142</td>\n",
       "      <td>0</td>\n",
       "      <td>2</td>\n",
       "      <td>327.90</td>\n",
       "      <td>0</td>\n",
       "      <td>5</td>\n",
       "      <td>0</td>\n",
       "      <td>3</td>\n",
       "      <td>1</td>\n",
       "      <td>216.80</td>\n",
       "      <td>1727</td>\n",
       "      <td>solo-fpp</td>\n",
       "      <td>93</td>\n",
       "      <td>8</td>\n",
       "      <td>0.9891</td>\n",
       "      <td>5547.0000</td>\n",
       "      <td>0.333333</td>\n",
       "      <td>1608</td>\n",
       "      <td>1.0</td>\n",
       "    </tr>\n",
       "    <tr>\n",
       "      <th>199998</th>\n",
       "      <td>bb6519ba90106c</td>\n",
       "      <td>a8712a3317b739</td>\n",
       "      <td>455a0249beebf8</td>\n",
       "      <td>0</td>\n",
       "      <td>2</td>\n",
       "      <td>311.50</td>\n",
       "      <td>1</td>\n",
       "      <td>10</td>\n",
       "      <td>0</td>\n",
       "      <td>2</td>\n",
       "      <td>1</td>\n",
       "      <td>58.28</td>\n",
       "      <td>1860</td>\n",
       "      <td>squad</td>\n",
       "      <td>28</td>\n",
       "      <td>5</td>\n",
       "      <td>0.7407</td>\n",
       "      <td>4823.0000</td>\n",
       "      <td>0.500000</td>\n",
       "      <td>1515</td>\n",
       "      <td>1.0</td>\n",
       "    </tr>\n",
       "    <tr>\n",
       "      <th>199999</th>\n",
       "      <td>72741410249ab1</td>\n",
       "      <td>d01b0edd11028c</td>\n",
       "      <td>3f4df182b877ff</td>\n",
       "      <td>2</td>\n",
       "      <td>5</td>\n",
       "      <td>631.80</td>\n",
       "      <td>5</td>\n",
       "      <td>4</td>\n",
       "      <td>1532</td>\n",
       "      <td>4</td>\n",
       "      <td>3</td>\n",
       "      <td>36.31</td>\n",
       "      <td>1397</td>\n",
       "      <td>squad-fpp</td>\n",
       "      <td>29</td>\n",
       "      <td>6</td>\n",
       "      <td>0.8571</td>\n",
       "      <td>440.2500</td>\n",
       "      <td>0.000000</td>\n",
       "      <td>1509</td>\n",
       "      <td>0.0</td>\n",
       "    </tr>\n",
       "  </tbody>\n",
       "</table>\n",
       "<p>200000 rows × 21 columns</p>\n",
       "</div>"
      ],
      "text/plain": [
       "                    Id         groupId  ...   mmr  map\n",
       "0       7f96b2f878858a  4d4b580de459be  ...  1466  0.0\n",
       "1       eef90569b9d03c  684d5656442f9e  ...  1484  1.0\n",
       "2       1eaf90ac73de72  6a4a42c3245a74  ...  1491  0.0\n",
       "3       4616d365dd2853  a930a9c79cd721  ...  1408  0.0\n",
       "4       315c96c26c9aac  de04010b3458dd  ...  1560  0.0\n",
       "...                ...             ...  ...   ...  ...\n",
       "199995  8a03aca8bca167  71ff27619423a3  ...  1500  1.0\n",
       "199996  982176c1463624  d334f56b3a33be  ...  1494  1.0\n",
       "199997  7f55e229133735  b4c4099f227e4d  ...  1608  1.0\n",
       "199998  bb6519ba90106c  a8712a3317b739  ...  1515  1.0\n",
       "199999  72741410249ab1  d01b0edd11028c  ...  1509  0.0\n",
       "\n",
       "[200000 rows x 21 columns]"
      ]
     },
     "execution_count": 46,
     "metadata": {
      "tags": []
     },
     "output_type": "execute_result"
    }
   ],
   "source": [
    "process_col(df)"
   ]
  },
  {
   "cell_type": "code",
   "execution_count": null,
   "metadata": {
    "colab": {
     "base_uri": "https://localhost:8080/",
     "height": 426
    },
    "colab_type": "code",
    "executionInfo": {
     "elapsed": 37935,
     "status": "ok",
     "timestamp": 1597809358603,
     "user": {
      "displayName": "JJ Se",
      "photoUrl": "https://lh3.googleusercontent.com/a-/AOh14Ghb03i_JlSjx_gLyZx-WE1vWYSIsR6GZ-Wv8dClpA=s64",
      "userId": "04495440602003989745"
     },
     "user_tz": -540
    },
    "id": "a0H3IdyehWee",
    "outputId": "e93cceb6-eba6-42ea-991f-35682847a062"
   },
   "outputs": [
    {
     "data": {
      "text/html": [
       "<div>\n",
       "<style scoped>\n",
       "    .dataframe tbody tr th:only-of-type {\n",
       "        vertical-align: middle;\n",
       "    }\n",
       "\n",
       "    .dataframe tbody tr th {\n",
       "        vertical-align: top;\n",
       "    }\n",
       "\n",
       "    .dataframe thead th {\n",
       "        text-align: right;\n",
       "    }\n",
       "</style>\n",
       "<table border=\"1\" class=\"dataframe\">\n",
       "  <thead>\n",
       "    <tr style=\"text-align: right;\">\n",
       "      <th></th>\n",
       "      <th>Id</th>\n",
       "      <th>groupId</th>\n",
       "      <th>matchId</th>\n",
       "      <th>assists</th>\n",
       "      <th>boosts</th>\n",
       "      <th>damageDealt</th>\n",
       "      <th>heals</th>\n",
       "      <th>killPlace</th>\n",
       "      <th>killPoints</th>\n",
       "      <th>kills</th>\n",
       "      <th>killStreaks</th>\n",
       "      <th>longestKill</th>\n",
       "      <th>matchDuration</th>\n",
       "      <th>matchType</th>\n",
       "      <th>maxPlace</th>\n",
       "      <th>weaponsAcquired</th>\n",
       "      <th>winPlacePerc</th>\n",
       "      <th>total_distance</th>\n",
       "      <th>headshot_ratio</th>\n",
       "      <th>mmr</th>\n",
       "      <th>map</th>\n",
       "    </tr>\n",
       "  </thead>\n",
       "  <tbody>\n",
       "    <tr>\n",
       "      <th>0</th>\n",
       "      <td>7f96b2f878858a</td>\n",
       "      <td>4d4b580de459be</td>\n",
       "      <td>a10357fd1a4a91</td>\n",
       "      <td>0</td>\n",
       "      <td>0</td>\n",
       "      <td>0.00</td>\n",
       "      <td>0</td>\n",
       "      <td>60</td>\n",
       "      <td>1241</td>\n",
       "      <td>0</td>\n",
       "      <td>0</td>\n",
       "      <td>0.00</td>\n",
       "      <td>1306</td>\n",
       "      <td>squad-fpp</td>\n",
       "      <td>28</td>\n",
       "      <td>1</td>\n",
       "      <td>0.4444</td>\n",
       "      <td>61.2000</td>\n",
       "      <td>0.000000</td>\n",
       "      <td>1466</td>\n",
       "      <td>0.0</td>\n",
       "    </tr>\n",
       "    <tr>\n",
       "      <th>1</th>\n",
       "      <td>eef90569b9d03c</td>\n",
       "      <td>684d5656442f9e</td>\n",
       "      <td>aeb375fc57110c</td>\n",
       "      <td>0</td>\n",
       "      <td>0</td>\n",
       "      <td>91.47</td>\n",
       "      <td>0</td>\n",
       "      <td>57</td>\n",
       "      <td>0</td>\n",
       "      <td>0</td>\n",
       "      <td>0</td>\n",
       "      <td>0.00</td>\n",
       "      <td>1777</td>\n",
       "      <td>squad-fpp</td>\n",
       "      <td>26</td>\n",
       "      <td>5</td>\n",
       "      <td>0.6400</td>\n",
       "      <td>1434.0045</td>\n",
       "      <td>0.000000</td>\n",
       "      <td>1484</td>\n",
       "      <td>1.0</td>\n",
       "    </tr>\n",
       "    <tr>\n",
       "      <th>2</th>\n",
       "      <td>1eaf90ac73de72</td>\n",
       "      <td>6a4a42c3245a74</td>\n",
       "      <td>110163d8bb94ae</td>\n",
       "      <td>1</td>\n",
       "      <td>0</td>\n",
       "      <td>68.00</td>\n",
       "      <td>0</td>\n",
       "      <td>47</td>\n",
       "      <td>0</td>\n",
       "      <td>0</td>\n",
       "      <td>0</td>\n",
       "      <td>0.00</td>\n",
       "      <td>1318</td>\n",
       "      <td>duo</td>\n",
       "      <td>50</td>\n",
       "      <td>2</td>\n",
       "      <td>0.7755</td>\n",
       "      <td>40.4500</td>\n",
       "      <td>0.000000</td>\n",
       "      <td>1491</td>\n",
       "      <td>0.0</td>\n",
       "    </tr>\n",
       "    <tr>\n",
       "      <th>3</th>\n",
       "      <td>4616d365dd2853</td>\n",
       "      <td>a930a9c79cd721</td>\n",
       "      <td>f1f1f4ef412d7e</td>\n",
       "      <td>0</td>\n",
       "      <td>0</td>\n",
       "      <td>32.90</td>\n",
       "      <td>0</td>\n",
       "      <td>75</td>\n",
       "      <td>0</td>\n",
       "      <td>0</td>\n",
       "      <td>0</td>\n",
       "      <td>0.00</td>\n",
       "      <td>1436</td>\n",
       "      <td>squad-fpp</td>\n",
       "      <td>31</td>\n",
       "      <td>3</td>\n",
       "      <td>0.1667</td>\n",
       "      <td>50.6750</td>\n",
       "      <td>0.000000</td>\n",
       "      <td>1408</td>\n",
       "      <td>0.0</td>\n",
       "    </tr>\n",
       "    <tr>\n",
       "      <th>4</th>\n",
       "      <td>315c96c26c9aac</td>\n",
       "      <td>de04010b3458dd</td>\n",
       "      <td>6dc8ff871e21e6</td>\n",
       "      <td>0</td>\n",
       "      <td>0</td>\n",
       "      <td>100.00</td>\n",
       "      <td>0</td>\n",
       "      <td>45</td>\n",
       "      <td>0</td>\n",
       "      <td>1</td>\n",
       "      <td>1</td>\n",
       "      <td>58.53</td>\n",
       "      <td>1424</td>\n",
       "      <td>solo-fpp</td>\n",
       "      <td>97</td>\n",
       "      <td>2</td>\n",
       "      <td>0.1875</td>\n",
       "      <td>12.4375</td>\n",
       "      <td>0.000000</td>\n",
       "      <td>1560</td>\n",
       "      <td>0.0</td>\n",
       "    </tr>\n",
       "    <tr>\n",
       "      <th>...</th>\n",
       "      <td>...</td>\n",
       "      <td>...</td>\n",
       "      <td>...</td>\n",
       "      <td>...</td>\n",
       "      <td>...</td>\n",
       "      <td>...</td>\n",
       "      <td>...</td>\n",
       "      <td>...</td>\n",
       "      <td>...</td>\n",
       "      <td>...</td>\n",
       "      <td>...</td>\n",
       "      <td>...</td>\n",
       "      <td>...</td>\n",
       "      <td>...</td>\n",
       "      <td>...</td>\n",
       "      <td>...</td>\n",
       "      <td>...</td>\n",
       "      <td>...</td>\n",
       "      <td>...</td>\n",
       "      <td>...</td>\n",
       "      <td>...</td>\n",
       "    </tr>\n",
       "    <tr>\n",
       "      <th>199995</th>\n",
       "      <td>8a03aca8bca167</td>\n",
       "      <td>71ff27619423a3</td>\n",
       "      <td>40c91483da5bb9</td>\n",
       "      <td>0</td>\n",
       "      <td>0</td>\n",
       "      <td>0.00</td>\n",
       "      <td>0</td>\n",
       "      <td>68</td>\n",
       "      <td>0</td>\n",
       "      <td>0</td>\n",
       "      <td>0</td>\n",
       "      <td>0.00</td>\n",
       "      <td>1815</td>\n",
       "      <td>squad-fpp</td>\n",
       "      <td>26</td>\n",
       "      <td>7</td>\n",
       "      <td>0.4000</td>\n",
       "      <td>1531.0000</td>\n",
       "      <td>0.000000</td>\n",
       "      <td>1500</td>\n",
       "      <td>1.0</td>\n",
       "    </tr>\n",
       "    <tr>\n",
       "      <th>199996</th>\n",
       "      <td>982176c1463624</td>\n",
       "      <td>d334f56b3a33be</td>\n",
       "      <td>cfc5059075d4ff</td>\n",
       "      <td>0</td>\n",
       "      <td>0</td>\n",
       "      <td>34.36</td>\n",
       "      <td>0</td>\n",
       "      <td>82</td>\n",
       "      <td>0</td>\n",
       "      <td>0</td>\n",
       "      <td>0</td>\n",
       "      <td>0.00</td>\n",
       "      <td>2161</td>\n",
       "      <td>solo-fpp</td>\n",
       "      <td>91</td>\n",
       "      <td>1</td>\n",
       "      <td>0.0778</td>\n",
       "      <td>11.6800</td>\n",
       "      <td>0.000000</td>\n",
       "      <td>1494</td>\n",
       "      <td>1.0</td>\n",
       "    </tr>\n",
       "    <tr>\n",
       "      <th>199997</th>\n",
       "      <td>7f55e229133735</td>\n",
       "      <td>b4c4099f227e4d</td>\n",
       "      <td>de2f69ee694142</td>\n",
       "      <td>0</td>\n",
       "      <td>2</td>\n",
       "      <td>327.90</td>\n",
       "      <td>0</td>\n",
       "      <td>5</td>\n",
       "      <td>0</td>\n",
       "      <td>3</td>\n",
       "      <td>1</td>\n",
       "      <td>216.80</td>\n",
       "      <td>1727</td>\n",
       "      <td>solo-fpp</td>\n",
       "      <td>93</td>\n",
       "      <td>8</td>\n",
       "      <td>0.9891</td>\n",
       "      <td>5547.0000</td>\n",
       "      <td>0.333333</td>\n",
       "      <td>1608</td>\n",
       "      <td>1.0</td>\n",
       "    </tr>\n",
       "    <tr>\n",
       "      <th>199998</th>\n",
       "      <td>bb6519ba90106c</td>\n",
       "      <td>a8712a3317b739</td>\n",
       "      <td>455a0249beebf8</td>\n",
       "      <td>0</td>\n",
       "      <td>2</td>\n",
       "      <td>311.50</td>\n",
       "      <td>1</td>\n",
       "      <td>10</td>\n",
       "      <td>0</td>\n",
       "      <td>2</td>\n",
       "      <td>1</td>\n",
       "      <td>58.28</td>\n",
       "      <td>1860</td>\n",
       "      <td>squad</td>\n",
       "      <td>28</td>\n",
       "      <td>5</td>\n",
       "      <td>0.7407</td>\n",
       "      <td>4823.0000</td>\n",
       "      <td>0.500000</td>\n",
       "      <td>1515</td>\n",
       "      <td>1.0</td>\n",
       "    </tr>\n",
       "    <tr>\n",
       "      <th>199999</th>\n",
       "      <td>72741410249ab1</td>\n",
       "      <td>d01b0edd11028c</td>\n",
       "      <td>3f4df182b877ff</td>\n",
       "      <td>2</td>\n",
       "      <td>5</td>\n",
       "      <td>631.80</td>\n",
       "      <td>5</td>\n",
       "      <td>4</td>\n",
       "      <td>1532</td>\n",
       "      <td>4</td>\n",
       "      <td>3</td>\n",
       "      <td>36.31</td>\n",
       "      <td>1397</td>\n",
       "      <td>squad-fpp</td>\n",
       "      <td>29</td>\n",
       "      <td>6</td>\n",
       "      <td>0.8571</td>\n",
       "      <td>440.2500</td>\n",
       "      <td>0.000000</td>\n",
       "      <td>1509</td>\n",
       "      <td>0.0</td>\n",
       "    </tr>\n",
       "  </tbody>\n",
       "</table>\n",
       "<p>200000 rows × 21 columns</p>\n",
       "</div>"
      ],
      "text/plain": [
       "                    Id         groupId  ...   mmr  map\n",
       "0       7f96b2f878858a  4d4b580de459be  ...  1466  0.0\n",
       "1       eef90569b9d03c  684d5656442f9e  ...  1484  1.0\n",
       "2       1eaf90ac73de72  6a4a42c3245a74  ...  1491  0.0\n",
       "3       4616d365dd2853  a930a9c79cd721  ...  1408  0.0\n",
       "4       315c96c26c9aac  de04010b3458dd  ...  1560  0.0\n",
       "...                ...             ...  ...   ...  ...\n",
       "199995  8a03aca8bca167  71ff27619423a3  ...  1500  1.0\n",
       "199996  982176c1463624  d334f56b3a33be  ...  1494  1.0\n",
       "199997  7f55e229133735  b4c4099f227e4d  ...  1608  1.0\n",
       "199998  bb6519ba90106c  a8712a3317b739  ...  1515  1.0\n",
       "199999  72741410249ab1  d01b0edd11028c  ...  1509  0.0\n",
       "\n",
       "[200000 rows x 21 columns]"
      ]
     },
     "execution_count": 47,
     "metadata": {
      "tags": []
     },
     "output_type": "execute_result"
    }
   ],
   "source": [
    "df"
   ]
  },
  {
   "cell_type": "markdown",
   "metadata": {
    "colab_type": "text",
    "id": "c9pDQcwrDz2U"
   },
   "source": [
    "## 분리: matchId, groupId"
   ]
  },
  {
   "cell_type": "code",
   "execution_count": null,
   "metadata": {
    "colab": {},
    "colab_type": "code",
    "id": "KlwkDCeW-b-d"
   },
   "outputs": [],
   "source": [
    "df = df_origin.copy()"
   ]
  },
  {
   "cell_type": "code",
   "execution_count": null,
   "metadata": {
    "colab": {
     "base_uri": "https://localhost:8080/",
     "height": 52
    },
    "colab_type": "code",
    "executionInfo": {
     "elapsed": 37891,
     "status": "ok",
     "timestamp": 1597809358605,
     "user": {
      "displayName": "JJ Se",
      "photoUrl": "https://lh3.googleusercontent.com/a-/AOh14Ghb03i_JlSjx_gLyZx-WE1vWYSIsR6GZ-Wv8dClpA=s64",
      "userId": "04495440602003989745"
     },
     "user_tz": -540
    },
    "id": "5MbNhNHmgY6K",
    "outputId": "bdd7502c-7c5e-40d6-8f51-57ebe95d6ed6"
   },
   "outputs": [
    {
     "name": "stdout",
     "output_type": "stream",
     "text": [
      "(200000, 29)\n",
      "(1934174, 28)\n"
     ]
    }
   ],
   "source": [
    "print(df.shape)\n",
    "print(test_origin.shape)"
   ]
  },
  {
   "cell_type": "code",
   "execution_count": null,
   "metadata": {
    "colab": {
     "base_uri": "https://localhost:8080/",
     "height": 34
    },
    "colab_type": "code",
    "executionInfo": {
     "elapsed": 37868,
     "status": "ok",
     "timestamp": 1597809358606,
     "user": {
      "displayName": "JJ Se",
      "photoUrl": "https://lh3.googleusercontent.com/a-/AOh14Ghb03i_JlSjx_gLyZx-WE1vWYSIsR6GZ-Wv8dClpA=s64",
      "userId": "04495440602003989745"
     },
     "user_tz": -540
    },
    "id": "umLXmqHgfc9v",
    "outputId": "9d47f087-d9a3-49bb-da27-0b839765e8be"
   },
   "outputs": [
    {
     "data": {
      "text/plain": [
       "(1934174, 28)"
      ]
     },
     "execution_count": 50,
     "metadata": {
      "tags": []
     },
     "output_type": "execute_result"
    }
   ],
   "source": [
    "test_origin.shape"
   ]
  },
  {
   "cell_type": "code",
   "execution_count": null,
   "metadata": {
    "colab": {
     "base_uri": "https://localhost:8080/",
     "height": 52
    },
    "colab_type": "code",
    "executionInfo": {
     "elapsed": 39311,
     "status": "ok",
     "timestamp": 1597809360071,
     "user": {
      "displayName": "JJ Se",
      "photoUrl": "https://lh3.googleusercontent.com/a-/AOh14Ghb03i_JlSjx_gLyZx-WE1vWYSIsR6GZ-Wv8dClpA=s64",
      "userId": "04495440602003989745"
     },
     "user_tz": -540
    },
    "id": "jgrggSjEKM5A",
    "outputId": "56c67ebe-eed3-4986-fe23-9c3ae45acaac"
   },
   "outputs": [
    {
     "name": "stdout",
     "output_type": "stream",
     "text": [
      "(200000, 21)\n",
      "(1934174, 20)\n"
     ]
    }
   ],
   "source": [
    "df_pre = process_col(df)\n",
    "test = process_col(test_origin)\n",
    "print(df_pre.shape)\n",
    "print(test.shape)"
   ]
  },
  {
   "cell_type": "code",
   "execution_count": null,
   "metadata": {
    "colab": {},
    "colab_type": "code",
    "id": "3pZVCML6D3Y7"
   },
   "outputs": [],
   "source": [
    "def feature_engineering(is_train=True, debug=True):\n",
    "    test_id = None\n",
    "    if is_train: \n",
    "        print(\"processing train set\")\n",
    "        if debug == True:\n",
    "            df = df_pre\n",
    "            #df = pd.read_csv('train_V2.csv', nrows=100000)\n",
    "        else:\n",
    "            df = df_pre\n",
    "            #df = pd.read_csv('train_V2.csv')           \n",
    "\n",
    "        df = df[df['maxPlace'] > 1]\n",
    "    else:\n",
    "        print(\"processing test set\")\n",
    "        df = test\n",
    "        test_id = df.Id\n",
    "    \n",
    "    #df = reduce_mem_usage(df)\n",
    "    \n",
    "    print(\"remove some columns\")\n",
    "    target = 'winPlacePerc'\n",
    "    features = list(df.columns)\n",
    "    features.remove(\"Id\")\n",
    "    features.remove(\"matchId\")\n",
    "    features.remove(\"groupId\")\n",
    "    features.remove(\"matchType\")  \n",
    "    \n",
    "    y = None\n",
    "    \n",
    "    \n",
    "    if is_train: \n",
    "        print(\"get target\")\n",
    "        y = np.array(df.groupby(['matchId','groupId'])[target].agg('mean'), dtype=np.float64)\n",
    "        features.remove(target)\n",
    "\n",
    "    print(\"get group mean feature\")\n",
    "    agg = df.groupby(['matchId','groupId'])[features].agg('mean')\n",
    "    agg_rank = agg.rank(pct=True).reset_index()\n",
    "    \n",
    "    if is_train: df_out = agg.reset_index()[['matchId','groupId']]\n",
    "    else: df_out = df[['matchId','groupId']]\n",
    "    \n",
    "    df_out = df_out.merge(agg.reset_index(), suffixes=[\"\", \"\"], how='left', on=['matchId', 'groupId'])\n",
    "    df_out = df_out.merge(agg_rank, suffixes=[\"_mean\", \"_mean_rank\"], how='left', on=['matchId', 'groupId'])\n",
    "\n",
    "    print(\"get group max feature\")\n",
    "    agg = df.groupby(['matchId','groupId'])[features].agg('max')\n",
    "    agg_rank = agg.groupby('matchId')[features].rank(pct=True).reset_index()\n",
    "    df_out = df_out.merge(agg.reset_index(), suffixes=[\"\", \"\"], how='left', on=['matchId', 'groupId'])\n",
    "    df_out = df_out.merge(agg_rank, suffixes=[\"_max\", \"_max_rank\"], how='left', on=['matchId', 'groupId'])\n",
    "    \n",
    "    print(\"get group min feature\")\n",
    "    agg = df.groupby(['matchId','groupId'])[features].agg('min')\n",
    "    agg_rank = agg.groupby('matchId')[features].rank(pct=True).reset_index()\n",
    "    df_out = df_out.merge(agg.reset_index(), suffixes=[\"\", \"\"], how='left', on=['matchId', 'groupId'])\n",
    "    df_out = df_out.merge(agg_rank, suffixes=[\"_min\", \"_min_rank\"], how='left', on=['matchId', 'groupId'])\n",
    "    \n",
    "    print(\"get group size feature\")\n",
    "    agg = df.groupby(['matchId','groupId']).size().reset_index(name='group_size')\n",
    "    df_out = df_out.merge(agg, how='left', on=['matchId', 'groupId'])\n",
    "    \n",
    "    print(\"get match mean feature\")\n",
    "    agg = df.groupby(['matchId'])[features].agg('mean').reset_index()\n",
    "    df_out = df_out.merge(agg, suffixes=[\"\", \"_match_mean\"], how='left', on=['matchId'])\n",
    "    \n",
    "    print(\"get match size feature\")\n",
    "    agg = df.groupby(['matchId']).size().reset_index(name='match_size')\n",
    "    df_out = df_out.merge(agg, how='left', on=['matchId'])\n",
    "    \n",
    "    df_out.drop([\"matchId\", \"groupId\"], axis=1, inplace=True)\n",
    "\n",
    "    X = df_out\n",
    "    \n",
    "    feature_names = list(df_out.columns)\n",
    "\n",
    "    del df, df_out, agg, agg_rank\n",
    "    gc.collect()\n",
    "\n",
    "    return X, y, feature_names, test_id"
   ]
  },
  {
   "cell_type": "code",
   "execution_count": null,
   "metadata": {
    "colab": {
     "base_uri": "https://localhost:8080/",
     "height": 318
    },
    "colab_type": "code",
    "executionInfo": {
     "elapsed": 107838,
     "status": "ok",
     "timestamp": 1597809428638,
     "user": {
      "displayName": "JJ Se",
      "photoUrl": "https://lh3.googleusercontent.com/a-/AOh14Ghb03i_JlSjx_gLyZx-WE1vWYSIsR6GZ-Wv8dClpA=s64",
      "userId": "04495440602003989745"
     },
     "user_tz": -540
    },
    "id": "UpppewCoEEnq",
    "outputId": "65433aef-44e9-4283-e8eb-7479ccc39abf"
   },
   "outputs": [
    {
     "name": "stdout",
     "output_type": "stream",
     "text": [
      "processing train set\n",
      "remove some columns\n",
      "get target\n",
      "get group mean feature\n",
      "get group max feature\n",
      "get group min feature\n",
      "get group size feature\n",
      "get match mean feature\n",
      "get match size feature\n",
      "processing test set\n",
      "remove some columns\n",
      "get group mean feature\n",
      "get group max feature\n",
      "get group min feature\n",
      "get group size feature\n",
      "get match mean feature\n",
      "get match size feature\n"
     ]
    }
   ],
   "source": [
    "X, y, train_columns, _ = feature_engineering(True,False)\n",
    "test, _, _ , test_id = feature_engineering(False,True)\n",
    "#X_train, y_train, train_columns, _ = feature_engineering(True,False)"
   ]
  },
  {
   "cell_type": "code",
   "execution_count": null,
   "metadata": {
    "colab": {},
    "colab_type": "code",
    "id": "nUc3-2vzsOLq"
   },
   "outputs": [],
   "source": [
    "#df.describe().T"
   ]
  },
  {
   "cell_type": "markdown",
   "metadata": {
    "colab_type": "text",
    "id": "cjcftWeOyTJL"
   },
   "source": [
    "## matchType 별 분포"
   ]
  },
  {
   "cell_type": "code",
   "execution_count": null,
   "metadata": {
    "colab": {},
    "colab_type": "code",
    "id": "c7rCIE6ekYfo"
   },
   "outputs": [],
   "source": []
  },
  {
   "cell_type": "markdown",
   "metadata": {
    "colab_type": "text",
    "id": "TZAjnVMpfloz"
   },
   "source": [
    "df_st = df[df['matchType'] == 'solo']\n",
    "df_sf = df[df['matchType'] == 'solo-fpp']\n",
    "df_dt = df[df['matchType'] == 'duo']\n",
    "df_df = df[df['matchType'] == 'duo-fpp']\n",
    "df_sqt = df[df['matchType'] == 'squad']\n",
    "df_sqf = df[df['matchType'] == 'squad-fpp']"
   ]
  },
  {
   "cell_type": "markdown",
   "metadata": {
    "colab_type": "text",
    "id": "fHHxfyiOfkmO"
   },
   "source": [
    "df_st.describe([0.5, .75, .90,.98, .99],include=np.number).drop('count')"
   ]
  },
  {
   "cell_type": "markdown",
   "metadata": {
    "colab_type": "text",
    "id": "19KJTp-JoV2Z"
   },
   "source": [
    "df.groupby('matchType').agg('max')"
   ]
  },
  {
   "cell_type": "markdown",
   "metadata": {
    "colab_type": "text",
    "id": "P1SQtJ1pEJ6K"
   },
   "source": [
    "desc0 = df.groupby('matchType').describe(percentiles = [0.5, .75, .90,.98, .99],include=np.number)\n",
    "desc0.T.drop(index = 'count', level =1)"
   ]
  },
  {
   "cell_type": "markdown",
   "metadata": {
    "colab_type": "text",
    "id": "HQ13ZbKZOM7d"
   },
   "source": [
    "desc0[['walkDistance', 'rideDistance','swimDistance','total_distance']].T.drop(index = 'count', level =1)"
   ]
  },
  {
   "cell_type": "markdown",
   "metadata": {
    "colab_type": "text",
    "id": "bQ8sBz3DvOY8"
   },
   "source": [
    "df.hist(bins = 30, figsize = (15,30),layout = (8,4),edgecolor = 'black', linewidth = 1.0, color = 'c');"
   ]
  },
  {
   "cell_type": "markdown",
   "metadata": {
    "colab_type": "text",
    "id": "w3SINfPMIEHi"
   },
   "source": [
    "##추출: df_others "
   ]
  },
  {
   "cell_type": "markdown",
   "metadata": {
    "colab_type": "text",
    "id": "BvmHmKhW63e8"
   },
   "source": [
    "df_others 대상 columns  \n",
    "\n",
    "other_modes = ['normal-squad-fpp', 'crashfpp', 'flaretpp', 'normal-solo-fpp',\n",
    "       'flarefpp', 'normal-duo-fpp', 'normal-duo', 'normal-squad',\n",
    "       'crashtpp','normal-solo']"
   ]
  },
  {
   "cell_type": "markdown",
   "metadata": {
    "colab_type": "text",
    "id": "jsYNmQ-zJ2Sh"
   },
   "source": [
    "df_others = df[df['matchType'].isin(other_modes)]"
   ]
  },
  {
   "cell_type": "markdown",
   "metadata": {
    "colab_type": "text",
    "id": "afkArL2tVKca"
   },
   "source": [
    "df_others['matchType'].unique()"
   ]
  },
  {
   "cell_type": "markdown",
   "metadata": {
    "colab_type": "text",
    "id": "j0VvE6dbvh_3"
   },
   "source": [
    "## 삭제: df - df_others"
   ]
  },
  {
   "cell_type": "markdown",
   "metadata": {
    "colab_type": "text",
    "id": "gw8_OcMyLKdW"
   },
   "source": [
    "other 모드들 삭제\n",
    "df.drop(df[df['matchType'].isin(other_modes)].index, inplace = True)"
   ]
  },
  {
   "cell_type": "markdown",
   "metadata": {
    "colab_type": "text",
    "id": "vJynkaFyU4zq"
   },
   "source": [
    "\n",
    "for mode in modes:\n",
    "  df.drop(df[df['matchType'] == mode].index, inplace = True)"
   ]
  },
  {
   "cell_type": "markdown",
   "metadata": {
    "colab_type": "text",
    "id": "I-VsJerh_92Q"
   },
   "source": [
    "df['matchType'].unique()"
   ]
  },
  {
   "cell_type": "markdown",
   "metadata": {
    "colab_type": "text",
    "id": "tgPxUHaHoa-E"
   },
   "source": [
    "plt.figure(figsize=(10,5))\n",
    "sns.barplot(x = df['matchType'].unique(),\n",
    "            y = df['matchType'].value_counts())\n",
    "df['matchType'].value_counts().plot.bar()"
   ]
  },
  {
   "cell_type": "markdown",
   "metadata": {
    "colab_type": "text",
    "id": "00QS85C2OO5O"
   },
   "source": [
    "plt.figure(figsize=(10,5))\n",
    "sns.barplot(x = df_others['matchType'].unique(),\n",
    "            y = df_others['matchType'].value_counts())\n",
    "df_others['matchType'].value_counts().plot.bar()"
   ]
  },
  {
   "cell_type": "code",
   "execution_count": null,
   "metadata": {
    "colab": {},
    "colab_type": "code",
    "id": "AHLU2jhBJkpS"
   },
   "outputs": [],
   "source": [
    "####MY display 설정\n",
    "pd.set_option('display.max_rows', 10000)\n",
    "pd.set_option('display.width', 10000)\n",
    "pd.options.display.float_format = '{:.3f}'.format"
   ]
  },
  {
   "cell_type": "markdown",
   "metadata": {
    "colab_type": "text",
    "id": "GuYfhJMMKiGa"
   },
   "source": [
    "# Modeling"
   ]
  },
  {
   "cell_type": "markdown",
   "metadata": {
    "colab_type": "text",
    "id": "hf425aY1GZWS"
   },
   "source": [
    "One hot encoding"
   ]
  },
  {
   "cell_type": "markdown",
   "metadata": {
    "colab_type": "text",
    "id": "vnZruKWVGYsV"
   },
   "source": [
    "from sklearn.preprocessing import OneHotEncoder\n",
    "\n",
    "onehot = pd.get_dummies(df['matchType'])\n",
    "df = pd.concat([df, onehot], axis = 1)\n",
    "df.head()"
   ]
  },
  {
   "cell_type": "markdown",
   "metadata": {
    "colab_type": "text",
    "id": "BJIViHPLbFFw"
   },
   "source": [
    "df.filter(regex='matchType').head()"
   ]
  },
  {
   "cell_type": "markdown",
   "metadata": {
    "colab_type": "text",
    "id": "VTeWGzKL39Po"
   },
   "source": [
    "Dataframe split 2차"
   ]
  },
  {
   "cell_type": "markdown",
   "metadata": {
    "colab_type": "text",
    "id": "79nE2pl839KL"
   },
   "source": [
    "원본  \n",
    "\n",
    "df_st = df[df['matchType'] == 'solo']\n",
    "df_sf = df[df['matchType'] == 'solo-fpp']\n",
    "df_dt = df[df['matchType'] == 'duo']\n",
    "df_df = df[df['matchType'] == 'duo-fpp']\n",
    "df_sqt = df[df['matchType'] == 'squad']\n",
    "df_sqf = df[df['matchType'] == 'squad-fpp']"
   ]
  },
  {
   "cell_type": "markdown",
   "metadata": {
    "colab_type": "text",
    "id": "c0Ai2HvGKwnK"
   },
   "source": [
    "df_st = df[df['matchType'] == 'solo'][:20000]\n",
    "df_sf = df[df['matchType'] == 'solo-fpp'][:20000]\n",
    "df_dt = df[df['matchType'] == 'duo'][:20000]\n",
    "df_df = df[df['matchType'] == 'duo-fpp'][:20000]\n",
    "df_sqt = df[df['matchType'] == 'squad'][:20000]\n",
    "df_sqf = df[df['matchType'] == 'squad-fpp'][:20000]"
   ]
  },
  {
   "cell_type": "markdown",
   "metadata": {
    "colab_type": "text",
    "id": "fHYAilcCOym8"
   },
   "source": [
    "df.drop(['matchType'], axis = 1, inplace = True)"
   ]
  },
  {
   "cell_type": "markdown",
   "metadata": {
    "colab_type": "text",
    "id": "_IWH6vp8KzGV"
   },
   "source": [
    "df_st.drop(['matchType'], axis = 1, inplace = True)\n",
    "df_sf.drop(['matchType'], axis = 1, inplace = True)\n",
    "df_dt.drop(['matchType'], axis = 1, inplace = True)\n",
    "df_df.drop(['matchType'], axis = 1, inplace = True)\n",
    "df_sqt.drop(['matchType'], axis = 1, inplace = True)\n",
    "df_sqf.drop(['matchType'], axis = 1, inplace = True)\n",
    "df_others.drop(['matchType'], axis = 1, inplace = True)"
   ]
  },
  {
   "cell_type": "markdown",
   "metadata": {
    "colab_type": "text",
    "id": "B_BQpKsKDmup"
   },
   "source": [
    "분포 확인\n",
    "df_sqf.describe().T"
   ]
  },
  {
   "cell_type": "markdown",
   "metadata": {
    "colab_type": "text",
    "id": "diQU_CKw-PDe"
   },
   "source": [
    "Train Test Split\n",
    "이거 좀 loop로 안되나?!!!!\n",
    "빡쳐서 일단 4개 세트만 해본다"
   ]
  },
  {
   "source": [
    "X_st, y_st = df_st.drop(['winPlacePerc'], axis =1), df_st.winPlacePerc\n",
    "X_sf, y_sf = df_sf.drop(['winPlacePerc'], axis =1), df_sf.winPlacePerc\n",
    "X_sqt, y_sqt = df_sqt.drop(['winPlacePerc'], axis =1), df_sqt.winPlacePerc\n",
    "X_sqf, y_sqf = df_sqf.drop(['winPlacePerc'], axis =1), df_sqf.winPlacePerc"
   ],
   "cell_type": "code",
   "metadata": {
    "colab_type": "text",
    "id": "vrXJwHtEFRIC"
   },
   "execution_count": null,
   "outputs": []
  },
  {
   "source": [
    "st_X_train, st_X_test, st_y_train, st_y_test = train_test_split(X_st,y_st, test_size=0.2, random_state=0)\n",
    "sf_X_train, sf_X_test, sf_y_train, sf_y_test = train_test_split(X_sf,y_sf, test_size=0.2, random_state=0)\n",
    "sqt_X_train, sqt_X_test, sqt_y_train, sqt_y_test = train_test_split(X_sqt,y_sqt, test_size=0.2, random_state=0)\n",
    "sqf_X_train, sqf_X_test, sqf_y_train, sqf_y_test = train_test_split(X_sqf,y_sqf, test_size=0.2, random_state=0)\n",
    "\n",
    "print(st_X_train.shape, st_X_test.shape, st_y_train.shape, st_y_test.shape)\n",
    "print(sf_X_train.shape, sf_X_test.shape, sf_y_train.shape, sf_y_test.shape)\n",
    "print(sqt_X_train.shape, sqt_X_test.shape, sqt_y_train.shape, sqt_y_test.shape)\n",
    "print(sqf_X_train.shape, sqf_X_test.shape, sqf_y_train.shape, sqf_y_test.shape)"
   ],
   "cell_type": "code",
   "metadata": {
    "colab_type": "text",
    "id": "8EtZfEu9FMMl"
   },
   "execution_count": null,
   "outputs": []
  },
  {
   "cell_type": "markdown",
   "metadata": {
    "colab_type": "text",
    "id": "zLcvjjpZKRnm"
   },
   "source": [
    "#### Feature Scaling & Split"
   ]
  },
  {
   "cell_type": "markdown",
   "metadata": {
    "colab_type": "text",
    "id": "ZDhHpNeuEc6s"
   },
   "source": [
    "from sklearn.model_selection import GroupKFold\n",
    "from sklearn import preprocessing\n",
    "from sklearn.preprocessing import MinMaxScaler"
   ]
  },
  {
   "cell_type": "code",
   "execution_count": null,
   "metadata": {
    "colab": {},
    "colab_type": "code",
    "id": "tQQU-_DvR_2o"
   },
   "outputs": [],
   "source": [
    "#X, y = df.drop(['winPlacePerc'], axis =1), df.winPlacePerc\n",
    "def Scaler(x):\n",
    "  Columns = x.columns\n",
    "  x = MinMaxScaler(feature_range=(-1, 1)).fit_transform(x)\n",
    "  x = pd.DataFrame(data = x, columns= Columns)\n",
    "\n",
    "  return x\n",
    "#X_train, X_test, y_train, y_test = train_test_split(X ,y, test_size=0.2, random_state=0)"
   ]
  },
  {
   "cell_type": "code",
   "execution_count": null,
   "metadata": {
    "colab": {},
    "colab_type": "code",
    "id": "KwTh_fA3HOFZ"
   },
   "outputs": [],
   "source": [
    "X1 = Scaler(X)"
   ]
  },
  {
   "cell_type": "code",
   "execution_count": null,
   "metadata": {
    "colab": {},
    "colab_type": "code",
    "id": "IC3p_4F8e_TK"
   },
   "outputs": [],
   "source": [
    "X_train, X_test, y_train, y_test = train_test_split(X1, y, test_size = 0.2, random_state = 1234)"
   ]
  },
  {
   "cell_type": "code",
   "execution_count": null,
   "metadata": {
    "colab": {
     "base_uri": "https://localhost:8080/",
     "height": 52
    },
    "colab_type": "code",
    "executionInfo": {
     "elapsed": 108396,
     "status": "ok",
     "timestamp": 1597809429297,
     "user": {
      "displayName": "JJ Se",
      "photoUrl": "https://lh3.googleusercontent.com/a-/AOh14Ghb03i_JlSjx_gLyZx-WE1vWYSIsR6GZ-Wv8dClpA=s64",
      "userId": "04495440602003989745"
     },
     "user_tz": -540
    },
    "id": "YL6-wjTsP7t_",
    "outputId": "f95aa95f-8858-451c-82b2-811c6003f1d1"
   },
   "outputs": [
    {
     "name": "stdout",
     "output_type": "stream",
     "text": [
      "(152336, 114) (152336,)\n",
      "(38084, 114) (38084,)\n"
     ]
    }
   ],
   "source": [
    "print(X_train.shape, y_train.shape)\n",
    "print(X_test.shape, y_test.shape)"
   ]
  },
  {
   "cell_type": "code",
   "execution_count": null,
   "metadata": {
    "colab": {
     "base_uri": "https://localhost:8080/",
     "height": 426
    },
    "colab_type": "code",
    "executionInfo": {
     "elapsed": 108369,
     "status": "ok",
     "timestamp": 1597809429298,
     "user": {
      "displayName": "JJ Se",
      "photoUrl": "https://lh3.googleusercontent.com/a-/AOh14Ghb03i_JlSjx_gLyZx-WE1vWYSIsR6GZ-Wv8dClpA=s64",
      "userId": "04495440602003989745"
     },
     "user_tz": -540
    },
    "id": "8hsRoh_lXfjq",
    "outputId": "e2e54792-f6c1-4ab6-b213-b18e85ae9684"
   },
   "outputs": [
    {
     "data": {
      "text/html": [
       "<div>\n",
       "<style scoped>\n",
       "    .dataframe tbody tr th:only-of-type {\n",
       "        vertical-align: middle;\n",
       "    }\n",
       "\n",
       "    .dataframe tbody tr th {\n",
       "        vertical-align: top;\n",
       "    }\n",
       "\n",
       "    .dataframe thead th {\n",
       "        text-align: right;\n",
       "    }\n",
       "</style>\n",
       "<table border=\"1\" class=\"dataframe\">\n",
       "  <thead>\n",
       "    <tr style=\"text-align: right;\">\n",
       "      <th></th>\n",
       "      <th>assists_mean</th>\n",
       "      <th>boosts_mean</th>\n",
       "      <th>damageDealt_mean</th>\n",
       "      <th>heals_mean</th>\n",
       "      <th>killPlace_mean</th>\n",
       "      <th>killPoints_mean</th>\n",
       "      <th>kills_mean</th>\n",
       "      <th>killStreaks_mean</th>\n",
       "      <th>longestKill_mean</th>\n",
       "      <th>matchDuration_mean</th>\n",
       "      <th>maxPlace_mean</th>\n",
       "      <th>weaponsAcquired_mean</th>\n",
       "      <th>total_distance_mean</th>\n",
       "      <th>headshot_ratio_mean</th>\n",
       "      <th>mmr_mean</th>\n",
       "      <th>map_mean</th>\n",
       "      <th>assists_mean_rank</th>\n",
       "      <th>boosts_mean_rank</th>\n",
       "      <th>damageDealt_mean_rank</th>\n",
       "      <th>heals_mean_rank</th>\n",
       "      <th>killPlace_mean_rank</th>\n",
       "      <th>killPoints_mean_rank</th>\n",
       "      <th>kills_mean_rank</th>\n",
       "      <th>killStreaks_mean_rank</th>\n",
       "      <th>longestKill_mean_rank</th>\n",
       "      <th>matchDuration_mean_rank</th>\n",
       "      <th>maxPlace_mean_rank</th>\n",
       "      <th>weaponsAcquired_mean_rank</th>\n",
       "      <th>total_distance_mean_rank</th>\n",
       "      <th>headshot_ratio_mean_rank</th>\n",
       "      <th>mmr_mean_rank</th>\n",
       "      <th>map_mean_rank</th>\n",
       "      <th>assists_max</th>\n",
       "      <th>boosts_max</th>\n",
       "      <th>damageDealt_max</th>\n",
       "      <th>heals_max</th>\n",
       "      <th>killPlace_max</th>\n",
       "      <th>killPoints_max</th>\n",
       "      <th>kills_max</th>\n",
       "      <th>killStreaks_max</th>\n",
       "      <th>...</th>\n",
       "      <th>maxPlace_min</th>\n",
       "      <th>weaponsAcquired_min</th>\n",
       "      <th>total_distance_min</th>\n",
       "      <th>headshot_ratio_min</th>\n",
       "      <th>mmr_min</th>\n",
       "      <th>map_min</th>\n",
       "      <th>assists_min_rank</th>\n",
       "      <th>boosts_min_rank</th>\n",
       "      <th>damageDealt_min_rank</th>\n",
       "      <th>heals_min_rank</th>\n",
       "      <th>killPlace_min_rank</th>\n",
       "      <th>killPoints_min_rank</th>\n",
       "      <th>kills_min_rank</th>\n",
       "      <th>killStreaks_min_rank</th>\n",
       "      <th>longestKill_min_rank</th>\n",
       "      <th>matchDuration_min_rank</th>\n",
       "      <th>maxPlace_min_rank</th>\n",
       "      <th>weaponsAcquired_min_rank</th>\n",
       "      <th>total_distance_min_rank</th>\n",
       "      <th>headshot_ratio_min_rank</th>\n",
       "      <th>mmr_min_rank</th>\n",
       "      <th>map_min_rank</th>\n",
       "      <th>group_size</th>\n",
       "      <th>assists</th>\n",
       "      <th>boosts</th>\n",
       "      <th>damageDealt</th>\n",
       "      <th>heals</th>\n",
       "      <th>killPlace</th>\n",
       "      <th>killPoints</th>\n",
       "      <th>kills</th>\n",
       "      <th>killStreaks</th>\n",
       "      <th>longestKill</th>\n",
       "      <th>matchDuration</th>\n",
       "      <th>maxPlace</th>\n",
       "      <th>weaponsAcquired</th>\n",
       "      <th>total_distance</th>\n",
       "      <th>headshot_ratio</th>\n",
       "      <th>mmr</th>\n",
       "      <th>map</th>\n",
       "      <th>match_size</th>\n",
       "    </tr>\n",
       "  </thead>\n",
       "  <tbody>\n",
       "    <tr>\n",
       "      <th>109197</th>\n",
       "      <td>-1.000</td>\n",
       "      <td>-1.000</td>\n",
       "      <td>-1.000</td>\n",
       "      <td>-1.000</td>\n",
       "      <td>0.697</td>\n",
       "      <td>-0.679</td>\n",
       "      <td>-1.000</td>\n",
       "      <td>-1.000</td>\n",
       "      <td>-1.000</td>\n",
       "      <td>0.147</td>\n",
       "      <td>-0.143</td>\n",
       "      <td>-1.000</td>\n",
       "      <td>-1.000</td>\n",
       "      <td>-1.000</td>\n",
       "      <td>-0.778</td>\n",
       "      <td>-1.000</td>\n",
       "      <td>-1.000</td>\n",
       "      <td>-1.000</td>\n",
       "      <td>-1.000</td>\n",
       "      <td>-1.000</td>\n",
       "      <td>0.793</td>\n",
       "      <td>-0.149</td>\n",
       "      <td>-1.000</td>\n",
       "      <td>-1.000</td>\n",
       "      <td>-1.000</td>\n",
       "      <td>-0.656</td>\n",
       "      <td>0.084</td>\n",
       "      <td>-1.000</td>\n",
       "      <td>-1.000</td>\n",
       "      <td>-1.000</td>\n",
       "      <td>-0.999</td>\n",
       "      <td>-1.000</td>\n",
       "      <td>-1.000</td>\n",
       "      <td>-1.000</td>\n",
       "      <td>-1.000</td>\n",
       "      <td>-1.000</td>\n",
       "      <td>0.697</td>\n",
       "      <td>-0.680</td>\n",
       "      <td>-1.000</td>\n",
       "      <td>-1.000</td>\n",
       "      <td>...</td>\n",
       "      <td>-0.143</td>\n",
       "      <td>-1.000</td>\n",
       "      <td>-1.000</td>\n",
       "      <td>-1.000</td>\n",
       "      <td>-0.778</td>\n",
       "      <td>-1.000</td>\n",
       "      <td>-0.286</td>\n",
       "      <td>-0.688</td>\n",
       "      <td>-0.760</td>\n",
       "      <td>-0.528</td>\n",
       "      <td>1.000</td>\n",
       "      <td>-0.896</td>\n",
       "      <td>-0.688</td>\n",
       "      <td>-0.688</td>\n",
       "      <td>-0.688</td>\n",
       "      <td>-0.896</td>\n",
       "      <td>-0.896</td>\n",
       "      <td>-0.896</td>\n",
       "      <td>-0.896</td>\n",
       "      <td>-0.350</td>\n",
       "      <td>-0.896</td>\n",
       "      <td>-0.896</td>\n",
       "      <td>-1.000</td>\n",
       "      <td>-0.976</td>\n",
       "      <td>-0.841</td>\n",
       "      <td>-0.953</td>\n",
       "      <td>-0.939</td>\n",
       "      <td>-0.237</td>\n",
       "      <td>0.034</td>\n",
       "      <td>-0.958</td>\n",
       "      <td>-0.708</td>\n",
       "      <td>-0.962</td>\n",
       "      <td>0.147</td>\n",
       "      <td>-0.143</td>\n",
       "      <td>-0.898</td>\n",
       "      <td>-0.944</td>\n",
       "      <td>-0.667</td>\n",
       "      <td>-0.494</td>\n",
       "      <td>-1.000</td>\n",
       "      <td>0.000</td>\n",
       "    </tr>\n",
       "    <tr>\n",
       "      <th>39892</th>\n",
       "      <td>-1.000</td>\n",
       "      <td>-0.524</td>\n",
       "      <td>-0.944</td>\n",
       "      <td>-0.692</td>\n",
       "      <td>-0.414</td>\n",
       "      <td>-0.065</td>\n",
       "      <td>-1.000</td>\n",
       "      <td>-1.000</td>\n",
       "      <td>-1.000</td>\n",
       "      <td>0.673</td>\n",
       "      <td>-0.408</td>\n",
       "      <td>-0.833</td>\n",
       "      <td>-0.794</td>\n",
       "      <td>-1.000</td>\n",
       "      <td>-0.489</td>\n",
       "      <td>1.000</td>\n",
       "      <td>-1.000</td>\n",
       "      <td>0.872</td>\n",
       "      <td>0.301</td>\n",
       "      <td>0.904</td>\n",
       "      <td>-0.376</td>\n",
       "      <td>-0.079</td>\n",
       "      <td>-1.000</td>\n",
       "      <td>-1.000</td>\n",
       "      <td>-1.000</td>\n",
       "      <td>0.734</td>\n",
       "      <td>0.017</td>\n",
       "      <td>0.679</td>\n",
       "      <td>0.668</td>\n",
       "      <td>-1.000</td>\n",
       "      <td>0.072</td>\n",
       "      <td>1.000</td>\n",
       "      <td>-1.000</td>\n",
       "      <td>-0.524</td>\n",
       "      <td>-0.944</td>\n",
       "      <td>-0.692</td>\n",
       "      <td>-0.414</td>\n",
       "      <td>-0.071</td>\n",
       "      <td>-1.000</td>\n",
       "      <td>-1.000</td>\n",
       "      <td>...</td>\n",
       "      <td>-0.408</td>\n",
       "      <td>-0.833</td>\n",
       "      <td>-0.794</td>\n",
       "      <td>-1.000</td>\n",
       "      <td>-0.489</td>\n",
       "      <td>1.000</td>\n",
       "      <td>0.429</td>\n",
       "      <td>1.000</td>\n",
       "      <td>1.000</td>\n",
       "      <td>1.000</td>\n",
       "      <td>-0.083</td>\n",
       "      <td>0.458</td>\n",
       "      <td>0.438</td>\n",
       "      <td>0.438</td>\n",
       "      <td>0.438</td>\n",
       "      <td>-0.083</td>\n",
       "      <td>-0.083</td>\n",
       "      <td>-0.083</td>\n",
       "      <td>-0.083</td>\n",
       "      <td>0.400</td>\n",
       "      <td>0.458</td>\n",
       "      <td>-0.083</td>\n",
       "      <td>-1.000</td>\n",
       "      <td>-1.000</td>\n",
       "      <td>-0.364</td>\n",
       "      <td>-0.968</td>\n",
       "      <td>-0.758</td>\n",
       "      <td>-0.404</td>\n",
       "      <td>0.030</td>\n",
       "      <td>-1.000</td>\n",
       "      <td>-1.000</td>\n",
       "      <td>-1.000</td>\n",
       "      <td>0.673</td>\n",
       "      <td>-0.408</td>\n",
       "      <td>-0.787</td>\n",
       "      <td>-0.371</td>\n",
       "      <td>-1.000</td>\n",
       "      <td>-0.460</td>\n",
       "      <td>1.000</td>\n",
       "      <td>-0.857</td>\n",
       "    </tr>\n",
       "    <tr>\n",
       "      <th>120249</th>\n",
       "      <td>-1.000</td>\n",
       "      <td>-1.000</td>\n",
       "      <td>-0.970</td>\n",
       "      <td>-1.000</td>\n",
       "      <td>0.636</td>\n",
       "      <td>0.076</td>\n",
       "      <td>-1.000</td>\n",
       "      <td>-1.000</td>\n",
       "      <td>-1.000</td>\n",
       "      <td>0.749</td>\n",
       "      <td>-0.449</td>\n",
       "      <td>-1.000</td>\n",
       "      <td>-0.995</td>\n",
       "      <td>-1.000</td>\n",
       "      <td>-0.482</td>\n",
       "      <td>1.000</td>\n",
       "      <td>-1.000</td>\n",
       "      <td>-1.000</td>\n",
       "      <td>-0.182</td>\n",
       "      <td>-1.000</td>\n",
       "      <td>0.732</td>\n",
       "      <td>0.248</td>\n",
       "      <td>-1.000</td>\n",
       "      <td>-1.000</td>\n",
       "      <td>-1.000</td>\n",
       "      <td>0.932</td>\n",
       "      <td>-0.240</td>\n",
       "      <td>-1.000</td>\n",
       "      <td>-0.452</td>\n",
       "      <td>-1.000</td>\n",
       "      <td>0.474</td>\n",
       "      <td>1.000</td>\n",
       "      <td>-1.000</td>\n",
       "      <td>-1.000</td>\n",
       "      <td>-0.970</td>\n",
       "      <td>-1.000</td>\n",
       "      <td>0.636</td>\n",
       "      <td>0.070</td>\n",
       "      <td>-1.000</td>\n",
       "      <td>-1.000</td>\n",
       "      <td>...</td>\n",
       "      <td>-0.449</td>\n",
       "      <td>-1.000</td>\n",
       "      <td>-0.995</td>\n",
       "      <td>-1.000</td>\n",
       "      <td>-0.482</td>\n",
       "      <td>1.000</td>\n",
       "      <td>0.143</td>\n",
       "      <td>-0.125</td>\n",
       "      <td>-0.083</td>\n",
       "      <td>-0.389</td>\n",
       "      <td>1.000</td>\n",
       "      <td>0.458</td>\n",
       "      <td>-0.125</td>\n",
       "      <td>-0.125</td>\n",
       "      <td>-0.125</td>\n",
       "      <td>-0.625</td>\n",
       "      <td>-0.625</td>\n",
       "      <td>-0.625</td>\n",
       "      <td>-0.625</td>\n",
       "      <td>-0.200</td>\n",
       "      <td>0.458</td>\n",
       "      <td>-0.625</td>\n",
       "      <td>-1.000</td>\n",
       "      <td>-1.000</td>\n",
       "      <td>-0.955</td>\n",
       "      <td>-0.945</td>\n",
       "      <td>-0.970</td>\n",
       "      <td>0.116</td>\n",
       "      <td>0.243</td>\n",
       "      <td>-0.990</td>\n",
       "      <td>-0.917</td>\n",
       "      <td>-0.987</td>\n",
       "      <td>0.749</td>\n",
       "      <td>-0.449</td>\n",
       "      <td>-0.893</td>\n",
       "      <td>-0.583</td>\n",
       "      <td>-0.500</td>\n",
       "      <td>-0.447</td>\n",
       "      <td>1.000</td>\n",
       "      <td>-0.571</td>\n",
       "    </tr>\n",
       "    <tr>\n",
       "      <th>104403</th>\n",
       "      <td>-1.000</td>\n",
       "      <td>-0.714</td>\n",
       "      <td>-0.915</td>\n",
       "      <td>-0.923</td>\n",
       "      <td>-0.414</td>\n",
       "      <td>-1.000</td>\n",
       "      <td>-0.958</td>\n",
       "      <td>-0.857</td>\n",
       "      <td>-0.488</td>\n",
       "      <td>0.652</td>\n",
       "      <td>-0.429</td>\n",
       "      <td>-0.833</td>\n",
       "      <td>-0.620</td>\n",
       "      <td>-1.000</td>\n",
       "      <td>-0.488</td>\n",
       "      <td>1.000</td>\n",
       "      <td>-1.000</td>\n",
       "      <td>0.616</td>\n",
       "      <td>0.579</td>\n",
       "      <td>0.378</td>\n",
       "      <td>-0.376</td>\n",
       "      <td>-1.000</td>\n",
       "      <td>0.089</td>\n",
       "      <td>0.267</td>\n",
       "      <td>0.977</td>\n",
       "      <td>0.597</td>\n",
       "      <td>-0.068</td>\n",
       "      <td>0.679</td>\n",
       "      <td>0.851</td>\n",
       "      <td>-1.000</td>\n",
       "      <td>0.227</td>\n",
       "      <td>1.000</td>\n",
       "      <td>-1.000</td>\n",
       "      <td>-0.714</td>\n",
       "      <td>-0.915</td>\n",
       "      <td>-0.923</td>\n",
       "      <td>-0.414</td>\n",
       "      <td>-1.000</td>\n",
       "      <td>-0.958</td>\n",
       "      <td>-0.857</td>\n",
       "      <td>...</td>\n",
       "      <td>-0.429</td>\n",
       "      <td>-0.833</td>\n",
       "      <td>-0.620</td>\n",
       "      <td>-1.000</td>\n",
       "      <td>-0.488</td>\n",
       "      <td>1.000</td>\n",
       "      <td>-0.143</td>\n",
       "      <td>1.000</td>\n",
       "      <td>1.000</td>\n",
       "      <td>0.778</td>\n",
       "      <td>-0.300</td>\n",
       "      <td>0.133</td>\n",
       "      <td>0.100</td>\n",
       "      <td>0.100</td>\n",
       "      <td>1.000</td>\n",
       "      <td>-0.733</td>\n",
       "      <td>-0.733</td>\n",
       "      <td>1.000</td>\n",
       "      <td>1.000</td>\n",
       "      <td>-0.200</td>\n",
       "      <td>1.000</td>\n",
       "      <td>-0.733</td>\n",
       "      <td>-1.000</td>\n",
       "      <td>-0.981</td>\n",
       "      <td>-0.855</td>\n",
       "      <td>-0.953</td>\n",
       "      <td>-0.952</td>\n",
       "      <td>-0.135</td>\n",
       "      <td>-1.000</td>\n",
       "      <td>-0.958</td>\n",
       "      <td>-0.667</td>\n",
       "      <td>-0.780</td>\n",
       "      <td>0.652</td>\n",
       "      <td>-0.429</td>\n",
       "      <td>-0.921</td>\n",
       "      <td>-0.747</td>\n",
       "      <td>-0.800</td>\n",
       "      <td>-0.476</td>\n",
       "      <td>1.000</td>\n",
       "      <td>-0.429</td>\n",
       "    </tr>\n",
       "    <tr>\n",
       "      <th>130726</th>\n",
       "      <td>-1.000</td>\n",
       "      <td>-1.000</td>\n",
       "      <td>-0.902</td>\n",
       "      <td>-0.846</td>\n",
       "      <td>-0.899</td>\n",
       "      <td>-1.000</td>\n",
       "      <td>-0.833</td>\n",
       "      <td>-0.714</td>\n",
       "      <td>-0.749</td>\n",
       "      <td>0.643</td>\n",
       "      <td>-0.490</td>\n",
       "      <td>-0.917</td>\n",
       "      <td>-0.630</td>\n",
       "      <td>-0.500</td>\n",
       "      <td>-0.509</td>\n",
       "      <td>1.000</td>\n",
       "      <td>-1.000</td>\n",
       "      <td>-1.000</td>\n",
       "      <td>0.660</td>\n",
       "      <td>0.662</td>\n",
       "      <td>-0.892</td>\n",
       "      <td>-1.000</td>\n",
       "      <td>0.862</td>\n",
       "      <td>0.850</td>\n",
       "      <td>0.860</td>\n",
       "      <td>0.550</td>\n",
       "      <td>-0.732</td>\n",
       "      <td>-0.157</td>\n",
       "      <td>0.841</td>\n",
       "      <td>0.552</td>\n",
       "      <td>-0.731</td>\n",
       "      <td>1.000</td>\n",
       "      <td>-1.000</td>\n",
       "      <td>-1.000</td>\n",
       "      <td>-0.902</td>\n",
       "      <td>-0.846</td>\n",
       "      <td>-0.899</td>\n",
       "      <td>-1.000</td>\n",
       "      <td>-0.833</td>\n",
       "      <td>-0.714</td>\n",
       "      <td>...</td>\n",
       "      <td>-0.490</td>\n",
       "      <td>-0.917</td>\n",
       "      <td>-0.630</td>\n",
       "      <td>-0.500</td>\n",
       "      <td>-0.509</td>\n",
       "      <td>1.000</td>\n",
       "      <td>-0.143</td>\n",
       "      <td>-0.406</td>\n",
       "      <td>1.000</td>\n",
       "      <td>0.444</td>\n",
       "      <td>-0.625</td>\n",
       "      <td>0.187</td>\n",
       "      <td>1.000</td>\n",
       "      <td>1.000</td>\n",
       "      <td>1.000</td>\n",
       "      <td>-0.625</td>\n",
       "      <td>-0.625</td>\n",
       "      <td>-0.354</td>\n",
       "      <td>1.000</td>\n",
       "      <td>1.000</td>\n",
       "      <td>-0.083</td>\n",
       "      <td>-0.625</td>\n",
       "      <td>-1.000</td>\n",
       "      <td>-0.981</td>\n",
       "      <td>-0.745</td>\n",
       "      <td>-0.951</td>\n",
       "      <td>-0.685</td>\n",
       "      <td>-0.143</td>\n",
       "      <td>-1.000</td>\n",
       "      <td>-0.933</td>\n",
       "      <td>-0.733</td>\n",
       "      <td>-0.822</td>\n",
       "      <td>0.643</td>\n",
       "      <td>-0.490</td>\n",
       "      <td>-0.856</td>\n",
       "      <td>-0.467</td>\n",
       "      <td>-0.900</td>\n",
       "      <td>-0.443</td>\n",
       "      <td>1.000</td>\n",
       "      <td>-0.429</td>\n",
       "    </tr>\n",
       "    <tr>\n",
       "      <th>...</th>\n",
       "      <td>...</td>\n",
       "      <td>...</td>\n",
       "      <td>...</td>\n",
       "      <td>...</td>\n",
       "      <td>...</td>\n",
       "      <td>...</td>\n",
       "      <td>...</td>\n",
       "      <td>...</td>\n",
       "      <td>...</td>\n",
       "      <td>...</td>\n",
       "      <td>...</td>\n",
       "      <td>...</td>\n",
       "      <td>...</td>\n",
       "      <td>...</td>\n",
       "      <td>...</td>\n",
       "      <td>...</td>\n",
       "      <td>...</td>\n",
       "      <td>...</td>\n",
       "      <td>...</td>\n",
       "      <td>...</td>\n",
       "      <td>...</td>\n",
       "      <td>...</td>\n",
       "      <td>...</td>\n",
       "      <td>...</td>\n",
       "      <td>...</td>\n",
       "      <td>...</td>\n",
       "      <td>...</td>\n",
       "      <td>...</td>\n",
       "      <td>...</td>\n",
       "      <td>...</td>\n",
       "      <td>...</td>\n",
       "      <td>...</td>\n",
       "      <td>...</td>\n",
       "      <td>...</td>\n",
       "      <td>...</td>\n",
       "      <td>...</td>\n",
       "      <td>...</td>\n",
       "      <td>...</td>\n",
       "      <td>...</td>\n",
       "      <td>...</td>\n",
       "      <td>...</td>\n",
       "      <td>...</td>\n",
       "      <td>...</td>\n",
       "      <td>...</td>\n",
       "      <td>...</td>\n",
       "      <td>...</td>\n",
       "      <td>...</td>\n",
       "      <td>...</td>\n",
       "      <td>...</td>\n",
       "      <td>...</td>\n",
       "      <td>...</td>\n",
       "      <td>...</td>\n",
       "      <td>...</td>\n",
       "      <td>...</td>\n",
       "      <td>...</td>\n",
       "      <td>...</td>\n",
       "      <td>...</td>\n",
       "      <td>...</td>\n",
       "      <td>...</td>\n",
       "      <td>...</td>\n",
       "      <td>...</td>\n",
       "      <td>...</td>\n",
       "      <td>...</td>\n",
       "      <td>...</td>\n",
       "      <td>...</td>\n",
       "      <td>...</td>\n",
       "      <td>...</td>\n",
       "      <td>...</td>\n",
       "      <td>...</td>\n",
       "      <td>...</td>\n",
       "      <td>...</td>\n",
       "      <td>...</td>\n",
       "      <td>...</td>\n",
       "      <td>...</td>\n",
       "      <td>...</td>\n",
       "      <td>...</td>\n",
       "      <td>...</td>\n",
       "      <td>...</td>\n",
       "      <td>...</td>\n",
       "      <td>...</td>\n",
       "      <td>...</td>\n",
       "    </tr>\n",
       "    <tr>\n",
       "      <th>32399</th>\n",
       "      <td>-1.000</td>\n",
       "      <td>-0.810</td>\n",
       "      <td>-0.963</td>\n",
       "      <td>-0.962</td>\n",
       "      <td>-0.515</td>\n",
       "      <td>-1.000</td>\n",
       "      <td>-0.958</td>\n",
       "      <td>-0.857</td>\n",
       "      <td>-0.971</td>\n",
       "      <td>-0.004</td>\n",
       "      <td>0.898</td>\n",
       "      <td>-0.833</td>\n",
       "      <td>-0.976</td>\n",
       "      <td>-1.000</td>\n",
       "      <td>-0.495</td>\n",
       "      <td>-1.000</td>\n",
       "      <td>-1.000</td>\n",
       "      <td>0.368</td>\n",
       "      <td>0.000</td>\n",
       "      <td>0.059</td>\n",
       "      <td>-0.484</td>\n",
       "      <td>-1.000</td>\n",
       "      <td>0.089</td>\n",
       "      <td>0.267</td>\n",
       "      <td>0.169</td>\n",
       "      <td>-0.988</td>\n",
       "      <td>0.796</td>\n",
       "      <td>0.679</td>\n",
       "      <td>-0.016</td>\n",
       "      <td>-1.000</td>\n",
       "      <td>-0.346</td>\n",
       "      <td>-1.000</td>\n",
       "      <td>-1.000</td>\n",
       "      <td>-0.810</td>\n",
       "      <td>-0.963</td>\n",
       "      <td>-0.962</td>\n",
       "      <td>-0.515</td>\n",
       "      <td>-1.000</td>\n",
       "      <td>-0.958</td>\n",
       "      <td>-0.857</td>\n",
       "      <td>...</td>\n",
       "      <td>0.898</td>\n",
       "      <td>-0.833</td>\n",
       "      <td>-0.976</td>\n",
       "      <td>-1.000</td>\n",
       "      <td>-0.495</td>\n",
       "      <td>-1.000</td>\n",
       "      <td>0.238</td>\n",
       "      <td>1.000</td>\n",
       "      <td>1.000</td>\n",
       "      <td>1.000</td>\n",
       "      <td>-0.444</td>\n",
       "      <td>0.278</td>\n",
       "      <td>1.000</td>\n",
       "      <td>1.000</td>\n",
       "      <td>1.000</td>\n",
       "      <td>-0.444</td>\n",
       "      <td>-0.444</td>\n",
       "      <td>1.000</td>\n",
       "      <td>1.000</td>\n",
       "      <td>0.200</td>\n",
       "      <td>0.278</td>\n",
       "      <td>-0.444</td>\n",
       "      <td>-1.000</td>\n",
       "      <td>-1.000</td>\n",
       "      <td>-0.879</td>\n",
       "      <td>-0.988</td>\n",
       "      <td>-0.980</td>\n",
       "      <td>-0.010</td>\n",
       "      <td>-1.000</td>\n",
       "      <td>-0.986</td>\n",
       "      <td>-0.889</td>\n",
       "      <td>-0.984</td>\n",
       "      <td>-0.004</td>\n",
       "      <td>0.898</td>\n",
       "      <td>-0.869</td>\n",
       "      <td>-0.970</td>\n",
       "      <td>-1.000</td>\n",
       "      <td>-0.466</td>\n",
       "      <td>-1.000</td>\n",
       "      <td>-0.714</td>\n",
       "    </tr>\n",
       "    <tr>\n",
       "      <th>82584</th>\n",
       "      <td>-1.000</td>\n",
       "      <td>-0.810</td>\n",
       "      <td>-1.000</td>\n",
       "      <td>-1.000</td>\n",
       "      <td>-0.071</td>\n",
       "      <td>-1.000</td>\n",
       "      <td>-1.000</td>\n",
       "      <td>-1.000</td>\n",
       "      <td>-1.000</td>\n",
       "      <td>0.660</td>\n",
       "      <td>-0.041</td>\n",
       "      <td>-0.889</td>\n",
       "      <td>-0.459</td>\n",
       "      <td>-1.000</td>\n",
       "      <td>-0.493</td>\n",
       "      <td>1.000</td>\n",
       "      <td>-1.000</td>\n",
       "      <td>0.368</td>\n",
       "      <td>-1.000</td>\n",
       "      <td>-1.000</td>\n",
       "      <td>-0.011</td>\n",
       "      <td>-1.000</td>\n",
       "      <td>-1.000</td>\n",
       "      <td>-1.000</td>\n",
       "      <td>-1.000</td>\n",
       "      <td>0.648</td>\n",
       "      <td>0.509</td>\n",
       "      <td>0.180</td>\n",
       "      <td>0.952</td>\n",
       "      <td>-1.000</td>\n",
       "      <td>-0.227</td>\n",
       "      <td>1.000</td>\n",
       "      <td>-1.000</td>\n",
       "      <td>-0.810</td>\n",
       "      <td>-1.000</td>\n",
       "      <td>-1.000</td>\n",
       "      <td>-0.071</td>\n",
       "      <td>-1.000</td>\n",
       "      <td>-1.000</td>\n",
       "      <td>-1.000</td>\n",
       "      <td>...</td>\n",
       "      <td>-0.041</td>\n",
       "      <td>-0.889</td>\n",
       "      <td>-0.459</td>\n",
       "      <td>-1.000</td>\n",
       "      <td>-0.493</td>\n",
       "      <td>1.000</td>\n",
       "      <td>-0.143</td>\n",
       "      <td>0.550</td>\n",
       "      <td>-0.517</td>\n",
       "      <td>-0.333</td>\n",
       "      <td>-0.300</td>\n",
       "      <td>0.133</td>\n",
       "      <td>-0.125</td>\n",
       "      <td>-0.125</td>\n",
       "      <td>-0.125</td>\n",
       "      <td>-0.733</td>\n",
       "      <td>-0.733</td>\n",
       "      <td>0.567</td>\n",
       "      <td>1.000</td>\n",
       "      <td>-0.200</td>\n",
       "      <td>-0.733</td>\n",
       "      <td>-0.733</td>\n",
       "      <td>-1.000</td>\n",
       "      <td>-0.981</td>\n",
       "      <td>-0.709</td>\n",
       "      <td>-0.968</td>\n",
       "      <td>-0.939</td>\n",
       "      <td>0.006</td>\n",
       "      <td>-1.000</td>\n",
       "      <td>-0.983</td>\n",
       "      <td>-0.933</td>\n",
       "      <td>-0.812</td>\n",
       "      <td>0.660</td>\n",
       "      <td>-0.041</td>\n",
       "      <td>-0.895</td>\n",
       "      <td>-0.524</td>\n",
       "      <td>-0.800</td>\n",
       "      <td>-0.460</td>\n",
       "      <td>1.000</td>\n",
       "      <td>-0.429</td>\n",
       "    </tr>\n",
       "    <tr>\n",
       "      <th>121909</th>\n",
       "      <td>-0.905</td>\n",
       "      <td>-1.000</td>\n",
       "      <td>-0.884</td>\n",
       "      <td>-0.962</td>\n",
       "      <td>-0.717</td>\n",
       "      <td>-1.000</td>\n",
       "      <td>-0.917</td>\n",
       "      <td>-0.714</td>\n",
       "      <td>-0.988</td>\n",
       "      <td>0.746</td>\n",
       "      <td>-0.449</td>\n",
       "      <td>-0.944</td>\n",
       "      <td>-0.976</td>\n",
       "      <td>0.000</td>\n",
       "      <td>-0.484</td>\n",
       "      <td>1.000</td>\n",
       "      <td>0.640</td>\n",
       "      <td>-1.000</td>\n",
       "      <td>0.746</td>\n",
       "      <td>0.059</td>\n",
       "      <td>-0.699</td>\n",
       "      <td>-1.000</td>\n",
       "      <td>0.529</td>\n",
       "      <td>0.850</td>\n",
       "      <td>-0.054</td>\n",
       "      <td>0.925</td>\n",
       "      <td>-0.240</td>\n",
       "      <td>-0.509</td>\n",
       "      <td>-0.009</td>\n",
       "      <td>0.776</td>\n",
       "      <td>0.406</td>\n",
       "      <td>1.000</td>\n",
       "      <td>-0.905</td>\n",
       "      <td>-1.000</td>\n",
       "      <td>-0.884</td>\n",
       "      <td>-0.962</td>\n",
       "      <td>-0.717</td>\n",
       "      <td>-1.000</td>\n",
       "      <td>-0.917</td>\n",
       "      <td>-0.714</td>\n",
       "      <td>...</td>\n",
       "      <td>-0.449</td>\n",
       "      <td>-0.944</td>\n",
       "      <td>-0.976</td>\n",
       "      <td>0.000</td>\n",
       "      <td>-0.484</td>\n",
       "      <td>1.000</td>\n",
       "      <td>1.000</td>\n",
       "      <td>-0.688</td>\n",
       "      <td>1.000</td>\n",
       "      <td>0.074</td>\n",
       "      <td>-0.083</td>\n",
       "      <td>0.097</td>\n",
       "      <td>0.438</td>\n",
       "      <td>0.625</td>\n",
       "      <td>-0.125</td>\n",
       "      <td>-0.806</td>\n",
       "      <td>-0.806</td>\n",
       "      <td>-0.625</td>\n",
       "      <td>-0.806</td>\n",
       "      <td>0.400</td>\n",
       "      <td>0.278</td>\n",
       "      <td>-0.806</td>\n",
       "      <td>-1.000</td>\n",
       "      <td>-0.984</td>\n",
       "      <td>-0.606</td>\n",
       "      <td>-0.928</td>\n",
       "      <td>-0.939</td>\n",
       "      <td>-0.316</td>\n",
       "      <td>-1.000</td>\n",
       "      <td>-0.938</td>\n",
       "      <td>-0.611</td>\n",
       "      <td>-0.803</td>\n",
       "      <td>0.746</td>\n",
       "      <td>-0.449</td>\n",
       "      <td>-0.847</td>\n",
       "      <td>-0.406</td>\n",
       "      <td>-0.333</td>\n",
       "      <td>-0.462</td>\n",
       "      <td>1.000</td>\n",
       "      <td>-0.286</td>\n",
       "    </tr>\n",
       "    <tr>\n",
       "      <th>165158</th>\n",
       "      <td>-1.000</td>\n",
       "      <td>-0.619</td>\n",
       "      <td>-0.692</td>\n",
       "      <td>-0.846</td>\n",
       "      <td>-1.000</td>\n",
       "      <td>-1.000</td>\n",
       "      <td>-0.625</td>\n",
       "      <td>-0.714</td>\n",
       "      <td>-0.754</td>\n",
       "      <td>0.166</td>\n",
       "      <td>-0.510</td>\n",
       "      <td>-0.917</td>\n",
       "      <td>-0.947</td>\n",
       "      <td>-0.111</td>\n",
       "      <td>-0.459</td>\n",
       "      <td>-1.000</td>\n",
       "      <td>-1.000</td>\n",
       "      <td>0.772</td>\n",
       "      <td>0.983</td>\n",
       "      <td>0.662</td>\n",
       "      <td>-1.000</td>\n",
       "      <td>-1.000</td>\n",
       "      <td>0.989</td>\n",
       "      <td>0.850</td>\n",
       "      <td>0.855</td>\n",
       "      <td>-0.488</td>\n",
       "      <td>-0.891</td>\n",
       "      <td>-0.157</td>\n",
       "      <td>0.396</td>\n",
       "      <td>0.691</td>\n",
       "      <td>0.842</td>\n",
       "      <td>-1.000</td>\n",
       "      <td>-1.000</td>\n",
       "      <td>-0.619</td>\n",
       "      <td>-0.692</td>\n",
       "      <td>-0.846</td>\n",
       "      <td>-1.000</td>\n",
       "      <td>-1.000</td>\n",
       "      <td>-0.625</td>\n",
       "      <td>-0.714</td>\n",
       "      <td>...</td>\n",
       "      <td>-0.510</td>\n",
       "      <td>-0.917</td>\n",
       "      <td>-0.947</td>\n",
       "      <td>-0.111</td>\n",
       "      <td>-0.459</td>\n",
       "      <td>-1.000</td>\n",
       "      <td>-0.306</td>\n",
       "      <td>1.000</td>\n",
       "      <td>1.000</td>\n",
       "      <td>0.841</td>\n",
       "      <td>-0.857</td>\n",
       "      <td>0.071</td>\n",
       "      <td>1.000</td>\n",
       "      <td>0.839</td>\n",
       "      <td>1.000</td>\n",
       "      <td>-0.857</td>\n",
       "      <td>-0.857</td>\n",
       "      <td>-0.083</td>\n",
       "      <td>1.000</td>\n",
       "      <td>1.000</td>\n",
       "      <td>1.000</td>\n",
       "      <td>-0.857</td>\n",
       "      <td>-1.000</td>\n",
       "      <td>-0.973</td>\n",
       "      <td>-0.688</td>\n",
       "      <td>-0.936</td>\n",
       "      <td>-0.896</td>\n",
       "      <td>-0.097</td>\n",
       "      <td>-1.000</td>\n",
       "      <td>-0.923</td>\n",
       "      <td>-0.810</td>\n",
       "      <td>-0.918</td>\n",
       "      <td>0.166</td>\n",
       "      <td>-0.510</td>\n",
       "      <td>-0.874</td>\n",
       "      <td>-0.920</td>\n",
       "      <td>-0.873</td>\n",
       "      <td>-0.484</td>\n",
       "      <td>-1.000</td>\n",
       "      <td>-0.143</td>\n",
       "    </tr>\n",
       "    <tr>\n",
       "      <th>189139</th>\n",
       "      <td>-0.905</td>\n",
       "      <td>-0.905</td>\n",
       "      <td>-0.983</td>\n",
       "      <td>-1.000</td>\n",
       "      <td>0.071</td>\n",
       "      <td>-1.000</td>\n",
       "      <td>-1.000</td>\n",
       "      <td>-1.000</td>\n",
       "      <td>-1.000</td>\n",
       "      <td>0.661</td>\n",
       "      <td>-0.061</td>\n",
       "      <td>-0.917</td>\n",
       "      <td>-0.879</td>\n",
       "      <td>-1.000</td>\n",
       "      <td>-0.473</td>\n",
       "      <td>1.000</td>\n",
       "      <td>0.640</td>\n",
       "      <td>-0.000</td>\n",
       "      <td>-0.433</td>\n",
       "      <td>-1.000</td>\n",
       "      <td>0.144</td>\n",
       "      <td>-1.000</td>\n",
       "      <td>-1.000</td>\n",
       "      <td>-1.000</td>\n",
       "      <td>-1.000</td>\n",
       "      <td>0.655</td>\n",
       "      <td>0.349</td>\n",
       "      <td>-0.157</td>\n",
       "      <td>0.587</td>\n",
       "      <td>-1.000</td>\n",
       "      <td>0.687</td>\n",
       "      <td>1.000</td>\n",
       "      <td>-0.905</td>\n",
       "      <td>-0.905</td>\n",
       "      <td>-0.983</td>\n",
       "      <td>-1.000</td>\n",
       "      <td>0.071</td>\n",
       "      <td>-1.000</td>\n",
       "      <td>-1.000</td>\n",
       "      <td>-1.000</td>\n",
       "      <td>...</td>\n",
       "      <td>-0.061</td>\n",
       "      <td>-0.917</td>\n",
       "      <td>-0.879</td>\n",
       "      <td>-1.000</td>\n",
       "      <td>-0.473</td>\n",
       "      <td>1.000</td>\n",
       "      <td>0.714</td>\n",
       "      <td>0.156</td>\n",
       "      <td>-0.083</td>\n",
       "      <td>-0.389</td>\n",
       "      <td>-0.083</td>\n",
       "      <td>0.187</td>\n",
       "      <td>-0.125</td>\n",
       "      <td>-0.125</td>\n",
       "      <td>-0.125</td>\n",
       "      <td>-0.625</td>\n",
       "      <td>-0.625</td>\n",
       "      <td>0.187</td>\n",
       "      <td>-0.083</td>\n",
       "      <td>-0.200</td>\n",
       "      <td>0.458</td>\n",
       "      <td>-0.625</td>\n",
       "      <td>-1.000</td>\n",
       "      <td>-0.952</td>\n",
       "      <td>-0.591</td>\n",
       "      <td>-0.929</td>\n",
       "      <td>-0.879</td>\n",
       "      <td>0.045</td>\n",
       "      <td>-1.000</td>\n",
       "      <td>-0.969</td>\n",
       "      <td>-0.917</td>\n",
       "      <td>-0.902</td>\n",
       "      <td>0.661</td>\n",
       "      <td>-0.061</td>\n",
       "      <td>-0.902</td>\n",
       "      <td>-0.406</td>\n",
       "      <td>-0.667</td>\n",
       "      <td>-0.447</td>\n",
       "      <td>1.000</td>\n",
       "      <td>-0.571</td>\n",
       "    </tr>\n",
       "  </tbody>\n",
       "</table>\n",
       "<p>152336 rows × 114 columns</p>\n",
       "</div>"
      ],
      "text/plain": [
       "        assists_mean  boosts_mean  damageDealt_mean  ...    mmr    map  match_size\n",
       "109197        -1.000       -1.000            -1.000  ... -0.494 -1.000       0.000\n",
       "39892         -1.000       -0.524            -0.944  ... -0.460  1.000      -0.857\n",
       "120249        -1.000       -1.000            -0.970  ... -0.447  1.000      -0.571\n",
       "104403        -1.000       -0.714            -0.915  ... -0.476  1.000      -0.429\n",
       "130726        -1.000       -1.000            -0.902  ... -0.443  1.000      -0.429\n",
       "...              ...          ...               ...  ...    ...    ...         ...\n",
       "32399         -1.000       -0.810            -0.963  ... -0.466 -1.000      -0.714\n",
       "82584         -1.000       -0.810            -1.000  ... -0.460  1.000      -0.429\n",
       "121909        -0.905       -1.000            -0.884  ... -0.462  1.000      -0.286\n",
       "165158        -1.000       -0.619            -0.692  ... -0.484 -1.000      -0.143\n",
       "189139        -0.905       -0.905            -0.983  ... -0.447  1.000      -0.571\n",
       "\n",
       "[152336 rows x 114 columns]"
      ]
     },
     "execution_count": 60,
     "metadata": {
      "tags": []
     },
     "output_type": "execute_result"
    }
   ],
   "source": [
    "X_train"
   ]
  },
  {
   "cell_type": "markdown",
   "metadata": {
    "colab_type": "text",
    "id": "-iVGmRXD0JGT"
   },
   "source": [
    "###Logistic Regression\n",
    "LogisticRegression.proba 를 이용해 0~1 값 예측 가능할 것으로 예상"
   ]
  },
  {
   "cell_type": "code",
   "execution_count": null,
   "metadata": {
    "colab": {},
    "colab_type": "code",
    "id": "PCBHrPzVQiWg"
   },
   "outputs": [],
   "source": [
    "#lr = LogisticRegression()"
   ]
  },
  {
   "cell_type": "markdown",
   "metadata": {
    "colab_type": "text",
    "id": "6YUlAWCwRqH7"
   },
   "source": [
    "###Randomforest Regressor"
   ]
  },
  {
   "cell_type": "markdown",
   "metadata": {
    "colab_type": "text",
    "id": "-x4abC_5RqH7"
   },
   "source": [
    "rf_reg = RandomForestRegressor(n_estimators=15, random_state=0)\n",
    "\n",
    "print(rf_reg)\n",
    "rf_reg.fit(X_train, y_train)\n",
    "rf_pred = rf_reg.predict(X_test)\n",
    "\n",
    "accuracy = accuracy_score(y_test, rf_pred)\n",
    "mae = mean_squared_error(y_test, rf_pred)\n",
    "print('MAE:{0:.4f} '.format(mae))"
   ]
  },
  {
   "cell_type": "markdown",
   "metadata": {
    "colab_type": "text",
    "id": "82mA49IWRqH_"
   },
   "source": [
    "params = {'n_estimators':[100,300,500],\n",
    "    'max_depth' : [10, 15], \n",
    "    'min_samples_leaf' : [3, 7],\n",
    "    #'min_samples_split' : [2, 6, 12, 16]\n",
    "    }\n",
    "\n",
    "\n",
    "start_time = time.time()\n",
    "\n",
    "grid_cv = GridSearchCV(rf_reg , param_grid=params , cv=3, n_jobs=-1 )\n",
    "grid_cv.fit(X_train , y_train)\n",
    "\n",
    "print('최적 하이퍼 파라미터:', grid_cv.best_params_)\n",
    "print('최고 예측 정확도: {0:.4f}'.format(grid_cv.best_score_))\n",
    "\n",
    "print(\"걸린 시간(초) :\", time.time() - start_time)\n",
    "\n",
    "best_dclf = grid_cv. best_estimator_\n",
    "dpredictions = best_dclf.predict(X_test)\n",
    "accuracy = accuracy_score(y_test, dpredictions)\n",
    "print('테스트 세트에서의 정확도 : {0:.4f}'.format(accuracy))"
   ]
  },
  {
   "cell_type": "markdown",
   "metadata": {
    "colab_type": "text",
    "id": "F0ffT6i1RqH_"
   },
   "source": [
    "### LGBM Regressor"
   ]
  },
  {
   "cell_type": "code",
   "execution_count": null,
   "metadata": {
    "colab": {},
    "colab_type": "code",
    "id": "octTRxndRqIA"
   },
   "outputs": [],
   "source": [
    "params_full = {\"objective\" : [\"regression\"],\n",
    "          'n_estimators': [100, 500, 2000], \n",
    "          \"num_leaves\" : [10, 15, 20, 30],\n",
    "          \"learning_rate\" : [0.03, 0.05, 0.1],\n",
    "          \"bagging_fraction\" : [0.7],\n",
    "          \"bagging_seed\" : [0],\n",
    "          \"num_threads\" : [2,4,8],\n",
    "          \"colsample_bytree\" : [0.7],\n",
    "          #\"device\" : \"gpu\"\n",
    "          }\n",
    "\n",
    "params = {'n_estimators': [200],\n",
    "          'learning_rate' : [0.03],\n",
    "          #'min_child_samples' : [1, 3, 5, 20],\n",
    "          'num_leaves' : [10, 15, 20],\n",
    "          \"num_threads\" : [4],\n",
    "           'max_depth' : [10, 15, 20],\n",
    "          \"bagging_fraction\" : [0.5, 0.7, 0.9],\n",
    "          }\n",
    "\n",
    "fit_params={\"early_stopping_rounds\": 50, \n",
    "            \"eval_metric\" : \"mae\", \n",
    "            \"eval_set\" : [[X_test, y_test]]\n",
    "            }"
   ]
  },
  {
   "cell_type": "code",
   "execution_count": null,
   "metadata": {
    "colab": {
     "base_uri": "https://localhost:8080/",
     "height": 34
    },
    "colab_type": "code",
    "executionInfo": {
     "elapsed": 121221,
     "status": "ok",
     "timestamp": 1597809442203,
     "user": {
      "displayName": "JJ Se",
      "photoUrl": "https://lh3.googleusercontent.com/a-/AOh14Ghb03i_JlSjx_gLyZx-WE1vWYSIsR6GZ-Wv8dClpA=s64",
      "userId": "04495440602003989745"
     },
     "user_tz": -540
    },
    "id": "hXSeZur4RqIB",
    "outputId": "5b22e0b6-1221-4b34-c665-93bf6ab220d3"
   },
   "outputs": [
    {
     "name": "stdout",
     "output_type": "stream",
     "text": [
      "LGBM MAE:0.0627\n"
     ]
    }
   ],
   "source": [
    "lgbm_reg = LGBMRegressor()\n",
    "lgbm_reg.fit(X_train, y_train, eval_metric='mae', verbose = False,\n",
    "             #eval_set=[(X_test, y_test)]) #eval_metric 기본값 rmse(회m귀), error(분류)\n",
    "            )\n",
    "             # eval_set:성능평가를 수행할 테스트 데이터 세트.\n",
    "lgbm_pred = lgbm_reg.predict(X_test)\n",
    "\n",
    "mae = mean_absolute_error(y_test,lgbm_pred)\n",
    "#acc = accuracy_score(y_test,lgbm_pred)\n",
    "print('LGBM MAE:{0:.4f}'.format(mae))"
   ]
  },
  {
   "cell_type": "code",
   "execution_count": null,
   "metadata": {
    "colab": {
     "base_uri": "https://localhost:8080/",
     "height": 1000
    },
    "colab_type": "code",
    "executionInfo": {
     "elapsed": 1258304,
     "status": "ok",
     "timestamp": 1597810579308,
     "user": {
      "displayName": "JJ Se",
      "photoUrl": "https://lh3.googleusercontent.com/a-/AOh14Ghb03i_JlSjx_gLyZx-WE1vWYSIsR6GZ-Wv8dClpA=s64",
      "userId": "04495440602003989745"
     },
     "user_tz": -540
    },
    "id": "97Z7C3fKRqIC",
    "outputId": "07ab6b9d-8b56-4ff4-88e0-98175810d4c4"
   },
   "outputs": [
    {
     "name": "stdout",
     "output_type": "stream",
     "text": [
      "[1]\tvalid_0's l2: 0.0890414\tvalid_0's l1: 0.259948\n",
      "Training until validation scores don't improve for 50 rounds.\n",
      "[2]\tvalid_0's l2: 0.0847486\tvalid_0's l1: 0.253384\n",
      "[3]\tvalid_0's l2: 0.0806764\tvalid_0's l1: 0.24697\n",
      "[4]\tvalid_0's l2: 0.0768711\tvalid_0's l1: 0.240861\n",
      "[5]\tvalid_0's l2: 0.0732578\tvalid_0's l1: 0.234877\n",
      "[6]\tvalid_0's l2: 0.06988\tvalid_0's l1: 0.229162\n",
      "[7]\tvalid_0's l2: 0.0667015\tvalid_0's l1: 0.223651\n",
      "[8]\tvalid_0's l2: 0.0636617\tvalid_0's l1: 0.218232\n",
      "[9]\tvalid_0's l2: 0.0608353\tvalid_0's l1: 0.213106\n",
      "[10]\tvalid_0's l2: 0.0581412\tvalid_0's l1: 0.208083\n",
      "[11]\tvalid_0's l2: 0.0555761\tvalid_0's l1: 0.203157\n",
      "[12]\tvalid_0's l2: 0.0531642\tvalid_0's l1: 0.198428\n",
      "[13]\tvalid_0's l2: 0.0509052\tvalid_0's l1: 0.193919\n",
      "[14]\tvalid_0's l2: 0.0488037\tvalid_0's l1: 0.189624\n",
      "[15]\tvalid_0's l2: 0.0467949\tvalid_0's l1: 0.185398\n",
      "[16]\tvalid_0's l2: 0.0448823\tvalid_0's l1: 0.181306\n",
      "[17]\tvalid_0's l2: 0.0431187\tvalid_0's l1: 0.177453\n",
      "[18]\tvalid_0's l2: 0.0414086\tvalid_0's l1: 0.173619\n",
      "[19]\tvalid_0's l2: 0.0397945\tvalid_0's l1: 0.169909\n",
      "[20]\tvalid_0's l2: 0.0383073\tvalid_0's l1: 0.166436\n",
      "[21]\tvalid_0's l2: 0.0368741\tvalid_0's l1: 0.163021\n",
      "[22]\tvalid_0's l2: 0.0355107\tvalid_0's l1: 0.159718\n",
      "[23]\tvalid_0's l2: 0.0342561\tvalid_0's l1: 0.156611\n",
      "[24]\tvalid_0's l2: 0.0330295\tvalid_0's l1: 0.153504\n",
      "[25]\tvalid_0's l2: 0.0318702\tvalid_0's l1: 0.150493\n",
      "[26]\tvalid_0's l2: 0.0307829\tvalid_0's l1: 0.147602\n",
      "[27]\tvalid_0's l2: 0.0297536\tvalid_0's l1: 0.144841\n",
      "[28]\tvalid_0's l2: 0.0287589\tvalid_0's l1: 0.142139\n",
      "[29]\tvalid_0's l2: 0.0278544\tvalid_0's l1: 0.139595\n",
      "[30]\tvalid_0's l2: 0.0269572\tvalid_0's l1: 0.137053\n",
      "[31]\tvalid_0's l2: 0.0261412\tvalid_0's l1: 0.13465\n",
      "[32]\tvalid_0's l2: 0.0253422\tvalid_0's l1: 0.132287\n",
      "[33]\tvalid_0's l2: 0.024571\tvalid_0's l1: 0.129992\n",
      "[34]\tvalid_0's l2: 0.0238902\tvalid_0's l1: 0.127898\n",
      "[35]\tvalid_0's l2: 0.0232237\tvalid_0's l1: 0.125807\n",
      "[36]\tvalid_0's l2: 0.0225726\tvalid_0's l1: 0.123752\n",
      "[37]\tvalid_0's l2: 0.0219739\tvalid_0's l1: 0.12183\n",
      "[38]\tvalid_0's l2: 0.0214128\tvalid_0's l1: 0.119986\n",
      "[39]\tvalid_0's l2: 0.0208658\tvalid_0's l1: 0.118165\n",
      "[40]\tvalid_0's l2: 0.0203502\tvalid_0's l1: 0.116421\n",
      "[41]\tvalid_0's l2: 0.0198721\tvalid_0's l1: 0.114774\n",
      "[42]\tvalid_0's l2: 0.0194215\tvalid_0's l1: 0.113212\n",
      "[43]\tvalid_0's l2: 0.0189857\tvalid_0's l1: 0.111663\n",
      "[44]\tvalid_0's l2: 0.0185718\tvalid_0's l1: 0.110182\n",
      "[45]\tvalid_0's l2: 0.0181559\tvalid_0's l1: 0.108691\n",
      "[46]\tvalid_0's l2: 0.0178023\tvalid_0's l1: 0.107397\n",
      "[47]\tvalid_0's l2: 0.0174574\tvalid_0's l1: 0.106118\n",
      "[48]\tvalid_0's l2: 0.0171268\tvalid_0's l1: 0.104864\n",
      "[49]\tvalid_0's l2: 0.0168238\tvalid_0's l1: 0.103697\n",
      "[50]\tvalid_0's l2: 0.0165225\tvalid_0's l1: 0.102516\n",
      "[51]\tvalid_0's l2: 0.0162463\tvalid_0's l1: 0.101419\n",
      "[52]\tvalid_0's l2: 0.01598\tvalid_0's l1: 0.100348\n",
      "[53]\tvalid_0's l2: 0.0157291\tvalid_0's l1: 0.0993468\n",
      "[54]\tvalid_0's l2: 0.0154723\tvalid_0's l1: 0.0982943\n",
      "[55]\tvalid_0's l2: 0.0152266\tvalid_0's l1: 0.0972996\n",
      "[56]\tvalid_0's l2: 0.0150083\tvalid_0's l1: 0.0963913\n",
      "[57]\tvalid_0's l2: 0.0147835\tvalid_0's l1: 0.0954752\n",
      "[58]\tvalid_0's l2: 0.0145355\tvalid_0's l1: 0.0944822\n",
      "[59]\tvalid_0's l2: 0.0143404\tvalid_0's l1: 0.0936593\n",
      "[60]\tvalid_0's l2: 0.0141374\tvalid_0's l1: 0.0928307\n",
      "[61]\tvalid_0's l2: 0.0139714\tvalid_0's l1: 0.0921025\n",
      "[62]\tvalid_0's l2: 0.0137843\tvalid_0's l1: 0.0913393\n",
      "[63]\tvalid_0's l2: 0.0136195\tvalid_0's l1: 0.0906474\n",
      "[64]\tvalid_0's l2: 0.0134273\tvalid_0's l1: 0.089859\n",
      "[65]\tvalid_0's l2: 0.013275\tvalid_0's l1: 0.0891981\n",
      "[66]\tvalid_0's l2: 0.013125\tvalid_0's l1: 0.0885505\n",
      "[67]\tvalid_0's l2: 0.0129735\tvalid_0's l1: 0.0878722\n",
      "[68]\tvalid_0's l2: 0.0128336\tvalid_0's l1: 0.0872443\n",
      "[69]\tvalid_0's l2: 0.0127149\tvalid_0's l1: 0.0867111\n",
      "[70]\tvalid_0's l2: 0.0125897\tvalid_0's l1: 0.0861487\n",
      "[71]\tvalid_0's l2: 0.0124595\tvalid_0's l1: 0.0855531\n",
      "[72]\tvalid_0's l2: 0.0123419\tvalid_0's l1: 0.0850282\n",
      "[73]\tvalid_0's l2: 0.0122304\tvalid_0's l1: 0.0845255\n",
      "[74]\tvalid_0's l2: 0.0121008\tvalid_0's l1: 0.0839775\n",
      "[75]\tvalid_0's l2: 0.0119902\tvalid_0's l1: 0.0834607\n",
      "[76]\tvalid_0's l2: 0.0118957\tvalid_0's l1: 0.0830447\n",
      "[77]\tvalid_0's l2: 0.0118007\tvalid_0's l1: 0.0825979\n",
      "[78]\tvalid_0's l2: 0.0117026\tvalid_0's l1: 0.0821305\n",
      "[79]\tvalid_0's l2: 0.0116141\tvalid_0's l1: 0.0817266\n",
      "[80]\tvalid_0's l2: 0.0115245\tvalid_0's l1: 0.0813254\n",
      "[81]\tvalid_0's l2: 0.0114479\tvalid_0's l1: 0.0809606\n",
      "[82]\tvalid_0's l2: 0.0113632\tvalid_0's l1: 0.0805588\n",
      "[83]\tvalid_0's l2: 0.0112846\tvalid_0's l1: 0.0801993\n",
      "[84]\tvalid_0's l2: 0.0112173\tvalid_0's l1: 0.0798833\n",
      "[85]\tvalid_0's l2: 0.0111426\tvalid_0's l1: 0.0795292\n",
      "[86]\tvalid_0's l2: 0.0110831\tvalid_0's l1: 0.0792362\n",
      "[87]\tvalid_0's l2: 0.0110166\tvalid_0's l1: 0.0789074\n",
      "[88]\tvalid_0's l2: 0.0109575\tvalid_0's l1: 0.0786123\n",
      "[89]\tvalid_0's l2: 0.010898\tvalid_0's l1: 0.0783268\n",
      "[90]\tvalid_0's l2: 0.01084\tvalid_0's l1: 0.0780478\n",
      "[91]\tvalid_0's l2: 0.0107779\tvalid_0's l1: 0.0777628\n",
      "[92]\tvalid_0's l2: 0.0107071\tvalid_0's l1: 0.0774484\n",
      "[93]\tvalid_0's l2: 0.0106589\tvalid_0's l1: 0.0772037\n",
      "[94]\tvalid_0's l2: 0.0106147\tvalid_0's l1: 0.0769675\n",
      "[95]\tvalid_0's l2: 0.0105596\tvalid_0's l1: 0.0767259\n",
      "[96]\tvalid_0's l2: 0.0105158\tvalid_0's l1: 0.0764956\n",
      "[97]\tvalid_0's l2: 0.0104704\tvalid_0's l1: 0.0762549\n",
      "[98]\tvalid_0's l2: 0.0104206\tvalid_0's l1: 0.0760135\n",
      "[99]\tvalid_0's l2: 0.0103781\tvalid_0's l1: 0.075791\n",
      "[100]\tvalid_0's l2: 0.0103365\tvalid_0's l1: 0.075571\n",
      "[101]\tvalid_0's l2: 0.0102898\tvalid_0's l1: 0.0753509\n",
      "[102]\tvalid_0's l2: 0.0102478\tvalid_0's l1: 0.0751488\n",
      "[103]\tvalid_0's l2: 0.0102094\tvalid_0's l1: 0.0749359\n",
      "[104]\tvalid_0's l2: 0.0101752\tvalid_0's l1: 0.0747578\n",
      "[105]\tvalid_0's l2: 0.0101382\tvalid_0's l1: 0.0745723\n",
      "[106]\tvalid_0's l2: 0.0101023\tvalid_0's l1: 0.0743942\n",
      "[107]\tvalid_0's l2: 0.0100676\tvalid_0's l1: 0.0742073\n",
      "[108]\tvalid_0's l2: 0.0100323\tvalid_0's l1: 0.0740353\n",
      "[109]\tvalid_0's l2: 0.0100026\tvalid_0's l1: 0.0738903\n",
      "[110]\tvalid_0's l2: 0.00996843\tvalid_0's l1: 0.073726\n",
      "[111]\tvalid_0's l2: 0.00992394\tvalid_0's l1: 0.0735377\n",
      "[112]\tvalid_0's l2: 0.00989153\tvalid_0's l1: 0.0733735\n",
      "[113]\tvalid_0's l2: 0.00986373\tvalid_0's l1: 0.0732277\n",
      "[114]\tvalid_0's l2: 0.0098201\tvalid_0's l1: 0.0730433\n",
      "[115]\tvalid_0's l2: 0.00979435\tvalid_0's l1: 0.0728995\n",
      "[116]\tvalid_0's l2: 0.00976603\tvalid_0's l1: 0.0727609\n",
      "[117]\tvalid_0's l2: 0.00973848\tvalid_0's l1: 0.0726296\n",
      "[118]\tvalid_0's l2: 0.00971432\tvalid_0's l1: 0.0724953\n",
      "[119]\tvalid_0's l2: 0.00969045\tvalid_0's l1: 0.0723721\n",
      "[120]\tvalid_0's l2: 0.00966103\tvalid_0's l1: 0.0722261\n",
      "[121]\tvalid_0's l2: 0.00962985\tvalid_0's l1: 0.0720923\n",
      "[122]\tvalid_0's l2: 0.00959606\tvalid_0's l1: 0.0719357\n",
      "[123]\tvalid_0's l2: 0.00957399\tvalid_0's l1: 0.0718169\n",
      "[124]\tvalid_0's l2: 0.00955179\tvalid_0's l1: 0.071703\n",
      "[125]\tvalid_0's l2: 0.00953075\tvalid_0's l1: 0.0715923\n",
      "[126]\tvalid_0's l2: 0.00950565\tvalid_0's l1: 0.0714709\n",
      "[127]\tvalid_0's l2: 0.00948625\tvalid_0's l1: 0.07137\n",
      "[128]\tvalid_0's l2: 0.00946605\tvalid_0's l1: 0.0712686\n",
      "[129]\tvalid_0's l2: 0.00944558\tvalid_0's l1: 0.0711773\n",
      "[130]\tvalid_0's l2: 0.00942557\tvalid_0's l1: 0.0710756\n",
      "[131]\tvalid_0's l2: 0.00940483\tvalid_0's l1: 0.0709762\n",
      "[132]\tvalid_0's l2: 0.0093874\tvalid_0's l1: 0.0708943\n",
      "[133]\tvalid_0's l2: 0.00936991\tvalid_0's l1: 0.0708039\n",
      "[134]\tvalid_0's l2: 0.00934802\tvalid_0's l1: 0.0707054\n",
      "[135]\tvalid_0's l2: 0.0093295\tvalid_0's l1: 0.0706141\n",
      "[136]\tvalid_0's l2: 0.00931126\tvalid_0's l1: 0.0705201\n",
      "[137]\tvalid_0's l2: 0.00929133\tvalid_0's l1: 0.0704281\n",
      "[138]\tvalid_0's l2: 0.00927821\tvalid_0's l1: 0.0703596\n",
      "[139]\tvalid_0's l2: 0.00925222\tvalid_0's l1: 0.0702441\n",
      "[140]\tvalid_0's l2: 0.0092374\tvalid_0's l1: 0.0701695\n",
      "[141]\tvalid_0's l2: 0.00922215\tvalid_0's l1: 0.0700909\n",
      "[142]\tvalid_0's l2: 0.00920411\tvalid_0's l1: 0.0700127\n",
      "[143]\tvalid_0's l2: 0.00919009\tvalid_0's l1: 0.0699329\n",
      "[144]\tvalid_0's l2: 0.00915782\tvalid_0's l1: 0.0698016\n",
      "[145]\tvalid_0's l2: 0.00914325\tvalid_0's l1: 0.0697336\n",
      "[146]\tvalid_0's l2: 0.0091272\tvalid_0's l1: 0.0696639\n",
      "[147]\tvalid_0's l2: 0.00910151\tvalid_0's l1: 0.0695349\n",
      "[148]\tvalid_0's l2: 0.00908239\tvalid_0's l1: 0.0694471\n",
      "[149]\tvalid_0's l2: 0.00906746\tvalid_0's l1: 0.0693753\n",
      "[150]\tvalid_0's l2: 0.00905415\tvalid_0's l1: 0.0693176\n",
      "[151]\tvalid_0's l2: 0.00903146\tvalid_0's l1: 0.0692062\n",
      "[152]\tvalid_0's l2: 0.00901725\tvalid_0's l1: 0.0691394\n",
      "[153]\tvalid_0's l2: 0.00900559\tvalid_0's l1: 0.0690834\n",
      "[154]\tvalid_0's l2: 0.0089803\tvalid_0's l1: 0.0689789\n",
      "[155]\tvalid_0's l2: 0.00896933\tvalid_0's l1: 0.068916\n",
      "[156]\tvalid_0's l2: 0.00895746\tvalid_0's l1: 0.0688591\n",
      "[157]\tvalid_0's l2: 0.00893895\tvalid_0's l1: 0.0687791\n",
      "[158]\tvalid_0's l2: 0.00892622\tvalid_0's l1: 0.0687233\n",
      "[159]\tvalid_0's l2: 0.00891501\tvalid_0's l1: 0.0686608\n",
      "[160]\tvalid_0's l2: 0.00890211\tvalid_0's l1: 0.0686101\n",
      "[161]\tvalid_0's l2: 0.00887942\tvalid_0's l1: 0.0685134\n",
      "[162]\tvalid_0's l2: 0.00886893\tvalid_0's l1: 0.0684552\n",
      "[163]\tvalid_0's l2: 0.00885899\tvalid_0's l1: 0.0684038\n",
      "[164]\tvalid_0's l2: 0.00884243\tvalid_0's l1: 0.0683295\n",
      "[165]\tvalid_0's l2: 0.00882328\tvalid_0's l1: 0.068249\n",
      "[166]\tvalid_0's l2: 0.00881452\tvalid_0's l1: 0.0682089\n",
      "[167]\tvalid_0's l2: 0.00880513\tvalid_0's l1: 0.0681617\n",
      "[168]\tvalid_0's l2: 0.00879691\tvalid_0's l1: 0.0681187\n",
      "[169]\tvalid_0's l2: 0.0087895\tvalid_0's l1: 0.0680855\n",
      "[170]\tvalid_0's l2: 0.00877999\tvalid_0's l1: 0.0680388\n",
      "[171]\tvalid_0's l2: 0.00877206\tvalid_0's l1: 0.0679899\n",
      "[172]\tvalid_0's l2: 0.00875768\tvalid_0's l1: 0.06792\n",
      "[173]\tvalid_0's l2: 0.00874947\tvalid_0's l1: 0.0678797\n",
      "[174]\tvalid_0's l2: 0.00874151\tvalid_0's l1: 0.0678399\n",
      "[175]\tvalid_0's l2: 0.00873433\tvalid_0's l1: 0.0678043\n",
      "[176]\tvalid_0's l2: 0.00872551\tvalid_0's l1: 0.0677604\n",
      "[177]\tvalid_0's l2: 0.00871772\tvalid_0's l1: 0.0677227\n",
      "[178]\tvalid_0's l2: 0.00870468\tvalid_0's l1: 0.0676573\n",
      "[179]\tvalid_0's l2: 0.00868339\tvalid_0's l1: 0.0675707\n",
      "[180]\tvalid_0's l2: 0.00867585\tvalid_0's l1: 0.0675332\n",
      "[181]\tvalid_0's l2: 0.00866737\tvalid_0's l1: 0.0674898\n",
      "[182]\tvalid_0's l2: 0.00866004\tvalid_0's l1: 0.0674443\n",
      "[183]\tvalid_0's l2: 0.00865311\tvalid_0's l1: 0.0674172\n",
      "[184]\tvalid_0's l2: 0.00864642\tvalid_0's l1: 0.0673849\n",
      "[185]\tvalid_0's l2: 0.00863966\tvalid_0's l1: 0.0673532\n",
      "[186]\tvalid_0's l2: 0.00862847\tvalid_0's l1: 0.0673122\n",
      "[187]\tvalid_0's l2: 0.00860905\tvalid_0's l1: 0.0672354\n",
      "[188]\tvalid_0's l2: 0.00860047\tvalid_0's l1: 0.0671986\n",
      "[189]\tvalid_0's l2: 0.00859364\tvalid_0's l1: 0.0671584\n",
      "[190]\tvalid_0's l2: 0.00858841\tvalid_0's l1: 0.0671293\n",
      "[191]\tvalid_0's l2: 0.00858258\tvalid_0's l1: 0.0671048\n",
      "[192]\tvalid_0's l2: 0.0085752\tvalid_0's l1: 0.0670677\n",
      "[193]\tvalid_0's l2: 0.00856814\tvalid_0's l1: 0.0670396\n",
      "[194]\tvalid_0's l2: 0.00855974\tvalid_0's l1: 0.0670064\n",
      "[195]\tvalid_0's l2: 0.00854208\tvalid_0's l1: 0.0669369\n",
      "[196]\tvalid_0's l2: 0.00853648\tvalid_0's l1: 0.066911\n",
      "[197]\tvalid_0's l2: 0.0085306\tvalid_0's l1: 0.0668847\n",
      "[198]\tvalid_0's l2: 0.00852486\tvalid_0's l1: 0.0668531\n",
      "[199]\tvalid_0's l2: 0.00851753\tvalid_0's l1: 0.0668178\n",
      "[200]\tvalid_0's l2: 0.00851188\tvalid_0's l1: 0.0667934\n",
      "Did not meet early stopping. Best iteration is:\n",
      "[200]\tvalid_0's l2: 0.00851188\tvalid_0's l1: 0.0667934\n",
      "최적 하이퍼 파라미터:\n",
      " {'bagging_fraction': 0.5, 'learning_rate': 0.03, 'max_depth': 15, 'n_estimators': 200, 'num_leaves': 20, 'num_threads': 4}\n",
      "최고 예측 정확도: 0.9073\n",
      "LGBM 수행 시간: 1136.7 초 \n",
      "테스트 세트에서의 LGBM MAE: 0.0668\n"
     ]
    }
   ],
   "source": [
    "# GridSearchCV\n",
    "start_time = time.time()\n",
    "\n",
    "grid_cv = GridSearchCV(lgbm_reg, param_grid=params, cv=3 ,verbose= False, n_jobs = -1)\n",
    "grid_cv.fit(X_train , y_train, **fit_params)\n",
    "print('최적 하이퍼 파라미터:\\n', grid_cv.best_params_)\n",
    "print('최고 예측 정확도: {0:.4f}'.format(grid_cv.best_score_))\n",
    "print(\"LGBM 수행 시간: {0:.1f} 초 \".format(time.time() - start_time))\n",
    "\n",
    "best_dclf = grid_cv.best_estimator_\n",
    "predictions = best_dclf.predict(X_test)\n",
    "mae = mean_absolute_error(y_test, predictions)\n",
    "#acc = accuracy_score(y_test,dpredictions)\n",
    "\n",
    "print('테스트 세트에서의 LGBM MAE: {0:.4f}'.format(mae))"
   ]
  },
  {
   "cell_type": "code",
   "execution_count": null,
   "metadata": {
    "colab": {
     "base_uri": "https://localhost:8080/",
     "height": 498
    },
    "colab_type": "code",
    "executionInfo": {
     "elapsed": 1258691,
     "status": "ok",
     "timestamp": 1597810579724,
     "user": {
      "displayName": "JJ Se",
      "photoUrl": "https://lh3.googleusercontent.com/a-/AOh14Ghb03i_JlSjx_gLyZx-WE1vWYSIsR6GZ-Wv8dClpA=s64",
      "userId": "04495440602003989745"
     },
     "user_tz": -540
    },
    "id": "YD2wLHwIRqIE",
    "outputId": "ff02f943-f2be-4bd7-f6df-bad9f1fb8760"
   },
   "outputs": [
    {
     "data": {
      "image/png": "[encoded data removed]",
      "text/plain": [
       "<Figure size 720x576 with 1 Axes>"
      ]
     },
     "metadata": {
      "needs_background": "light",
      "tags": []
     },
     "output_type": "display_data"
    }
   ],
   "source": [
    "from lightgbm import plot_importance \n",
    "\n",
    "ftr_importances_values = best_dclf.feature_importances_\n",
    "\n",
    "# Top 중요도로 정렬을 쉽게 하고, 시본(Seaborn)의 막대그래프로 쉽게 표현하기 위해 Series변환\n",
    "ftr_importances = pd.Series(ftr_importances_values, index=X_train.columns)\n",
    "\n",
    "# 중요도값 순으로 Series를 정렬\n",
    "ftr_top20 = ftr_importances.sort_values(ascending=False)[:30]\n",
    "plt.figure(figsize=(10,8))\n",
    "plt.title('Feature importances Top 30')\n",
    "sns.barplot(x=ftr_top20 , y = ftr_top20.index)\n",
    "plt.show()"
   ]
  },
  {
   "cell_type": "markdown",
   "metadata": {
    "colab_type": "text",
    "id": "xvUOcCOZRqIG"
   },
   "source": [
    "###DNN"
   ]
  },
  {
   "cell_type": "code",
   "execution_count": null,
   "metadata": {
    "colab": {},
    "colab_type": "code",
    "id": "KLfVh1tQnbuL"
   },
   "outputs": [],
   "source": [
    "def Scaler_Q(x):\n",
    "  QuantileTransformer().fit_transform(x)\n",
    "  return x"
   ]
  },
  {
   "cell_type": "code",
   "execution_count": null,
   "metadata": {
    "colab": {},
    "colab_type": "code",
    "id": "-_JtdsHTnnLG"
   },
   "outputs": [],
   "source": [
    "X2 = Scaler(X)"
   ]
  },
  {
   "cell_type": "code",
   "execution_count": null,
   "metadata": {
    "colab": {},
    "colab_type": "code",
    "id": "gIfI-mj-qsx7"
   },
   "outputs": [],
   "source": [
    "X2"
   ]
  },
  {
   "cell_type": "code",
   "execution_count": null,
   "metadata": {
    "colab": {},
    "colab_type": "code",
    "id": "jXD1iuXJqYax"
   },
   "outputs": [],
   "source": [
    "X_train, X_test, y_train, y_test = train_test_split(X2, y, test_size = 0.2, random_state = 1234)"
   ]
  },
  {
   "cell_type": "code",
   "execution_count": null,
   "metadata": {
    "colab": {},
    "colab_type": "code",
    "id": "za6l4Rj1m5nj"
   },
   "outputs": [],
   "source": [
    "Optimizer = optimizers.Adam(lr=0.01, epsilon=1e-8, decay=1e-4, amsgrad=False)"
   ]
  },
  {
   "cell_type": "code",
   "execution_count": null,
   "metadata": {
    "colab": {},
    "colab_type": "code",
    "id": "y9WsHJmNRqIG"
   },
   "outputs": [],
   "source": [
    "def create_model(X_train, y_train = None):\n",
    "        model = tf.keras.models.Sequential([\n",
    "        tf.keras.layers.Dense(512, kernel_initializer='he_normal', activation = 'elu', input_shape = (X_train.shape[1],)),\n",
    "        #tf.keras.layers.Dropout(0.3),\n",
    "        tf.keras.layers.Dense(256, kernel_initializer='he_normal', activation = 'elu'),\n",
    "        #tf.keras.layers.Dropout(0.3),\n",
    "        tf.keras.layers.Dense(128, kernel_initializer='he_normal', activation = 'elu'),\n",
    "        #tf.keras.layers.Dropout(0.3),\n",
    "        tf.keras.layers.Dense(64, kernel_initializer='he_normal', activation = 'elu'),\n",
    "        #tf.keras.layers.Dropout(0.3),\n",
    "        tf.keras.layers.Dense(1, kernel_initializer='normal', activation = 'sigmoid')\n",
    "        ])\n",
    "    \n",
    "        model.compile(optimizer= 'Adam',\n",
    "                      loss='mse',\n",
    "                      metrics=['mae'])\n",
    "    \n",
    "        return model"
   ]
  },
  {
   "cell_type": "code",
   "execution_count": null,
   "metadata": {
    "colab": {},
    "colab_type": "code",
    "id": "75ubq7SrRqIH"
   },
   "outputs": [],
   "source": [
    "model = create_model(X_train)\n",
    "model.summary()"
   ]
  },
  {
   "cell_type": "code",
   "execution_count": null,
   "metadata": {
    "colab": {},
    "colab_type": "code",
    "id": "tfBd2msVRqIJ"
   },
   "outputs": [],
   "source": [
    "model.fit(X_train, y_train, \n",
    "          epochs=30,\n",
    "          validation_split = 0.2,\n",
    "          batch_size = 512,\n",
    "          #callbacks = [cp_callback]\n",
    "          )"
   ]
  },
  {
   "cell_type": "code",
   "execution_count": null,
   "metadata": {
    "colab": {},
    "colab_type": "code",
    "id": "VPDni5g3fW4z"
   },
   "outputs": [],
   "source": [
    "model.evaluate(X_test, y_test)"
   ]
  },
  {
   "cell_type": "code",
   "execution_count": null,
   "metadata": {
    "colab": {},
    "colab_type": "code",
    "id": "f1-4nuQgMUa2"
   },
   "outputs": [],
   "source": [
    "NN_predictions = model.predict(X_test)"
   ]
  },
  {
   "cell_type": "markdown",
   "metadata": {
    "colab_type": "text",
    "id": "ywVf23kzPR_n"
   },
   "source": [
    "#Submission"
   ]
  },
  {
   "cell_type": "markdown",
   "metadata": {
    "colab_type": "text",
    "id": "C8E8bLwu0Wbj"
   },
   "source": [
    "test = test_origin.copy()\n",
    "test = reduce_mem_usage(test)"
   ]
  },
  {
   "cell_type": "markdown",
   "metadata": {
    "colab_type": "text",
    "id": "ikoGevCezTy3"
   },
   "source": [
    "###test 파일 내용 확인"
   ]
  },
  {
   "cell_type": "markdown",
   "metadata": {
    "colab_type": "text",
    "id": "dCAFiWIdz0rq"
   },
   "source": [
    "test['matchType'].value_counts()"
   ]
  },
  {
   "cell_type": "markdown",
   "metadata": {
    "colab_type": "text",
    "id": "11lJ71Y4zW-S"
   },
   "source": [
    "plt.figure(figsize=(10,5))\n",
    "sns.barplot(x = test['matchType'].unique(),\n",
    "            y = test['matchType'].value_counts())\n",
    "test['matchType'].value_counts().plot.bar()"
   ]
  },
  {
   "cell_type": "markdown",
   "metadata": {
    "colab_type": "text",
    "id": "4KNW0kaK-bSo"
   },
   "source": [
    "test_id = test['Id']"
   ]
  },
  {
   "cell_type": "markdown",
   "metadata": {
    "colab_type": "text",
    "id": "LlvqL1In1p09"
   },
   "source": [
    "### OHE"
   ]
  },
  {
   "cell_type": "markdown",
   "metadata": {
    "colab_type": "text",
    "id": "GliFDdQ41riG"
   },
   "source": [
    "onehot_test = pd.get_dummies(test['matchType'])\n",
    "test = pd.concat([test, onehot_test], axis = 1)\n",
    "test.shape"
   ]
  },
  {
   "cell_type": "markdown",
   "metadata": {
    "colab_type": "text",
    "id": "LUZP2Hy8n5cP"
   },
   "source": [
    "###test 파일 col 변경"
   ]
  },
  {
   "cell_type": "markdown",
   "metadata": {
    "colab_type": "text",
    "id": "S5mLsFxPn8Ge"
   },
   "source": [
    "# test col 추가\n",
    "add_cols(test)\n",
    "\n",
    "# test col 삭제\n",
    "#test.drop(to_drop, axis = 1, inplace = True)\n",
    "test.drop(['Id', 'groupId', 'matchId', 'matchType'], axis = 1, inplace=True)\n",
    "test.drop(to_drop, axis = 1, inplace = True)\n",
    "\n",
    "test_columns = test.columns\n",
    "test = MinMaxScaler(feature_range=(0, 1)).fit_transform(test)\n",
    "test = pd.DataFrame(data = test, columns= test_columns)\n",
    "\n",
    "print(X.shape)\n",
    "print(test.shape)"
   ]
  },
  {
   "cell_type": "markdown",
   "metadata": {
    "colab_type": "text",
    "id": "U1Ee6z-bPUwV"
   },
   "source": [
    "### submission 만들기\n",
    "\n",
    "#### df_sub = test DF 로 모델 돌린 후 pred 전체 합치기\n",
    "print(\"Storing final submission to file...\")\n",
    "df_sub[[\"Id\", \"winPlacePerc\"]].to_csv(\"lgbm_submission_4_adjusted.csv\", index=False)\n",
    "dir must be 'kaggle/working' to submission\n",
    "print(\"Done.\")"
   ]
  },
  {
   "cell_type": "markdown",
   "metadata": {
    "colab_type": "text",
    "id": "vRmHGWRfTp_o"
   },
   "source": [
    "cd /kaggle/working/"
   ]
  },
  {
   "cell_type": "code",
   "execution_count": null,
   "metadata": {
    "colab": {},
    "colab_type": "code",
    "id": "6hZ4Npg-CzQH"
   },
   "outputs": [],
   "source": [
    "Scaler(test)\n",
    "\n",
    "predictions = model.predict(test) # M/L\n",
    "NN_predictions = model.predict(test) # D/L"
   ]
  },
  {
   "cell_type": "code",
   "execution_count": null,
   "metadata": {
    "colab": {},
    "colab_type": "code",
    "id": "Zl7V2-cLptmg"
   },
   "outputs": [],
   "source": [
    "predictions = np.clip(a = predictions, a_min = 0.0, a_max = 1.0)\n",
    "pred_df = pd.DataFrame({'Id' : test_id, 'winPlacePerc' : predictions})\n",
    " \n",
    "# Create submission file\n",
    "pred_df.to_csv(\"submission.csv\", index=False)"
   ]
  },
  {
   "cell_type": "code",
   "execution_count": null,
   "metadata": {
    "colab": {},
    "colab_type": "code",
    "id": "SsKouaixPx4K"
   },
   "outputs": [],
   "source": []
  }
 ],
 "metadata": {
  "colab": {
   "collapsed_sections": [],
   "name": "DAF_PUBG.ipynb",
   "provenance": [],
   "toc_visible": true
  },
  "kernelspec": {
   "display_name": "Python 3",
   "language": "python",
   "name": "python3"
  },
  "language_info": {
   "codemirror_mode": {
    "name": "ipython",
    "version": 3
   },
   "file_extension": ".py",
   "mimetype": "text/x-python",
   "name": "python",
   "nbconvert_exporter": "python",
   "pygments_lexer": "ipython3",
   "version": "3.8.3-final"
  }
 },
 "nbformat": 4,
 "nbformat_minor": 1
}